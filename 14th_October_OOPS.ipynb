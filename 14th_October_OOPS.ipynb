{
 "cells": [
  {
   "cell_type": "markdown",
   "id": "f8a84c94-3b59-4057-9df6-774509122631",
   "metadata": {},
   "source": [
    "Problem 1: Bank Account Create a class representing a bank account with attributes like account\n",
    "number, account holder name, and balance. Implement methods to deposit and withdraw\n",
    "money from the account.\n",
    "\n",
    "\n",
    "Problem 2: Employee Management Create a class representing an employee with attributes like\n",
    "employee ID, name, and salary. Implement methods to calculate the yearly bonus and display\n",
    "employee details.\n",
    "\n",
    "\n",
    "Problem 3: Vehicle Rental Create a class representing a vehicle rental system. Implement\n",
    "methods to rent a vehicle, return a vehicle, and display available vehicles.\n",
    "\n",
    "\n",
    "Problem 4: Library Catalog Create classes representing a library and a book. Implement\n",
    "methods to add books to the library, borrow books, and display available books.\n",
    "\n",
    "\n",
    "Problem 5: Product Inventory Create classes representing a product and an inventory system.\n",
    "Implement methods to add products to the inventory, update product quantity, and display\n",
    "available products.\n",
    "\n",
    "\n",
    "Problem 6: Shape Calculation Create a class representing a shape with attributes like length,\n",
    "width, and height. Implement methods to calculate the area and perimeter of the shape.\n",
    "\n",
    "\n",
    "Problem 7: Student Management Create a class representing a student with attributes like\n",
    "student ID, name, and grades. Implement methods to calculate the average grade and display\n",
    "student details.\n",
    "\n",
    "\n",
    "Problem 8: Email Management Create a class representing an email with attributes like sender,\n",
    "recipient, and subject. Implement methods to send an email and display email details.\n",
    "\n",
    "\n",
    "Problem 9: Social Media Profile Create a class representing a social media profile with attributes\n",
    "like username and posts. Implement methods to add posts, display posts, and search for posts\n",
    "by keyword.\n",
    "\n",
    "\n",
    "Problem 10: ToDo List Create a class representing a ToDo list with attributes like tasks and due\n",
    "dates. Implement methods to add tasks, mark tasks as completed, and display pending tasks."
   ]
  },
  {
   "cell_type": "code",
   "execution_count": null,
   "id": "406a20cd-8413-439f-ad87-a0d972733261",
   "metadata": {},
   "outputs": [],
   "source": []
  },
  {
   "cell_type": "markdown",
   "id": "1e41505f-8791-42f9-a5a4-690f508d8317",
   "metadata": {},
   "source": [
    "P1"
   ]
  },
  {
   "cell_type": "code",
   "execution_count": 3,
   "id": "0267d714-3fa4-4e7f-bc10-5ca2e3fb8140",
   "metadata": {},
   "outputs": [],
   "source": [
    "class BankAccount:\n",
    "    def __init__(self, account_number, account_holder, balance=0):\n",
    "        self.account_number = account_number\n",
    "        self.account_holder = account_holder\n",
    "        self.balance = balance\n",
    "\n",
    "    def deposit(self, amount):\n",
    "        self.balance += amount\n",
    "\n",
    "    def withdraw(self, amount):\n",
    "        if self.balance >= amount:\n",
    "            self.balance -= amount\n",
    "        else:\n",
    "            print(\"Insufficient balance.\")\n",
    "    \n",
    "    def printAmount(self):\n",
    "        print(self.balance)"
   ]
  },
  {
   "cell_type": "code",
   "execution_count": 4,
   "id": "b371bcbd-9da1-476f-8ace-163aaa2d2b3e",
   "metadata": {},
   "outputs": [
    {
     "name": "stdout",
     "output_type": "stream",
     "text": [
      "1500\n"
     ]
    }
   ],
   "source": [
    "account1 = BankAccount(\"12345\", \"John\", 1000)\n",
    "account1.deposit(500)\n",
    "account1.printAmount()"
   ]
  },
  {
   "cell_type": "code",
   "execution_count": 5,
   "id": "a8ae26ab-941b-44a5-b92f-b666020585fb",
   "metadata": {},
   "outputs": [
    {
     "name": "stdout",
     "output_type": "stream",
     "text": [
      "1200\n"
     ]
    }
   ],
   "source": [
    "account1.withdraw(300)\n",
    "account1.printAmount()"
   ]
  },
  {
   "cell_type": "code",
   "execution_count": null,
   "id": "19073792-acea-4059-8083-bf0b1237facc",
   "metadata": {},
   "outputs": [],
   "source": []
  },
  {
   "cell_type": "code",
   "execution_count": null,
   "id": "4c43d9cb-76e0-4498-9b53-3274bb6d8256",
   "metadata": {},
   "outputs": [],
   "source": []
  },
  {
   "cell_type": "markdown",
   "id": "9d17c03f-1bdc-4d6a-afad-39176754ac77",
   "metadata": {},
   "source": [
    "P2"
   ]
  },
  {
   "cell_type": "code",
   "execution_count": 6,
   "id": "efd6e0e8-3bb1-4a4e-99af-494ef6ef705f",
   "metadata": {},
   "outputs": [],
   "source": [
    "class Employee:\n",
    "    def __init__(self, employee_id, name, salary):\n",
    "        self.employee_id = employee_id\n",
    "        self.name = name\n",
    "        self.salary = salary\n",
    "\n",
    "    def calculate_bonus(self, bonus_percentage):\n",
    "        return (bonus_percentage / 100) * self.salary\n",
    "\n",
    "    def display_details(self):\n",
    "        print(f\"Employee ID: {self.employee_id}\")\n",
    "        print(f\"Name: {self.name}\")\n",
    "        print(f\"Salary: {self.salary}\")"
   ]
  },
  {
   "cell_type": "code",
   "execution_count": 7,
   "id": "1b0e60e9-fadf-4872-984d-eafd74e016f2",
   "metadata": {},
   "outputs": [
    {
     "name": "stdout",
     "output_type": "stream",
     "text": [
      "Employee ID: 1\n",
      "Name: Alice\n",
      "Salary: 50000\n",
      "Yearly Bonus: 5000.0\n"
     ]
    }
   ],
   "source": [
    "employee1 = Employee(1, \"Alice\", 50000)\n",
    "bonus = employee1.calculate_bonus(10)\n",
    "employee1.display_details()\n",
    "print(f\"Yearly Bonus: {bonus}\")"
   ]
  },
  {
   "cell_type": "code",
   "execution_count": null,
   "id": "0c70c9fd-0e11-46c1-8dc2-e244b03a457e",
   "metadata": {},
   "outputs": [],
   "source": []
  },
  {
   "cell_type": "code",
   "execution_count": null,
   "id": "07a0ce05-ac75-4356-941f-3dd07f29c934",
   "metadata": {},
   "outputs": [],
   "source": []
  },
  {
   "cell_type": "markdown",
   "id": "9c36d803-4d08-4d76-83a7-1838571644f4",
   "metadata": {},
   "source": [
    "P3"
   ]
  },
  {
   "cell_type": "code",
   "execution_count": 8,
   "id": "aa62d520-5446-4ba7-a2b4-352c7e5b469a",
   "metadata": {},
   "outputs": [],
   "source": [
    "class Vehicle:\n",
    "    def __init__(self, make, model, available=True):\n",
    "        self.make = make\n",
    "        self.model = model\n",
    "        self.available = available"
   ]
  },
  {
   "cell_type": "code",
   "execution_count": 9,
   "id": "be290e98-72a2-409a-a25c-03ec770b53fd",
   "metadata": {},
   "outputs": [],
   "source": [
    "class VehicleRentalSystem:\n",
    "    def __init__(self):\n",
    "        self.vehicles = []\n",
    "\n",
    "    def rent_vehicle(self, make, model):\n",
    "        for vehicle in self.vehicles:\n",
    "            if vehicle.make == make and vehicle.model == model and vehicle.available:\n",
    "                vehicle.available = False\n",
    "                return f\"Rented {make} {model}.\"\n",
    "        return \"Vehicle not available.\"\n",
    "\n",
    "    def return_vehicle(self, make, model):\n",
    "        for vehicle in self.vehicles:\n",
    "            if vehicle.make == make and vehicle.model == model and not vehicle.available:\n",
    "                vehicle.available = True\n",
    "                return f\"Returned {make} {model}.\"\n",
    "        return \"Invalid return or vehicle not found.\"\n",
    "\n",
    "    def display_available_vehicles(self):\n",
    "        available = [vehicle for vehicle in self.vehicles if vehicle.available]\n",
    "        if available:\n",
    "            return [f\"{vehicle.make} {vehicle.model}\" for vehicle in available]\n",
    "        return \"No vehicles available.\""
   ]
  },
  {
   "cell_type": "code",
   "execution_count": 11,
   "id": "0363a148-c854-414f-9faa-04fca4e7e7c0",
   "metadata": {},
   "outputs": [
    {
     "name": "stdout",
     "output_type": "stream",
     "text": [
      "Rented Toyota Camry.\n",
      "['Honda Civic']\n"
     ]
    }
   ],
   "source": [
    "system = VehicleRentalSystem()\n",
    "system.vehicles = [Vehicle(\"Toyota\", \"Camry\"), Vehicle(\"Honda\", \"Civic\")]\n",
    "print(system.rent_vehicle(\"Toyota\", \"Camry\"))\n",
    "print(system.display_available_vehicles())\n"
   ]
  },
  {
   "cell_type": "code",
   "execution_count": 12,
   "id": "6b0a9490-8be8-49ed-a084-27162950926a",
   "metadata": {},
   "outputs": [
    {
     "name": "stdout",
     "output_type": "stream",
     "text": [
      "Returned Toyota Camry.\n",
      "['Toyota Camry', 'Honda Civic']\n"
     ]
    }
   ],
   "source": [
    "print(system.return_vehicle(\"Toyota\", \"Camry\"))\n",
    "print(system.display_available_vehicles())"
   ]
  },
  {
   "cell_type": "code",
   "execution_count": null,
   "id": "fc7ca56e-c99e-4ce2-bdce-d18ea39d6dd1",
   "metadata": {},
   "outputs": [],
   "source": []
  },
  {
   "cell_type": "code",
   "execution_count": null,
   "id": "1365a537-a0a2-471d-9250-f5ef4665e2d0",
   "metadata": {},
   "outputs": [],
   "source": []
  },
  {
   "cell_type": "markdown",
   "id": "cfeaa042-c00d-4ac8-99ea-757716649460",
   "metadata": {},
   "source": [
    "P4"
   ]
  },
  {
   "cell_type": "code",
   "execution_count": 13,
   "id": "826fcc23-9951-47bb-b619-338cf57fa837",
   "metadata": {},
   "outputs": [],
   "source": [
    "class Book:\n",
    "    def __init__(self, title, author, available=True):\n",
    "        self.title = title\n",
    "        self.author = author\n",
    "        self.available = available"
   ]
  },
  {
   "cell_type": "code",
   "execution_count": 14,
   "id": "e9f583e6-236b-4ba5-a7bd-b9d14c7ce9b3",
   "metadata": {},
   "outputs": [],
   "source": [
    "class LibraryCatalog:\n",
    "    def __init__(self):\n",
    "        self.books = []\n",
    "\n",
    "    def add_book(self, title, author):\n",
    "        self.books.append(Book(title, author))\n",
    "\n",
    "    def borrow_book(self, title):\n",
    "        for book in self.books:\n",
    "            if book.title == title and book.available:\n",
    "                book.available = False\n",
    "                return f\"Borrowed '{title}'.\"\n",
    "        return \"Book not available.\"\n",
    "\n",
    "    def display_available_books(self):\n",
    "        available = [book for book in self.books if book.available]\n",
    "        if available:\n",
    "            return [f\"'{book.title}' by {book.author}\" for book in available]\n",
    "        return \"No books available.\""
   ]
  },
  {
   "cell_type": "code",
   "execution_count": 15,
   "id": "2a8be4fa-5bfa-415d-a5b6-bcbda631e0de",
   "metadata": {},
   "outputs": [
    {
     "name": "stdout",
     "output_type": "stream",
     "text": [
      "[\"'The Great Gatsby' by F. Scott Fitzgerald\"]\n"
     ]
    }
   ],
   "source": [
    "catalog = LibraryCatalog()\n",
    "catalog.add_book(\"The Great Gatsby\", \"F. Scott Fitzgerald\")\n",
    "print(catalog.display_available_books())"
   ]
  },
  {
   "cell_type": "code",
   "execution_count": 16,
   "id": "31c402f5-20af-4dc1-a393-540c856f9fb1",
   "metadata": {},
   "outputs": [
    {
     "name": "stdout",
     "output_type": "stream",
     "text": [
      "Borrowed 'The Great Gatsby'.\n",
      "No books available.\n"
     ]
    }
   ],
   "source": [
    "print(catalog.borrow_book(\"The Great Gatsby\"))\n",
    "print(catalog.display_available_books())"
   ]
  },
  {
   "cell_type": "markdown",
   "id": "48e84a1d-eba2-49b3-a100-7871d5d4264c",
   "metadata": {},
   "source": []
  },
  {
   "cell_type": "code",
   "execution_count": null,
   "id": "1f94d1ef-c54a-477e-b447-a98e60ed6108",
   "metadata": {},
   "outputs": [],
   "source": []
  },
  {
   "cell_type": "markdown",
   "id": "1cb30564-54e8-4408-b43a-4ea790b62460",
   "metadata": {},
   "source": [
    "P5"
   ]
  },
  {
   "cell_type": "code",
   "execution_count": 17,
   "id": "a6e992d9-3ee7-423f-bd08-fbb8fcf81024",
   "metadata": {},
   "outputs": [],
   "source": [
    "class Product:\n",
    "    def __init__(self, product_id, name, price, quantity):\n",
    "        self.product_id = product_id\n",
    "        self.name = name\n",
    "        self.price = price\n",
    "        self.quantity = quantity"
   ]
  },
  {
   "cell_type": "code",
   "execution_count": 20,
   "id": "82438ca7-84ac-45c3-aef1-696822d6d840",
   "metadata": {},
   "outputs": [],
   "source": [
    "class InventorySystem:\n",
    "    def __init__(self):\n",
    "        self.products = []\n",
    "\n",
    "    def add_product(self, product_id, name, price, quantity):\n",
    "        self.products.append(Product(product_id, name, price, quantity))\n",
    "\n",
    "    def update_product_quantity(self, product_id, quantity):\n",
    "        for product in self.products:\n",
    "            if product.product_id == product_id:\n",
    "                product.quantity += quantity\n",
    "                return f\"Updated quantity for {product.name}.\"\n",
    "        return \"Product not found.\"\n",
    "\n",
    "    def display_available_products(self):\n",
    "        available = [product for product in self.products if product.quantity > 0]\n",
    "        if available:\n",
    "            return [f\"{product.name} - Price: inr{product.price}, Quantity: {product.quantity}\" for product in available]\n",
    "        return \"No products available.\""
   ]
  },
  {
   "cell_type": "code",
   "execution_count": 21,
   "id": "d04e1546-7f06-4d54-ab0e-56859424842b",
   "metadata": {},
   "outputs": [
    {
     "name": "stdout",
     "output_type": "stream",
     "text": [
      "['Laptop - Price: inr80000, Quantity: 10']\n"
     ]
    }
   ],
   "source": [
    "inventory = InventorySystem()\n",
    "inventory.add_product(1, \"Laptop\", 80000, 10)\n",
    "print(inventory.display_available_products())"
   ]
  },
  {
   "cell_type": "code",
   "execution_count": 22,
   "id": "73a3d576-b561-40c4-8332-9439af713ee2",
   "metadata": {},
   "outputs": [
    {
     "name": "stdout",
     "output_type": "stream",
     "text": [
      "Updated quantity for Laptop.\n",
      "['Laptop - Price: inr80000, Quantity: 8']\n"
     ]
    }
   ],
   "source": [
    "print(inventory.update_product_quantity(1, -2))\n",
    "print(inventory.display_available_products())"
   ]
  },
  {
   "cell_type": "code",
   "execution_count": null,
   "id": "96db4ca4-9ee4-4d37-99da-931de75c53d3",
   "metadata": {},
   "outputs": [],
   "source": []
  },
  {
   "cell_type": "code",
   "execution_count": null,
   "id": "a5efb6e8-52c6-491b-8a6f-288950997b3f",
   "metadata": {},
   "outputs": [],
   "source": []
  },
  {
   "cell_type": "markdown",
   "id": "f1f1bec2-1aca-41d9-924e-1a39967a847e",
   "metadata": {},
   "source": [
    "P6"
   ]
  },
  {
   "cell_type": "code",
   "execution_count": 23,
   "id": "98aa7d30-e968-4504-a2bb-dcaf3b596426",
   "metadata": {},
   "outputs": [],
   "source": [
    "class Shape:\n",
    "    def __init__(self, length, width, height):\n",
    "        self.length = length\n",
    "        self.width = width\n",
    "        self.height = height\n",
    "\n",
    "    def calculate_area(self):\n",
    "        raise NotImplementedError(\"Subclasses must implement this method.\")\n",
    "\n",
    "    def calculate_perimeter(self):\n",
    "        raise NotImplementedError(\"Subclasses must implement this method.\")\n"
   ]
  },
  {
   "cell_type": "code",
   "execution_count": 24,
   "id": "b8616d97-dcdf-4d48-bcde-8f987b723daf",
   "metadata": {},
   "outputs": [],
   "source": [
    "class Rectangle(Shape):\n",
    "    def calculate_area(self):\n",
    "        return self.length * self.width\n",
    "\n",
    "    def calculate_perimeter(self):\n",
    "        return 2 * (self.length + self.width)"
   ]
  },
  {
   "cell_type": "code",
   "execution_count": 26,
   "id": "f86b2210-41fe-49b9-b6d3-89114defae16",
   "metadata": {},
   "outputs": [],
   "source": [
    "class Triangle(Shape):\n",
    "    def calculate_area(self):\n",
    "        s = (self.length + self.width + self.height) / 2\n",
    "        area = (s * (s - self.length) * (s - self.width) * (s - self.height)) ** 0.5\n",
    "        return area\n",
    "\n",
    "    def calculate_perimeter(self):\n",
    "        return self.length + self.width + self.height"
   ]
  },
  {
   "cell_type": "code",
   "execution_count": 27,
   "id": "f5865328-c63a-4e9f-8364-a506db274acb",
   "metadata": {},
   "outputs": [
    {
     "name": "stdout",
     "output_type": "stream",
     "text": [
      "Rectangle Area: 20\n",
      "Rectangle Perimeter: 18\n"
     ]
    }
   ],
   "source": [
    "rectangle = Rectangle(5, 4, 0)\n",
    "print(\"Rectangle Area:\", rectangle.calculate_area())\n",
    "print(\"Rectangle Perimeter:\", rectangle.calculate_perimeter())"
   ]
  },
  {
   "cell_type": "code",
   "execution_count": 28,
   "id": "e9fa745c-5132-42af-b2a3-dc8eae79a856",
   "metadata": {},
   "outputs": [
    {
     "name": "stdout",
     "output_type": "stream",
     "text": [
      "Triangle Area: 6.0\n",
      "Triangle Perimeter: 12\n"
     ]
    }
   ],
   "source": [
    "triangle = Triangle(3, 4, 5)\n",
    "\n",
    "print(\"Triangle Area:\", triangle.calculate_area())\n",
    "print(\"Triangle Perimeter:\", triangle.calculate_perimeter())"
   ]
  },
  {
   "cell_type": "code",
   "execution_count": null,
   "id": "d1425a2b-4995-4ea0-9bdd-1f907a57d522",
   "metadata": {},
   "outputs": [],
   "source": []
  },
  {
   "cell_type": "code",
   "execution_count": null,
   "id": "7ecf3b1a-ad00-4b8f-818e-e034cd01bc7c",
   "metadata": {},
   "outputs": [],
   "source": []
  },
  {
   "cell_type": "markdown",
   "id": "8a482f51-4455-47b6-bcb2-be16c147dc93",
   "metadata": {},
   "source": [
    "P7"
   ]
  },
  {
   "cell_type": "code",
   "execution_count": 29,
   "id": "6ffd4409-fcb0-4ee3-98fb-d032a490f44e",
   "metadata": {},
   "outputs": [],
   "source": [
    "class Student:\n",
    "    def __init__(self, student_id, name, grades=[]):\n",
    "        self.student_id = student_id\n",
    "        self.name = name\n",
    "        self.grades = grades\n",
    "\n",
    "    def calculate_average_grade(self):\n",
    "        if self.grades:\n",
    "            return sum(self.grades) / len(self.grades)\n",
    "        return 0\n",
    "\n",
    "    def display_details(self):\n",
    "        print(f\"Student ID: {self.student_id}\")\n",
    "        print(f\"Name: {self.name}\")\n",
    "        print(f\"Average Grade: {self.calculate_average_grade()}\")\n"
   ]
  },
  {
   "cell_type": "code",
   "execution_count": 31,
   "id": "08b8b982-e16f-424f-87bd-ba39a60bf60c",
   "metadata": {},
   "outputs": [
    {
     "name": "stdout",
     "output_type": "stream",
     "text": [
      "Student ID: 1\n",
      "Name: ABC\n",
      "Average Grade: 86.25\n"
     ]
    }
   ],
   "source": [
    "student1 = Student(1, \"ABC\", [85, 90, 78, 92])\n",
    "student1.display_details()"
   ]
  },
  {
   "cell_type": "code",
   "execution_count": null,
   "id": "610ec99f-0be1-45f0-9e10-14b5e4ee03f9",
   "metadata": {},
   "outputs": [],
   "source": []
  },
  {
   "cell_type": "code",
   "execution_count": null,
   "id": "8cded008-95d5-4f44-b80f-4318428ba490",
   "metadata": {},
   "outputs": [],
   "source": []
  },
  {
   "cell_type": "markdown",
   "id": "7228253c-155f-47f7-98b8-c33fec9ae4dd",
   "metadata": {},
   "source": [
    "P8"
   ]
  },
  {
   "cell_type": "code",
   "execution_count": 32,
   "id": "d691604a-183a-4f12-905b-fe0348d1a19c",
   "metadata": {},
   "outputs": [],
   "source": [
    "class Email:\n",
    "    def __init__(self, sender, recipient, subject, message):\n",
    "        self.sender = sender\n",
    "        self.recipient = recipient\n",
    "        self.subject = subject\n",
    "        self.message = message\n",
    "\n",
    "    def send_email(self):\n",
    "        print(\"Email sent to\", self.recipient)\n",
    "\n",
    "    def display_details(self):\n",
    "        print(\"Sender:\", self.sender)\n",
    "        print(\"Recipient:\", self.recipient)\n",
    "        print(\"Subject:\", self.subject)\n",
    "        print(\"Message:\", self.message)"
   ]
  },
  {
   "cell_type": "code",
   "execution_count": 34,
   "id": "7bcaa3de-dc27-4f82-a450-fed1bdbe7067",
   "metadata": {},
   "outputs": [
    {
     "name": "stdout",
     "output_type": "stream",
     "text": [
      "Email sent to recipient@example.com\n"
     ]
    }
   ],
   "source": [
    "email1 = Email(\"sender@example.com\", \"recipient@example.com\", \"Hello\", \"This is a test email.\")\n",
    "email1.send_email()"
   ]
  },
  {
   "cell_type": "code",
   "execution_count": 35,
   "id": "77d6a3e7-9344-44dd-b8b7-b36411c36895",
   "metadata": {},
   "outputs": [
    {
     "name": "stdout",
     "output_type": "stream",
     "text": [
      "Sender: sender@example.com\n",
      "Recipient: recipient@example.com\n",
      "Subject: Hello\n",
      "Message: This is a test email.\n"
     ]
    }
   ],
   "source": [
    "email1.display_details()"
   ]
  },
  {
   "cell_type": "markdown",
   "id": "aea427ac-e629-4be9-873d-d83ef969fbc7",
   "metadata": {},
   "source": []
  },
  {
   "cell_type": "code",
   "execution_count": null,
   "id": "665b9916-36a1-44e4-85fe-5bf7a4be3c35",
   "metadata": {},
   "outputs": [],
   "source": []
  },
  {
   "cell_type": "markdown",
   "id": "86d94174-1649-4bf8-ac09-9782a96fba85",
   "metadata": {},
   "source": [
    "P9"
   ]
  },
  {
   "cell_type": "code",
   "execution_count": 36,
   "id": "3a9f2634-2616-4ad3-82c5-220d26b43348",
   "metadata": {},
   "outputs": [],
   "source": [
    "class SocialMediaProfile:\n",
    "    def __init__(self, username):\n",
    "        self.username = username\n",
    "        self.posts = []\n",
    "\n",
    "    def add_post(self, post):\n",
    "        self.posts.append(post)\n",
    "\n",
    "    def display_posts(self):\n",
    "        for post in self.posts:\n",
    "            print(post)\n",
    "\n",
    "    def search_posts_by_keyword(self, keyword):\n",
    "        matching_posts = [post for post in self.posts if keyword in post]\n",
    "        if matching_posts:\n",
    "            return matching_posts\n",
    "        return \"No posts found with the keyword.\"\n"
   ]
  },
  {
   "cell_type": "code",
   "execution_count": 38,
   "id": "3db861da-fdea-4eff-be49-550e52a7f719",
   "metadata": {},
   "outputs": [
    {
     "name": "stdout",
     "output_type": "stream",
     "text": [
      "Hello, this is my first post!\n",
      "Traveling to leh.\n"
     ]
    }
   ],
   "source": [
    "profile1 = SocialMediaProfile(\"user123\")\n",
    "profile1.add_post(\"Hello, this is my first post!\")\n",
    "profile1.add_post(\"Traveling to leh.\")\n",
    "\n",
    "profile1.display_posts()"
   ]
  },
  {
   "cell_type": "code",
   "execution_count": 40,
   "id": "e40f80b5-5bc6-4a84-9b08-8876f831c6b0",
   "metadata": {},
   "outputs": [
    {
     "name": "stdout",
     "output_type": "stream",
     "text": [
      "['Traveling to leh.']\n"
     ]
    }
   ],
   "source": [
    "print(profile1.search_posts_by_keyword(\"leh\"))\n"
   ]
  },
  {
   "cell_type": "code",
   "execution_count": null,
   "id": "8be668fc-deaa-41a8-a030-7932508cd882",
   "metadata": {},
   "outputs": [],
   "source": []
  },
  {
   "cell_type": "code",
   "execution_count": null,
   "id": "f9bce047-51cf-43fc-9a73-b2bb2f24a72c",
   "metadata": {},
   "outputs": [],
   "source": []
  },
  {
   "cell_type": "markdown",
   "id": "8afb583b-ed3f-4f93-845b-c78ca1f6441b",
   "metadata": {},
   "source": [
    "P10"
   ]
  },
  {
   "cell_type": "code",
   "execution_count": 41,
   "id": "a17d6360-28cf-4c3e-b24e-4038f13a2700",
   "metadata": {},
   "outputs": [],
   "source": [
    "class ToDoList:\n",
    "    def __init__(self):\n",
    "        self.tasks = []\n",
    "\n",
    "    def add_task(self, task, due_date):\n",
    "        self.tasks.append({\"task\": task, \"due_date\": due_date, \"completed\": False})\n",
    "\n",
    "    def mark_task_as_completed(self, task):\n",
    "        for t in self.tasks:\n",
    "            if t[\"task\"] == task:\n",
    "                t[\"completed\"] = True\n",
    "\n",
    "    def display_pending_tasks(self):\n",
    "        pending_tasks = [t for t in self.tasks if not t[\"completed\"]]\n",
    "        if pending_tasks:\n",
    "            for t in pending_tasks:\n",
    "                print(f\"Task: {t['task']}, Due Date: {t['due_date']}\")\n",
    "        else:\n",
    "            print(\"No pending tasks.\")"
   ]
  },
  {
   "cell_type": "code",
   "execution_count": 43,
   "id": "352540c6-69f6-4926-9d32-038ede215748",
   "metadata": {},
   "outputs": [
    {
     "name": "stdout",
     "output_type": "stream",
     "text": [
      "Task: Finish assignment, Due Date: 2023-10-14\n"
     ]
    }
   ],
   "source": [
    "to_do_list = ToDoList()\n",
    "to_do_list.add_task(\"Finish assignment\", \"2023-10-14\")\n",
    "to_do_list.display_pending_tasks()\n"
   ]
  },
  {
   "cell_type": "code",
   "execution_count": 44,
   "id": "d9685d6e-499b-4d47-8eda-95c842859d41",
   "metadata": {},
   "outputs": [
    {
     "name": "stdout",
     "output_type": "stream",
     "text": [
      "No pending tasks.\n"
     ]
    }
   ],
   "source": [
    "to_do_list.mark_task_as_completed(\"Finish assignment\")\n",
    "to_do_list.display_pending_tasks()\n"
   ]
  },
  {
   "cell_type": "code",
   "execution_count": null,
   "id": "5e9f5326-fb4f-4bfa-8a59-89571e80d364",
   "metadata": {},
   "outputs": [],
   "source": []
  }
 ],
 "metadata": {
  "kernelspec": {
   "display_name": "Python 3 (ipykernel)",
   "language": "python",
   "name": "python3"
  },
  "language_info": {
   "codemirror_mode": {
    "name": "ipython",
    "version": 3
   },
   "file_extension": ".py",
   "mimetype": "text/x-python",
   "name": "python",
   "nbconvert_exporter": "python",
   "pygments_lexer": "ipython3",
   "version": "3.10.8"
  }
 },
 "nbformat": 4,
 "nbformat_minor": 5
}
