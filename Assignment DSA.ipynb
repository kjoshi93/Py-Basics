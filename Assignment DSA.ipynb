{
  "nbformat": 4,
  "nbformat_minor": 0,
  "metadata": {
    "colab": {
      "provenance": []
    },
    "kernelspec": {
      "name": "python3",
      "display_name": "Python 3"
    },
    "language_info": {
      "name": "python"
    }
  },
  "cells": [
    {
      "cell_type": "markdown",
      "source": [
        "# Problem1: Reverse a singly linked list"
      ],
      "metadata": {
        "id": "IVYqR8vT22u2"
      }
    },
    {
      "cell_type": "markdown",
      "source": [
        "Input: 1 -> 2 -> 3 -> 4 -> 5\n",
        "\n",
        "\n",
        "Output: 5 -> 4 -> 3 -> 2 -> 1"
      ],
      "metadata": {
        "id": "d5aiA7w_28cK"
      }
    },
    {
      "cell_type": "code",
      "execution_count": 23,
      "metadata": {
        "id": "1b6EAR7a2iis"
      },
      "outputs": [],
      "source": [
        "class Node:\n",
        "  def __init__(self, value):\n",
        "    self.value = value\n",
        "    self.next = None"
      ]
    },
    {
      "cell_type": "code",
      "source": [
        "class LinkedList:\n",
        "  def __init__(self):\n",
        "    self.head = None\n",
        "\n",
        "  def append(self, value):\n",
        "    new_node = Node(value)\n",
        "    if not self.head:\n",
        "      self.head = new_node\n",
        "      return\n",
        "    current = self.head\n",
        "    while current.next:\n",
        "      current = current.next\n",
        "    current.next = new_node\n",
        "\n",
        "  def print_list(self):\n",
        "    current = self.head\n",
        "    while current:\n",
        "      print(current.value, end=\"->\")\n",
        "      current = current.next\n",
        "    print(\"None\")\n",
        "\n",
        "  def reverse(self):\n",
        "    prev = None\n",
        "    current = self.head\n",
        "    while current:\n",
        "      next_node = current.next\n",
        "      current.next = prev\n",
        "      prev = current\n",
        "      current = next_node\n",
        "    self.head = prev"
      ],
      "metadata": {
        "id": "e0HK6iCRX-DO"
      },
      "execution_count": 25,
      "outputs": []
    },
    {
      "cell_type": "code",
      "source": [
        "ll= LinkedList()\n",
        "\n",
        "ll.append(1)\n",
        "ll.append(2)\n",
        "ll.append(3)\n",
        "ll.append(4)\n",
        "ll.append(5)\n",
        "\n",
        "ll.print_list()"
      ],
      "metadata": {
        "colab": {
          "base_uri": "https://localhost:8080/"
        },
        "id": "dKsK5XrwYdMA",
        "outputId": "082f2585-55d0-4f5b-d94f-767bf4844f39"
      },
      "execution_count": 26,
      "outputs": [
        {
          "output_type": "stream",
          "name": "stdout",
          "text": [
            "1->2->3->4->5->None\n"
          ]
        }
      ]
    },
    {
      "cell_type": "code",
      "source": [
        "ll.reverse()\n",
        "\n",
        "ll.print_list()"
      ],
      "metadata": {
        "colab": {
          "base_uri": "https://localhost:8080/"
        },
        "id": "T20bK4vPYm5x",
        "outputId": "3cd1903b-4f9a-48ad-e438-b1063d2c4dc8"
      },
      "execution_count": 27,
      "outputs": [
        {
          "output_type": "stream",
          "name": "stdout",
          "text": [
            "5->4->3->2->1->None\n"
          ]
        }
      ]
    },
    {
      "cell_type": "markdown",
      "source": [
        "# Problem 2: Merge two sorted linked lists into one sorted linked list."
      ],
      "metadata": {
        "id": "YHYDoH26Yw_m"
      }
    },
    {
      "cell_type": "code",
      "source": [
        "def merge_sorted_list(list1, list2):\n",
        "  dummy = Node(0)\n",
        "  tail = dummy\n",
        "\n",
        "  curr1 = list1.head\n",
        "  curr2 = list2.head\n",
        "\n",
        "  while curr1 and curr2:\n",
        "    if curr1.value < curr2.value:\n",
        "      tail.next = curr1\n",
        "      curr1 = curr1.next\n",
        "    else:\n",
        "      tail.next = curr2\n",
        "      curr2 = curr2.next\n",
        "    tail = tail.next\n",
        "\n",
        "  if curr1:\n",
        "    tail.next = curr1\n",
        "  if curr2:\n",
        "    tail.next = curr2\n",
        "\n",
        "  merged_list = LinkedList()\n",
        "  merged_list.head = dummy.next\n",
        "\n",
        "  return merged_list\n"
      ],
      "metadata": {
        "id": "OQkKwGOtYyI8"
      },
      "execution_count": 28,
      "outputs": []
    },
    {
      "cell_type": "code",
      "source": [
        "ll = LinkedList()\n",
        "\n",
        "ll.append(1)\n",
        "ll.append(3)\n",
        "ll.append(5)\n",
        "\n",
        "ll.print_list()"
      ],
      "metadata": {
        "colab": {
          "base_uri": "https://localhost:8080/"
        },
        "id": "WFfyGAS1ZNoe",
        "outputId": "3843816f-4c72-47cd-870f-5a408fa1162f"
      },
      "execution_count": 29,
      "outputs": [
        {
          "output_type": "stream",
          "name": "stdout",
          "text": [
            "1->3->5->None\n"
          ]
        }
      ]
    },
    {
      "cell_type": "code",
      "source": [
        "ll2 = LinkedList()\n",
        "\n",
        "ll2.append(2)\n",
        "ll2.append(4)\n",
        "ll2.append(6)\n",
        "\n",
        "ll2.print_list()"
      ],
      "metadata": {
        "colab": {
          "base_uri": "https://localhost:8080/"
        },
        "id": "2U3qWOPNZX8H",
        "outputId": "c7165729-512c-4efe-d188-b8468524366e"
      },
      "execution_count": 30,
      "outputs": [
        {
          "output_type": "stream",
          "name": "stdout",
          "text": [
            "2->4->6->None\n"
          ]
        }
      ]
    },
    {
      "cell_type": "code",
      "source": [
        "merged_list = merge_sorted_list(ll, ll2)\n",
        "\n",
        "merged_list.print_list()"
      ],
      "metadata": {
        "colab": {
          "base_uri": "https://localhost:8080/"
        },
        "id": "-_b-7XQWZfMf",
        "outputId": "9551f8f3-0eb8-4b14-9bbe-5bc519e6f6b8"
      },
      "execution_count": 31,
      "outputs": [
        {
          "output_type": "stream",
          "name": "stdout",
          "text": [
            "1->2->3->4->5->6->None\n"
          ]
        }
      ]
    },
    {
      "cell_type": "markdown",
      "source": [
        "# Problem 3: Remove the nth node from the end of a linked list."
      ],
      "metadata": {
        "id": "U98Wj1r6ZnFk"
      }
    },
    {
      "cell_type": "code",
      "source": [
        "class LinkedList:\n",
        "    def __init__(self):\n",
        "        self.head = None\n",
        "\n",
        "    def append(self, value):\n",
        "        new_node = Node(value)\n",
        "        if not self.head:\n",
        "            self.head = new_node\n",
        "            return\n",
        "        current = self.head\n",
        "        while current.next:\n",
        "            current = current.next\n",
        "        current.next = new_node\n",
        "\n",
        "    def print_list(self):\n",
        "        current = self.head\n",
        "        while current:\n",
        "            print(current.value, end=\" -> \" if current.next else \"\")\n",
        "            current = current.next\n",
        "        print()\n",
        "\n",
        "    def remove_nth_from_end(self, n):\n",
        "        dummy = Node(0)\n",
        "        dummy.next = self.head\n",
        "        slow = dummy\n",
        "        fast = dummy\n",
        "\n",
        "        for _ in range(n + 1):\n",
        "            if fast:\n",
        "                fast = fast.next\n",
        "            else:\n",
        "                return\n",
        "\n",
        "        while fast:\n",
        "            slow = slow.next\n",
        "            fast = fast.next\n",
        "\n",
        "        slow.next = slow.next.next if slow.next else None\n",
        "\n",
        "        self.head = dummy.next"
      ],
      "metadata": {
        "id": "kkHVusguZoM8"
      },
      "execution_count": 32,
      "outputs": []
    },
    {
      "cell_type": "code",
      "source": [
        "ll = LinkedList()\n",
        "ll.append(1)\n",
        "ll.append(2)\n",
        "ll.append(3)\n",
        "ll.append(4)\n",
        "ll.append(5)\n",
        "\n",
        "ll.print_list()"
      ],
      "metadata": {
        "colab": {
          "base_uri": "https://localhost:8080/"
        },
        "id": "3vq5IxU1Zvvw",
        "outputId": "3429eda8-0977-4685-ccc3-fa402ec53127"
      },
      "execution_count": 33,
      "outputs": [
        {
          "output_type": "stream",
          "name": "stdout",
          "text": [
            "1 -> 2 -> 3 -> 4 -> 5\n"
          ]
        }
      ]
    },
    {
      "cell_type": "code",
      "source": [
        "n = 2\n",
        "ll.remove_nth_from_end(n)\n",
        "\n",
        "ll.print_list()"
      ],
      "metadata": {
        "colab": {
          "base_uri": "https://localhost:8080/"
        },
        "id": "rZiLx3iuZ2GR",
        "outputId": "46fa9cc7-4ad0-4a20-a1dd-0be4dd6f2845"
      },
      "execution_count": 34,
      "outputs": [
        {
          "output_type": "stream",
          "name": "stdout",
          "text": [
            "1 -> 2 -> 3 -> 5\n"
          ]
        }
      ]
    },
    {
      "cell_type": "markdown",
      "source": [
        "# Problem 4: Find the intersection point of two linked lists."
      ],
      "metadata": {
        "id": "-Ps3s5N4aGBv"
      }
    },
    {
      "cell_type": "code",
      "source": [
        "def find_intersection(list1, list2):\n",
        "    if not list1.head or not list2.head:\n",
        "        return None\n",
        "\n",
        "    pointer1 = list1.head\n",
        "    pointer2 = list2.head\n",
        "\n",
        "    while pointer1 != pointer2:\n",
        "        pointer1 = pointer1.next if pointer1 else list2.head\n",
        "        pointer2 = pointer2.next if pointer2 else list1.head\n",
        "\n",
        "    return pointer1"
      ],
      "metadata": {
        "id": "reicmP_VaHkI"
      },
      "execution_count": 35,
      "outputs": []
    },
    {
      "cell_type": "code",
      "source": [
        "list1 = LinkedList()\n",
        "list1.append(1)\n",
        "list1.append(2)\n",
        "list1.append(3)\n",
        "intersection = Node(3)\n",
        "list1.head.next.next = intersection\n",
        "intersection.next = Node(4)\n",
        "\n",
        "list1.print_list()"
      ],
      "metadata": {
        "colab": {
          "base_uri": "https://localhost:8080/"
        },
        "id": "GrdCGt1qaLHg",
        "outputId": "60e33e0a-f489-4619-fd4e-cb23010b18c5"
      },
      "execution_count": 40,
      "outputs": [
        {
          "output_type": "stream",
          "name": "stdout",
          "text": [
            "1 -> 2 -> 3 -> 4\n"
          ]
        }
      ]
    },
    {
      "cell_type": "code",
      "source": [
        "list2 = LinkedList()\n",
        "list2.append(9)\n",
        "list2.append(8)\n",
        "list2.head.next = intersection\n",
        "\n",
        "list2.print_list()"
      ],
      "metadata": {
        "colab": {
          "base_uri": "https://localhost:8080/"
        },
        "id": "mxalbLK-aYZx",
        "outputId": "d86e5be4-4667-4422-f34a-14c69b48cc34"
      },
      "execution_count": 41,
      "outputs": [
        {
          "output_type": "stream",
          "name": "stdout",
          "text": [
            "9 -> 3 -> 4\n"
          ]
        }
      ]
    },
    {
      "cell_type": "code",
      "source": [
        "print(find_intersection(list1, list2).value)"
      ],
      "metadata": {
        "colab": {
          "base_uri": "https://localhost:8080/"
        },
        "id": "slFkbhLKaiIo",
        "outputId": "d998474d-21ed-4e9a-e8e3-e706bf574b2e"
      },
      "execution_count": 42,
      "outputs": [
        {
          "output_type": "stream",
          "name": "stdout",
          "text": [
            "3\n"
          ]
        }
      ]
    },
    {
      "cell_type": "markdown",
      "source": [
        "# Problem 5: Remove duplicates from a sorted linked list."
      ],
      "metadata": {
        "id": "k0bEmM5Ia8Ki"
      }
    },
    {
      "cell_type": "code",
      "source": [
        "class LinkedList:\n",
        "    def __init__(self):\n",
        "        self.head = None\n",
        "\n",
        "    def append(self, value):\n",
        "        new_node = Node(value)\n",
        "        if not self.head:\n",
        "            self.head = new_node\n",
        "            return\n",
        "        current = self.head\n",
        "        while current.next:\n",
        "            current = current.next\n",
        "        current.next = new_node\n",
        "\n",
        "    def print_list(self):\n",
        "        current = self.head\n",
        "        while current:\n",
        "            print(current.value, end=\" -> \" if current.next else \"\")\n",
        "            current = current.next\n",
        "        print()\n",
        "\n",
        "    def remove_duplicates(self):\n",
        "        current = self.head\n",
        "        while current and current.next:\n",
        "            if current.value == current.next.value:\n",
        "                current.next = current.next.next\n",
        "            else:\n",
        "                current = current.next"
      ],
      "metadata": {
        "id": "j0gMzSF8a_3_"
      },
      "execution_count": 43,
      "outputs": []
    },
    {
      "cell_type": "code",
      "source": [
        "ll = LinkedList()\n",
        "ll.append(1)\n",
        "ll.append(1)\n",
        "ll.append(2)\n",
        "ll.append(3)\n",
        "ll.append(3)\n",
        "\n",
        "ll.print_list()"
      ],
      "metadata": {
        "colab": {
          "base_uri": "https://localhost:8080/"
        },
        "id": "BfEkaaTXbEf_",
        "outputId": "e24d4b9c-3e61-4a5d-cf16-7a5de035d259"
      },
      "execution_count": 44,
      "outputs": [
        {
          "output_type": "stream",
          "name": "stdout",
          "text": [
            "1 -> 1 -> 2 -> 3 -> 3\n"
          ]
        }
      ]
    },
    {
      "cell_type": "code",
      "source": [
        "ll.remove_duplicates()\n",
        "\n",
        "print(\"List after removing duplicates:\")\n",
        "ll.print_list()"
      ],
      "metadata": {
        "colab": {
          "base_uri": "https://localhost:8080/"
        },
        "id": "cIMOuTYpbJEn",
        "outputId": "3f732965-5dd1-4e3f-dc9a-686aa4ec5524"
      },
      "execution_count": 45,
      "outputs": [
        {
          "output_type": "stream",
          "name": "stdout",
          "text": [
            "List after removing duplicates:\n",
            "1 -> 2 -> 3\n"
          ]
        }
      ]
    },
    {
      "cell_type": "markdown",
      "source": [
        "# Problem 6: Add two numbers represented by linked lists (where each node contains a single digit)."
      ],
      "metadata": {
        "id": "6mg_lrG6bOKW"
      }
    },
    {
      "cell_type": "code",
      "source": [
        "def add_two_numbers(l1, l2):\n",
        "    dummy = Node(0)\n",
        "    current = dummy\n",
        "    carry = 0\n",
        "\n",
        "    p1 = l1.head\n",
        "    p2 = l2.head\n",
        "\n",
        "    while p1 or p2 or carry:\n",
        "        val1 = p1.value if p1 else 0\n",
        "        val2 = p2.value if p2 else 0\n",
        "\n",
        "        total = val1 + val2 + carry\n",
        "        carry = total // 10\n",
        "        current.next = Node(total % 10)\n",
        "\n",
        "        current = current.next\n",
        "        if p1:\n",
        "            p1 = p1.next\n",
        "        if p2:\n",
        "            p2 = p2.next\n",
        "\n",
        "    return dummy.next\n"
      ],
      "metadata": {
        "id": "mqPsMwvabPQg"
      },
      "execution_count": 46,
      "outputs": []
    },
    {
      "cell_type": "code",
      "source": [
        "l1 = LinkedList()\n",
        "l1.append(2)\n",
        "l1.append(4)\n",
        "l1.append(3)\n",
        "\n",
        "l1.print_list()"
      ],
      "metadata": {
        "colab": {
          "base_uri": "https://localhost:8080/"
        },
        "id": "RDPU0Yg8bVNp",
        "outputId": "e47aebe3-78ad-4273-cc4f-a9ab9684bd69"
      },
      "execution_count": 47,
      "outputs": [
        {
          "output_type": "stream",
          "name": "stdout",
          "text": [
            "2 -> 4 -> 3\n"
          ]
        }
      ]
    },
    {
      "cell_type": "code",
      "source": [
        "l2 = LinkedList()\n",
        "l2.append(5)\n",
        "l2.append(6)\n",
        "l2.append(4)\n",
        "\n",
        "l2.print_list()"
      ],
      "metadata": {
        "colab": {
          "base_uri": "https://localhost:8080/"
        },
        "id": "tz6L-arbbbkK",
        "outputId": "1fc0b63c-ff76-45b3-eb87-4c80fca99fe6"
      },
      "execution_count": 48,
      "outputs": [
        {
          "output_type": "stream",
          "name": "stdout",
          "text": [
            "5 -> 6 -> 4\n"
          ]
        }
      ]
    },
    {
      "cell_type": "code",
      "source": [
        "result = LinkedList()\n",
        "result.head = add_two_numbers(l1, l2)\n",
        "\n",
        "result.print_list()"
      ],
      "metadata": {
        "colab": {
          "base_uri": "https://localhost:8080/"
        },
        "id": "tWZ5obgwbg8Q",
        "outputId": "1eeea8ee-a12e-402f-deab-6f8fc552b424"
      },
      "execution_count": 49,
      "outputs": [
        {
          "output_type": "stream",
          "name": "stdout",
          "text": [
            "7 -> 0 -> 8\n"
          ]
        }
      ]
    },
    {
      "cell_type": "markdown",
      "source": [
        "# Problem 7: Swap nodes in pairs in a linked list."
      ],
      "metadata": {
        "id": "2lscmqzqbnI3"
      }
    },
    {
      "cell_type": "code",
      "source": [
        "class LinkedList:\n",
        "    def __init__(self):\n",
        "        self.head = None\n",
        "\n",
        "    def append(self, value):\n",
        "        new_node = Node(value)\n",
        "        if not self.head:\n",
        "            self.head = new_node\n",
        "            return\n",
        "        current = self.head\n",
        "        while current.next:\n",
        "            current = current.next\n",
        "        current.next = new_node\n",
        "\n",
        "    def print_list(self):\n",
        "        current = self.head\n",
        "        while current:\n",
        "            print(current.value, end=\" -> \" if current.next else \"\")\n",
        "            current = current.next\n",
        "        print()\n",
        "\n",
        "    def swap_pairs(self):\n",
        "        dummy = Node(0)\n",
        "        dummy.next = self.head\n",
        "        prev = dummy\n",
        "\n",
        "        while prev.next and prev.next.next:\n",
        "            first = prev.next\n",
        "            second = prev.next.next\n",
        "\n",
        "            prev.next = second\n",
        "            first.next = second.next\n",
        "            second.next = first\n",
        "\n",
        "            prev = first\n",
        "\n",
        "        self.head = dummy.next"
      ],
      "metadata": {
        "id": "1t2ZPekVboKu"
      },
      "execution_count": 50,
      "outputs": []
    },
    {
      "cell_type": "code",
      "source": [
        "ll = LinkedList()\n",
        "ll.append(1)\n",
        "ll.append(2)\n",
        "ll.append(3)\n",
        "ll.append(4)\n",
        "\n",
        "print(\"Original list:\")\n",
        "ll.print_list()\n",
        "\n",
        "ll.swap_pairs()\n",
        "\n",
        "print(\"List after swapping nodes in pairs:\")\n",
        "ll.print_list()"
      ],
      "metadata": {
        "colab": {
          "base_uri": "https://localhost:8080/"
        },
        "id": "naGfH3Febsog",
        "outputId": "ee4189c6-90b7-49cb-af10-e901f1577232"
      },
      "execution_count": 51,
      "outputs": [
        {
          "output_type": "stream",
          "name": "stdout",
          "text": [
            "Original list:\n",
            "1 -> 2 -> 3 -> 4\n",
            "List after swapping nodes in pairs:\n",
            "2 -> 1 -> 4 -> 3\n"
          ]
        }
      ]
    },
    {
      "cell_type": "markdown",
      "source": [
        "# Problem 8: Reverse nodes in a linked list in groups of k."
      ],
      "metadata": {
        "id": "R4wlNQ_Qb1Rm"
      }
    },
    {
      "cell_type": "code",
      "source": [
        "class LinkedList:\n",
        "    def __init__(self):\n",
        "        self.head = None\n",
        "\n",
        "    def append(self, value):\n",
        "        new_node = Node(value)\n",
        "        if not self.head:\n",
        "            self.head = new_node\n",
        "            return\n",
        "        current = self.head\n",
        "        while current.next:\n",
        "            current = current.next\n",
        "        current.next = new_node\n",
        "\n",
        "    def print_list(self):\n",
        "        current = self.head\n",
        "        while current:\n",
        "            print(current.value, end=\" -> \" if current.next else \"\")\n",
        "            current = current.next\n",
        "        print()\n",
        "\n",
        "    def reverse_k_group(self, k):\n",
        "        dummy = Node(0)\n",
        "        dummy.next = self.head\n",
        "        prev_group_end = dummy\n",
        "        current = self.head\n",
        "\n",
        "        while current:\n",
        "            group_end = prev_group_end\n",
        "            for _ in range(k):\n",
        "                group_end = group_end.next\n",
        "                if not group_end:\n",
        "                    return dummy.next\n",
        "            group_start = current\n",
        "            next_group_start = group_end.next\n",
        "            prev = None\n",
        "            while current != next_group_start:\n",
        "                next_node = current.next\n",
        "                current.next = prev\n",
        "                prev = current\n",
        "                current = next_node\n",
        "\n",
        "            prev_group_end.next = prev\n",
        "            group_start.next = next_group_start\n",
        "\n",
        "            prev_group_end = group_start\n",
        "\n",
        "        return dummy.next"
      ],
      "metadata": {
        "id": "9UIYcwrvb2S-"
      },
      "execution_count": 52,
      "outputs": []
    },
    {
      "cell_type": "code",
      "source": [
        "ll = LinkedList()\n",
        "ll.append(1)\n",
        "ll.append(2)\n",
        "ll.append(3)\n",
        "ll.append(4)\n",
        "ll.append(5)\n",
        "ll.append(6)\n",
        "\n",
        "print(\"Original list:\")\n",
        "ll.print_list()\n",
        "\n",
        "k = 3\n",
        "ll.head = ll.reverse_k_group(k)\n",
        "\n",
        "print(f\"List after reversing in groups of {k}:\")\n",
        "ll.print_list()"
      ],
      "metadata": {
        "colab": {
          "base_uri": "https://localhost:8080/"
        },
        "id": "UH_bRGmab8ZJ",
        "outputId": "6deef5a7-01f4-42bd-8f31-bbe6071bc6f8"
      },
      "execution_count": 53,
      "outputs": [
        {
          "output_type": "stream",
          "name": "stdout",
          "text": [
            "Original list:\n",
            "1 -> 2 -> 3 -> 4 -> 5 -> 6\n",
            "List after reversing in groups of 3:\n",
            "3 -> 2 -> 1 -> 6 -> 5 -> 4\n"
          ]
        }
      ]
    },
    {
      "cell_type": "markdown",
      "source": [
        "# Problem 9: Determine if a linked list is a palindrome."
      ],
      "metadata": {
        "id": "QlWF8i7HcBI5"
      }
    },
    {
      "cell_type": "code",
      "source": [
        "class LinkedList:\n",
        "    def __init__(self):\n",
        "        self.head = None\n",
        "\n",
        "    def append(self, value):\n",
        "        new_node = Node(value)\n",
        "        if not self.head:\n",
        "            self.head = new_node\n",
        "            return\n",
        "        current = self.head\n",
        "        while current.next:\n",
        "            current = current.next\n",
        "        current.next = new_node\n",
        "\n",
        "    def print_list(self):\n",
        "        current = self.head\n",
        "        while current:\n",
        "            print(current.value, end=\" -> \" if current.next else \"\")\n",
        "            current = current.next\n",
        "        print()\n",
        "\n",
        "    def is_palindrome(self):\n",
        "        if not self.head or not self.head.next:\n",
        "            return True\n",
        "\n",
        "        slow, fast = self.head, self.head\n",
        "        while fast and fast.next:\n",
        "            slow = slow.next\n",
        "            fast = fast.next.next\n",
        "\n",
        "        second_half = self.reverse_list(slow)\n",
        "\n",
        "        first_half = self.head\n",
        "        while second_half:\n",
        "            if first_half.value != second_half.value:\n",
        "                return False\n",
        "            first_half = first_half.next\n",
        "            second_half = second_half.next\n",
        "\n",
        "        return True\n",
        "\n",
        "    def reverse_list(self, head):\n",
        "        prev = None\n",
        "        current = head\n",
        "        while current:\n",
        "            next_node = current.next\n",
        "            current.next = prev\n",
        "            prev = current\n",
        "            current = next_node\n",
        "        return prev"
      ],
      "metadata": {
        "id": "5wH7IVx4cE8m"
      },
      "execution_count": 54,
      "outputs": []
    },
    {
      "cell_type": "code",
      "source": [
        "ll = LinkedList()\n",
        "ll.append(1)\n",
        "ll.append(2)\n",
        "ll.append(2)\n",
        "ll.append(1)\n",
        "\n",
        "print(\"Original list:\")\n",
        "ll.print_list()\n",
        "\n",
        "if ll.is_palindrome():\n",
        "    print(\"The list is a palindrome.\")\n",
        "else:\n",
        "    print(\"The list is not a palindrome.\")"
      ],
      "metadata": {
        "colab": {
          "base_uri": "https://localhost:8080/"
        },
        "id": "yfdwurl1cODi",
        "outputId": "131cddf9-5d72-4bb7-d8ed-77e5120aa456"
      },
      "execution_count": 55,
      "outputs": [
        {
          "output_type": "stream",
          "name": "stdout",
          "text": [
            "Original list:\n",
            "1 -> 2 -> 2 -> 1\n",
            "The list is a palindrome.\n"
          ]
        }
      ]
    },
    {
      "cell_type": "markdown",
      "source": [
        "# Problem 10: Rotate a linked list to the right by k places."
      ],
      "metadata": {
        "id": "PmzBThEhcUSu"
      }
    },
    {
      "cell_type": "code",
      "source": [
        "class LinkedList:\n",
        "    def __init__(self):\n",
        "        self.head = None\n",
        "\n",
        "    def append(self, value):\n",
        "        new_node = Node(value)\n",
        "        if not self.head:\n",
        "            self.head = new_node\n",
        "            return\n",
        "        current = self.head\n",
        "        while current.next:\n",
        "            current = current.next\n",
        "        current.next = new_node\n",
        "\n",
        "    def print_list(self):\n",
        "        current = self.head\n",
        "        while current:\n",
        "            print(current.value, end=\" -> \" if current.next else \"\")\n",
        "            current = current.next\n",
        "        print()\n",
        "\n",
        "    def rotate_right(self, k):\n",
        "        if not self.head or not self.head.next:\n",
        "            return\n",
        "\n",
        "        current = self.head\n",
        "        length = 1\n",
        "        while current.next:\n",
        "            current = current.next\n",
        "            length += 1\n",
        "\n",
        "        k = k % length\n",
        "        if k == 0:\n",
        "            return\n",
        "\n",
        "        current.next = self.head\n",
        "        steps_to_new_head = length - k\n",
        "        new_tail = self.head\n",
        "        for _ in range(steps_to_new_head - 1):\n",
        "            new_tail = new_tail.next\n",
        "        new_head = new_tail.next\n",
        "\n",
        "        new_tail.next = None\n",
        "        self.head = new_head"
      ],
      "metadata": {
        "id": "vBgchsM5cVol"
      },
      "execution_count": 56,
      "outputs": []
    },
    {
      "cell_type": "code",
      "source": [
        "ll = LinkedList()\n",
        "ll.append(1)\n",
        "ll.append(2)\n",
        "ll.append(3)\n",
        "ll.append(4)\n",
        "ll.append(5)\n",
        "\n",
        "print(\"Original list:\")\n",
        "ll.print_list()\n",
        "\n",
        "k = 2\n",
        "ll.rotate_right(k)\n",
        "\n",
        "print(f\"List after rotating right by {k} places:\")\n",
        "ll.print_list()"
      ],
      "metadata": {
        "colab": {
          "base_uri": "https://localhost:8080/"
        },
        "id": "YClVXuAycbP4",
        "outputId": "ec50a33f-5586-482c-c961-7df6dd1c1271"
      },
      "execution_count": 57,
      "outputs": [
        {
          "output_type": "stream",
          "name": "stdout",
          "text": [
            "Original list:\n",
            "1 -> 2 -> 3 -> 4 -> 5\n",
            "List after rotating right by 2 places:\n",
            "4 -> 5 -> 1 -> 2 -> 3\n"
          ]
        }
      ]
    },
    {
      "cell_type": "markdown",
      "source": [
        "# Problem 11: Flatten a multilevel doubly linked list."
      ],
      "metadata": {
        "id": "PfhPEGslcgbd"
      }
    },
    {
      "cell_type": "code",
      "source": [
        "class Node:\n",
        "    def __init__(self, value):\n",
        "        self.value = value\n",
        "        self.next = None\n",
        "        self.prev = None\n",
        "        self.child = None\n",
        "\n",
        "class DoublyLinkedList:\n",
        "    def __init__(self):\n",
        "        self.head = None\n",
        "\n",
        "    def append(self, value):\n",
        "        new_node = Node(value)\n",
        "        if not self.head:\n",
        "            self.head = new_node\n",
        "            return\n",
        "        current = self.head\n",
        "        while current.next:\n",
        "            current = current.next\n",
        "        current.next = new_node\n",
        "        new_node.prev = current\n",
        "\n",
        "    def print_list(self):\n",
        "        current = self.head\n",
        "        while current:\n",
        "            print(current.value, end=\" <-> \" if current.next else \"\")\n",
        "            current = current.next\n",
        "        print()\n",
        "\n",
        "    def flatten(self):\n",
        "        if not self.head:\n",
        "            return None\n",
        "\n",
        "        current = self.head\n",
        "        while current:\n",
        "            if current.child:\n",
        "                next_node = current.next\n",
        "\n",
        "                child_head = current.child\n",
        "                current.next = child_head\n",
        "                child_head.prev = current\n",
        "                current.child = None\n",
        "\n",
        "                while current.next:\n",
        "                    current = current.next\n",
        "\n",
        "                if next_node:\n",
        "                    current.next = next_node\n",
        "                    next_node.prev = current\n",
        "\n",
        "            current = current.next"
      ],
      "metadata": {
        "id": "4Rn6xun4chZO"
      },
      "execution_count": 58,
      "outputs": []
    },
    {
      "cell_type": "code",
      "source": [
        "dll = DoublyLinkedList()\n",
        "dll.append(1)\n",
        "dll.append(2)\n",
        "dll.append(3)\n",
        "dll.append(7)\n",
        "dll.append(8)\n",
        "dll.append(11)\n",
        "dll.append(12)\n",
        "\n",
        "\n",
        "node3 = dll.head.next.next\n",
        "node3.child = Node(4)\n",
        "node3.child.next = Node(5)\n",
        "node3.child.next.prev = node3.child\n",
        "node3.child.next.next = Node(9)\n",
        "node3.child.next.next.prev = node3.child.next\n",
        "node3.child.next.next.next = Node(10)\n",
        "node3.child.next.next.next.prev = node3.child.next.next\n",
        "\n",
        "node6 = dll.head.next.next.next.next\n",
        "node6.child = Node(13)\n",
        "\n",
        "dll.print_list()"
      ],
      "metadata": {
        "colab": {
          "base_uri": "https://localhost:8080/"
        },
        "id": "r2rjojIeco5X",
        "outputId": "71c00f05-6f2d-4324-d1bf-2000cc92f5e8"
      },
      "execution_count": 61,
      "outputs": [
        {
          "output_type": "stream",
          "name": "stdout",
          "text": [
            "1 <-> 2 <-> 3 <-> 7 <-> 8 <-> 11 <-> 12\n"
          ]
        }
      ]
    },
    {
      "cell_type": "code",
      "source": [
        "dll.flatten()\n",
        "\n",
        "dll.print_list()"
      ],
      "metadata": {
        "colab": {
          "base_uri": "https://localhost:8080/"
        },
        "id": "kNR7d6wtcuVf",
        "outputId": "491dbe0c-d650-4460-b993-c8f972084124"
      },
      "execution_count": 62,
      "outputs": [
        {
          "output_type": "stream",
          "name": "stdout",
          "text": [
            "1 <-> 2 <-> 3 <-> 4 <-> 5 <-> 9 <-> 10 <-> 7 <-> 8 <-> 13 <-> 11 <-> 12\n"
          ]
        }
      ]
    },
    {
      "cell_type": "markdown",
      "source": [
        "# Problem 12: Rearrange a linked list such that all even positioned nodes are placed at the end."
      ],
      "metadata": {
        "id": "7pGusoIkdnqp"
      }
    },
    {
      "cell_type": "code",
      "source": [
        "class LinkedList:\n",
        "    def __init__(self):\n",
        "        self.head = None\n",
        "\n",
        "    def append(self, value):\n",
        "        new_node = Node(value)\n",
        "        if not self.head:\n",
        "            self.head = new_node\n",
        "            return\n",
        "        current = self.head\n",
        "        while current.next:\n",
        "            current = current.next\n",
        "        current.next = new_node\n",
        "\n",
        "    def print_list(self):\n",
        "        current = self.head\n",
        "        while current:\n",
        "            print(current.value, end=\" -> \" if current.next else \"\")\n",
        "            current = current.next\n",
        "        print()\n",
        "\n",
        "    def rearrange_even_position_to_end(self):\n",
        "        if not self.head or not self.head.next:\n",
        "            return\n",
        "\n",
        "        odd_head = self.head\n",
        "        even_head = self.head.next\n",
        "        odd_tail = odd_head\n",
        "        even_tail = even_head\n",
        "\n",
        "        current = even_head.next\n",
        "        is_odd = True\n",
        "\n",
        "        while current:\n",
        "            if is_odd:\n",
        "                odd_tail.next = current\n",
        "                odd_tail = current\n",
        "            else:\n",
        "                even_tail.next = current\n",
        "                even_tail = current\n",
        "            is_odd = not is_odd\n",
        "            current = current.next\n",
        "\n",
        "        even_tail.next = None\n",
        "        odd_tail.next = even_head"
      ],
      "metadata": {
        "id": "H3MOr00OdpBE"
      },
      "execution_count": 63,
      "outputs": []
    },
    {
      "cell_type": "code",
      "source": [
        "ll = LinkedList()\n",
        "ll.append(1)\n",
        "ll.append(2)\n",
        "ll.append(3)\n",
        "ll.append(4)\n",
        "ll.append(5)\n",
        "\n",
        "ll.print_list()"
      ],
      "metadata": {
        "colab": {
          "base_uri": "https://localhost:8080/"
        },
        "id": "MQEa3gvPdwaw",
        "outputId": "40fef3c5-57d0-416e-f41e-197da6982652"
      },
      "execution_count": 64,
      "outputs": [
        {
          "output_type": "stream",
          "name": "stdout",
          "text": [
            "1 -> 2 -> 3 -> 4 -> 5\n"
          ]
        }
      ]
    },
    {
      "cell_type": "code",
      "source": [
        "ll.rearrange_even_position_to_end()\n",
        "ll.print_list()"
      ],
      "metadata": {
        "colab": {
          "base_uri": "https://localhost:8080/"
        },
        "id": "eUT2CjGzd06R",
        "outputId": "867199a8-ea2e-4757-8ce0-99733dca4ac2"
      },
      "execution_count": 65,
      "outputs": [
        {
          "output_type": "stream",
          "name": "stdout",
          "text": [
            "1 -> 3 -> 5 -> 2 -> 4\n"
          ]
        }
      ]
    },
    {
      "cell_type": "markdown",
      "source": [
        "# Problem 13: Given a non-negative number represented as a linked list, add one to it."
      ],
      "metadata": {
        "id": "xcPnWedVd7bv"
      }
    },
    {
      "cell_type": "code",
      "source": [
        "class LinkedList:\n",
        "    def __init__(self):\n",
        "        self.head = None\n",
        "\n",
        "    def append(self, value):\n",
        "        new_node = Node(value)\n",
        "        if not self.head:\n",
        "            self.head = new_node\n",
        "            return\n",
        "        current = self.head\n",
        "        while current.next:\n",
        "            current = current.next\n",
        "        current.next = new_node\n",
        "\n",
        "    def print_list(self):\n",
        "        current = self.head\n",
        "        while current:\n",
        "            print(current.value, end=\" -> \" if current.next else \"\")\n",
        "            current = current.next\n",
        "        print()\n",
        "\n",
        "    def add_one(self):\n",
        "        self.head = self.reverse(self.head)\n",
        "\n",
        "        current = self.head\n",
        "        carry = 1\n",
        "\n",
        "        while current:\n",
        "            total = current.value + carry\n",
        "            current.value = total % 10\n",
        "            carry = total // 10\n",
        "\n",
        "            if carry == 0:\n",
        "                break\n",
        "            current = current.next\n",
        "\n",
        "        if carry > 0:\n",
        "            new_node = Node(carry)\n",
        "            current.next = new_node\n",
        "\n",
        "        self.head = self.reverse(self.head)\n",
        "\n",
        "    def reverse(self, node):\n",
        "        prev = None\n",
        "        current = node\n",
        "        while current:\n",
        "            next_node = current.next\n",
        "            current.next = prev\n",
        "            prev = current\n",
        "            current = next_node\n",
        "        return prev"
      ],
      "metadata": {
        "id": "TAUYbeV1d8ZX"
      },
      "execution_count": 66,
      "outputs": []
    },
    {
      "cell_type": "code",
      "source": [
        "ll = LinkedList()\n",
        "ll.append(1)\n",
        "ll.append(2)\n",
        "ll.append(3)\n",
        "ll.print_list()"
      ],
      "metadata": {
        "colab": {
          "base_uri": "https://localhost:8080/"
        },
        "id": "Kf4St8UVeDZJ",
        "outputId": "e74014dc-c44e-46cd-eb5b-e75301d62030"
      },
      "execution_count": 67,
      "outputs": [
        {
          "output_type": "stream",
          "name": "stdout",
          "text": [
            "1 -> 2 -> 3\n"
          ]
        }
      ]
    },
    {
      "cell_type": "code",
      "source": [
        "ll.add_one()\n",
        "ll.print_list()"
      ],
      "metadata": {
        "colab": {
          "base_uri": "https://localhost:8080/"
        },
        "id": "_ZPMi7qdeImY",
        "outputId": "31053fc2-fd91-4630-e88a-dd435ada989c"
      },
      "execution_count": 68,
      "outputs": [
        {
          "output_type": "stream",
          "name": "stdout",
          "text": [
            "1 -> 2 -> 4\n"
          ]
        }
      ]
    },
    {
      "cell_type": "markdown",
      "source": [
        "# Problem 14: Given a sorted array and a target value, return the index if the target is found. If not, return the\n",
        "index where it would be inserted."
      ],
      "metadata": {
        "id": "0F4xJa6-XNhO"
      }
    },
    {
      "cell_type": "code",
      "source": [
        "def search_insert(arr, target):\n",
        "  for i in range(len(arr)):\n",
        "    if arr[i] == target:\n",
        "      return i\n",
        "    elif arr[i] > target:\n",
        "      return i\n",
        "  return len(arr)"
      ],
      "metadata": {
        "id": "nCSocqwQXOe_"
      },
      "execution_count": 21,
      "outputs": []
    },
    {
      "cell_type": "code",
      "source": [
        "nums = [1, 3, 5, 6]\n",
        "target = 5\n",
        "\n",
        "print(search_insert(nums, target))"
      ],
      "metadata": {
        "colab": {
          "base_uri": "https://localhost:8080/"
        },
        "id": "HkZUHvDzXchO",
        "outputId": "ad77a14c-c33d-4729-81f4-a3c433d53634"
      },
      "execution_count": 22,
      "outputs": [
        {
          "output_type": "stream",
          "name": "stdout",
          "text": [
            "2\n"
          ]
        }
      ]
    },
    {
      "cell_type": "markdown",
      "source": [
        "# Problem 15: Find the minimum element in a rotated sorted array."
      ],
      "metadata": {
        "id": "CygoHRl_W93p"
      }
    },
    {
      "cell_type": "code",
      "source": [
        "def find_min(arr):\n",
        "  min = arr[0]\n",
        "  for i in arr:\n",
        "    if i < min:\n",
        "      min = i\n",
        "  return min"
      ],
      "metadata": {
        "id": "oL9jlv0pXD9E"
      },
      "execution_count": 18,
      "outputs": []
    },
    {
      "cell_type": "code",
      "source": [
        "arr = [4, 5, 6, 7, 0, 1, 2]\n",
        "\n",
        "print(find_min(arr))"
      ],
      "metadata": {
        "colab": {
          "base_uri": "https://localhost:8080/"
        },
        "id": "fmBGhvgAW-_4",
        "outputId": "73b6fb58-8eee-4c17-a516-bee6486cdd7c"
      },
      "execution_count": 20,
      "outputs": [
        {
          "output_type": "stream",
          "name": "stdout",
          "text": [
            "0\n"
          ]
        }
      ]
    },
    {
      "cell_type": "markdown",
      "source": [
        "# Problem 16: Search for a target value in a rotated sorted array."
      ],
      "metadata": {
        "id": "cXCP5PTGWZPm"
      }
    },
    {
      "cell_type": "code",
      "source": [
        "def search(nums, target):\n",
        "    for i, index in enumerate(nums):\n",
        "      if index == target:\n",
        "        return i\n",
        "    return -1"
      ],
      "metadata": {
        "id": "_ZapnatSWoVV"
      },
      "execution_count": 16,
      "outputs": []
    },
    {
      "cell_type": "code",
      "source": [
        "nums = [4, 5, 6, 7, 0, 1, 2]\n",
        "target = 0\n",
        "\n",
        "print(search(nums, target))"
      ],
      "metadata": {
        "colab": {
          "base_uri": "https://localhost:8080/"
        },
        "id": "EZ14ctOkWpg2",
        "outputId": "f2264e43-d42b-414b-e1eb-3732b5f81a13"
      },
      "execution_count": 17,
      "outputs": [
        {
          "output_type": "stream",
          "name": "stdout",
          "text": [
            "4\n"
          ]
        }
      ]
    },
    {
      "cell_type": "markdown",
      "source": [
        "# Problem 17: Find the peak element in an array. A peak element is greater than its neighbors."
      ],
      "metadata": {
        "id": "LiM3siWTVu20"
      }
    },
    {
      "cell_type": "code",
      "source": [
        "def peek_element(arr):\n",
        "  n = len(arr)\n",
        "  for i in range(n):\n",
        "      if (i == 0 or nums[i] > nums[i-1]) and (i == n-1 or nums[i] > nums[i+1]):\n",
        "        return i"
      ],
      "metadata": {
        "id": "ZKzRKL6WVv6V"
      },
      "execution_count": 12,
      "outputs": []
    },
    {
      "cell_type": "code",
      "source": [
        "nums = [1,2,3,1]\n",
        "print(peek_element(nums))"
      ],
      "metadata": {
        "colab": {
          "base_uri": "https://localhost:8080/"
        },
        "id": "qyepqCnTWCEs",
        "outputId": "f5bd5783-61b8-4443-ff23-8977ffb02213"
      },
      "execution_count": 13,
      "outputs": [
        {
          "output_type": "stream",
          "name": "stdout",
          "text": [
            "2\n"
          ]
        }
      ]
    },
    {
      "cell_type": "markdown",
      "source": [
        "# Problem 18: Given a m x n matrix where each row and column is sorted in ascending order, count the number\n",
        "of negative numbers."
      ],
      "metadata": {
        "id": "uvQjklsbVTcU"
      }
    },
    {
      "cell_type": "code",
      "source": [
        "def negatives(arr):\n",
        "  count  = 0\n",
        "  for i in arr:\n",
        "    for j in i:\n",
        "      if j < 0:\n",
        "        count += 1\n",
        "  return count"
      ],
      "metadata": {
        "id": "cVpN0JgZVUh0"
      },
      "execution_count": 6,
      "outputs": []
    },
    {
      "cell_type": "code",
      "source": [
        "grid = [[4, 3, 2, -1], [3, 2, 1, -1], [1, 1, -1, -2], [-1, -1, -2, -3]]\n",
        "\n",
        "print(negatives(grid))"
      ],
      "metadata": {
        "colab": {
          "base_uri": "https://localhost:8080/"
        },
        "id": "w376cf9QVoyc",
        "outputId": "1645d8e4-446c-4b10-9a58-6ecc71e28eeb"
      },
      "execution_count": 7,
      "outputs": [
        {
          "output_type": "stream",
          "name": "stdout",
          "text": [
            "8\n"
          ]
        }
      ]
    },
    {
      "cell_type": "markdown",
      "source": [
        "# Problem 19: Given a 2D matrix sorted in ascending order in each row, and the first integer of each row is\n",
        "greater than the last integer of the previous row, determine if a target value is present in the matrix."
      ],
      "metadata": {
        "id": "ERNBR5mNUtuC"
      }
    },
    {
      "cell_type": "code",
      "source": [
        "def searchMatrix(matrix, target):\n",
        "    if not matrix or not matrix[0]:\n",
        "        return False\n",
        "\n",
        "    m, n = len(matrix), len(matrix[0])\n",
        "    low, high = 0, m * n - 1\n",
        "\n",
        "    while low <= high:\n",
        "        mid = (low + high) // 2\n",
        "        row, col = divmod(mid, n)\n",
        "        mid_value = matrix[row][col]\n",
        "\n",
        "        if mid_value == target:\n",
        "            return True\n",
        "        elif mid_value < target:\n",
        "            low = mid + 1\n",
        "        else:\n",
        "            high = mid - 1\n",
        "\n",
        "    return False\n"
      ],
      "metadata": {
        "id": "KMryv6fXVGRk"
      },
      "execution_count": 4,
      "outputs": []
    },
    {
      "cell_type": "code",
      "source": [
        "matrix = [[1, 3, 5, 7], [10, 11, 16, 20], [23, 30, 34, 60]]\n",
        "target = 3\n",
        "\n",
        "print(searchMatrix(matrix, target))"
      ],
      "metadata": {
        "colab": {
          "base_uri": "https://localhost:8080/"
        },
        "id": "NGjsbzZJVJu8",
        "outputId": "8f6b35db-5dcb-4d7a-8d00-117528275436"
      },
      "execution_count": 5,
      "outputs": [
        {
          "output_type": "stream",
          "name": "stdout",
          "text": [
            "True\n"
          ]
        }
      ]
    },
    {
      "cell_type": "markdown",
      "source": [
        "# Problem 20: Find Median in Two Sorted Arrays\n",
        "Problem: Given two sorted arrays, find the median of the combined sorted array."
      ],
      "metadata": {
        "id": "QSF3iGh0T3zN"
      }
    },
    {
      "cell_type": "code",
      "source": [
        "def median_sorted_arr(arr1, arr2):\n",
        "  arr = arr1 + arr2\n",
        "  arr.sort()\n",
        "  if len(arr)%2 == 0:\n",
        "    return (arr[len(arr)//2] + arr[len(arr)//2 - 1])/2\n",
        "  else:\n",
        "    return arr[len(arr)//2]"
      ],
      "metadata": {
        "id": "-ocF3TwGT7mb"
      },
      "execution_count": 2,
      "outputs": []
    },
    {
      "cell_type": "code",
      "source": [
        "nums1 = [1, 3]\n",
        "nums2 = [2]\n",
        "\n",
        "print(median_sorted_arr(nums1, nums2))"
      ],
      "metadata": {
        "colab": {
          "base_uri": "https://localhost:8080/"
        },
        "id": "lwsVgLMAUox9",
        "outputId": "4d1b9423-e364-458f-9c39-a38ba2530155"
      },
      "execution_count": 3,
      "outputs": [
        {
          "output_type": "stream",
          "name": "stdout",
          "text": [
            "2\n"
          ]
        }
      ]
    },
    {
      "cell_type": "markdown",
      "source": [
        "# Problem 21: Given a sorted character array and a target letter, find the smallest letter in the array that is greater than the target."
      ],
      "metadata": {
        "id": "2BLxKJhM_4r7"
      }
    },
    {
      "cell_type": "code",
      "source": [
        "def next_greatest_letter(letters, target):\n",
        "    low, high = 0, len(letters) - 1\n",
        "\n",
        "    while low <= high:\n",
        "        mid = low + (high - low) // 2\n",
        "\n",
        "        if letters[mid] > target:\n",
        "            high = mid - 1\n",
        "        else:\n",
        "            low = mid + 1\n",
        "\n",
        "    return letters[low % len(letters)]"
      ],
      "metadata": {
        "id": "y_JIcAWe_6Ja"
      },
      "execution_count": null,
      "outputs": []
    },
    {
      "cell_type": "code",
      "source": [
        "letters = ['c', 'f', 'j']\n",
        "target = 'a'\n",
        "print(next_greatest_letter(letters, target))"
      ],
      "metadata": {
        "colab": {
          "base_uri": "https://localhost:8080/"
        },
        "id": "3BhTpC6OAIr-",
        "outputId": "f7385c8b-4b27-4383-e08b-1d0016a337d1"
      },
      "execution_count": null,
      "outputs": [
        {
          "output_type": "stream",
          "name": "stdout",
          "text": [
            "c\n"
          ]
        }
      ]
    },
    {
      "cell_type": "code",
      "source": [
        "def sort_colors(nums):\n",
        "    low, mid, high = 0, 0, len(nums) - 1\n",
        "\n",
        "    while mid <= high:\n",
        "        if nums[mid] == 0:\n",
        "            nums[low], nums[mid] = nums[mid], nums[low]\n",
        "            low += 1\n",
        "            mid += 1\n",
        "        elif nums[mid] == 1:\n",
        "            mid += 1\n",
        "        else:\n",
        "            nums[high], nums[mid] = nums[mid], nums[high]\n",
        "            high -= 1\n",
        "\n",
        "    return nums"
      ],
      "metadata": {
        "id": "QN8lT90C_iUi"
      },
      "execution_count": null,
      "outputs": []
    },
    {
      "cell_type": "code",
      "source": [
        "nums = [2, 0, 2, 1, 1, 0]\n",
        "print(sort_colors(nums))"
      ],
      "metadata": {
        "colab": {
          "base_uri": "https://localhost:8080/"
        },
        "id": "ZgcAYvlK_vtr",
        "outputId": "9f79a826-9f4c-49ba-e2b7-382503cec6d8"
      },
      "execution_count": null,
      "outputs": [
        {
          "output_type": "stream",
          "name": "stdout",
          "text": [
            "[0, 0, 1, 1, 2, 2]\n"
          ]
        }
      ]
    },
    {
      "cell_type": "markdown",
      "source": [
        "# Problem 23: Find the kth largest element in an unsorted array."
      ],
      "metadata": {
        "id": "Mn_SZlQn_GIM"
      }
    },
    {
      "cell_type": "code",
      "source": [
        "def largest_ele(arr, k):\n",
        "  arr.sort(reverse = True)\n",
        "  return arr[k-1]"
      ],
      "metadata": {
        "id": "k2PnpNSS_IWC"
      },
      "execution_count": null,
      "outputs": []
    },
    {
      "cell_type": "code",
      "source": [
        "nums = [3, 2, 1, 5, 6, 4]\n",
        "k = 2\n",
        "\n",
        "print(largest_ele(nums, k))"
      ],
      "metadata": {
        "colab": {
          "base_uri": "https://localhost:8080/"
        },
        "id": "8mnRoe3Y_UGc",
        "outputId": "dea8ac37-a419-4e7e-9d67-0d3bca824c2d"
      },
      "execution_count": null,
      "outputs": [
        {
          "output_type": "stream",
          "name": "stdout",
          "text": [
            "5\n"
          ]
        }
      ]
    },
    {
      "cell_type": "markdown",
      "source": [
        "# Problem 24: Given an unsorted array, reorder it in-place such that nums[0] <= nums[1] >= nums[2] <= nums[3]..."
      ],
      "metadata": {
        "id": "BY046L-g-mJ7"
      }
    },
    {
      "cell_type": "code",
      "source": [
        "def zig_zag_reorder(nums):\n",
        "    for i in range(len(nums) - 1):\n",
        "        if i % 2 == 0:\n",
        "            if nums[i] > nums[i + 1]:\n",
        "                nums[i], nums[i + 1] = nums[i + 1], nums[i]\n",
        "        else:\n",
        "            if nums[i] < nums[i + 1]:\n",
        "                nums[i], nums[i + 1] = nums[i + 1], nums[i]\n",
        "    return nums"
      ],
      "metadata": {
        "id": "LXelNvnn-yAx"
      },
      "execution_count": null,
      "outputs": []
    },
    {
      "cell_type": "code",
      "source": [
        "nums = [3, 5, 2, 1, 6, 4]\n",
        "\n",
        "print(zig_zag_reorder(nums))"
      ],
      "metadata": {
        "colab": {
          "base_uri": "https://localhost:8080/"
        },
        "id": "1zgWwKOf-9zy",
        "outputId": "6b9685e6-fe38-49fd-a484-c09ab274242b"
      },
      "execution_count": null,
      "outputs": [
        {
          "output_type": "stream",
          "name": "stdout",
          "text": [
            "[3, 5, 1, 6, 2, 4]\n"
          ]
        }
      ]
    },
    {
      "cell_type": "markdown",
      "source": [
        "# Problem 25: Given an array of integers, calculate the sum of all its elements."
      ],
      "metadata": {
        "id": "lYTpgkD5-Zpk"
      }
    },
    {
      "cell_type": "code",
      "source": [
        "def sum_arr(arr):\n",
        "  sum = 0\n",
        "  for i in arr:\n",
        "    sum += i\n",
        "  return sum"
      ],
      "metadata": {
        "id": "QCBuF8Op-a-c"
      },
      "execution_count": null,
      "outputs": []
    },
    {
      "cell_type": "code",
      "source": [
        "arr= [1, 2, 3, 4, 5]\n",
        "\n",
        "print(sum_arr(arr))"
      ],
      "metadata": {
        "colab": {
          "base_uri": "https://localhost:8080/"
        },
        "id": "w06jm1Yd-gZr",
        "outputId": "08f7c52d-a113-467d-9540-5e8e6f4dbf6a"
      },
      "execution_count": null,
      "outputs": [
        {
          "output_type": "stream",
          "name": "stdout",
          "text": [
            "15\n"
          ]
        }
      ]
    },
    {
      "cell_type": "markdown",
      "source": [
        "# Problem 26: Find the maximum element in an array of integers."
      ],
      "metadata": {
        "id": "Jz8l6K5W5rRC"
      }
    },
    {
      "cell_type": "code",
      "source": [
        "def max_ele(arr):\n",
        "  max = arr[0]\n",
        "  for i in arr:\n",
        "    if i > max:\n",
        "      max = i\n",
        "  return max"
      ],
      "metadata": {
        "id": "tRM7C-_K5sJC"
      },
      "execution_count": null,
      "outputs": []
    },
    {
      "cell_type": "code",
      "source": [
        "arr = [3, 7, 2, 9, 4, 1]\n",
        "\n",
        "print(max_ele(arr))"
      ],
      "metadata": {
        "colab": {
          "base_uri": "https://localhost:8080/"
        },
        "id": "XPKBdtsz56-k",
        "outputId": "76252b14-9880-47b0-f462-2dd8c39896c9"
      },
      "execution_count": null,
      "outputs": [
        {
          "output_type": "stream",
          "name": "stdout",
          "text": [
            "9\n"
          ]
        }
      ]
    },
    {
      "cell_type": "markdown",
      "source": [
        "# Problem 27: Implement linear search to find the index of a target element in an array."
      ],
      "metadata": {
        "id": "LIxuHONn5Xel"
      }
    },
    {
      "cell_type": "code",
      "source": [
        "def linear(arr, target):\n",
        "  for i in range(len(arr)):\n",
        "    if(arr[i] == target):\n",
        "      return i\n",
        "  return -1"
      ],
      "metadata": {
        "id": "MfrMopaD5bBY"
      },
      "execution_count": null,
      "outputs": []
    },
    {
      "cell_type": "code",
      "source": [
        "arr = [5, 3, 8, 2, 7, 4]\n",
        "target = 8\n",
        "\n",
        "print(linear(arr, target))"
      ],
      "metadata": {
        "colab": {
          "base_uri": "https://localhost:8080/"
        },
        "id": "EiNwiDAa5lM1",
        "outputId": "167b1754-6c4e-452e-8380-ed94a264527b"
      },
      "execution_count": null,
      "outputs": [
        {
          "output_type": "stream",
          "name": "stdout",
          "text": [
            "2\n"
          ]
        }
      ]
    },
    {
      "cell_type": "markdown",
      "source": [
        "# Problem 28 Calculate the factorial of a given number."
      ],
      "metadata": {
        "id": "hCe3jAll5GSA"
      }
    },
    {
      "cell_type": "code",
      "source": [
        "def factorial(num):\n",
        "  return 1 if num == 0 else num* factorial(num-1)"
      ],
      "metadata": {
        "id": "DPln4g3s5F81"
      },
      "execution_count": null,
      "outputs": []
    },
    {
      "cell_type": "code",
      "source": [
        "print(factorial(5))"
      ],
      "metadata": {
        "colab": {
          "base_uri": "https://localhost:8080/"
        },
        "id": "NkYANprA5QEa",
        "outputId": "8e0fc585-137b-4a8f-f82a-37f44e8a9c3c"
      },
      "execution_count": null,
      "outputs": [
        {
          "output_type": "stream",
          "name": "stdout",
          "text": [
            "120\n"
          ]
        }
      ]
    },
    {
      "cell_type": "markdown",
      "source": [
        "# Problem 29: Check if a given number is a prime number."
      ],
      "metadata": {
        "id": "6tzbsUgP44EB"
      }
    },
    {
      "cell_type": "code",
      "source": [
        "def isPrime(num):\n",
        "  if num <= 1:\n",
        "    return False\n",
        "  for i in range(2, num):\n",
        "    if num % i == 0:\n",
        "      return False\n",
        "  return True"
      ],
      "metadata": {
        "id": "dEizsqe345Nq"
      },
      "execution_count": null,
      "outputs": []
    },
    {
      "cell_type": "code",
      "source": [
        "print(isPrime(7))"
      ],
      "metadata": {
        "colab": {
          "base_uri": "https://localhost:8080/"
        },
        "id": "T2703HkB4-eT",
        "outputId": "835f929b-871b-4e8b-ff65-dbdc6a188618"
      },
      "execution_count": null,
      "outputs": [
        {
          "output_type": "stream",
          "name": "stdout",
          "text": [
            "True\n"
          ]
        }
      ]
    },
    {
      "cell_type": "markdown",
      "source": [
        "# Problem 30: Generate the Fibonacci series up to a given number n."
      ],
      "metadata": {
        "id": "sfBDnkGU4D2B"
      }
    },
    {
      "cell_type": "code",
      "source": [
        "def fibb(num):\n",
        "  if num <= 0:\n",
        "    return []\n",
        "  elif num == 1:\n",
        "    return [0]\n",
        "  fib = [0,1]\n",
        "  for i in range(2, num):\n",
        "    fib.append(fib[i-1] + fib[i-2])\n",
        "  return fib"
      ],
      "metadata": {
        "id": "jvjX4Lvl4Fur"
      },
      "execution_count": null,
      "outputs": []
    },
    {
      "cell_type": "code",
      "source": [
        "num = 8\n",
        "\n",
        "print(fibb(num))"
      ],
      "metadata": {
        "colab": {
          "base_uri": "https://localhost:8080/"
        },
        "id": "w0dQ9Tk84S4Z",
        "outputId": "85a8aca6-1d48-498d-d8c9-a03877f91cd6"
      },
      "execution_count": null,
      "outputs": [
        {
          "output_type": "stream",
          "name": "stdout",
          "text": [
            "[0, 1, 1, 2, 3, 5, 8, 13]\n"
          ]
        }
      ]
    },
    {
      "cell_type": "markdown",
      "source": [
        "# Problem 31: Calculate the power of a number using recursion."
      ],
      "metadata": {
        "id": "4zftRz8o3fqo"
      }
    },
    {
      "cell_type": "code",
      "source": [
        "def pow(base, exponent):\n",
        "  if exponent == 0:\n",
        "    return 1\n",
        "  return base*pow(base, exponent-1)"
      ],
      "metadata": {
        "id": "Z7uqasPf3hk5"
      },
      "execution_count": null,
      "outputs": []
    },
    {
      "cell_type": "code",
      "source": [
        "base = 3\n",
        "exponent = 4\n",
        "\n",
        "print(pow(base, exponent))"
      ],
      "metadata": {
        "colab": {
          "base_uri": "https://localhost:8080/"
        },
        "id": "71yhQPEH3vmh",
        "outputId": "5d5c6fc5-d13f-44de-89d6-956e4d170026"
      },
      "execution_count": null,
      "outputs": [
        {
          "output_type": "stream",
          "name": "stdout",
          "text": [
            "81\n"
          ]
        }
      ]
    },
    {
      "cell_type": "markdown",
      "source": [
        "# Problem 32: Reverse a given string."
      ],
      "metadata": {
        "id": "BMX1sUAe3PEZ"
      }
    },
    {
      "cell_type": "code",
      "source": [
        "def rev_str(str):\n",
        "  return str[::-1]\n",
        "\n",
        "temp = 'hello'\n",
        "print(rev_str(temp))"
      ],
      "metadata": {
        "colab": {
          "base_uri": "https://localhost:8080/"
        },
        "id": "uoxSRTjW3Q-t",
        "outputId": "a227e820-6fa9-4c76-8fd7-c054e255c0bf"
      },
      "execution_count": null,
      "outputs": [
        {
          "output_type": "stream",
          "name": "stdout",
          "text": [
            "olleh\n"
          ]
        }
      ]
    },
    {
      "cell_type": "code",
      "source": [],
      "metadata": {
        "id": "e48cO6uR3b5O"
      },
      "execution_count": null,
      "outputs": []
    }
  ]
}