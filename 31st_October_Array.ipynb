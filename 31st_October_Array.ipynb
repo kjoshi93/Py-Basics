{
 "cells": [
  {
   "cell_type": "markdown",
   "id": "5ce68d5a-999a-4c56-a746-3c789fc22fd8",
   "metadata": {},
   "source": [
    "1. Given an array, check if it contains any duplicates or not.\n",
    "arr = [1, 2, 4, 2, 5, 9]\n",
    "Output = True"
   ]
  },
  {
   "cell_type": "code",
   "execution_count": 10,
   "id": "d7e3355d-48c0-43ce-8dab-aa4d1066455c",
   "metadata": {},
   "outputs": [],
   "source": [
    "# time complexity = O(n^2)\n",
    "# space complexity = O(1)\n",
    "\n",
    "def check_duplicate(arr):\n",
    "    for index, item in enumerate(arr):\n",
    "        if item in arr[index+1:]:\n",
    "            return True\n",
    "    return False"
   ]
  },
  {
   "cell_type": "code",
   "execution_count": 11,
   "id": "a1b1f6d4-861b-455c-be47-91a5504201fd",
   "metadata": {},
   "outputs": [
    {
     "data": {
      "text/plain": [
       "True"
      ]
     },
     "execution_count": 11,
     "metadata": {},
     "output_type": "execute_result"
    }
   ],
   "source": [
    "arr = [1, 2, 4, 2, 5, 9]\n",
    "\n",
    "check_duplicate(arr)"
   ]
  },
  {
   "cell_type": "code",
   "execution_count": 14,
   "id": "482de71c-a7d3-4300-940c-20a0cbee6d71",
   "metadata": {},
   "outputs": [],
   "source": [
    "# time complexity = O(n)\n",
    "# space complexity = O(n)\n",
    "\n",
    "def check_duplicate(arr):\n",
    "    # Creating a set to store unique elements\n",
    "    unique_elements = set()\n",
    "    \n",
    "    for item in arr:\n",
    "        if item in unique_elements:\n",
    "            return True\n",
    "        unique_elements.add(item)\n",
    "    \n",
    "    return False"
   ]
  },
  {
   "cell_type": "code",
   "execution_count": 15,
   "id": "95bd6e91-971d-42f4-ac19-c9eebba9cdaf",
   "metadata": {},
   "outputs": [
    {
     "data": {
      "text/plain": [
       "True"
      ]
     },
     "execution_count": 15,
     "metadata": {},
     "output_type": "execute_result"
    }
   ],
   "source": [
    "arr = [1, 2, 4, 2, 5, 9]\n",
    "check_duplicate(arr)"
   ]
  },
  {
   "cell_type": "code",
   "execution_count": null,
   "id": "6ee49e03-5e7a-4a5e-966b-d84cb332acec",
   "metadata": {},
   "outputs": [],
   "source": []
  },
  {
   "cell_type": "code",
   "execution_count": null,
   "id": "535cc001-1848-41a0-ab2f-2253a8833c49",
   "metadata": {},
   "outputs": [],
   "source": []
  },
  {
   "cell_type": "markdown",
   "id": "bf4f7d44-52d5-4955-9efa-f9dae559ac7e",
   "metadata": {},
   "source": [
    "2. Given an array and an integer k, rotate the array to the right by k steps.\n",
    "arr = [1, 2, 3, 4, 5, 6, 7] k = 3\n",
    "Output = [5, 6, 7, 1, 2, 3, 4]"
   ]
  },
  {
   "cell_type": "code",
   "execution_count": 24,
   "id": "289ff4e1-02e9-4af5-9801-f736609a406c",
   "metadata": {},
   "outputs": [],
   "source": [
    "# time complexity = O(n^2)\n",
    "# space complexity = O(1)\n",
    "\n",
    "def rotate_array(arr, steps):\n",
    "    arr_length = len(arr)\n",
    "    steps = steps % arr_length  # handle the case where steps is larger than the array size\n",
    "    arr[:] = arr[-steps:] + arr[:-steps]"
   ]
  },
  {
   "cell_type": "code",
   "execution_count": 25,
   "id": "59456d17-0b99-4107-9d32-7e3f3f1ef31c",
   "metadata": {},
   "outputs": [
    {
     "name": "stdout",
     "output_type": "stream",
     "text": [
      "[5, 6, 7, 1, 2, 3, 4]\n"
     ]
    }
   ],
   "source": [
    "arr = [1, 2, 3, 4, 5, 6, 7] \n",
    "k = 3\n",
    "\n",
    "rotate_array(arr, k)\n",
    "print(arr)"
   ]
  },
  {
   "cell_type": "code",
   "execution_count": null,
   "id": "94e5ebd9-ad8c-4c9a-b3d7-dc228784655e",
   "metadata": {},
   "outputs": [],
   "source": []
  },
  {
   "cell_type": "code",
   "execution_count": null,
   "id": "6e118d3e-eb7f-4557-8823-70eb2b5c1374",
   "metadata": {},
   "outputs": [],
   "source": []
  },
  {
   "cell_type": "markdown",
   "id": "3cfe68e1-4300-4c14-823d-f6a5009a4223",
   "metadata": {},
   "source": [
    "3. Reverse the given array in-place, means without using any extra data structure.\n",
    "arr = [2, 4, 5, 7, 9, 12]\n",
    "Output = [12, 9, 7, 5, 4, 2]"
   ]
  },
  {
   "cell_type": "code",
   "execution_count": 47,
   "id": "c86166d0-0132-4704-a84f-d22bf0f94351",
   "metadata": {},
   "outputs": [],
   "source": [
    "# time complexity = O(n)\n",
    "# space complexity = O(1)\n",
    "\n",
    "def reverse_arr(arr):\n",
    "    arr = arr[::-1]\n",
    "    return arr"
   ]
  },
  {
   "cell_type": "code",
   "execution_count": 48,
   "id": "acac801b-ae09-4773-ac50-1428bf4a6f4e",
   "metadata": {},
   "outputs": [
    {
     "data": {
      "text/plain": [
       "[12, 9, 7, 5, 4, 2]"
      ]
     },
     "execution_count": 48,
     "metadata": {},
     "output_type": "execute_result"
    }
   ],
   "source": [
    "arr = [2, 4, 5, 7, 9, 12]\n",
    "\n",
    "reverse_arr(arr)"
   ]
  },
  {
   "cell_type": "code",
   "execution_count": null,
   "id": "77dadd9d-9890-48ca-b5df-c21b973d105a",
   "metadata": {},
   "outputs": [],
   "source": []
  },
  {
   "cell_type": "code",
   "execution_count": null,
   "id": "7819521d-00ce-409b-9a73-91edff7e5cf2",
   "metadata": {},
   "outputs": [],
   "source": []
  },
  {
   "cell_type": "markdown",
   "id": "87a64518-29a1-44cb-91d2-788105f80710",
   "metadata": {},
   "source": [
    "4. Given an array of integers, find the maximum element in an array\n",
    "arr = [10, 5, 20, 8, 15]\n",
    "Output = 20"
   ]
  },
  {
   "cell_type": "code",
   "execution_count": 49,
   "id": "f38768c4-de96-4678-a541-a676728d0360",
   "metadata": {},
   "outputs": [],
   "source": [
    "# time complexity = O(n)\n",
    "# space complexity = O(1)\n",
    "\n",
    "def maximum_element(arr):\n",
    "    max_element = arr[0]\n",
    "    for i in arr:\n",
    "        if i > max_element:\n",
    "            max_element = i\n",
    "    return max_element"
   ]
  },
  {
   "cell_type": "code",
   "execution_count": 50,
   "id": "aba0b485-b395-488e-ae16-daa90645bf95",
   "metadata": {},
   "outputs": [
    {
     "name": "stdout",
     "output_type": "stream",
     "text": [
      "20\n"
     ]
    }
   ],
   "source": [
    "arr = [10, 5, 20, 8, 15] \n",
    "print(maximum_element(arr))"
   ]
  },
  {
   "cell_type": "code",
   "execution_count": null,
   "id": "e048c30d-4954-4da1-adc1-1319a41446bc",
   "metadata": {},
   "outputs": [],
   "source": []
  },
  {
   "cell_type": "code",
   "execution_count": null,
   "id": "9280fd1a-ba2f-4778-91b4-650b4d43c660",
   "metadata": {},
   "outputs": [],
   "source": []
  },
  {
   "cell_type": "markdown",
   "id": "0d357e4f-c1d7-4acf-abd0-496b852f63ac",
   "metadata": {},
   "source": [
    "5. Given a sorted array, remove the duplicate element without using any extra data structure.\n",
    "arr = [1, 1, 2, 2, 2, 3, 3, 4, 4, 4, 5, 5]\n",
    "Output = [1, 2, 3, 4, 5]"
   ]
  },
  {
   "cell_type": "code",
   "execution_count": 53,
   "id": "9d786998-88d7-41be-8ca6-185730c9eea9",
   "metadata": {},
   "outputs": [],
   "source": [
    "# time complexity = O(n)\n",
    "# space complexity = O(1)\n",
    "\n",
    "def remove_duplicates(arr): \n",
    "    if len(arr) == 0:\n",
    "        return arr\n",
    "\n",
    "    write_index = 0 \n",
    "\n",
    "    for read_index in range(1, len(arr)):\n",
    "        if arr[read_index] != arr[write_index]:\n",
    "            write_index += 1\n",
    "            arr[write_index] = arr[read_index]\n",
    "\n",
    "    return arr[:write_index + 1]"
   ]
  },
  {
   "cell_type": "code",
   "execution_count": 54,
   "id": "7a19dd55-e5dd-4be8-b792-96a416e2c906",
   "metadata": {},
   "outputs": [
    {
     "data": {
      "text/plain": [
       "[1, 2, 3, 4, 5]"
      ]
     },
     "execution_count": 54,
     "metadata": {},
     "output_type": "execute_result"
    }
   ],
   "source": [
    "arr = [1, 1, 2, 2, 2, 3, 3, 4, 4, 4, 5, 5]\n",
    "remove_duplicates(arr)"
   ]
  },
  {
   "cell_type": "code",
   "execution_count": null,
   "id": "fa71a86d-0c5e-464d-9736-3e4dbe3b3069",
   "metadata": {},
   "outputs": [],
   "source": []
  }
 ],
 "metadata": {
  "kernelspec": {
   "display_name": "Python 3 (ipykernel)",
   "language": "python",
   "name": "python3"
  },
  "language_info": {
   "codemirror_mode": {
    "name": "ipython",
    "version": 3
   },
   "file_extension": ".py",
   "mimetype": "text/x-python",
   "name": "python",
   "nbconvert_exporter": "python",
   "pygments_lexer": "ipython3",
   "version": "3.10.8"
  }
 },
 "nbformat": 4,
 "nbformat_minor": 5
}
