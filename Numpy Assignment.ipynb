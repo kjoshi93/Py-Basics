{
  "nbformat": 4,
  "nbformat_minor": 0,
  "metadata": {
    "colab": {
      "provenance": []
    },
    "kernelspec": {
      "name": "python3",
      "display_name": "Python 3"
    },
    "language_info": {
      "name": "python"
    }
  },
  "cells": [
    {
      "cell_type": "markdown",
      "source": [
        "# 1. What is a Python library? Why do we use Python libraries?\n",
        "\n",
        "Answer: python library is a set of modules used to provide modularity and enhance reusability of code."
      ],
      "metadata": {
        "id": "pvfGkwbJgAcr"
      }
    },
    {
      "cell_type": "markdown",
      "source": [
        "# 2. What is the difference between Numpy array and List?\n",
        "\n",
        "Answer:\n",
        "\n",
        "1. In numpy array it follows uniformity for efficient numerical operations whereas the python list can hold different data types makes it more flexible but not effiecient compared to numpy array\n",
        "\n",
        "2. Numpy uses contiguous blocks of memory for optimized and fast operations to be performed whereas list are holding elements in non contiguous manner which makes it slower in iterations etc.\n",
        "\n",
        "3. numpy array being homogeneous provides memeory efficient as compared to python list which is heterogenous\n",
        "\n",
        "4. numpy array supports multi dimentional arrays allowing operations on higher dimentional data but the list requires nesting of other lists to perform the same which is very time and memeory consuming"
      ],
      "metadata": {
        "id": "VANDnnBJgMuU"
      }
    },
    {
      "cell_type": "markdown",
      "source": [
        "# 3. Find the shape, size and dimension of the following array?\n",
        "```\n",
        "[[1, 2, 3, 4]\n",
        "[5, 6, 7, 8],\n",
        "[9, 10, 11, 12]]\n",
        "```"
      ],
      "metadata": {
        "id": "ErOSiz2WhWbI"
      }
    },
    {
      "cell_type": "code",
      "execution_count": 1,
      "metadata": {
        "id": "UaPNMsyWe9aK"
      },
      "outputs": [],
      "source": [
        "import numpy as np"
      ]
    },
    {
      "cell_type": "code",
      "source": [
        "np_arr = np.array(\n",
        "[[1, 2, 3, 4],\n",
        "[5, 6, 7, 8],\n",
        "[9, 10, 11, 12]])\n",
        "\n",
        "print(np_arr)"
      ],
      "metadata": {
        "colab": {
          "base_uri": "https://localhost:8080/"
        },
        "id": "ptccb0b1hfm_",
        "outputId": "3d79857c-b994-4d95-bd2c-cbf00da942c8"
      },
      "execution_count": 3,
      "outputs": [
        {
          "output_type": "stream",
          "name": "stdout",
          "text": [
            "[[ 1  2  3  4]\n",
            " [ 5  6  7  8]\n",
            " [ 9 10 11 12]]\n"
          ]
        }
      ]
    },
    {
      "cell_type": "code",
      "source": [
        "print(np_arr.shape)\n",
        "\n",
        "print(np_arr.ndim)\n",
        "\n",
        "print(np_arr.size)"
      ],
      "metadata": {
        "colab": {
          "base_uri": "https://localhost:8080/"
        },
        "id": "_3mKUNFjhmGw",
        "outputId": "a6f92f75-3f1d-445c-8559-7f8a50e62a2c"
      },
      "execution_count": 4,
      "outputs": [
        {
          "output_type": "stream",
          "name": "stdout",
          "text": [
            "(3, 4)\n",
            "2\n",
            "12\n"
          ]
        }
      ]
    },
    {
      "cell_type": "markdown",
      "source": [
        "# 4. Write python code to access the first row of the following array?\n",
        "```\n",
        "[[1, 2, 3, 4]\n",
        "[5, 6, 7, 8],\n",
        "[9, 10, 11, 12]]\n",
        "```"
      ],
      "metadata": {
        "id": "ai1A7QzJh0Z-"
      }
    },
    {
      "cell_type": "code",
      "source": [
        "np_arr[0]"
      ],
      "metadata": {
        "colab": {
          "base_uri": "https://localhost:8080/"
        },
        "id": "vIdMdQXjhxoY",
        "outputId": "3ca181f4-3e69-4b40-9c6b-3652e96a8042"
      },
      "execution_count": 5,
      "outputs": [
        {
          "output_type": "execute_result",
          "data": {
            "text/plain": [
              "array([1, 2, 3, 4])"
            ]
          },
          "metadata": {},
          "execution_count": 5
        }
      ]
    },
    {
      "cell_type": "markdown",
      "source": [
        "# 5. How do you access the element at the third row and fourth column from the given numpy array?"
      ],
      "metadata": {
        "id": "Nd69aDLBh-E8"
      }
    },
    {
      "cell_type": "code",
      "source": [
        "np_arr[2][3]"
      ],
      "metadata": {
        "colab": {
          "base_uri": "https://localhost:8080/"
        },
        "id": "nV5X4Bpxh6x1",
        "outputId": "0094b13d-e499-4874-8d14-f4b3afc5287b"
      },
      "execution_count": 6,
      "outputs": [
        {
          "output_type": "execute_result",
          "data": {
            "text/plain": [
              "12"
            ]
          },
          "metadata": {},
          "execution_count": 6
        }
      ]
    },
    {
      "cell_type": "markdown",
      "source": [
        "# 6. Write code to extract all odd-indexed elements from the given numpy array?"
      ],
      "metadata": {
        "id": "-iFO9W1OiImk"
      }
    },
    {
      "cell_type": "code",
      "source": [
        "np_arr[:, 1::2]"
      ],
      "metadata": {
        "colab": {
          "base_uri": "https://localhost:8080/"
        },
        "id": "rOXSyst4iBoG",
        "outputId": "fd35fdc0-3434-402e-9eb3-7fe54d23332d"
      },
      "execution_count": 8,
      "outputs": [
        {
          "output_type": "execute_result",
          "data": {
            "text/plain": [
              "array([[ 2,  4],\n",
              "       [ 6,  8],\n",
              "       [10, 12]])"
            ]
          },
          "metadata": {},
          "execution_count": 8
        }
      ]
    },
    {
      "cell_type": "markdown",
      "source": [
        "# 7. How can you generate a random 3x3 matrix with values between 0 and 1?"
      ],
      "metadata": {
        "id": "XHL8rTWeifaT"
      }
    },
    {
      "cell_type": "code",
      "source": [
        "random_matrix_3x3 = np.random.rand(3,3)\n",
        "\n",
        "random_matrix_3x3"
      ],
      "metadata": {
        "colab": {
          "base_uri": "https://localhost:8080/"
        },
        "id": "68Zn6pNfiRJg",
        "outputId": "816a1efc-11e9-4d13-dec1-ff5d23bdf1a2"
      },
      "execution_count": 9,
      "outputs": [
        {
          "output_type": "execute_result",
          "data": {
            "text/plain": [
              "array([[0.96125056, 0.41317954, 0.18152231],\n",
              "       [0.06498055, 0.11433866, 0.9843332 ],\n",
              "       [0.79593825, 0.34149387, 0.46094858]])"
            ]
          },
          "metadata": {},
          "execution_count": 9
        }
      ]
    },
    {
      "cell_type": "markdown",
      "source": [
        "8. Describe the difference between np.random.rand and np.random.randn?\n",
        "\n",
        "Answer:\n",
        "\n",
        "1. np.random.rand gives unifrom distributed random numbers, np.random.randn provides normal gaussian distributed random numbers\n",
        "\n",
        "2. np.random.rand() ranges [0,1] whereas np.random.randn ranges between -infinity and +infinity"
      ],
      "metadata": {
        "id": "gStkjGs6irVf"
      }
    },
    {
      "cell_type": "markdown",
      "source": [
        "# 9. Write code to increase the dimension of the following array?"
      ],
      "metadata": {
        "id": "72n7K4jajKg6"
      }
    },
    {
      "cell_type": "code",
      "source": [
        "expanded_arr = np.expand_dims(np_arr, axis=0)\n",
        "\n",
        "print(expanded_arr)\n",
        "\n",
        "print(expanded_arr.shape)"
      ],
      "metadata": {
        "colab": {
          "base_uri": "https://localhost:8080/"
        },
        "id": "WtOiQYjtio-Y",
        "outputId": "3e61f339-fb29-4511-ae2b-9ad8154a6a5c"
      },
      "execution_count": 11,
      "outputs": [
        {
          "output_type": "stream",
          "name": "stdout",
          "text": [
            "[[[ 1  2  3  4]\n",
            "  [ 5  6  7  8]\n",
            "  [ 9 10 11 12]]]\n",
            "(1, 3, 4)\n"
          ]
        }
      ]
    },
    {
      "cell_type": "markdown",
      "source": [
        "# 10. How to transpose the following array in NumPy?"
      ],
      "metadata": {
        "id": "Qvq4imWHjcf0"
      }
    },
    {
      "cell_type": "code",
      "source": [
        "transpose = np_arr.T\n",
        "\n",
        "print(transpose)\n",
        "print(transpose.shape)"
      ],
      "metadata": {
        "colab": {
          "base_uri": "https://localhost:8080/"
        },
        "id": "xj7XqxbFjXqo",
        "outputId": "8cdfcbd3-a1c5-4dd1-f5af-63075aa0ddae"
      },
      "execution_count": 14,
      "outputs": [
        {
          "output_type": "stream",
          "name": "stdout",
          "text": [
            "[[ 1  5  9]\n",
            " [ 2  6 10]\n",
            " [ 3  7 11]\n",
            " [ 4  8 12]]\n",
            "(4, 3)\n"
          ]
        }
      ]
    },
    {
      "cell_type": "markdown",
      "source": [
        "11. Consider the following matrix:\n",
        "```\n",
        "Matrix A: [[1, 2, 3, 4] [5, 6, 7, 8],[9, 10, 11, 12]]\n",
        "Matrix B: [[1, 2, 3, 4] [5, 6, 7, 8],[9, 10, 11, 12]]\n",
        "```\n",
        "Perform the following operation using Python1\n",
        ",+ Index wise multiplicatio'\n",
        "]+ Matrix multiplicatio'\n",
        "+ Add both the matricK\n",
        "-+ Subtract matrix B from\n",
        "+ Divide Matrix B by A"
      ],
      "metadata": {
        "id": "ZawZ0RRbjqF8"
      }
    },
    {
      "cell_type": "code",
      "source": [
        "matrixA = np.array([[1, 2, 3, 4],[5, 6, 7, 8],[9, 10, 11, 12]])\n",
        "\n",
        "matrixB = np.array([[1, 2, 3, 4],[5, 6, 7, 8],[9, 10, 11, 12]])\n"
      ],
      "metadata": {
        "id": "McRykJmzji0A"
      },
      "execution_count": 15,
      "outputs": []
    },
    {
      "cell_type": "code",
      "source": [
        "# index wise multiplication\n",
        "\n",
        "matrixA * matrixB"
      ],
      "metadata": {
        "colab": {
          "base_uri": "https://localhost:8080/"
        },
        "id": "xtXHy3kuj4_H",
        "outputId": "f5a655c7-1163-4cd5-ad33-a4cb3ac84a4c"
      },
      "execution_count": 16,
      "outputs": [
        {
          "output_type": "execute_result",
          "data": {
            "text/plain": [
              "array([[  1,   4,   9,  16],\n",
              "       [ 25,  36,  49,  64],\n",
              "       [ 81, 100, 121, 144]])"
            ]
          },
          "metadata": {},
          "execution_count": 16
        }
      ]
    },
    {
      "cell_type": "code",
      "source": [
        "# matrix multiplication\n",
        "\n",
        "np.dot(matrixA, matrixB.T)"
      ],
      "metadata": {
        "colab": {
          "base_uri": "https://localhost:8080/"
        },
        "id": "FVnuJtpvkHnn",
        "outputId": "fc21ca25-5819-4665-f55f-e8a64a0f38b3"
      },
      "execution_count": 18,
      "outputs": [
        {
          "output_type": "execute_result",
          "data": {
            "text/plain": [
              "array([[ 30,  70, 110],\n",
              "       [ 70, 174, 278],\n",
              "       [110, 278, 446]])"
            ]
          },
          "metadata": {},
          "execution_count": 18
        }
      ]
    },
    {
      "cell_type": "code",
      "source": [
        "# add both the matrices\n",
        "\n",
        "matrixA + matrixB"
      ],
      "metadata": {
        "colab": {
          "base_uri": "https://localhost:8080/"
        },
        "id": "-I0HsNHPkNjX",
        "outputId": "a2072a56-2da1-4ab5-9899-6ca74b151db6"
      },
      "execution_count": 19,
      "outputs": [
        {
          "output_type": "execute_result",
          "data": {
            "text/plain": [
              "array([[ 2,  4,  6,  8],\n",
              "       [10, 12, 14, 16],\n",
              "       [18, 20, 22, 24]])"
            ]
          },
          "metadata": {},
          "execution_count": 19
        }
      ]
    },
    {
      "cell_type": "code",
      "source": [
        "# subtract matrix B from matrix A\n",
        "\n",
        "matrixB - matrixA"
      ],
      "metadata": {
        "colab": {
          "base_uri": "https://localhost:8080/"
        },
        "id": "HL0BwyEKkUfl",
        "outputId": "494b6520-e5a5-466d-c1f9-f55b06f01dc3"
      },
      "execution_count": 20,
      "outputs": [
        {
          "output_type": "execute_result",
          "data": {
            "text/plain": [
              "array([[0, 0, 0, 0],\n",
              "       [0, 0, 0, 0],\n",
              "       [0, 0, 0, 0]])"
            ]
          },
          "metadata": {},
          "execution_count": 20
        }
      ]
    },
    {
      "cell_type": "code",
      "source": [
        "# divide matrix b by A\n",
        "\n",
        "matrixB / matrixA"
      ],
      "metadata": {
        "colab": {
          "base_uri": "https://localhost:8080/"
        },
        "id": "Uwn1uWxrkbNo",
        "outputId": "6e566e40-6367-4920-9181-99cd424c0588"
      },
      "execution_count": 22,
      "outputs": [
        {
          "output_type": "execute_result",
          "data": {
            "text/plain": [
              "array([[1., 1., 1., 1.],\n",
              "       [1., 1., 1., 1.],\n",
              "       [1., 1., 1., 1.]])"
            ]
          },
          "metadata": {},
          "execution_count": 22
        }
      ]
    },
    {
      "cell_type": "markdown",
      "source": [
        "# 12. Which function in Numpy can be used to swap the byte order of an array?\n",
        "\n",
        "Answer: numpy.ndarray.byteswap(inplace=False)\n"
      ],
      "metadata": {
        "id": "9LsrcYXVkohP"
      }
    },
    {
      "cell_type": "markdown",
      "source": [
        "# 13. What is the significance of the np.linalg.inv function?\n",
        "\n",
        "Answer: this is a numpy function in linear algebra module which provides inverse of a square matrix"
      ],
      "metadata": {
        "id": "HIg5WxWSk3jB"
      }
    },
    {
      "cell_type": "markdown",
      "source": [
        "# 14. What does the np.reshape function do, and how is it used?\n",
        "\n",
        "Answer: to change the shape of a matrix we use np.reshape\n",
        "\n",
        "example: if a matrix of 3x4 matrix is created but for any operation it needs to be reshaped to 4x3, we uses np.reshape"
      ],
      "metadata": {
        "id": "agtaIEmSlG41"
      }
    },
    {
      "cell_type": "markdown",
      "source": [
        "# 15. What is broadcasting in Numpy?\n",
        "\n",
        "Answer:\n",
        "\n",
        "broadcasting is the feature of numpy which allows array of different shapes to be auto align and operate on element wise without replication of data which makes array operations more efficient\n",
        "\n",
        "example: arr + 5, means broadcasting of adding 5 as an operation on arr without looping or creating any copy of the arr to do so. thats numpy broadcasting.\n"
      ],
      "metadata": {
        "id": "6gDpijW2lgrC"
      }
    },
    {
      "cell_type": "code",
      "source": [],
      "metadata": {
        "id": "6UectJX6kt7H"
      },
      "execution_count": null,
      "outputs": []
    }
  ]
}