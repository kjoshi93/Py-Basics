{
 "cells": [
  {
   "cell_type": "markdown",
   "id": "7e2911af-fb70-4a03-a635-356b611651b3",
   "metadata": {},
   "source": [
    "Basic Level:"
   ]
  },
  {
   "cell_type": "markdown",
   "id": "0bd7e7b6-bc78-4cef-bee2-3e94fe313f11",
   "metadata": {},
   "source": [
    "1. Write a Python program to print the numbers from 1 to 10 using a `for` loop."
   ]
  },
  {
   "cell_type": "code",
   "execution_count": 1,
   "id": "9670f258-575c-41b0-87d6-1b1912d977c1",
   "metadata": {},
   "outputs": [
    {
     "name": "stdout",
     "output_type": "stream",
     "text": [
      "1\n",
      "2\n",
      "3\n",
      "4\n",
      "5\n",
      "6\n",
      "7\n",
      "8\n",
      "9\n",
      "10\n"
     ]
    }
   ],
   "source": [
    "for i in range(1,11):\n",
    "    print(i)"
   ]
  },
  {
   "cell_type": "markdown",
   "id": "cfacc59a-5f53-4a53-9310-6dd8c9c75ef9",
   "metadata": {},
   "source": [
    "2. Create a program that calculates the sum of all numbers in a list using a `for` loop."
   ]
  },
  {
   "cell_type": "code",
   "execution_count": 2,
   "id": "28858d6f-beb6-437b-96b4-bef1d1d5b93f",
   "metadata": {},
   "outputs": [
    {
     "data": {
      "text/plain": [
       "[1, 2, 3, 4, 5]"
      ]
     },
     "execution_count": 2,
     "metadata": {},
     "output_type": "execute_result"
    }
   ],
   "source": [
    "tempList = [1,2,3,4,5]\n",
    "tempList"
   ]
  },
  {
   "cell_type": "code",
   "execution_count": 3,
   "id": "281ffef3-f853-4b6e-83ad-ab2505c2b7a6",
   "metadata": {},
   "outputs": [
    {
     "name": "stdout",
     "output_type": "stream",
     "text": [
      "15\n"
     ]
    }
   ],
   "source": [
    "sum = 0\n",
    "\n",
    "for i in tempList:\n",
    "    sum += i\n",
    "    \n",
    "print(sum)"
   ]
  },
  {
   "cell_type": "markdown",
   "id": "58960c57-f96a-4b18-896a-c8ee99904076",
   "metadata": {},
   "source": [
    "3. Write a program to print the characters of a string in reverse order using a `for` loop."
   ]
  },
  {
   "cell_type": "code",
   "execution_count": 4,
   "id": "9761408b-4bb4-41c6-a0c8-4d7b47221190",
   "metadata": {},
   "outputs": [
    {
     "data": {
      "text/plain": [
       "'abcde'"
      ]
     },
     "execution_count": 4,
     "metadata": {},
     "output_type": "execute_result"
    }
   ],
   "source": [
    "tempStr = 'abcde'\n",
    "tempStr"
   ]
  },
  {
   "cell_type": "code",
   "execution_count": 8,
   "id": "737ae1c9-4572-4f69-8b10-6802d342fd99",
   "metadata": {},
   "outputs": [
    {
     "name": "stdout",
     "output_type": "stream",
     "text": [
      "e\n",
      "d\n",
      "c\n",
      "b\n",
      "a\n"
     ]
    }
   ],
   "source": [
    "for i in range(len(tempStr)-1, -1, -1):\n",
    "    print(tempStr[i])"
   ]
  },
  {
   "cell_type": "markdown",
   "id": "c77546f2-1ea1-427f-ad63-9de527040c16",
   "metadata": {},
   "source": [
    "4. Develop a program that finds the factorial of a given number using a `for` loop."
   ]
  },
  {
   "cell_type": "code",
   "execution_count": 9,
   "id": "24396cfa-8d14-4fef-97a4-e5b073d2e0a4",
   "metadata": {},
   "outputs": [
    {
     "data": {
      "text/plain": [
       "5"
      ]
     },
     "execution_count": 9,
     "metadata": {},
     "output_type": "execute_result"
    }
   ],
   "source": [
    "n = 5\n",
    "n"
   ]
  },
  {
   "cell_type": "code",
   "execution_count": 11,
   "id": "cbc297d3-2aaa-4c48-a91d-cb93206f149f",
   "metadata": {},
   "outputs": [
    {
     "name": "stdout",
     "output_type": "stream",
     "text": [
      "120\n"
     ]
    }
   ],
   "source": [
    "fact = 1\n",
    "\n",
    "for i in range(1, n+1):\n",
    "    fact *= i\n",
    "    \n",
    "print(fact)"
   ]
  },
  {
   "cell_type": "markdown",
   "id": "463798bd-0c9f-4cfa-a737-4a597eec5dee",
   "metadata": {},
   "source": [
    "5. Create a program to print the multiplication table of a given number using a `for` loop."
   ]
  },
  {
   "cell_type": "code",
   "execution_count": 14,
   "id": "64c31f86-31f6-498e-92cf-324a7916d042",
   "metadata": {},
   "outputs": [
    {
     "name": "stdout",
     "output_type": "stream",
     "text": [
      "10*1=10\n",
      "10*2=20\n",
      "10*3=30\n",
      "10*4=40\n",
      "10*5=50\n",
      "10*6=60\n",
      "10*7=70\n",
      "10*8=80\n",
      "10*9=90\n",
      "10*10=100\n"
     ]
    }
   ],
   "source": [
    "i = 10\n",
    "for j in range(1, 11):\n",
    "    print(str(i) + '*' + str(j) + '=' + str(i*j))"
   ]
  },
  {
   "cell_type": "markdown",
   "id": "9c084a6f-15a8-4a64-b003-594b6af2936c",
   "metadata": {},
   "source": [
    "6. Write a program that counts the number of even and odd numbers in a list using a `for` loop."
   ]
  },
  {
   "cell_type": "code",
   "execution_count": 15,
   "id": "8f72c0d5-2498-4bd2-9d63-70691118bd22",
   "metadata": {},
   "outputs": [
    {
     "data": {
      "text/plain": [
       "[1, 2, 3, 4, 5, 6, 7]"
      ]
     },
     "execution_count": 15,
     "metadata": {},
     "output_type": "execute_result"
    }
   ],
   "source": [
    "tempList = [1,2,3,4,5,6,7]\n",
    "tempList"
   ]
  },
  {
   "cell_type": "code",
   "execution_count": 16,
   "id": "8fdb5c73-0d37-4549-bf14-537c4c2d0204",
   "metadata": {},
   "outputs": [
    {
     "name": "stdout",
     "output_type": "stream",
     "text": [
      "event count:  3\n",
      "odd count:  4\n"
     ]
    }
   ],
   "source": [
    "evenCount = 0\n",
    "\n",
    "oddCount = 0\n",
    "\n",
    "for i in tempList:\n",
    "    if i % 2 == 0:\n",
    "        evenCount += 1\n",
    "    else:\n",
    "        oddCount += 1\n",
    "        \n",
    "print('event count: ', evenCount)\n",
    "print('odd count: ', oddCount)"
   ]
  },
  {
   "cell_type": "markdown",
   "id": "3823323a-dbf1-41ba-b70c-47b1e45346c7",
   "metadata": {},
   "source": [
    "7. Develop a program that prints the squares of numbers from 1 to 5 using a `for` loop."
   ]
  },
  {
   "cell_type": "code",
   "execution_count": 17,
   "id": "0e48c65f-72c0-4b7f-b9fc-c4dbeb4b8333",
   "metadata": {},
   "outputs": [
    {
     "name": "stdout",
     "output_type": "stream",
     "text": [
      "1\n",
      "4\n",
      "9\n",
      "16\n",
      "25\n"
     ]
    }
   ],
   "source": [
    "for i in range(1, 6):\n",
    "    print(i**2)"
   ]
  },
  {
   "cell_type": "markdown",
   "id": "0b3f98e9-8324-4832-84e7-4e75c70c9091",
   "metadata": {},
   "source": [
    "8. Create a program to find the length of a string without using the `len()` function."
   ]
  },
  {
   "cell_type": "code",
   "execution_count": 18,
   "id": "b74b5be7-d7a9-436e-8a8b-d0ace221ca10",
   "metadata": {},
   "outputs": [
    {
     "data": {
      "text/plain": [
       "'abcde'"
      ]
     },
     "execution_count": 18,
     "metadata": {},
     "output_type": "execute_result"
    }
   ],
   "source": [
    "tempStr"
   ]
  },
  {
   "cell_type": "code",
   "execution_count": 19,
   "id": "cc7da51e-e3c3-42e6-83c6-118a4e277fc9",
   "metadata": {},
   "outputs": [
    {
     "data": {
      "text/plain": [
       "5"
      ]
     },
     "execution_count": 19,
     "metadata": {},
     "output_type": "execute_result"
    }
   ],
   "source": [
    "len(tempStr)"
   ]
  },
  {
   "cell_type": "markdown",
   "id": "3897bafc-adec-4334-9a66-0fa5fe3f2a1e",
   "metadata": {},
   "source": [
    "9. Write a program that calculates the average of a list of numbers using a `for` loop."
   ]
  },
  {
   "cell_type": "code",
   "execution_count": 20,
   "id": "155f4029-f315-4310-b629-905a75b888f6",
   "metadata": {},
   "outputs": [
    {
     "data": {
      "text/plain": [
       "[1, 2, 3, 4, 5, 6, 7]"
      ]
     },
     "execution_count": 20,
     "metadata": {},
     "output_type": "execute_result"
    }
   ],
   "source": [
    "tempList"
   ]
  },
  {
   "cell_type": "code",
   "execution_count": 21,
   "id": "59f411c6-db2e-41e6-9d1c-6fb0a34ee05b",
   "metadata": {},
   "outputs": [
    {
     "name": "stdout",
     "output_type": "stream",
     "text": [
      "4.0\n"
     ]
    }
   ],
   "source": [
    "totalSum = 0\n",
    "\n",
    "for i in tempList:\n",
    "        totalSum += i\n",
    "        \n",
    "average = totalSum/ len(tempList)\n",
    "\n",
    "print(average)"
   ]
  },
  {
   "cell_type": "markdown",
   "id": "5f7c0082-fe04-4cb5-bc8d-2c674832af38",
   "metadata": {},
   "source": [
    "10. Develop a program that prints the first `n` Fibonacci numbers using a `for` loop."
   ]
  },
  {
   "cell_type": "code",
   "execution_count": 22,
   "id": "4f07f390-aa2d-4295-aff4-502ad366559c",
   "metadata": {},
   "outputs": [],
   "source": [
    "n = 5"
   ]
  },
  {
   "cell_type": "code",
   "execution_count": 24,
   "id": "b3606ab9-9dc3-4cd7-9bef-fc6cea6c446d",
   "metadata": {},
   "outputs": [
    {
     "name": "stdout",
     "output_type": "stream",
     "text": [
      "[0, 1, 1, 2, 3]\n"
     ]
    }
   ],
   "source": [
    "fibList = []\n",
    "a, b = 0, 1\n",
    "\n",
    "for i in range(n):\n",
    "    fibList.append(a)\n",
    "    \n",
    "    a , b = b, a+b\n",
    "\n",
    "print(fibList)"
   ]
  },
  {
   "cell_type": "code",
   "execution_count": null,
   "id": "c7d787ce-0dae-424d-9065-932148b90d3d",
   "metadata": {},
   "outputs": [],
   "source": []
  },
  {
   "cell_type": "code",
   "execution_count": null,
   "id": "7f0a3d91-57aa-45a3-8ea2-fc563d95a648",
   "metadata": {},
   "outputs": [],
   "source": []
  },
  {
   "cell_type": "markdown",
   "id": "bcd34b3d-a413-442d-a941-ee71bb8732b3",
   "metadata": {},
   "source": [
    "Intermediate Level:"
   ]
  },
  {
   "cell_type": "markdown",
   "id": "1ea44fb5-0a9c-4530-847e-281fa9c2f4ae",
   "metadata": {},
   "source": [
    "11. Write a program to check if a given list contains any duplicates using a `for` loop."
   ]
  },
  {
   "cell_type": "code",
   "execution_count": 25,
   "id": "e7bd23a6-ac84-435e-85b0-4806587c6e48",
   "metadata": {},
   "outputs": [
    {
     "name": "stdout",
     "output_type": "stream",
     "text": [
      "duplicate\n"
     ]
    }
   ],
   "source": [
    "tempList = [1,2,2,3]\n",
    "\n",
    "for index, item in enumerate(tempList):\n",
    "    if item in tempList[index+1:]:\n",
    "        print('duplicate')\n",
    "        break"
   ]
  },
  {
   "cell_type": "markdown",
   "id": "d5b15d44-179f-4776-9948-8531a2a08005",
   "metadata": {},
   "source": [
    "12. Create a program that prints the prime numbers in a given range using a `for` loop."
   ]
  },
  {
   "cell_type": "code",
   "execution_count": 28,
   "id": "f292a493-e560-4daf-a8b9-befdf7a50c1d",
   "metadata": {},
   "outputs": [],
   "source": [
    "startN = 5\n",
    "endN = 100"
   ]
  },
  {
   "cell_type": "code",
   "execution_count": 29,
   "id": "7e402b52-1580-4054-84c1-8e472b2fc822",
   "metadata": {},
   "outputs": [
    {
     "name": "stdout",
     "output_type": "stream",
     "text": [
      "5\n",
      "7\n",
      "11\n",
      "13\n",
      "17\n",
      "19\n",
      "23\n",
      "29\n",
      "31\n",
      "37\n",
      "41\n",
      "43\n",
      "47\n",
      "53\n",
      "59\n",
      "61\n",
      "67\n",
      "71\n",
      "73\n",
      "79\n",
      "83\n",
      "89\n",
      "97\n"
     ]
    }
   ],
   "source": [
    "for num in range(startN, endN + 1):\n",
    "    if num > 1:\n",
    "        is_prime = True\n",
    "        for i in range(2, int(num ** 0.5) + 1):\n",
    "            if num % i == 0:\n",
    "                is_prime = False\n",
    "                break\n",
    "        if is_prime:\n",
    "            print(num)"
   ]
  },
  {
   "cell_type": "markdown",
   "id": "35953010-37b5-4288-89a7-b66ff17ba362",
   "metadata": {},
   "source": [
    "13. Develop a program that counts the number of vowels in a string using a `for` loop."
   ]
  },
  {
   "cell_type": "code",
   "execution_count": 31,
   "id": "bff8c691-baf4-4ad2-a94f-169183ca5930",
   "metadata": {},
   "outputs": [
    {
     "data": {
      "text/plain": [
       "('a', 'e', 'i', 'o', 'u')"
      ]
     },
     "execution_count": 31,
     "metadata": {},
     "output_type": "execute_result"
    }
   ],
   "source": [
    "vowels = ('a', 'e', 'i', 'o', 'u')\n",
    "vowels"
   ]
  },
  {
   "cell_type": "code",
   "execution_count": 32,
   "id": "2f092420-fa25-485e-9c8a-56b108a3a92b",
   "metadata": {},
   "outputs": [
    {
     "data": {
      "text/plain": [
       "'abcde'"
      ]
     },
     "execution_count": 32,
     "metadata": {},
     "output_type": "execute_result"
    }
   ],
   "source": [
    "tempStr"
   ]
  },
  {
   "cell_type": "code",
   "execution_count": 33,
   "id": "1b2b3ef6-1212-4df5-bbb6-ee3f86ca3c3f",
   "metadata": {},
   "outputs": [
    {
     "name": "stdout",
     "output_type": "stream",
     "text": [
      "2\n"
     ]
    }
   ],
   "source": [
    "vowelCount = 0\n",
    "\n",
    "for ch in tempStr:\n",
    "    if ch in vowels:\n",
    "            vowelCount+=1\n",
    "            \n",
    "print(vowelCount)"
   ]
  },
  {
   "cell_type": "markdown",
   "id": "471b1d0f-e801-4490-8811-c0ec264d25ea",
   "metadata": {},
   "source": [
    "14. Write a program to find the maximum element in a 2D list using a nested `for` loop."
   ]
  },
  {
   "cell_type": "code",
   "execution_count": 34,
   "id": "53fa448c-eab2-4be6-9093-23bf599028f3",
   "metadata": {},
   "outputs": [
    {
     "data": {
      "text/plain": [
       "[[1, 2, 3], [4, 5, 6]]"
      ]
     },
     "execution_count": 34,
     "metadata": {},
     "output_type": "execute_result"
    }
   ],
   "source": [
    "temp2dList = [[1,2,3], [4,5,6]]\n",
    "temp2dList"
   ]
  },
  {
   "cell_type": "code",
   "execution_count": 37,
   "id": "732bbb9e-02e8-4418-9a3f-5f3b1c419b65",
   "metadata": {},
   "outputs": [
    {
     "name": "stdout",
     "output_type": "stream",
     "text": [
      "6\n"
     ]
    }
   ],
   "source": [
    "maxEle = 0\n",
    "for i in temp2dList:\n",
    "    for nestedElement in i:\n",
    "        if maxEle < nestedElement:\n",
    "            maxEle = nestedElement\n",
    "        \n",
    "print(maxEle)"
   ]
  },
  {
   "cell_type": "markdown",
   "id": "0c8bd3dc-0fc6-43bb-99af-601f7bc61ed5",
   "metadata": {},
   "source": [
    "15. Create a program that removes all occurrences of a specific element from a list using a `for` loop."
   ]
  },
  {
   "cell_type": "code",
   "execution_count": 38,
   "id": "a55efcd9-1eba-4135-af62-f040eaf5e8e7",
   "metadata": {},
   "outputs": [
    {
     "data": {
      "text/plain": [
       "[1, 2, 2, 3]"
      ]
     },
     "execution_count": 38,
     "metadata": {},
     "output_type": "execute_result"
    }
   ],
   "source": [
    "tempList"
   ]
  },
  {
   "cell_type": "code",
   "execution_count": 39,
   "id": "d18e7db6-5f56-4a1e-aeb6-220992968048",
   "metadata": {},
   "outputs": [],
   "source": [
    "removeEle = 2"
   ]
  },
  {
   "cell_type": "code",
   "execution_count": 41,
   "id": "36303cbf-004d-42ed-9807-18baf7e9ed68",
   "metadata": {},
   "outputs": [
    {
     "name": "stdout",
     "output_type": "stream",
     "text": [
      "[1, 3]\n"
     ]
    }
   ],
   "source": [
    "tempList2 = []\n",
    "for i in tempList:\n",
    "    if i != removeEle:\n",
    "        tempList2.append(i)\n",
    "print(tempList2)"
   ]
  },
  {
   "cell_type": "markdown",
   "id": "10a931e6-efbb-41f5-b3d8-bd793084c07e",
   "metadata": {},
   "source": [
    "16. Develop a program that generates a multiplication table for numbers from 1 to 5 using a nested `for` loop."
   ]
  },
  {
   "cell_type": "code",
   "execution_count": 42,
   "id": "50b5e848-394b-4ffc-99d1-93507cda8104",
   "metadata": {},
   "outputs": [],
   "source": [
    "n = 5"
   ]
  },
  {
   "cell_type": "code",
   "execution_count": 43,
   "id": "1acaefd4-7a4b-4b01-9819-595d3c444493",
   "metadata": {},
   "outputs": [
    {
     "name": "stdout",
     "output_type": "stream",
     "text": [
      "1*1=1\n",
      "1*2=2\n",
      "1*3=3\n",
      "1*4=4\n",
      "1*5=5\n",
      "1*6=6\n",
      "1*7=7\n",
      "1*8=8\n",
      "1*9=9\n",
      "1*10=10\n",
      "2*1=2\n",
      "2*2=4\n",
      "2*3=6\n",
      "2*4=8\n",
      "2*5=10\n",
      "2*6=12\n",
      "2*7=14\n",
      "2*8=16\n",
      "2*9=18\n",
      "2*10=20\n",
      "3*1=3\n",
      "3*2=6\n",
      "3*3=9\n",
      "3*4=12\n",
      "3*5=15\n",
      "3*6=18\n",
      "3*7=21\n",
      "3*8=24\n",
      "3*9=27\n",
      "3*10=30\n",
      "4*1=4\n",
      "4*2=8\n",
      "4*3=12\n",
      "4*4=16\n",
      "4*5=20\n",
      "4*6=24\n",
      "4*7=28\n",
      "4*8=32\n",
      "4*9=36\n",
      "4*10=40\n",
      "5*1=5\n",
      "5*2=10\n",
      "5*3=15\n",
      "5*4=20\n",
      "5*5=25\n",
      "5*6=30\n",
      "5*7=35\n",
      "5*8=40\n",
      "5*9=45\n",
      "5*10=50\n"
     ]
    }
   ],
   "source": [
    "for i in range(1, n+1):\n",
    "    for j in range(1, 11):\n",
    "        print(str(i) + '*' + str(j) + '=' + str(i*j))"
   ]
  },
  {
   "cell_type": "markdown",
   "id": "85968ef2-aa61-4b1e-ae3f-f701e382dcf5",
   "metadata": {},
   "source": [
    "17. Write a program that converts a list of Fahrenheit temperatures to Celsius using a `for` loop."
   ]
  },
  {
   "cell_type": "code",
   "execution_count": 44,
   "id": "9678225a-4b46-4ea1-8a16-80c1b97f58b7",
   "metadata": {},
   "outputs": [],
   "source": [
    "#°C = (°F - 32) × 5/9"
   ]
  },
  {
   "cell_type": "code",
   "execution_count": 45,
   "id": "44079132-dc44-485a-813d-0ccbf3b6b460",
   "metadata": {},
   "outputs": [
    {
     "data": {
      "text/plain": [
       "[99, 95]"
      ]
     },
     "execution_count": 45,
     "metadata": {},
     "output_type": "execute_result"
    }
   ],
   "source": [
    "tempFList = [99,95]\n",
    "tempFList"
   ]
  },
  {
   "cell_type": "code",
   "execution_count": 46,
   "id": "d1bca981-b25c-49fc-b44e-89f3d0ee4be1",
   "metadata": {},
   "outputs": [
    {
     "name": "stdout",
     "output_type": "stream",
     "text": [
      "[37.22222222222222, 35.0]\n"
     ]
    }
   ],
   "source": [
    "for index, i in enumerate(tempFList):\n",
    "    c = (i - 32)* 5/9\n",
    "    tempFList[index] = c\n",
    "    \n",
    "print(tempFList)"
   ]
  },
  {
   "cell_type": "markdown",
   "id": "f5dcb0e3-8950-4aad-9d3b-787ecc109630",
   "metadata": {},
   "source": [
    "18. Create a program to print the common elements from two lists using a `for` loop."
   ]
  },
  {
   "cell_type": "code",
   "execution_count": 47,
   "id": "3a4e9f4b-df31-4f51-a6ec-7fa0614c354e",
   "metadata": {},
   "outputs": [],
   "source": [
    "tempList1 = [1,2,3,4,5]\n",
    "\n",
    "tempList2 = [2,3,4,7,8]"
   ]
  },
  {
   "cell_type": "code",
   "execution_count": 48,
   "id": "f9ab11ee-ba48-43ee-99c4-0d4771ae334c",
   "metadata": {},
   "outputs": [
    {
     "name": "stdout",
     "output_type": "stream",
     "text": [
      "2\n",
      "3\n",
      "4\n"
     ]
    }
   ],
   "source": [
    "for i in tempList1:\n",
    "    if i in tempList2:\n",
    "        print(i)"
   ]
  },
  {
   "cell_type": "markdown",
   "id": "9759728c-15f8-4621-9dce-2c4647085ab1",
   "metadata": {},
   "source": [
    "19. Develop a program that prints the pattern of right-angled triangles using a `for` loop. Use ‘*’ to draw the\n",
    "pattern"
   ]
  },
  {
   "cell_type": "code",
   "execution_count": 51,
   "id": "ac1be6a1-08cf-4195-a9e6-803d0bffb784",
   "metadata": {},
   "outputs": [],
   "source": [
    "n = 10"
   ]
  },
  {
   "cell_type": "code",
   "execution_count": 52,
   "id": "fdbbe9bf-d3b4-4224-b49d-d814e3f93290",
   "metadata": {},
   "outputs": [
    {
     "name": "stdout",
     "output_type": "stream",
     "text": [
      "*\n",
      "**\n",
      "***\n",
      "****\n",
      "*****\n",
      "******\n",
      "*******\n",
      "********\n",
      "*********\n",
      "**********\n"
     ]
    }
   ],
   "source": [
    "for i in range(1, n + 1):\n",
    "    print('*' * i)"
   ]
  },
  {
   "cell_type": "markdown",
   "id": "2071b139-d796-4b60-af73-73ccc6eeba17",
   "metadata": {},
   "source": [
    "20. Write a program to find the greatest common divisor (GCD) of two numbers using a `for` loop."
   ]
  },
  {
   "cell_type": "code",
   "execution_count": 53,
   "id": "497cc9f9-a105-45a2-81b2-c4be057bd275",
   "metadata": {},
   "outputs": [],
   "source": [
    "n1 = 24\n",
    "\n",
    "n2 = 30"
   ]
  },
  {
   "cell_type": "code",
   "execution_count": 54,
   "id": "a4a23141-5221-43c8-9d2b-700b47eac19a",
   "metadata": {},
   "outputs": [],
   "source": [
    "minN = min(n1, n2)"
   ]
  },
  {
   "cell_type": "code",
   "execution_count": 55,
   "id": "2dca96e2-8113-47e1-b817-8ee5d880523f",
   "metadata": {},
   "outputs": [
    {
     "name": "stdout",
     "output_type": "stream",
     "text": [
      "6\n"
     ]
    }
   ],
   "source": [
    "gcd = 1\n",
    "\n",
    "for i in range(2, minN+1):\n",
    "    if n1%i == 0 and n2%i == 0:\n",
    "        gcd = i\n",
    "        \n",
    "print(gcd)"
   ]
  },
  {
   "cell_type": "code",
   "execution_count": null,
   "id": "671b4989-1c3d-4121-82c0-6a0167844769",
   "metadata": {},
   "outputs": [],
   "source": []
  },
  {
   "cell_type": "code",
   "execution_count": null,
   "id": "e3505fec-7e59-44d8-808a-b1b2ef07e930",
   "metadata": {},
   "outputs": [],
   "source": []
  },
  {
   "cell_type": "markdown",
   "id": "28ab8a65-5a8c-41a6-9386-16c503b0725e",
   "metadata": {},
   "source": [
    "Advanced Level:"
   ]
  },
  {
   "cell_type": "markdown",
   "id": "b378f82b-85a1-4207-a27b-dd16ae06b02d",
   "metadata": {},
   "source": [
    "21. Create a program that calculates the sum of the digits of numbers in a list using a list comprehension."
   ]
  },
  {
   "cell_type": "code",
   "execution_count": 1,
   "id": "8784bbb5-384b-4df0-ab4a-3975da6f2014",
   "metadata": {},
   "outputs": [
    {
     "data": {
      "text/plain": [
       "[123, 454, 675, 101]"
      ]
     },
     "execution_count": 1,
     "metadata": {},
     "output_type": "execute_result"
    }
   ],
   "source": [
    "tempList = [123, 454, 675, 101]\n",
    "tempList"
   ]
  },
  {
   "cell_type": "code",
   "execution_count": 4,
   "id": "0270b34e-21fb-4b6f-a3d2-3ea7fe236e7d",
   "metadata": {},
   "outputs": [
    {
     "name": "stdout",
     "output_type": "stream",
     "text": [
      "123 : 6\n",
      "454 : 13\n",
      "675 : 18\n",
      "101 : 2\n"
     ]
    }
   ],
   "source": [
    "sums = [sum(int(digit) for digit in str(number)) for number in tempList]\n",
    "\n",
    "for i, number in enumerate(tempList):\n",
    "    print(number, \":\", sums[i])"
   ]
  },
  {
   "cell_type": "markdown",
   "id": "17bfd67d-7e9a-495a-ab46-2c3a85a4998f",
   "metadata": {},
   "source": [
    "22. Write a program to find the prime factors of a given number using a `for` loop and list comprehension."
   ]
  },
  {
   "cell_type": "code",
   "execution_count": 16,
   "id": "dff9f4cf-e89a-4e38-9869-0d4d4af150c4",
   "metadata": {},
   "outputs": [
    {
     "data": {
      "text/plain": [
       "27"
      ]
     },
     "execution_count": 16,
     "metadata": {},
     "output_type": "execute_result"
    }
   ],
   "source": [
    "num = 27\n",
    "num"
   ]
  },
  {
   "cell_type": "code",
   "execution_count": 17,
   "id": "0d33ae53-e978-435d-bc86-7066ead168ae",
   "metadata": {},
   "outputs": [],
   "source": [
    "prime_factors = [factor for factor in range(2, num + 1) if num % factor == 0 and all(factor % divisor != 0 for divisor in range(2, factor))]\n"
   ]
  },
  {
   "cell_type": "code",
   "execution_count": 18,
   "id": "f0d730bb-67e7-491a-9cd4-70791792dec0",
   "metadata": {},
   "outputs": [
    {
     "data": {
      "text/plain": [
       "[3]"
      ]
     },
     "execution_count": 18,
     "metadata": {},
     "output_type": "execute_result"
    }
   ],
   "source": [
    "prime_factors"
   ]
  },
  {
   "cell_type": "markdown",
   "id": "a9eb2d6e-42cf-460f-8a24-bc44e3f41f43",
   "metadata": {},
   "source": [
    "23. Develop a program that extracts unique elements from a list and stores them in a new list using a list\n",
    "comprehension."
   ]
  },
  {
   "cell_type": "code",
   "execution_count": 19,
   "id": "6c015a43-d8b8-456c-8505-07f795f9def1",
   "metadata": {},
   "outputs": [
    {
     "data": {
      "text/plain": [
       "[1, 2, 2, 3, 4, 4, 5, 6, 6]"
      ]
     },
     "execution_count": 19,
     "metadata": {},
     "output_type": "execute_result"
    }
   ],
   "source": [
    "tempList = [1, 2, 2, 3, 4, 4, 5, 6, 6]\n",
    "\n",
    "tempList"
   ]
  },
  {
   "cell_type": "code",
   "execution_count": 21,
   "id": "956a63d7-4914-4a40-ad5f-8c06f876c4fd",
   "metadata": {},
   "outputs": [
    {
     "data": {
      "text/plain": [
       "[1, 2, 3, 4, 5, 6]"
      ]
     },
     "execution_count": 21,
     "metadata": {},
     "output_type": "execute_result"
    }
   ],
   "source": [
    "unique_elements = [x for i, x in enumerate(tempList) if x not in tempList[:i]]\n",
    "\n",
    "unique_elements"
   ]
  },
  {
   "cell_type": "markdown",
   "id": "1033c0d9-ea68-4c70-8a7d-be9fd7e21d39",
   "metadata": {},
   "source": [
    "24. Create a program that generates a list of all palindromic numbers up to a specified limit using a list\n",
    "comprehension."
   ]
  },
  {
   "cell_type": "code",
   "execution_count": 22,
   "id": "6e460983-8a7e-428c-a735-f905de6cec41",
   "metadata": {},
   "outputs": [
    {
     "data": {
      "text/plain": [
       "10"
      ]
     },
     "execution_count": 22,
     "metadata": {},
     "output_type": "execute_result"
    }
   ],
   "source": [
    "limit = 10\n",
    "limit"
   ]
  },
  {
   "cell_type": "code",
   "execution_count": 23,
   "id": "f0ca0513-b7fa-41c6-ab12-983edf3c5f6d",
   "metadata": {},
   "outputs": [
    {
     "data": {
      "text/plain": [
       "[0, 1, 2, 3, 4, 5, 6, 7, 8, 9]"
      ]
     },
     "execution_count": 23,
     "metadata": {},
     "output_type": "execute_result"
    }
   ],
   "source": [
    "palindromic_numbers = [num for num in range(limit + 1) if str(num) == str(num)[::-1]]\n",
    "\n",
    "palindromic_numbers"
   ]
  },
  {
   "cell_type": "markdown",
   "id": "eeb28d58-d187-46ad-893a-132f4cf16b2d",
   "metadata": {},
   "source": [
    "25. Write a program to flatten a nested list using list comprehension."
   ]
  },
  {
   "cell_type": "code",
   "execution_count": 24,
   "id": "bb66b364-dfd9-4bbf-af84-4c5ab444053b",
   "metadata": {},
   "outputs": [
    {
     "data": {
      "text/plain": [
       "[[1, 2, 3], [4, 5, 6]]"
      ]
     },
     "execution_count": 24,
     "metadata": {},
     "output_type": "execute_result"
    }
   ],
   "source": [
    "nestedTempList = [[1,2,3], [4,5,6]]\n",
    "nestedTempList"
   ]
  },
  {
   "cell_type": "code",
   "execution_count": 26,
   "id": "546aa92a-8056-4a31-8b91-b479e7de5aed",
   "metadata": {},
   "outputs": [
    {
     "data": {
      "text/plain": [
       "[1, 2, 3, 4, 5, 6]"
      ]
     },
     "execution_count": 26,
     "metadata": {},
     "output_type": "execute_result"
    }
   ],
   "source": [
    "flattenList = [x for tempList in nestedTempList for x in tempList]\n",
    "flattenList"
   ]
  },
  {
   "cell_type": "markdown",
   "id": "e067fbf0-d8e5-4e8c-aae5-da87dd33e2aa",
   "metadata": {},
   "source": [
    "26. Develop a program that computes the sum of even and odd numbers in a list separately using list\n",
    "comprehension."
   ]
  },
  {
   "cell_type": "code",
   "execution_count": 27,
   "id": "a036abbc-7420-4c22-b488-28cfce461d8e",
   "metadata": {},
   "outputs": [
    {
     "data": {
      "text/plain": [
       "[1, 2, 3, 4, 5, 6]"
      ]
     },
     "execution_count": 27,
     "metadata": {},
     "output_type": "execute_result"
    }
   ],
   "source": [
    "flattenList"
   ]
  },
  {
   "cell_type": "code",
   "execution_count": 28,
   "id": "ea19327d-5cb0-48ed-b7f4-d8e71eb69b86",
   "metadata": {},
   "outputs": [],
   "source": [
    "even_sum = sum([num for num in flattenList if num % 2 == 0])\n",
    "odd_sum = sum([num for num in flattenList if num % 2 != 0])\n"
   ]
  },
  {
   "cell_type": "code",
   "execution_count": 29,
   "id": "34597a2a-53ab-4367-9073-a3abab4d63ba",
   "metadata": {},
   "outputs": [
    {
     "name": "stdout",
     "output_type": "stream",
     "text": [
      "even sum:  12\n"
     ]
    }
   ],
   "source": [
    "print('even sum: ',even_sum)"
   ]
  },
  {
   "cell_type": "code",
   "execution_count": 30,
   "id": "314dbc60-ba51-4614-a88a-3eb88b7ed461",
   "metadata": {},
   "outputs": [
    {
     "name": "stdout",
     "output_type": "stream",
     "text": [
      "odd sum:  9\n"
     ]
    }
   ],
   "source": [
    "print('odd sum: ', odd_sum)"
   ]
  },
  {
   "cell_type": "markdown",
   "id": "b0376a33-e667-4a2e-a43e-6baf118ae253",
   "metadata": {},
   "source": [
    "27. Create a program that generates a list of squares of odd numbers between 1 and 10 using list\n",
    "comprehension."
   ]
  },
  {
   "cell_type": "code",
   "execution_count": 31,
   "id": "94f13728-d41b-4c3c-b8b6-76cacd560532",
   "metadata": {},
   "outputs": [
    {
     "data": {
      "text/plain": [
       "[1, 3, 5, 7, 9]"
      ]
     },
     "execution_count": 31,
     "metadata": {},
     "output_type": "execute_result"
    }
   ],
   "source": [
    "oddList = [x for x in range(1, 11) if x%2!= 0]\n",
    "oddList"
   ]
  },
  {
   "cell_type": "markdown",
   "id": "ce233cf7-8d78-4419-bbc4-956f70106f1e",
   "metadata": {},
   "source": [
    "28. Write a program that combines two lists into a dictionary using list comprehension."
   ]
  },
  {
   "cell_type": "code",
   "execution_count": 32,
   "id": "effb508e-6fce-4aa4-ba0d-758b34667d32",
   "metadata": {},
   "outputs": [
    {
     "data": {
      "text/plain": [
       "['a', 'b']"
      ]
     },
     "execution_count": 32,
     "metadata": {},
     "output_type": "execute_result"
    }
   ],
   "source": [
    "tempList1 = ['a', 'b']\n",
    "tempList1"
   ]
  },
  {
   "cell_type": "code",
   "execution_count": 33,
   "id": "a2e49387-2469-4aa1-b265-da3330046418",
   "metadata": {},
   "outputs": [
    {
     "data": {
      "text/plain": [
       "[2, 4]"
      ]
     },
     "execution_count": 33,
     "metadata": {},
     "output_type": "execute_result"
    }
   ],
   "source": [
    "tempList2 = [2,4]\n",
    "tempList2"
   ]
  },
  {
   "cell_type": "code",
   "execution_count": 35,
   "id": "16a06f8c-31bd-4c9e-a2c5-b1e26e606d2c",
   "metadata": {},
   "outputs": [
    {
     "data": {
      "text/plain": [
       "{'a': 2, 'b': 4}"
      ]
     },
     "execution_count": 35,
     "metadata": {},
     "output_type": "execute_result"
    }
   ],
   "source": [
    "dictList = {tempList1[i]: tempList2[i] for i in range(len(tempList1))}\n",
    "dictList"
   ]
  },
  {
   "cell_type": "markdown",
   "id": "c6e35d32-8ef6-4533-af47-88e907e63c35",
   "metadata": {},
   "source": [
    "29. Develop a program that extracts the vowels from a string and stores them in a list using list comprehension."
   ]
  },
  {
   "cell_type": "code",
   "execution_count": 36,
   "id": "9f116d33-21b6-40f0-b6cc-d12477f1e4e6",
   "metadata": {},
   "outputs": [
    {
     "data": {
      "text/plain": [
       "('a', 'e', 'i', 'o', 'u')"
      ]
     },
     "execution_count": 36,
     "metadata": {},
     "output_type": "execute_result"
    }
   ],
   "source": [
    "vowels = ('a', 'e', 'i', 'o', 'u')\n",
    "vowels"
   ]
  },
  {
   "cell_type": "code",
   "execution_count": 37,
   "id": "0e23b896-c3c3-4a8d-b5c9-a421a1e7b571",
   "metadata": {},
   "outputs": [
    {
     "data": {
      "text/plain": [
       "'a string with and withput vowels'"
      ]
     },
     "execution_count": 37,
     "metadata": {},
     "output_type": "execute_result"
    }
   ],
   "source": [
    "tempStr ='a string with and withput vowels'\n",
    "tempStr"
   ]
  },
  {
   "cell_type": "code",
   "execution_count": 38,
   "id": "0ed016b5-99e3-49c6-be68-c627fcc63fc8",
   "metadata": {},
   "outputs": [
    {
     "data": {
      "text/plain": [
       "['a', 'i', 'i', 'a', 'i', 'u', 'o', 'e']"
      ]
     },
     "execution_count": 38,
     "metadata": {},
     "output_type": "execute_result"
    }
   ],
   "source": [
    "vowelList = [v for v in tempStr if v in vowels]\n",
    "\n",
    "vowelList"
   ]
  },
  {
   "cell_type": "markdown",
   "id": "2dd1a080-6d90-4b74-bc12-ed0b78b1c6a1",
   "metadata": {},
   "source": [
    "30. Create a program that removes all non-numeric characters from a list of strings using list comprehension."
   ]
  },
  {
   "cell_type": "code",
   "execution_count": 39,
   "id": "ff1ff273-e76d-4e4a-8ca9-8351a753a28b",
   "metadata": {},
   "outputs": [
    {
     "data": {
      "text/plain": [
       "['abc123', '456xyz', '789', 'abc456xyz']"
      ]
     },
     "execution_count": 39,
     "metadata": {},
     "output_type": "execute_result"
    }
   ],
   "source": [
    "string_list = [\"abc123\", \"456xyz\", \"789\", \"abc456xyz\"]\n",
    "string_list"
   ]
  },
  {
   "cell_type": "code",
   "execution_count": 40,
   "id": "9698bcf1-8183-4ca1-b2b0-461e09c63806",
   "metadata": {},
   "outputs": [
    {
     "data": {
      "text/plain": [
       "['123', '456', '789', '456']"
      ]
     },
     "execution_count": 40,
     "metadata": {},
     "output_type": "execute_result"
    }
   ],
   "source": [
    "numList = [''.join(ch for ch in string if ch.isdigit()) for string in string_list ]\n",
    "numList"
   ]
  },
  {
   "cell_type": "code",
   "execution_count": null,
   "id": "abe3b721-9d1f-4030-9df8-06a0cace0e26",
   "metadata": {},
   "outputs": [],
   "source": []
  },
  {
   "cell_type": "code",
   "execution_count": null,
   "id": "3baa526b-f0f0-4695-8368-e7808a774883",
   "metadata": {},
   "outputs": [],
   "source": []
  },
  {
   "cell_type": "markdown",
   "id": "f7b0ae31-33fb-4c33-bc4c-1dc9c2938bbe",
   "metadata": {},
   "source": [
    "Challenge Level:"
   ]
  },
  {
   "cell_type": "markdown",
   "id": "0f3de119-c659-47ef-bfa6-302a1721f9f1",
   "metadata": {},
   "source": [
    "31. Write a program to generate a list of prime numbers using the Sieve of Eratosthenes algorithm and list\n",
    "comprehension."
   ]
  },
  {
   "cell_type": "code",
   "execution_count": 41,
   "id": "36c13f10-7d47-47bf-9920-a834d45cf6ba",
   "metadata": {},
   "outputs": [],
   "source": [
    "# ref.: https://www.geeksforgeeks.org/sieve-of-eratosthenes/"
   ]
  },
  {
   "cell_type": "code",
   "execution_count": 42,
   "id": "48e90a49-486f-423f-8ba9-9c79d4ded2e0",
   "metadata": {},
   "outputs": [
    {
     "data": {
      "text/plain": [
       "100"
      ]
     },
     "execution_count": 42,
     "metadata": {},
     "output_type": "execute_result"
    }
   ],
   "source": [
    "limit = 100\n",
    "limit"
   ]
  },
  {
   "cell_type": "code",
   "execution_count": 43,
   "id": "19dce619-3671-4663-a246-5562dd853d7f",
   "metadata": {},
   "outputs": [
    {
     "data": {
      "text/plain": [
       "[2,\n",
       " 3,\n",
       " 5,\n",
       " 7,\n",
       " 11,\n",
       " 13,\n",
       " 17,\n",
       " 19,\n",
       " 23,\n",
       " 29,\n",
       " 31,\n",
       " 37,\n",
       " 41,\n",
       " 43,\n",
       " 47,\n",
       " 53,\n",
       " 59,\n",
       " 61,\n",
       " 67,\n",
       " 71,\n",
       " 73,\n",
       " 79,\n",
       " 83,\n",
       " 89,\n",
       " 97]"
      ]
     },
     "execution_count": 43,
     "metadata": {},
     "output_type": "execute_result"
    }
   ],
   "source": [
    "prime_numbers = [num for num in range(2, limit + 1) if all(num % i != 0 for i in range(2, int(num**0.5) + 1))]\n",
    "prime_numbers"
   ]
  },
  {
   "cell_type": "markdown",
   "id": "465526a6-c786-4493-bcaa-a89a4a14e2b8",
   "metadata": {},
   "source": [
    "32. Create a program that generates a list of all Pythagorean triplets up to a specified limit using list\n",
    "comprehension."
   ]
  },
  {
   "cell_type": "code",
   "execution_count": 46,
   "id": "448208e2-2833-41d2-9a75-77e9d8848198",
   "metadata": {},
   "outputs": [],
   "source": [
    "# A Pythagorean triple consists of three positive integers a, b, and c, such that a2 + b2 = c2"
   ]
  },
  {
   "cell_type": "code",
   "execution_count": 47,
   "id": "9b35d502-d339-4326-bd4b-b96552b235aa",
   "metadata": {},
   "outputs": [
    {
     "data": {
      "text/plain": [
       "100"
      ]
     },
     "execution_count": 47,
     "metadata": {},
     "output_type": "execute_result"
    }
   ],
   "source": [
    "limit"
   ]
  },
  {
   "cell_type": "code",
   "execution_count": 48,
   "id": "061db5ec-2c64-4bb1-adbd-8c6565b8346f",
   "metadata": {},
   "outputs": [
    {
     "data": {
      "text/plain": [
       "[(3, 4, 5),\n",
       " (5, 12, 13),\n",
       " (6, 8, 10),\n",
       " (7, 24, 25),\n",
       " (8, 15, 17),\n",
       " (9, 12, 15),\n",
       " (9, 40, 41),\n",
       " (10, 24, 26),\n",
       " (11, 60, 61),\n",
       " (12, 16, 20),\n",
       " (12, 35, 37),\n",
       " (13, 84, 85),\n",
       " (14, 48, 50),\n",
       " (15, 20, 25),\n",
       " (15, 36, 39),\n",
       " (16, 30, 34),\n",
       " (16, 63, 65),\n",
       " (18, 24, 30),\n",
       " (18, 80, 82),\n",
       " (20, 21, 29),\n",
       " (20, 48, 52),\n",
       " (21, 28, 35),\n",
       " (21, 72, 75),\n",
       " (24, 32, 40),\n",
       " (24, 45, 51),\n",
       " (24, 70, 74),\n",
       " (25, 60, 65),\n",
       " (27, 36, 45),\n",
       " (28, 45, 53),\n",
       " (30, 40, 50),\n",
       " (30, 72, 78),\n",
       " (32, 60, 68),\n",
       " (33, 44, 55),\n",
       " (33, 56, 65),\n",
       " (35, 84, 91),\n",
       " (36, 48, 60),\n",
       " (36, 77, 85),\n",
       " (39, 52, 65),\n",
       " (39, 80, 89),\n",
       " (40, 42, 58),\n",
       " (40, 75, 85),\n",
       " (42, 56, 70),\n",
       " (45, 60, 75),\n",
       " (48, 55, 73),\n",
       " (48, 64, 80),\n",
       " (51, 68, 85),\n",
       " (54, 72, 90),\n",
       " (57, 76, 95),\n",
       " (60, 63, 87),\n",
       " (65, 72, 97)]"
      ]
     },
     "execution_count": 48,
     "metadata": {},
     "output_type": "execute_result"
    }
   ],
   "source": [
    "pythagorean_triplets = [(a, b, c) for a in range(1, limit) for b in range(a, limit) for c in range(b, limit) if a**2 + b**2 == c**2]\n",
    "pythagorean_triplets"
   ]
  },
  {
   "cell_type": "markdown",
   "id": "504f2952-a39a-45e9-91aa-f55b457e5fab",
   "metadata": {},
   "source": [
    "33. Develop a program that generates a list of all possible combinations of two lists using list comprehension."
   ]
  },
  {
   "cell_type": "code",
   "execution_count": 49,
   "id": "6802a06e-d36a-4eb4-8f41-fff01205fb9b",
   "metadata": {},
   "outputs": [],
   "source": [
    "list1 = [1, 2, 3]\n",
    "list2 = ['a', 'b', 'c']\n"
   ]
  },
  {
   "cell_type": "code",
   "execution_count": 50,
   "id": "ea96f520-8bfd-4191-88f9-d51e1dbad0ae",
   "metadata": {},
   "outputs": [
    {
     "data": {
      "text/plain": [
       "[(1, 'a'),\n",
       " (1, 'b'),\n",
       " (1, 'c'),\n",
       " (2, 'a'),\n",
       " (2, 'b'),\n",
       " (2, 'c'),\n",
       " (3, 'a'),\n",
       " (3, 'b'),\n",
       " (3, 'c')]"
      ]
     },
     "execution_count": 50,
     "metadata": {},
     "output_type": "execute_result"
    }
   ],
   "source": [
    "combinations = [(x, y) for x in list1 for y in list2]\n",
    "combinations"
   ]
  },
  {
   "cell_type": "markdown",
   "id": "b0d387f6-392f-4d10-a85c-88763f37a2fc",
   "metadata": {},
   "source": [
    "34. Write a program that calculates the mean, median, and mode of a list of numbers using list\n",
    "comprehension."
   ]
  },
  {
   "cell_type": "code",
   "execution_count": 62,
   "id": "42df36c7-b63f-4b06-a8e4-c5e65e7c1847",
   "metadata": {},
   "outputs": [],
   "source": [
    "tempList = [8,5,7,89]"
   ]
  },
  {
   "cell_type": "code",
   "execution_count": 63,
   "id": "03a915be-af70-4f77-bbbb-fe422aa5773d",
   "metadata": {},
   "outputs": [
    {
     "name": "stdout",
     "output_type": "stream",
     "text": [
      "mean: 27.25\n"
     ]
    }
   ],
   "source": [
    "mean = sum(tempList)/ len(tempList)\n",
    "print('mean:' ,mean)"
   ]
  },
  {
   "cell_type": "code",
   "execution_count": 64,
   "id": "5b3ab4bf-16bd-4bee-a6cf-1f625f5433cf",
   "metadata": {},
   "outputs": [
    {
     "data": {
      "text/plain": [
       "[5, 7, 8, 89]"
      ]
     },
     "execution_count": 64,
     "metadata": {},
     "output_type": "execute_result"
    }
   ],
   "source": [
    "sorted_lst = sorted(tempList)\n",
    "sorted_lst"
   ]
  },
  {
   "cell_type": "code",
   "execution_count": 65,
   "id": "46355ffd-2e83-4217-aaac-783ca0c1fc4f",
   "metadata": {},
   "outputs": [],
   "source": [
    "n = len(sorted_lst)"
   ]
  },
  {
   "cell_type": "code",
   "execution_count": 66,
   "id": "41c325f1-3c33-4c73-8390-8f66781adc5a",
   "metadata": {},
   "outputs": [
    {
     "name": "stdout",
     "output_type": "stream",
     "text": [
      "median:  7.5\n"
     ]
    }
   ],
   "source": [
    "median = (sorted_lst[(n - 1) // 2] + sorted_lst[n // 2]) / 2 if n % 2 == 0 else sorted_lst[n // 2]\n",
    "print('median: ',median)"
   ]
  },
  {
   "cell_type": "code",
   "execution_count": 70,
   "id": "1edce9c9-f9c6-4116-abc5-de6b589aedf1",
   "metadata": {},
   "outputs": [
    {
     "data": {
      "text/plain": [
       "[8, 5, 7, 89, 9, 9, 9]"
      ]
     },
     "execution_count": 70,
     "metadata": {},
     "output_type": "execute_result"
    }
   ],
   "source": [
    "tempList = [8,5,7,89, 9, 9, 9]\n",
    "tempList"
   ]
  },
  {
   "cell_type": "code",
   "execution_count": 71,
   "id": "ac57d078-7847-4e83-b992-ce67ba6a2599",
   "metadata": {},
   "outputs": [
    {
     "data": {
      "text/plain": [
       "{8: 1, 5: 1, 7: 1, 89: 1, 9: 3}"
      ]
     },
     "execution_count": 71,
     "metadata": {},
     "output_type": "execute_result"
    }
   ],
   "source": [
    "counts = {num: tempList.count(num) for num in tempList}\n",
    "counts"
   ]
  },
  {
   "cell_type": "code",
   "execution_count": 72,
   "id": "31100721-908a-48a1-9161-926eef9e58eb",
   "metadata": {},
   "outputs": [
    {
     "name": "stdout",
     "output_type": "stream",
     "text": [
      "mode:  [9]\n"
     ]
    }
   ],
   "source": [
    "mode = [key for key, value in counts.items() if value == max(counts.values())]\n",
    "print('mode: ', mode)"
   ]
  },
  {
   "cell_type": "markdown",
   "id": "12380c5e-0598-4dd0-adfd-60b3f6457b9d",
   "metadata": {},
   "source": [
    "35. Create a program that generates Pascal's triangle up to a specified number of rows using list\n",
    "comprehension."
   ]
  },
  {
   "cell_type": "code",
   "execution_count": 73,
   "id": "b8cd5886-efdc-4bdf-8a05-afa983634b0c",
   "metadata": {},
   "outputs": [],
   "source": [
    "# ref. Pascal's triangle is the triangular array of numbers that begins with 1 on the top and with 1's running down the two sides of a triangle."
   ]
  },
  {
   "cell_type": "code",
   "execution_count": 74,
   "id": "82fe22d0-b745-4810-97c1-d86c6786443b",
   "metadata": {},
   "outputs": [
    {
     "data": {
      "text/plain": [
       "5"
      ]
     },
     "execution_count": 74,
     "metadata": {},
     "output_type": "execute_result"
    }
   ],
   "source": [
    "num_rows = 5\n",
    "num_rows"
   ]
  },
  {
   "cell_type": "code",
   "execution_count": 80,
   "id": "7b337df8-ecb0-4177-983a-522b3abe22b6",
   "metadata": {},
   "outputs": [
    {
     "name": "stdout",
     "output_type": "stream",
     "text": [
      "[1]\n",
      "[1, 1]\n",
      "[1, 2, 1]\n",
      "[1, 3, 3, 1]\n",
      "[1, 4, 6, 4, 1]\n"
     ]
    },
    {
     "data": {
      "text/plain": [
       "[1, 5, 10, 10, 5, 1]"
      ]
     },
     "execution_count": 80,
     "metadata": {},
     "output_type": "execute_result"
    }
   ],
   "source": [
    "pascalList=[1] \n",
    "for i in range(num_rows): \n",
    "    print(pascalList) \n",
    "    newlist=[] \n",
    "    newlist.append(pascalList[0]) \n",
    "    for i in range(len(pascalList)-1): \n",
    "        newlist.append(pascalList[i]+pascalList[i+1]) \n",
    "    newlist.append(pascalList[-1]) \n",
    "    pascalList=newlist \n",
    "pascalList"
   ]
  },
  {
   "cell_type": "markdown",
   "id": "eccde24a-bcac-4bb5-a6b1-9449d23ea31f",
   "metadata": {},
   "source": [
    "36. Develop a program that calculates the sum of the digits of a factorial of numbers from 1 to 5 using list\n",
    "comprehension."
   ]
  },
  {
   "cell_type": "code",
   "execution_count": 89,
   "id": "258720cd-b755-4fa1-96d9-5ac686df731e",
   "metadata": {},
   "outputs": [
    {
     "data": {
      "text/plain": [
       "[1, 2, 6, 6, 3]"
      ]
     },
     "execution_count": 89,
     "metadata": {},
     "output_type": "execute_result"
    }
   ],
   "source": [
    "sum_of_digit_factors = [\n",
    "    sum(map(int, str(factorial))) \n",
    "    for factorial in [1, 2, 6, 24, 120]  # Factorials of 1 to 5\n",
    "]\n",
    "sum_of_digit_factors"
   ]
  },
  {
   "cell_type": "markdown",
   "id": "bcdf23bf-c2e7-4db5-93f8-0c58841e73f2",
   "metadata": {},
   "source": [
    "37. Write a program that finds the longest word in a sentence using list comprehension."
   ]
  },
  {
   "cell_type": "code",
   "execution_count": 90,
   "id": "6938651a-3110-41c8-90a3-23651fa183de",
   "metadata": {},
   "outputs": [
    {
     "data": {
      "text/plain": [
       "'Write a program that finds the longest word in a sentence using list comprehension.'"
      ]
     },
     "execution_count": 90,
     "metadata": {},
     "output_type": "execute_result"
    }
   ],
   "source": [
    "sentence = 'Write a program that finds the longest word in a sentence using list comprehension.'\n",
    "sentence"
   ]
  },
  {
   "cell_type": "code",
   "execution_count": 91,
   "id": "ed1e56cc-cb24-4a5c-967c-c92076f2447d",
   "metadata": {},
   "outputs": [
    {
     "data": {
      "text/plain": [
       "['Write',\n",
       " 'a',\n",
       " 'program',\n",
       " 'that',\n",
       " 'finds',\n",
       " 'the',\n",
       " 'longest',\n",
       " 'word',\n",
       " 'in',\n",
       " 'a',\n",
       " 'sentence',\n",
       " 'using',\n",
       " 'list',\n",
       " 'comprehension.']"
      ]
     },
     "execution_count": 91,
     "metadata": {},
     "output_type": "execute_result"
    }
   ],
   "source": [
    "words = sentence.split()\n",
    "words"
   ]
  },
  {
   "cell_type": "code",
   "execution_count": 92,
   "id": "c6e6b1b2-0d2f-40d6-8c77-4e1224226627",
   "metadata": {},
   "outputs": [
    {
     "data": {
      "text/plain": [
       "['comprehension.']"
      ]
     },
     "execution_count": 92,
     "metadata": {},
     "output_type": "execute_result"
    }
   ],
   "source": [
    "longest_words = [word for word in words if len(word) == max(map(len, words))]\n",
    "longest_words"
   ]
  },
  {
   "cell_type": "markdown",
   "id": "36e26956-9334-47c9-9f70-52fbb87bcdf3",
   "metadata": {},
   "source": [
    "38. Create a program that filters a list of strings to include only those with more than three vowels using list\n",
    "comprehension."
   ]
  },
  {
   "cell_type": "code",
   "execution_count": 94,
   "id": "5b61d700-2738-4dc8-b844-bd17507da6fb",
   "metadata": {},
   "outputs": [
    {
     "data": {
      "text/plain": [
       "['Write',\n",
       " 'a',\n",
       " 'program',\n",
       " 'that',\n",
       " 'finds',\n",
       " 'the',\n",
       " 'longest',\n",
       " 'word',\n",
       " 'in',\n",
       " 'a',\n",
       " 'sentence',\n",
       " 'using',\n",
       " 'list',\n",
       " 'comprehension.']"
      ]
     },
     "execution_count": 94,
     "metadata": {},
     "output_type": "execute_result"
    }
   ],
   "source": [
    "words"
   ]
  },
  {
   "cell_type": "code",
   "execution_count": 95,
   "id": "9418cd3d-68ca-46d3-98a5-83fd6ffb123f",
   "metadata": {},
   "outputs": [
    {
     "data": {
      "text/plain": [
       "('a', 'e', 'i', 'o', 'u')"
      ]
     },
     "execution_count": 95,
     "metadata": {},
     "output_type": "execute_result"
    }
   ],
   "source": [
    "vowels"
   ]
  },
  {
   "cell_type": "code",
   "execution_count": 96,
   "id": "6740d9bf-b1b7-404b-bdc3-347234a6326e",
   "metadata": {},
   "outputs": [
    {
     "data": {
      "text/plain": [
       "['comprehension.']"
      ]
     },
     "execution_count": 96,
     "metadata": {},
     "output_type": "execute_result"
    }
   ],
   "source": [
    "filtered_strings = [string for string in words if sum(1 for char in string if char.lower() in vowels) > 3]\n",
    "filtered_strings"
   ]
  },
  {
   "cell_type": "markdown",
   "id": "a7cdc52f-252c-41e2-a520-c762ff3dcfbd",
   "metadata": {},
   "source": [
    "39. Develop a program that calculates the sum of the digits of numbers from 1 to 1000 using list\n",
    "comprehension."
   ]
  },
  {
   "cell_type": "code",
   "execution_count": 97,
   "id": "b92e7a19-0dd9-4202-a276-533347994a3f",
   "metadata": {},
   "outputs": [
    {
     "data": {
      "text/plain": [
       "[1,\n",
       " 2,\n",
       " 3,\n",
       " 4,\n",
       " 5,\n",
       " 6,\n",
       " 7,\n",
       " 8,\n",
       " 9,\n",
       " 10,\n",
       " 11,\n",
       " 12,\n",
       " 13,\n",
       " 14,\n",
       " 15,\n",
       " 16,\n",
       " 17,\n",
       " 18,\n",
       " 19,\n",
       " 20,\n",
       " 21,\n",
       " 22,\n",
       " 23,\n",
       " 24,\n",
       " 25,\n",
       " 26,\n",
       " 27,\n",
       " 28,\n",
       " 29,\n",
       " 30,\n",
       " 31,\n",
       " 32,\n",
       " 33,\n",
       " 34,\n",
       " 35,\n",
       " 36,\n",
       " 37,\n",
       " 38,\n",
       " 39,\n",
       " 40,\n",
       " 41,\n",
       " 42,\n",
       " 43,\n",
       " 44,\n",
       " 45,\n",
       " 46,\n",
       " 47,\n",
       " 48,\n",
       " 49,\n",
       " 50,\n",
       " 51,\n",
       " 52,\n",
       " 53,\n",
       " 54,\n",
       " 55,\n",
       " 56,\n",
       " 57,\n",
       " 58,\n",
       " 59,\n",
       " 60,\n",
       " 61,\n",
       " 62,\n",
       " 63,\n",
       " 64,\n",
       " 65,\n",
       " 66,\n",
       " 67,\n",
       " 68,\n",
       " 69,\n",
       " 70,\n",
       " 71,\n",
       " 72,\n",
       " 73,\n",
       " 74,\n",
       " 75,\n",
       " 76,\n",
       " 77,\n",
       " 78,\n",
       " 79,\n",
       " 80,\n",
       " 81,\n",
       " 82,\n",
       " 83,\n",
       " 84,\n",
       " 85,\n",
       " 86,\n",
       " 87,\n",
       " 88,\n",
       " 89,\n",
       " 90,\n",
       " 91,\n",
       " 92,\n",
       " 93,\n",
       " 94,\n",
       " 95,\n",
       " 96,\n",
       " 97,\n",
       " 98,\n",
       " 99,\n",
       " 100,\n",
       " 101,\n",
       " 102,\n",
       " 103,\n",
       " 104,\n",
       " 105,\n",
       " 106,\n",
       " 107,\n",
       " 108,\n",
       " 109,\n",
       " 110,\n",
       " 111,\n",
       " 112,\n",
       " 113,\n",
       " 114,\n",
       " 115,\n",
       " 116,\n",
       " 117,\n",
       " 118,\n",
       " 119,\n",
       " 120,\n",
       " 121,\n",
       " 122,\n",
       " 123,\n",
       " 124,\n",
       " 125,\n",
       " 126,\n",
       " 127,\n",
       " 128,\n",
       " 129,\n",
       " 130,\n",
       " 131,\n",
       " 132,\n",
       " 133,\n",
       " 134,\n",
       " 135,\n",
       " 136,\n",
       " 137,\n",
       " 138,\n",
       " 139,\n",
       " 140,\n",
       " 141,\n",
       " 142,\n",
       " 143,\n",
       " 144,\n",
       " 145,\n",
       " 146,\n",
       " 147,\n",
       " 148,\n",
       " 149,\n",
       " 150,\n",
       " 151,\n",
       " 152,\n",
       " 153,\n",
       " 154,\n",
       " 155,\n",
       " 156,\n",
       " 157,\n",
       " 158,\n",
       " 159,\n",
       " 160,\n",
       " 161,\n",
       " 162,\n",
       " 163,\n",
       " 164,\n",
       " 165,\n",
       " 166,\n",
       " 167,\n",
       " 168,\n",
       " 169,\n",
       " 170,\n",
       " 171,\n",
       " 172,\n",
       " 173,\n",
       " 174,\n",
       " 175,\n",
       " 176,\n",
       " 177,\n",
       " 178,\n",
       " 179,\n",
       " 180,\n",
       " 181,\n",
       " 182,\n",
       " 183,\n",
       " 184,\n",
       " 185,\n",
       " 186,\n",
       " 187,\n",
       " 188,\n",
       " 189,\n",
       " 190,\n",
       " 191,\n",
       " 192,\n",
       " 193,\n",
       " 194,\n",
       " 195,\n",
       " 196,\n",
       " 197,\n",
       " 198,\n",
       " 199,\n",
       " 200,\n",
       " 201,\n",
       " 202,\n",
       " 203,\n",
       " 204,\n",
       " 205,\n",
       " 206,\n",
       " 207,\n",
       " 208,\n",
       " 209,\n",
       " 210,\n",
       " 211,\n",
       " 212,\n",
       " 213,\n",
       " 214,\n",
       " 215,\n",
       " 216,\n",
       " 217,\n",
       " 218,\n",
       " 219,\n",
       " 220,\n",
       " 221,\n",
       " 222,\n",
       " 223,\n",
       " 224,\n",
       " 225,\n",
       " 226,\n",
       " 227,\n",
       " 228,\n",
       " 229,\n",
       " 230,\n",
       " 231,\n",
       " 232,\n",
       " 233,\n",
       " 234,\n",
       " 235,\n",
       " 236,\n",
       " 237,\n",
       " 238,\n",
       " 239,\n",
       " 240,\n",
       " 241,\n",
       " 242,\n",
       " 243,\n",
       " 244,\n",
       " 245,\n",
       " 246,\n",
       " 247,\n",
       " 248,\n",
       " 249,\n",
       " 250,\n",
       " 251,\n",
       " 252,\n",
       " 253,\n",
       " 254,\n",
       " 255,\n",
       " 256,\n",
       " 257,\n",
       " 258,\n",
       " 259,\n",
       " 260,\n",
       " 261,\n",
       " 262,\n",
       " 263,\n",
       " 264,\n",
       " 265,\n",
       " 266,\n",
       " 267,\n",
       " 268,\n",
       " 269,\n",
       " 270,\n",
       " 271,\n",
       " 272,\n",
       " 273,\n",
       " 274,\n",
       " 275,\n",
       " 276,\n",
       " 277,\n",
       " 278,\n",
       " 279,\n",
       " 280,\n",
       " 281,\n",
       " 282,\n",
       " 283,\n",
       " 284,\n",
       " 285,\n",
       " 286,\n",
       " 287,\n",
       " 288,\n",
       " 289,\n",
       " 290,\n",
       " 291,\n",
       " 292,\n",
       " 293,\n",
       " 294,\n",
       " 295,\n",
       " 296,\n",
       " 297,\n",
       " 298,\n",
       " 299,\n",
       " 300,\n",
       " 301,\n",
       " 302,\n",
       " 303,\n",
       " 304,\n",
       " 305,\n",
       " 306,\n",
       " 307,\n",
       " 308,\n",
       " 309,\n",
       " 310,\n",
       " 311,\n",
       " 312,\n",
       " 313,\n",
       " 314,\n",
       " 315,\n",
       " 316,\n",
       " 317,\n",
       " 318,\n",
       " 319,\n",
       " 320,\n",
       " 321,\n",
       " 322,\n",
       " 323,\n",
       " 324,\n",
       " 325,\n",
       " 326,\n",
       " 327,\n",
       " 328,\n",
       " 329,\n",
       " 330,\n",
       " 331,\n",
       " 332,\n",
       " 333,\n",
       " 334,\n",
       " 335,\n",
       " 336,\n",
       " 337,\n",
       " 338,\n",
       " 339,\n",
       " 340,\n",
       " 341,\n",
       " 342,\n",
       " 343,\n",
       " 344,\n",
       " 345,\n",
       " 346,\n",
       " 347,\n",
       " 348,\n",
       " 349,\n",
       " 350,\n",
       " 351,\n",
       " 352,\n",
       " 353,\n",
       " 354,\n",
       " 355,\n",
       " 356,\n",
       " 357,\n",
       " 358,\n",
       " 359,\n",
       " 360,\n",
       " 361,\n",
       " 362,\n",
       " 363,\n",
       " 364,\n",
       " 365,\n",
       " 366,\n",
       " 367,\n",
       " 368,\n",
       " 369,\n",
       " 370,\n",
       " 371,\n",
       " 372,\n",
       " 373,\n",
       " 374,\n",
       " 375,\n",
       " 376,\n",
       " 377,\n",
       " 378,\n",
       " 379,\n",
       " 380,\n",
       " 381,\n",
       " 382,\n",
       " 383,\n",
       " 384,\n",
       " 385,\n",
       " 386,\n",
       " 387,\n",
       " 388,\n",
       " 389,\n",
       " 390,\n",
       " 391,\n",
       " 392,\n",
       " 393,\n",
       " 394,\n",
       " 395,\n",
       " 396,\n",
       " 397,\n",
       " 398,\n",
       " 399,\n",
       " 400,\n",
       " 401,\n",
       " 402,\n",
       " 403,\n",
       " 404,\n",
       " 405,\n",
       " 406,\n",
       " 407,\n",
       " 408,\n",
       " 409,\n",
       " 410,\n",
       " 411,\n",
       " 412,\n",
       " 413,\n",
       " 414,\n",
       " 415,\n",
       " 416,\n",
       " 417,\n",
       " 418,\n",
       " 419,\n",
       " 420,\n",
       " 421,\n",
       " 422,\n",
       " 423,\n",
       " 424,\n",
       " 425,\n",
       " 426,\n",
       " 427,\n",
       " 428,\n",
       " 429,\n",
       " 430,\n",
       " 431,\n",
       " 432,\n",
       " 433,\n",
       " 434,\n",
       " 435,\n",
       " 436,\n",
       " 437,\n",
       " 438,\n",
       " 439,\n",
       " 440,\n",
       " 441,\n",
       " 442,\n",
       " 443,\n",
       " 444,\n",
       " 445,\n",
       " 446,\n",
       " 447,\n",
       " 448,\n",
       " 449,\n",
       " 450,\n",
       " 451,\n",
       " 452,\n",
       " 453,\n",
       " 454,\n",
       " 455,\n",
       " 456,\n",
       " 457,\n",
       " 458,\n",
       " 459,\n",
       " 460,\n",
       " 461,\n",
       " 462,\n",
       " 463,\n",
       " 464,\n",
       " 465,\n",
       " 466,\n",
       " 467,\n",
       " 468,\n",
       " 469,\n",
       " 470,\n",
       " 471,\n",
       " 472,\n",
       " 473,\n",
       " 474,\n",
       " 475,\n",
       " 476,\n",
       " 477,\n",
       " 478,\n",
       " 479,\n",
       " 480,\n",
       " 481,\n",
       " 482,\n",
       " 483,\n",
       " 484,\n",
       " 485,\n",
       " 486,\n",
       " 487,\n",
       " 488,\n",
       " 489,\n",
       " 490,\n",
       " 491,\n",
       " 492,\n",
       " 493,\n",
       " 494,\n",
       " 495,\n",
       " 496,\n",
       " 497,\n",
       " 498,\n",
       " 499,\n",
       " 500,\n",
       " 501,\n",
       " 502,\n",
       " 503,\n",
       " 504,\n",
       " 505,\n",
       " 506,\n",
       " 507,\n",
       " 508,\n",
       " 509,\n",
       " 510,\n",
       " 511,\n",
       " 512,\n",
       " 513,\n",
       " 514,\n",
       " 515,\n",
       " 516,\n",
       " 517,\n",
       " 518,\n",
       " 519,\n",
       " 520,\n",
       " 521,\n",
       " 522,\n",
       " 523,\n",
       " 524,\n",
       " 525,\n",
       " 526,\n",
       " 527,\n",
       " 528,\n",
       " 529,\n",
       " 530,\n",
       " 531,\n",
       " 532,\n",
       " 533,\n",
       " 534,\n",
       " 535,\n",
       " 536,\n",
       " 537,\n",
       " 538,\n",
       " 539,\n",
       " 540,\n",
       " 541,\n",
       " 542,\n",
       " 543,\n",
       " 544,\n",
       " 545,\n",
       " 546,\n",
       " 547,\n",
       " 548,\n",
       " 549,\n",
       " 550,\n",
       " 551,\n",
       " 552,\n",
       " 553,\n",
       " 554,\n",
       " 555,\n",
       " 556,\n",
       " 557,\n",
       " 558,\n",
       " 559,\n",
       " 560,\n",
       " 561,\n",
       " 562,\n",
       " 563,\n",
       " 564,\n",
       " 565,\n",
       " 566,\n",
       " 567,\n",
       " 568,\n",
       " 569,\n",
       " 570,\n",
       " 571,\n",
       " 572,\n",
       " 573,\n",
       " 574,\n",
       " 575,\n",
       " 576,\n",
       " 577,\n",
       " 578,\n",
       " 579,\n",
       " 580,\n",
       " 581,\n",
       " 582,\n",
       " 583,\n",
       " 584,\n",
       " 585,\n",
       " 586,\n",
       " 587,\n",
       " 588,\n",
       " 589,\n",
       " 590,\n",
       " 591,\n",
       " 592,\n",
       " 593,\n",
       " 594,\n",
       " 595,\n",
       " 596,\n",
       " 597,\n",
       " 598,\n",
       " 599,\n",
       " 600,\n",
       " 601,\n",
       " 602,\n",
       " 603,\n",
       " 604,\n",
       " 605,\n",
       " 606,\n",
       " 607,\n",
       " 608,\n",
       " 609,\n",
       " 610,\n",
       " 611,\n",
       " 612,\n",
       " 613,\n",
       " 614,\n",
       " 615,\n",
       " 616,\n",
       " 617,\n",
       " 618,\n",
       " 619,\n",
       " 620,\n",
       " 621,\n",
       " 622,\n",
       " 623,\n",
       " 624,\n",
       " 625,\n",
       " 626,\n",
       " 627,\n",
       " 628,\n",
       " 629,\n",
       " 630,\n",
       " 631,\n",
       " 632,\n",
       " 633,\n",
       " 634,\n",
       " 635,\n",
       " 636,\n",
       " 637,\n",
       " 638,\n",
       " 639,\n",
       " 640,\n",
       " 641,\n",
       " 642,\n",
       " 643,\n",
       " 644,\n",
       " 645,\n",
       " 646,\n",
       " 647,\n",
       " 648,\n",
       " 649,\n",
       " 650,\n",
       " 651,\n",
       " 652,\n",
       " 653,\n",
       " 654,\n",
       " 655,\n",
       " 656,\n",
       " 657,\n",
       " 658,\n",
       " 659,\n",
       " 660,\n",
       " 661,\n",
       " 662,\n",
       " 663,\n",
       " 664,\n",
       " 665,\n",
       " 666,\n",
       " 667,\n",
       " 668,\n",
       " 669,\n",
       " 670,\n",
       " 671,\n",
       " 672,\n",
       " 673,\n",
       " 674,\n",
       " 675,\n",
       " 676,\n",
       " 677,\n",
       " 678,\n",
       " 679,\n",
       " 680,\n",
       " 681,\n",
       " 682,\n",
       " 683,\n",
       " 684,\n",
       " 685,\n",
       " 686,\n",
       " 687,\n",
       " 688,\n",
       " 689,\n",
       " 690,\n",
       " 691,\n",
       " 692,\n",
       " 693,\n",
       " 694,\n",
       " 695,\n",
       " 696,\n",
       " 697,\n",
       " 698,\n",
       " 699,\n",
       " 700,\n",
       " 701,\n",
       " 702,\n",
       " 703,\n",
       " 704,\n",
       " 705,\n",
       " 706,\n",
       " 707,\n",
       " 708,\n",
       " 709,\n",
       " 710,\n",
       " 711,\n",
       " 712,\n",
       " 713,\n",
       " 714,\n",
       " 715,\n",
       " 716,\n",
       " 717,\n",
       " 718,\n",
       " 719,\n",
       " 720,\n",
       " 721,\n",
       " 722,\n",
       " 723,\n",
       " 724,\n",
       " 725,\n",
       " 726,\n",
       " 727,\n",
       " 728,\n",
       " 729,\n",
       " 730,\n",
       " 731,\n",
       " 732,\n",
       " 733,\n",
       " 734,\n",
       " 735,\n",
       " 736,\n",
       " 737,\n",
       " 738,\n",
       " 739,\n",
       " 740,\n",
       " 741,\n",
       " 742,\n",
       " 743,\n",
       " 744,\n",
       " 745,\n",
       " 746,\n",
       " 747,\n",
       " 748,\n",
       " 749,\n",
       " 750,\n",
       " 751,\n",
       " 752,\n",
       " 753,\n",
       " 754,\n",
       " 755,\n",
       " 756,\n",
       " 757,\n",
       " 758,\n",
       " 759,\n",
       " 760,\n",
       " 761,\n",
       " 762,\n",
       " 763,\n",
       " 764,\n",
       " 765,\n",
       " 766,\n",
       " 767,\n",
       " 768,\n",
       " 769,\n",
       " 770,\n",
       " 771,\n",
       " 772,\n",
       " 773,\n",
       " 774,\n",
       " 775,\n",
       " 776,\n",
       " 777,\n",
       " 778,\n",
       " 779,\n",
       " 780,\n",
       " 781,\n",
       " 782,\n",
       " 783,\n",
       " 784,\n",
       " 785,\n",
       " 786,\n",
       " 787,\n",
       " 788,\n",
       " 789,\n",
       " 790,\n",
       " 791,\n",
       " 792,\n",
       " 793,\n",
       " 794,\n",
       " 795,\n",
       " 796,\n",
       " 797,\n",
       " 798,\n",
       " 799,\n",
       " 800,\n",
       " 801,\n",
       " 802,\n",
       " 803,\n",
       " 804,\n",
       " 805,\n",
       " 806,\n",
       " 807,\n",
       " 808,\n",
       " 809,\n",
       " 810,\n",
       " 811,\n",
       " 812,\n",
       " 813,\n",
       " 814,\n",
       " 815,\n",
       " 816,\n",
       " 817,\n",
       " 818,\n",
       " 819,\n",
       " 820,\n",
       " 821,\n",
       " 822,\n",
       " 823,\n",
       " 824,\n",
       " 825,\n",
       " 826,\n",
       " 827,\n",
       " 828,\n",
       " 829,\n",
       " 830,\n",
       " 831,\n",
       " 832,\n",
       " 833,\n",
       " 834,\n",
       " 835,\n",
       " 836,\n",
       " 837,\n",
       " 838,\n",
       " 839,\n",
       " 840,\n",
       " 841,\n",
       " 842,\n",
       " 843,\n",
       " 844,\n",
       " 845,\n",
       " 846,\n",
       " 847,\n",
       " 848,\n",
       " 849,\n",
       " 850,\n",
       " 851,\n",
       " 852,\n",
       " 853,\n",
       " 854,\n",
       " 855,\n",
       " 856,\n",
       " 857,\n",
       " 858,\n",
       " 859,\n",
       " 860,\n",
       " 861,\n",
       " 862,\n",
       " 863,\n",
       " 864,\n",
       " 865,\n",
       " 866,\n",
       " 867,\n",
       " 868,\n",
       " 869,\n",
       " 870,\n",
       " 871,\n",
       " 872,\n",
       " 873,\n",
       " 874,\n",
       " 875,\n",
       " 876,\n",
       " 877,\n",
       " 878,\n",
       " 879,\n",
       " 880,\n",
       " 881,\n",
       " 882,\n",
       " 883,\n",
       " 884,\n",
       " 885,\n",
       " 886,\n",
       " 887,\n",
       " 888,\n",
       " 889,\n",
       " 890,\n",
       " 891,\n",
       " 892,\n",
       " 893,\n",
       " 894,\n",
       " 895,\n",
       " 896,\n",
       " 897,\n",
       " 898,\n",
       " 899,\n",
       " 900,\n",
       " 901,\n",
       " 902,\n",
       " 903,\n",
       " 904,\n",
       " 905,\n",
       " 906,\n",
       " 907,\n",
       " 908,\n",
       " 909,\n",
       " 910,\n",
       " 911,\n",
       " 912,\n",
       " 913,\n",
       " 914,\n",
       " 915,\n",
       " 916,\n",
       " 917,\n",
       " 918,\n",
       " 919,\n",
       " 920,\n",
       " 921,\n",
       " 922,\n",
       " 923,\n",
       " 924,\n",
       " 925,\n",
       " 926,\n",
       " 927,\n",
       " 928,\n",
       " 929,\n",
       " 930,\n",
       " 931,\n",
       " 932,\n",
       " 933,\n",
       " 934,\n",
       " 935,\n",
       " 936,\n",
       " 937,\n",
       " 938,\n",
       " 939,\n",
       " 940,\n",
       " 941,\n",
       " 942,\n",
       " 943,\n",
       " 944,\n",
       " 945,\n",
       " 946,\n",
       " 947,\n",
       " 948,\n",
       " 949,\n",
       " 950,\n",
       " 951,\n",
       " 952,\n",
       " 953,\n",
       " 954,\n",
       " 955,\n",
       " 956,\n",
       " 957,\n",
       " 958,\n",
       " 959,\n",
       " 960,\n",
       " 961,\n",
       " 962,\n",
       " 963,\n",
       " 964,\n",
       " 965,\n",
       " 966,\n",
       " 967,\n",
       " 968,\n",
       " 969,\n",
       " 970,\n",
       " 971,\n",
       " 972,\n",
       " 973,\n",
       " 974,\n",
       " 975,\n",
       " 976,\n",
       " 977,\n",
       " 978,\n",
       " 979,\n",
       " 980,\n",
       " 981,\n",
       " 982,\n",
       " 983,\n",
       " 984,\n",
       " 985,\n",
       " 986,\n",
       " 987,\n",
       " 988,\n",
       " 989,\n",
       " 990,\n",
       " 991,\n",
       " 992,\n",
       " 993,\n",
       " 994,\n",
       " 995,\n",
       " 996,\n",
       " 997,\n",
       " 998,\n",
       " 999,\n",
       " 1000]"
      ]
     },
     "execution_count": 97,
     "metadata": {},
     "output_type": "execute_result"
    }
   ],
   "source": [
    "numbers = list(range(1, 1001))\n",
    "numbers"
   ]
  },
  {
   "cell_type": "code",
   "execution_count": 98,
   "id": "57920e7a-55e5-4aa0-871c-15372a64ce08",
   "metadata": {},
   "outputs": [
    {
     "data": {
      "text/plain": [
       "13501"
      ]
     },
     "execution_count": 98,
     "metadata": {},
     "output_type": "execute_result"
    }
   ],
   "source": [
    "sum_of_digits = sum([sum(int(digit) for digit in str(number)) for number in numbers])\n",
    "sum_of_digits"
   ]
  },
  {
   "cell_type": "markdown",
   "id": "76287d05-d780-44c4-933e-57341512be13",
   "metadata": {},
   "source": [
    "40. Write a program that generates a list of prime palindromic numbers using list comprehension."
   ]
  },
  {
   "cell_type": "code",
   "execution_count": 102,
   "id": "6261b041-0051-4fb8-8d77-f32d0b93285c",
   "metadata": {},
   "outputs": [],
   "source": [
    "# https://en.wikipedia.org/wiki/Palindromic_prime#:~:text=2%2C%203%2C%205%2C%207%2C%20B%2C%2011%2C,B2B%2C%20B6B%2C%20..."
   ]
  },
  {
   "cell_type": "code",
   "execution_count": 103,
   "id": "b5dd87a4-2f60-48c8-9bc3-d4a9aceb0390",
   "metadata": {},
   "outputs": [
    {
     "data": {
      "text/plain": [
       "100"
      ]
     },
     "execution_count": 103,
     "metadata": {},
     "output_type": "execute_result"
    }
   ],
   "source": [
    "limit = 100\n",
    "limit"
   ]
  },
  {
   "cell_type": "code",
   "execution_count": 104,
   "id": "36080108-1c3d-4c08-a8f4-7b6f37a71eed",
   "metadata": {},
   "outputs": [
    {
     "data": {
      "text/plain": [
       "[2, 3, 5, 7, 11]"
      ]
     },
     "execution_count": 104,
     "metadata": {},
     "output_type": "execute_result"
    }
   ],
   "source": [
    "prime_palindromic_numbers = [\n",
    "    num\n",
    "    for num in range(1, limit+1)\n",
    "    if num > 1 and all(num % i != 0 for i in range(2, int(num ** 0.5) + 1))\n",
    "    and str(num) == str(num)[::-1]\n",
    "]\n",
    "prime_palindromic_numbers"
   ]
  },
  {
   "cell_type": "code",
   "execution_count": null,
   "id": "091375fd-31fd-4196-8818-d4b8291cfc7e",
   "metadata": {},
   "outputs": [],
   "source": []
  }
 ],
 "metadata": {
  "kernelspec": {
   "display_name": "Python 3 (ipykernel)",
   "language": "python",
   "name": "python3"
  },
  "language_info": {
   "codemirror_mode": {
    "name": "ipython",
    "version": 3
   },
   "file_extension": ".py",
   "mimetype": "text/x-python",
   "name": "python",
   "nbconvert_exporter": "python",
   "pygments_lexer": "ipython3",
   "version": "3.10.8"
  }
 },
 "nbformat": 4,
 "nbformat_minor": 5
}
