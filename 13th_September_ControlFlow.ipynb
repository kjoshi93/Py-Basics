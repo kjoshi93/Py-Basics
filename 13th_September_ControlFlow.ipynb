{
 "cells": [
  {
   "cell_type": "markdown",
   "id": "1cc396e4-0630-45e2-99ce-149564e0134f",
   "metadata": {},
   "source": [
    "Basic If-Else Statements:"
   ]
  },
  {
   "cell_type": "markdown",
   "id": "cdd1df01-fb60-43d1-9e8a-88b0bb70d6d4",
   "metadata": {},
   "source": [
    "1. Write a Python program to check if a given number is positive or negative."
   ]
  },
  {
   "cell_type": "code",
   "execution_count": 1,
   "id": "90cd09ae-a060-450f-82ba-6b68f30577d1",
   "metadata": {},
   "outputs": [
    {
     "data": {
      "text/plain": [
       "-5"
      ]
     },
     "execution_count": 1,
     "metadata": {},
     "output_type": "execute_result"
    }
   ],
   "source": [
    "num = -5\n",
    "num"
   ]
  },
  {
   "cell_type": "code",
   "execution_count": 2,
   "id": "0d8f92c0-0c75-4392-adc0-889a7333041b",
   "metadata": {},
   "outputs": [
    {
     "name": "stdout",
     "output_type": "stream",
     "text": [
      "negative\n"
     ]
    }
   ],
   "source": [
    "if num < 0:\n",
    "    print('negative')\n",
    "else:\n",
    "    print('positive')"
   ]
  },
  {
   "cell_type": "markdown",
   "id": "4e2d7d9d-16bb-4455-9d34-de2a97767f1e",
   "metadata": {},
   "source": [
    "2. Create a program that determines if a person is eligible to vote based on their age."
   ]
  },
  {
   "cell_type": "code",
   "execution_count": 3,
   "id": "2c6e5c21-8e68-41b0-8108-52383ec8c72d",
   "metadata": {},
   "outputs": [
    {
     "data": {
      "text/plain": [
       "21"
      ]
     },
     "execution_count": 3,
     "metadata": {},
     "output_type": "execute_result"
    }
   ],
   "source": [
    "age = 21\n",
    "age"
   ]
  },
  {
   "cell_type": "code",
   "execution_count": 4,
   "id": "f578c544-4929-444d-b5bd-891bcfdda4b9",
   "metadata": {},
   "outputs": [
    {
     "name": "stdout",
     "output_type": "stream",
     "text": [
      "eligible\n"
     ]
    }
   ],
   "source": [
    "if age>= 18:\n",
    "    print(\"eligible\")\n",
    "else:\n",
    "    print(\"not eligible\")"
   ]
  },
  {
   "cell_type": "markdown",
   "id": "06e1e972-821a-46dd-8138-2108972efc03",
   "metadata": {},
   "source": [
    "3. Develop a program to find the maximum of two numbers using if-else statements."
   ]
  },
  {
   "cell_type": "code",
   "execution_count": 5,
   "id": "b50be1fc-e922-4307-9ab1-ccc1924f70c9",
   "metadata": {},
   "outputs": [],
   "source": [
    "num1 = 50\n",
    "\n",
    "num2 = 100"
   ]
  },
  {
   "cell_type": "code",
   "execution_count": 6,
   "id": "f543314c-9604-41d1-b468-38196db63748",
   "metadata": {},
   "outputs": [
    {
     "name": "stdout",
     "output_type": "stream",
     "text": [
      "max no is:  100\n"
     ]
    }
   ],
   "source": [
    "if num1> num2:\n",
    "    print(\"max no is: \", num1)\n",
    "else:\n",
    "    print(\"max no is: \", num2)"
   ]
  },
  {
   "cell_type": "markdown",
   "id": "28037ca3-8983-4aea-a2b6-301540a7ef20",
   "metadata": {},
   "source": [
    "4. Write a Python script to classify a given year as a leap year or not."
   ]
  },
  {
   "cell_type": "code",
   "execution_count": 12,
   "id": "c0cfff3b-8b0b-4e1b-83da-acf2b6543771",
   "metadata": {},
   "outputs": [
    {
     "data": {
      "text/plain": [
       "2004"
      ]
     },
     "execution_count": 12,
     "metadata": {},
     "output_type": "execute_result"
    }
   ],
   "source": [
    "year = 2004\n",
    "year"
   ]
  },
  {
   "cell_type": "code",
   "execution_count": 13,
   "id": "9acea1de-30f8-4bdc-904d-a8a39f55949f",
   "metadata": {},
   "outputs": [
    {
     "name": "stdout",
     "output_type": "stream",
     "text": [
      "2004 is a leap year\n"
     ]
    }
   ],
   "source": [
    "if (year % 4 == 0 and year % 100 != 0) or (year % 400 == 0):\n",
    "    print(year, \"is a leap year\")\n",
    "else:\n",
    "    print(year, \"is not a leap year\")"
   ]
  },
  {
   "cell_type": "markdown",
   "id": "facea05b-2263-4893-93bb-64d1c9fdefc8",
   "metadata": {},
   "source": [
    "5. Create a program that checks whether a character is a vowel or a consonant."
   ]
  },
  {
   "cell_type": "code",
   "execution_count": 14,
   "id": "ebcc3775-37b7-404b-85d8-a4d6c43d6643",
   "metadata": {},
   "outputs": [
    {
     "data": {
      "text/plain": [
       "('a', 'e', 'i', 'o', 'u')"
      ]
     },
     "execution_count": 14,
     "metadata": {},
     "output_type": "execute_result"
    }
   ],
   "source": [
    "vowels = ('a', 'e', 'i', 'o', 'u')\n",
    "vowels"
   ]
  },
  {
   "cell_type": "code",
   "execution_count": 15,
   "id": "b38a76ca-9610-454d-bf98-03d6b78ead17",
   "metadata": {},
   "outputs": [
    {
     "data": {
      "text/plain": [
       "'j'"
      ]
     },
     "execution_count": 15,
     "metadata": {},
     "output_type": "execute_result"
    }
   ],
   "source": [
    "ch = 'j'\n",
    "ch"
   ]
  },
  {
   "cell_type": "code",
   "execution_count": 16,
   "id": "4902682a-e90d-432e-9197-d695cb66a81e",
   "metadata": {},
   "outputs": [
    {
     "name": "stdout",
     "output_type": "stream",
     "text": [
      "j  is a consonant\n"
     ]
    }
   ],
   "source": [
    "if ch in vowels:\n",
    "    print(ch, \" is a vowel\")\n",
    "else:\n",
    "    print(ch, \" is a consonant\")"
   ]
  },
  {
   "cell_type": "markdown",
   "id": "9943c8ac-6c6e-4e7d-a522-309f0e4bf12f",
   "metadata": {},
   "source": [
    "6. Implement a program to determine whether a given number is even or odd."
   ]
  },
  {
   "cell_type": "code",
   "execution_count": 18,
   "id": "df322d35-3adf-4756-a2e9-1dd2f765fcc4",
   "metadata": {},
   "outputs": [],
   "source": [
    "num = 12"
   ]
  },
  {
   "cell_type": "code",
   "execution_count": 19,
   "id": "f1d613d8-e0a1-4c5f-8c81-7a25ce434a4f",
   "metadata": {},
   "outputs": [
    {
     "name": "stdout",
     "output_type": "stream",
     "text": [
      "12 is even\n"
     ]
    }
   ],
   "source": [
    "if num%2 == 0:\n",
    "    print(num, \"is even\")\n",
    "else:\n",
    "    print(num, \"is odd\")"
   ]
  },
  {
   "cell_type": "markdown",
   "id": "7899481f-e7a6-4e72-8119-a60f2c377f32",
   "metadata": {},
   "source": [
    "7. Write a Python function to calculate the absolute value of a number without using the `abs()` function."
   ]
  },
  {
   "cell_type": "code",
   "execution_count": 20,
   "id": "22654baf-6932-4631-9b27-01c440845e19",
   "metadata": {},
   "outputs": [
    {
     "data": {
      "text/plain": [
       "-5"
      ]
     },
     "execution_count": 20,
     "metadata": {},
     "output_type": "execute_result"
    }
   ],
   "source": [
    "num = -5\n",
    "num"
   ]
  },
  {
   "cell_type": "code",
   "execution_count": 21,
   "id": "4edc163b-fcee-4924-bc73-c649760d4b0b",
   "metadata": {},
   "outputs": [
    {
     "name": "stdout",
     "output_type": "stream",
     "text": [
      "5\n"
     ]
    }
   ],
   "source": [
    "if num<0:\n",
    "    num *= -1\n",
    "    \n",
    "print(num)"
   ]
  },
  {
   "cell_type": "markdown",
   "id": "9f5ba398-7813-42e1-babb-9fb5cef557e3",
   "metadata": {},
   "source": [
    "8. Develop a program that determines the largest of three given numbers using if-else statements."
   ]
  },
  {
   "cell_type": "code",
   "execution_count": 23,
   "id": "36252cf7-1ab1-4ba1-afbf-0922c79ecc3d",
   "metadata": {},
   "outputs": [],
   "source": [
    "num1 = 3\n",
    "\n",
    "num2 = 6\n",
    "\n",
    "num3 = -11"
   ]
  },
  {
   "cell_type": "code",
   "execution_count": 24,
   "id": "0ee5e938-002c-4691-b3fe-55f314931403",
   "metadata": {},
   "outputs": [
    {
     "name": "stdout",
     "output_type": "stream",
     "text": [
      "largest no. is: 6\n"
     ]
    }
   ],
   "source": [
    "if num1> num2 and num1> num3:\n",
    "    print(\"largest no. is:\", num1)\n",
    "elif num2> num1 and num2> num3:\n",
    "    print(\"largest no. is:\", num2)\n",
    "elif num3> num1 and num3> num2:\n",
    "    print(\"largest no. is:\", num3)"
   ]
  },
  {
   "cell_type": "markdown",
   "id": "d40dd9ad-7f75-4eaa-93be-b5d9d2ad396a",
   "metadata": {},
   "source": [
    "9. Create a program that checks if a given string is a palindrome."
   ]
  },
  {
   "cell_type": "code",
   "execution_count": 25,
   "id": "1f7a11a0-3058-4da4-b30a-2a269287f022",
   "metadata": {},
   "outputs": [
    {
     "data": {
      "text/plain": [
       "'racecar'"
      ]
     },
     "execution_count": 25,
     "metadata": {},
     "output_type": "execute_result"
    }
   ],
   "source": [
    "tempStr = \"racecar\"\n",
    "tempStr"
   ]
  },
  {
   "cell_type": "code",
   "execution_count": 26,
   "id": "b8cee7db-702b-42c3-8224-29054a062c80",
   "metadata": {},
   "outputs": [
    {
     "name": "stdout",
     "output_type": "stream",
     "text": [
      "racecar is palindrome\n"
     ]
    }
   ],
   "source": [
    "if tempStr == tempStr[::-1]:\n",
    "    print(tempStr, \"is palindrome\")\n",
    "else:\n",
    "    print(tempStr, \"is not palindrome\")"
   ]
  },
  {
   "cell_type": "markdown",
   "id": "22da2fe0-4504-4a8a-93ff-8d2c36ae942b",
   "metadata": {},
   "source": [
    "10. Write a Python program to calculate the grade based on a student's score."
   ]
  },
  {
   "cell_type": "code",
   "execution_count": 73,
   "id": "ae4d8f81-067e-451f-8d63-18de6c8981d5",
   "metadata": {},
   "outputs": [
    {
     "data": {
      "text/plain": [
       "83"
      ]
     },
     "execution_count": 73,
     "metadata": {},
     "output_type": "execute_result"
    }
   ],
   "source": [
    "score = 83\n",
    "score"
   ]
  },
  {
   "cell_type": "code",
   "execution_count": 75,
   "id": "91901994-9b9a-4d98-b666-1eb13801e744",
   "metadata": {},
   "outputs": [
    {
     "name": "stdout",
     "output_type": "stream",
     "text": [
      "grade : b\n"
     ]
    }
   ],
   "source": [
    "if score <= 33:\n",
    "    print(\"grade : e\")\n",
    "else:\n",
    "    if score > 33 and score <=60:\n",
    "        print(\"grade : d\")\n",
    "    else:\n",
    "        if score > 60 and score <=75:\n",
    "            print(\"grade : c\")\n",
    "        else:\n",
    "            if score > 75 and score <=90:\n",
    "                print(\"grade : b\")\n",
    "            else:\n",
    "                if score > 90 and score <=100:\n",
    "                    print(\"grade : a\")"
   ]
  },
  {
   "cell_type": "code",
   "execution_count": null,
   "id": "bb2a0ca2-6e12-408d-93dd-9ca1fa1f5d14",
   "metadata": {},
   "outputs": [],
   "source": []
  },
  {
   "cell_type": "code",
   "execution_count": null,
   "id": "954ad227-52f5-4f31-9502-6b49bacc8ddd",
   "metadata": {},
   "outputs": [],
   "source": []
  },
  {
   "cell_type": "markdown",
   "id": "b9127093-7dad-49fd-bba6-8ae69c2e8814",
   "metadata": {},
   "source": [
    "Nested If-Else Statements:"
   ]
  },
  {
   "cell_type": "markdown",
   "id": "1a879649-f0ec-401a-aac8-e1f6e25114fb",
   "metadata": {},
   "source": [
    "11. Write a program to find the largest among three numbers using nested if-else statements."
   ]
  },
  {
   "cell_type": "code",
   "execution_count": 29,
   "id": "1ea12158-2440-48cd-8366-7e8b4fdcfd53",
   "metadata": {},
   "outputs": [
    {
     "data": {
      "text/plain": [
       "3"
      ]
     },
     "execution_count": 29,
     "metadata": {},
     "output_type": "execute_result"
    }
   ],
   "source": [
    "num1"
   ]
  },
  {
   "cell_type": "code",
   "execution_count": 30,
   "id": "b1bcd1b8-74eb-4974-93b1-cfbc990b708e",
   "metadata": {},
   "outputs": [
    {
     "data": {
      "text/plain": [
       "6"
      ]
     },
     "execution_count": 30,
     "metadata": {},
     "output_type": "execute_result"
    }
   ],
   "source": [
    "num2"
   ]
  },
  {
   "cell_type": "code",
   "execution_count": 31,
   "id": "30f7fdbf-84dc-4b12-80e3-81d8a33cc31c",
   "metadata": {},
   "outputs": [
    {
     "data": {
      "text/plain": [
       "-11"
      ]
     },
     "execution_count": 31,
     "metadata": {},
     "output_type": "execute_result"
    }
   ],
   "source": [
    "num3"
   ]
  },
  {
   "cell_type": "code",
   "execution_count": 32,
   "id": "0f48d17f-5e83-4923-a15e-b3d8a1e0a874",
   "metadata": {},
   "outputs": [
    {
     "name": "stdout",
     "output_type": "stream",
     "text": [
      "6\n"
     ]
    }
   ],
   "source": [
    "largest = 0\n",
    "\n",
    "if num1 >= num2:\n",
    "    if num1 >= num3:\n",
    "        largest = num1\n",
    "    else:\n",
    "        largest = num3\n",
    "else:\n",
    "    if num2 >= num3:\n",
    "        largest = num2\n",
    "    else:\n",
    "        largest = num3\n",
    "        \n",
    "print(largest)"
   ]
  },
  {
   "cell_type": "markdown",
   "id": "cbc39b5e-1edc-4586-8310-7ef044ed452c",
   "metadata": {},
   "source": [
    "12. Implement a program to determine if a triangle is equilateral, isosceles, or scalene."
   ]
  },
  {
   "cell_type": "code",
   "execution_count": 76,
   "id": "428d3b3e-eb14-48e6-8ee5-3103f8b7e5f9",
   "metadata": {},
   "outputs": [],
   "source": [
    "side1 = side2 = side3 = 60"
   ]
  },
  {
   "cell_type": "code",
   "execution_count": 77,
   "id": "307d76cc-11bf-4b30-8157-20d254c8c393",
   "metadata": {},
   "outputs": [
    {
     "name": "stdout",
     "output_type": "stream",
     "text": [
      "It's an equilateral triangle.\n"
     ]
    }
   ],
   "source": [
    "if side1 + side2 > side3 and side1 + side3 > side2 and side2 + side3 > side1:\n",
    "    if side1 == side2 == side3:\n",
    "        print(\"It's an equilateral triangle.\")\n",
    "    else:\n",
    "        if side1 == side2 or side1 == side3 or side2 == side3:\n",
    "            print(\"It's an isosceles triangle.\")\n",
    "        else:\n",
    "            print(\"It's a scalene triangle.\")\n",
    "else:\n",
    "    print(\"It's not a valid triangle.\")"
   ]
  },
  {
   "cell_type": "markdown",
   "id": "81710437-e947-4f84-a317-3da8f1d70cd1",
   "metadata": {},
   "source": [
    "13. Develop a program that checks if a year is a leap year and also if it is a century year."
   ]
  },
  {
   "cell_type": "code",
   "execution_count": 35,
   "id": "cf6cd258-132c-4e7f-a723-cbdc04c02876",
   "metadata": {},
   "outputs": [
    {
     "data": {
      "text/plain": [
       "2004"
      ]
     },
     "execution_count": 35,
     "metadata": {},
     "output_type": "execute_result"
    }
   ],
   "source": [
    "year"
   ]
  },
  {
   "cell_type": "code",
   "execution_count": 38,
   "id": "e6df38b3-1990-481c-9443-18a587d80ef7",
   "metadata": {},
   "outputs": [
    {
     "name": "stdout",
     "output_type": "stream",
     "text": [
      "its a leap year\n"
     ]
    }
   ],
   "source": [
    "if year%4 == 0:\n",
    "    if year%100 != 0 or year% 400 == 0:\n",
    "        print(\"its a leap year\")\n",
    "    if year%100 == 0:\n",
    "        print(\"its a century year\")"
   ]
  },
  {
   "cell_type": "markdown",
   "id": "b589d5e2-b7a6-4e3e-bacf-76cfedf11c70",
   "metadata": {},
   "source": [
    "14. Write a Python script to determine if a number is positive, negative, or zero."
   ]
  },
  {
   "cell_type": "code",
   "execution_count": 43,
   "id": "ee294a55-422b-4ef5-aea6-37646b317cf1",
   "metadata": {},
   "outputs": [],
   "source": [
    "num = 15"
   ]
  },
  {
   "cell_type": "code",
   "execution_count": 44,
   "id": "f549fbcd-e62c-485c-b413-963ccd1db51c",
   "metadata": {},
   "outputs": [
    {
     "name": "stdout",
     "output_type": "stream",
     "text": [
      "its a positive number\n"
     ]
    }
   ],
   "source": [
    "if num >= 0:\n",
    "    if num ==0:\n",
    "        print(\"its 0\")\n",
    "    else:\n",
    "        print(\"its a positive number\")\n",
    "else:\n",
    "    print(\"its a negative number\")"
   ]
  },
  {
   "cell_type": "markdown",
   "id": "7f100a3b-038c-4a21-abd8-ecd51353fefd",
   "metadata": {},
   "source": [
    "15. Create a program to check if a person is a teenager (between 13 and 19 years old)."
   ]
  },
  {
   "cell_type": "code",
   "execution_count": 45,
   "id": "e51bd19b-4f09-4a13-87fd-cd1fbdeb9c69",
   "metadata": {},
   "outputs": [
    {
     "data": {
      "text/plain": [
       "21"
      ]
     },
     "execution_count": 45,
     "metadata": {},
     "output_type": "execute_result"
    }
   ],
   "source": [
    "age "
   ]
  },
  {
   "cell_type": "code",
   "execution_count": 46,
   "id": "381c7817-c3c6-483e-a1a3-8ca0fff3c057",
   "metadata": {},
   "outputs": [
    {
     "name": "stdout",
     "output_type": "stream",
     "text": [
      "adult\n"
     ]
    }
   ],
   "source": [
    "if age>=13:\n",
    "    if age<=19:\n",
    "        print(\"teeneger\")\n",
    "    else:\n",
    "        print(\"adult\")\n",
    "else:\n",
    "    print(\"child\")"
   ]
  },
  {
   "cell_type": "markdown",
   "id": "eb5b45a0-1896-4d7f-aae6-d2daee663706",
   "metadata": {},
   "source": [
    "16. Develop a program that determines the type of angle based on its measure (acute, obtuse, or right)."
   ]
  },
  {
   "cell_type": "code",
   "execution_count": 52,
   "id": "14435201-bd5f-4749-ba50-78435cf5cc50",
   "metadata": {},
   "outputs": [],
   "source": [
    "angle = 45"
   ]
  },
  {
   "cell_type": "code",
   "execution_count": 78,
   "id": "f68cabe7-2ab0-4315-8414-b69874c095fa",
   "metadata": {},
   "outputs": [
    {
     "name": "stdout",
     "output_type": "stream",
     "text": [
      "Acute\n"
     ]
    }
   ],
   "source": [
    "if angle < 90:\n",
    "    print(\"Acute\")\n",
    "else:\n",
    "    if angle == 90:\n",
    "        print(\"Right\")\n",
    "    else:\n",
    "        print(\"Obtuse\")\n",
    "    "
   ]
  },
  {
   "cell_type": "markdown",
   "id": "e8bad9d9-9455-499e-b3ea-0ccdcc51f49c",
   "metadata": {},
   "source": [
    "17. Write a Python program to calculate the roots of a quadratic equation."
   ]
  },
  {
   "cell_type": "code",
   "execution_count": 60,
   "id": "d9c934d5-fc4d-4b8f-9be2-4313b043a4fd",
   "metadata": {},
   "outputs": [],
   "source": [
    "a = 4\n",
    "\n",
    "b = 25\n",
    "\n",
    "c = 4"
   ]
  },
  {
   "cell_type": "code",
   "execution_count": 61,
   "id": "bc918bd1-4c05-4145-ab18-faff3df44296",
   "metadata": {},
   "outputs": [
    {
     "data": {
      "text/plain": [
       "561"
      ]
     },
     "execution_count": 61,
     "metadata": {},
     "output_type": "execute_result"
    }
   ],
   "source": [
    "discriminant = b**2 - 4*a*c\n",
    "\n",
    "discriminant"
   ]
  },
  {
   "cell_type": "code",
   "execution_count": null,
   "id": "04b2237d-86ef-454c-a4cf-69556db3aac8",
   "metadata": {},
   "outputs": [],
   "source": [
    "# took ref from google"
   ]
  },
  {
   "cell_type": "code",
   "execution_count": 79,
   "id": "18d85fca-718f-4a3e-b8a9-34e46533392a",
   "metadata": {},
   "outputs": [
    {
     "name": "stdout",
     "output_type": "stream",
     "text": [
      "The roots are real and distinct: -0.1643201794182474 and -6.085679820581753\n"
     ]
    }
   ],
   "source": [
    "if discriminant > 0:\n",
    "    # Two real and distinct roots\n",
    "    root1 = (-b + (discriminant)**0.5) / (2*a)\n",
    "    root2 = (-b - (discriminant)**0.5) / (2*a)\n",
    "    print(f\"The roots are real and distinct: {root1} and {root2}\")\n",
    "else:\n",
    "    if discriminant == 0:\n",
    "        # One real root (repeated)\n",
    "        root1 = -b / (2*a)\n",
    "        print(f\"The root is real and repeated: {root1}\")\n",
    "    else:\n",
    "        # Complex roots\n",
    "        real_part = -b / (2*a)\n",
    "        imaginary_part = (abs(discriminant)**0.5) / (2*a)\n",
    "        root1 = complex(real_part, imaginary_part)\n",
    "        root2 = complex(real_part, -imaginary_part)\n",
    "        print(f\"The roots are complex: {root1} and {root2}\")"
   ]
  },
  {
   "cell_type": "markdown",
   "id": "1eae2e2f-afb4-47b8-9877-d4898ee9796f",
   "metadata": {},
   "source": [
    "18. Implement a program to determine the day of the week based on a user-provided number (1 for Monday, 2\n",
    "for Tuesday, etc.)."
   ]
  },
  {
   "cell_type": "code",
   "execution_count": 63,
   "id": "82e98510-7758-40bf-8f78-be2b9a3414f1",
   "metadata": {},
   "outputs": [
    {
     "name": "stdin",
     "output_type": "stream",
     "text": [
      "Enter the day in numeric: 5\n"
     ]
    },
    {
     "data": {
      "text/plain": [
       "5"
      ]
     },
     "execution_count": 63,
     "metadata": {},
     "output_type": "execute_result"
    }
   ],
   "source": [
    "num = int(input('Enter the day in numeric:'))\n",
    "num"
   ]
  },
  {
   "cell_type": "code",
   "execution_count": 64,
   "id": "2e6b2835-c6c9-422e-965c-65c91e2d3dfb",
   "metadata": {},
   "outputs": [
    {
     "name": "stdout",
     "output_type": "stream",
     "text": [
      "friday\n"
     ]
    }
   ],
   "source": [
    "if num >= 1 and num <= 7:\n",
    "    if num == 1:\n",
    "        print(\"monday\")\n",
    "    elif num == 2:\n",
    "        print(\"tuesday\")\n",
    "    elif num == 3:\n",
    "        print(\"wednesday\")\n",
    "    elif num == 4:\n",
    "        print(\"thrusday\")\n",
    "    elif num == 5:\n",
    "        print(\"friday\")\n",
    "    elif num == 6:\n",
    "        print(\"saturday\")\n",
    "    elif num == 7:\n",
    "        print(\"sunday\")\n",
    "else:\n",
    "    print(\"enter a valid day\")"
   ]
  },
  {
   "cell_type": "markdown",
   "id": "b0a4e63b-7e7c-4a7c-b287-80e46595247d",
   "metadata": {},
   "source": [
    "19. Create a program that determines if a year is a leap year and also if it is evenly divisible by 400."
   ]
  },
  {
   "cell_type": "code",
   "execution_count": 65,
   "id": "9c6a7874-f5f2-45d3-8187-e182b83b23d6",
   "metadata": {},
   "outputs": [
    {
     "data": {
      "text/plain": [
       "2004"
      ]
     },
     "execution_count": 65,
     "metadata": {},
     "output_type": "execute_result"
    }
   ],
   "source": [
    "year"
   ]
  },
  {
   "cell_type": "code",
   "execution_count": 70,
   "id": "c7ea4d4b-7008-4565-b14d-99ac280070b2",
   "metadata": {},
   "outputs": [
    {
     "name": "stdout",
     "output_type": "stream",
     "text": [
      "its is a leap year\n"
     ]
    }
   ],
   "source": [
    "if (year % 4 == 0 and year % 100 != 0) or (year % 400 == 0):\n",
    "    print(\"its is a leap year\")\n",
    "else:\n",
    "    print(\"no\")\n"
   ]
  },
  {
   "cell_type": "markdown",
   "id": "ab880d43-cc6d-4e2a-b743-7edce1eaf824",
   "metadata": {},
   "source": [
    "20. Develop a program that checks if a given number is prime or not using nested if-else statements."
   ]
  },
  {
   "cell_type": "code",
   "execution_count": 71,
   "id": "016ef1a9-8511-44a9-8f51-c565b0eb4db5",
   "metadata": {},
   "outputs": [
    {
     "data": {
      "text/plain": [
       "5"
      ]
     },
     "execution_count": 71,
     "metadata": {},
     "output_type": "execute_result"
    }
   ],
   "source": [
    "num"
   ]
  },
  {
   "cell_type": "code",
   "execution_count": 72,
   "id": "0c0373de-ba4f-4263-bd5e-f16ce81b78a8",
   "metadata": {},
   "outputs": [
    {
     "name": "stdout",
     "output_type": "stream",
     "text": [
      "5 is a prime number.\n"
     ]
    }
   ],
   "source": [
    "if num > 1:\n",
    "    is_prime = True\n",
    "    for i in range(2, int(num**0.5) + 1):\n",
    "        if num % i == 0:\n",
    "            is_prime = False\n",
    "            break\n",
    "    if is_prime:\n",
    "        print(f\"{num} is a prime number.\")\n",
    "    else:\n",
    "        print(f\"{num} is not a prime number.\")\n",
    "else:\n",
    "    print(\"Enter a number greater than 1.\")"
   ]
  },
  {
   "cell_type": "code",
   "execution_count": null,
   "id": "9aa863f7-2f34-44a7-a87f-9fb26dbac0c5",
   "metadata": {},
   "outputs": [],
   "source": []
  },
  {
   "cell_type": "code",
   "execution_count": null,
   "id": "a4e9ffa8-ae39-48d1-9c23-a354a22298ca",
   "metadata": {},
   "outputs": [],
   "source": []
  },
  {
   "cell_type": "markdown",
   "id": "da88c4bb-47df-4601-9874-b441a590629e",
   "metadata": {},
   "source": [
    "Elif Statements:"
   ]
  },
  {
   "cell_type": "markdown",
   "id": "2fe721de-d5fc-439d-8b06-ed1a2da6ec01",
   "metadata": {},
   "source": [
    "21. Write a Python program to assign grades based on different ranges of scores using elif statements."
   ]
  },
  {
   "cell_type": "code",
   "execution_count": 80,
   "id": "bf15258a-1b03-4759-9df2-f8cc438e88f2",
   "metadata": {},
   "outputs": [
    {
     "data": {
      "text/plain": [
       "83"
      ]
     },
     "execution_count": 80,
     "metadata": {},
     "output_type": "execute_result"
    }
   ],
   "source": [
    "score"
   ]
  },
  {
   "cell_type": "code",
   "execution_count": 81,
   "id": "d73b7548-401b-458c-bdfb-aac055951f6c",
   "metadata": {},
   "outputs": [
    {
     "name": "stdout",
     "output_type": "stream",
     "text": [
      "grade : b\n"
     ]
    }
   ],
   "source": [
    "if score <= 33:\n",
    "    print(\"grade : e\")\n",
    "elif score > 33 and score <=60:\n",
    "    print(\"grade : d\")\n",
    "elif score > 60 and score <=75:\n",
    "    print(\"grade : c\")\n",
    "elif score > 75 and score <=90:\n",
    "    print(\"grade : b\")\n",
    "elif score > 90 and score <=100:\n",
    "    print(\"grade : a\")"
   ]
  },
  {
   "cell_type": "markdown",
   "id": "7240a481-3b40-4885-a4f3-257efc425557",
   "metadata": {},
   "source": [
    "22. Implement a program to determine the type of a triangle based on its angles."
   ]
  },
  {
   "cell_type": "code",
   "execution_count": 84,
   "id": "a4241ded-1ed4-4b8e-95be-f54bfb45f89d",
   "metadata": {},
   "outputs": [],
   "source": [
    "angle = 90"
   ]
  },
  {
   "cell_type": "code",
   "execution_count": 85,
   "id": "62bd1179-aeeb-4558-be03-4e614b1b145f",
   "metadata": {},
   "outputs": [
    {
     "name": "stdout",
     "output_type": "stream",
     "text": [
      "Right\n"
     ]
    }
   ],
   "source": [
    "if angle < 90:\n",
    "    print(\"Acute\")\n",
    "elif angle == 90:\n",
    "    print(\"Right\")\n",
    "else:\n",
    "    print(\"Obtuse\")\n",
    "    "
   ]
  },
  {
   "cell_type": "markdown",
   "id": "df864752-d975-410b-a4d6-06548a32650d",
   "metadata": {},
   "source": [
    "23. Develop a program to categorize a given person's BMI into underweight, normal, overweight, or obese using\n",
    "elif statements."
   ]
  },
  {
   "cell_type": "code",
   "execution_count": 106,
   "id": "b7c7496d-58e6-4aae-81ae-9f3d1efb8692",
   "metadata": {},
   "outputs": [],
   "source": [
    "weightInKg = 65\n",
    "\n",
    "heightInCm = 173\n",
    "heightInCm /= 100"
   ]
  },
  {
   "cell_type": "code",
   "execution_count": 107,
   "id": "6743c91c-fdbb-4712-8a3e-ddbd6f6d0933",
   "metadata": {},
   "outputs": [
    {
     "data": {
      "text/plain": [
       "21.71806608974573"
      ]
     },
     "execution_count": 107,
     "metadata": {},
     "output_type": "execute_result"
    }
   ],
   "source": [
    "# Calculate BMI\n",
    "bmi = weightInKg / (heightInCm ** 2)\n",
    "bmi"
   ]
  },
  {
   "cell_type": "code",
   "execution_count": 108,
   "id": "1dc366cc-f76e-48c4-98ac-31bdfac30f23",
   "metadata": {},
   "outputs": [
    {
     "name": "stdout",
     "output_type": "stream",
     "text": [
      "normal weight\n"
     ]
    }
   ],
   "source": [
    "if bmi < 18.5:\n",
    "    print(\"underweight\")\n",
    "elif 18.5 <= bmi < 24.9:\n",
    "    print(\"normal weight\")\n",
    "elif 24.9 <= bmi < 29.9:\n",
    "    print(\"overweight\")\n",
    "else:\n",
    "    print(\"obese\")\n"
   ]
  },
  {
   "cell_type": "markdown",
   "id": "217c8a2c-ebb0-4eb6-bfea-7059b4878d7f",
   "metadata": {},
   "source": [
    "24. Create a program that determines whether a given number is positive, negative, or zero using elif\n",
    "statements."
   ]
  },
  {
   "cell_type": "code",
   "execution_count": 109,
   "id": "8e5b61bb-e43c-43b9-a206-4e34f8004416",
   "metadata": {},
   "outputs": [
    {
     "data": {
      "text/plain": [
       "5"
      ]
     },
     "execution_count": 109,
     "metadata": {},
     "output_type": "execute_result"
    }
   ],
   "source": [
    "num"
   ]
  },
  {
   "cell_type": "code",
   "execution_count": 110,
   "id": "2c8677d2-0cfa-479a-9ef9-cd1bc58b19eb",
   "metadata": {},
   "outputs": [
    {
     "name": "stdout",
     "output_type": "stream",
     "text": [
      "its a positive number\n"
     ]
    }
   ],
   "source": [
    "if num > 0:\n",
    "    print(\"its a positive number\")\n",
    "elif num ==0:\n",
    "    print(\"its 0\")\n",
    "else:\n",
    "    print(\"its a negative number\")"
   ]
  },
  {
   "cell_type": "markdown",
   "id": "edd1423b-fd2c-4c9b-a9be-1f546181470e",
   "metadata": {},
   "source": [
    "25. Write a Python script to determine the type of a character (uppercase, lowercase, or special) using elif\n",
    "statements."
   ]
  },
  {
   "cell_type": "code",
   "execution_count": 111,
   "id": "f8da1d05-daa4-4acd-bb1f-106706a26f41",
   "metadata": {},
   "outputs": [],
   "source": [
    "ch = 'A'"
   ]
  },
  {
   "cell_type": "code",
   "execution_count": 112,
   "id": "ce5edba5-b683-4bef-989e-d94bec91a001",
   "metadata": {},
   "outputs": [
    {
     "name": "stdout",
     "output_type": "stream",
     "text": [
      "upper\n"
     ]
    }
   ],
   "source": [
    "if ch.isupper():\n",
    "    print(\"upper\")\n",
    "elif ch.islower():\n",
    "    print(\"lower\")\n",
    "else:\n",
    "    print(\"special\")"
   ]
  },
  {
   "cell_type": "markdown",
   "id": "760d4662-62de-40b7-aea3-163d70d15629",
   "metadata": {},
   "source": [
    "26. Implement a program to calculate the discounted price based on different purchase amounts using elif\n",
    "statements."
   ]
  },
  {
   "cell_type": "code",
   "execution_count": 121,
   "id": "b439eb8e-a575-4b07-9ed1-21e9e62f6702",
   "metadata": {},
   "outputs": [
    {
     "data": {
      "text/plain": [
       "50000"
      ]
     },
     "execution_count": 121,
     "metadata": {},
     "output_type": "execute_result"
    }
   ],
   "source": [
    "amount = 50000\n",
    "amount"
   ]
  },
  {
   "cell_type": "code",
   "execution_count": 122,
   "id": "fa24f4e2-3712-473c-814f-0457a8dfbba6",
   "metadata": {},
   "outputs": [],
   "source": [
    "discount = 0"
   ]
  },
  {
   "cell_type": "code",
   "execution_count": 123,
   "id": "d020514d-7bfc-469c-a494-2d9367ea16c5",
   "metadata": {},
   "outputs": [
    {
     "data": {
      "text/plain": [
       "18750.0"
      ]
     },
     "execution_count": 123,
     "metadata": {},
     "output_type": "execute_result"
    }
   ],
   "source": [
    "if amount <= 20000:\n",
    "    discount = 0.30  \n",
    "elif amount >= 50000:\n",
    "    discount = 0.625 \n",
    "    \n",
    "discounted_price = amount - (amount * discount)\n",
    "discounted_price"
   ]
  },
  {
   "cell_type": "markdown",
   "id": "01fd4fa8-d4d1-4904-b8f9-0034574333e4",
   "metadata": {},
   "source": [
    "27. Develop a program to calculate the electricity bill based on different consumption slabs using elif\n",
    "statements."
   ]
  },
  {
   "cell_type": "code",
   "execution_count": 135,
   "id": "9c788fd6-181f-45ff-a884-e1a285bacba2",
   "metadata": {},
   "outputs": [],
   "source": [
    "consumption = 2800"
   ]
  },
  {
   "cell_type": "code",
   "execution_count": 136,
   "id": "e470d301-cf39-4721-8fb6-612e810f8846",
   "metadata": {},
   "outputs": [],
   "source": [
    "slab1_rate = 0.50  # Rate for the first 100 kWh\n",
    "slab2_rate = 0.75  # Rate for the next 200 kWh\n",
    "slab3_rate = 1.00  # For Remaning consumption"
   ]
  },
  {
   "cell_type": "code",
   "execution_count": 137,
   "id": "88e6677f-2686-4be5-84c7-3a82de40309c",
   "metadata": {},
   "outputs": [],
   "source": [
    "slab1_limit = 100  # Limit for the first slab\n",
    "slab2_limit = 300  # Limit for the second slab"
   ]
  },
  {
   "cell_type": "code",
   "execution_count": 138,
   "id": "ef11618d-882a-4c23-ad15-1172f9ac3c02",
   "metadata": {},
   "outputs": [],
   "source": [
    "total_bill = 0\n"
   ]
  },
  {
   "cell_type": "code",
   "execution_count": 139,
   "id": "0eaddaf0-28be-4b32-b2d7-929cc58f15af",
   "metadata": {},
   "outputs": [
    {
     "name": "stdout",
     "output_type": "stream",
     "text": [
      "2775.0\n"
     ]
    }
   ],
   "source": [
    "if consumption <= slab1_limit:\n",
    "    total_bill = consumption * slab1_rate\n",
    "elif consumption <= slab2_limit:\n",
    "    total_bill = (slab1_limit * slab1_rate) + ((consumption - slab1_limit) * slab2_rate)\n",
    "else:\n",
    "    total_bill = (slab1_limit * slab1_rate) + (slab2_limit * slab2_rate) + ((consumption - slab2_limit) * slab3_rate)\n",
    "\n",
    "print(total_bill)"
   ]
  },
  {
   "cell_type": "markdown",
   "id": "ae114719-37b7-46d8-850e-1769ed3bbe03",
   "metadata": {},
   "source": [
    "28. Create a program to determine the type of quadrilateral based on its angles and sides using elif\n",
    "statements."
   ]
  },
  {
   "cell_type": "code",
   "execution_count": 140,
   "id": "e29e7b9b-2a74-42ce-8c20-8fdbc58ee3f7",
   "metadata": {},
   "outputs": [],
   "source": [
    "angle1 = angle2 = angle3 = angle4 = 90"
   ]
  },
  {
   "cell_type": "code",
   "execution_count": 141,
   "id": "623c212a-3141-4525-825c-eecc7e148526",
   "metadata": {},
   "outputs": [],
   "source": [
    "side1 = side3 = 5\n",
    "side2 = side4 = 6"
   ]
  },
  {
   "cell_type": "code",
   "execution_count": 142,
   "id": "11788792-171d-4e3b-afda-e2607d7f9e17",
   "metadata": {},
   "outputs": [
    {
     "name": "stdout",
     "output_type": "stream",
     "text": [
      "It's a rectangle.\n"
     ]
    }
   ],
   "source": [
    "if angle1 == angle2 == angle3 == angle4 == 90:\n",
    "    print(\"It's a rectangle.\")\n",
    "elif angle1 == angle2 == angle3 == angle4 < 90:\n",
    "    print(\"It's a parallelogram.\")\n",
    "elif angle1 == angle2 == angle3 == angle4 == 90 and side1 == side2 == side3 == side4:\n",
    "    print(\"It's a square.\")\n",
    "elif angle1 == angle2 == angle3 == angle4 < 90 and side1 == side2 == side3 == side4:\n",
    "    print(\"It's a rhombus.\")\n",
    "else:\n",
    "    print(\"It's a general quadrilateral.\")"
   ]
  },
  {
   "cell_type": "markdown",
   "id": "a1b305a1-e480-4bbe-8b50-456fac6559f3",
   "metadata": {},
   "source": [
    "29. Write a Python script to determine the season based on a user-provided month using elif statements."
   ]
  },
  {
   "cell_type": "code",
   "execution_count": 144,
   "id": "36e66a63-36c8-412c-8582-1165966a8293",
   "metadata": {},
   "outputs": [
    {
     "name": "stdin",
     "output_type": "stream",
     "text": [
      "Enter the name of the month:  december\n"
     ]
    },
    {
     "data": {
      "text/plain": [
       "'december'"
      ]
     },
     "execution_count": 144,
     "metadata": {},
     "output_type": "execute_result"
    }
   ],
   "source": [
    "month = input(\"Enter the name of the month: \")\n",
    "month"
   ]
  },
  {
   "cell_type": "code",
   "execution_count": 145,
   "id": "ff609e28-b960-4b84-b3bb-5df1959dd7f3",
   "metadata": {},
   "outputs": [],
   "source": [
    "month = month.lower()"
   ]
  },
  {
   "cell_type": "code",
   "execution_count": 146,
   "id": "72d6e360-627a-4818-a210-d82d1fb4650a",
   "metadata": {},
   "outputs": [
    {
     "name": "stdout",
     "output_type": "stream",
     "text": [
      "winter\n"
     ]
    }
   ],
   "source": [
    "if month in [\"december\", \"january\", \"february\"]:\n",
    "    season = \"winter\"\n",
    "elif month in [\"march\", \"april\", \"may\"]:\n",
    "    season = \"spring\"\n",
    "elif month in [\"june\", \"july\", \"august\"]:\n",
    "    season = \"summer\"\n",
    "elif month in [\"september\", \"october\", \"november\"]:\n",
    "    season = \"autumn or fall\"\n",
    "else:\n",
    "    season = \"unknown\"\n",
    "\n",
    "print(season)"
   ]
  },
  {
   "cell_type": "markdown",
   "id": "5c95eef4-8f57-4ed6-8453-17a0ac0ad437",
   "metadata": {},
   "source": [
    "30. Implement a program to determine the type of a year (leap or common) and month (30 or 31 days) using\n",
    "elif statements."
   ]
  },
  {
   "cell_type": "code",
   "execution_count": 147,
   "id": "9c0577bf-5f3d-415f-9a9a-634a880a876a",
   "metadata": {},
   "outputs": [
    {
     "data": {
      "text/plain": [
       "2004"
      ]
     },
     "execution_count": 147,
     "metadata": {},
     "output_type": "execute_result"
    }
   ],
   "source": [
    "year"
   ]
  },
  {
   "cell_type": "code",
   "execution_count": 148,
   "id": "6636653f-3491-4532-8c0c-9a7ebba081d3",
   "metadata": {},
   "outputs": [
    {
     "data": {
      "text/plain": [
       "4"
      ]
     },
     "execution_count": 148,
     "metadata": {},
     "output_type": "execute_result"
    }
   ],
   "source": [
    "month = 4\n",
    "month"
   ]
  },
  {
   "cell_type": "code",
   "execution_count": 149,
   "id": "a3ee2391-86ae-44e9-8897-3c4d1c2eabd4",
   "metadata": {},
   "outputs": [],
   "source": [
    "if (year % 4 == 0 and year % 100 != 0) or (year % 400 == 0):\n",
    "    is_leap_year = True\n",
    "else:\n",
    "    is_leap_year = False"
   ]
  },
  {
   "cell_type": "code",
   "execution_count": 150,
   "id": "36b8a74e-b353-4530-a2d9-39013d7ecf84",
   "metadata": {},
   "outputs": [],
   "source": [
    "if month in [1, 3, 5, 7, 8, 10, 12]:\n",
    "    days_in_month = 31\n",
    "elif month in [4, 6, 9, 11]:\n",
    "    days_in_month = 30\n",
    "elif month == 2:\n",
    "    if is_leap_year:\n",
    "        days_in_month = 29\n",
    "    else:\n",
    "        days_in_month = 28\n",
    "else:\n",
    "    print(\"Invalid month input.\")\n",
    "    days_in_month = None"
   ]
  },
  {
   "cell_type": "code",
   "execution_count": 151,
   "id": "ebb8440c-747d-4204-af77-6edb45351261",
   "metadata": {},
   "outputs": [
    {
     "name": "stdout",
     "output_type": "stream",
     "text": [
      "The year 2004 is a leap year.\n",
      "The month 4 has 30 days.\n"
     ]
    }
   ],
   "source": [
    "if days_in_month is not None:\n",
    "    print(f\"The year {year} is a {'leap' if is_leap_year else 'common'} year.\")\n",
    "    print(f\"The month {month} has {days_in_month} days.\")"
   ]
  },
  {
   "cell_type": "code",
   "execution_count": null,
   "id": "256a05e3-f7ba-4388-914a-b3dd8f1a46be",
   "metadata": {},
   "outputs": [],
   "source": []
  },
  {
   "cell_type": "code",
   "execution_count": null,
   "id": "3ea9fc36-fccc-4aca-9d18-475fa1331c8c",
   "metadata": {},
   "outputs": [],
   "source": []
  },
  {
   "cell_type": "markdown",
   "id": "5f1f166a-e669-40c1-a0a5-aa12b165ed32",
   "metadata": {},
   "source": [
    "Basic Level:"
   ]
  },
  {
   "cell_type": "markdown",
   "id": "9ced8501-99c3-49ec-a02a-7de3299ba6d7",
   "metadata": {},
   "source": [
    "1. Write a Python program that checks if a given number is positive, negative, or zero."
   ]
  },
  {
   "cell_type": "code",
   "execution_count": 1,
   "id": "ff065881-d44a-4f68-84fc-a800b97f74bc",
   "metadata": {},
   "outputs": [
    {
     "data": {
      "text/plain": [
       "9"
      ]
     },
     "execution_count": 1,
     "metadata": {},
     "output_type": "execute_result"
    }
   ],
   "source": [
    "num = 9\n",
    "num"
   ]
  },
  {
   "cell_type": "code",
   "execution_count": 2,
   "id": "e54603b2-9d91-4f29-9250-d35ca4e7a382",
   "metadata": {},
   "outputs": [
    {
     "name": "stdout",
     "output_type": "stream",
     "text": [
      "positive\n"
     ]
    }
   ],
   "source": [
    "if num >=0:\n",
    "    if num ==0:\n",
    "        print(\"its zero\")\n",
    "    else:\n",
    "        print(\"positive\")\n",
    "else:\n",
    "    print(\"negative\")"
   ]
  },
  {
   "cell_type": "markdown",
   "id": "b30d4fda-4c98-4bf1-94be-924cc949ab7c",
   "metadata": {},
   "source": [
    "2. Create a program to determine if a person is eligible to vote based on their age."
   ]
  },
  {
   "cell_type": "code",
   "execution_count": 3,
   "id": "6a64ed46-746e-41ee-804f-cc056d20eb97",
   "metadata": {},
   "outputs": [],
   "source": [
    "age = 18"
   ]
  },
  {
   "cell_type": "code",
   "execution_count": 4,
   "id": "bc80e190-fae3-4384-98e2-785b94c92c76",
   "metadata": {},
   "outputs": [
    {
     "name": "stdout",
     "output_type": "stream",
     "text": [
      "eligible\n"
     ]
    }
   ],
   "source": [
    "if age >= 18:\n",
    "    print(\"eligible\")\n",
    "else:\n",
    "    print(\"not eligible\")"
   ]
  },
  {
   "cell_type": "markdown",
   "id": "a6e9f9f8-de22-4bef-b691-66925827dd2c",
   "metadata": {},
   "source": [
    "3. Write a program to find the maximum of two given numbers using conditional statements."
   ]
  },
  {
   "cell_type": "code",
   "execution_count": 5,
   "id": "2be18ec0-8339-4eeb-92b8-a7428b2823cc",
   "metadata": {},
   "outputs": [
    {
     "data": {
      "text/plain": [
       "8"
      ]
     },
     "execution_count": 5,
     "metadata": {},
     "output_type": "execute_result"
    }
   ],
   "source": [
    "num1 = 8\n",
    "num1"
   ]
  },
  {
   "cell_type": "code",
   "execution_count": 6,
   "id": "a58a4dc7-53b4-47f2-8c50-632ea272999e",
   "metadata": {},
   "outputs": [
    {
     "data": {
      "text/plain": [
       "-8"
      ]
     },
     "execution_count": 6,
     "metadata": {},
     "output_type": "execute_result"
    }
   ],
   "source": [
    "num2 = -8\n",
    "num2"
   ]
  },
  {
   "cell_type": "code",
   "execution_count": 8,
   "id": "52b3579e-2019-4ec1-b2af-ff5476426d7a",
   "metadata": {},
   "outputs": [
    {
     "name": "stdout",
     "output_type": "stream",
     "text": [
      "maximum is: 8\n"
     ]
    }
   ],
   "source": [
    "if num1> num2:\n",
    "    print('maximum is:', num1)\n",
    "else:\n",
    "    print('maximun is:', num2)"
   ]
  },
  {
   "cell_type": "markdown",
   "id": "762ba210-8e14-4b44-898a-a3f06980d44e",
   "metadata": {},
   "source": [
    "4. Develop a program that calculates the grade of a student based on their exam score."
   ]
  },
  {
   "cell_type": "code",
   "execution_count": 9,
   "id": "37583172-5007-4882-b574-91ff5c90d222",
   "metadata": {},
   "outputs": [],
   "source": [
    "score = 100"
   ]
  },
  {
   "cell_type": "code",
   "execution_count": 10,
   "id": "b0f8e806-70ed-4b9f-a0f8-bccb9b81cbf8",
   "metadata": {},
   "outputs": [
    {
     "name": "stdout",
     "output_type": "stream",
     "text": [
      "grade : a\n"
     ]
    }
   ],
   "source": [
    "if score <= 33:\n",
    "    print(\"grade : e\")\n",
    "elif score > 33 and score <=60:\n",
    "    print(\"grade : d\")\n",
    "elif score > 60 and score <=75:\n",
    "    print(\"grade : c\")\n",
    "elif score > 75 and score <=90:\n",
    "    print(\"grade : b\")\n",
    "elif score > 90 and score <=100:\n",
    "    print(\"grade : a\")"
   ]
  },
  {
   "cell_type": "markdown",
   "id": "365229d3-6608-4e66-9038-35ace259c15d",
   "metadata": {},
   "source": [
    "5. Create a program that checks if a year is a leap year or not."
   ]
  },
  {
   "cell_type": "code",
   "execution_count": 11,
   "id": "2eab8934-13bf-4d21-a4e5-ff80aa013917",
   "metadata": {},
   "outputs": [],
   "source": [
    "year = 2000"
   ]
  },
  {
   "cell_type": "code",
   "execution_count": 13,
   "id": "793eea4a-de2d-4e56-b120-302cea4a53e7",
   "metadata": {},
   "outputs": [
    {
     "name": "stdout",
     "output_type": "stream",
     "text": [
      "leap year\n"
     ]
    }
   ],
   "source": [
    "if (year%4 == 0 and year%100 ==0) or year%400==0:\n",
    "    print(\"leap year\")\n",
    "else:\n",
    "    print(\"not a leap year\")"
   ]
  },
  {
   "cell_type": "markdown",
   "id": "11828c51-d242-489b-b152-f848d301726a",
   "metadata": {},
   "source": [
    "6. Write a program to classify a triangle based on its sides' lengths."
   ]
  },
  {
   "cell_type": "code",
   "execution_count": 14,
   "id": "bde5937d-45c1-4c1a-8a13-e4d529e441ee",
   "metadata": {},
   "outputs": [],
   "source": [
    "side1 = 4\n",
    "side2 = side3 = 3"
   ]
  },
  {
   "cell_type": "code",
   "execution_count": 15,
   "id": "0e226ab5-5bd6-4b7c-aeaf-5905d51600c0",
   "metadata": {},
   "outputs": [
    {
     "name": "stdout",
     "output_type": "stream",
     "text": [
      "It's an isosceles triangle.\n"
     ]
    }
   ],
   "source": [
    "if side1 + side2 > side3 and side1 + side3 > side2 and side2 + side3 > side1:\n",
    "    if side1 == side2 == side3:\n",
    "        print(\"It's an equilateral triangle.\")\n",
    "    elif side1 == side2 or side1 == side3 or side2 == side3:\n",
    "        print(\"It's an isosceles triangle.\")\n",
    "    else:\n",
    "        print(\"It's a scalene triangle.\")\n",
    "else:\n",
    "    print(\"It's not a valid triangle.\")"
   ]
  },
  {
   "cell_type": "markdown",
   "id": "4b84d29c-34c4-4f7b-9134-f9918fc0a9cb",
   "metadata": {},
   "source": [
    "7. Build a program that determines the largest of three given numbers."
   ]
  },
  {
   "cell_type": "code",
   "execution_count": 16,
   "id": "51659474-ad1a-4481-a5d5-b6d7e300a11b",
   "metadata": {},
   "outputs": [],
   "source": [
    "num1 = 8\n",
    "\n",
    "num2 = 0\n",
    "\n",
    "num3 = 89"
   ]
  },
  {
   "cell_type": "code",
   "execution_count": 17,
   "id": "b906cd82-6e4d-45bc-bec7-e7cb3545fb32",
   "metadata": {},
   "outputs": [
    {
     "name": "stdout",
     "output_type": "stream",
     "text": [
      "largest is: 89\n"
     ]
    }
   ],
   "source": [
    "if num1> num2 and num1> num3:\n",
    "    print(\"largest is:\", num1)\n",
    "elif num2> num1 and num2> num3:\n",
    "    print(\"largest is:\", num2)\n",
    "elif num3> num1 and num3> num2:\n",
    "    print(\"largest is:\", num3)"
   ]
  },
  {
   "cell_type": "markdown",
   "id": "04df6ee7-f3b9-41f8-bfb1-990d89a6a0f8",
   "metadata": {},
   "source": [
    "8. Develop a program that checks whether a character is a vowel or a consonant."
   ]
  },
  {
   "cell_type": "code",
   "execution_count": 18,
   "id": "06e484c8-66ef-46b4-8685-9df79c827240",
   "metadata": {},
   "outputs": [
    {
     "data": {
      "text/plain": [
       "('a', 'e', 'i', 'o', 'u')"
      ]
     },
     "execution_count": 18,
     "metadata": {},
     "output_type": "execute_result"
    }
   ],
   "source": [
    "vowel = ('a', 'e', 'i', 'o', 'u')\n",
    "vowel"
   ]
  },
  {
   "cell_type": "code",
   "execution_count": 20,
   "id": "3706df89-bf23-44c2-bfd9-0ee6c90393d2",
   "metadata": {},
   "outputs": [],
   "source": [
    "ch = 'g'"
   ]
  },
  {
   "cell_type": "code",
   "execution_count": 21,
   "id": "060b258e-9faf-4baa-8c7e-37b0702d5b26",
   "metadata": {},
   "outputs": [
    {
     "name": "stdout",
     "output_type": "stream",
     "text": [
      "g is consonant\n"
     ]
    }
   ],
   "source": [
    "if ch in vowel:\n",
    "    print(ch, 'is vowel')\n",
    "else:\n",
    "    print(ch, 'is consonant')"
   ]
  },
  {
   "cell_type": "markdown",
   "id": "6f5ea3ee-a5b0-434f-97a9-9c8cb650b200",
   "metadata": {},
   "source": [
    "9. Create a program to calculate the total cost of a shopping cart based on discounts."
   ]
  },
  {
   "cell_type": "code",
   "execution_count": 27,
   "id": "b1c71df8-dfe7-47bd-ad3c-c1f6c77f6c97",
   "metadata": {},
   "outputs": [],
   "source": [
    "total = 100"
   ]
  },
  {
   "cell_type": "code",
   "execution_count": 28,
   "id": "db32e271-89b3-4fd8-b6d6-93bcd515bdd5",
   "metadata": {},
   "outputs": [
    {
     "name": "stdout",
     "output_type": "stream",
     "text": [
      "after discount: 90.0\n"
     ]
    }
   ],
   "source": [
    "if total <= 50:\n",
    "    discount  = 0.05 # 5% \n",
    "elif total > 50 and total <= 100:\n",
    "    discount = 0.1 # 10%\n",
    "    \n",
    "cost = total - total*discount\n",
    "print('after discount:', cost)"
   ]
  },
  {
   "cell_type": "markdown",
   "id": "f516d6f4-d6fe-4356-89ae-0c56c91b2be3",
   "metadata": {},
   "source": [
    "10. Write a program that checks if a given number is even or odd."
   ]
  },
  {
   "cell_type": "code",
   "execution_count": 29,
   "id": "55d36b60-0a35-496d-828f-11024e53a420",
   "metadata": {},
   "outputs": [
    {
     "data": {
      "text/plain": [
       "9"
      ]
     },
     "execution_count": 29,
     "metadata": {},
     "output_type": "execute_result"
    }
   ],
   "source": [
    "num"
   ]
  },
  {
   "cell_type": "code",
   "execution_count": 30,
   "id": "d656b732-a4f5-4773-a817-54e5e09839c1",
   "metadata": {},
   "outputs": [
    {
     "name": "stdout",
     "output_type": "stream",
     "text": [
      "9 is odd\n"
     ]
    }
   ],
   "source": [
    "if num%2==0:\n",
    "    print(num, 'is even')\n",
    "else:\n",
    "    print(num, 'is odd')"
   ]
  },
  {
   "cell_type": "code",
   "execution_count": null,
   "id": "ea629b2f-ac76-45af-a386-17ed729e2d58",
   "metadata": {},
   "outputs": [],
   "source": []
  },
  {
   "cell_type": "code",
   "execution_count": null,
   "id": "b134695c-affd-4f59-b19a-5f7aa9fcb680",
   "metadata": {},
   "outputs": [],
   "source": []
  },
  {
   "cell_type": "markdown",
   "id": "d5955d0a-b638-481f-b493-3d2cf72393d3",
   "metadata": {},
   "source": [
    "Intermediate Level:"
   ]
  },
  {
   "cell_type": "markdown",
   "id": "e4bd7304-cf7d-4c0b-b35e-71525da0cfe7",
   "metadata": {},
   "source": [
    "11. Write a program that calculates the roots of a quadratic equation ."
   ]
  },
  {
   "cell_type": "code",
   "execution_count": 35,
   "id": "b8226f6c-97cf-4fbb-956b-c916cdbe9b56",
   "metadata": {},
   "outputs": [],
   "source": [
    "import math"
   ]
  },
  {
   "cell_type": "code",
   "execution_count": 36,
   "id": "d1df9205-8181-4153-a472-f26306fca1ff",
   "metadata": {},
   "outputs": [],
   "source": [
    "a = 25\n",
    "b = 16\n",
    "c = 9"
   ]
  },
  {
   "cell_type": "code",
   "execution_count": 37,
   "id": "b27c55a7-47fb-4fba-b374-eea88187ecdc",
   "metadata": {},
   "outputs": [],
   "source": [
    "# Calculate the discriminant\n",
    "discriminant = b**2 - 4*a*c"
   ]
  },
  {
   "cell_type": "code",
   "execution_count": 38,
   "id": "7ba71cf9-f2df-4780-b8b3-fe96acb38c3a",
   "metadata": {},
   "outputs": [
    {
     "name": "stdout",
     "output_type": "stream",
     "text": [
      "Root 1: -0.32 + 0.5075431016179808i\n",
      "Root 2: -0.32 - 0.5075431016179808i\n"
     ]
    }
   ],
   "source": [
    "if discriminant > 0:\n",
    "    # Two real and distinct roots\n",
    "    root1 = (-b + math.sqrt(discriminant)) / (2*a)\n",
    "    root2 = (-b - math.sqrt(discriminant)) / (2*a)\n",
    "    print(f\"Root 1: {root1}\")\n",
    "    print(f\"Root 2: {root2}\")\n",
    "elif discriminant == 0:\n",
    "    # One real root\n",
    "    root1 = -b / (2*a)\n",
    "    print(f\"Root 1 (Repeated): {root1}\")\n",
    "else:\n",
    "    # Complex roots\n",
    "    real_part = -b / (2*a)\n",
    "    imaginary_part = math.sqrt(abs(discriminant)) / (2*a)\n",
    "    print(f\"Root 1: {real_part} + {imaginary_part}i\")\n",
    "    print(f\"Root 2: {real_part} - {imaginary_part}i\")"
   ]
  },
  {
   "cell_type": "markdown",
   "id": "21de5b65-3ef0-4be2-b3d3-7f5ee10cf95e",
   "metadata": {},
   "source": [
    "12. Create a program that determines the day of the week based on the day number (1-7)."
   ]
  },
  {
   "cell_type": "code",
   "execution_count": 33,
   "id": "35c58177-db03-48db-9547-a5bffd7ec14a",
   "metadata": {},
   "outputs": [
    {
     "name": "stdin",
     "output_type": "stream",
     "text": [
      "Enter the day 4\n"
     ]
    },
    {
     "data": {
      "text/plain": [
       "4"
      ]
     },
     "execution_count": 33,
     "metadata": {},
     "output_type": "execute_result"
    }
   ],
   "source": [
    "num = int(input('Enter the day'))\n",
    "num"
   ]
  },
  {
   "cell_type": "code",
   "execution_count": 34,
   "id": "eb726148-4829-4ba0-96b8-c95a843f6932",
   "metadata": {},
   "outputs": [
    {
     "name": "stdout",
     "output_type": "stream",
     "text": [
      "thrusday\n"
     ]
    }
   ],
   "source": [
    "if num >= 1 and num <= 7:\n",
    "    if num == 1:\n",
    "        print(\"monday\")\n",
    "    elif num == 2:\n",
    "        print(\"tuesday\")\n",
    "    elif num == 3:\n",
    "        print(\"wednesday\")\n",
    "    elif num == 4:\n",
    "        print(\"thrusday\")\n",
    "    elif num == 5:\n",
    "        print(\"friday\")\n",
    "    elif num == 6:\n",
    "        print(\"saturday\")\n",
    "    elif num == 7:\n",
    "        print(\"sunday\")\n",
    "else:\n",
    "    print(\"enter a valid day\")"
   ]
  },
  {
   "cell_type": "markdown",
   "id": "b3b4d714-e4eb-4200-b83a-cfdc58be199e",
   "metadata": {},
   "source": [
    "13. Develop a program that calculates the factorial of a given number using recursion."
   ]
  },
  {
   "cell_type": "code",
   "execution_count": 44,
   "id": "7ba739fc-637e-41b8-b3b8-011668e1e1e6",
   "metadata": {},
   "outputs": [
    {
     "data": {
      "text/plain": [
       "4"
      ]
     },
     "execution_count": 44,
     "metadata": {},
     "output_type": "execute_result"
    }
   ],
   "source": [
    "num"
   ]
  },
  {
   "cell_type": "code",
   "execution_count": 45,
   "id": "56c3d661-9f76-46f9-876c-997bf430015f",
   "metadata": {},
   "outputs": [],
   "source": [
    "def factorial(n):\n",
    "    if n == 0:\n",
    "        return 1\n",
    "    else:\n",
    "        return n * factorial(n - 1)"
   ]
  },
  {
   "cell_type": "code",
   "execution_count": 48,
   "id": "3ef87172-4635-45a7-a5e2-fc671e847303",
   "metadata": {},
   "outputs": [
    {
     "name": "stdout",
     "output_type": "stream",
     "text": [
      "factorial of 4 is 24\n"
     ]
    }
   ],
   "source": [
    "if num < 0:\n",
    "    print(\"Factorial is not defined for negative numbers.\")\n",
    "else:\n",
    "    result = factorial(num)\n",
    "    \n",
    "print(f'factorial of {num} is {result}')"
   ]
  },
  {
   "cell_type": "markdown",
   "id": "10f11536-f1e4-4440-be92-b81d34997410",
   "metadata": {},
   "source": [
    "14. Write a program to find the largest among three numbers without using the `max()` function."
   ]
  },
  {
   "cell_type": "code",
   "execution_count": 39,
   "id": "fbd50e86-4456-4255-8f44-cd5759c7aa31",
   "metadata": {},
   "outputs": [
    {
     "data": {
      "text/plain": [
       "8"
      ]
     },
     "execution_count": 39,
     "metadata": {},
     "output_type": "execute_result"
    }
   ],
   "source": [
    "num1"
   ]
  },
  {
   "cell_type": "code",
   "execution_count": 40,
   "id": "17e61bef-5cba-493d-aecb-d0a73d10ef83",
   "metadata": {},
   "outputs": [
    {
     "data": {
      "text/plain": [
       "0"
      ]
     },
     "execution_count": 40,
     "metadata": {},
     "output_type": "execute_result"
    }
   ],
   "source": [
    "num2"
   ]
  },
  {
   "cell_type": "code",
   "execution_count": 41,
   "id": "ea52dc56-63c6-44a5-bbcf-2a8d64d2cf84",
   "metadata": {},
   "outputs": [
    {
     "data": {
      "text/plain": [
       "89"
      ]
     },
     "execution_count": 41,
     "metadata": {},
     "output_type": "execute_result"
    }
   ],
   "source": [
    "num3"
   ]
  },
  {
   "cell_type": "code",
   "execution_count": 43,
   "id": "ece89547-a947-4767-b57b-2588d014c50f",
   "metadata": {},
   "outputs": [
    {
     "name": "stdout",
     "output_type": "stream",
     "text": [
      "The largest number is: 89\n"
     ]
    }
   ],
   "source": [
    "if num1 >= num2 and num1 >= num3:\n",
    "    largest = num1\n",
    "elif num2 >= num1 and num2 >= num3:\n",
    "    largest = num2\n",
    "else:\n",
    "    largest = num3\n",
    "\n",
    "print(f\"The largest number is: {largest}\")"
   ]
  },
  {
   "cell_type": "markdown",
   "id": "3d2b2db3-6ee4-4a83-813b-5b0ba26d217d",
   "metadata": {},
   "source": [
    "15. Create a program that simulates a basic ATM transaction menu."
   ]
  },
  {
   "cell_type": "code",
   "execution_count": 1,
   "id": "3c3ecbc6-e753-462f-9d44-fdab4d2273f0",
   "metadata": {},
   "outputs": [
    {
     "data": {
      "text/plain": [
       "1000"
      ]
     },
     "execution_count": 1,
     "metadata": {},
     "output_type": "execute_result"
    }
   ],
   "source": [
    "balance = 1000\n",
    "balance"
   ]
  },
  {
   "cell_type": "code",
   "execution_count": 2,
   "id": "bbc40499-adf3-4aae-904c-77c8051d76f9",
   "metadata": {},
   "outputs": [],
   "source": [
    "# Function to deposit money\n",
    "def deposit():\n",
    "    global balance\n",
    "    amount = float(input(\"Enter the amount to deposit: $\"))\n",
    "    if amount > 0:\n",
    "        balance += amount\n",
    "        print(f\"${amount} has been deposited.\")\n",
    "    else:\n",
    "        print(\"Invalid amount. Please enter a positive number.\")"
   ]
  },
  {
   "cell_type": "code",
   "execution_count": 5,
   "id": "43248f67-2451-4615-8f12-1c11f7e4f621",
   "metadata": {},
   "outputs": [],
   "source": [
    "# Function to withdraw money\n",
    "def withdraw():\n",
    "    global balance\n",
    "    amount = float(input(\"Enter the amount to withdraw: $\"))\n",
    "    if amount > 0 and amount <= balance:\n",
    "        balance -= amount\n",
    "        print(f\"${amount} has been withdrawn.\")\n",
    "    elif amount > balance:\n",
    "        print(\"Insufficient balance.\")\n",
    "    else:\n",
    "        print(\"Invalid amount. Please enter a positive number.\")\n"
   ]
  },
  {
   "cell_type": "code",
   "execution_count": 6,
   "id": "82501a25-c166-4a13-ad36-8fed4611e2d0",
   "metadata": {},
   "outputs": [],
   "source": [
    "def display_balance():\n",
    "    print(f\"Your account balance is: ${balance}\")"
   ]
  },
  {
   "cell_type": "code",
   "execution_count": 7,
   "id": "de5cb219-74a6-4908-96fb-727cfc72370c",
   "metadata": {},
   "outputs": [
    {
     "name": "stdout",
     "output_type": "stream",
     "text": [
      "\n",
      "Welcome to the ATM\n",
      "1. Display Balance\n",
      "2. Deposit Money\n",
      "3. Withdraw Money\n",
      "4. Exit\n"
     ]
    },
    {
     "name": "stdin",
     "output_type": "stream",
     "text": [
      "Please select an option (1/2/3/4):  2\n",
      "Enter the amount to deposit: $ 500\n"
     ]
    },
    {
     "name": "stdout",
     "output_type": "stream",
     "text": [
      "$500.0 has been deposited.\n",
      "\n",
      "Welcome to the ATM\n",
      "1. Display Balance\n",
      "2. Deposit Money\n",
      "3. Withdraw Money\n",
      "4. Exit\n"
     ]
    },
    {
     "name": "stdin",
     "output_type": "stream",
     "text": [
      "Please select an option (1/2/3/4):  1\n"
     ]
    },
    {
     "name": "stdout",
     "output_type": "stream",
     "text": [
      "Your account balance is: $1500.0\n",
      "\n",
      "Welcome to the ATM\n",
      "1. Display Balance\n",
      "2. Deposit Money\n",
      "3. Withdraw Money\n",
      "4. Exit\n"
     ]
    },
    {
     "name": "stdin",
     "output_type": "stream",
     "text": [
      "Please select an option (1/2/3/4):  4\n"
     ]
    },
    {
     "name": "stdout",
     "output_type": "stream",
     "text": [
      "Thank you for using the ATM. Goodbye!\n"
     ]
    }
   ],
   "source": [
    "while True:\n",
    "    print(\"\\nWelcome to the ATM\")\n",
    "    print(\"1. Display Balance\")\n",
    "    print(\"2. Deposit Money\")\n",
    "    print(\"3. Withdraw Money\")\n",
    "    print(\"4. Exit\")\n",
    "\n",
    "    choice = input(\"Please select an option (1/2/3/4): \")\n",
    "\n",
    "    if choice == '1':\n",
    "        display_balance()\n",
    "    elif choice == '2':\n",
    "        deposit()\n",
    "    elif choice == '3':\n",
    "        withdraw()\n",
    "    elif choice == '4':\n",
    "        print(\"Thank you for using the ATM. Goodbye!\")\n",
    "        break\n",
    "    else:\n",
    "        print(\"Invalid choice. Please select a valid option.\")\n"
   ]
  },
  {
   "cell_type": "markdown",
   "id": "a6823b89-bcb2-4000-983a-39deb6a81665",
   "metadata": {},
   "source": [
    "16. Build a program that checks if a given string is a palindrome or not."
   ]
  },
  {
   "cell_type": "code",
   "execution_count": 8,
   "id": "d1782330-d876-442a-84fc-812153969f0f",
   "metadata": {},
   "outputs": [],
   "source": [
    "def checkPalindrome(string):\n",
    "    if(string == string[::-1]):\n",
    "        print('This is a palindrome', string)\n",
    "    else:\n",
    "        print('This is not!', string)\n"
   ]
  },
  {
   "cell_type": "code",
   "execution_count": 9,
   "id": "ff7ac67c-5dd3-4c1c-a2e1-801bcb0f0c82",
   "metadata": {},
   "outputs": [
    {
     "name": "stdout",
     "output_type": "stream",
     "text": [
      "This is a palindrome racecar\n"
     ]
    }
   ],
   "source": [
    "checkPalindrome('racecar')"
   ]
  },
  {
   "cell_type": "markdown",
   "id": "4c719d0e-66e3-4cca-bc55-d2cb1d2f2592",
   "metadata": {},
   "source": [
    "17. Write a program that calculates the average of a list of numbers, excluding the smallest and largest values."
   ]
  },
  {
   "cell_type": "code",
   "execution_count": 10,
   "id": "25aa00e9-5c72-46e9-a143-36ae60188617",
   "metadata": {},
   "outputs": [
    {
     "data": {
      "text/plain": [
       "[12, 5, 8, 19, 22, 10, 15]"
      ]
     },
     "execution_count": 10,
     "metadata": {},
     "output_type": "execute_result"
    }
   ],
   "source": [
    "numbers = [12, 5, 8, 19, 22, 10, 15]\n",
    "numbers"
   ]
  },
  {
   "cell_type": "code",
   "execution_count": 12,
   "id": "5823aa99-1b19-4709-9cd1-de50db7d5e07",
   "metadata": {},
   "outputs": [
    {
     "name": "stdout",
     "output_type": "stream",
     "text": [
      "12.8\n"
     ]
    }
   ],
   "source": [
    "if len(numbers) < 3:\n",
    "    print(\"List must have at least 3 numbers.\")\n",
    "\n",
    "numbers.remove(min(numbers))\n",
    "numbers.remove(max(numbers))\n",
    "\n",
    "total = sum(numbers)\n",
    "\n",
    "average = total / len(numbers)\n",
    "\n",
    "print(average)"
   ]
  },
  {
   "cell_type": "markdown",
   "id": "f9401fe7-8f35-4d92-9aec-1c61862add27",
   "metadata": {},
   "source": [
    "18. Develop a program that converts a given temperature from Celsius to Fahrenheit."
   ]
  },
  {
   "cell_type": "code",
   "execution_count": 16,
   "id": "c0373ec1-18db-4a9d-8ddb-7c42009d4f4b",
   "metadata": {},
   "outputs": [],
   "source": [
    "def celsius_to_fahrenheit(celsius):\n",
    "    fahrenheit = (celsius * 9/5) + 32\n",
    "    return fahrenheit"
   ]
  },
  {
   "cell_type": "code",
   "execution_count": 17,
   "id": "e14fb3f0-ca67-4ce8-bc68-f575957b70b7",
   "metadata": {},
   "outputs": [
    {
     "data": {
      "text/plain": [
       "87.8"
      ]
     },
     "execution_count": 17,
     "metadata": {},
     "output_type": "execute_result"
    }
   ],
   "source": [
    "celsius_to_fahrenheit(31)"
   ]
  },
  {
   "cell_type": "markdown",
   "id": "0ba1521a-7315-4c26-9103-496ed9c4313e",
   "metadata": {},
   "source": [
    "19. Create a program that simulates a basic calculator for addition, subtraction, multiplication, and division."
   ]
  },
  {
   "cell_type": "code",
   "execution_count": 18,
   "id": "4991ef98-284c-4e41-93ee-dc07c87ef705",
   "metadata": {},
   "outputs": [],
   "source": [
    "# addition\n",
    "def add(x, y):\n",
    "    return x + y"
   ]
  },
  {
   "cell_type": "code",
   "execution_count": 19,
   "id": "57beea4e-14ee-4ded-8728-f302721dd4bc",
   "metadata": {},
   "outputs": [],
   "source": [
    "# subtraction\n",
    "def subtract(x, y):\n",
    "    return x - y"
   ]
  },
  {
   "cell_type": "code",
   "execution_count": 20,
   "id": "de8fde38-cb6d-4ec8-b8f3-2f568db63895",
   "metadata": {},
   "outputs": [],
   "source": [
    "# multiply\n",
    "def multiply(x, y):\n",
    "    return x * y"
   ]
  },
  {
   "cell_type": "code",
   "execution_count": 21,
   "id": "3eaebc5b-8c6c-44c7-94a9-5eddf76b3516",
   "metadata": {},
   "outputs": [],
   "source": [
    "# division\n",
    "def divide(x, y):\n",
    "    if y == 0:\n",
    "        return \"Division by zero is not allowed\"\n",
    "    return x / y"
   ]
  },
  {
   "cell_type": "code",
   "execution_count": 26,
   "id": "5115fa0c-1a7f-4eb8-be5f-f9d2dbfc24dd",
   "metadata": {},
   "outputs": [
    {
     "data": {
      "text/plain": [
       "3"
      ]
     },
     "execution_count": 26,
     "metadata": {},
     "output_type": "execute_result"
    }
   ],
   "source": [
    "choice = 3\n",
    "choice"
   ]
  },
  {
   "cell_type": "code",
   "execution_count": 28,
   "id": "61d2d112-6220-4be3-91e5-c8fdd3b5c788",
   "metadata": {},
   "outputs": [],
   "source": [
    "num1 = 6\n",
    "num2 = 10"
   ]
  },
  {
   "cell_type": "code",
   "execution_count": 29,
   "id": "73febf08-95e7-43ff-8a58-49059f727260",
   "metadata": {},
   "outputs": [
    {
     "name": "stdout",
     "output_type": "stream",
     "text": [
      "60\n"
     ]
    }
   ],
   "source": [
    "if choice == 1:\n",
    "    print(add(num1, num2))\n",
    "elif choice == 2:\n",
    "    print(subtract(num1, num2))\n",
    "elif choice == 3:\n",
    "    print(multiply(num1, num2))\n",
    "elif choice == 4:\n",
    "    print(divide(num1, num2))\n",
    "else:\n",
    "    print('Invalid operation')\n"
   ]
  },
  {
   "cell_type": "markdown",
   "id": "1f1be4f4-d803-46d1-abcf-d0bf884fd5a0",
   "metadata": {},
   "source": [
    "20. Write a program that determines the roots of a cubic equation using the Cardano formula."
   ]
  },
  {
   "cell_type": "code",
   "execution_count": 128,
   "id": "36f8f1cc-205e-4ad2-8a45-d961ca40b0fc",
   "metadata": {},
   "outputs": [],
   "source": [
    "# ref. https://brilliant.org/wiki/cardano-method/#:~:text=a%20x%203%20%2B%20b%20x,%2Bcx%2Bd%3D0."
   ]
  },
  {
   "cell_type": "code",
   "execution_count": 129,
   "id": "f47fea7c-6320-41d6-8acb-32aa46af2aec",
   "metadata": {},
   "outputs": [],
   "source": [
    "import math"
   ]
  },
  {
   "cell_type": "code",
   "execution_count": 131,
   "id": "311f374a-b02e-415c-a420-f91f52d21c82",
   "metadata": {},
   "outputs": [],
   "source": [
    "a = 1\n",
    "\n",
    "b = -6\n",
    "\n",
    "c = 11\n",
    "\n",
    "d = -6"
   ]
  },
  {
   "cell_type": "code",
   "execution_count": 138,
   "id": "429b3bea-8baf-4797-88d7-e80f6c589ff7",
   "metadata": {},
   "outputs": [],
   "source": [
    "def cubic_roots(a, b, c, d):\n",
    "    p = (3 * a * c - b ** 2) / (3 * a ** 2)\n",
    "    q = (2 * b ** 3 - 9 * a * b * c + 27 * a ** 2 * d) / (27 * a ** 3)\n",
    "\n",
    "    discriminant = (q / 2) ** 2 + (p / 3) ** 3\n",
    "\n",
    "    if discriminant > 0:\n",
    "        # real roots\n",
    "        u = (-q / 2 + math.sqrt(discriminant)) ** (1/3)\n",
    "        v = (-q / 2 - math.sqrt(discriminant)) ** (1/3)\n",
    "        root1 = u + v - b / (3 * a)\n",
    "        real_part = -0.5 * (u + v) - b / (3 * a)\n",
    "        imaginary_part = (u - v) * math.sqrt(3) / 2\n",
    "        root2 = complex(real_part, imaginary_part)\n",
    "        root3 = complex(real_part, -imaginary_part)\n",
    "    elif discriminant == 0:\n",
    "        # real roots, two of them are equal\n",
    "        u = (-q / 2) ** (1/3)\n",
    "        root1 = 2 * u - b / (3 * a)\n",
    "        real_part = -u - b / (3 * a)\n",
    "        root2 = complex(root1, 0)\n",
    "        root3 = complex(real_part, 0)\n",
    "    else:\n",
    "        # One real root, two complex roots\n",
    "        rho = math.sqrt((-p / 3) ** 3)\n",
    "        theta = math.acos(-q / (2 * math.sqrt((-p / 3) ** 3)))\n",
    "        root1 = 2 * math.sqrt(-p / 3) * math.cos(theta / 3) - b / (3 * a)\n",
    "        root2 = 2 * math.sqrt(-p / 3) * math.cos((theta + 2 * math.pi) / 3) - b / (3 * a)\n",
    "        root3 = 2 * math.sqrt(-p / 3) * math.cos((theta + 4 * math.pi) / 3) - b / (3 * a)\n",
    "\n",
    "    print(root1, root2, root3)"
   ]
  },
  {
   "cell_type": "code",
   "execution_count": 139,
   "id": "832a54e6-cfbf-4e91-96ea-a572775da257",
   "metadata": {},
   "outputs": [
    {
     "name": "stdout",
     "output_type": "stream",
     "text": [
      "3.0 1.0 1.9999999999999998\n"
     ]
    }
   ],
   "source": [
    "cubic_roots(a, b, c, d)"
   ]
  },
  {
   "cell_type": "markdown",
   "id": "93af38a0-d447-4463-a308-b33141bd622f",
   "metadata": {},
   "source": [
    "Advanced Level"
   ]
  },
  {
   "cell_type": "markdown",
   "id": "52b5652e-e21e-4693-90a8-0a028dc26dcc",
   "metadata": {},
   "source": [
    "21. Create a program that calculates the income tax based on the user's income and tax brackets."
   ]
  },
  {
   "cell_type": "code",
   "execution_count": 1,
   "id": "2636fec1-8499-46a8-827a-af1f7cebaf94",
   "metadata": {},
   "outputs": [
    {
     "data": {
      "text/plain": [
       "[(0, 10000, 0.1),\n",
       " (10001, 50000, 0.2),\n",
       " (50001, 100000, 0.3),\n",
       " (100001, inf, 0.4)]"
      ]
     },
     "execution_count": 1,
     "metadata": {},
     "output_type": "execute_result"
    }
   ],
   "source": [
    "tax_brackets = [(0, 10000, 0.1), (10001, 50000, 0.2), (50001, 100000, 0.3), (100001, float('inf'), 0.4)]\n",
    "tax_brackets"
   ]
  },
  {
   "cell_type": "code",
   "execution_count": 2,
   "id": "e22e0b70-904c-46ac-8476-6ecbf39ce469",
   "metadata": {},
   "outputs": [
    {
     "data": {
      "text/plain": [
       "12000"
      ]
     },
     "execution_count": 2,
     "metadata": {},
     "output_type": "execute_result"
    }
   ],
   "source": [
    "income = 12000\n",
    "income"
   ]
  },
  {
   "cell_type": "code",
   "execution_count": 3,
   "id": "76e86627-8a2d-4d71-a788-418b551ea2da",
   "metadata": {},
   "outputs": [
    {
     "name": "stdout",
     "output_type": "stream",
     "text": [
      "income tax: 1399.8\n"
     ]
    }
   ],
   "source": [
    "tax = 0\n",
    "for bracket in tax_brackets:\n",
    "    min_income, max_income, tax_rate = bracket\n",
    "    if income > min_income:\n",
    "        taxable_income = min(max_income, income) - min_income\n",
    "        tax += taxable_income * tax_rate\n",
    "        \n",
    "print('income tax:', tax)"
   ]
  },
  {
   "cell_type": "markdown",
   "id": "823439b3-497c-4272-9e3f-7ce958e8f69c",
   "metadata": {},
   "source": [
    "22. Write a program that simulates a rock-paper-scissors game against the computer."
   ]
  },
  {
   "cell_type": "code",
   "execution_count": 4,
   "id": "9070b19a-f226-456a-900e-d139b0b110b8",
   "metadata": {},
   "outputs": [],
   "source": [
    "import random"
   ]
  },
  {
   "cell_type": "code",
   "execution_count": 5,
   "id": "721204f1-ac85-4c95-9dde-dbe4ebaf373b",
   "metadata": {},
   "outputs": [
    {
     "data": {
      "text/plain": [
       "['rock', 'paper', 'scissors']"
      ]
     },
     "execution_count": 5,
     "metadata": {},
     "output_type": "execute_result"
    }
   ],
   "source": [
    "choices = [\"rock\", \"paper\", \"scissors\"]\n",
    "choices"
   ]
  },
  {
   "cell_type": "code",
   "execution_count": 6,
   "id": "bb8ff32d-13e2-4edb-abd9-3ae2614b229e",
   "metadata": {},
   "outputs": [
    {
     "data": {
      "text/plain": [
       "'paper'"
      ]
     },
     "execution_count": 6,
     "metadata": {},
     "output_type": "execute_result"
    }
   ],
   "source": [
    "computer_choice = random.choice(choices)\n",
    "computer_choice"
   ]
  },
  {
   "cell_type": "code",
   "execution_count": 7,
   "id": "9a8001ce-e6de-4976-89ea-a16c750fdb69",
   "metadata": {},
   "outputs": [
    {
     "data": {
      "text/plain": [
       "'scissors'"
      ]
     },
     "execution_count": 7,
     "metadata": {},
     "output_type": "execute_result"
    }
   ],
   "source": [
    "user_choice = choices[2]\n",
    "user_choice"
   ]
  },
  {
   "cell_type": "code",
   "execution_count": 8,
   "id": "da77718b-0fda-4f26-a0ba-c62d02823f25",
   "metadata": {},
   "outputs": [
    {
     "name": "stdout",
     "output_type": "stream",
     "text": [
      "You win!\n"
     ]
    }
   ],
   "source": [
    "if user_choice in choices:    \n",
    "    if user_choice == computer_choice:\n",
    "        print(\"It's a tie!\")\n",
    "    elif (user_choice == \"rock\" and computer_choice == \"scissors\") or \\\n",
    "         (user_choice == \"paper\" and computer_choice == \"rock\") or \\\n",
    "         (user_choice == \"scissors\" and computer_choice == \"paper\"):\n",
    "        print(\"You win!\")\n",
    "    else:\n",
    "        print(\"Computer wins!\")"
   ]
  },
  {
   "cell_type": "markdown",
   "id": "327af12f-980a-40f3-ac74-4626f69b4b2d",
   "metadata": {},
   "source": [
    "23. Develop a program that generates a random password based on user preferences (length, complexity)."
   ]
  },
  {
   "cell_type": "code",
   "execution_count": 13,
   "id": "ee14e6ff-1649-45b4-87f8-de29ea3c98e8",
   "metadata": {},
   "outputs": [],
   "source": [
    "import string # https://docs.python.org/3/library/string.html"
   ]
  },
  {
   "cell_type": "code",
   "execution_count": 14,
   "id": "323e0bbe-47bb-4743-b7f5-223592519972",
   "metadata": {},
   "outputs": [
    {
     "data": {
      "text/plain": [
       "14"
      ]
     },
     "execution_count": 14,
     "metadata": {},
     "output_type": "execute_result"
    }
   ],
   "source": [
    "password_length = 14\n",
    "password_length"
   ]
  },
  {
   "cell_type": "code",
   "execution_count": 15,
   "id": "3c595437-fda8-4a6c-ba3a-f00aaa8052a5",
   "metadata": {},
   "outputs": [
    {
     "data": {
      "text/plain": [
       "['easy', 'medium', 'hard']"
      ]
     },
     "execution_count": 15,
     "metadata": {},
     "output_type": "execute_result"
    }
   ],
   "source": [
    "complexity = ['easy', 'medium', 'hard']\n",
    "complexity"
   ]
  },
  {
   "cell_type": "code",
   "execution_count": 16,
   "id": "7bbb074c-8848-419a-9caf-2857c3eb151a",
   "metadata": {},
   "outputs": [
    {
     "data": {
      "text/plain": [
       "'hard'"
      ]
     },
     "execution_count": 16,
     "metadata": {},
     "output_type": "execute_result"
    }
   ],
   "source": [
    "password_complexity = complexity[-1]\n",
    "password_complexity"
   ]
  },
  {
   "cell_type": "code",
   "execution_count": 20,
   "id": "b73bfc96-2117-4dc6-9274-79b1d4bdd64b",
   "metadata": {},
   "outputs": [
    {
     "name": "stdout",
     "output_type": "stream",
     "text": [
      "MRICo^@?!?huE<\n"
     ]
    }
   ],
   "source": [
    "if password_complexity == \"easy\":\n",
    "    characters = string.ascii_letters\n",
    "elif password_complexity == \"medium\":\n",
    "    characters = string.ascii_letters + string.digits\n",
    "elif password_complexity == \"hard\":\n",
    "    characters = string.ascii_letters + string.digits + string.punctuation\n",
    "\n",
    "\n",
    "print(''.join(random.choice(characters) for _ in range(password_length)))"
   ]
  },
  {
   "cell_type": "markdown",
   "id": "f13c706a-a110-47ad-b6ae-f27b269e3760",
   "metadata": {},
   "source": [
    "24. Create a program that implements a simple text-based adventure game with branching scenarios."
   ]
  },
  {
   "cell_type": "code",
   "execution_count": 21,
   "id": "12144368-2092-4295-9846-3c3a68aefe2f",
   "metadata": {},
   "outputs": [
    {
     "name": "stdout",
     "output_type": "stream",
     "text": [
      "You find yourself in a forest. Choose to go left or right.\n"
     ]
    }
   ],
   "source": [
    "print(\"You find yourself in a forest. Choose to go left or right.\")"
   ]
  },
  {
   "cell_type": "code",
   "execution_count": 22,
   "id": "30e433c2-d573-419b-bb71-8026ad74e599",
   "metadata": {},
   "outputs": [
    {
     "data": {
      "text/plain": [
       "['left', 'right']"
      ]
     },
     "execution_count": 22,
     "metadata": {},
     "output_type": "execute_result"
    }
   ],
   "source": [
    "choices = ['left', 'right']\n",
    "choices"
   ]
  },
  {
   "cell_type": "code",
   "execution_count": 23,
   "id": "e3489ba9-7a0a-4810-8861-d2b2d0913a6d",
   "metadata": {},
   "outputs": [
    {
     "data": {
      "text/plain": [
       "'right'"
      ]
     },
     "execution_count": 23,
     "metadata": {},
     "output_type": "execute_result"
    }
   ],
   "source": [
    "choice = choices[1]\n",
    "choice"
   ]
  },
  {
   "cell_type": "code",
   "execution_count": 24,
   "id": "3707cb72-636d-447e-931c-5bc2dabdc601",
   "metadata": {},
   "outputs": [
    {
     "name": "stdout",
     "output_type": "stream",
     "text": [
      "You encounter a bear.\n"
     ]
    }
   ],
   "source": [
    "if choice == \"left\":\n",
    "    print(\"You encounter a friendly squirrel.\")\n",
    "elif choice == \"right\":\n",
    "    print(\"You encounter a bear.\")"
   ]
  },
  {
   "cell_type": "markdown",
   "id": "c3dbc625-8717-485b-81b0-4cada1886545",
   "metadata": {},
   "source": [
    "25. Build a program that solves a linear equation for x, considering different cases."
   ]
  },
  {
   "cell_type": "code",
   "execution_count": 28,
   "id": "7c3b9c34-1032-4693-96e4-c26b49b026db",
   "metadata": {},
   "outputs": [],
   "source": [
    "#(ax + b = 0), x = ?"
   ]
  },
  {
   "cell_type": "code",
   "execution_count": 29,
   "id": "300d811e-fc5c-49ff-ac44-e48b6ea7a412",
   "metadata": {},
   "outputs": [],
   "source": [
    "a = 5\n",
    "\n",
    "b = 3"
   ]
  },
  {
   "cell_type": "code",
   "execution_count": 30,
   "id": "045d03ef-6bbf-4880-8801-9d2629cde6a7",
   "metadata": {},
   "outputs": [
    {
     "name": "stdout",
     "output_type": "stream",
     "text": [
      "The solution is x = -0.6\n"
     ]
    }
   ],
   "source": [
    "if a == 0:\n",
    "    if b == 0:\n",
    "        print(\"Infinite solutions (identity equation)\")\n",
    "    else:\n",
    "        print(\"No solution (contradiction)\")\n",
    "else:\n",
    "    x = -b / a\n",
    "    print(f\"The solution is x = {x}\")"
   ]
  },
  {
   "cell_type": "markdown",
   "id": "713f4497-177b-4f40-8d01-a52e5fbce630",
   "metadata": {},
   "source": [
    "26. Write a program that simulates a basic quiz game with multiple-choice questions and scoring."
   ]
  },
  {
   "cell_type": "code",
   "execution_count": 31,
   "id": "38073ae7-a744-4f6b-bfaf-4b929ec573c7",
   "metadata": {},
   "outputs": [
    {
     "data": {
      "text/plain": [
       "[{'question': 'What is the capital of France?',\n",
       "  'options': ['Paris', 'London', 'Berlin'],\n",
       "  'answer': 'Paris'},\n",
       " {'question': 'Which planet is known as the Red Planet?',\n",
       "  'options': ['Earth', 'Mars', 'Venus'],\n",
       "  'answer': 'Mars'},\n",
       " {'question': 'What is 7 multiplied by 9?',\n",
       "  'options': ['45', '56', '63'],\n",
       "  'answer': '63'}]"
      ]
     },
     "execution_count": 31,
     "metadata": {},
     "output_type": "execute_result"
    }
   ],
   "source": [
    "questions = [\n",
    "    {\"question\": \"What is the capital of France?\", \"options\": [\"Paris\", \"London\", \"Berlin\"], \"answer\": \"Paris\"},\n",
    "    {\"question\": \"Which planet is known as the Red Planet?\", \"options\": [\"Earth\", \"Mars\", \"Venus\"], \"answer\": \"Mars\"},\n",
    "    {\"question\": \"What is 7 multiplied by 9?\", \"options\": [\"45\", \"56\", \"63\"], \"answer\": \"63\"},\n",
    "]\n",
    "\n",
    "questions"
   ]
  },
  {
   "cell_type": "code",
   "execution_count": 34,
   "id": "06e12080-698a-4593-877d-fe632a2f766c",
   "metadata": {},
   "outputs": [
    {
     "name": "stdout",
     "output_type": "stream",
     "text": [
      "What is the capital of France?\n",
      "1. Paris\n",
      "2. London\n",
      "3. Berlin\n"
     ]
    },
    {
     "name": "stdin",
     "output_type": "stream",
     "text": [
      "Enter the number of your answer:  1\n"
     ]
    },
    {
     "name": "stdout",
     "output_type": "stream",
     "text": [
      "Correct!\n",
      "\n",
      "Which planet is known as the Red Planet?\n",
      "1. Earth\n",
      "2. Mars\n",
      "3. Venus\n"
     ]
    },
    {
     "name": "stdin",
     "output_type": "stream",
     "text": [
      "Enter the number of your answer:  2\n"
     ]
    },
    {
     "name": "stdout",
     "output_type": "stream",
     "text": [
      "Correct!\n",
      "\n",
      "What is 7 multiplied by 9?\n",
      "1. 45\n",
      "2. 56\n",
      "3. 63\n"
     ]
    },
    {
     "name": "stdin",
     "output_type": "stream",
     "text": [
      "Enter the number of your answer:  3\n"
     ]
    },
    {
     "name": "stdout",
     "output_type": "stream",
     "text": [
      "Correct!\n",
      "\n",
      "Your final score: 100.0\n"
     ]
    }
   ],
   "source": [
    "score = 0\n",
    "\n",
    "for question in questions:\n",
    "    print(question[\"question\"])\n",
    "    for i, option in enumerate(question[\"options\"]):\n",
    "        print(f\"{i + 1}. {option}\")\n",
    "    user_answer = input(\"Enter the number of your answer: \")\n",
    "    if user_answer == str(question[\"options\"].index(question[\"answer\"]) + 1):\n",
    "        print(\"Correct!\\n\")\n",
    "        score += 1\n",
    "    else:\n",
    "        print(f\"Wrong! The correct answer is: {question['answer']}\\n\")\n",
    "\n",
    "print(f\"Your final score: {score/len(questions)*100}\")"
   ]
  },
  {
   "cell_type": "markdown",
   "id": "30d38c0c-5183-449a-b987-d546e81d67de",
   "metadata": {},
   "source": [
    "27. Develop a program that determines whether a given year is a prime number or not."
   ]
  },
  {
   "cell_type": "code",
   "execution_count": 36,
   "id": "8e53a701-54a0-4863-a9e3-85dd1bd1626a",
   "metadata": {},
   "outputs": [],
   "source": [
    "year = 2003"
   ]
  },
  {
   "cell_type": "code",
   "execution_count": 37,
   "id": "a0d6be55-5a70-4b90-9d91-9534aeebbe6a",
   "metadata": {},
   "outputs": [],
   "source": [
    "def is_prime(n):\n",
    "    if n <= 1:\n",
    "        print('its prime')\n",
    "    for i in range(2, int(n**0.5) + 1):\n",
    "        if n % i == 0:\n",
    "            print('its not prime')\n",
    "            break\n",
    "    print('its prime')"
   ]
  },
  {
   "cell_type": "code",
   "execution_count": 38,
   "id": "ca89ec40-680c-43c6-86a7-7e4d10231394",
   "metadata": {},
   "outputs": [
    {
     "name": "stdout",
     "output_type": "stream",
     "text": [
      "its prime\n"
     ]
    }
   ],
   "source": [
    "is_prime(year)"
   ]
  },
  {
   "cell_type": "markdown",
   "id": "dc796b9e-e69b-4902-b8a5-98df934eac4d",
   "metadata": {},
   "source": [
    "28. Create a program that sorts three numbers in ascending order using conditional statements."
   ]
  },
  {
   "cell_type": "code",
   "execution_count": 39,
   "id": "d7ad296a-66d5-4db1-afe6-4e307f5219f9",
   "metadata": {},
   "outputs": [],
   "source": [
    "a = 26\n",
    "\n",
    "b = 67\n",
    "\n",
    "c = 9"
   ]
  },
  {
   "cell_type": "code",
   "execution_count": 40,
   "id": "f36619e0-64cf-4872-b86a-d927aaec1e7f",
   "metadata": {},
   "outputs": [
    {
     "name": "stdout",
     "output_type": "stream",
     "text": [
      "Sorted order: 9, 26, 67\n"
     ]
    }
   ],
   "source": [
    "if a <= b <= c:\n",
    "    print(f\"Sorted order: {a}, {b}, {c}\")\n",
    "elif a <= c <= b:\n",
    "    print(f\"Sorted order: {a}, {c}, {b}\")\n",
    "elif b <= a <= c:\n",
    "    print(f\"Sorted order: {b}, {a}, {c}\")\n",
    "elif b <= c <= a:\n",
    "    print(f\"Sorted order: {b}, {c}, {a}\")\n",
    "elif c <= a <= b:\n",
    "    print(f\"Sorted order: {c}, {a}, {b}\")\n",
    "else:\n",
    "    print(f\"Sorted order: {c}, {b}, {a}\")"
   ]
  },
  {
   "cell_type": "markdown",
   "id": "e247a6d6-be19-47d1-9de8-fafaae39ef0b",
   "metadata": {},
   "source": [
    "29. Build a program that determines the roots of a quartic equation using numerical methods."
   ]
  },
  {
   "cell_type": "code",
   "execution_count": 143,
   "id": "0794d477-7f15-4656-9237-4471d14c4d8c",
   "metadata": {},
   "outputs": [],
   "source": [
    "# ref.:https://www.geeksforgeeks.org/python-program-to-solve-quadratic-equation/"
   ]
  },
  {
   "cell_type": "code",
   "execution_count": 144,
   "id": "051e4846-16cf-4c1f-8994-ff40f0776fc5",
   "metadata": {},
   "outputs": [],
   "source": [
    "a = 10\n",
    "\n",
    "b = 19\n",
    "\n",
    "c = -24"
   ]
  },
  {
   "cell_type": "code",
   "execution_count": 145,
   "id": "127784c4-cc6b-44d0-9d24-91acee612574",
   "metadata": {},
   "outputs": [],
   "source": [
    "def equationroots( a, b, c):\n",
    " \n",
    "    # calculating discriminant using formula\n",
    "    dis = b * b - 4 * a * c\n",
    "    sqrt_val = math.sqrt(abs(dis))\n",
    "     \n",
    "    # checking condition for discriminant\n",
    "    if dis > 0:\n",
    "        print(\"real and different roots\")\n",
    "        print((-b + sqrt_val)/(2 * a))\n",
    "        print((-b - sqrt_val)/(2 * a))\n",
    "     \n",
    "    elif dis == 0:\n",
    "        print(\"real and same roots\")\n",
    "        print(-b / (2 * a))\n",
    "     \n",
    "    # when discriminant is less than 0\n",
    "    else:\n",
    "        print(\"Complex Roots\")\n",
    "        print(- b / (2 * a), + i, sqrt_val)\n",
    "        print(- b / (2 * a), - i, sqrt_val)"
   ]
  },
  {
   "cell_type": "code",
   "execution_count": 146,
   "id": "0a76e356-4192-4fd7-9ea4-c6c8e2c2b245",
   "metadata": {},
   "outputs": [
    {
     "name": "stdout",
     "output_type": "stream",
     "text": [
      "real and different roots\n",
      "0.8672781845386247\n",
      "-2.7672781845386245\n"
     ]
    }
   ],
   "source": [
    "equationroots(a, b, c)"
   ]
  },
  {
   "cell_type": "markdown",
   "id": "3e610962-dc11-469e-8240-2e1dae0e4dfc",
   "metadata": {},
   "source": [
    "30. Write a program that calculates the BMI (Body Mass Index) and provides health recommendations based\n",
    "on the user's input."
   ]
  },
  {
   "cell_type": "code",
   "execution_count": 41,
   "id": "cc5454b0-f56f-4f08-b887-7080712ecd01",
   "metadata": {},
   "outputs": [
    {
     "data": {
      "text/plain": [
       "64"
      ]
     },
     "execution_count": 41,
     "metadata": {},
     "output_type": "execute_result"
    }
   ],
   "source": [
    "weight = 64\n",
    "weight"
   ]
  },
  {
   "cell_type": "code",
   "execution_count": 42,
   "id": "1d471c64-9102-4eee-a71c-8d3761a2c1e3",
   "metadata": {},
   "outputs": [
    {
     "data": {
      "text/plain": [
       "1.75"
      ]
     },
     "execution_count": 42,
     "metadata": {},
     "output_type": "execute_result"
    }
   ],
   "source": [
    "height_cm = 175\n",
    "\n",
    "height_m = height_cm/100\n",
    "height_m"
   ]
  },
  {
   "cell_type": "code",
   "execution_count": 44,
   "id": "bda44d26-184a-471a-9feb-e2634f3cad4d",
   "metadata": {},
   "outputs": [
    {
     "data": {
      "text/plain": [
       "20.897959183673468"
      ]
     },
     "execution_count": 44,
     "metadata": {},
     "output_type": "execute_result"
    }
   ],
   "source": [
    "bmi = weight / (height_m ** 2)\n",
    "bmi"
   ]
  },
  {
   "cell_type": "code",
   "execution_count": 45,
   "id": "39593cf0-87a1-4510-9fa7-6fc8d93db909",
   "metadata": {},
   "outputs": [
    {
     "name": "stdout",
     "output_type": "stream",
     "text": [
      "You have a healthy weight.\n"
     ]
    }
   ],
   "source": [
    "if bmi < 18.5:\n",
    "    print(\"You are underweight.\")\n",
    "elif 18.5 <= bmi < 24.9:\n",
    "    print(\"You have a healthy weight.\")\n",
    "elif 25 <= bmi < 29.9:\n",
    "    print(\"You are overweight.\")\n",
    "else:\n",
    "    print(\"You are obese.\")"
   ]
  },
  {
   "cell_type": "code",
   "execution_count": null,
   "id": "c174e110-71a3-4134-82de-0eb8b9321b37",
   "metadata": {},
   "outputs": [],
   "source": []
  },
  {
   "cell_type": "code",
   "execution_count": null,
   "id": "c6bed72f-cf42-4c00-a41e-e963bc197e8e",
   "metadata": {},
   "outputs": [],
   "source": []
  },
  {
   "cell_type": "markdown",
   "id": "79c629ad-0071-41a7-b106-5a271ff36072",
   "metadata": {},
   "source": [
    "Challenge Level:"
   ]
  },
  {
   "cell_type": "markdown",
   "id": "4ff61dae-d37e-4e0c-b1e0-85b7f1593aae",
   "metadata": {},
   "source": [
    "31. Create a program that validates a password based on complexity rules (length, characters, etc.)."
   ]
  },
  {
   "cell_type": "code",
   "execution_count": 46,
   "id": "d3a6309d-f8f8-41a1-a502-f3901cff02a6",
   "metadata": {},
   "outputs": [
    {
     "data": {
      "text/plain": [
       "'\\nlength < 8,\\nit should have alphabet, upeer case, lower case both\\nit should have numeric\\nit should have special characters\\n'"
      ]
     },
     "execution_count": 60,
     "metadata": {},
     "output_type": "execute_result"
    }
   ],
   "source": [
    "# complexity rule: \n",
    "'''\n",
    "length < 8,\n",
    "it should have alphabet, upeer case, lower case both\n",
    "it should have numeric\n",
    "it should have special characters\n",
    "'''"
   ]
  },
  {
   "cell_type": "code",
   "execution_count": 47,
   "id": "e888d854-1365-493e-a02c-6dec622c265e",
   "metadata": {},
   "outputs": [
    {
     "data": {
      "text/plain": [
       "'Poiuyt@09*'"
      ]
     },
     "execution_count": 61,
     "metadata": {},
     "output_type": "execute_result"
    }
   ],
   "source": [
    "password = 'Poiuyt@09*'\n",
    "password"
   ]
  },
  {
   "cell_type": "code",
   "execution_count": 70,
   "id": "abf3004d-348d-4357-a142-bea645b6a772",
   "metadata": {},
   "outputs": [],
   "source": [
    "def is_valid_password(password):\n",
    "    if len(password) < 8:\n",
    "        return False\n",
    "    if not re.search(r'[A-Z]', password):\n",
    "        return False\n",
    "    if not re.search(r'[a-z]', password):\n",
    "        return False\n",
    "    if not re.search(r'[0-9]', password):\n",
    "        return False\n",
    "    if not re.search(r'[!@#$%^&*()_+{}:;<>,.?]', password):\n",
    "        return False\n",
    "    return True"
   ]
  },
  {
   "cell_type": "code",
   "execution_count": 71,
   "id": "0f4479b4-c8a3-457b-a6c4-fdca8860519c",
   "metadata": {},
   "outputs": [
    {
     "data": {
      "text/plain": [
       "True"
      ]
     },
     "execution_count": 71,
     "metadata": {},
     "output_type": "execute_result"
    }
   ],
   "source": [
    "is_valid_password(password= password)"
   ]
  },
  {
   "cell_type": "markdown",
   "id": "d0bffa78-8b98-4aba-b968-833383e8d6f1",
   "metadata": {},
   "source": [
    "32. Develop a program that performs matrix addition and subtraction based on user input."
   ]
  },
  {
   "cell_type": "code",
   "execution_count": 72,
   "id": "0e94dbb2-e65f-4278-a89f-f80ad5be9902",
   "metadata": {},
   "outputs": [
    {
     "data": {
      "text/plain": [
       "[[1, 2], [3, 4]]"
      ]
     },
     "execution_count": 72,
     "metadata": {},
     "output_type": "execute_result"
    }
   ],
   "source": [
    "matrix1 = [[1, 2], [3, 4]]\n",
    "matrix1"
   ]
  },
  {
   "cell_type": "code",
   "execution_count": 73,
   "id": "0c4fe08e-1d50-42ed-93b4-b296043c6b06",
   "metadata": {},
   "outputs": [
    {
     "data": {
      "text/plain": [
       "[[5, 6], [7, 8]]"
      ]
     },
     "execution_count": 73,
     "metadata": {},
     "output_type": "execute_result"
    }
   ],
   "source": [
    "matrix2 = [[5, 6], [7, 8]]\n",
    "matrix2"
   ]
  },
  {
   "cell_type": "code",
   "execution_count": 75,
   "id": "f04d8478-588a-485b-8082-686369745ac6",
   "metadata": {},
   "outputs": [
    {
     "name": "stdout",
     "output_type": "stream",
     "text": [
      "matrix addition: [[6, 8], [10, 12]]\n"
     ]
    }
   ],
   "source": [
    "# addition\n",
    "result = [[matrix1[i][j] + matrix2[i][j] for j in range(len(matrix1[0]))] for i in range(len(matrix1))]\n",
    "print('matrix addition:',result)"
   ]
  },
  {
   "cell_type": "code",
   "execution_count": 76,
   "id": "7ede556e-2e77-4be3-bd26-9db1dff03f91",
   "metadata": {},
   "outputs": [
    {
     "name": "stdout",
     "output_type": "stream",
     "text": [
      "matrix subtraction: [[-4, -4], [-4, -4]]\n"
     ]
    }
   ],
   "source": [
    "# sub\n",
    "result = [[matrix1[i][j] - matrix2[i][j] for j in range(len(matrix1[0]))] for i in range(len(matrix1))]\n",
    "print('matrix subtraction:',result)"
   ]
  },
  {
   "cell_type": "markdown",
   "id": "f378aafe-77fc-4600-9e10-b292c9e634e3",
   "metadata": {},
   "source": [
    "33. Write a program that calculates the greatest common divisor (GCD) of two numbers using the Euclidean\n",
    "algorithm."
   ]
  },
  {
   "cell_type": "code",
   "execution_count": 77,
   "id": "1799862e-9a63-416f-b1fa-9a7431256757",
   "metadata": {},
   "outputs": [],
   "source": [
    "#The Euclidean algorithm is a way to find the greatest common divisor of two positive integers, a and b. First let me show the computations for a=210 and b=45. Divide 210 by 45, and get the result 4 with remainder 30, so 210=4·45+30.\n",
    "\n",
    "#https://sites.math.rutgers.edu/~greenfie/gs2004/euclid.html#:~:text=The%20Euclidean%20algorithm%20is%20a,%3D4%C2%B745%2B30."
   ]
  },
  {
   "cell_type": "code",
   "execution_count": 78,
   "id": "cdba4dec-4177-4725-9175-b4a986b10727",
   "metadata": {},
   "outputs": [],
   "source": [
    "num1 = 210\n",
    "\n",
    "num2 = 45"
   ]
  },
  {
   "cell_type": "code",
   "execution_count": 83,
   "id": "2cb43f7d-6f8a-4077-a971-4d78b1b66e47",
   "metadata": {},
   "outputs": [],
   "source": [
    "# ref.https://www.geeksforgeeks.org/euclidean-algorithms-basic-and-extended/\n",
    "def gcd(a, b):\n",
    "    if a == 0:\n",
    "        return b\n",
    " \n",
    "    return gcd(b % a, a)"
   ]
  },
  {
   "cell_type": "code",
   "execution_count": 84,
   "id": "59b0f68a-88b5-40e3-a7fd-4f0ad6826d2a",
   "metadata": {},
   "outputs": [
    {
     "data": {
      "text/plain": [
       "15"
      ]
     },
     "execution_count": 84,
     "metadata": {},
     "output_type": "execute_result"
    }
   ],
   "source": [
    "gcd(num1, num2)"
   ]
  },
  {
   "cell_type": "markdown",
   "id": "dde4bf32-6d06-4a74-a000-975c8b6ae40c",
   "metadata": {},
   "source": [
    "34. Build a program that performs matrix multiplication using nested loops and conditional statements."
   ]
  },
  {
   "cell_type": "code",
   "execution_count": 85,
   "id": "b32fbbb0-1888-4403-86d0-178f2e87a691",
   "metadata": {},
   "outputs": [
    {
     "data": {
      "text/plain": [
       "[[1, 2], [3, 4]]"
      ]
     },
     "execution_count": 85,
     "metadata": {},
     "output_type": "execute_result"
    }
   ],
   "source": [
    "matrix1"
   ]
  },
  {
   "cell_type": "code",
   "execution_count": 86,
   "id": "221c8e8f-466f-4fc1-ab26-3b950e9a8a94",
   "metadata": {},
   "outputs": [
    {
     "data": {
      "text/plain": [
       "[[5, 6], [7, 8]]"
      ]
     },
     "execution_count": 86,
     "metadata": {},
     "output_type": "execute_result"
    }
   ],
   "source": [
    "matrix2"
   ]
  },
  {
   "cell_type": "code",
   "execution_count": 87,
   "id": "3f069fc5-b13a-4bc4-b6a2-8462e2cadaed",
   "metadata": {},
   "outputs": [
    {
     "name": "stdout",
     "output_type": "stream",
     "text": [
      "[[19, 22], [43, 50]]\n"
     ]
    }
   ],
   "source": [
    "result = [[0 for _ in range(len(matrix2[0]))] for _ in range(len(matrix1))]\n",
    "\n",
    "for i in range(len(matrix1)):\n",
    "    for j in range(len(matrix2[0])):\n",
    "        for k in range(len(matrix2)):\n",
    "            result[i][j] += matrix1[i][k] * matrix2[k][j]\n",
    "\n",
    "print(result)"
   ]
  },
  {
   "cell_type": "markdown",
   "id": "690353dd-6b00-49df-83cd-e32bf8ecf42e",
   "metadata": {},
   "source": [
    "35. Create a program that simulates a basic text-based tic-tac-toe game against the computer."
   ]
  },
  {
   "cell_type": "code",
   "execution_count": 147,
   "id": "07234e54-9a66-416f-85b6-7f3558bd4906",
   "metadata": {},
   "outputs": [],
   "source": [
    "# ref. https://www.geeksforgeeks.org/python-implementation-automatic-tic-tac-toe-game-using-random-number/"
   ]
  },
  {
   "cell_type": "code",
   "execution_count": 174,
   "id": "36f4aa1d-ce3c-4098-a863-a9ecd4ef74a4",
   "metadata": {},
   "outputs": [],
   "source": [
    "def print_board(board):\n",
    "    for row in board:\n",
    "        print(\" | \".join(row))\n",
    "        print(\"-\" * 9)"
   ]
  },
  {
   "cell_type": "code",
   "execution_count": 175,
   "id": "967dfe5f-d971-46ba-a2c6-59f48f2feed9",
   "metadata": {},
   "outputs": [],
   "source": [
    "def check_winner(board, player):\n",
    "    for row in board:\n",
    "        if all(cell == player for cell in row):\n",
    "            return True\n",
    "    for col in range(3):\n",
    "        if all(board[row][col] == player for row in range(3)):\n",
    "            return True\n",
    "    if all(board[i][i] == player for i in range(3)) or all(board[i][2 - i] == player for i in range(3)):\n",
    "        return True\n",
    "    return False"
   ]
  },
  {
   "cell_type": "code",
   "execution_count": 176,
   "id": "a8850a52-9ecf-4b4a-8f9c-74bbd3897258",
   "metadata": {},
   "outputs": [],
   "source": [
    "def is_full(board):\n",
    "    return all(cell != \" \" for row in board for cell in row)"
   ]
  },
  {
   "cell_type": "code",
   "execution_count": 180,
   "id": "48d400ae-2ef2-423c-9f44-ce99fda82731",
   "metadata": {},
   "outputs": [],
   "source": [
    "def player_move(board):\n",
    "    while True:\n",
    "        try:\n",
    "            row, col = map(int, input(\"Enter your move (row col): \").split())\n",
    "            if board[row][col] == \" \":\n",
    "                board[row][col] = \"X\"\n",
    "                return\n",
    "            else:\n",
    "                print(\"That cell is already occupied. Try again.\")\n",
    "        except (ValueError, IndexError):\n",
    "            print(\"Invalid input. Please enter row and column numbers ranges between (0-2), with space in between example 0 0\")\n"
   ]
  },
  {
   "cell_type": "code",
   "execution_count": 178,
   "id": "4af732cc-8fe9-4d15-94f6-6e2a7afbe543",
   "metadata": {},
   "outputs": [],
   "source": [
    "def computer_move(board):\n",
    "    while True:\n",
    "        row, col = random.randint(0, 2), random.randint(0, 2)\n",
    "        if board[row][col] == \" \":\n",
    "            board[row][col] = \"O\"\n",
    "            return"
   ]
  },
  {
   "cell_type": "code",
   "execution_count": 181,
   "id": "b8c690bd-8db5-45b5-9ec9-22afeeca53dd",
   "metadata": {},
   "outputs": [
    {
     "name": "stdout",
     "output_type": "stream",
     "text": [
      "Welcome to Tic-Tac-Toe!\n",
      "  |   |  \n",
      "---------\n",
      "  |   |  \n",
      "---------\n",
      "  |   |  \n",
      "---------\n"
     ]
    },
    {
     "name": "stdin",
     "output_type": "stream",
     "text": [
      "Enter your move (row col):  0 0\n"
     ]
    },
    {
     "name": "stdout",
     "output_type": "stream",
     "text": [
      "X |   |  \n",
      "---------\n",
      "  |   |  \n",
      "---------\n",
      "  |   |  \n",
      "---------\n",
      "Computer's turn:\n",
      "X |   | O\n",
      "---------\n",
      "  |   |  \n",
      "---------\n",
      "  |   |  \n",
      "---------\n"
     ]
    },
    {
     "name": "stdin",
     "output_type": "stream",
     "text": [
      "Enter your move (row col):  1 2\n"
     ]
    },
    {
     "name": "stdout",
     "output_type": "stream",
     "text": [
      "X |   | O\n",
      "---------\n",
      "  |   | X\n",
      "---------\n",
      "  |   |  \n",
      "---------\n",
      "Computer's turn:\n",
      "X |   | O\n",
      "---------\n",
      "  |   | X\n",
      "---------\n",
      "O |   |  \n",
      "---------\n"
     ]
    },
    {
     "name": "stdin",
     "output_type": "stream",
     "text": [
      "Enter your move (row col):  1 1\n"
     ]
    },
    {
     "name": "stdout",
     "output_type": "stream",
     "text": [
      "X |   | O\n",
      "---------\n",
      "  | X | X\n",
      "---------\n",
      "O |   |  \n",
      "---------\n",
      "Computer's turn:\n",
      "X |   | O\n",
      "---------\n",
      "  | X | X\n",
      "---------\n",
      "O |   | O\n",
      "---------\n"
     ]
    },
    {
     "name": "stdin",
     "output_type": "stream",
     "text": [
      "Enter your move (row col):  1 0\n"
     ]
    },
    {
     "name": "stdout",
     "output_type": "stream",
     "text": [
      "X |   | O\n",
      "---------\n",
      "X | X | X\n",
      "---------\n",
      "O |   | O\n",
      "---------\n",
      "You win!\n"
     ]
    }
   ],
   "source": [
    "board = [[\" \" for _ in range(3)] for _ in range(3)]\n",
    "print(\"Welcome to Tic-Tac-Toe!\")\n",
    "print_board(board)\n",
    "\n",
    "while True:\n",
    "    player_move(board)\n",
    "    print_board(board)\n",
    "    if check_winner(board, \"X\"):\n",
    "        print(\"You win!\")\n",
    "        break\n",
    "    if is_full(board):\n",
    "        print(\"It's a tie!\")\n",
    "        break\n",
    "\n",
    "    print(\"Computer's turn:\")\n",
    "    computer_move(board)\n",
    "    print_board(board)\n",
    "    if check_winner(board, \"O\"):\n",
    "        print(\"Computer wins!\")\n",
    "        break\n",
    "    if is_full(board):\n",
    "        print(\"It's a tie!\")\n",
    "        break"
   ]
  },
  {
   "cell_type": "markdown",
   "id": "bdde9572-8178-41cd-84ed-1530fee905ec",
   "metadata": {},
   "source": [
    "36. Write a program that generates Fibonacci numbers up to a specified term using iterative methods."
   ]
  },
  {
   "cell_type": "code",
   "execution_count": 101,
   "id": "a501c35f-4a0e-4c12-bfc4-f46cbe040e28",
   "metadata": {},
   "outputs": [
    {
     "data": {
      "text/plain": [
       "20"
      ]
     },
     "execution_count": 101,
     "metadata": {},
     "output_type": "execute_result"
    }
   ],
   "source": [
    "num1 = 20\n",
    "num1"
   ]
  },
  {
   "cell_type": "code",
   "execution_count": 102,
   "id": "2734886b-2d0f-4a30-b38d-eee58a94738e",
   "metadata": {},
   "outputs": [
    {
     "data": {
      "text/plain": [
       "[0,\n",
       " 1,\n",
       " 1,\n",
       " 2,\n",
       " 3,\n",
       " 5,\n",
       " 8,\n",
       " 13,\n",
       " 21,\n",
       " 34,\n",
       " 55,\n",
       " 89,\n",
       " 144,\n",
       " 233,\n",
       " 377,\n",
       " 610,\n",
       " 987,\n",
       " 1597,\n",
       " 2584,\n",
       " 4181]"
      ]
     },
     "execution_count": 102,
     "metadata": {},
     "output_type": "execute_result"
    }
   ],
   "source": [
    "fibonacci = [0, 1]\n",
    "while len(fibonacci) < num1:\n",
    "    next_value = fibonacci[-1] + fibonacci[-2]\n",
    "    fibonacci.append(next_value)\n",
    "\n",
    "fibonacci"
   ]
  },
  {
   "cell_type": "markdown",
   "id": "5cc97364-85ac-4642-acfa-e3563ee42d49",
   "metadata": {},
   "source": [
    "37. Develop a program that calculates the nth term of the Fibonacci sequence using memoization."
   ]
  },
  {
   "cell_type": "code",
   "execution_count": 118,
   "id": "e2fe9840-1534-4416-a68d-c2e011b4696d",
   "metadata": {},
   "outputs": [
    {
     "data": {
      "text/plain": [
       "20"
      ]
     },
     "execution_count": 118,
     "metadata": {},
     "output_type": "execute_result"
    }
   ],
   "source": [
    "num1"
   ]
  },
  {
   "cell_type": "code",
   "execution_count": 125,
   "id": "d3b77211-b196-4ccd-98fe-ace21c78c3bd",
   "metadata": {},
   "outputs": [],
   "source": [
    "def fibonacci_memo(n, memory={}):\n",
    "    if n in memory:\n",
    "        return memory[n]\n",
    "    if n == 0:\n",
    "        memory[n] = 0\n",
    "    if n  == 1:\n",
    "        memory[n] = 1\n",
    "    else:\n",
    "        memory[n] = fibonacci_memo(n - 1, memory) + fibonacci_memo(n - 2, memory)\n",
    "    return memory[n]"
   ]
  },
  {
   "cell_type": "code",
   "execution_count": 127,
   "id": "5b28182a-93f0-4772-86fb-62491c7007cb",
   "metadata": {},
   "outputs": [
    {
     "data": {
      "text/plain": [
       "[0,\n",
       " 1,\n",
       " 1,\n",
       " 2,\n",
       " 3,\n",
       " 5,\n",
       " 8,\n",
       " 13,\n",
       " 21,\n",
       " 34,\n",
       " 55,\n",
       " 89,\n",
       " 144,\n",
       " 233,\n",
       " 377,\n",
       " 610,\n",
       " 987,\n",
       " 1597,\n",
       " 2584,\n",
       " 4181]"
      ]
     },
     "execution_count": 127,
     "metadata": {},
     "output_type": "execute_result"
    }
   ],
   "source": [
    "fibonacci_sequence = [fibonacci_memo(i) for i in range(num1)]\n",
    "fibonacci_sequence"
   ]
  },
  {
   "cell_type": "markdown",
   "id": "9a3daebf-0934-4a2f-9d51-7e6559e73a83",
   "metadata": {},
   "source": [
    "38. Create a program that generates a calendar for a given month and year using conditional statements."
   ]
  },
  {
   "cell_type": "code",
   "execution_count": 111,
   "id": "fa71313c-25db-478f-9a0b-7eec4e72b21c",
   "metadata": {},
   "outputs": [],
   "source": [
    "year = 2023\n",
    "\n",
    "month = 9"
   ]
  },
  {
   "cell_type": "code",
   "execution_count": 112,
   "id": "eeafff1f-87c2-4a4f-862a-cf201cf7e116",
   "metadata": {},
   "outputs": [],
   "source": [
    "def is_leap_year(year):\n",
    "    return (year % 4 == 0 and year % 100 != 0) or (year % 400 == 0)"
   ]
  },
  {
   "cell_type": "code",
   "execution_count": 113,
   "id": "4064098a-4886-4444-ad7f-6f51f9a49eab",
   "metadata": {},
   "outputs": [],
   "source": [
    "def get_starting_day(year, month):\n",
    "    days_in_month = [0, 31, 28, 31, 30, 31, 30, 31, 31, 30, 31, 30, 31]\n",
    "    if is_leap_year(year):\n",
    "        days_in_month[2] = 29\n",
    "    total_days = sum(days_in_month[:month])\n",
    "    return (year + total_days + (year - 1) // 4 - (year - 1) // 100 + (year - 1) // 400) % 7"
   ]
  },
  {
   "cell_type": "code",
   "execution_count": 116,
   "id": "e0f6dea6-3477-4e85-9083-c3b3642ca59f",
   "metadata": {},
   "outputs": [],
   "source": [
    "def generate_calendar(year, month):\n",
    "    days_in_month = [0, 31, 28, 31, 30, 31, 30, 31, 31, 30, 31, 30, 31]\n",
    "    if is_leap_year(year):\n",
    "        days_in_month[2] = 29\n",
    "\n",
    "    starting_day = get_starting_day(year, month)\n",
    "    month_name = [\"\", \"January\", \"February\", \"March\", \"April\", \"May\", \"June\", \"July\", \"August\", \"September\", \"October\", \"November\", \"December\"]\n",
    "    \n",
    "    print(f\"{month_name[month]} {year}\")\n",
    "    print(\"Mo Tu We Th Fr Sa Su\")\n",
    "\n",
    "    current_day = 1\n",
    "    for _ in range(starting_day):\n",
    "        print(\"   \", end=\"\")\n",
    "    for day in range(1, days_in_month[month] + 1):\n",
    "        print(f\"{day:2d} \", end=\"\")\n",
    "        if (day + starting_day) % 7 == 0 or day == days_in_month[month]:\n",
    "            print()"
   ]
  },
  {
   "cell_type": "code",
   "execution_count": 117,
   "id": "a09ea808-05d4-4f7c-961f-3fd9db000620",
   "metadata": {},
   "outputs": [
    {
     "name": "stdout",
     "output_type": "stream",
     "text": [
      "September 2023\n",
      "Mo Tu We Th Fr Sa Su\n",
      "                1  2 \n",
      " 3  4  5  6  7  8  9 \n",
      "10 11 12 13 14 15 16 \n",
      "17 18 19 20 21 22 23 \n",
      "24 25 26 27 28 29 30 \n"
     ]
    }
   ],
   "source": [
    "generate_calendar(year = year, month= month)"
   ]
  },
  {
   "cell_type": "markdown",
   "id": "ae057661-b49b-4822-aebf-75bdc5227937",
   "metadata": {},
   "source": [
    "39. Build a program that simulates a basic text-based blackjack game against the computer."
   ]
  },
  {
   "cell_type": "code",
   "execution_count": 182,
   "id": "1a622396-a0bc-4c53-ba2a-95e2851fc16f",
   "metadata": {},
   "outputs": [],
   "source": [
    "# ref. https://www.geeksforgeeks.org/blackjack-console-game-using-python/"
   ]
  },
  {
   "cell_type": "code",
   "execution_count": 185,
   "id": "075d7e19-b8bd-4a54-ad12-d684715c3637",
   "metadata": {},
   "outputs": [
    {
     "data": {
      "text/plain": [
       "['Hearts', 'Diamonds', 'Clubs', 'Spades']"
      ]
     },
     "execution_count": 185,
     "metadata": {},
     "output_type": "execute_result"
    }
   ],
   "source": [
    "suits = \"Hearts Diamonds Clubs Spades\".split()\n",
    "suits"
   ]
  },
  {
   "cell_type": "code",
   "execution_count": 186,
   "id": "ddcae53c-9bb8-40a7-b16b-1fdcc99c4e6b",
   "metadata": {},
   "outputs": [
    {
     "data": {
      "text/plain": [
       "['2', '3', '4', '5', '6', '7', '8', '9', '10', 'J', 'Q', 'K', 'A']"
      ]
     },
     "execution_count": 186,
     "metadata": {},
     "output_type": "execute_result"
    }
   ],
   "source": [
    "ranks = \"2 3 4 5 6 7 8 9 10 J Q K A\".split()\n",
    "ranks"
   ]
  },
  {
   "cell_type": "code",
   "execution_count": 189,
   "id": "186bb0df-0d53-4f24-8eff-7dfc886fcdc6",
   "metadata": {},
   "outputs": [],
   "source": [
    "# init moves\n",
    "player = []\n",
    "dealer = []"
   ]
  },
  {
   "cell_type": "code",
   "execution_count": 183,
   "id": "d8ce3335-a009-47fe-82e6-40dc1ea0379b",
   "metadata": {},
   "outputs": [],
   "source": [
    "def calculate_value(hand):\n",
    "    value = 0\n",
    "    num_aces = 0\n",
    "\n",
    "    for card in hand:\n",
    "        if card in \"2 3 4 5 6 7 8 9 10\".split():\n",
    "            value += int(card)\n",
    "        elif card in \"J Q K\".split():\n",
    "            value += 10\n",
    "        elif card == \"A\":\n",
    "            num_aces += 1\n",
    "            value += 11\n",
    "\n",
    "    # aces\n",
    "    while num_aces > 0 and value > 21:\n",
    "        value -= 10\n",
    "        num_aces -= 1\n",
    "\n",
    "    return value"
   ]
  },
  {
   "cell_type": "code",
   "execution_count": 184,
   "id": "b2632f8e-3060-4a7e-9769-ff4740e5dada",
   "metadata": {},
   "outputs": [],
   "source": [
    "# display current state\n",
    "def display_game(player, dealer):\n",
    "    print(\"\\nPlayer's Move:\", player, \"Value:\", calculate_value(player))\n",
    "    print(\"Dealer's Move:\", dealer[0], \"Value: ?\\n\")"
   ]
  },
  {
   "cell_type": "code",
   "execution_count": 201,
   "id": "a75741c4-c50d-4cbc-aa96-845509dffbb0",
   "metadata": {},
   "outputs": [
    {
     "data": {
      "text/plain": [
       "['2 of Hearts',\n",
       " '3 of Hearts',\n",
       " '4 of Hearts',\n",
       " '5 of Hearts',\n",
       " '6 of Hearts',\n",
       " '7 of Hearts',\n",
       " '8 of Hearts',\n",
       " '9 of Hearts',\n",
       " '10 of Hearts',\n",
       " 'J of Hearts',\n",
       " 'Q of Hearts',\n",
       " 'K of Hearts',\n",
       " 'A of Hearts',\n",
       " '2 of Diamonds',\n",
       " '3 of Diamonds',\n",
       " '4 of Diamonds',\n",
       " '5 of Diamonds',\n",
       " '6 of Diamonds',\n",
       " '7 of Diamonds',\n",
       " '8 of Diamonds',\n",
       " '9 of Diamonds',\n",
       " '10 of Diamonds',\n",
       " 'J of Diamonds',\n",
       " 'Q of Diamonds',\n",
       " 'K of Diamonds',\n",
       " 'A of Diamonds',\n",
       " '2 of Clubs',\n",
       " '3 of Clubs',\n",
       " '4 of Clubs',\n",
       " '5 of Clubs',\n",
       " '6 of Clubs',\n",
       " '7 of Clubs',\n",
       " '8 of Clubs',\n",
       " '9 of Clubs',\n",
       " '10 of Clubs',\n",
       " 'J of Clubs',\n",
       " 'Q of Clubs',\n",
       " 'K of Clubs',\n",
       " 'A of Clubs',\n",
       " '2 of Spades',\n",
       " '3 of Spades',\n",
       " '4 of Spades',\n",
       " '5 of Spades',\n",
       " '6 of Spades',\n",
       " '7 of Spades',\n",
       " '8 of Spades',\n",
       " '9 of Spades',\n",
       " '10 of Spades',\n",
       " 'J of Spades',\n",
       " 'Q of Spades',\n",
       " 'K of Spades',\n",
       " 'A of Spades']"
      ]
     },
     "execution_count": 201,
     "metadata": {},
     "output_type": "execute_result"
    }
   ],
   "source": [
    "deck = [rank + \" of \" + suit for suit in suits for rank in ranks]\n",
    "deck"
   ]
  },
  {
   "cell_type": "code",
   "execution_count": 202,
   "id": "a06f0f19-a96e-46ef-a284-c2ac0020d20d",
   "metadata": {},
   "outputs": [],
   "source": [
    "random.shuffle(deck)"
   ]
  },
  {
   "cell_type": "code",
   "execution_count": 203,
   "id": "ce68d7ff-d8c7-47b7-b00f-e9fa773d417f",
   "metadata": {},
   "outputs": [],
   "source": [
    "# picking initial cards\n",
    "player.append(deck.pop())\n",
    "dealer.append(deck.pop())\n",
    "player.append(deck.pop())\n",
    "dealer.append(deck.pop())"
   ]
  },
  {
   "cell_type": "code",
   "execution_count": 204,
   "id": "8294d8e5-9317-4b64-8a2d-57503b9df1e8",
   "metadata": {},
   "outputs": [
    {
     "name": "stdout",
     "output_type": "stream",
     "text": [
      "\n",
      "Player's Move: ['10 of Clubs', '2 of Diamonds', '4 of Clubs', '3 of Spades', 'K of Spades', 'J of Spades', '4 of Spades', 'K of Diamonds'] Value: 0\n",
      "Dealer's Move: 2 of Clubs Value: ?\n",
      "\n"
     ]
    },
    {
     "name": "stdin",
     "output_type": "stream",
     "text": [
      "Do you want to hit or stand?  hit\n"
     ]
    },
    {
     "name": "stdout",
     "output_type": "stream",
     "text": [
      "\n",
      "Player's Move: ['10 of Clubs', '2 of Diamonds', '4 of Clubs', '3 of Spades', 'K of Spades', 'J of Spades', '4 of Spades', 'K of Diamonds', 'A of Clubs'] Value: 0\n",
      "Dealer's Move: 2 of Clubs Value: ?\n",
      "\n"
     ]
    },
    {
     "name": "stdin",
     "output_type": "stream",
     "text": [
      "Do you want to hit or stand?  stand\n"
     ]
    },
    {
     "name": "stdout",
     "output_type": "stream",
     "text": [
      "\n",
      "Player's Move: ['10 of Clubs', '2 of Diamonds', '4 of Clubs', '3 of Spades', 'K of Spades', 'J of Spades', '4 of Spades', 'K of Diamonds', 'A of Clubs'] Value: 0\n",
      "Dealer's Move: 2 of Clubs Value: ?\n",
      "\n",
      "Dealer wins!\n"
     ]
    }
   ],
   "source": [
    "while True:\n",
    "    display_game(player, dealer)\n",
    "\n",
    "    # check for player blackjack or bust\n",
    "    if calculate_value(player) == 21:\n",
    "        print(\"Player has Blackjack! You win!\")\n",
    "        break\n",
    "    elif calculate_value(player) > 21:\n",
    "        print(\"Player busts! Dealer wins.\")\n",
    "        break\n",
    "\n",
    "    # input the player for their move\n",
    "    choice = input(\"Do you want to hit or stand? \").lower()\n",
    "\n",
    "    if choice == \"hit\":\n",
    "        player.append(deck.pop())\n",
    "    elif choice == \"stand\":\n",
    "        # dealer move\n",
    "        while calculate_value(dealer) < 17:\n",
    "            if not deck:\n",
    "                break\n",
    "            dealer.append(deck.pop())\n",
    "\n",
    "        display_game(player, dealer)\n",
    "\n",
    "        # check the winner\n",
    "        if calculate_value(dealer) > 21:\n",
    "            print(\"Dealer busts! You win!\")\n",
    "        elif calculate_value(dealer) >= calculate_value(player):\n",
    "            print(\"Dealer wins!\")\n",
    "        else:\n",
    "            print(\"You win!\")\n",
    "\n",
    "        break\n",
    "    else:\n",
    "        print(\"Invalid choice. Please enter 'hit' or 'stand'.\")\n",
    "\n",
    "    # player blackjack check\n",
    "    if calculate_value(player) == 21:\n",
    "        print(\"Player has Blackjack! You win!\")\n",
    "        break\n",
    "    elif calculate_value(player) > 21:\n",
    "        print(\"Player busts! Dealer wins.\")\n",
    "        break"
   ]
  },
  {
   "cell_type": "code",
   "execution_count": null,
   "id": "fafb7ad2-cdfe-4ac9-a921-2c45386a562f",
   "metadata": {},
   "outputs": [],
   "source": []
  },
  {
   "cell_type": "markdown",
   "id": "f82799e9-f3ba-4f31-bdb3-1c8cf44fc9f4",
   "metadata": {},
   "source": [
    "40. Write a program that generates the prime factors of a given number using trial division."
   ]
  },
  {
   "cell_type": "code",
   "execution_count": 95,
   "id": "4f68d339-61e0-4073-b76c-98bd31b8cf3f",
   "metadata": {},
   "outputs": [],
   "source": [
    "num1 = 210"
   ]
  },
  {
   "cell_type": "code",
   "execution_count": 96,
   "id": "73d48a16-5286-4793-a113-3b6ddfb7e75d",
   "metadata": {},
   "outputs": [],
   "source": [
    "def prime_factors(n):\n",
    "    factors = []\n",
    "    divisor = 2\n",
    "\n",
    "    while n > 1:\n",
    "        while n % divisor == 0:\n",
    "            factors.append(divisor)\n",
    "            n //= divisor\n",
    "        divisor += 1\n",
    "\n",
    "    return factors"
   ]
  },
  {
   "cell_type": "code",
   "execution_count": 97,
   "id": "a5083500-d3de-4c25-bdac-eda61be252da",
   "metadata": {},
   "outputs": [
    {
     "data": {
      "text/plain": [
       "[2, 3, 5, 7]"
      ]
     },
     "execution_count": 97,
     "metadata": {},
     "output_type": "execute_result"
    }
   ],
   "source": [
    "prime_factors(num1)"
   ]
  },
  {
   "cell_type": "code",
   "execution_count": null,
   "id": "32769aa3-7212-46b8-8d03-1a7186f2142c",
   "metadata": {},
   "outputs": [],
   "source": []
  }
 ],
 "metadata": {
  "kernelspec": {
   "display_name": "Python 3 (ipykernel)",
   "language": "python",
   "name": "python3"
  },
  "language_info": {
   "codemirror_mode": {
    "name": "ipython",
    "version": 3
   },
   "file_extension": ".py",
   "mimetype": "text/x-python",
   "name": "python",
   "nbconvert_exporter": "python",
   "pygments_lexer": "ipython3",
   "version": "3.10.8"
  }
 },
 "nbformat": 4,
 "nbformat_minor": 5
}
