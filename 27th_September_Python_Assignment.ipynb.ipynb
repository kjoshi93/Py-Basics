{
 "cells": [
  {
   "cell_type": "markdown",
   "id": "e229eaaf-f965-4b7a-83b9-f9495360e181",
   "metadata": {},
   "source": [
    "For Loop :-\n",
    "1. Write a Python program to print numbers from 1 to 10 using a for loop.\n",
    "2. Explain the difference between a for loop and a while loop in Python.\n",
    "3. Write a Python program to calculate the sum of all numbers from 1 to 100 using a for loop.\n",
    "4. How do you iterate through a list using a for loop in Python?\n",
    "5. Write a Python program to find the product of all elements in a list using a for loop.\n",
    "6. Create a Python program that prints all even numbers from 1 to 20 using a for loop.\n",
    "7. Write a Python program that calculates the factorial of a number using a for loop.\n",
    "8. How can you iterate through the characters of a string using a for loop in Python?\n",
    "9. Write a Python program to find the largest number in a list using a for loop.\n",
    "10. Create a Python program that prints the Fibonacci sequence up to a specified limit using a for\n",
    "loop.\n",
    "11. Write a Python program to count the number of vowels in a given string using a for loop.\n",
    "12. Create a Python program that generates a multiplication table for a given number using a for\n",
    "loop.\n",
    "13. Write a Python program to reverse a list using a for loop.\n",
    "14. Write a Python program to find the common elements between two lists using a for loop.\n",
    "15. Explain how to use a for loop to iterate through the keys and values of a dictionary in Python.\n",
    "16. Write a Python program to find the GCD (Greatest Common Divisor) of two numbers using a for\n",
    "loop.\n",
    "17. Create a Python program that checks if a string is a palindrome using a for loop.\n",
    "18. Write a Python program to remove duplicates from a list using a for loop.\n",
    "19. Create a Python program that counts the number of words in a sentence using a for loop.\n",
    "20. Write a Python program to find the sum of all odd numbers from 1 to 50 using a for loop.\n",
    "21. Write a Python program that checks if a given year is a leap year using a for loop.\n",
    "22. Create a Python program that calculates the square root of a number using a for loop.\n",
    "23. Write a Python program to find the LCM (Least Common Multiple) of two numbers using a for\n",
    "loop"
   ]
  },
  {
   "cell_type": "markdown",
   "id": "8e15788c-beac-427d-8e0d-820702cee503",
   "metadata": {},
   "source": [
    "P1."
   ]
  },
  {
   "cell_type": "code",
   "execution_count": 1,
   "id": "ec528127-9d5f-4141-b28a-23429c9ea3f3",
   "metadata": {},
   "outputs": [
    {
     "name": "stdout",
     "output_type": "stream",
     "text": [
      "1\n",
      "2\n",
      "3\n",
      "4\n",
      "5\n",
      "6\n",
      "7\n",
      "8\n",
      "9\n",
      "10\n"
     ]
    }
   ],
   "source": [
    "for i in range(1, 11):\n",
    "    print(i)\n"
   ]
  },
  {
   "cell_type": "markdown",
   "id": "1c97b817-31db-4baf-b234-444f1cfd5336",
   "metadata": {},
   "source": [
    "P2."
   ]
  },
  {
   "cell_type": "code",
   "execution_count": 2,
   "id": "e7313c29-7a1c-40f2-b7b7-b33a51da2e14",
   "metadata": {},
   "outputs": [
    {
     "data": {
      "text/plain": [
       "'The main difference is that a for loop is used for a specific number of iterations, whereas a while loop is used for an unknown number of iterations until a certain condition is met.'"
      ]
     },
     "execution_count": 2,
     "metadata": {},
     "output_type": "execute_result"
    }
   ],
   "source": [
    "\"\"\"The main difference is that a for loop is used for a specific number of iterations, whereas a while loop is used for an unknown number of iterations until a certain condition is met.\"\"\""
   ]
  },
  {
   "cell_type": "markdown",
   "id": "2073d0e8-d65e-4f60-8ab6-1f0213243604",
   "metadata": {},
   "source": [
    "P3."
   ]
  },
  {
   "cell_type": "code",
   "execution_count": 3,
   "id": "2ee74505-111e-4bdc-b8c4-ae2be91bb5a4",
   "metadata": {},
   "outputs": [
    {
     "name": "stdout",
     "output_type": "stream",
     "text": [
      "Sum: 5050\n"
     ]
    }
   ],
   "source": [
    "total = 0\n",
    "for i in range(1, 101):\n",
    "    total += i\n",
    "print(\"Sum:\", total)\n"
   ]
  },
  {
   "cell_type": "markdown",
   "id": "a7c404a8-513c-4494-94fb-b2b4d3ced923",
   "metadata": {},
   "source": [
    "P4."
   ]
  },
  {
   "cell_type": "code",
   "execution_count": 4,
   "id": "9686f55b-a7f1-4396-8e68-9f25a61774b8",
   "metadata": {},
   "outputs": [
    {
     "data": {
      "text/plain": [
       "[1, 2, 3, 4, 5]"
      ]
     },
     "execution_count": 4,
     "metadata": {},
     "output_type": "execute_result"
    }
   ],
   "source": [
    "temp_list = [1, 2, 3, 4, 5]\n",
    "temp_list"
   ]
  },
  {
   "cell_type": "code",
   "execution_count": 6,
   "id": "b267f1d5-be6c-4b1d-848a-01af490318c3",
   "metadata": {},
   "outputs": [
    {
     "name": "stdout",
     "output_type": "stream",
     "text": [
      "1\n",
      "2\n",
      "3\n",
      "4\n",
      "5\n"
     ]
    }
   ],
   "source": [
    "for item in temp_list:\n",
    "    print(item)"
   ]
  },
  {
   "cell_type": "markdown",
   "id": "2b5518b2-e22d-4892-8d61-36eac95ddc6b",
   "metadata": {},
   "source": [
    "P5."
   ]
  },
  {
   "cell_type": "code",
   "execution_count": 8,
   "id": "4f1dfc4c-1109-4f86-8328-7ca261de602c",
   "metadata": {},
   "outputs": [
    {
     "name": "stdout",
     "output_type": "stream",
     "text": [
      "Product: 120\n"
     ]
    }
   ],
   "source": [
    "product = 1\n",
    "for num in temp_list:\n",
    "    product *= num\n",
    "print(\"Product:\", product)"
   ]
  },
  {
   "cell_type": "markdown",
   "id": "ff9b60ee-647a-4016-8573-851993972ed8",
   "metadata": {},
   "source": [
    "P6."
   ]
  },
  {
   "cell_type": "code",
   "execution_count": 9,
   "id": "e7b054f2-5cf7-46e2-a355-eafba2ddbff6",
   "metadata": {},
   "outputs": [
    {
     "name": "stdout",
     "output_type": "stream",
     "text": [
      "2\n",
      "4\n",
      "6\n",
      "8\n",
      "10\n",
      "12\n",
      "14\n",
      "16\n",
      "18\n",
      "20\n"
     ]
    }
   ],
   "source": [
    "for i in range(2, 21, 2):\n",
    "    print(i)\n"
   ]
  },
  {
   "cell_type": "markdown",
   "id": "ccbbad08-e4a9-4c2f-9b2e-456b21b16c7a",
   "metadata": {},
   "source": [
    "P7."
   ]
  },
  {
   "cell_type": "code",
   "execution_count": 10,
   "id": "1d79071c-16b9-460d-8bd8-de265a3b361f",
   "metadata": {},
   "outputs": [
    {
     "name": "stdout",
     "output_type": "stream",
     "text": [
      "Factorial of 5 is 120\n"
     ]
    }
   ],
   "source": [
    "n = 5\n",
    "factorial = 1\n",
    "for i in range(1, n + 1):\n",
    "    factorial *= i\n",
    "print(\"Factorial of\", n, \"is\", factorial)\n"
   ]
  },
  {
   "cell_type": "markdown",
   "id": "abd0bc33-ec65-4d17-84d5-516f7afea630",
   "metadata": {},
   "source": [
    "P8."
   ]
  },
  {
   "cell_type": "code",
   "execution_count": 11,
   "id": "8eefab72-506e-44ce-9612-967eca94bff5",
   "metadata": {},
   "outputs": [
    {
     "name": "stdout",
     "output_type": "stream",
     "text": [
      "H\n",
      "e\n",
      "l\n",
      "l\n",
      "o\n"
     ]
    }
   ],
   "source": [
    "my_string = \"Hello\"\n",
    "for char in my_string:\n",
    "    print(char)\n"
   ]
  },
  {
   "cell_type": "markdown",
   "id": "a3540eac-a0e6-4f59-a13b-0cc831117bcb",
   "metadata": {},
   "source": [
    "P9."
   ]
  },
  {
   "cell_type": "code",
   "execution_count": 12,
   "id": "7f453be9-0034-4910-be28-ddac66f89e98",
   "metadata": {},
   "outputs": [
    {
     "name": "stdout",
     "output_type": "stream",
     "text": [
      "Largest: 9\n"
     ]
    }
   ],
   "source": [
    "my_list = [3, 7, 1, 9, 5]\n",
    "largest = my_list[0]\n",
    "for num in my_list:\n",
    "    if num > largest:\n",
    "        largest = num\n",
    "print(\"Largest:\", largest)\n"
   ]
  },
  {
   "cell_type": "markdown",
   "id": "5b1dfdcb-de93-4303-833c-424cd164e5b9",
   "metadata": {},
   "source": [
    "P10."
   ]
  },
  {
   "cell_type": "code",
   "execution_count": 13,
   "id": "2a208207-6ea9-48a3-98f2-e2943e6644b4",
   "metadata": {},
   "outputs": [
    {
     "name": "stdout",
     "output_type": "stream",
     "text": [
      "0 1 1 2 3 5 8 13 21 34 "
     ]
    }
   ],
   "source": [
    "limit = 10\n",
    "a, b = 0, 1\n",
    "for i in range(limit):\n",
    "    print(a, end=\" \")\n",
    "    a, b = b, a + b\n"
   ]
  },
  {
   "cell_type": "markdown",
   "id": "ee22294b-7a9c-433b-9090-bbae510cc26f",
   "metadata": {},
   "source": [
    "P11."
   ]
  },
  {
   "cell_type": "code",
   "execution_count": 14,
   "id": "1f903a1d-928e-4dd2-85e0-dc27296376aa",
   "metadata": {},
   "outputs": [
    {
     "data": {
      "text/plain": [
       "'Hello, World!'"
      ]
     },
     "execution_count": 14,
     "metadata": {},
     "output_type": "execute_result"
    }
   ],
   "source": [
    "input_string = \"Hello, World!\"\n",
    "input_string"
   ]
  },
  {
   "cell_type": "code",
   "execution_count": 15,
   "id": "4d630328-a208-4719-a463-749577ba0bfe",
   "metadata": {},
   "outputs": [
    {
     "data": {
      "text/plain": [
       "'AEIOUaeiou'"
      ]
     },
     "execution_count": 15,
     "metadata": {},
     "output_type": "execute_result"
    }
   ],
   "source": [
    "vowels = \"AEIOUaeiou\"\n",
    "vowels"
   ]
  },
  {
   "cell_type": "code",
   "execution_count": 17,
   "id": "41dee6a9-7066-4a17-af07-7ceb517a9781",
   "metadata": {},
   "outputs": [
    {
     "name": "stdout",
     "output_type": "stream",
     "text": [
      "Number of vowels: 3\n"
     ]
    }
   ],
   "source": [
    "count = 0\n",
    "\n",
    "for char in input_string:\n",
    "    if char in vowels:\n",
    "        count += 1\n",
    "\n",
    "print(\"Number of vowels:\", count)"
   ]
  },
  {
   "cell_type": "markdown",
   "id": "3b725f02-0811-41f6-bfd2-d39a1ad04490",
   "metadata": {},
   "source": [
    "P12."
   ]
  },
  {
   "cell_type": "code",
   "execution_count": 18,
   "id": "6320ebf8-783e-49eb-8dd6-698ca400f241",
   "metadata": {},
   "outputs": [
    {
     "name": "stdout",
     "output_type": "stream",
     "text": [
      "5 x 1 = 5\n",
      "5 x 2 = 10\n",
      "5 x 3 = 15\n",
      "5 x 4 = 20\n",
      "5 x 5 = 25\n",
      "5 x 6 = 30\n",
      "5 x 7 = 35\n",
      "5 x 8 = 40\n",
      "5 x 9 = 45\n",
      "5 x 10 = 50\n"
     ]
    }
   ],
   "source": [
    "number = 5\n",
    "\n",
    "for i in range(1, 11):\n",
    "    result = number * i\n",
    "    print(f\"{number} x {i} = {result}\")"
   ]
  },
  {
   "cell_type": "markdown",
   "id": "d7c3fbd2-1d11-460b-9e65-03692b5ce183",
   "metadata": {},
   "source": [
    "P13."
   ]
  },
  {
   "cell_type": "code",
   "execution_count": 20,
   "id": "b516903f-dd30-445e-946e-ac9f459c11f0",
   "metadata": {},
   "outputs": [
    {
     "data": {
      "text/plain": [
       "[1, 2, 3, 4, 5]"
      ]
     },
     "execution_count": 20,
     "metadata": {},
     "output_type": "execute_result"
    }
   ],
   "source": [
    "my_list = [1, 2, 3, 4, 5]\n",
    "my_list"
   ]
  },
  {
   "cell_type": "code",
   "execution_count": 21,
   "id": "1554fb67-f659-428e-a7cb-fb1cbc9675dc",
   "metadata": {},
   "outputs": [
    {
     "name": "stdout",
     "output_type": "stream",
     "text": [
      "Reversed List: [5, 4, 3, 2, 1]\n"
     ]
    }
   ],
   "source": [
    "reversed_list = []\n",
    "\n",
    "for i in range(len(my_list) - 1, -1, -1):\n",
    "    reversed_list.append(my_list[i])\n",
    "\n",
    "print(\"Reversed List:\", reversed_list)\n"
   ]
  },
  {
   "cell_type": "markdown",
   "id": "2672dfe3-630d-43f1-8a3a-d68eb96efc78",
   "metadata": {},
   "source": [
    "P14."
   ]
  },
  {
   "cell_type": "code",
   "execution_count": 22,
   "id": "84b4eead-e469-4207-9969-4c22c2d51bbc",
   "metadata": {},
   "outputs": [
    {
     "name": "stdout",
     "output_type": "stream",
     "text": [
      "Common Elements: [3, 4, 5]\n"
     ]
    }
   ],
   "source": [
    "list1 = [1, 2, 3, 4, 5]\n",
    "list2 = [3, 4, 5, 6, 7]\n",
    "common_elements = []\n",
    "\n",
    "for item in list1:\n",
    "    if item in list2:\n",
    "        common_elements.append(item)\n",
    "\n",
    "print(\"Common Elements:\", common_elements)\n"
   ]
  },
  {
   "cell_type": "markdown",
   "id": "4fa04d46-b583-43c2-8576-dad2504f3186",
   "metadata": {},
   "source": [
    "P15."
   ]
  },
  {
   "cell_type": "code",
   "execution_count": 23,
   "id": "b761fea8-b835-4152-919f-040dd2406c6d",
   "metadata": {},
   "outputs": [
    {
     "name": "stdout",
     "output_type": "stream",
     "text": [
      "Key: name, Value: John\n",
      "Key: age, Value: 30\n",
      "Key: city, Value: New York\n"
     ]
    }
   ],
   "source": [
    "my_dict = {\"name\": \"John\", \"age\": 30, \"city\": \"New York\"}\n",
    "\n",
    "for key, value in my_dict.items():\n",
    "    print(f\"Key: {key}, Value: {value}\")\n"
   ]
  },
  {
   "cell_type": "markdown",
   "id": "6291e717-6130-47e8-9ebd-4720755c80f8",
   "metadata": {},
   "source": [
    "P16."
   ]
  },
  {
   "cell_type": "code",
   "execution_count": 25,
   "id": "4d38ac71-f09c-463f-bfe9-c83ad350b17f",
   "metadata": {},
   "outputs": [],
   "source": [
    "def gcd(x, y):\n",
    "    if x < y:\n",
    "        x, y = y, x\n",
    "\n",
    "    for i in range(y, 0, -1):\n",
    "        if x % i == 0 and y % i == 0:\n",
    "            return i\n"
   ]
  },
  {
   "cell_type": "code",
   "execution_count": 26,
   "id": "442eb303-45d7-4974-a846-fa11b4f2b140",
   "metadata": {},
   "outputs": [
    {
     "name": "stdout",
     "output_type": "stream",
     "text": [
      "GCD: 6\n"
     ]
    }
   ],
   "source": [
    "num1 = 48\n",
    "num2 = 18\n",
    "result = gcd(num1, num2)\n",
    "print(\"GCD:\", result)"
   ]
  },
  {
   "cell_type": "markdown",
   "id": "fcf51b1f-71fa-4c21-aa94-edc92e0581a3",
   "metadata": {},
   "source": [
    "P17."
   ]
  },
  {
   "cell_type": "code",
   "execution_count": 27,
   "id": "34b948fa-6e73-4164-bf85-a5b0d14f15eb",
   "metadata": {},
   "outputs": [
    {
     "name": "stdout",
     "output_type": "stream",
     "text": [
      "Palindrome\n"
     ]
    }
   ],
   "source": [
    "input_string = \"racecar\"\n",
    "is_palindrome = True\n",
    "\n",
    "for i in range(len(input_string) // 2):\n",
    "    if input_string[i] != input_string[-(i + 1)]:\n",
    "        is_palindrome = False\n",
    "        break\n",
    "\n",
    "if is_palindrome:\n",
    "    print(\"Palindrome\")\n",
    "else:\n",
    "    print(\"Not a Palindrome\")\n"
   ]
  },
  {
   "cell_type": "markdown",
   "id": "dbef0aed-00d3-4899-8df0-a9a6c9207760",
   "metadata": {},
   "source": [
    "P18."
   ]
  },
  {
   "cell_type": "code",
   "execution_count": 28,
   "id": "79e38898-d20a-4086-ae0d-50661f9c477b",
   "metadata": {},
   "outputs": [
    {
     "data": {
      "text/plain": [
       "[1, 2, 2, 3, 4, 4, 5]"
      ]
     },
     "execution_count": 28,
     "metadata": {},
     "output_type": "execute_result"
    }
   ],
   "source": [
    "my_list = [1, 2, 2, 3, 4, 4, 5]\n",
    "\n",
    "my_list"
   ]
  },
  {
   "cell_type": "code",
   "execution_count": 29,
   "id": "13f30fc7-c1d9-4cdb-b742-816d6084a157",
   "metadata": {},
   "outputs": [
    {
     "name": "stdout",
     "output_type": "stream",
     "text": [
      "Unique List: [1, 2, 3, 4, 5]\n"
     ]
    }
   ],
   "source": [
    "unique_list = []\n",
    "\n",
    "for item in my_list:\n",
    "    if item not in unique_list:\n",
    "        unique_list.append(item)\n",
    "\n",
    "print(\"Unique List:\", unique_list)\n"
   ]
  },
  {
   "cell_type": "markdown",
   "id": "aa79dfa4-c1e3-4d95-ae40-63375f1d41ca",
   "metadata": {},
   "source": [
    "P19"
   ]
  },
  {
   "cell_type": "code",
   "execution_count": 30,
   "id": "193b7e60-2432-4a0b-a67f-368bec1eac9c",
   "metadata": {},
   "outputs": [
    {
     "data": {
      "text/plain": [
       "'This is a sample sentence.'"
      ]
     },
     "execution_count": 30,
     "metadata": {},
     "output_type": "execute_result"
    }
   ],
   "source": [
    "sentence = \"This is a sample sentence.\"\n",
    "sentence\n"
   ]
  },
  {
   "cell_type": "code",
   "execution_count": 31,
   "id": "ad647347-8241-4667-8962-ae999e77c882",
   "metadata": {},
   "outputs": [
    {
     "name": "stdout",
     "output_type": "stream",
     "text": [
      "Number of Words: 5\n"
     ]
    }
   ],
   "source": [
    "words = sentence.split()\n",
    "word_count = len(words)\n",
    "print(\"Number of Words:\", word_count)"
   ]
  },
  {
   "cell_type": "markdown",
   "id": "5329a080-3cea-490c-be31-75a6e7d93d94",
   "metadata": {},
   "source": [
    "P20"
   ]
  },
  {
   "cell_type": "code",
   "execution_count": 32,
   "id": "31b04e36-b549-42cb-bfc3-2ef09d2aa7cd",
   "metadata": {},
   "outputs": [
    {
     "name": "stdout",
     "output_type": "stream",
     "text": [
      "Sum of Odd Numbers: 625\n"
     ]
    }
   ],
   "source": [
    "total = 0\n",
    "\n",
    "for i in range(1, 51, 2):\n",
    "    total += i\n",
    "\n",
    "print(\"Sum of Odd Numbers:\", total)\n"
   ]
  },
  {
   "cell_type": "markdown",
   "id": "206c9ea2-de74-4d70-8784-c032877b2cc3",
   "metadata": {},
   "source": [
    "P21"
   ]
  },
  {
   "cell_type": "code",
   "execution_count": 34,
   "id": "3fb8b0d1-9b0d-4ed6-b2ad-43129cb1f615",
   "metadata": {},
   "outputs": [
    {
     "data": {
      "text/plain": [
       "2024"
      ]
     },
     "execution_count": 34,
     "metadata": {},
     "output_type": "execute_result"
    }
   ],
   "source": [
    "year = 2024\n",
    "year"
   ]
  },
  {
   "cell_type": "code",
   "execution_count": 39,
   "id": "a2eb1268-7537-488c-8274-4bfc6bfa7c5e",
   "metadata": {},
   "outputs": [],
   "source": [
    "def is_leap_year(year):\n",
    "    leap_years = []  # list to store leap years\n",
    "    for y in range(1, year + 1):\n",
    "        if (y % 4 == 0 and y % 100 != 0) or (y % 400 == 0):\n",
    "            leap_years.append(y)\n",
    "    return leap_years"
   ]
  },
  {
   "cell_type": "code",
   "execution_count": 40,
   "id": "1ecbfbcc-2cbb-4686-af2f-a8afa370cf63",
   "metadata": {},
   "outputs": [
    {
     "name": "stdout",
     "output_type": "stream",
     "text": [
      "True\n"
     ]
    }
   ],
   "source": [
    "print(year in is_leap_year(year))"
   ]
  },
  {
   "cell_type": "markdown",
   "id": "af501512-cc98-40a9-9a77-e16ef3d9684c",
   "metadata": {},
   "source": [
    "P22"
   ]
  },
  {
   "cell_type": "code",
   "execution_count": 41,
   "id": "2d4b6c04-f042-4a96-8bd0-fe1ad02abad3",
   "metadata": {},
   "outputs": [
    {
     "data": {
      "text/plain": [
       "25"
      ]
     },
     "execution_count": 41,
     "metadata": {},
     "output_type": "execute_result"
    }
   ],
   "source": [
    "number = 25\n",
    "number"
   ]
  },
  {
   "cell_type": "code",
   "execution_count": 42,
   "id": "e7090298-f9c1-4d53-85b9-8768b36f432b",
   "metadata": {},
   "outputs": [
    {
     "name": "stdout",
     "output_type": "stream",
     "text": [
      "Square Root: 5.0\n"
     ]
    }
   ],
   "source": [
    "square_root = 1.0\n",
    "\n",
    "for _ in range(10):\n",
    "    square_root = 0.5 * (square_root + number / square_root)\n",
    "\n",
    "print(\"Square Root:\", square_root)"
   ]
  },
  {
   "cell_type": "markdown",
   "id": "eae0979f-76e5-48b6-b112-dab3d0790ae4",
   "metadata": {},
   "source": [
    "P23"
   ]
  },
  {
   "cell_type": "code",
   "execution_count": 43,
   "id": "61811446-e867-4f0e-a881-3127b8ee33c7",
   "metadata": {},
   "outputs": [],
   "source": [
    "num1 = 12\n",
    "num2 = 18\n"
   ]
  },
  {
   "cell_type": "code",
   "execution_count": 44,
   "id": "208de4f0-8ef5-4c46-841f-495aecccacd3",
   "metadata": {},
   "outputs": [
    {
     "name": "stdout",
     "output_type": "stream",
     "text": [
      "LCM: 36\n"
     ]
    }
   ],
   "source": [
    "max_num = max(num1, num2)\n",
    "for i in range(max_num, num1 * num2 + 1):\n",
    "    if i % num1 == 0 and i % num2 == 0:\n",
    "        lcm_result = i\n",
    "        break\n",
    "\n",
    "print(\"LCM:\", lcm_result)"
   ]
  },
  {
   "cell_type": "code",
   "execution_count": null,
   "id": "b02db370-b746-421a-b56b-12afff64edac",
   "metadata": {},
   "outputs": [],
   "source": []
  },
  {
   "cell_type": "code",
   "execution_count": null,
   "id": "c58d996b-b7c2-4136-ac2a-e6fd7984a6ca",
   "metadata": {},
   "outputs": [],
   "source": []
  },
  {
   "cell_type": "markdown",
   "id": "acaa42b5-d287-4e7b-89e7-44548cf7e60f",
   "metadata": {},
   "source": [
    "If else :\n",
    "1. Write a Python program to check if a number is positive, negative, or zero using an if-else\n",
    "statement.\n",
    "2. Create a Python program that checks if a given number is even or odd using an if-else statement.\n",
    "3. How can you use nested if-else statements in Python, and provide an example?\n",
    "4. Write a Python program to determine the largest of three numbers using if-else.\n",
    "5. Write a Python program that calculates the absolute value of a number using if-else.\n",
    "6. Create a Python program that checks if a given character is a vowel or consonant using if-else.\n",
    "7. Write a Python program to determine if a user is eligible to vote based on their age using if-else.\n",
    "8. Create a Python program that calculates the discount amount based on the purchase amount\n",
    "using if-else.\n",
    "9. Write a Python program to check if a number is within a specified range using if-else.\n",
    "10. Create a Python program that determines the grade of a student based on their score using\n",
    "if-else"
   ]
  },
  {
   "cell_type": "markdown",
   "id": "ef012a97-8aae-4965-84f6-8cca30a99e74",
   "metadata": {},
   "source": [
    "P1"
   ]
  },
  {
   "cell_type": "code",
   "execution_count": 45,
   "id": "3653ce26-f550-4a56-89c5-dcf2b28f4fe0",
   "metadata": {},
   "outputs": [
    {
     "name": "stdin",
     "output_type": "stream",
     "text": [
      "Enter a number:  55\n"
     ]
    },
    {
     "data": {
      "text/plain": [
       "55.0"
      ]
     },
     "execution_count": 45,
     "metadata": {},
     "output_type": "execute_result"
    }
   ],
   "source": [
    "num = float(input(\"Enter a number: \"))\n",
    "num"
   ]
  },
  {
   "cell_type": "code",
   "execution_count": 46,
   "id": "53408c24-89d2-450c-833f-761492bbe119",
   "metadata": {},
   "outputs": [
    {
     "name": "stdout",
     "output_type": "stream",
     "text": [
      "Positive\n"
     ]
    }
   ],
   "source": [
    "if num > 0:\n",
    "    print(\"Positive\")\n",
    "elif num < 0:\n",
    "    print(\"Negative\")\n",
    "else:\n",
    "    print(\"Zero\")\n"
   ]
  },
  {
   "cell_type": "markdown",
   "id": "ea064b35-408a-4a11-b1cf-e117f483b482",
   "metadata": {},
   "source": [
    "P2"
   ]
  },
  {
   "cell_type": "code",
   "execution_count": 47,
   "id": "e269fe01-c1d5-4bf5-ab62-758719b9852b",
   "metadata": {},
   "outputs": [
    {
     "name": "stdin",
     "output_type": "stream",
     "text": [
      "Enter a number:  99\n"
     ]
    },
    {
     "data": {
      "text/plain": [
       "99"
      ]
     },
     "execution_count": 47,
     "metadata": {},
     "output_type": "execute_result"
    }
   ],
   "source": [
    "num = int(input(\"Enter a number: \"))\n",
    "num\n"
   ]
  },
  {
   "cell_type": "code",
   "execution_count": 48,
   "id": "32f092fa-b463-4402-adcb-136ee14204d7",
   "metadata": {},
   "outputs": [
    {
     "name": "stdout",
     "output_type": "stream",
     "text": [
      "Odd\n"
     ]
    }
   ],
   "source": [
    "if num % 2 == 0:\n",
    "    print(\"Even\")\n",
    "else:\n",
    "    print(\"Odd\")"
   ]
  },
  {
   "cell_type": "markdown",
   "id": "9996d623-67f8-403f-a017-6c98f074ec23",
   "metadata": {},
   "source": [
    "p3"
   ]
  },
  {
   "cell_type": "code",
   "execution_count": 49,
   "id": "6b59e1ef-37f8-4835-9c5a-41ab3b0d6b3a",
   "metadata": {},
   "outputs": [
    {
     "name": "stdout",
     "output_type": "stream",
     "text": [
      "Positive\n"
     ]
    }
   ],
   "source": [
    "if num >= 0:\n",
    "    if num == 0:\n",
    "        print(\"Zero\")\n",
    "    else:\n",
    "        print(\"Positive\")\n",
    "else:\n",
    "    print(\"Negative\")\n"
   ]
  },
  {
   "cell_type": "markdown",
   "id": "261e96a7-9f9e-4931-a074-ddd033cb2286",
   "metadata": {},
   "source": [
    "p4"
   ]
  },
  {
   "cell_type": "code",
   "execution_count": 50,
   "id": "eae46ba0-e432-41cd-b4fd-330a48928361",
   "metadata": {},
   "outputs": [
    {
     "name": "stdin",
     "output_type": "stream",
     "text": [
      "Enter the first number:  3\n",
      "Enter the second number:  6\n",
      "Enter the third number:  -9\n"
     ]
    }
   ],
   "source": [
    "a = float(input(\"Enter the first number: \"))\n",
    "b = float(input(\"Enter the second number: \"))\n",
    "c = float(input(\"Enter the third number: \"))"
   ]
  },
  {
   "cell_type": "code",
   "execution_count": 51,
   "id": "65a524cd-d60d-4b67-80c8-79c3fbc326d1",
   "metadata": {},
   "outputs": [
    {
     "name": "stdout",
     "output_type": "stream",
     "text": [
      "Largest:  6.0\n"
     ]
    }
   ],
   "source": [
    "if a >= b and a >= c:\n",
    "    print(\"Largest: \", a)\n",
    "elif b >= a and b >= c:\n",
    "    print(\"Largest: \", b)\n",
    "else:\n",
    "    print(\"Largest: \", c)\n"
   ]
  },
  {
   "cell_type": "markdown",
   "id": "ee19d634-109e-4c26-bfb0-0b5c1028b0b7",
   "metadata": {},
   "source": [
    "p5"
   ]
  },
  {
   "cell_type": "code",
   "execution_count": 57,
   "id": "706ee24a-9403-4c02-8f20-7eb2bf56381f",
   "metadata": {},
   "outputs": [
    {
     "data": {
      "text/plain": [
       "-99"
      ]
     },
     "execution_count": 57,
     "metadata": {},
     "output_type": "execute_result"
    }
   ],
   "source": [
    "num = -99\n",
    "num"
   ]
  },
  {
   "cell_type": "code",
   "execution_count": 58,
   "id": "372140ce-6720-4e44-8e7a-87a95a1df24b",
   "metadata": {},
   "outputs": [
    {
     "name": "stdout",
     "output_type": "stream",
     "text": [
      "Absolute value:  99\n"
     ]
    }
   ],
   "source": [
    "if num < 0:\n",
    "    abs_num = -num\n",
    "else:\n",
    "    abs_num = num\n",
    "print(\"Absolute value: \", abs_num)"
   ]
  },
  {
   "cell_type": "markdown",
   "id": "b40f3240-2a42-4b08-a382-dad5b9b7f570",
   "metadata": {},
   "source": [
    "p6"
   ]
  },
  {
   "cell_type": "code",
   "execution_count": 60,
   "id": "af58a0f9-5116-45ec-bd01-af23a8e7a526",
   "metadata": {},
   "outputs": [
    {
     "data": {
      "text/plain": [
       "'q'"
      ]
     },
     "execution_count": 60,
     "metadata": {},
     "output_type": "execute_result"
    }
   ],
   "source": [
    "char = 'q'\n",
    "char"
   ]
  },
  {
   "cell_type": "code",
   "execution_count": 61,
   "id": "f5b1a3f7-aedd-43b6-a473-7aee862f59bc",
   "metadata": {},
   "outputs": [
    {
     "name": "stdout",
     "output_type": "stream",
     "text": [
      "Consonant\n"
     ]
    }
   ],
   "source": [
    "if char.lower() in 'aeiou':\n",
    "    print(\"Vowel\")\n",
    "else:\n",
    "    print(\"Consonant\")"
   ]
  },
  {
   "cell_type": "markdown",
   "id": "d2956c2c-d758-4181-9ddb-e30cedaac2e8",
   "metadata": {},
   "source": [
    "p7"
   ]
  },
  {
   "cell_type": "code",
   "execution_count": 63,
   "id": "64189330-2ee9-4c6a-b2a0-12ca2e23ba27",
   "metadata": {},
   "outputs": [
    {
     "name": "stdin",
     "output_type": "stream",
     "text": [
      "Enter your age:  26\n"
     ]
    },
    {
     "data": {
      "text/plain": [
       "26"
      ]
     },
     "execution_count": 63,
     "metadata": {},
     "output_type": "execute_result"
    }
   ],
   "source": [
    "age = int(input(\"Enter your age: \"))\n",
    "age"
   ]
  },
  {
   "cell_type": "code",
   "execution_count": 64,
   "id": "09193cf3-d688-4957-a519-007fecea82b5",
   "metadata": {},
   "outputs": [
    {
     "name": "stdout",
     "output_type": "stream",
     "text": [
      "You are eligible to vote.\n"
     ]
    }
   ],
   "source": [
    "if age >= 18:\n",
    "    print(\"You are eligible to vote.\")\n",
    "else:\n",
    "    print(\"You are not eligible to vote.\")\n"
   ]
  },
  {
   "cell_type": "markdown",
   "id": "f075eab5-0146-4fea-905c-c897093adcb6",
   "metadata": {},
   "source": [
    "p8"
   ]
  },
  {
   "cell_type": "code",
   "execution_count": 65,
   "id": "bc3e8cc6-6993-481a-ba8c-3ed818ec60bb",
   "metadata": {},
   "outputs": [
    {
     "name": "stdin",
     "output_type": "stream",
     "text": [
      "Enter the purchase amount:  10000\n"
     ]
    },
    {
     "data": {
      "text/plain": [
       "10000.0"
      ]
     },
     "execution_count": 65,
     "metadata": {},
     "output_type": "execute_result"
    }
   ],
   "source": [
    "purchase_amount = float(input(\"Enter the purchase amount: \"))\n",
    "purchase_amount"
   ]
  },
  {
   "cell_type": "code",
   "execution_count": 66,
   "id": "4a3f7ef9-045a-44c6-9d9c-c28b5f80de50",
   "metadata": {},
   "outputs": [
    {
     "name": "stdout",
     "output_type": "stream",
     "text": [
      "Discount: 1000.0\n",
      "Final amount: 9000.0\n"
     ]
    }
   ],
   "source": [
    "if purchase_amount >= 1000:\n",
    "    discount = 0.1 * purchase_amount  # 10% discount\n",
    "else:\n",
    "    discount = 0\n",
    "final_amount = purchase_amount - discount\n",
    "print(\"Discount:\", discount)\n",
    "print(\"Final amount:\", final_amount)\n"
   ]
  },
  {
   "cell_type": "markdown",
   "id": "470f677a-0525-4785-8e1a-b6f11927978c",
   "metadata": {},
   "source": [
    "p9"
   ]
  },
  {
   "cell_type": "code",
   "execution_count": 67,
   "id": "d8dd8974-e235-46dd-8faf-8af76f20ef62",
   "metadata": {},
   "outputs": [
    {
     "data": {
      "text/plain": [
       "-99"
      ]
     },
     "execution_count": 67,
     "metadata": {},
     "output_type": "execute_result"
    }
   ],
   "source": [
    "num"
   ]
  },
  {
   "cell_type": "code",
   "execution_count": 68,
   "id": "98e8d8c3-b615-4ad4-83e8-aa7e71c3cd25",
   "metadata": {},
   "outputs": [],
   "source": [
    "min_range = 10\n",
    "max_range = 50"
   ]
  },
  {
   "cell_type": "code",
   "execution_count": 69,
   "id": "4424b711-2106-454e-b2cd-9e6e9e95b2c2",
   "metadata": {},
   "outputs": [
    {
     "name": "stdout",
     "output_type": "stream",
     "text": [
      "Number is outside the specified range.\n"
     ]
    }
   ],
   "source": [
    "if min_range <= num <= max_range:\n",
    "    print(\"Number is within the specified range.\")\n",
    "else:\n",
    "    print(\"Number is outside the specified range.\")\n"
   ]
  },
  {
   "cell_type": "markdown",
   "id": "13a46782-3abc-4b42-9558-28533183f095",
   "metadata": {},
   "source": [
    "p10"
   ]
  },
  {
   "cell_type": "code",
   "execution_count": 70,
   "id": "77ca67d5-d491-4f94-a197-a82f0dcc9dd2",
   "metadata": {},
   "outputs": [
    {
     "name": "stdin",
     "output_type": "stream",
     "text": [
      "Enter your score:  93\n"
     ]
    },
    {
     "data": {
      "text/plain": [
       "93.0"
      ]
     },
     "execution_count": 70,
     "metadata": {},
     "output_type": "execute_result"
    }
   ],
   "source": [
    "score = float(input(\"Enter your score: \"))\n",
    "score"
   ]
  },
  {
   "cell_type": "code",
   "execution_count": 71,
   "id": "8268ed9b-2c90-4494-b0de-4fbf82feb40d",
   "metadata": {},
   "outputs": [
    {
     "name": "stdout",
     "output_type": "stream",
     "text": [
      "Your grade is: A\n"
     ]
    }
   ],
   "source": [
    "if score >= 90:\n",
    "    grade = \"A\"\n",
    "elif score >= 80:\n",
    "    grade = \"B\"\n",
    "elif score >= 70:\n",
    "    grade = \"C\"\n",
    "elif score >= 60:\n",
    "    grade = \"D\"\n",
    "else:\n",
    "    grade = \"F\"\n",
    "print(\"Your grade is:\", grade)\n"
   ]
  },
  {
   "cell_type": "markdown",
   "id": "730c9e4b-8531-4449-b606-fda2ac5cf054",
   "metadata": {},
   "source": [
    "p11"
   ]
  },
  {
   "cell_type": "code",
   "execution_count": 1,
   "id": "987f4804-ac2a-4d55-9e77-ace998c4ab5d",
   "metadata": {},
   "outputs": [
    {
     "name": "stdout",
     "output_type": "stream",
     "text": [
      "String is empty\n"
     ]
    }
   ],
   "source": [
    "text = \"\"\n",
    "\n",
    "if not text:\n",
    "    print(\"String is empty\")\n",
    "else:\n",
    "    print(\"String is not empty\")\n"
   ]
  },
  {
   "cell_type": "markdown",
   "id": "11a98a9d-c231-4cb9-9ecd-e1a08d9bb9e4",
   "metadata": {},
   "source": [
    "p12"
   ]
  },
  {
   "cell_type": "code",
   "execution_count": 2,
   "id": "fd8c656c-c926-4ebc-b2e5-39576ddbe20a",
   "metadata": {},
   "outputs": [
    {
     "name": "stdin",
     "output_type": "stream",
     "text": [
      "Enter length of side 1:  12\n",
      "Enter length of side 2:  15\n",
      "Enter length of side 3:  2\n"
     ]
    }
   ],
   "source": [
    "side1 = float(input(\"Enter length of side 1: \"))\n",
    "side2 = float(input(\"Enter length of side 2: \"))\n",
    "side3 = float(input(\"Enter length of side 3: \"))\n"
   ]
  },
  {
   "cell_type": "code",
   "execution_count": 3,
   "id": "651081d0-e952-4843-8153-73ec35c61431",
   "metadata": {},
   "outputs": [
    {
     "name": "stdout",
     "output_type": "stream",
     "text": [
      "Scalene triangle\n"
     ]
    }
   ],
   "source": [
    "if side1 == side2 == side3:\n",
    "    print(\"Equilateral triangle\")\n",
    "elif side1 == side2 or side2 == side3 or side3 == side1:\n",
    "    print(\"Isosceles triangle\")\n",
    "else:\n",
    "    print(\"Scalene triangle\")\n"
   ]
  },
  {
   "cell_type": "markdown",
   "id": "065d3fd9-cb8c-445e-8d92-0f843f63da1f",
   "metadata": {},
   "source": [
    "p13"
   ]
  },
  {
   "cell_type": "code",
   "execution_count": 5,
   "id": "3c897f7a-84d4-4a0e-b45a-d02fc2d81d99",
   "metadata": {},
   "outputs": [
    {
     "data": {
      "text/plain": [
       "7"
      ]
     },
     "execution_count": 5,
     "metadata": {},
     "output_type": "execute_result"
    }
   ],
   "source": [
    "day_num = 7\n",
    "day_num\n"
   ]
  },
  {
   "cell_type": "code",
   "execution_count": 6,
   "id": "1fc922d2-9136-420c-a84f-ad3864753bd3",
   "metadata": {},
   "outputs": [
    {
     "data": {
      "text/plain": [
       "['Sunday', 'Monday', 'Tuesday', 'Wednesday', 'Thursday', 'Friday', 'Saturday']"
      ]
     },
     "execution_count": 6,
     "metadata": {},
     "output_type": "execute_result"
    }
   ],
   "source": [
    "days = [\"Sunday\", \"Monday\", \"Tuesday\", \"Wednesday\", \"Thursday\", \"Friday\", \"Saturday\"]\n",
    "days"
   ]
  },
  {
   "cell_type": "code",
   "execution_count": 7,
   "id": "8f196757-55b2-4231-b433-a321ebbee5d4",
   "metadata": {},
   "outputs": [
    {
     "name": "stdout",
     "output_type": "stream",
     "text": [
      "Day of the week: Saturday\n"
     ]
    }
   ],
   "source": [
    "if 1 <= day_num <= 7:\n",
    "    print(f\"Day of the week: {days[day_num-1]}\")\n",
    "else:\n",
    "    print(\"Invalid input\")"
   ]
  },
  {
   "cell_type": "markdown",
   "id": "d5b04b9b-7a29-45e9-8032-ece09fe80809",
   "metadata": {},
   "source": [
    "p14"
   ]
  },
  {
   "cell_type": "code",
   "execution_count": 8,
   "id": "014d62d6-8122-43b3-ac9c-53ed59938d4a",
   "metadata": {},
   "outputs": [],
   "source": [
    "year = 2000"
   ]
  },
  {
   "cell_type": "code",
   "execution_count": 9,
   "id": "f27837ae-48a9-4f55-bb4f-516e8fa24327",
   "metadata": {},
   "outputs": [],
   "source": [
    "def is_leap_year(year):\n",
    "    if (year % 4 == 0 and year % 100 != 0) or (year % 400 == 0):\n",
    "        return True\n",
    "    else:\n",
    "        return False"
   ]
  },
  {
   "cell_type": "code",
   "execution_count": 10,
   "id": "179a3491-e637-44ce-8677-fbf03c10be2f",
   "metadata": {},
   "outputs": [
    {
     "name": "stdout",
     "output_type": "stream",
     "text": [
      "2000 is a leap year\n"
     ]
    }
   ],
   "source": [
    "if is_leap_year(year):\n",
    "    print(f\"{year} is a leap year\")\n",
    "else:\n",
    "    print(f\"{year} is not a leap year\")\n"
   ]
  },
  {
   "cell_type": "markdown",
   "id": "080fc72d-0ca6-4079-8d98-0af5dfd0403e",
   "metadata": {},
   "source": [
    "p15 "
   ]
  },
  {
   "cell_type": "code",
   "execution_count": 15,
   "id": "3b92345e-14a3-4605-b2ea-fc94fe2406ec",
   "metadata": {},
   "outputs": [
    {
     "data": {
      "text/plain": [
       "10"
      ]
     },
     "execution_count": 15,
     "metadata": {},
     "output_type": "execute_result"
    }
   ],
   "source": [
    "num = 10\n",
    "num"
   ]
  },
  {
   "cell_type": "code",
   "execution_count": 16,
   "id": "b32d6c34-e021-490c-9aca-2008f90639fd",
   "metadata": {},
   "outputs": [
    {
     "name": "stdout",
     "output_type": "stream",
     "text": [
      "Positive\n"
     ]
    }
   ],
   "source": [
    "if num < 0:\n",
    "    assert num >= 0, \"Number cannot be negative\"\n",
    "elif num == 0:\n",
    "    print(\"Zero\")\n",
    "else:\n",
    "    print(\"Positive\")"
   ]
  },
  {
   "cell_type": "markdown",
   "id": "5e9c8378-8ffa-495d-83dd-902681f966cd",
   "metadata": {},
   "source": [
    "p 16"
   ]
  },
  {
   "cell_type": "code",
   "execution_count": 17,
   "id": "06a5c476-e884-4059-b2c6-8ef9783836b8",
   "metadata": {},
   "outputs": [],
   "source": [
    "age = 25"
   ]
  },
  {
   "cell_type": "code",
   "execution_count": 18,
   "id": "60cac6ea-caaf-45e3-8005-0cba473ac18f",
   "metadata": {},
   "outputs": [
    {
     "name": "stdout",
     "output_type": "stream",
     "text": [
      "You are not eligible for a senior citizen discount.\n"
     ]
    }
   ],
   "source": [
    "if age >= 60:\n",
    "    print(\"You are eligible for a senior citizen discount.\")\n",
    "else:\n",
    "    print(\"You are not eligible for a senior citizen discount.\")\n"
   ]
  },
  {
   "cell_type": "markdown",
   "id": "09c1ae59-7adb-4423-b00f-d9c76a58779b",
   "metadata": {},
   "source": [
    "p 17"
   ]
  },
  {
   "cell_type": "code",
   "execution_count": 19,
   "id": "d264be45-1e89-4ce1-8444-3b639234e038",
   "metadata": {},
   "outputs": [
    {
     "data": {
      "text/plain": [
       "'e'"
      ]
     },
     "execution_count": 19,
     "metadata": {},
     "output_type": "execute_result"
    }
   ],
   "source": [
    "char = 'e'\n",
    "char"
   ]
  },
  {
   "cell_type": "code",
   "execution_count": 20,
   "id": "16780f10-052f-4242-89d3-9bbc48366d70",
   "metadata": {},
   "outputs": [
    {
     "name": "stdout",
     "output_type": "stream",
     "text": [
      "Lowercase character\n"
     ]
    }
   ],
   "source": [
    "if char.isupper():\n",
    "    print(\"Uppercase character\")\n",
    "elif char.islower():\n",
    "    print(\"Lowercase character\")\n",
    "else:\n",
    "    print(\"Neither uppercase nor lowercase character\")\n"
   ]
  },
  {
   "cell_type": "markdown",
   "id": "5e4bd411-4815-4793-92ad-ad7108b950a7",
   "metadata": {},
   "source": [
    "p 18"
   ]
  },
  {
   "cell_type": "code",
   "execution_count": 21,
   "id": "3e92cedf-3651-442c-a0dc-a92fe0da147f",
   "metadata": {},
   "outputs": [],
   "source": [
    "import math\n"
   ]
  },
  {
   "cell_type": "code",
   "execution_count": 22,
   "id": "2d67d4a5-0ce3-4e93-a6f6-a3a7aa753806",
   "metadata": {},
   "outputs": [
    {
     "name": "stdin",
     "output_type": "stream",
     "text": [
      "Enter coefficient a:  3\n",
      "Enter coefficient b:  4\n",
      "Enter coefficient c:  5\n"
     ]
    }
   ],
   "source": [
    "a = float(input(\"Enter coefficient a: \"))\n",
    "b = float(input(\"Enter coefficient b: \"))\n",
    "c = float(input(\"Enter coefficient c: \"))"
   ]
  },
  {
   "cell_type": "code",
   "execution_count": 23,
   "id": "424ae11b-2642-4fe0-84fa-e11dfbd2f49c",
   "metadata": {},
   "outputs": [
    {
     "name": "stdout",
     "output_type": "stream",
     "text": [
      "Roots are complex: -0.6666666666666666 + 1.1055415967851332i and -0.6666666666666666 - 1.1055415967851332i\n"
     ]
    }
   ],
   "source": [
    "discriminant = b**2 - 4*a*c\n",
    "\n",
    "if discriminant > 0:\n",
    "    root1 = (-b + math.sqrt(discriminant)) / (2*a)\n",
    "    root2 = (-b - math.sqrt(discriminant)) / (2*a)\n",
    "    print(f\"Roots are real and distinct: {root1} and {root2}\")\n",
    "elif discriminant == 0:\n",
    "    root1 = root2 = -b / (2*a)\n",
    "    print(f\"Roots are real and equal: {root1}\")\n",
    "else:\n",
    "    real_part = -b / (2*a)\n",
    "    imaginary_part = math.sqrt(-discriminant) / (2*a)\n",
    "    print(f\"Roots are complex: {real_part} + {imaginary_part}i and {real_part} - {imaginary_part}i\")\n"
   ]
  },
  {
   "cell_type": "markdown",
   "id": "9852786c-5086-4479-b7bf-5727f6e4fe74",
   "metadata": {},
   "source": [
    "p 19"
   ]
  },
  {
   "cell_type": "code",
   "execution_count": 24,
   "id": "341895e6-728c-4cab-ba51-2e7bc6f9d3b8",
   "metadata": {},
   "outputs": [
    {
     "data": {
      "text/plain": [
       "2000"
      ]
     },
     "execution_count": 24,
     "metadata": {},
     "output_type": "execute_result"
    }
   ],
   "source": [
    "year"
   ]
  },
  {
   "cell_type": "code",
   "execution_count": 25,
   "id": "e901fae7-b57e-49ac-a32c-7efeaaefc3b3",
   "metadata": {},
   "outputs": [
    {
     "name": "stdout",
     "output_type": "stream",
     "text": [
      "It's a century year.\n"
     ]
    }
   ],
   "source": [
    "if year % 100 == 0:\n",
    "    print(\"It's a century year.\")\n",
    "else:\n",
    "    print(\"It's not a century year.\")"
   ]
  },
  {
   "cell_type": "markdown",
   "id": "3ce2fd2d-9e04-4fd0-afa9-a3ccc528a928",
   "metadata": {},
   "source": [
    "p 20"
   ]
  },
  {
   "cell_type": "code",
   "execution_count": 26,
   "id": "4a6bcf62-9af7-40c2-b12f-eaa1849a56ac",
   "metadata": {},
   "outputs": [
    {
     "data": {
      "text/plain": [
       "10"
      ]
     },
     "execution_count": 26,
     "metadata": {},
     "output_type": "execute_result"
    }
   ],
   "source": [
    "num"
   ]
  },
  {
   "cell_type": "code",
   "execution_count": 27,
   "id": "642cdd6b-82b5-410b-abb8-52070ec3fb58",
   "metadata": {},
   "outputs": [
    {
     "name": "stdout",
     "output_type": "stream",
     "text": [
      "It's not a perfect square.\n"
     ]
    }
   ],
   "source": [
    "sqrt = math.isqrt(num)\n",
    "\n",
    "if sqrt * sqrt == num:\n",
    "    print(\"It's a perfect square.\")\n",
    "else:\n",
    "    print(\"It's not a perfect square.\")"
   ]
  },
  {
   "cell_type": "markdown",
   "id": "e0867e12-49bc-4950-a164-a0cce347060b",
   "metadata": {},
   "source": [
    "p 21"
   ]
  },
  {
   "cell_type": "code",
   "execution_count": 35,
   "id": "18804f62-3043-4ced-ae62-0f708a1ed1d2",
   "metadata": {},
   "outputs": [
    {
     "name": "stdin",
     "output_type": "stream",
     "text": [
      "Enter your weight in kilograms:  67\n",
      "Enter your height in centimeters:  173\n"
     ]
    },
    {
     "name": "stdout",
     "output_type": "stream",
     "text": [
      "Normal weight\n"
     ]
    },
    {
     "data": {
      "text/plain": [
       "22.386314277122523"
      ]
     },
     "execution_count": 35,
     "metadata": {},
     "output_type": "execute_result"
    }
   ],
   "source": [
    "weight = float(input(\"Enter your weight in kilograms: \"))\n",
    "height_cm = float(input(\"Enter your height in centimeters: \"))\n",
    "\n",
    "# Convert height from centimeters to meters\n",
    "height_m = height_cm / 100\n",
    "\n",
    "bmi = weight / (height_m ** 2)\n",
    "\n",
    "if bmi < 18.5:\n",
    "    print(\"Underweight\")\n",
    "elif 18.5 <= bmi < 24.9:\n",
    "    print(\"Normal weight\")\n",
    "elif 24.9 <= bmi < 29.9:\n",
    "    print(\"Overweight\")\n",
    "else:\n",
    "    print(\"Obese\")\n",
    "bmi"
   ]
  },
  {
   "cell_type": "markdown",
   "id": "dfc978d9-7445-4e06-a21b-b2d6fae911dc",
   "metadata": {},
   "source": [
    "p 22"
   ]
  },
  {
   "cell_type": "code",
   "execution_count": 36,
   "id": "53d4d668-2e31-4cbd-8ed7-1ea29546d5c3",
   "metadata": {},
   "outputs": [
    {
     "data": {
      "text/plain": [
       "[1, 2, 3, 4, 5, 6, 7, 8, 9]"
      ]
     },
     "execution_count": 36,
     "metadata": {},
     "output_type": "execute_result"
    }
   ],
   "source": [
    "numbers = [1, 2, 3, 4, 5, 6, 7, 8, 9]\n",
    "numbers\n"
   ]
  },
  {
   "cell_type": "code",
   "execution_count": 37,
   "id": "d718d729-b121-461b-817c-d64b8956daf9",
   "metadata": {},
   "outputs": [
    {
     "name": "stdout",
     "output_type": "stream",
     "text": [
      "Even numbers: [2, 4, 6, 8]\n"
     ]
    }
   ],
   "source": [
    "def is_even(num):\n",
    "    return num % 2 == 0\n",
    "\n",
    "# Use filter() to get even numbers\n",
    "even_numbers = list(filter(is_even, numbers))\n",
    "\n",
    "print(\"Even numbers:\", even_numbers)"
   ]
  },
  {
   "cell_type": "markdown",
   "id": "3cd0333c-4125-44ce-87a3-f42fa0ee64cd",
   "metadata": {},
   "source": [
    "p 23"
   ]
  },
  {
   "cell_type": "code",
   "execution_count": 38,
   "id": "90ca55fe-15a9-4ce3-bcbf-32cca2c8e1eb",
   "metadata": {},
   "outputs": [
    {
     "data": {
      "text/plain": [
       "10"
      ]
     },
     "execution_count": 38,
     "metadata": {},
     "output_type": "execute_result"
    }
   ],
   "source": [
    "num"
   ]
  },
  {
   "cell_type": "code",
   "execution_count": 39,
   "id": "cf1a0901-6931-415e-894f-72a447f9a2b6",
   "metadata": {},
   "outputs": [
    {
     "name": "stdout",
     "output_type": "stream",
     "text": [
      "10 is not prime.\n"
     ]
    }
   ],
   "source": [
    "if num > 1:\n",
    "    for i in range(2, num):\n",
    "        if (num % i) == 0:\n",
    "            print(f\"{num} is not prime.\")\n",
    "            break\n",
    "    else:\n",
    "        print(f\"{num} is prime.\")\n",
    "else:\n",
    "    print(f\"{num} is not prime.\")\n"
   ]
  },
  {
   "cell_type": "code",
   "execution_count": null,
   "id": "4e35ddf0-40ba-4c8c-bda4-872ce095398c",
   "metadata": {},
   "outputs": [],
   "source": []
  },
  {
   "cell_type": "code",
   "execution_count": null,
   "id": "98bf0bcd-199c-4a1d-b5bb-eb8d35baba5c",
   "metadata": {},
   "outputs": [],
   "source": []
  },
  {
   "cell_type": "markdown",
   "id": "ea3694e2-a37a-414a-92b5-099283547064",
   "metadata": {},
   "source": [
    "Map"
   ]
  },
  {
   "cell_type": "markdown",
   "id": "09955a60-03f5-4cc1-ba85-ae3fe87912dd",
   "metadata": {},
   "source": [
    "1. Explain the purpose of the `map()` function in Python and provide an example of how it can be\n",
    "used to apply a function to each element of an iterable.\n",
    "2. Write a Python program that uses the `map()` function to square each element of a list of\n",
    "numbers.\n",
    "3. How does the `map()` function differ from a list comprehension in Python, and when would you\n",
    "choose one over the other?\n",
    "4. Create a Python program that uses the `map()` function to convert a list of names to uppercase.\n",
    "5. Write a Python program that uses the `map()` function to calculate the length of each word in a\n",
    "list of strings.\n",
    "6. How can you use the `map()` function to apply a custom function to elements of multiple lists\n",
    "simultaneously in Python?\n",
    "7. Create a Python program that uses `map()` to convert a list of temperatures from Celsius to\n",
    "Fahrenheit.\n",
    "8. Write a Python program that uses the `map()` function to round each element of a list of\n",
    "floating-point numbers to the nearest integer."
   ]
  },
  {
   "cell_type": "markdown",
   "id": "1d809751-d8af-4bd4-b01b-c2aa90007417",
   "metadata": {},
   "source": [
    "P 1"
   ]
  },
  {
   "cell_type": "code",
   "execution_count": 41,
   "id": "c02daab6-803b-43f9-9a32-aaaaf1f0562b",
   "metadata": {},
   "outputs": [],
   "source": [
    "def double(x):\n",
    "    return x * 2"
   ]
  },
  {
   "cell_type": "code",
   "execution_count": 42,
   "id": "0d758e34-5427-4867-ac23-70367d493f48",
   "metadata": {},
   "outputs": [
    {
     "name": "stdout",
     "output_type": "stream",
     "text": [
      "[2, 4, 6, 8, 10]\n"
     ]
    }
   ],
   "source": [
    "numbers = [1, 2, 3, 4, 5]\n",
    "doubled_numbers = map(double, numbers)\n",
    "\n",
    "result = list(doubled_numbers)\n",
    "print(result)  \n"
   ]
  },
  {
   "cell_type": "markdown",
   "id": "4bf452d4-666c-48b0-9642-133d3a73a539",
   "metadata": {},
   "source": [
    "P2 "
   ]
  },
  {
   "cell_type": "code",
   "execution_count": 43,
   "id": "50c1e135-b457-4aab-bd30-61122235dd81",
   "metadata": {},
   "outputs": [
    {
     "name": "stdout",
     "output_type": "stream",
     "text": [
      "[1, 4, 9, 16, 25]\n"
     ]
    }
   ],
   "source": [
    "def square(x):\n",
    "    return x ** 2\n",
    "\n",
    "squared_numbers = list(map(square, numbers))\n",
    "print(squared_numbers) \n"
   ]
  },
  {
   "cell_type": "markdown",
   "id": "d0f0eeac-5fd3-48aa-9ad5-63cda0ab1160",
   "metadata": {},
   "source": [
    "P3"
   ]
  },
  {
   "cell_type": "code",
   "execution_count": 44,
   "id": "9227f2c3-54b1-42c4-b2f7-00caed6998a8",
   "metadata": {},
   "outputs": [
    {
     "data": {
      "text/plain": [
       "' map() applies a function to each element of an iterable and returns a map object, while list comprehensions create a new list by applying an expression to each element.'"
      ]
     },
     "execution_count": 44,
     "metadata": {},
     "output_type": "execute_result"
    }
   ],
   "source": [
    "''' map() applies a function to each element of an iterable and returns a map object, while list comprehensions create a new list by applying an expression to each element.'''"
   ]
  },
  {
   "cell_type": "markdown",
   "id": "c26e7fac-e29e-4451-801a-d4575b06189c",
   "metadata": {},
   "source": [
    "P 4"
   ]
  },
  {
   "cell_type": "code",
   "execution_count": 45,
   "id": "e5fe0343-1a0e-4358-8f0e-a73c9e7787a5",
   "metadata": {},
   "outputs": [
    {
     "data": {
      "text/plain": [
       "['Alice', 'Bob', 'Charlie']"
      ]
     },
     "execution_count": 45,
     "metadata": {},
     "output_type": "execute_result"
    }
   ],
   "source": [
    "names = [\"Alice\", \"Bob\", \"Charlie\"]\n",
    "names"
   ]
  },
  {
   "cell_type": "code",
   "execution_count": 46,
   "id": "ff094c57-1210-4063-935c-b9a7db0f49b4",
   "metadata": {},
   "outputs": [
    {
     "name": "stdout",
     "output_type": "stream",
     "text": [
      "['ALICE', 'BOB', 'CHARLIE']\n"
     ]
    }
   ],
   "source": [
    "uppercased_names = list(map(str.upper, names))\n",
    "print(uppercased_names)"
   ]
  },
  {
   "cell_type": "markdown",
   "id": "4c0cde2a-1f3b-47fd-bea5-06632e190004",
   "metadata": {},
   "source": [
    "P 5"
   ]
  },
  {
   "cell_type": "code",
   "execution_count": 48,
   "id": "d468d9be-62cb-451a-a90f-69ec771997f4",
   "metadata": {},
   "outputs": [
    {
     "name": "stdout",
     "output_type": "stream",
     "text": [
      "[5, 3, 7]\n"
     ]
    }
   ],
   "source": [
    "word_lengths = list(map(len, uppercased_names))\n",
    "print(word_lengths)"
   ]
  },
  {
   "cell_type": "markdown",
   "id": "5cc9ab5e-1464-4ebb-97f1-8f52e95f8b81",
   "metadata": {},
   "source": [
    "P 6"
   ]
  },
  {
   "cell_type": "code",
   "execution_count": 49,
   "id": "006816ae-4eae-44e9-92b9-713177aab2b0",
   "metadata": {},
   "outputs": [],
   "source": [
    "numbers1 = [1, 2, 3]\n",
    "numbers2 = [4, 5, 6]"
   ]
  },
  {
   "cell_type": "code",
   "execution_count": 50,
   "id": "f0e064ac-802f-46f2-97e3-09a7bb30dfe3",
   "metadata": {},
   "outputs": [
    {
     "name": "stdout",
     "output_type": "stream",
     "text": [
      "[5, 7, 9]\n"
     ]
    }
   ],
   "source": [
    "def add(x, y):\n",
    "    return x + y\n",
    "\n",
    "\n",
    "result = list(map(add, numbers1, numbers2))\n",
    "print(result) "
   ]
  },
  {
   "cell_type": "markdown",
   "id": "3a17aa22-0cd9-432e-a957-fbb873fb4e7e",
   "metadata": {},
   "source": [
    "P 7"
   ]
  },
  {
   "cell_type": "code",
   "execution_count": 51,
   "id": "3ddfa592-4ba1-41ef-96a6-0c4699e452e9",
   "metadata": {},
   "outputs": [
    {
     "data": {
      "text/plain": [
       "[25, 30, 15, 10]"
      ]
     },
     "execution_count": 51,
     "metadata": {},
     "output_type": "execute_result"
    }
   ],
   "source": [
    "temperatures_celsius = [25, 30, 15, 10]\n",
    "temperatures_celsius"
   ]
  },
  {
   "cell_type": "code",
   "execution_count": 52,
   "id": "3d585210-06c2-46eb-a281-f1cc50c6baac",
   "metadata": {},
   "outputs": [
    {
     "name": "stdout",
     "output_type": "stream",
     "text": [
      "[77.0, 86.0, 59.0, 50.0]\n"
     ]
    }
   ],
   "source": [
    "def celsius_to_fahrenheit(celsius):\n",
    "    return (celsius * 9/5) + 32\n",
    "\n",
    "temperatures_fahrenheit = list(map(celsius_to_fahrenheit, temperatures_celsius))\n",
    "print(temperatures_fahrenheit)"
   ]
  },
  {
   "cell_type": "markdown",
   "id": "242d25c6-630c-4578-b458-366c109ee4e8",
   "metadata": {},
   "source": [
    "P 8"
   ]
  },
  {
   "cell_type": "code",
   "execution_count": 53,
   "id": "9bc28028-bba5-4217-9525-764fbd86d2ca",
   "metadata": {},
   "outputs": [
    {
     "data": {
      "text/plain": [
       "[1.5, 2.7, 3.3, 4.9]"
      ]
     },
     "execution_count": 53,
     "metadata": {},
     "output_type": "execute_result"
    }
   ],
   "source": [
    "numbers = [1.5, 2.7, 3.3, 4.9]\n",
    "numbers"
   ]
  },
  {
   "cell_type": "code",
   "execution_count": 55,
   "id": "2df31a51-22f0-4724-b808-e2294b166059",
   "metadata": {},
   "outputs": [
    {
     "name": "stdout",
     "output_type": "stream",
     "text": [
      "[2, 3, 3, 5]\n"
     ]
    }
   ],
   "source": [
    "def round_to_integer(x):\n",
    "    return round(x)\n",
    "\n",
    "rounded_numbers = list(map(round_to_integer, numbers))\n",
    "print(rounded_numbers)"
   ]
  },
  {
   "cell_type": "code",
   "execution_count": null,
   "id": "85a4bae0-7593-42d1-847b-068574229d12",
   "metadata": {},
   "outputs": [],
   "source": []
  },
  {
   "cell_type": "code",
   "execution_count": null,
   "id": "aedac68a-f130-4c15-945a-a63f4de0c944",
   "metadata": {},
   "outputs": [],
   "source": []
  },
  {
   "cell_type": "markdown",
   "id": "730be5a0-77eb-4c8e-afee-fa73821ddaca",
   "metadata": {},
   "source": [
    "Reduce"
   ]
  },
  {
   "cell_type": "markdown",
   "id": "a32496e4-ea54-4043-b0f8-159d113590d3",
   "metadata": {},
   "source": [
    "1. What is the `reduce()` function in Python, and what module should you import to use it? Provide\n",
    "an example of its basic usage.\n",
    "2. Write a Python program that uses the `reduce()` function to find the product of all elements in a\n",
    "list.\n",
    "3. Create a Python program that uses `reduce()` to find the maximum element in a list of numbers.\n",
    "4. How can you use the `reduce()` function to concatenate a list of strings into a single string?\n",
    "5. Write a Python program that calculates the factorial of a number using the `reduce()` function.\n",
    "6. Create a Python program that uses `reduce()` to find the GCD (Greatest Common Divisor) of a list\n",
    "of numbers.\n",
    "7. Write a Python program that uses the `reduce()` function to find the sum of the digits of a given\n",
    "number."
   ]
  },
  {
   "cell_type": "markdown",
   "id": "40f1a59a-23a4-41a1-b38e-78c03e9f922f",
   "metadata": {},
   "source": [
    "P1"
   ]
  },
  {
   "cell_type": "code",
   "execution_count": 56,
   "id": "fe70f638-e2cf-4d77-a4af-16ed13c341ca",
   "metadata": {},
   "outputs": [],
   "source": [
    "from functools import reduce\n"
   ]
  },
  {
   "cell_type": "code",
   "execution_count": 57,
   "id": "1b06155e-2e99-427a-9f7a-bc265db85171",
   "metadata": {},
   "outputs": [
    {
     "data": {
      "text/plain": [
       "[1.5, 2.7, 3.3, 4.9]"
      ]
     },
     "execution_count": 57,
     "metadata": {},
     "output_type": "execute_result"
    }
   ],
   "source": [
    "numbers"
   ]
  },
  {
   "cell_type": "code",
   "execution_count": 61,
   "id": "7af6cb51-4e93-49a6-8658-80031fadd9b4",
   "metadata": {},
   "outputs": [
    {
     "name": "stdout",
     "output_type": "stream",
     "text": [
      "12.4\n"
     ]
    }
   ],
   "source": [
    "def add(x, y):\n",
    "    return x + y\n",
    "\n",
    "result = reduce(add, numbers)\n",
    "print(result)"
   ]
  },
  {
   "cell_type": "markdown",
   "id": "f11d49f8-b45b-4314-8047-16dc6fbe3297",
   "metadata": {},
   "source": [
    "P2"
   ]
  },
  {
   "cell_type": "code",
   "execution_count": 62,
   "id": "0c8cd0c5-c039-4d5d-ae8a-0db56ca2543c",
   "metadata": {},
   "outputs": [
    {
     "name": "stdout",
     "output_type": "stream",
     "text": [
      "65.48850000000002\n"
     ]
    }
   ],
   "source": [
    "def multiply(x, y):\n",
    "    return x * y\n",
    "\n",
    "product = reduce(multiply, numbers)\n",
    "print(product)"
   ]
  },
  {
   "cell_type": "markdown",
   "id": "71740070-a693-4d84-93f5-1b0626af07ec",
   "metadata": {},
   "source": [
    "P3"
   ]
  },
  {
   "cell_type": "code",
   "execution_count": 63,
   "id": "17161283-aacb-4ccf-a5f8-ddd203d85d85",
   "metadata": {},
   "outputs": [
    {
     "name": "stdout",
     "output_type": "stream",
     "text": [
      "4.9\n"
     ]
    }
   ],
   "source": [
    "def find_max(x, y):\n",
    "    return x if x > y else y\n",
    "\n",
    "max_value = reduce(find_max, numbers)\n",
    "print(max_value)"
   ]
  },
  {
   "cell_type": "markdown",
   "id": "45f26001-62e9-4ff5-a805-51abae15eda4",
   "metadata": {},
   "source": [
    "P4"
   ]
  },
  {
   "cell_type": "code",
   "execution_count": 64,
   "id": "0addb187-e227-4dcd-b1e4-bfca23388c25",
   "metadata": {},
   "outputs": [
    {
     "data": {
      "text/plain": [
       "['Hello, ', 'world, ', 'what ', 'is ', 'up?']"
      ]
     },
     "execution_count": 64,
     "metadata": {},
     "output_type": "execute_result"
    }
   ],
   "source": [
    "strings = [\"Hello, \", \"world, \", \"what \", \"is \", \"up?\"]\n",
    "strings"
   ]
  },
  {
   "cell_type": "code",
   "execution_count": 65,
   "id": "94871b5a-91e9-4a24-ad01-3a8e912e5aa2",
   "metadata": {},
   "outputs": [
    {
     "name": "stdout",
     "output_type": "stream",
     "text": [
      "Hello, world, what is up?\n"
     ]
    }
   ],
   "source": [
    "def concatenate_strings(x, y):\n",
    "    return x + y\n",
    "\n",
    "concatenated = reduce(concatenate_strings, strings)\n",
    "print(concatenated)"
   ]
  },
  {
   "cell_type": "markdown",
   "id": "aa8f7fb0-f40d-4f01-a873-47051063ddca",
   "metadata": {},
   "source": [
    "P5"
   ]
  },
  {
   "cell_type": "code",
   "execution_count": 66,
   "id": "8bdbe2d1-94f5-440a-b1ac-700e6603d727",
   "metadata": {},
   "outputs": [
    {
     "data": {
      "text/plain": [
       "10"
      ]
     },
     "execution_count": 66,
     "metadata": {},
     "output_type": "execute_result"
    }
   ],
   "source": [
    "n = 10\n",
    "n"
   ]
  },
  {
   "cell_type": "code",
   "execution_count": 67,
   "id": "03c7cbea-53c0-4e8e-8fb6-eb9f41974b35",
   "metadata": {},
   "outputs": [
    {
     "name": "stdout",
     "output_type": "stream",
     "text": [
      "3628800\n"
     ]
    }
   ],
   "source": [
    "def factorial(x, y):\n",
    "    return x * y\n",
    "\n",
    "factorial_result = reduce(factorial, range(1, n + 1))\n",
    "print(factorial_result)"
   ]
  },
  {
   "cell_type": "markdown",
   "id": "0ee8520e-7549-4211-a5dd-774e5977dac7",
   "metadata": {},
   "source": [
    "P6"
   ]
  },
  {
   "cell_type": "code",
   "execution_count": 68,
   "id": "38eba6a9-670b-4234-88a3-cec1d0942b06",
   "metadata": {},
   "outputs": [],
   "source": [
    "from math import gcd\n",
    "# ref. https://www.w3schools.com/python/ref_math_gcd.asp"
   ]
  },
  {
   "cell_type": "code",
   "execution_count": 71,
   "id": "4f1862ee-0571-4f4b-9404-b4a9a5961dd7",
   "metadata": {},
   "outputs": [
    {
     "data": {
      "text/plain": [
       "[4, 5, 6]"
      ]
     },
     "execution_count": 71,
     "metadata": {},
     "output_type": "execute_result"
    }
   ],
   "source": [
    "numbers2"
   ]
  },
  {
   "cell_type": "code",
   "execution_count": 74,
   "id": "92b9d1c1-79e8-47a6-8dc0-01be5cfc1865",
   "metadata": {},
   "outputs": [
    {
     "name": "stdout",
     "output_type": "stream",
     "text": [
      "1\n"
     ]
    }
   ],
   "source": [
    "gcd_result = reduce(gcd, numbers2)\n",
    "print(gcd_result)"
   ]
  },
  {
   "cell_type": "markdown",
   "id": "d9bf6c70-8114-403f-9efc-e269abcf9e85",
   "metadata": {},
   "source": [
    "P7"
   ]
  },
  {
   "cell_type": "code",
   "execution_count": 76,
   "id": "92d06653-a9f4-41f8-afc3-ab32ab692ba2",
   "metadata": {},
   "outputs": [
    {
     "data": {
      "text/plain": [
       "'12345'"
      ]
     },
     "execution_count": 76,
     "metadata": {},
     "output_type": "execute_result"
    }
   ],
   "source": [
    "number = \"12345\"\n",
    "number"
   ]
  },
  {
   "cell_type": "code",
   "execution_count": 77,
   "id": "0cd1445b-6227-48fa-96cb-1d923409bd71",
   "metadata": {},
   "outputs": [
    {
     "name": "stdout",
     "output_type": "stream",
     "text": [
      "15\n"
     ]
    }
   ],
   "source": [
    "def sum_digits(x, y):\n",
    "    return int(x) + int(y)\n",
    "\n",
    "digit_sum = reduce(sum_digits, number)\n",
    "print(digit_sum)"
   ]
  },
  {
   "cell_type": "code",
   "execution_count": null,
   "id": "07ccd0c4-1d3b-41d0-a03f-362e508e8417",
   "metadata": {},
   "outputs": [],
   "source": []
  },
  {
   "cell_type": "code",
   "execution_count": null,
   "id": "5ffe7570-3886-4203-a188-de2c58e1a949",
   "metadata": {},
   "outputs": [],
   "source": []
  },
  {
   "cell_type": "markdown",
   "id": "735cedd6-b04f-418a-8288-f2d1e7c79e0d",
   "metadata": {},
   "source": [
    "Filter"
   ]
  },
  {
   "cell_type": "markdown",
   "id": "e5b462a3-5814-4c15-b466-4956c5ef0424",
   "metadata": {},
   "source": [
    "1. Explain the purpose of the `filter()` function in Python and provide an example of how it can be\n",
    "used to filter elements from an iterable.\n",
    "2. Write a Python program that uses the `filter()` function to select even numbers from a list of\n",
    "integers.\n",
    "3. Create a Python program that uses the `filter()` function to select names that start with a specific\n",
    "letter from a list of strings.\n",
    "4. Write a Python program that uses the `filter()` function to select prime numbers from a list of\n",
    "integers.\n",
    "5. How can you use the `filter()` function to remove None values from a list in Python?\n",
    "6. Create a Python program that uses `filter()` to select words longer than a certain length from a\n",
    "list of strings.\n",
    "7. Write a Python program that uses the `filter()` function to select elements greater than a\n",
    "specified threshold from a list of values.\n"
   ]
  },
  {
   "cell_type": "markdown",
   "id": "7cc1f023-332d-4e65-9518-910155c6b185",
   "metadata": {},
   "source": [
    "P1"
   ]
  },
  {
   "cell_type": "code",
   "execution_count": 80,
   "id": "b08fb3d1-1713-4bcc-a632-bd938f2764ba",
   "metadata": {},
   "outputs": [
    {
     "data": {
      "text/plain": [
       "[1, 2, 4, 6, 7, 9]"
      ]
     },
     "execution_count": 80,
     "metadata": {},
     "output_type": "execute_result"
    }
   ],
   "source": [
    "numbers = [1,2,4,6,7,9]\n",
    "numbers"
   ]
  },
  {
   "cell_type": "code",
   "execution_count": 81,
   "id": "7437ec8f-108b-4c3f-9a11-720c1ebc8dcd",
   "metadata": {},
   "outputs": [
    {
     "name": "stdout",
     "output_type": "stream",
     "text": [
      "[2, 4, 6]\n"
     ]
    }
   ],
   "source": [
    "def is_even(x):\n",
    "    return x % 2 == 0\n",
    "\n",
    "even_numbers = filter(is_even, numbers)\n",
    "filtered_list = list(even_numbers)\n",
    "print(filtered_list) "
   ]
  },
  {
   "cell_type": "markdown",
   "id": "e05c8019-c5fd-4b2c-93c1-5b9bcd689be2",
   "metadata": {},
   "source": [
    "P2"
   ]
  },
  {
   "cell_type": "code",
   "execution_count": 82,
   "id": "34ce4293-fca1-4952-a4d9-0d93283d8da4",
   "metadata": {},
   "outputs": [
    {
     "name": "stdout",
     "output_type": "stream",
     "text": [
      "[2, 4, 6]\n"
     ]
    }
   ],
   "source": [
    "even_numbers = list(filter(lambda x: x % 2 == 0, numbers))\n",
    "print(even_numbers)"
   ]
  },
  {
   "cell_type": "markdown",
   "id": "f34f4adf-75f3-4422-8104-9bd8b727ec99",
   "metadata": {},
   "source": [
    "P3"
   ]
  },
  {
   "cell_type": "code",
   "execution_count": 83,
   "id": "dfaae422-329e-42f5-8d9c-0ad7df0cd2aa",
   "metadata": {},
   "outputs": [
    {
     "data": {
      "text/plain": [
       "['Amy', 'Bobby', 'Charles', 'David']"
      ]
     },
     "execution_count": 83,
     "metadata": {},
     "output_type": "execute_result"
    }
   ],
   "source": [
    "names = [\"Amy\", \"Bobby\", \"Charles\", \"David\"]\n",
    "names"
   ]
  },
  {
   "cell_type": "code",
   "execution_count": 84,
   "id": "038ccb33-3cb8-496e-bf2d-124ff5224247",
   "metadata": {},
   "outputs": [
    {
     "data": {
      "text/plain": [
       "'A'"
      ]
     },
     "execution_count": 84,
     "metadata": {},
     "output_type": "execute_result"
    }
   ],
   "source": [
    "letter = \"A\"\n",
    "letter"
   ]
  },
  {
   "cell_type": "code",
   "execution_count": 85,
   "id": "d3218840-1645-444d-b579-d1f6899af1bd",
   "metadata": {},
   "outputs": [
    {
     "name": "stdout",
     "output_type": "stream",
     "text": [
      "['Amy']\n"
     ]
    }
   ],
   "source": [
    "filtered_names = list(filter(lambda name: name.startswith(letter), names))\n",
    "print(filtered_names)"
   ]
  },
  {
   "cell_type": "markdown",
   "id": "5ba2e2e8-4767-4e55-b378-bf17c680581a",
   "metadata": {},
   "source": [
    "P4"
   ]
  },
  {
   "cell_type": "code",
   "execution_count": 86,
   "id": "b643f428-8171-4490-adbd-76d5da9486ed",
   "metadata": {},
   "outputs": [
    {
     "data": {
      "text/plain": [
       "[1, 2, 4, 6, 7, 9]"
      ]
     },
     "execution_count": 86,
     "metadata": {},
     "output_type": "execute_result"
    }
   ],
   "source": [
    "numbers"
   ]
  },
  {
   "cell_type": "code",
   "execution_count": 87,
   "id": "6b80921a-ec06-4bbd-aab5-22823e833908",
   "metadata": {},
   "outputs": [
    {
     "name": "stdout",
     "output_type": "stream",
     "text": [
      "[2, 7]\n"
     ]
    }
   ],
   "source": [
    "def is_prime(n):\n",
    "    if n <= 1:\n",
    "        return False\n",
    "    if n <= 3:\n",
    "        return True\n",
    "    if n % 2 == 0 or n % 3 == 0:\n",
    "        return False\n",
    "    i = 5\n",
    "    while i * i <= n:\n",
    "        if n % i == 0 or n % (i + 2) == 0:\n",
    "            return False\n",
    "        i += 6\n",
    "    return True\n",
    "\n",
    "prime_numbers = list(filter(is_prime, numbers))\n",
    "print(prime_numbers)"
   ]
  },
  {
   "cell_type": "markdown",
   "id": "adfc5a78-7281-4c13-9bc7-0d59d634fe68",
   "metadata": {},
   "source": [
    "P5"
   ]
  },
  {
   "cell_type": "code",
   "execution_count": 88,
   "id": "4a8b886e-7193-4efb-b2b0-1c09a49fc10d",
   "metadata": {},
   "outputs": [
    {
     "data": {
      "text/plain": [
       "[2, None, 865, None]"
      ]
     },
     "execution_count": 88,
     "metadata": {},
     "output_type": "execute_result"
    }
   ],
   "source": [
    "numbers = [2, None, 865, None]\n",
    "numbers"
   ]
  },
  {
   "cell_type": "code",
   "execution_count": 90,
   "id": "0d63a37c-c49a-4be4-85c8-5abdd76772c9",
   "metadata": {},
   "outputs": [
    {
     "name": "stdout",
     "output_type": "stream",
     "text": [
      "[2, 865]\n"
     ]
    }
   ],
   "source": [
    "filtered_values = list(filter(lambda x: x is not None, numbers))\n",
    "print(filtered_values)"
   ]
  },
  {
   "cell_type": "markdown",
   "id": "9b4aa369-5007-489b-9efc-b9c3d2c0a628",
   "metadata": {},
   "source": [
    "P6"
   ]
  },
  {
   "cell_type": "code",
   "execution_count": 91,
   "id": "441e4af7-aeb1-41c7-8547-de29a3901a7c",
   "metadata": {},
   "outputs": [
    {
     "data": {
      "text/plain": [
       "['Amy', 'Bobby', 'Charles', 'David']"
      ]
     },
     "execution_count": 91,
     "metadata": {},
     "output_type": "execute_result"
    }
   ],
   "source": [
    "names"
   ]
  },
  {
   "cell_type": "code",
   "execution_count": 92,
   "id": "34c857fc-035e-493d-8b1c-8164da905b3a",
   "metadata": {},
   "outputs": [],
   "source": [
    "length = 5"
   ]
  },
  {
   "cell_type": "code",
   "execution_count": 94,
   "id": "7e4c8e2d-8e39-44d7-a2c1-629ca9fe23f6",
   "metadata": {},
   "outputs": [
    {
     "name": "stdout",
     "output_type": "stream",
     "text": [
      "['Bobby', 'Charles', 'David']\n"
     ]
    }
   ],
   "source": [
    "long_words = list(filter(lambda word: len(word) >= length, names))\n",
    "print(long_words)"
   ]
  },
  {
   "cell_type": "markdown",
   "id": "a00c04fc-8e47-4e1e-b23a-e6cbe4f4144d",
   "metadata": {},
   "source": [
    "P7"
   ]
  },
  {
   "cell_type": "code",
   "execution_count": 96,
   "id": "5c652b19-6f81-4fce-bf32-18d3fe8f6001",
   "metadata": {},
   "outputs": [
    {
     "data": {
      "text/plain": [
       "[10, 25, 5, 30, 15, 40, 20]"
      ]
     },
     "execution_count": 96,
     "metadata": {},
     "output_type": "execute_result"
    }
   ],
   "source": [
    "numbers = [10, 25, 5, 30, 15, 40, 20]\n",
    "numbers"
   ]
  },
  {
   "cell_type": "code",
   "execution_count": 97,
   "id": "fb124777-a878-4a2c-af8b-03b59003d478",
   "metadata": {},
   "outputs": [],
   "source": [
    "threshold = 15"
   ]
  },
  {
   "cell_type": "code",
   "execution_count": 98,
   "id": "73e8e05a-aff4-46f1-9d8e-9f69bffb63d5",
   "metadata": {},
   "outputs": [
    {
     "name": "stdout",
     "output_type": "stream",
     "text": [
      "[25, 30, 40, 20]\n"
     ]
    }
   ],
   "source": [
    "filtered_values = list(filter(lambda x: x > threshold, numbers))\n",
    "print(filtered_values)"
   ]
  },
  {
   "cell_type": "code",
   "execution_count": null,
   "id": "f735dcf3-6145-4dc9-a26e-45981696a6f6",
   "metadata": {},
   "outputs": [],
   "source": []
  },
  {
   "cell_type": "code",
   "execution_count": null,
   "id": "3948faac-4587-4538-867e-08f9b8c719e3",
   "metadata": {},
   "outputs": [],
   "source": []
  },
  {
   "cell_type": "markdown",
   "id": "f3e5e52a-968d-4cc7-a1b2-081b5f376e43",
   "metadata": {},
   "source": [
    "Recursion"
   ]
  },
  {
   "cell_type": "markdown",
   "id": "fcb35c65-5822-4bb7-9a3d-0aee3cae3b1e",
   "metadata": {},
   "source": [
    "1. Explain the concept of recursion in Python. How does it differ from iteration?\n",
    "2. Write a Python program to calculate the factorial of a number using recursion.\n",
    "3. Create a recursive Python function to find the nth Fibonacci number.\n",
    "4. Write a recursive Python function to calculate the sum of all elements in a list.\n",
    "5. How can you prevent a recursive function from running indefinitely, causing a stack overflow\n",
    "error?\n",
    "6. Create a recursive Python function to find the greatest common divisor (GCD) of two numbers\n",
    "using the Euclidean algorithm.\n",
    "7. Write a recursive Python function to reverse a string.\n",
    "8. Create a recursive Python function to calculate the power of a number (x^n).\n",
    "9. Write a recursive Python function to find all permutations of a given string.\n",
    "10. Write a recursive Python function to check if a string is a palindrome.\n",
    "11. Create a recursive Python function to generate all possible combinations of a list of elements.\n"
   ]
  },
  {
   "cell_type": "markdown",
   "id": "cdbac61f-a4d7-45ce-a54b-39b8d37a5487",
   "metadata": {},
   "source": [
    "P1"
   ]
  },
  {
   "cell_type": "code",
   "execution_count": 5,
   "id": "b453327d-3d8a-49d5-b905-0d20c1408873",
   "metadata": {},
   "outputs": [
    {
     "data": {
      "text/plain": [
       "'Recursion is to repeat. Its different than iteration as in iteration it iterated or loop until its done, where as in recursion it invokes the same function bu updating the value until its done'"
      ]
     },
     "execution_count": 5,
     "metadata": {},
     "output_type": "execute_result"
    }
   ],
   "source": [
    "'''Recursion is to repeat. Its different than iteration as in iteration it iterated or loop until its done, where as in recursion it invokes the same function bu updating the value until its done'''"
   ]
  },
  {
   "cell_type": "markdown",
   "id": "0f6fcca1-36d8-420f-8464-ab57fdba9cba",
   "metadata": {},
   "source": [
    "P2"
   ]
  },
  {
   "cell_type": "code",
   "execution_count": 1,
   "id": "84d1ae15-5d29-4e3d-94da-00c0884abe9e",
   "metadata": {},
   "outputs": [
    {
     "name": "stdout",
     "output_type": "stream",
     "text": [
      "120\n"
     ]
    }
   ],
   "source": [
    "def factorial(n):\n",
    "    if n == 0:\n",
    "        return 1\n",
    "    else:\n",
    "        return n * factorial(n - 1)\n",
    "\n",
    "result = factorial(5) \n",
    "print(result) "
   ]
  },
  {
   "cell_type": "markdown",
   "id": "4ed760f0-8df7-4d92-befe-dc12469f6143",
   "metadata": {},
   "source": [
    "P3"
   ]
  },
  {
   "cell_type": "code",
   "execution_count": 2,
   "id": "1c464e2e-ec2a-47c4-8651-39b94eef639a",
   "metadata": {},
   "outputs": [
    {
     "name": "stdout",
     "output_type": "stream",
     "text": [
      "8\n"
     ]
    }
   ],
   "source": [
    "def fibonacci(n):\n",
    "    if n <= 0:\n",
    "        return 0\n",
    "    elif n == 1:\n",
    "        return 1\n",
    "    else:\n",
    "        return fibonacci(n - 1) + fibonacci(n - 2)\n",
    "\n",
    "result = fibonacci(6)\n",
    "print(result)\n"
   ]
  },
  {
   "cell_type": "markdown",
   "id": "91fbbbea-cf08-421c-856e-dd46162be6c5",
   "metadata": {},
   "source": [
    "P4"
   ]
  },
  {
   "cell_type": "code",
   "execution_count": 3,
   "id": "9e0ccf8a-f2e9-4018-b028-2e09f7860ed7",
   "metadata": {},
   "outputs": [
    {
     "data": {
      "text/plain": [
       "[1, 2, 3, 4, 5]"
      ]
     },
     "execution_count": 3,
     "metadata": {},
     "output_type": "execute_result"
    }
   ],
   "source": [
    "numbers = [1, 2, 3, 4, 5]\n",
    "numbers"
   ]
  },
  {
   "cell_type": "code",
   "execution_count": 4,
   "id": "1f27fa2a-59a2-4cfb-941d-c4ed9ea0c3a6",
   "metadata": {},
   "outputs": [
    {
     "name": "stdout",
     "output_type": "stream",
     "text": [
      "15\n"
     ]
    }
   ],
   "source": [
    "def sum_list(arr):\n",
    "    if not arr:\n",
    "        return 0\n",
    "    else:\n",
    "        return arr[0] + sum_list(arr[1:])\n",
    "\n",
    "result = sum_list(numbers) \n",
    "print(result) \n"
   ]
  },
  {
   "cell_type": "markdown",
   "id": "da9b6b2e-9dda-4b9f-a29b-72372e7fc3f7",
   "metadata": {},
   "source": [
    "P5"
   ]
  },
  {
   "cell_type": "code",
   "execution_count": 6,
   "id": "e41cc0e4-3ad6-4110-b23d-ade9c3d02205",
   "metadata": {},
   "outputs": [
    {
     "data": {
      "text/plain": [
       "'To prevent it, it should have a base case ie. a terminating condition, whereas it should move closer to the base condition on each recursion call'"
      ]
     },
     "execution_count": 6,
     "metadata": {},
     "output_type": "execute_result"
    }
   ],
   "source": [
    "'''To prevent it, it should have a base case ie. a terminating condition, whereas it should move closer to the base condition on each recursion call'''"
   ]
  },
  {
   "cell_type": "markdown",
   "id": "90aa5cdb-d681-4dfe-93cc-4213d8ccdc0b",
   "metadata": {},
   "source": [
    "P6"
   ]
  },
  {
   "cell_type": "code",
   "execution_count": 7,
   "id": "e2c859fc-b37e-471c-bc36-6f243323e10a",
   "metadata": {},
   "outputs": [
    {
     "name": "stdout",
     "output_type": "stream",
     "text": [
      "6\n"
     ]
    }
   ],
   "source": [
    "def gcd(x, y):\n",
    "    if y == 0:\n",
    "        return x\n",
    "    else:\n",
    "        return gcd(y, x % y)\n",
    "\n",
    "result = gcd(48, 18)  \n",
    "print(result)\n"
   ]
  },
  {
   "cell_type": "markdown",
   "id": "035d86f1-c0b4-4b16-9375-00d2dfb1d1db",
   "metadata": {},
   "source": [
    "P7"
   ]
  },
  {
   "cell_type": "code",
   "execution_count": 8,
   "id": "0d1b5c78-7a6b-4864-9706-f7b536c3e57b",
   "metadata": {},
   "outputs": [
    {
     "name": "stdout",
     "output_type": "stream",
     "text": [
      "olleh\n"
     ]
    }
   ],
   "source": [
    "def reverse_string(s):\n",
    "    if len(s) == 0:\n",
    "        return s\n",
    "    else:\n",
    "        return reverse_string(s[1:]) + s[0]\n",
    "\n",
    "result = reverse_string(\"hello\") \n",
    "print(result)"
   ]
  },
  {
   "cell_type": "markdown",
   "id": "71a11169-4291-4329-99c6-97ae18c840cf",
   "metadata": {},
   "source": [
    "P8"
   ]
  },
  {
   "cell_type": "code",
   "execution_count": 9,
   "id": "e5330373-d516-4bea-a026-71dcefa17f49",
   "metadata": {},
   "outputs": [
    {
     "name": "stdout",
     "output_type": "stream",
     "text": [
      "8\n"
     ]
    }
   ],
   "source": [
    "def power(x, n):\n",
    "    if n == 0:\n",
    "        return 1\n",
    "    else:\n",
    "        return x * power(x, n - 1)\n",
    "\n",
    "result = power(2, 3)  \n",
    "print(result)\n"
   ]
  },
  {
   "cell_type": "markdown",
   "id": "b5ba278d-739e-4fb5-83fd-43f751397181",
   "metadata": {},
   "source": [
    "P9"
   ]
  },
  {
   "cell_type": "code",
   "execution_count": 10,
   "id": "c72052c9-9edb-48f0-82fc-1e41f0298fa1",
   "metadata": {},
   "outputs": [
    {
     "name": "stdout",
     "output_type": "stream",
     "text": [
      "abc\n",
      "acb\n",
      "bac\n",
      "bca\n",
      "cab\n",
      "cba\n"
     ]
    }
   ],
   "source": [
    "def permutations(string):\n",
    "    if len(string) <= 1:\n",
    "        return [string]\n",
    "    \n",
    "    perms = []\n",
    "    for char in string:\n",
    "        remaining_chars = string.replace(char, '', 1)\n",
    "        for perm in permutations(remaining_chars):\n",
    "            perms.append(char + perm)\n",
    "    \n",
    "    return perms\n",
    "\n",
    "input_string = \"abc\"\n",
    "result = permutations(input_string)\n",
    "for perm in result:\n",
    "    print(perm)\n"
   ]
  },
  {
   "cell_type": "markdown",
   "id": "a3d01bcc-d96f-42f3-9e4b-7bbcec74bab5",
   "metadata": {},
   "source": [
    "P10"
   ]
  },
  {
   "cell_type": "code",
   "execution_count": 11,
   "id": "9e211d98-c583-4fe5-a167-45e6e51d477a",
   "metadata": {},
   "outputs": [
    {
     "data": {
      "text/plain": [
       "'racecar'"
      ]
     },
     "execution_count": 11,
     "metadata": {},
     "output_type": "execute_result"
    }
   ],
   "source": [
    "input_string = \"racecar\"\n",
    "input_string"
   ]
  },
  {
   "cell_type": "code",
   "execution_count": 12,
   "id": "61bf633b-e941-4f38-8b8a-9e4fe15f24ab",
   "metadata": {},
   "outputs": [
    {
     "name": "stdout",
     "output_type": "stream",
     "text": [
      "racecar is a palindrome.\n"
     ]
    }
   ],
   "source": [
    "def is_palindrome(string):\n",
    "    string = string.lower()\n",
    "    if len(string) <= 1:\n",
    "        return True\n",
    "    if string[0] != string[-1]:\n",
    "        return False\n",
    "    return is_palindrome(string[1:-1])\n",
    "\n",
    "if is_palindrome(input_string):\n",
    "    print(f\"{input_string} is a palindrome.\")\n",
    "else:\n",
    "    print(f\"{input_string} is not a palindrome.\")\n"
   ]
  },
  {
   "cell_type": "markdown",
   "id": "fa48b9f2-33e7-49da-93d8-2ebd2eb746d6",
   "metadata": {},
   "source": [
    "P11"
   ]
  },
  {
   "cell_type": "code",
   "execution_count": 13,
   "id": "3f9b06bf-3af2-4e82-8c4d-d5c8e1e6eaa5",
   "metadata": {},
   "outputs": [],
   "source": [
    "elements = [1, 2, 3, 4]\n",
    "k = 2 "
   ]
  },
  {
   "cell_type": "code",
   "execution_count": 14,
   "id": "b8e8ba90-7bc0-4e64-8d00-0649ac72b495",
   "metadata": {},
   "outputs": [
    {
     "name": "stdout",
     "output_type": "stream",
     "text": [
      "[1, 2]\n",
      "[1, 3]\n",
      "[1, 4]\n",
      "[2, 3]\n",
      "[2, 4]\n",
      "[3, 4]\n"
     ]
    }
   ],
   "source": [
    "def generate_combinations(arr, r):\n",
    "    def backtrack(start, curr_combination):\n",
    "        if len(curr_combination) == r:\n",
    "            combinations.append(curr_combination[:])\n",
    "            return\n",
    "\n",
    "        for i in range(start, len(arr)):\n",
    "            curr_combination.append(arr[i])\n",
    "            backtrack(i + 1, curr_combination)\n",
    "            curr_combination.pop()\n",
    "\n",
    "    combinations = []\n",
    "    backtrack(0, [])\n",
    "    return combinations\n",
    "\n",
    "\n",
    "combinations = generate_combinations(elements, k)\n",
    "for combination in combinations:\n",
    "    print(combination)\n"
   ]
  },
  {
   "cell_type": "code",
   "execution_count": null,
   "id": "0773bd4a-6cfe-4f94-8f69-edcf5a88edd4",
   "metadata": {},
   "outputs": [],
   "source": []
  },
  {
   "cell_type": "code",
   "execution_count": null,
   "id": "a4f53600-8809-4521-a6b8-01c7904f2a67",
   "metadata": {},
   "outputs": [],
   "source": []
  },
  {
   "cell_type": "markdown",
   "id": "8baa045c-06cd-4365-90f6-7bca1423fde4",
   "metadata": {},
   "source": [
    "Basics of Functions:\n",
    "1. What is a function in Python, and why is it used?\n",
    "2. How do you define a function in Python? Provide an example.\n",
    "3. Explain the difference between a function definition and a function call.\n",
    "4. Write a Python program that defines a function to calculate the sum of two numbers and then\n",
    "calls the function.\n",
    "5. What is a function signature, and what information does it typically include?\n",
    "6. Create a Python function that takes two arguments and returns their product.\n"
   ]
  },
  {
   "cell_type": "markdown",
   "id": "f8bb87fb-a3ba-42c5-9e0a-37e695165179",
   "metadata": {},
   "source": [
    "P1"
   ]
  },
  {
   "cell_type": "code",
   "execution_count": 15,
   "id": "728958cd-8716-43fd-9cb4-53677c71afe7",
   "metadata": {},
   "outputs": [
    {
     "data": {
      "text/plain": [
       "'Function is used to defince behaviour of a class, it is used to reduce redundant code'"
      ]
     },
     "execution_count": 15,
     "metadata": {},
     "output_type": "execute_result"
    }
   ],
   "source": [
    "'''Function is used to defince behaviour of a class, it is used to reduce redundant code'''"
   ]
  },
  {
   "cell_type": "markdown",
   "id": "23dc3f6c-27a8-4151-bf05-9ae80212ee45",
   "metadata": {},
   "source": [
    "P2"
   ]
  },
  {
   "cell_type": "code",
   "execution_count": 16,
   "id": "33eee458-ba52-44e2-8dad-d3a4f217e479",
   "metadata": {},
   "outputs": [],
   "source": [
    "def function():\n",
    "    print('its a function')"
   ]
  },
  {
   "cell_type": "code",
   "execution_count": 17,
   "id": "03f92168-155f-4001-a124-7eed95fda1c4",
   "metadata": {},
   "outputs": [
    {
     "data": {
      "text/plain": [
       "'To define a function, use def keywork followed by the function name'"
      ]
     },
     "execution_count": 17,
     "metadata": {},
     "output_type": "execute_result"
    }
   ],
   "source": [
    "'''To define a function, use def keywork followed by the function name'''"
   ]
  },
  {
   "cell_type": "markdown",
   "id": "23a66518-2cfa-4ec0-aae6-41d818030cf4",
   "metadata": {},
   "source": [
    "P3"
   ]
  },
  {
   "cell_type": "code",
   "execution_count": 18,
   "id": "7ccff51f-879a-45a0-b9e6-69321e735158",
   "metadata": {},
   "outputs": [
    {
     "data": {
      "text/plain": [
       "'function definition is to define a function with its input parameters, its oeration and return whereas to execute this function we must have to invoke it which is function call'"
      ]
     },
     "execution_count": 18,
     "metadata": {},
     "output_type": "execute_result"
    }
   ],
   "source": [
    "'''function definition is to define a function with its input parameters, its oeration and return whereas to execute this function we must have to invoke it which is function call'''"
   ]
  },
  {
   "cell_type": "code",
   "execution_count": 19,
   "id": "b1cf6fe0-2818-49ac-828a-b041e49d5eda",
   "metadata": {},
   "outputs": [],
   "source": [
    "# funtion definition\n",
    "def exampleFun():\n",
    "    print(\"a function\")"
   ]
  },
  {
   "cell_type": "code",
   "execution_count": 20,
   "id": "f23da6e9-38dd-448c-bb69-35c40c0bb96e",
   "metadata": {},
   "outputs": [
    {
     "name": "stdout",
     "output_type": "stream",
     "text": [
      "a function\n"
     ]
    }
   ],
   "source": [
    "# function call\n",
    "exampleFun()"
   ]
  },
  {
   "cell_type": "markdown",
   "id": "fe727f49-543c-474c-869a-7da98069f7a7",
   "metadata": {},
   "source": [
    "P4"
   ]
  },
  {
   "cell_type": "code",
   "execution_count": 21,
   "id": "ff5a39db-6ee5-462a-b486-875294d29a80",
   "metadata": {},
   "outputs": [],
   "source": [
    "def sumFunc(a, b):\n",
    "    print(a+b)"
   ]
  },
  {
   "cell_type": "code",
   "execution_count": 22,
   "id": "919ba994-9c95-415e-814c-52a75a6637c1",
   "metadata": {},
   "outputs": [
    {
     "name": "stdout",
     "output_type": "stream",
     "text": [
      "11\n"
     ]
    }
   ],
   "source": [
    "sumFunc(5,6)"
   ]
  },
  {
   "cell_type": "markdown",
   "id": "d50c0979-f86e-4128-9a96-b1e33825aa9d",
   "metadata": {},
   "source": [
    "P5"
   ]
  },
  {
   "cell_type": "code",
   "execution_count": 23,
   "id": "f098f348-f2aa-401d-8c3b-d79be64e7436",
   "metadata": {},
   "outputs": [
    {
     "data": {
      "text/plain": [
       "'Function signature is function declaration itself which provides information about function interface including name, return type and parameter set'"
      ]
     },
     "execution_count": 23,
     "metadata": {},
     "output_type": "execute_result"
    }
   ],
   "source": [
    "'''Function signature is function declaration itself which provides information about function interface including name, return type and parameter set'''"
   ]
  },
  {
   "cell_type": "markdown",
   "id": "33e525cc-16f3-4e75-a453-d9452408397d",
   "metadata": {},
   "source": [
    "It includes:\n",
    "1. function name\n",
    "2. return type\n",
    "3. parameter set\n",
    "\n",
    "eg. def sumnFun(x: int, y: int) -> int\n"
   ]
  },
  {
   "cell_type": "markdown",
   "id": "0db0f8eb-bdb4-4c6f-9aa4-2406c8fb38ce",
   "metadata": {},
   "source": [
    "P6"
   ]
  },
  {
   "cell_type": "code",
   "execution_count": 26,
   "id": "90d693fc-6045-476e-be86-0857fefe760d",
   "metadata": {},
   "outputs": [
    {
     "data": {
      "text/plain": [
       "6"
      ]
     },
     "execution_count": 26,
     "metadata": {},
     "output_type": "execute_result"
    }
   ],
   "source": [
    "def prod(x, y):\n",
    "    return x*y\n",
    "\n",
    "prod(2,3)"
   ]
  },
  {
   "cell_type": "code",
   "execution_count": null,
   "id": "c6e1b4a9-fdba-4c4f-96ac-4518c5f104c2",
   "metadata": {},
   "outputs": [],
   "source": []
  },
  {
   "cell_type": "code",
   "execution_count": null,
   "id": "ad14e4c6-23cd-4f78-b23e-c6139dd276cc",
   "metadata": {},
   "outputs": [],
   "source": []
  },
  {
   "cell_type": "markdown",
   "id": "42b04dea-165b-46da-b3f8-b782215eba27",
   "metadata": {},
   "source": [
    "Function Parameters and Arguments:\n",
    "1. Explain the concepts of formal parameters and actual arguments in Python functions.\n",
    "2. Write a Python program that defines a function with default argument values.\n",
    "3. How do you use keyword arguments in Python function calls? Provide an example.\n",
    "4. Create a Python function that accepts a variable number of arguments and calculates their sum.\n",
    "5. What is the purpose of the `*args` and `**kwargs` syntax in function parameter lists?\n"
   ]
  },
  {
   "cell_type": "markdown",
   "id": "e5de032a-d017-4e83-bb9c-173fb37521d9",
   "metadata": {},
   "source": [
    "P1"
   ]
  },
  {
   "cell_type": "markdown",
   "id": "d396b3e3-32cc-41fc-8f22-f02183797721",
   "metadata": {},
   "source": [
    "Formal parameter: these are the placeholder in parameter list,  they represent the values that the function expects to receive when it is invoked.\n",
    "\n",
    "Actual argument: These are the actual values or expressions passed to a function when it is invoked."
   ]
  },
  {
   "cell_type": "code",
   "execution_count": 27,
   "id": "ce4b76f9-c794-480e-ae0c-11bc5a9045a1",
   "metadata": {},
   "outputs": [],
   "source": [
    "def func(a, b):\n",
    "    print(a + b)\n",
    "    \n",
    "# here, a and b are formal parameter"
   ]
  },
  {
   "cell_type": "code",
   "execution_count": 28,
   "id": "48e7e0b2-d7df-4f78-b7b0-2eac5160a5b6",
   "metadata": {},
   "outputs": [
    {
     "name": "stdout",
     "output_type": "stream",
     "text": [
      "5\n"
     ]
    }
   ],
   "source": [
    "func(2, 3) # 2 and 3 are actual arguments"
   ]
  },
  {
   "cell_type": "markdown",
   "id": "38cc4aaa-c5ad-4848-a8c6-7503c55bf052",
   "metadata": {},
   "source": [
    "P2"
   ]
  },
  {
   "cell_type": "code",
   "execution_count": 30,
   "id": "1edfe130-8da8-4b84-9105-c2bb1881764d",
   "metadata": {},
   "outputs": [
    {
     "name": "stdout",
     "output_type": "stream",
     "text": [
      "Hello, Guest!\n",
      "Hello, Alice!\n"
     ]
    }
   ],
   "source": [
    "def greet(name=\"Guest\"): # guest as the default value arg of name\n",
    "    print(f\"Hello, {name}!\")\n",
    "\n",
    "greet()           \n",
    "greet(\"Alice\")  "
   ]
  },
  {
   "cell_type": "markdown",
   "id": "bd0085e1-787b-4e6c-9cc4-86314ec623d8",
   "metadata": {},
   "source": [
    "P3"
   ]
  },
  {
   "cell_type": "code",
   "execution_count": 35,
   "id": "88f1cd58-87fc-4bc0-943c-b7c2f5e89930",
   "metadata": {},
   "outputs": [],
   "source": [
    "def create_person(name, age, city):\n",
    "    person = {\"name\": name, \"age\": age, \"city\": city}\n",
    "    return person\n",
    "\n",
    "person_info = create_person(name=\"Abc\", age=30, city=\"Pip\")"
   ]
  },
  {
   "cell_type": "code",
   "execution_count": 36,
   "id": "bf0f0138-a5c1-4dcd-b24c-1a44ce0f9449",
   "metadata": {},
   "outputs": [
    {
     "data": {
      "text/plain": [
       "{'name': 'Abc', 'age': 30, 'city': 'Pip'}"
      ]
     },
     "execution_count": 36,
     "metadata": {},
     "output_type": "execute_result"
    }
   ],
   "source": [
    "person_info"
   ]
  },
  {
   "cell_type": "markdown",
   "id": "66ae83e9-3458-4d50-b7ff-6f027a676883",
   "metadata": {},
   "source": [
    "P4"
   ]
  },
  {
   "cell_type": "code",
   "execution_count": 38,
   "id": "ea253654-1909-410a-b030-94f5c8e61d57",
   "metadata": {},
   "outputs": [
    {
     "data": {
      "text/plain": [
       "15"
      ]
     },
     "execution_count": 38,
     "metadata": {},
     "output_type": "execute_result"
    }
   ],
   "source": [
    "def add_numbers(*args):\n",
    "    total = 0\n",
    "    for num in args:\n",
    "        total += num\n",
    "    return total\n",
    "\n",
    "result = add_numbers(1, 2, 3, 4, 5)\n",
    "result"
   ]
  },
  {
   "cell_type": "markdown",
   "id": "98051bfe-0381-4145-8529-896c611f3394",
   "metadata": {},
   "source": [
    "P5"
   ]
  },
  {
   "cell_type": "markdown",
   "id": "32829f6b-1352-4458-b352-e705ba2543d9",
   "metadata": {},
   "source": [
    "*args: Allows you to pass a variable number of non-keyword (positional) arguments to a function. It collects these arguments into a tuple.\n",
    "\n",
    "**kwargs: Allows you to pass a variable number of keyword arguments (keyword-value pairs) to a function. It collects these arguments into a dictionary."
   ]
  },
  {
   "cell_type": "code",
   "execution_count": null,
   "id": "ab3fe41e-fba4-4e7d-a4b9-0a083778838e",
   "metadata": {},
   "outputs": [],
   "source": []
  },
  {
   "cell_type": "code",
   "execution_count": null,
   "id": "0297a682-eac7-457a-aca2-d473cb11d497",
   "metadata": {},
   "outputs": [],
   "source": []
  },
  {
   "cell_type": "markdown",
   "id": "53607c87-d8d6-41e2-86ab-4119e98fa3bd",
   "metadata": {},
   "source": [
    "Return Values and Scoping:\n",
    "1. Describe the role of the `return` statement in Python functions and provide examples.\n",
    "2. Explain the concept of variable scope in Python, including local and global variables.\n",
    "3. Write a Python program that demonstrates the use of global variables within functions.\n",
    "4. Create a Python function that calculates the factorial of a number and returns it.\n",
    "5. How can you access variables defined outside a function from within the function?"
   ]
  },
  {
   "cell_type": "markdown",
   "id": "40f828eb-d51b-4d9a-af1c-25653def82df",
   "metadata": {},
   "source": [
    "P1"
   ]
  },
  {
   "cell_type": "markdown",
   "id": "8b58f1e3-0e5c-42c2-a866-f26be6ae983c",
   "metadata": {},
   "source": [
    "return is used to return the result when function is invoked"
   ]
  },
  {
   "cell_type": "code",
   "execution_count": 46,
   "id": "d830a475-a2e6-4a2b-a9d7-ed75eeb8a83b",
   "metadata": {},
   "outputs": [
    {
     "data": {
      "text/plain": [
       "5"
      ]
     },
     "execution_count": 46,
     "metadata": {},
     "output_type": "execute_result"
    }
   ],
   "source": [
    "def add(a, b):\n",
    "    # returning sum of a and b\n",
    "    return a + b\n",
    "\n",
    "add(2, 3)"
   ]
  },
  {
   "cell_type": "markdown",
   "id": "014449f4-1b58-4da3-b6aa-93731645bbfc",
   "metadata": {},
   "source": [
    "P2"
   ]
  },
  {
   "cell_type": "markdown",
   "id": "9d68fab9-6fea-4ee8-980a-b6dc12664e66",
   "metadata": {},
   "source": [
    "Local variable Scope: Variables defined inside a function. They are only accessible within that function.\n",
    "\n",
    "Global variable scope: Variables defined outside of any function. They are accessible from any part of the code, including functions."
   ]
  },
  {
   "cell_type": "markdown",
   "id": "9db3c5e6-5380-4d9f-a0a0-c6905ce8bfd5",
   "metadata": {},
   "source": [
    "P3"
   ]
  },
  {
   "cell_type": "code",
   "execution_count": 51,
   "id": "a47092fb-20e5-4864-a397-3048183f2b0e",
   "metadata": {},
   "outputs": [
    {
     "name": "stdout",
     "output_type": "stream",
     "text": [
      "8\n"
     ]
    }
   ],
   "source": [
    "tempVar = 8\n",
    "\n",
    "def printVar():\n",
    "    print(tempVar)\n",
    "    \n",
    "printVar()"
   ]
  },
  {
   "cell_type": "markdown",
   "id": "5c30422a-995a-41f4-bc31-0d516a742a80",
   "metadata": {},
   "source": [
    "P4"
   ]
  },
  {
   "cell_type": "code",
   "execution_count": 49,
   "id": "b027e924-7dbb-4fab-977a-e42de8d7714f",
   "metadata": {},
   "outputs": [],
   "source": [
    "def fact(n):\n",
    "    factorial = 1\n",
    "    for i in range(1, n+1):\n",
    "        factorial*= i\n",
    "    return factorial"
   ]
  },
  {
   "cell_type": "code",
   "execution_count": 50,
   "id": "12b49fd9-31cb-4cbc-90a1-572aca32e769",
   "metadata": {},
   "outputs": [
    {
     "data": {
      "text/plain": [
       "120"
      ]
     },
     "execution_count": 50,
     "metadata": {},
     "output_type": "execute_result"
    }
   ],
   "source": [
    "fact(5)"
   ]
  },
  {
   "cell_type": "markdown",
   "id": "65734888-39c5-4bfe-8049-d74f66d7538c",
   "metadata": {},
   "source": [
    "P5"
   ]
  },
  {
   "cell_type": "markdown",
   "id": "5859d53a-e9ba-4f81-b869-46e64ab130dd",
   "metadata": {},
   "source": [
    "To access the variable defined outside a function from within the function, use keywork global followed by the name of variable\n"
   ]
  },
  {
   "cell_type": "code",
   "execution_count": 52,
   "id": "10d6c76b-2347-4623-b9ef-9d236f2815cf",
   "metadata": {},
   "outputs": [
    {
     "data": {
      "text/plain": [
       "8"
      ]
     },
     "execution_count": 52,
     "metadata": {},
     "output_type": "execute_result"
    }
   ],
   "source": [
    "tempVar"
   ]
  },
  {
   "cell_type": "code",
   "execution_count": 53,
   "id": "edf4931e-72d6-478a-9adb-ddd83deda9ce",
   "metadata": {},
   "outputs": [
    {
     "name": "stdout",
     "output_type": "stream",
     "text": [
      "18\n"
     ]
    }
   ],
   "source": [
    "def modify():\n",
    "    global tempVar\n",
    "    tempVar = 18\n",
    "\n",
    "modify()\n",
    "print(tempVar)"
   ]
  },
  {
   "cell_type": "markdown",
   "id": "ec744ffd-41ee-42e3-a205-a690a1f54b09",
   "metadata": {},
   "source": [
    "Lambda Functions and Higher-Order Functions:\n",
    "1. What are lambda functions in Python, and when are they typically used?\n",
    "2. Write a Python program that uses lambda functions to sort a list of tuples based on the second\n",
    "element.\n",
    "3. Explain the concept of higher-order functions in Python, and provide an example.\n",
    "4. Create a Python function that takes a list of numbers and a function as arguments, applying the\n",
    "function to each element in the list.\n"
   ]
  },
  {
   "cell_type": "markdown",
   "id": "2cd4c658-9908-42f5-adba-8c0d5721166c",
   "metadata": {},
   "source": [
    "P1"
   ]
  },
  {
   "cell_type": "markdown",
   "id": "65517d62-10fb-413a-aff5-4d93c20e865b",
   "metadata": {},
   "source": [
    "Lambda functions, also known as anonymous functions or lambda expressions, are small, inline functions defined using the lambda keyword.\n",
    "They are typically used when you need a simple function for a short period and don't want to define a separate named function using def"
   ]
  },
  {
   "cell_type": "markdown",
   "id": "2432b04e-5a82-4ebd-9ad5-032394ca4b1c",
   "metadata": {},
   "source": [
    "P2"
   ]
  },
  {
   "cell_type": "code",
   "execution_count": 54,
   "id": "b23a64af-beda-4f91-9d76-ab7cee3df391",
   "metadata": {},
   "outputs": [
    {
     "data": {
      "text/plain": [
       "[(3, 10), (1, 5), (2, 8)]"
      ]
     },
     "execution_count": 54,
     "metadata": {},
     "output_type": "execute_result"
    }
   ],
   "source": [
    "data = [(3, 10), (1, 5), (2, 8)]\n",
    "data"
   ]
  },
  {
   "cell_type": "code",
   "execution_count": 55,
   "id": "8da458d7-3d16-4d6f-8ce1-704d225cc20f",
   "metadata": {},
   "outputs": [
    {
     "data": {
      "text/plain": [
       "[(1, 5), (2, 8), (3, 10)]"
      ]
     },
     "execution_count": 55,
     "metadata": {},
     "output_type": "execute_result"
    }
   ],
   "source": [
    "sorted_data = sorted(data, key=lambda x: x[1])\n",
    "sorted_data"
   ]
  },
  {
   "cell_type": "markdown",
   "id": "4871b5ac-5da3-4134-ab9f-18221d4d114b",
   "metadata": {},
   "source": [
    "P3"
   ]
  },
  {
   "cell_type": "markdown",
   "id": "05ce6cc0-eed2-41f6-814e-0391ed521102",
   "metadata": {},
   "source": [
    "Higher-order functions are functions that can accept other functions as arguments, return functions as results, or both."
   ]
  },
  {
   "cell_type": "code",
   "execution_count": 56,
   "id": "5664d43a-414d-4ba0-b0d9-8e93452fe767",
   "metadata": {},
   "outputs": [
    {
     "data": {
      "text/plain": [
       "25"
      ]
     },
     "execution_count": 56,
     "metadata": {},
     "output_type": "execute_result"
    }
   ],
   "source": [
    "def apply(func, x):\n",
    "    return func(x)\n",
    "\n",
    "squared = apply(lambda x: x ** 2, 5) \n",
    "squared"
   ]
  },
  {
   "cell_type": "markdown",
   "id": "35cbe655-87dd-4136-8da5-02e57c7f7b15",
   "metadata": {},
   "source": [
    "P4"
   ]
  },
  {
   "cell_type": "code",
   "execution_count": 57,
   "id": "1d281cc6-77ff-4226-bf32-a1e603cdb1fc",
   "metadata": {},
   "outputs": [
    {
     "data": {
      "text/plain": [
       "[1, 2, 3, 4]"
      ]
     },
     "execution_count": 57,
     "metadata": {},
     "output_type": "execute_result"
    }
   ],
   "source": [
    "numbers = [1, 2, 3, 4]\n",
    "numbers"
   ]
  },
  {
   "cell_type": "code",
   "execution_count": 58,
   "id": "c64f2c8f-909a-4a57-a6a4-ebd18bf7c859",
   "metadata": {},
   "outputs": [
    {
     "data": {
      "text/plain": [
       "[1, 4, 9, 16]"
      ]
     },
     "execution_count": 58,
     "metadata": {},
     "output_type": "execute_result"
    }
   ],
   "source": [
    "def apply_function_to_list(func, num_list):\n",
    "    result = []\n",
    "    for num in num_list:\n",
    "        result.append(func(num))\n",
    "    return result\n",
    "\n",
    "squared_numbers = apply_function_to_list(lambda x: x ** 2, numbers)\n",
    "squared_numbers"
   ]
  },
  {
   "cell_type": "code",
   "execution_count": null,
   "id": "25db7016-6e8d-4d58-a76f-b0d0cf913f1d",
   "metadata": {},
   "outputs": [],
   "source": []
  },
  {
   "cell_type": "code",
   "execution_count": null,
   "id": "926d1cd4-5303-46c5-8665-2fa89a2c1187",
   "metadata": {},
   "outputs": [],
   "source": []
  },
  {
   "cell_type": "markdown",
   "id": "5f56adb3-7468-40fa-86bb-61c87f80dcee",
   "metadata": {},
   "source": [
    "Built-in Functions:\n",
    "1. Describe the role of built-in functions like `len()`, `max()`, and `min()` in Python.\n",
    "2. Write a Python program that uses the `map()` function to apply a function to each element of a\n",
    "list.\n",
    "3. How does the `filter()` function work in Python, and when would you use it?\n",
    "4. Create a Python program that uses the `reduce()` function to find the product of all elements in\n",
    "a list"
   ]
  },
  {
   "cell_type": "markdown",
   "id": "baaf78f6-2a87-4bf2-8a74-158249aeb982",
   "metadata": {},
   "source": [
    "P1"
   ]
  },
  {
   "cell_type": "markdown",
   "id": "c65e79b7-b0be-46f7-a2d7-24d490f6c73d",
   "metadata": {},
   "source": [
    "len()-> to get the length or the total # of elements in a sqquence such as string or list etc.\n",
    "\n",
    "max()-> it is used to get the maximum element/value from the sequence of elements\n",
    "\n",
    "min()-> to get the minimum value from the sequence of elements"
   ]
  },
  {
   "cell_type": "markdown",
   "id": "2e421b8e-077b-4616-82d7-ebacc263a8e5",
   "metadata": {},
   "source": [
    "P2"
   ]
  },
  {
   "cell_type": "code",
   "execution_count": 59,
   "id": "337654a2-cf73-469c-a0f0-45db7e7d9645",
   "metadata": {},
   "outputs": [
    {
     "data": {
      "text/plain": [
       "[1, 2, 3, 4, 5]"
      ]
     },
     "execution_count": 59,
     "metadata": {},
     "output_type": "execute_result"
    }
   ],
   "source": [
    "numbers = [1, 2, 3, 4, 5]\n",
    "numbers"
   ]
  },
  {
   "cell_type": "code",
   "execution_count": 61,
   "id": "1748fe31-4338-490b-af7d-3dab7662072a",
   "metadata": {},
   "outputs": [
    {
     "data": {
      "text/plain": [
       "[1, 4, 9, 16, 25]"
      ]
     },
     "execution_count": 61,
     "metadata": {},
     "output_type": "execute_result"
    }
   ],
   "source": [
    "squared_numbers = map(lambda x: x**2, numbers)\n",
    "list(squared_numbers)"
   ]
  },
  {
   "cell_type": "markdown",
   "id": "4f5aafb7-1cd7-4380-bc29-723eca210a09",
   "metadata": {},
   "source": [
    "P3"
   ]
  },
  {
   "cell_type": "markdown",
   "id": "eae824b5-fc75-4621-92e9-dea8c345cbe3",
   "metadata": {},
   "source": [
    "It filters elements from an iterable based on a given function that returns True or False\n",
    "\n",
    "We should use it when we want to iterate and check condition for a seq."
   ]
  },
  {
   "cell_type": "markdown",
   "id": "1d02b021-3e1c-4555-8b12-2517ea7897d1",
   "metadata": {},
   "source": [
    "P4"
   ]
  },
  {
   "cell_type": "code",
   "execution_count": 62,
   "id": "a8792b4e-9060-41c9-a137-321362e0b8c6",
   "metadata": {},
   "outputs": [
    {
     "data": {
      "text/plain": [
       "[1, 2, 3, 4, 5]"
      ]
     },
     "execution_count": 62,
     "metadata": {},
     "output_type": "execute_result"
    }
   ],
   "source": [
    "from functools import reduce\n",
    "numbers = [1, 2, 3, 4, 5]\n",
    "numbers"
   ]
  },
  {
   "cell_type": "code",
   "execution_count": 63,
   "id": "27546dc0-b7c9-40b7-8976-59c76f952233",
   "metadata": {},
   "outputs": [
    {
     "data": {
      "text/plain": [
       "120"
      ]
     },
     "execution_count": 63,
     "metadata": {},
     "output_type": "execute_result"
    }
   ],
   "source": [
    "product = reduce(lambda x, y: x * y, numbers)  # Returns 120 (1 * 2 * 3 * 4 * 5)\n",
    "product"
   ]
  },
  {
   "cell_type": "code",
   "execution_count": null,
   "id": "35281138-4f69-422e-b453-65aba1d9cbfe",
   "metadata": {},
   "outputs": [],
   "source": []
  },
  {
   "cell_type": "code",
   "execution_count": null,
   "id": "80a33d3b-b39a-484a-b596-86ee1070592a",
   "metadata": {},
   "outputs": [],
   "source": []
  },
  {
   "cell_type": "markdown",
   "id": "c1716f58-b4cc-47f5-85fc-6bfd4234d8af",
   "metadata": {},
   "source": [
    "Function Documentation and Best Practices:\n",
    "\n",
    "1. Explain the purpose of docstrings in Python functions and how to write them.\n",
    "2. Describe some best practices for naming functions and variables in Python, including naming conventions and guidelines.\n"
   ]
  },
  {
   "cell_type": "markdown",
   "id": "20b00381-7dfe-43a7-9051-40e5ecc2a525",
   "metadata": {
    "tags": []
   },
   "source": [
    "P1"
   ]
  },
  {
   "cell_type": "markdown",
   "id": "3b173342-32b8-4af0-bf02-68cb9efd1772",
   "metadata": {},
   "source": [
    "Docstrings: \n",
    "1. Documentation strings are used to document functions, classes etc. They describes what a function does, its paramaters, return value etc. \n",
    "2. It is enclosed with '''/ \"\"\" (triple quotes)"
   ]
  },
  {
   "cell_type": "code",
   "execution_count": 66,
   "id": "fbdd6736-22e6-4552-b2bc-a4f4c838cba3",
   "metadata": {},
   "outputs": [],
   "source": [
    "# ref. https://www.geeksforgeeks.org/python-docstrings/\n",
    "def add(a, b):\n",
    "    \"\"\"\n",
    "    This function calculates the sum of two numbers.\n",
    "\n",
    "    Parameters:\n",
    "    a (int): The first number.\n",
    "    b (int): The second number.\n",
    "\n",
    "    Returns:\n",
    "    int: The sum of the two numbers.\n",
    "    \"\"\"\n",
    "    return a + b"
   ]
  },
  {
   "cell_type": "code",
   "execution_count": 67,
   "id": "850d448c-ad3e-4f24-8893-75b42c77993d",
   "metadata": {},
   "outputs": [
    {
     "name": "stdout",
     "output_type": "stream",
     "text": [
      "Help on function add in module __main__:\n",
      "\n",
      "add(a, b)\n",
      "    This function calculates the sum of two numbers.\n",
      "    \n",
      "    Parameters:\n",
      "    a (int): The first number.\n",
      "    b (int): The second number.\n",
      "    \n",
      "    Returns:\n",
      "    int: The sum of the two numbers.\n",
      "\n"
     ]
    }
   ],
   "source": [
    "help(add)"
   ]
  },
  {
   "cell_type": "markdown",
   "id": "73747ece-cc03-421f-97c2-dbbb63b1b199",
   "metadata": {},
   "source": [
    "P2\n",
    "\n",
    "ref.\n",
    "\n",
    "1.https://peps.python.org/pep-0008/\n",
    "\n",
    "2.https://visualgit.readthedocs.io/en/latest/index.html"
   ]
  },
  {
   "cell_type": "markdown",
   "id": "5b9fd617-7c15-4840-8e95-d34af80e097f",
   "metadata": {},
   "source": [
    "1. Use Descriptive Names:\n",
    "\n",
    "Choose names that describe the purpose or functionality of the function or variable.\n",
    "Avoid generic or overly short names like a, x, or temp. Instead, use descriptive names like total_count or calculate_average.\n",
    "\n",
    "\n",
    "2. Follow PEP 8:\n",
    "\n",
    "PEP 8 is the Python Enhancement Proposal that provides style guidelines for writing clean and readable code in Python.\n",
    "Adhere to PEP 8 conventions, which include:\n",
    "\n",
    "2.1.  Indentation\n",
    "Lines should be indented with a multiple of 4 spaces depending on indent level\n",
    "\n",
    "2.2. Blank Lines\n",
    "Leave 2 blank lines between class definitions and module-level functions\n",
    "\n",
    "2.3. Comments\n",
    "comments should be up to date and accurate. When updating code, always make sure to update any comments that refer to it\n",
    "\n",
    "2.4. Docstring Comments\n",
    "Docstring comments should consist of a short summary line\n",
    "\n",
    "\n",
    "3. Be Consistent:\n",
    "\n",
    "Maintain consistency in naming across your codebase. If you use a particular naming convention or pattern, stick to it throughout your code.\n",
    "Consistency makes your code more predictable and easier to understand.\n",
    "\n",
    "\n",
    "4. Avoid Reserved Words:\n",
    "\n",
    "Do not use Python's reserved words or keywords (e.g., if, while, for) as variable or function names, as this can lead to confusion and errors.\n",
    "\n",
    "\n",
    "5. Use Meaningful Parameters:\n",
    "- When defining function parameters, use meaningful names that indicate the purpose of each parameter.\n",
    "- Avoid using single-letter parameter names like x, y, or z unless they have a clear and widely understood meaning within the context.\n"
   ]
  },
  {
   "cell_type": "code",
   "execution_count": null,
   "id": "0e4c8f26-b1dc-47bc-bf88-507ce95ec9ed",
   "metadata": {},
   "outputs": [],
   "source": []
  }
 ],
 "metadata": {
  "kernelspec": {
   "display_name": "Python 3 (ipykernel)",
   "language": "python",
   "name": "python3"
  },
  "language_info": {
   "codemirror_mode": {
    "name": "ipython",
    "version": 3
   },
   "file_extension": ".py",
   "mimetype": "text/x-python",
   "name": "python",
   "nbconvert_exporter": "python",
   "pygments_lexer": "ipython3",
   "version": "3.10.8"
  }
 },
 "nbformat": 4,
 "nbformat_minor": 5
}
