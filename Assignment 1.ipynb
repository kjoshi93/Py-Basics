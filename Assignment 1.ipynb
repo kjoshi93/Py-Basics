{
 "cells": [
  {
   "cell_type": "markdown",
   "id": "68a6d5b5-dbd9-4caa-a709-d31b5a0ebaf5",
   "metadata": {},
   "source": [
    "Python Basics Variable"
   ]
  },
  {
   "cell_type": "code",
   "execution_count": 1,
   "id": "e5cd332c-840f-4106-8d56-6e993135d46f",
   "metadata": {},
   "outputs": [
    {
     "data": {
      "text/plain": [
       "'Problem 1. Declare two variables, `x` and `y`, and assign them integer values. Swap the\\nvalues of these variables without using any temporary variable.'"
      ]
     },
     "execution_count": 1,
     "metadata": {},
     "output_type": "execute_result"
    }
   ],
   "source": [
    "'''Problem 1. Declare two variables, `x` and `y`, and assign them integer values. Swap the\n",
    "values of these variables without using any temporary variable.'''"
   ]
  },
  {
   "cell_type": "code",
   "execution_count": 2,
   "id": "28d76441-e4d1-461b-9fb7-e07f73266204",
   "metadata": {},
   "outputs": [
    {
     "name": "stdout",
     "output_type": "stream",
     "text": [
      "before swapping, x: 2, y:5\n",
      "after swapping, x: 5, y:2\n"
     ]
    }
   ],
   "source": [
    "x = 2 \n",
    "y = 5\n",
    "print(\"before swapping, x: \" + str(x) + \", y:\" + str(y)) \n",
    "\n",
    "# swapping\n",
    "x , y = y, x\n",
    "print(\"after swapping, x: \" + str(x) + \", y:\" + str(y)) "
   ]
  },
  {
   "cell_type": "code",
   "execution_count": null,
   "id": "50fff8bd-a9f6-49d4-9e8f-78736830c166",
   "metadata": {},
   "outputs": [],
   "source": []
  },
  {
   "cell_type": "code",
   "execution_count": 3,
   "id": "10935996-14f9-4b27-9f25-6d5477a20467",
   "metadata": {},
   "outputs": [
    {
     "data": {
      "text/plain": [
       "'Problem 2. Create a program that calculates the area of a rectangle. Take the length and\\nwidth as inputs from the user and store them in variables. Calculate and\\ndisplay the area.'"
      ]
     },
     "execution_count": 3,
     "metadata": {},
     "output_type": "execute_result"
    }
   ],
   "source": [
    "'''Problem 2. Create a program that calculates the area of a rectangle. Take the length and\n",
    "width as inputs from the user and store them in variables. Calculate and\n",
    "display the area.'''"
   ]
  },
  {
   "cell_type": "code",
   "execution_count": 4,
   "id": "7716ba31-72b5-4b25-bb32-14dee2b6a27a",
   "metadata": {},
   "outputs": [
    {
     "name": "stdin",
     "output_type": "stream",
     "text": [
      "Enter the length 20\n"
     ]
    }
   ],
   "source": [
    "lenght = int(input(\"Enter the length\"))"
   ]
  },
  {
   "cell_type": "code",
   "execution_count": 5,
   "id": "05c60d38-e9e0-4f03-8c33-4951ea163601",
   "metadata": {},
   "outputs": [
    {
     "name": "stdin",
     "output_type": "stream",
     "text": [
      "Enter the width 5\n"
     ]
    }
   ],
   "source": [
    "width = int(input(\"Enter the width\"))"
   ]
  },
  {
   "cell_type": "code",
   "execution_count": 6,
   "id": "59ee8b62-9ab6-4f61-9c5c-5e5ad5b860db",
   "metadata": {},
   "outputs": [
    {
     "name": "stdout",
     "output_type": "stream",
     "text": [
      "area of the rectangle: 100\n"
     ]
    }
   ],
   "source": [
    "area = lenght * width\n",
    "print(\"area of the rectangle: \"+ str(area))"
   ]
  },
  {
   "cell_type": "code",
   "execution_count": null,
   "id": "52be0e32-24d0-4417-ad35-93904616b8cb",
   "metadata": {},
   "outputs": [],
   "source": []
  },
  {
   "cell_type": "code",
   "execution_count": 7,
   "id": "fe77c9de-abdc-4f3a-a2be-0749723122c5",
   "metadata": {},
   "outputs": [
    {
     "data": {
      "text/plain": [
       "'Problem 3. Write a Python program that converts temperatures from Celsius to\\nFahrenheit. Take the temperature in Celsius as input, store it in a variable,\\nconvert it to Fahrenheit, and display the result.'"
      ]
     },
     "execution_count": 7,
     "metadata": {},
     "output_type": "execute_result"
    }
   ],
   "source": [
    "'''Problem 3. Write a Python program that converts temperatures from Celsius to\n",
    "Fahrenheit. Take the temperature in Celsius as input, store it in a variable,\n",
    "convert it to Fahrenheit, and display the result.'''"
   ]
  },
  {
   "cell_type": "code",
   "execution_count": 8,
   "id": "723b3a54-4be9-405f-a6dc-a41328f4337c",
   "metadata": {},
   "outputs": [
    {
     "name": "stdin",
     "output_type": "stream",
     "text": [
      "Enter the temperature(C) 37\n"
     ]
    }
   ],
   "source": [
    "temperatureInCelcius = int(input('Enter the temperature(C)'))"
   ]
  },
  {
   "cell_type": "code",
   "execution_count": 9,
   "id": "a8de0950-96b8-4018-8774-355ea1b47045",
   "metadata": {},
   "outputs": [
    {
     "name": "stdout",
     "output_type": "stream",
     "text": [
      "temperature in F: 98.60000000000001\n"
     ]
    }
   ],
   "source": [
    "temperatureInF = (9/5)* temperatureInCelcius+32\n",
    "\n",
    "print(\"temperature in F: \"+ str(temperatureInF))"
   ]
  },
  {
   "cell_type": "code",
   "execution_count": null,
   "id": "98924bc8-4903-40c6-aaa1-cf2ea91dac23",
   "metadata": {},
   "outputs": [],
   "source": []
  },
  {
   "cell_type": "markdown",
   "id": "eaaa4d77-44e0-40b0-a1f9-77919b454972",
   "metadata": {},
   "source": [
    "String Based"
   ]
  },
  {
   "cell_type": "code",
   "execution_count": 10,
   "id": "1dfdd01a-4572-482f-af96-10636bcbe344",
   "metadata": {},
   "outputs": [
    {
     "data": {
      "text/plain": [
       "'Problem 1. Write a Python program that takes a string as input and prints the length of\\nthe string.'"
      ]
     },
     "execution_count": 10,
     "metadata": {},
     "output_type": "execute_result"
    }
   ],
   "source": [
    "'''Problem 1. Write a Python program that takes a string as input and prints the length of\n",
    "the string.'''"
   ]
  },
  {
   "cell_type": "code",
   "execution_count": 11,
   "id": "89b0e8e2-6478-49c3-96b6-1efe36798031",
   "metadata": {},
   "outputs": [
    {
     "name": "stdin",
     "output_type": "stream",
     "text": [
      "Enter the string something is right\n"
     ]
    },
    {
     "name": "stdout",
     "output_type": "stream",
     "text": [
      "Length of this string is: 18\n"
     ]
    }
   ],
   "source": [
    "tempStr = str(input('Enter the string'))\n",
    "\n",
    "print(\"Length of this string is: \" + str(len(tempStr)))"
   ]
  },
  {
   "cell_type": "code",
   "execution_count": null,
   "id": "e0b51a4a-ee2b-4213-a16a-e064bc4429d8",
   "metadata": {},
   "outputs": [],
   "source": []
  },
  {
   "cell_type": "code",
   "execution_count": 12,
   "id": "8598c4af-78ac-47ed-9292-6444619f5930",
   "metadata": {},
   "outputs": [
    {
     "data": {
      "text/plain": [
       "'Problem 2. Create a program that takes a sentence from the user and counts the number\\nof vowels (a, e, i, o, u) in the string.'"
      ]
     },
     "execution_count": 12,
     "metadata": {},
     "output_type": "execute_result"
    }
   ],
   "source": [
    "'''Problem 2. Create a program that takes a sentence from the user and counts the number\n",
    "of vowels (a, e, i, o, u) in the string.'''"
   ]
  },
  {
   "cell_type": "code",
   "execution_count": 20,
   "id": "b79770b6-9994-4143-aa45-275674225a6d",
   "metadata": {},
   "outputs": [
    {
     "name": "stdin",
     "output_type": "stream",
     "text": [
      "Enter the sentence:  something i know, something i dont know. isn't it amazing?\n"
     ]
    }
   ],
   "source": [
    "sentence = str(input('Enter the sentence: '))"
   ]
  },
  {
   "cell_type": "code",
   "execution_count": 22,
   "id": "480267bc-249a-4359-a84a-ef6c13b3e9e0",
   "metadata": {},
   "outputs": [],
   "source": [
    "vowels = ('a', 'e', 'i', 'o', 'u')"
   ]
  },
  {
   "cell_type": "code",
   "execution_count": 24,
   "id": "f44d10e4-9cdc-4aec-a18f-2fb51f73d641",
   "metadata": {},
   "outputs": [
    {
     "name": "stdout",
     "output_type": "stream",
     "text": [
      "16\n"
     ]
    }
   ],
   "source": [
    "vowelCount = 0\n",
    "\n",
    "for ch in sentence.lower():\n",
    "    if(ch in vowels):\n",
    "        vowelCount += 1\n",
    "        \n",
    "print(vowelCount)"
   ]
  },
  {
   "cell_type": "code",
   "execution_count": null,
   "id": "ebf40ad8-2f10-42bc-8e91-69ac854d509a",
   "metadata": {},
   "outputs": [],
   "source": []
  },
  {
   "cell_type": "code",
   "execution_count": 25,
   "id": "a2490d6c-6af0-40ed-b715-fc0cf654ffc0",
   "metadata": {},
   "outputs": [
    {
     "data": {
      "text/plain": [
       "'Problem 3. Given a string, reverse the order of characters using string slicing and print\\nthe reversed string.'"
      ]
     },
     "execution_count": 25,
     "metadata": {},
     "output_type": "execute_result"
    }
   ],
   "source": [
    "'''Problem 3. Given a string, reverse the order of characters using string slicing and print\n",
    "the reversed string.'''"
   ]
  },
  {
   "cell_type": "code",
   "execution_count": 26,
   "id": "d3fd2c4f-34fa-40ad-bc0e-c7f3270c92d7",
   "metadata": {},
   "outputs": [],
   "source": [
    "givenStr = 'abcdefghij'"
   ]
  },
  {
   "cell_type": "code",
   "execution_count": 27,
   "id": "551b9033-895d-4248-8938-caf592a9d2d7",
   "metadata": {},
   "outputs": [],
   "source": [
    "revStr = givenStr[::-1]"
   ]
  },
  {
   "cell_type": "code",
   "execution_count": 28,
   "id": "4264f769-ddbb-4298-bd92-b1a0304dcbe3",
   "metadata": {},
   "outputs": [
    {
     "name": "stdout",
     "output_type": "stream",
     "text": [
      "reverse string: jihgfedcba\n"
     ]
    }
   ],
   "source": [
    "print(\"reverse string: \"+ revStr)"
   ]
  },
  {
   "cell_type": "code",
   "execution_count": null,
   "id": "86ddbae1-3dd1-4563-a191-e88a75d8177f",
   "metadata": {},
   "outputs": [],
   "source": []
  },
  {
   "cell_type": "code",
   "execution_count": 29,
   "id": "0c81cc04-ad9b-4faf-9bfc-b85d7c609deb",
   "metadata": {},
   "outputs": [
    {
     "data": {
      "text/plain": [
       "'Problem 4. Write a program that takes a string as input and checks if it is a palindrome\\n(reads the same forwards and backwards).'"
      ]
     },
     "execution_count": 29,
     "metadata": {},
     "output_type": "execute_result"
    }
   ],
   "source": [
    "'''Problem 4. Write a program that takes a string as input and checks if it is a palindrome\n",
    "(reads the same forwards and backwards).'''"
   ]
  },
  {
   "cell_type": "code",
   "execution_count": 30,
   "id": "3040b7c2-fc9e-40d4-97eb-f6ecda6938a7",
   "metadata": {},
   "outputs": [],
   "source": [
    "palindromeStr = \"Racecar\""
   ]
  },
  {
   "cell_type": "code",
   "execution_count": 31,
   "id": "800cfbf1-ec67-4e6e-b5f7-3e62e2ed7767",
   "metadata": {},
   "outputs": [],
   "source": [
    "reversePalindrome = palindromeStr[::-1]"
   ]
  },
  {
   "cell_type": "code",
   "execution_count": 33,
   "id": "e5f7d2b6-b4b0-485f-a46d-1c6097589d9c",
   "metadata": {},
   "outputs": [
    {
     "name": "stdout",
     "output_type": "stream",
     "text": [
      "Is \"Racecar\" palindrome?: True\n"
     ]
    }
   ],
   "source": [
    "print('Is \"Racecar\" palindrome?: '+ str(palindromeStr.lower() == reversePalindrome.lower()))"
   ]
  },
  {
   "cell_type": "code",
   "execution_count": null,
   "id": "4418ea0a-c6aa-4b3a-a842-8b975ba19d7c",
   "metadata": {},
   "outputs": [],
   "source": []
  },
  {
   "cell_type": "code",
   "execution_count": 34,
   "id": "1239606f-55d7-4b93-9d9f-6e12391b9eda",
   "metadata": {},
   "outputs": [
    {
     "data": {
      "text/plain": [
       "'Problem 5. Create a program that takes a string as input and removes all the spaces from\\nit. Print the modified string without spaces.'"
      ]
     },
     "execution_count": 34,
     "metadata": {},
     "output_type": "execute_result"
    }
   ],
   "source": [
    "'''Problem 5. Create a program that takes a string as input and removes all the spaces from\n",
    "it. Print the modified string without spaces.'''"
   ]
  },
  {
   "cell_type": "code",
   "execution_count": 35,
   "id": "eec2668c-3a8a-45f2-b536-93cee069bed3",
   "metadata": {},
   "outputs": [],
   "source": [
    "spacedStr = \"A man, a plan, a canal, Panama!\""
   ]
  },
  {
   "cell_type": "code",
   "execution_count": 36,
   "id": "f948d0af-6026-4289-a6b0-493655180d60",
   "metadata": {},
   "outputs": [],
   "source": [
    "removedSpaceStr = spacedStr.replace(\" \", '')"
   ]
  },
  {
   "cell_type": "code",
   "execution_count": 37,
   "id": "cc0e13b7-c190-4a63-bb64-e41b7cd58744",
   "metadata": {},
   "outputs": [
    {
     "name": "stdout",
     "output_type": "stream",
     "text": [
      "modified string without spaces.: Aman,aplan,acanal,Panama!\n"
     ]
    }
   ],
   "source": [
    "print(\"modified string without spaces.: \"+ removedSpaceStr)"
   ]
  }
 ],
 "metadata": {
  "kernelspec": {
   "display_name": "Python 3 (ipykernel)",
   "language": "python",
   "name": "python3"
  },
  "language_info": {
   "codemirror_mode": {
    "name": "ipython",
    "version": 3
   },
   "file_extension": ".py",
   "mimetype": "text/x-python",
   "name": "python",
   "nbconvert_exporter": "python",
   "pygments_lexer": "ipython3",
   "version": "3.10.8"
  }
 },
 "nbformat": 4,
 "nbformat_minor": 5
}
