{
  "nbformat": 4,
  "nbformat_minor": 0,
  "metadata": {
    "colab": {
      "provenance": []
    },
    "kernelspec": {
      "name": "python3",
      "display_name": "Python 3"
    },
    "language_info": {
      "name": "python"
    }
  },
  "cells": [
    {
      "cell_type": "markdown",
      "source": [
        "Problem 1.Given an array of n numbers, give an algorithm which gives the element appearing maximum number of times?"
      ],
      "metadata": {
        "id": "uPsDygoArOk3"
      }
    },
    {
      "cell_type": "code",
      "execution_count": null,
      "metadata": {
        "id": "9RX0g0hzrMT6"
      },
      "outputs": [],
      "source": [
        "def max_element(arr):\n",
        "  temp_dict = {}\n",
        "  for i in arr:\n",
        "    if i in temp_dict:\n",
        "      temp_dict[i] += 1\n",
        "    else:\n",
        "      temp_dict[i] = 1\n",
        "  for i in temp_dict:\n",
        "    if temp_dict[i] == max(temp_dict.values()):\n",
        "      return i\n",
        "  return -1"
      ]
    },
    {
      "cell_type": "code",
      "source": [
        "arr = [1,2,2,2,3,4]\n",
        "\n",
        "print(max_element(arr))"
      ],
      "metadata": {
        "colab": {
          "base_uri": "https://localhost:8080/"
        },
        "id": "aWqq48DarqO2",
        "outputId": "f074acf0-a0d7-436d-9d2d-92165adefb10"
      },
      "execution_count": null,
      "outputs": [
        {
          "output_type": "stream",
          "name": "stdout",
          "text": [
            "2\n"
          ]
        }
      ]
    },
    {
      "cell_type": "markdown",
      "source": [
        "Problem 2 : We are given a list of n-1 integers and these integers are in the range of 1 to n . There are no\n",
        "duplicates in the list. One of the integers is missing in the list. Give an algorithm to find that element Ex:\n",
        "[1,2,4,6,3,7,8] 5 is the missing num."
      ],
      "metadata": {
        "id": "6q2oiUuJrwqx"
      }
    },
    {
      "cell_type": "code",
      "source": [
        "def missing_num(arr):\n",
        "  max_num = max(arr)\n",
        "  min_num = min(arr)\n",
        "  for i in range(min_num,max_num+1):\n",
        "    if i not in arr:\n",
        "      return i\n",
        "  return -1"
      ],
      "metadata": {
        "id": "JQqAwrLVru35"
      },
      "execution_count": null,
      "outputs": []
    },
    {
      "cell_type": "code",
      "source": [
        "arr = [1,2,4,6,3,7,8]\n",
        "\n",
        "print(missing_num(arr))"
      ],
      "metadata": {
        "colab": {
          "base_uri": "https://localhost:8080/"
        },
        "id": "df8Jx8FCsB6E",
        "outputId": "925bafa8-976d-4cc8-fcd3-5c64d89de4bf"
      },
      "execution_count": null,
      "outputs": [
        {
          "output_type": "stream",
          "name": "stdout",
          "text": [
            "5\n"
          ]
        }
      ]
    },
    {
      "cell_type": "markdown",
      "source": [
        "Problem 3 : Given an array of n positive numbers. All numbers occurs even number of times except 1 which\n",
        "occurs odd number of times. Find that number in O(n) time and O(1) space. Ex: [1,2,3,2,3,1,3]. 3 is repeats odd\n",
        "times."
      ],
      "metadata": {
        "id": "OMvps9kxsJCK"
      }
    },
    {
      "cell_type": "code",
      "source": [
        "def find_odd_occurence(arr):\n",
        "  result = 0\n",
        "  for i in arr:\n",
        "    result ^= i\n",
        "  return result"
      ],
      "metadata": {
        "id": "8ijLYE7HsHaF"
      },
      "execution_count": null,
      "outputs": []
    },
    {
      "cell_type": "code",
      "source": [
        "arr = [1, 2, 3, 2, 3, 1, 3]\n",
        "print(find_odd_occurence(arr))"
      ],
      "metadata": {
        "colab": {
          "base_uri": "https://localhost:8080/"
        },
        "id": "OahEE-uEsYR7",
        "outputId": "d055a7d1-87f8-43de-c937-91317092f6dd"
      },
      "execution_count": null,
      "outputs": [
        {
          "output_type": "stream",
          "name": "stdout",
          "text": [
            "3\n"
          ]
        }
      ]
    },
    {
      "cell_type": "markdown",
      "source": [
        "Problem 4 : Given an array of n elements. Find two elements in the array such that their sum is equal to given\n",
        "element K."
      ],
      "metadata": {
        "id": "hX5dfySzselB"
      }
    },
    {
      "cell_type": "code",
      "source": [
        "arr = [10, 15, 3, 7]\n",
        "\n",
        "paired_sum = 17"
      ],
      "metadata": {
        "id": "hKQmDg87sc0L"
      },
      "execution_count": null,
      "outputs": []
    },
    {
      "cell_type": "code",
      "source": [
        "def find_pair(arr, paired_sum):\n",
        "  for i in range(len(arr)):\n",
        "    for j in range(i+1, len(arr)):\n",
        "      if arr[i] + arr[j] == paired_sum:\n",
        "        return [arr[i], arr[j]]\n",
        "  return -1"
      ],
      "metadata": {
        "id": "u9rrSzZwssq7"
      },
      "execution_count": null,
      "outputs": []
    },
    {
      "cell_type": "code",
      "source": [
        "print(find_pair(arr, paired_sum))"
      ],
      "metadata": {
        "colab": {
          "base_uri": "https://localhost:8080/"
        },
        "id": "pzm9qJgysyfs",
        "outputId": "980141e8-daae-461a-9ada-5f203fcdeaf7"
      },
      "execution_count": null,
      "outputs": [
        {
          "output_type": "stream",
          "name": "stdout",
          "text": [
            "[10, 7]\n"
          ]
        }
      ]
    },
    {
      "cell_type": "markdown",
      "source": [
        "Problem 5 : Given an array of both positive and negative numbers, find two numbers such that their sum is\n",
        "closest to 0. Ex: [ 1 ,60 ,-10, 70, -80,85]. Ans : -80,85."
      ],
      "metadata": {
        "id": "sJQ-X8Fms8Fa"
      }
    },
    {
      "cell_type": "code",
      "source": [
        "arr = [ 1 ,60 ,-10, 70, -80, 85]"
      ],
      "metadata": {
        "id": "dcRmi3wFs2Ha"
      },
      "execution_count": null,
      "outputs": []
    },
    {
      "cell_type": "code",
      "source": [
        "def find_closest_sum_pair(arr):\n",
        "    arr.sort()\n",
        "    low = 0\n",
        "    high = len(arr) - 1\n",
        "    closest_sum = float('inf')\n",
        "    closest_pair = (None, None)\n",
        "\n",
        "    while low < high:\n",
        "        current_sum = arr[low] + arr[high]\n",
        "\n",
        "        if abs(current_sum) < abs(closest_sum):\n",
        "            closest_sum = current_sum\n",
        "            closest_pair = (arr[low], arr[high])\n",
        "\n",
        "        if current_sum < 0:\n",
        "            low += 1\n",
        "        elif current_sum > 0:\n",
        "            high -= 1\n",
        "        else:\n",
        "            return arr[low], arr[high]\n",
        "\n",
        "    return closest_pair"
      ],
      "metadata": {
        "id": "qPQbnHZXtSbQ"
      },
      "execution_count": null,
      "outputs": []
    },
    {
      "cell_type": "code",
      "source": [
        "print(find_closest_sum_pair(arr))"
      ],
      "metadata": {
        "colab": {
          "base_uri": "https://localhost:8080/"
        },
        "id": "hblUViSJtWaD",
        "outputId": "0e48285b-e6f2-4667-8dab-58532302458b"
      },
      "execution_count": null,
      "outputs": [
        {
          "output_type": "stream",
          "name": "stdout",
          "text": [
            "(-80, 85)\n"
          ]
        }
      ]
    },
    {
      "cell_type": "markdown",
      "source": [
        "Problem 6 : Given an array of n elements . Find three elements such that their sum is equal to the given\n",
        "number."
      ],
      "metadata": {
        "id": "hwfX2zL7tbpR"
      }
    },
    {
      "cell_type": "code",
      "source": [
        "arr = [1,2,2,3,4,6]\n",
        "\n",
        "final_sum = 10\n",
        "\n",
        "# expected output is 1,3,6"
      ],
      "metadata": {
        "id": "sMiIzLCmtZFE"
      },
      "execution_count": null,
      "outputs": []
    },
    {
      "cell_type": "code",
      "source": [
        "def find_three_sum(arr, final_sum):\n",
        "    arr.sort()\n",
        "    n = len(arr)\n",
        "\n",
        "    for i in range(n - 2):\n",
        "        left = i + 1\n",
        "        right = n - 1\n",
        "\n",
        "        while left < right:\n",
        "            current_sum = arr[i] + arr[left] + arr[right]\n",
        "\n",
        "            if current_sum == final_sum:\n",
        "                return (arr[i], arr[left], arr[right])\n",
        "\n",
        "            if current_sum < final_sum:\n",
        "                left += 1\n",
        "            elif current_sum > final_sum:\n",
        "                right -= 1\n",
        "\n",
        "    return -1"
      ],
      "metadata": {
        "id": "Q-BUenLjtoq0"
      },
      "execution_count": null,
      "outputs": []
    },
    {
      "cell_type": "code",
      "source": [
        "print(find_three_sum(arr, final_sum))"
      ],
      "metadata": {
        "colab": {
          "base_uri": "https://localhost:8080/"
        },
        "id": "rpiNAr5ftxAM",
        "outputId": "8790330c-dd51-41a0-a9b9-5d98d56d0e3a"
      },
      "execution_count": null,
      "outputs": [
        {
          "output_type": "stream",
          "name": "stdout",
          "text": [
            "(1, 3, 6)\n"
          ]
        }
      ]
    },
    {
      "cell_type": "markdown",
      "source": [
        "Problem 7 : Given an array of n elements . Find three elements i, j, k in the array such that\n",
        "i * i + j * j = k*k."
      ],
      "metadata": {
        "id": "HjVpOdB_uRmQ"
      }
    },
    {
      "cell_type": "code",
      "source": [
        "def find_pythagorean_triplet(arr):\n",
        "    squared_arr = [x**2 for x in arr]\n",
        "    squared_arr.sort()\n",
        "\n",
        "    n = len(squared_arr)\n",
        "\n",
        "    for k in range(n - 1, 1, -1):\n",
        "        left = 0\n",
        "        right = k - 1\n",
        "\n",
        "        while left < right:\n",
        "            if squared_arr[left] + squared_arr[right] == squared_arr[k]:\n",
        "                return int(squared_arr[left]**0.5), int(squared_arr[right]**0.5), int(squared_arr[k]**0.5)\n",
        "\n",
        "            if squared_arr[left] + squared_arr[right] < squared_arr[k]:\n",
        "                left += 1\n",
        "            else:\n",
        "                right -= 1\n",
        "\n",
        "    return -1"
      ],
      "metadata": {
        "id": "h6BV-4wMtypU"
      },
      "execution_count": null,
      "outputs": []
    },
    {
      "cell_type": "code",
      "source": [
        "arr = [3, 1, 4, 6, 5]\n",
        "\n",
        "print(find_pythagorean_triplet(arr))"
      ],
      "metadata": {
        "colab": {
          "base_uri": "https://localhost:8080/"
        },
        "id": "PoBcFT-Kuj9t",
        "outputId": "57cb3a27-53ca-462b-dcf8-644e41adec37"
      },
      "execution_count": null,
      "outputs": [
        {
          "output_type": "stream",
          "name": "stdout",
          "text": [
            "(3, 4, 5)\n"
          ]
        }
      ]
    },
    {
      "cell_type": "markdown",
      "source": [
        "Problem 8 : An element is a majority if it appears more than n/2 times. Give an algorithm takes an array of n\n",
        "element as argument and identifies a majority (if it exists)."
      ],
      "metadata": {
        "id": "_NcY-TtAuwNn"
      }
    },
    {
      "cell_type": "code",
      "source": [
        "# uses Boyer-Moore Voting Algorithm\n",
        "\n",
        "def find_majority_element(arr):\n",
        "    candidate = None\n",
        "    count = 0\n",
        "\n",
        "    for num in arr:\n",
        "        if count == 0:\n",
        "            candidate = num\n",
        "            count = 1\n",
        "        elif num == candidate:\n",
        "            count += 1\n",
        "        else:\n",
        "            count -= 1\n",
        "\n",
        "    if arr.count(candidate) > len(arr) // 2:\n",
        "        return candidate\n",
        "    else:\n",
        "        return \"No majority element\""
      ],
      "metadata": {
        "id": "GvsV5t3KupgO"
      },
      "execution_count": null,
      "outputs": []
    },
    {
      "cell_type": "code",
      "source": [
        "arr = [2, 2, 1, 1, 2, 2, 2]\n",
        "print(find_majority_element(arr))"
      ],
      "metadata": {
        "colab": {
          "base_uri": "https://localhost:8080/"
        },
        "id": "NKp2dM_vu8jc",
        "outputId": "fec8f117-1c74-450e-ce44-2b16d40de029"
      },
      "execution_count": null,
      "outputs": [
        {
          "output_type": "stream",
          "name": "stdout",
          "text": [
            "2\n"
          ]
        }
      ]
    },
    {
      "cell_type": "markdown",
      "source": [
        "Problem 9 : Given n × n matrix, and in each row all 1’s are followed by 0’s. Find the row with the maximum\n",
        "number of 0’s."
      ],
      "metadata": {
        "id": "hwXkEm-jvRzw"
      }
    },
    {
      "cell_type": "code",
      "source": [
        "matrix = [\n",
        "    [1, 1, 1, 0, 0],\n",
        "    [1, 1, 0, 0, 0],\n",
        "    [1, 0, 0, 0, 0],\n",
        "    [1, 1, 1, 1, 0]\n",
        "]"
      ],
      "metadata": {
        "id": "TpDl6CRZvAhe"
      },
      "execution_count": null,
      "outputs": []
    },
    {
      "cell_type": "code",
      "source": [
        "# used chatgpt as a helper\n",
        "\n",
        "def find_row_with_max_zeros(matrix):\n",
        "    n = len(matrix)\n",
        "    max_zeros = 0\n",
        "    row_with_max_zeros = -1\n",
        "\n",
        "    row = 0\n",
        "    col = n - 1\n",
        "\n",
        "    while row < n and col >= 0:\n",
        "        if matrix[row][col] == 0:\n",
        "            zeros_in_row = n - col\n",
        "            if zeros_in_row > max_zeros:\n",
        "                max_zeros = zeros_in_row\n",
        "                row_with_max_zeros = row\n",
        "            col -= 1\n",
        "        else:\n",
        "            row += 1\n",
        "\n",
        "    return row_with_max_zeros"
      ],
      "metadata": {
        "id": "69ZdKiaBvbpy"
      },
      "execution_count": null,
      "outputs": []
    },
    {
      "cell_type": "code",
      "source": [
        "print(find_row_with_max_zeros(matrix))"
      ],
      "metadata": {
        "colab": {
          "base_uri": "https://localhost:8080/"
        },
        "id": "-dMINFxBvk_i",
        "outputId": "2feb185a-4f15-4d84-81e4-b52345ae74f5"
      },
      "execution_count": null,
      "outputs": [
        {
          "output_type": "stream",
          "name": "stdout",
          "text": [
            "2\n"
          ]
        }
      ]
    },
    {
      "cell_type": "markdown",
      "source": [
        "Problem 10 : Sort an array of 0’s, 1’s and 2’s [or R’s, G’s and B’s]: Given an array A[] consisting of 0’s, 1’s and\n",
        "2’s, give an algorithm for sorting A[].The algorithm should put all 0’s first, then all 1’s and finally all 2’s at the\n",
        "end. Example Input = {0,1,1,0,1,2,1,2,0,0,0,1}, Output = {0,0,0,0,0,1,1,1,1,1,2,2}"
      ],
      "metadata": {
        "id": "RcSRBAMRvpnh"
      }
    },
    {
      "cell_type": "code",
      "source": [
        "# using Dutch National Flag Algorithm\n",
        "\n",
        "def sort_012(arr):\n",
        "    low, mid, high = 0, 0, len(arr) - 1\n",
        "\n",
        "    while mid <= high:\n",
        "        if arr[mid] == 0:\n",
        "            arr[low], arr[mid] = arr[mid], arr[low]\n",
        "            low += 1\n",
        "            mid += 1\n",
        "        elif arr[mid] == 1:\n",
        "            mid += 1\n",
        "        else:\n",
        "            arr[mid], arr[high] = arr[high], arr[mid]\n",
        "            high -= 1\n",
        "\n",
        "    return arr"
      ],
      "metadata": {
        "id": "1J3Ydonsvmlb"
      },
      "execution_count": null,
      "outputs": []
    },
    {
      "cell_type": "code",
      "source": [
        "arr = [0, 1, 1, 0, 1, 2, 1, 2, 0, 0, 0, 1]\n",
        "print(sort_012(arr))"
      ],
      "metadata": {
        "colab": {
          "base_uri": "https://localhost:8080/"
        },
        "id": "OFKW5e_Yv2p8",
        "outputId": "4e7c3eb1-5749-4cc2-e4ba-79a1427cf076"
      },
      "execution_count": null,
      "outputs": [
        {
          "output_type": "stream",
          "name": "stdout",
          "text": [
            "[0, 0, 0, 0, 0, 1, 1, 1, 1, 1, 2, 2]\n"
          ]
        }
      ]
    }
  ]
}