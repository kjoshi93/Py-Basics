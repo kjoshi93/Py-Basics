{
  "nbformat": 4,
  "nbformat_minor": 0,
  "metadata": {
    "colab": {
      "provenance": []
    },
    "kernelspec": {
      "name": "python3",
      "display_name": "Python 3"
    },
    "language_info": {
      "name": "python"
    }
  },
  "cells": [
    {
      "cell_type": "markdown",
      "source": [
        "# Constructor"
      ],
      "metadata": {
        "id": "ntwYtvLG6Ipn"
      }
    },
    {
      "cell_type": "markdown",
      "source": [
        "1. What is a constructor in python? Explain its purpose and usage\n",
        "\n",
        "Answer: A constructor is a special method which gets invoked automatically when an instance of a class is created. using `__init__`, Its purpose is to pass dependent parameter while creating an instance."
      ],
      "metadata": {
        "id": "EhsnR2Wh6LXW"
      }
    },
    {
      "cell_type": "markdown",
      "source": [
        "2. Differentiate between a parameterless constructor and a parameterized constructor in Python.\n",
        "\n",
        "Answer: Paramater constructor is what takes no input as paramater, it is self initalized. Whereas, the parameterized constructor is what accepts input arguments to initialize attributes of that object."
      ],
      "metadata": {
        "id": "w-32naiu7Q20"
      }
    },
    {
      "cell_type": "markdown",
      "source": [
        "3. How do you define a constructor in a Python class? Provide an example.\n",
        "\n",
        "Answer: To define a constructor in a python class, we uses `__init__` which is a special method and also known as dunder method.\n",
        "\n",
        "\n",
        "\n"
      ],
      "metadata": {
        "id": "m9Cxr7hV7Qz0"
      }
    },
    {
      "cell_type": "code",
      "source": [
        "class ExampleClassWithoutParam:\n",
        "    def __init__(self):\n",
        "        pass\n",
        "non_param = ExampleClassWithoutParam()\n",
        "\n",
        "class ExampleClassWithParam:\n",
        "    def __init__(self, val):\n",
        "        self.val = val\n",
        "\n",
        "param_obj = ExampleClassWithParam(10)"
      ],
      "metadata": {
        "id": "PVLCR2H5EAbx"
      },
      "execution_count": null,
      "outputs": []
    },
    {
      "cell_type": "markdown",
      "source": [
        "4. Explain the `__init__` method in Python and its role in constructors.\n",
        "\n",
        "Answer: This is a special or dunder method used to define a constructor in Python and to initializes the attributes for that object"
      ],
      "metadata": {
        "id": "zXaJBLWJ7Qw8"
      }
    },
    {
      "cell_type": "markdown",
      "source": [
        "5. In a class named `Person`, create a constructor that initializes the `name` and `age` attributes. Provide an\n",
        "example of creating an object of this class.\n"
      ],
      "metadata": {
        "id": "CT81evVu7QuX"
      }
    },
    {
      "cell_type": "code",
      "source": [
        "class Person:\n",
        "    def __init__(self, name, age):\n",
        "        self.name = name\n",
        "        self.age = age\n",
        "\n",
        "person = Person('Karthik', 20)"
      ],
      "metadata": {
        "id": "BSMjYSsNEJgA"
      },
      "execution_count": null,
      "outputs": []
    },
    {
      "cell_type": "markdown",
      "source": [
        "6. How can you call a constructor explicitly in Python? Give an example.\n",
        "\n",
        "Answer: using ClassName.__new__ method to initialize a new class object and then explicilty invoke __init__ using the object.\n"
      ],
      "metadata": {
        "id": "fCJcpFbr7Qrl"
      }
    },
    {
      "cell_type": "code",
      "source": [
        "class MyClass:\n",
        "  def __init__(self, value):\n",
        "      self.value = value\n",
        "\n",
        "obj = MyClass.__new__(MyClass)\n",
        "obj.__init__(20)\n",
        "print(obj.value)"
      ],
      "metadata": {
        "colab": {
          "base_uri": "https://localhost:8080/"
        },
        "id": "n68uvlwjENH_",
        "outputId": "241d4cfc-d012-4558-92a9-e6914c52b608"
      },
      "execution_count": null,
      "outputs": [
        {
          "output_type": "stream",
          "name": "stdout",
          "text": [
            "20\n"
          ]
        }
      ]
    },
    {
      "cell_type": "markdown",
      "source": [
        "7. What is the significance of the `self` parameter in Python constructors? Explain with an example.\n",
        "\n",
        "Answer: self refers to the instance of current object allows attributes to be initiazed fot the instance.\n",
        "\n",
        "example:\n",
        "```\n",
        "class Example:\n",
        "    def __init__(self, name):\n",
        "        self.name = name\n",
        "```"
      ],
      "metadata": {
        "id": "dNrn2_0P7Qo0"
      }
    },
    {
      "cell_type": "markdown",
      "source": [
        "8. Discuss the concept of default constructors in Python. When are they used?\n",
        "\n",
        "Answer: Default constructor gets created automatically when no `__init__` is defined. They are used for simple objects i.e. non parameterized."
      ],
      "metadata": {
        "id": "AwGCE7xM7QmM"
      }
    },
    {
      "cell_type": "markdown",
      "source": [
        "9. Create a Python class called `Rectangle` with a constructor that initializes the `width` and `height`\n",
        "attributes. Provide a method to calculate the area of the rectangle."
      ],
      "metadata": {
        "id": "vj9KqL517Qjk"
      }
    },
    {
      "cell_type": "code",
      "source": [
        "class Rectangle:\n",
        "    def __init__(self, width, height):\n",
        "        self.width = width\n",
        "        self.height = height\n",
        "\n",
        "    def area(self):\n",
        "        return self.width*self.height\n",
        "rectangle = Rectangle(10, 20)\n",
        "print(rectangle.area())"
      ],
      "metadata": {
        "colab": {
          "base_uri": "https://localhost:8080/"
        },
        "id": "EMa7J3e0E7Ih",
        "outputId": "40e489fd-b68b-4859-b141-4f1b8a3781a1"
      },
      "execution_count": null,
      "outputs": [
        {
          "output_type": "stream",
          "name": "stdout",
          "text": [
            "200\n"
          ]
        }
      ]
    },
    {
      "cell_type": "markdown",
      "source": [
        "10. How can you have multiple constructors in a Python class? Explain with an example.\n",
        "\n",
        "Answer: Multiple constructor can be defined using classmethod\n"
      ],
      "metadata": {
        "id": "7Go0jV6H7Qgs"
      }
    },
    {
      "cell_type": "code",
      "source": [
        "class MyClass:\n",
        "    def __init__(self, val):\n",
        "        self.val = val\n",
        "    @classmethod\n",
        "    def from_str(cls, str_val):\n",
        "        return cls(int(str_val))"
      ],
      "metadata": {
        "id": "U3xhhDOEFMBN"
      },
      "execution_count": null,
      "outputs": []
    },
    {
      "cell_type": "markdown",
      "source": [
        "11. What is method overloading, and how is it related to constructors in Python?\n",
        "\n",
        "Answer: Method overloading is a concept comes under oops, polymorphism. It is a compile time polymorphism which states that a class method can be overloaded using different parameter or return type.\n",
        "In python, it does not truely supports it. But using default paramters or class methods it can be simulated, and as its using multiple constructor concept for overloading a method its related to constructor as that's the default method."
      ],
      "metadata": {
        "id": "M2faBucs7Qd0"
      }
    },
    {
      "cell_type": "markdown",
      "source": [
        "12. Explain the use of the super() function in Python constructors. Provide an example.\n",
        "\n",
        "Answer: In case if a class is inheriting another class i.e. base class so to inherit the attributes of base class into the child class this super() is used.\n"
      ],
      "metadata": {
        "id": "vMbVcQ3D7QbM"
      }
    },
    {
      "cell_type": "code",
      "source": [
        "class Parent:\n",
        "    def __init__(self, name):\n",
        "        self.name = name\n",
        "        print(\"parent constructor\")\n",
        "\n",
        "class Child(Parent):\n",
        "    def __init__(self, name, age):\n",
        "        super().__init__(name)\n",
        "        self.age = age\n",
        "        print(\"Child Constructor\")\n",
        "child = Child(\"Karthik\", 2)"
      ],
      "metadata": {
        "colab": {
          "base_uri": "https://localhost:8080/"
        },
        "id": "7VgeKESMFQc7",
        "outputId": "afa0c4c4-a18d-4421-a46a-a8e6dac1665c"
      },
      "execution_count": null,
      "outputs": [
        {
          "output_type": "stream",
          "name": "stdout",
          "text": [
            "parent constructor\n",
            "Child Constructor\n"
          ]
        }
      ]
    },
    {
      "cell_type": "markdown",
      "source": [
        "13. Create a class called Book with a constructor that initializes the title, author, and published_year attributes. Provide a method to display book details.\n"
      ],
      "metadata": {
        "id": "XYYxEcTm7QYm"
      }
    },
    {
      "cell_type": "code",
      "source": [
        "class Book:\n",
        "    def __init__(self, title, author, published_year):\n",
        "        self.title= title\n",
        "        self.author = author\n",
        "        self.published_year = published_year\n",
        "\n",
        "    def display(self):\n",
        "      print(f\"Title: {self.title}, Author: {self.author}, Published Year: {self.published_year}\")\n",
        "\n",
        "book = Book(\"Python\", \"Karthik\", 2023)\n",
        "book.display()"
      ],
      "metadata": {
        "colab": {
          "base_uri": "https://localhost:8080/"
        },
        "id": "ZgQyOz1tFVaF",
        "outputId": "4a06bf45-5876-4a7f-f88e-2a68dcf475b5"
      },
      "execution_count": null,
      "outputs": [
        {
          "output_type": "stream",
          "name": "stdout",
          "text": [
            "Title: Python, Author: Karthik, Published Year: 2023\n"
          ]
        }
      ]
    },
    {
      "cell_type": "markdown",
      "source": [
        "14. Discuss the differences between constructors and regular methods in Python classes.\n",
        "\n",
        "Answer:\n",
        "\n",
        "* Constructor called automatically when an object\n",
        "is created whereas a regular method needs to be called explicitly.\n",
        "* Constructor is used to initialize object attribute whereas a regular method performs operation on already initailized object.\n",
        "* Constructor has a fixed name `__init__` and can not return value other than None whereas, the regular method can have any name and can return values if so desired."
      ],
      "metadata": {
        "id": "IYkVfKfE7QV8"
      }
    },
    {
      "cell_type": "markdown",
      "source": [
        "15. Explain the role of the self parameter in instance variable initialization within a constructor.\n",
        "\n",
        "Answer: The seld parameter refers to the instance being created. It allows the constructor to bind arguments to instance variables which makes them unique to that object."
      ],
      "metadata": {
        "id": "04Q_zlfh7QTM"
      }
    },
    {
      "cell_type": "markdown",
      "source": [
        "16. How do you prevent a class from having multiple instances by using constructors in Python? Provide an example.\n",
        "\n",
        "Answer: This is known as Singleton which ensures a class to has only one instance, we can use __new__ with the constructor to check if the class level attribute for the instance available so return that instance otherwise create a new."
      ],
      "metadata": {
        "id": "KoFN0Yuk7QQc"
      }
    },
    {
      "cell_type": "code",
      "source": [
        "class Singleton:\n",
        "    _instance = None\n",
        "\n",
        "    def __init__(self, name):\n",
        "        if not hasattr(self, \"init\"):\n",
        "          self.name = name\n",
        "          self.init = True\n",
        "\n",
        "    def __new__(cls, *args, **kwargs):\n",
        "        if cls._instance is None:\n",
        "            cls._instance = super().__new__(cls)\n",
        "        return cls._instance\n",
        "\n",
        "obj1 = Singleton(\"Karthik\")\n",
        "obj2 = Singleton(\"Karthik\")\n",
        "print(obj1.name)\n",
        "print(obj2.name)\n",
        "print(obj1 is obj2)"
      ],
      "metadata": {
        "colab": {
          "base_uri": "https://localhost:8080/"
        },
        "id": "m7lJBmerDMNU",
        "outputId": "1bbe29b4-f561-44ca-847e-cd0b4e92ff25"
      },
      "execution_count": null,
      "outputs": [
        {
          "output_type": "stream",
          "name": "stdout",
          "text": [
            "Karthik\n",
            "Karthik\n",
            "True\n"
          ]
        }
      ]
    },
    {
      "cell_type": "markdown",
      "source": [
        "17. Create a Python class called Student with a constructor that takes a list of subjects as a parameter and initializes the subjects attribute."
      ],
      "metadata": {
        "id": "cCCwVGkW7QN9"
      }
    },
    {
      "cell_type": "code",
      "source": [
        "class Student:\n",
        "  def __init__(self, subjects):\n",
        "    self.subjects = subjects\n",
        "\n",
        "student = Student([\"Maths\", \"Science\"])\n",
        "print(student.subjects)"
      ],
      "metadata": {
        "colab": {
          "base_uri": "https://localhost:8080/"
        },
        "id": "zEwGINKdDoPo",
        "outputId": "600183ca-bc2e-4944-e494-77d7a13def60"
      },
      "execution_count": null,
      "outputs": [
        {
          "output_type": "stream",
          "name": "stdout",
          "text": [
            "['Maths', 'Science']\n"
          ]
        }
      ]
    },
    {
      "cell_type": "markdown",
      "source": [
        "18. What is the purpose of the __del__ method in Python classes, and how does it relate to constructors?\n",
        "\n",
        "Answer: This is used as a destructor, called when an object i.e. instance of a clas it abot to be destroyed. It is oppposite of constrcutor."
      ],
      "metadata": {
        "id": "PvnurgQp7QLP"
      }
    },
    {
      "cell_type": "markdown",
      "source": [
        "19. Explain the use of constructor chaining in Python. Provide a practical example.\n",
        "\n",
        "Answer: Constructor chaining is invoking of constructor of parent class from a child class to resue init logic. super() is the method used for this."
      ],
      "metadata": {
        "id": "F3scpraF7QIP"
      }
    },
    {
      "cell_type": "code",
      "source": [
        "class Parent:\n",
        "  def __init__(self):\n",
        "    print(\"Parent Constructor\")\n",
        "\n",
        "class Child(Parent):\n",
        "  def __init__(self):\n",
        "    super().__init__()\n",
        "    print(\"Child Constructor\")\n",
        "\n",
        "child = Child()"
      ],
      "metadata": {
        "colab": {
          "base_uri": "https://localhost:8080/"
        },
        "id": "FR4lkjc7FsN2",
        "outputId": "6cc30c2d-f32e-4c7e-eca7-3b3e974f09e9"
      },
      "execution_count": null,
      "outputs": [
        {
          "output_type": "stream",
          "name": "stdout",
          "text": [
            "Parent Constructor\n",
            "Child Constructor\n"
          ]
        }
      ]
    },
    {
      "cell_type": "markdown",
      "source": [
        "20. Create a Python class called Car with a default constructor that initializes the make and model attributes. Provide a method to display car information."
      ],
      "metadata": {
        "id": "9ZsxfkOT7QD8"
      }
    },
    {
      "cell_type": "code",
      "source": [
        "class Car:\n",
        "  def __init__(self, make, model):\n",
        "    self.make = make\n",
        "    self.model = model\n",
        "\n",
        "  def display(self):\n",
        "    print(f\"Make: {self.make}, Model: {self.model}\")\n",
        "\n",
        "car = Car(\"Toyota\", \"Camry\")"
      ],
      "metadata": {
        "id": "qYXuHH6MF4x-"
      },
      "execution_count": null,
      "outputs": []
    },
    {
      "cell_type": "markdown",
      "source": [
        "# Inheritence"
      ],
      "metadata": {
        "id": "dbLfC7Gp7QAt"
      }
    },
    {
      "cell_type": "markdown",
      "source": [
        "1. What is inheritance in Python? Explain its significance in object-oriented programming.\n",
        "\n",
        "Answer: Inheritence is a concept in which a class inherits attributes and methods of another class. The class which inherits is known as child class and the class which is base is known as a parent class.\n",
        "\n",
        "Its significance is:\n",
        "1. It promotes code reusabiliy\n",
        "2. Supports polymorphism and method overloading\n"
      ],
      "metadata": {
        "id": "1HKm3jUfGwBE"
      }
    },
    {
      "cell_type": "markdown",
      "source": [
        "2. Differentiate between single inheritance and multiple inheritance in Python. Provide examples for each.\n",
        "\n",
        "Answer: Single inheritence is what in which a child class is derived of a single base class whereas in multiple inheritence its derived from multiple base or parent classes\n"
      ],
      "metadata": {
        "id": "AdkMVWorGv-N"
      }
    },
    {
      "cell_type": "code",
      "source": [
        "# single inheritence\n",
        "\n",
        "class P1:\n",
        "  def greet(self):\n",
        "    print(\"Hello from P1\")\n",
        "\n",
        "class P2(P1):\n",
        "  def greet(self):\n",
        "    print(\"Hello from P2\")\n",
        "\n",
        "p2 = P2()\n",
        "p2.greet()"
      ],
      "metadata": {
        "colab": {
          "base_uri": "https://localhost:8080/"
        },
        "id": "8l5cNpU1Hn8O",
        "outputId": "fcd95763-9b73-439a-e9cb-1b546d2601c5"
      },
      "execution_count": null,
      "outputs": [
        {
          "output_type": "stream",
          "name": "stdout",
          "text": [
            "Hello from P2\n"
          ]
        }
      ]
    },
    {
      "cell_type": "code",
      "source": [
        "# multiple inheritence\n",
        "\n",
        "class P1:\n",
        "  def greet(self):\n",
        "    print(\"Hello from P1\")\n",
        "\n",
        "class P2:\n",
        "  def greet(self):\n",
        "    print(\"Hello from P2\")\n",
        "\n",
        "class Child(P1, P2):\n",
        "  pass\n",
        "\n",
        "child = Child()\n",
        "child.greet()"
      ],
      "metadata": {
        "colab": {
          "base_uri": "https://localhost:8080/"
        },
        "id": "X2TqY2v1Hntu",
        "outputId": "a0791bf6-e1f5-4edd-abf8-c6e3d331dbdb"
      },
      "execution_count": null,
      "outputs": [
        {
          "output_type": "stream",
          "name": "stdout",
          "text": [
            "Hello from P1\n"
          ]
        }
      ]
    },
    {
      "cell_type": "markdown",
      "source": [
        "3. Create a Vehicle and Car class with inheritance."
      ],
      "metadata": {
        "id": "Lhq_VsKyGv7N"
      }
    },
    {
      "cell_type": "code",
      "source": [
        "class Vehicle:\n",
        "    def __init__(self, make, model):\n",
        "        self.make = make\n",
        "        self.model = model\n",
        "\n",
        "class Car(Vehicle):\n",
        "    def __init__(self, make, model, num_doors):\n",
        "        super().__init__(make, model)\n",
        "\n",
        "maruti = Car(\"Maruti\", \"Swift\", 4)\n",
        "print(maruti.make)\n",
        "print(maruti.model)"
      ],
      "metadata": {
        "colab": {
          "base_uri": "https://localhost:8080/"
        },
        "id": "KKvHsDvyH9sP",
        "outputId": "74ec04ec-4434-4bc9-f40b-da50094a1892"
      },
      "execution_count": null,
      "outputs": [
        {
          "output_type": "stream",
          "name": "stdout",
          "text": [
            "Maruti\n",
            "Swift\n"
          ]
        }
      ]
    },
    {
      "cell_type": "markdown",
      "source": [
        "4. Explain method overriding in inheritance. Provide an example.\n",
        "\n",
        "Answer: It occurs when a method already exist in parent class, got set in child class also, which overrides parent class with the child class method implementation."
      ],
      "metadata": {
        "id": "f1shmZJqGv4d"
      }
    },
    {
      "cell_type": "code",
      "source": [
        "class P:\n",
        "  def show(self):\n",
        "    print(\"Hello from P\")\n",
        "\n",
        "class C(P):\n",
        "  def show(self):\n",
        "    print(\"Hello from C\")\n",
        "\n",
        "c = C()\n",
        "c.show()"
      ],
      "metadata": {
        "colab": {
          "base_uri": "https://localhost:8080/"
        },
        "id": "HgCeJornIagX",
        "outputId": "f53537fe-012e-48d3-e0bd-303ef66b0a9e"
      },
      "execution_count": null,
      "outputs": [
        {
          "output_type": "stream",
          "name": "stdout",
          "text": [
            "Hello from C\n"
          ]
        }
      ]
    },
    {
      "cell_type": "markdown",
      "source": [
        "5. How can you access parent class methods and attributes from a child class in Python?\n",
        "\n",
        "Answer: using `super()`"
      ],
      "metadata": {
        "id": "GcvFcUbqGv1j"
      }
    },
    {
      "cell_type": "markdown",
      "source": [
        "6. Discuss the use of the super() function in inheritance. When and why is it used?\n",
        "\n",
        "Answer: To access the methods or constructor of a parent class from a child class, this is used."
      ],
      "metadata": {
        "id": "VDN2sv2EGvyr"
      }
    },
    {
      "cell_type": "markdown",
      "source": [
        "7. Create Animal, Dog, and Cat classes with method overriding."
      ],
      "metadata": {
        "id": "m3g8C-VdGvxt"
      }
    },
    {
      "cell_type": "code",
      "source": [
        "class Animal:\n",
        "  def __init__(self, name):\n",
        "    self.name = name\n",
        "  def speak(self):\n",
        "    pass\n",
        "\n",
        "class Dog(Animal):\n",
        "  def speak(self):\n",
        "    return f\"{self.name} says Woof!\"\n",
        "\n",
        "class Cat(Animal):\n",
        "  def speak(self):\n",
        "    return f\"{self.name} says Meow!\"\n",
        "\n",
        "dog = Dog(\"Buddy\")\n",
        "print(dog.name)\n",
        "print(dog.speak())\n",
        "\n",
        "cat = Cat(\"Whiskers\")\n",
        "print(cat.name)\n",
        "print(cat.speak())"
      ],
      "metadata": {
        "colab": {
          "base_uri": "https://localhost:8080/"
        },
        "id": "zbx9vr0eI__H",
        "outputId": "f70875f3-34c4-41c4-f370-ede3e2347787"
      },
      "execution_count": null,
      "outputs": [
        {
          "output_type": "stream",
          "name": "stdout",
          "text": [
            "Buddy\n",
            "Buddy says Woof!\n",
            "Whiskers\n",
            "Whiskers says Meow!\n"
          ]
        }
      ]
    },
    {
      "cell_type": "markdown",
      "source": [
        "8. Explain the role of the isinstance() function in Python and how it relates to inheritance.\n",
        "\n",
        "Answer: To check if an object is an instance of a class or its parent class, we use isinstance()"
      ],
      "metadata": {
        "id": "bFl7Ap-vGvv7"
      }
    },
    {
      "cell_type": "markdown",
      "source": [
        "9. What is the purpose of the issubclass() function in Python? Provide an example.\n",
        "\n",
        "Answer: it is used to check if a class is derived from another class thus is it a sub class of another class or not."
      ],
      "metadata": {
        "id": "YBkWCahPGvtD"
      }
    },
    {
      "cell_type": "code",
      "source": [
        "class Parent:\n",
        "  pass\n",
        "\n",
        "class Child(Parent):\n",
        "  pass\n",
        "\n",
        "print(issubclass(Child, Parent))"
      ],
      "metadata": {
        "colab": {
          "base_uri": "https://localhost:8080/"
        },
        "id": "N6xJYiJZJv-3",
        "outputId": "4a61b2a9-5695-45cc-d5e7-781341951c0b"
      },
      "execution_count": null,
      "outputs": [
        {
          "output_type": "stream",
          "name": "stdout",
          "text": [
            "True\n"
          ]
        }
      ]
    },
    {
      "cell_type": "markdown",
      "source": [
        "10. Discuss constructor inheritance in Python.\n",
        "\n",
        "Answer: A child class inherits the constructor of a parent class by itself, but if a constructor is defined in a child class also it will override constructor of parent class, to define a constructor in child class while inheriting the parent class also, super() is used."
      ],
      "metadata": {
        "id": "gwfPNCpoGvqU"
      }
    },
    {
      "cell_type": "markdown",
      "source": [
        "11. Create Shape, Circle, and Rectangle classes with an area() method."
      ],
      "metadata": {
        "id": "22LNt97YGvnE"
      }
    },
    {
      "cell_type": "code",
      "source": [
        "class Shape:\n",
        "  def area(self):\n",
        "    pass\n",
        "\n",
        "class Rectangle(Shape):\n",
        "  def __init__(self, width, height):\n",
        "    self.width = width\n",
        "    self.height = height\n",
        "  def area(self):\n",
        "    return self.width*self.height\n",
        "\n",
        "class Circle(Shape):\n",
        "  def __init__(self, radius):\n",
        "    self.radius = radius\n",
        "  def area(self):\n",
        "    return 3.14*self.radius*self.radius"
      ],
      "metadata": {
        "id": "bW1aJEwCMHHY"
      },
      "execution_count": null,
      "outputs": []
    },
    {
      "cell_type": "markdown",
      "source": [
        "12. Explain abstract base classes (ABCs) in Python with an example."
      ],
      "metadata": {
        "id": "UNIHhhLGGvkM"
      }
    },
    {
      "cell_type": "code",
      "source": [
        "from abc import ABC, abstractmethod\n",
        "\n",
        "class Shape(ABC):\n",
        "  @abstractmethod\n",
        "  def area(self):\n",
        "    pass\n",
        "\n",
        "class Rectangle(Shape):\n",
        "  def __init__(self, width, height):\n",
        "    self.width = width\n",
        "    self.height = height\n",
        "  def area(self):\n",
        "    return self.width*self.height"
      ],
      "metadata": {
        "id": "DmAsy0QmMJdo"
      },
      "execution_count": null,
      "outputs": []
    },
    {
      "cell_type": "markdown",
      "source": [
        "13. How can you prevent a child class from modifying certain attributes or methods inherited from a parent class?\n",
        "\n",
        "Answer:\n",
        "1. by making the attribute or method private or protected\n",
        "2. using final from typing module"
      ],
      "metadata": {
        "id": "vwP30BFWGvhc"
      }
    },
    {
      "cell_type": "markdown",
      "source": [
        "14. Create a Python class called Employee with attributes name and salary. Then, create a child class Manager that inherits from Employee and adds an attribute department. Provide an example."
      ],
      "metadata": {
        "id": "WcaJo7CSGvet"
      }
    },
    {
      "cell_type": "code",
      "source": [
        "class Employee:\n",
        "  def __init__(self, name, salary):\n",
        "    self.name = name\n",
        "    self.salary = salary\n",
        "\n",
        "class Manager(Employee):\n",
        "  def __init__(self, name, salary, department):\n",
        "    super().__init__(name, salary)\n",
        "    self.department = department\n",
        "\n",
        "manager = Manager(\"Karthik\", 100000, \"IT\")\n",
        "print(manager.name)\n",
        "print(manager.salary)\n",
        "print(manager.department)"
      ],
      "metadata": {
        "colab": {
          "base_uri": "https://localhost:8080/"
        },
        "id": "CbFSImorMLmY",
        "outputId": "73f6d07b-c86a-452f-8754-1fcfde70d16d"
      },
      "execution_count": null,
      "outputs": [
        {
          "output_type": "stream",
          "name": "stdout",
          "text": [
            "Karthik\n",
            "100000\n",
            "IT\n"
          ]
        }
      ]
    },
    {
      "cell_type": "markdown",
      "source": [
        "15. Discuss the concept of method overloading in Python inheritance. How does it differ from method overriding?\n",
        "\n",
        "Answer:\n",
        "1. Method overloading is compile time whereas Method overriding is run time\n",
        "2. Method overloading just changes the signature or paramters or return type of a method but remains the method name intact whereas method overriding changes the implementation of the old method."
      ],
      "metadata": {
        "id": "AJz4JYZrGvbs"
      }
    },
    {
      "cell_type": "markdown",
      "source": [
        "16. Explain the purpose of the __init__() method in Python inheritance and how it is utilized in child classes.\n",
        "\n",
        "Answer: The `__init__()` method initializes instance attributes when an object is created. In inheritance, the child class can call the parent class `__init__()` using `super()` to reuse its functionality."
      ],
      "metadata": {
        "id": "6gEv96pcGvYt"
      }
    },
    {
      "cell_type": "markdown",
      "source": [
        "17. Create a Python class called Bird with a method fly(). Then, create child classes Eagle and Sparrow that inherit from Bird and implement the fly() method differently. Provide an example of using these classes"
      ],
      "metadata": {
        "id": "zyGMUFSMGvVl"
      }
    },
    {
      "cell_type": "code",
      "source": [
        "class Bird:\n",
        "  def fly(self):\n",
        "    print(\"Bird is flying\")\n",
        "\n",
        "class Eagle(Bird):\n",
        "  def fly(self):\n",
        "    print(\"Eagle is flying\")\n",
        "\n",
        "class Sparrow(Bird):\n",
        "  def fly(self):\n",
        "    print(\"Sparrow is flying\")\n",
        "\n",
        "eagle = Eagle()\n",
        "eagle.fly()\n",
        "\n",
        "sparrow = Sparrow()\n",
        "sparrow.fly()"
      ],
      "metadata": {
        "colab": {
          "base_uri": "https://localhost:8080/"
        },
        "id": "yQ3K3C8pNI9Q",
        "outputId": "69321364-67ea-4015-ed3d-2302f23b4033"
      },
      "execution_count": null,
      "outputs": [
        {
          "output_type": "stream",
          "name": "stdout",
          "text": [
            "Eagle is flying\n",
            "Sparrow is flying\n"
          ]
        }
      ]
    },
    {
      "cell_type": "markdown",
      "source": [
        "18. What is the \"diamond problem\" in multiple inheritance, and how does Python address it?\n",
        "\n",
        "Answer: This arises when a child class inherits from two parent classes that share a common base/ parent class.\n",
        "\n",
        "Using Method Resolution Order or MRO we can solve this problem. It uses C3 Linearization algorithm."
      ],
      "metadata": {
        "id": "iYlU6MyKGvSX"
      }
    },
    {
      "cell_type": "code",
      "source": [
        "class A:\n",
        "  def greet(self):\n",
        "    print('Hi from class A')\n",
        "class B(A):\n",
        "  def greet(self):\n",
        "    print('Hi from class B')\n",
        "class C(A):\n",
        "  def greet(self):\n",
        "    print('Hi from class C')\n",
        "\n",
        "class D(B,C):\n",
        "  pass\n",
        "\n",
        "obj = D()\n",
        "obj.greet()\n",
        "print(D.mro())"
      ],
      "metadata": {
        "colab": {
          "base_uri": "https://localhost:8080/"
        },
        "id": "GwgkaFZxNqiZ",
        "outputId": "b16de8f8-5d8b-407d-94a9-4a71e8cb3f76"
      },
      "execution_count": null,
      "outputs": [
        {
          "output_type": "stream",
          "name": "stdout",
          "text": [
            "Hi from class B\n",
            "[<class '__main__.D'>, <class '__main__.B'>, <class '__main__.C'>, <class '__main__.A'>, <class 'object'>]\n"
          ]
        }
      ]
    },
    {
      "cell_type": "markdown",
      "source": [
        "19. Discuss the concept of \"is-a\" and \"has-a\" relationships in inheritance, and provide examples of each.\n",
        "\n",
        "Answer:\n",
        "1. is-a: A child class is a version of a parent class. (inheritence)\n",
        "2. has-a: A child class contains another class as an attribute. (composition)"
      ],
      "metadata": {
        "id": "N8UVANvLGvEO"
      }
    },
    {
      "cell_type": "code",
      "source": [
        "# is-a\n",
        "\n",
        "class Animal:\n",
        "  pass\n",
        "class Dog(Animal):\n",
        "  pass"
      ],
      "metadata": {
        "id": "fi9fvXhrORSh"
      },
      "execution_count": null,
      "outputs": []
    },
    {
      "cell_type": "code",
      "source": [
        "# has-a\n",
        "class Engine:\n",
        "  pass\n",
        "\n",
        "class Car:\n",
        "  def __init__(self, engine):\n",
        "    self.engine = engine"
      ],
      "metadata": {
        "id": "1vYDo_t4OWs5"
      },
      "execution_count": null,
      "outputs": []
    },
    {
      "cell_type": "markdown",
      "source": [
        "20. Create a Python class hierarchy for a university system. Start with a base class Person and create child classes Student and Professor, each with their own attributes and methods. Provide an example of using these classes in a university context."
      ],
      "metadata": {
        "id": "eRpJj9wTOdm5"
      }
    },
    {
      "cell_type": "code",
      "source": [
        "class Person:\n",
        "  def __init__(self, name, age):\n",
        "    self.name = name\n",
        "    self.age = age\n",
        "\n",
        "class Student(Person):\n",
        "  def __init__(self, name, age, student_id):\n",
        "    super().__init__(name, age)\n",
        "    self.student_id = student_id\n",
        "  def study(self):\n",
        "    print(f\"{self.name} is studying\")\n",
        "\n",
        "class Professor(Person):\n",
        "  def __init__(self, name, age, department):\n",
        "    super().__init__(name, age)\n",
        "    self.department = department\n",
        "  def teach(self):\n",
        "    print(f\"{self.name} is teaching\")\n",
        "\n",
        "student = Student(\"Karthik\", 30, 1)\n",
        "professor = Professor(\"Random\", 45, \"CSE\")\n",
        "student.study()\n",
        "professor.teach()"
      ],
      "metadata": {
        "colab": {
          "base_uri": "https://localhost:8080/"
        },
        "id": "Ka5SwOvWOj4O",
        "outputId": "a35ff593-f6c8-465f-d7f9-5c0612526487"
      },
      "execution_count": null,
      "outputs": [
        {
          "output_type": "stream",
          "name": "stdout",
          "text": [
            "Karthik is studying\n",
            "Random is teaching\n"
          ]
        }
      ]
    },
    {
      "cell_type": "markdown",
      "source": [
        "# Encapsulation"
      ],
      "metadata": {
        "id": "2qbNS-0KPVNx"
      }
    },
    {
      "cell_type": "markdown",
      "source": [
        "1. Explain the concept of encapsulation in Python. What is its role in object-oriented programming?\n",
        "\n",
        "Answer:\n",
        "* As its name states, to encapsulate an object from access, we do encapsulation.\n",
        "\n",
        "* It is refers to the bundling of data and methods within a class using properties or getter and setter etc.\n",
        "\n",
        "* It uses to protect the un-intentional access or modification, which encourages modularity and maintainability in OOPs."
      ],
      "metadata": {
        "id": "w_x6-4rvPXBV"
      }
    },
    {
      "cell_type": "markdown",
      "source": [
        "2. Describe the key principles of encapsulation, including access control and data hiding.\n",
        "\n",
        "Answer:\n",
        "\n",
        "**Access Control**: Restricting access to class attributes and methods using modifiers like public, private, protected\n",
        "\n",
        "**Data Hiding**: It hides internal details of a class from external entitites to prevent mis use of unintentional damage"
      ],
      "metadata": {
        "id": "6dLSxIpIPW-e"
      }
    },
    {
      "cell_type": "markdown",
      "source": [
        "3. How can you achieve encapsulation in Python classes? Provide an example.\n",
        "\n",
        "Answer: Yes, it can be achieved by defining attributes and methods inside a class with proper modifiers"
      ],
      "metadata": {
        "id": "BjAjRELMPW7n"
      }
    },
    {
      "cell_type": "code",
      "source": [
        "class MyClass:\n",
        "  def __init__(self):\n",
        "    self.public = \"Public\"\n",
        "    self._protected = \"Protected\"\n",
        "    self.__private = \"Private\"\n",
        "  def get_private(self):\n",
        "    return self.__private\n",
        "\n",
        "obj = MyClass()\n",
        "print(obj.public)\n",
        "print(obj._protected)\n",
        "print(obj.get_private())"
      ],
      "metadata": {
        "colab": {
          "base_uri": "https://localhost:8080/"
        },
        "id": "Sg3VubObQ5vu",
        "outputId": "9927fe1d-41d9-49dc-aef4-09555e7dc908"
      },
      "execution_count": null,
      "outputs": [
        {
          "output_type": "stream",
          "name": "stdout",
          "text": [
            "Public\n",
            "Protected\n",
            "Private\n"
          ]
        }
      ]
    },
    {
      "cell_type": "markdown",
      "source": [
        "4. Discuss the difference between public, private, and protected access modifiers in Python.\n",
        "\n",
        "Answer:\n",
        "\n",
        "* Public: Accessible from anywhere\n",
        "* Protected: Internal usage only, can be accessed from the instance and instance of the child class\n",
        "* Private: Accessible within the class only"
      ],
      "metadata": {
        "id": "6ZkqlbqvPW42"
      }
    },
    {
      "cell_type": "markdown",
      "source": [
        "5. Create a Python class called Person with a private attribute __name. Provide methods to get and set the name attribute."
      ],
      "metadata": {
        "id": "6xashgm5PW2P"
      }
    },
    {
      "cell_type": "code",
      "source": [
        "class Person:\n",
        "  def __init__(self, name):\n",
        "    self.__name = name\n",
        "  def get_name(self):\n",
        "    return self.__name\n",
        "  def set_name(self, name):\n",
        "    self.__name = name\n",
        "\n",
        "person = Person(\"Karthik\")\n",
        "print(person.get_name())\n",
        "person.set_name(\"Karthik J\")\n",
        "print(person.get_name())"
      ],
      "metadata": {
        "colab": {
          "base_uri": "https://localhost:8080/"
        },
        "id": "ZNg9VLehRe5Y",
        "outputId": "17bd28c4-ab20-4e5c-95fe-3435e7b183c5"
      },
      "execution_count": null,
      "outputs": [
        {
          "output_type": "stream",
          "name": "stdout",
          "text": [
            "Karthik\n",
            "Karthik J\n"
          ]
        }
      ]
    },
    {
      "cell_type": "markdown",
      "source": [
        "6. Explain the purpose of getter and setter methods in encapsulation. Provide examples.\n",
        "\n",
        "Answer:\n",
        "\n",
        "To control the attribute on how to modify or what to access and to validate the data before setting an attribute we use getter and setters"
      ],
      "metadata": {
        "id": "LoWTzBcrPWzY"
      }
    },
    {
      "cell_type": "code",
      "source": [
        "class Product:\n",
        "  def __init__(self):\n",
        "    self.__price = 0\n",
        "\n",
        "  def get_price(self):\n",
        "    return self.__price\n",
        "\n",
        "  def set_price(self, price):\n",
        "    if price < 0:\n",
        "      print(\"Price cannot be negative\")\n",
        "    else:\n",
        "      self.__price = price\n",
        "\n",
        "product = Product()\n",
        "product.set_price(100)\n",
        "print(product.get_price())"
      ],
      "metadata": {
        "colab": {
          "base_uri": "https://localhost:8080/"
        },
        "id": "8CPVVhAaSBqf",
        "outputId": "0ebb0147-c426-4155-8736-2bf2e0d575b5"
      },
      "execution_count": null,
      "outputs": [
        {
          "output_type": "stream",
          "name": "stdout",
          "text": [
            "100\n"
          ]
        }
      ]
    },
    {
      "cell_type": "markdown",
      "source": [
        "7. What is name mangling in Python, and how does it affect encapsulation?\n",
        "\n",
        "Answer: Name mangling in python changes the name of private attributes to include the class name as a prefix, ensuring its not easily accessible outside the class. It affect encapsulation by providing the necessary protection and accessibility wrt the class."
      ],
      "metadata": {
        "id": "xCR2kBCbPWwx"
      }
    },
    {
      "cell_type": "markdown",
      "source": [
        "8. Create a Python class called BankAccount with private attributes for the account balance (__balance) and account number (__account_number). Provide methods for depositing and withdrawing money."
      ],
      "metadata": {
        "id": "qj6XGPhdPWuW"
      }
    },
    {
      "cell_type": "code",
      "source": [
        "class BankAccount:\n",
        "  def __init__(self, account_number, balance):\n",
        "    self.__balance = balance\n",
        "    self.__account_number = account_number\n",
        "  def deposit(self, amount):\n",
        "    self.__balance += amount\n",
        "  def withdraw(self, amount):\n",
        "    if amount > self.__balance:\n",
        "      print(\"Insufficient balance\")\n",
        "    else:\n",
        "      self.__balance -= amount"
      ],
      "metadata": {
        "id": "prFCVFHQTAef"
      },
      "execution_count": null,
      "outputs": []
    },
    {
      "cell_type": "markdown",
      "source": [
        "9. Discuss the advantages of encapsulation in terms of code maintainability and security.\n",
        "\n",
        "Answer:\n",
        "\n",
        "* Code Maintainability: Encapsulation ensures changes in internal implementation do not affect external code relying on the class.\n",
        "* Security: Sensitive data is protected from accidental or malicious modifications."
      ],
      "metadata": {
        "id": "4w2DKo20PWru"
      }
    },
    {
      "cell_type": "markdown",
      "source": [
        "10. How can you access private attributes in Python? Provide an example demonstrating the use of name mangling.\n",
        "\n",
        "Answer: using `_ClassName_attribute`"
      ],
      "metadata": {
        "id": "kaRrTKvNPWpH"
      }
    },
    {
      "cell_type": "code",
      "source": [
        "class Example:\n",
        "  def __init__(self):\n",
        "    self.__private = \"Private\"\n",
        "\n",
        "obj = Example()\n",
        "print(obj._Example__private)"
      ],
      "metadata": {
        "colab": {
          "base_uri": "https://localhost:8080/"
        },
        "id": "oVIc_GzUTSIU",
        "outputId": "530b927d-8561-4235-cfa4-5e6903d30be4"
      },
      "execution_count": null,
      "outputs": [
        {
          "output_type": "stream",
          "name": "stdout",
          "text": [
            "Private\n"
          ]
        }
      ]
    },
    {
      "cell_type": "markdown",
      "source": [
        "11. Create a Python class hierarchy for a school system, including classes for students, teachers, and courses, and implement encapsulation principles to protect sensitive information."
      ],
      "metadata": {
        "id": "n8cPusUbPWmX"
      }
    },
    {
      "cell_type": "code",
      "source": [
        "class Person:\n",
        "  def __init__(self, name, age):\n",
        "    self.__name = name\n",
        "    self.__age = age\n",
        "\n",
        "  def get_name(self):\n",
        "    return self.__name\n",
        "\n",
        "  def get_age(self):\n",
        "    return self.__age\n",
        "\n",
        "class Student(Person):\n",
        "  def __init__(self, name, age, student_id):\n",
        "    super().__init__(name, age)\n",
        "    self.__student_id = student_id\n",
        "\n",
        "  def get_student_id(self):\n",
        "    return self.__student_id\n",
        "\n",
        "class Teacher(Person):\n",
        "    def __init__(self, name, age, teacher_id):\n",
        "        super().__init__(name, age)\n",
        "        self.__teacher_id = teacher_id\n",
        "\n",
        "    def get_teacher_id(self):\n",
        "        return self.__teacher_id\n",
        "\n",
        "class Course:\n",
        "    def __init__(self, course_name, teacher):\n",
        "        self.__course_name = course_name\n",
        "        self.__teacher = teacher\n",
        "\n",
        "    def get_course_name(self):\n",
        "        return self.__course_name\n",
        "\n",
        "student = Student('Karthik', 30, 1)\n",
        "teacher = Teacher('Random', 45, 2)\n",
        "course = Course('Python', teacher)"
      ],
      "metadata": {
        "id": "m4okiw0fTgRH"
      },
      "execution_count": null,
      "outputs": []
    },
    {
      "cell_type": "markdown",
      "source": [
        "12. Explain the concept of property decorators in Python and how they relate to encapsulation.\n",
        "\n",
        "Answer: @property decorator allows to define the method in a way that it can be used or accessed like an attribute.\n",
        "\n",
        "As it implements getter and setter attribute without directly accessing, it implements encapsulation."
      ],
      "metadata": {
        "id": "c3pU7kKwPWjn"
      }
    },
    {
      "cell_type": "code",
      "source": [
        "class Rectangle:\n",
        "  def __init__(self, width, height):\n",
        "    self.__width = width\n",
        "    self.__height = height\n",
        "\n",
        "  @property\n",
        "  def width(self):\n",
        "    return self.__width\n",
        "\n",
        "  @width.setter\n",
        "  def width(self, width):\n",
        "    self.__width = width"
      ],
      "metadata": {
        "id": "tR9LjC-hUpxF"
      },
      "execution_count": null,
      "outputs": []
    },
    {
      "cell_type": "markdown",
      "source": [
        "13. What is data hiding, and why is it important in encapsulation? Provide examples.\n",
        "\n",
        "Answer: Data hiding refers to enable data security by restricting the access which ensures that they cannot be access directly outside the class. It is important to prevent modification and ensures abstraction of class."
      ],
      "metadata": {
        "id": "BI6FDcN6PWg3"
      }
    },
    {
      "cell_type": "code",
      "source": [
        "class Account:\n",
        "    def __init__(self, balance):\n",
        "        self.__balance = balance\n",
        "\n",
        "    def deposit(self, amount):\n",
        "        if amount > 0:\n",
        "            self.__balance += amount\n",
        "\n",
        "    def get_balance(self):\n",
        "        return self.__balance\n",
        "\n",
        "account = Account(1000)\n",
        "account.deposit(500)\n",
        "print(account.get_balance())\n"
      ],
      "metadata": {
        "colab": {
          "base_uri": "https://localhost:8080/"
        },
        "id": "qW6wTzZ5VXRP",
        "outputId": "5d03532b-14cd-40ea-b493-17c549e62334"
      },
      "execution_count": null,
      "outputs": [
        {
          "output_type": "stream",
          "name": "stdout",
          "text": [
            "1500\n"
          ]
        }
      ]
    },
    {
      "cell_type": "markdown",
      "source": [
        "14. Create a Python class called Employee with private attributes for salary (__salary) and employee ID (__employee_id). Provide a method to calculate yearly bonuses."
      ],
      "metadata": {
        "id": "mdYkflD6PWeB"
      }
    },
    {
      "cell_type": "code",
      "source": [
        "class Employee:\n",
        "  def __init__(self, salary, employee_id):\n",
        "    self.__salary = salary\n",
        "    self.__employee_id = employee_id\n",
        "\n",
        "  def calculate_yearly_bonuses(self):\n",
        "    return self.__salary*12\n",
        "\n",
        "employee = Employee(100000, 121)\n",
        "print(employee.calculate_yearly_bonuses())"
      ],
      "metadata": {
        "colab": {
          "base_uri": "https://localhost:8080/"
        },
        "id": "H1cdADX0VgVO",
        "outputId": "7ee9406b-fd04-40fc-f829-3bb3b08b56a5"
      },
      "execution_count": null,
      "outputs": [
        {
          "output_type": "stream",
          "name": "stdout",
          "text": [
            "1200000\n"
          ]
        }
      ]
    },
    {
      "cell_type": "markdown",
      "source": [
        "15. Discuss the use of accessors and mutators in encapsulation. How do they help maintain control over attribute access?\n",
        "\n",
        "Answer:\n",
        "\n",
        "* Accessors (getter methods) provide controlled access to private attributes.\n",
        "* Mutators (setter methods) allow controlled modification of private attributes, often with validation.\n",
        "\n",
        "They maintain control by ensuring that data is accessed or modified in a safe and validated manner."
      ],
      "metadata": {
        "id": "uXZhkUilPWbO"
      }
    },
    {
      "cell_type": "markdown",
      "source": [
        "16. What are the potential drawbacks or disadvantages of using encapsulation in Python?\n",
        "\n",
        "Answer:\n",
        "* It increases complexity by adding extra methods for getter and setter\n",
        "* Overuse of which may lead to rigidity of a class so it reduces extensibility"
      ],
      "metadata": {
        "id": "K0MntDXGPWYX"
      }
    },
    {
      "cell_type": "markdown",
      "source": [
        "17. Create a Python class for a library system that encapsulates book information, including titles, authors, and availability status."
      ],
      "metadata": {
        "id": "4BOnq3MPPWVR"
      }
    },
    {
      "cell_type": "code",
      "source": [
        "class Book:\n",
        "  def __init__(self, title, author, status):\n",
        "    self.__title = title\n",
        "    self.__author = author\n",
        "    self.__status = status\n",
        "  @property\n",
        "  def title(self):\n",
        "    return self.__title\n",
        "  @property\n",
        "  def author(self):\n",
        "    return self.__author\n",
        "  @property\n",
        "  def status(self):\n",
        "    return self.__status\n",
        "  @status.setter\n",
        "  def status(self, status):\n",
        "    self.__status = status\n",
        "\n",
        "book = Book(\"Python Book\", \"Python Author\", \"Available\")\n",
        "print(book.title)\n",
        "print(book.status)\n",
        "book.status = \"Un-Available\"\n",
        "print(book.status)"
      ],
      "metadata": {
        "colab": {
          "base_uri": "https://localhost:8080/"
        },
        "id": "CW0z5-Y6WVMo",
        "outputId": "b0c1f2f7-ed90-4142-c70d-849d62c78432"
      },
      "execution_count": null,
      "outputs": [
        {
          "output_type": "stream",
          "name": "stdout",
          "text": [
            "Python Book\n",
            "Available\n",
            "Un-Available\n"
          ]
        }
      ]
    },
    {
      "cell_type": "markdown",
      "source": [
        "18. Explain how encapsulation enhances code reusability and modularity in Python programs.\n",
        "\n",
        "Answer: Encapsulation allows classes to hide their implementation details while exposing only necessary functionality, promoting code reuse without exposing sensitive data."
      ],
      "metadata": {
        "id": "dEj-B6TeWSOX"
      }
    },
    {
      "cell_type": "markdown",
      "source": [
        "19. Describe the concept of information hiding in encapsulation. Why is it essential in software development?\n",
        "\n",
        "Answer: It is a concept of key feature of encapsulation which comes in OOPS. It helps in preventing the attributes access directly from the outside which ensures security, hiding of internal implementation and data while making system robust."
      ],
      "metadata": {
        "id": "LYMkeNv2WSEx"
      }
    },
    {
      "cell_type": "markdown",
      "source": [
        "20. Create a Python class called Customer with private attributes for customer details like name, address, and contact information. Implement encapsulation to ensure data integrity and security"
      ],
      "metadata": {
        "id": "7dQ5VC11XtK3"
      }
    },
    {
      "cell_type": "code",
      "source": [
        "class Customer:\n",
        "  def __init__(self, name, address, contact):\n",
        "    self.__name = name\n",
        "    self.__address = address\n",
        "    self.__contact = contact\n",
        "\n",
        "  @property\n",
        "  def name(self):\n",
        "    return self.__name\n",
        "  @property\n",
        "  def address(self):\n",
        "    return self.__address\n",
        "  @property\n",
        "  def contact(self):\n",
        "    return self.__contact\n",
        "\n",
        "  @address.setter\n",
        "  def address(self, address):\n",
        "    self.__address = address\n",
        "  @contact.setter\n",
        "  def contact(self, contact):\n",
        "    self.__contact = contact"
      ],
      "metadata": {
        "id": "cC1q_i86PT3B"
      },
      "execution_count": null,
      "outputs": []
    },
    {
      "cell_type": "markdown",
      "source": [
        "# Polymorphism"
      ],
      "metadata": {
        "id": "YHgxV7lVYCU9"
      }
    },
    {
      "cell_type": "markdown",
      "source": [
        "1. What is polymorphism in Python? Explain how it is related to object-oriented programming.\n",
        "\n",
        "Answer:\n",
        "\n",
        "Poly means many forms, polymorphism is refers to the ability of class to provide different implementations of a method.\n",
        "\n",
        "Its related to oops as it enables one interface to be used for a general class of actions, making code more flexible and reusable."
      ],
      "metadata": {
        "id": "GRazW1SXYGYA"
      }
    },
    {
      "cell_type": "markdown",
      "source": [
        "2. Describe the difference between compile-time polymorphism and runtime polymorphism in Python.\n",
        "\n",
        "Answer:\n",
        "\n",
        "Compile time polymorphism or method overloading is resolved at the time of compilation, whereas the run time polymorphism or method overriding is resolved at runtime."
      ],
      "metadata": {
        "id": "IAKxNKx7YGUw"
      }
    },
    {
      "cell_type": "markdown",
      "source": [
        "3. Create a Python class hierarchy for shapes (e.g., circle, square, triangle) and demonstrate polymorphism through a common method, such as calculate_area()."
      ],
      "metadata": {
        "id": "hI0daC4HYGRX"
      }
    },
    {
      "cell_type": "code",
      "source": [
        "class Shape:\n",
        "  def calculate_area(self):\n",
        "    pass\n",
        "\n",
        "class Circle(Shape):\n",
        "  def __init__(self, radius):\n",
        "    self.__radius = radius\n",
        "\n",
        "  def calculate_area(self):\n",
        "    return 3.14*self.__radius*self.__radius\n",
        "\n",
        "class Square(Shape):\n",
        "  def __init__(self, side):\n",
        "    self.__side = side\n",
        "\n",
        "  def calculate_area(self):\n",
        "    return self.__side*self.__side\n",
        "\n",
        "class Triangle(Shape):\n",
        "  def __init__(self, base, height):\n",
        "    self.__base = base\n",
        "    self.__height = height\n",
        "\n",
        "  def calculate_area(self):\n",
        "    return 0.5*self.__base*self.__height\n",
        "\n",
        "shapes = [Circle(5), Square(4), Triangle(3, 6)]\n",
        "for shape in shapes:\n",
        "    print(shape.calculate_area())"
      ],
      "metadata": {
        "colab": {
          "base_uri": "https://localhost:8080/"
        },
        "id": "8i77owlgB4Vq",
        "outputId": "43f5e0f2-ede3-426f-8487-20b1c1c54238"
      },
      "execution_count": null,
      "outputs": [
        {
          "output_type": "stream",
          "name": "stdout",
          "text": [
            "78.5\n",
            "16\n",
            "9.0\n"
          ]
        }
      ]
    },
    {
      "cell_type": "markdown",
      "source": [
        "4. Explain the concept of method overriding in polymorphism. Provide an example.\n",
        "\n",
        "Answer: Method overriding occurs when a child class provides a specific implementation of a mthod already defined in the parent class so it overrides the implementation."
      ],
      "metadata": {
        "id": "Wg072g37YGOO"
      }
    },
    {
      "cell_type": "code",
      "source": [
        "class Animal:\n",
        "  def sound(self):\n",
        "    print('Animal sound')\n",
        "\n",
        "class Dog(Animal):\n",
        "  def sound(self):\n",
        "    print('Dog barks')\n",
        "\n",
        "dog = Dog()\n",
        "dog.sound()"
      ],
      "metadata": {
        "colab": {
          "base_uri": "https://localhost:8080/"
        },
        "id": "wcircT4HCGwZ",
        "outputId": "052492f3-12e2-4b89-e033-c43c600f10ce"
      },
      "execution_count": null,
      "outputs": [
        {
          "output_type": "stream",
          "name": "stdout",
          "text": [
            "Dog barks\n"
          ]
        }
      ]
    },
    {
      "cell_type": "markdown",
      "source": [
        "5. How is polymorphism different from method overloading in Python? Provide examples for both.\n",
        "\n",
        "Answer: Polymorpshim allows classes to provide thier own method implementations, such that the same method name can work or behave differently across classes. Method overloading involves defining multiple methods with the same name but different arguments or return type whjich is not supported by Python. But, it can be done using default arguments or classmethod etc."
      ],
      "metadata": {
        "id": "WMYguC0zYGK3"
      }
    },
    {
      "cell_type": "code",
      "source": [
        "class Calc:\n",
        "  def add(self, a, b=0, c=0):\n",
        "    return a+b+c\n",
        "\n",
        "calc = Calc()\n",
        "print(calc.add(1, 2))\n",
        "print(calc.add(1, 2, 3))\n"
      ],
      "metadata": {
        "colab": {
          "base_uri": "https://localhost:8080/"
        },
        "id": "RR-emR7eCuc6",
        "outputId": "c4646943-ee8e-43be-c404-b21c13205886"
      },
      "execution_count": null,
      "outputs": [
        {
          "output_type": "stream",
          "name": "stdout",
          "text": [
            "3\n",
            "6\n"
          ]
        }
      ]
    },
    {
      "cell_type": "markdown",
      "source": [
        "6. Create a Python class called Animal with a method speak(). Then, create child classes like Dog, Cat, and Bird, each with their own speak() method. Demonstrate polymorphism by calling the speak() method on objects of different subclasses."
      ],
      "metadata": {
        "id": "85d9p1T9YGH-"
      }
    },
    {
      "cell_type": "code",
      "source": [
        "class Animal:\n",
        "  def speak(self):\n",
        "    pass\n",
        "\n",
        "class Dog(Animal):\n",
        "  def speak(self):\n",
        "    print('Dog barks')\n",
        "\n",
        "class Cat(Animal):\n",
        "  def speak(self):\n",
        "    print('Cat meows')\n",
        "\n",
        "class Bird(Animal):\n",
        "  def speak(self):\n",
        "    print('Bird chirps')\n",
        "\n",
        "animals = [Dog(), Cat(), Bird()]\n",
        "for animal in animals:\n",
        "    animal.speak()"
      ],
      "metadata": {
        "colab": {
          "base_uri": "https://localhost:8080/"
        },
        "id": "qgUygj0XDEMo",
        "outputId": "48a464d2-8846-4b9b-a768-f593e21237e9"
      },
      "execution_count": null,
      "outputs": [
        {
          "output_type": "stream",
          "name": "stdout",
          "text": [
            "Dog barks\n",
            "Cat meows\n",
            "Bird chirps\n"
          ]
        }
      ]
    },
    {
      "cell_type": "markdown",
      "source": [
        "7. Discuss the use of abstract methods and classes in achieving polymorphism in Python. Provide an example using the abc module.\n",
        "\n",
        "Answer: Abstarct methods and classes are real data hinding in nature as they only provides the definition but the child class needs to provide with its implementation thus it helps in achieving polymorphism."
      ],
      "metadata": {
        "id": "A9Y8SKVIYGE3"
      }
    },
    {
      "cell_type": "code",
      "source": [
        "from abc import ABC, abstractmethod\n",
        "\n",
        "class Animal(ABC):\n",
        "  @abstractmethod\n",
        "  def speak(self):\n",
        "    pass\n",
        "\n",
        "class Dog(Animal):\n",
        "  def speak(self):\n",
        "    print('Dog barks')\n",
        "\n",
        "class Cat(Animal):\n",
        "  def speak(self):\n",
        "    print('Cat meows')\n",
        "\n",
        "animals = [Dog(), Cat()]\n",
        "for animal in animals:\n",
        "    animal.speak()"
      ],
      "metadata": {
        "colab": {
          "base_uri": "https://localhost:8080/"
        },
        "id": "vTHxwvrAeXbx",
        "outputId": "b74b05d8-4057-44b4-e320-2978004f7759"
      },
      "execution_count": 1,
      "outputs": [
        {
          "output_type": "stream",
          "name": "stdout",
          "text": [
            "Dog barks\n",
            "Cat meows\n"
          ]
        }
      ]
    },
    {
      "cell_type": "markdown",
      "source": [
        "8. Create a Python class hierarchy for a vehicle system (e.g., car, bicycle, boat) and implement a polymorphic start() method that prints a message specific to each vehicle type."
      ],
      "metadata": {
        "id": "dSiu6BmBYGCI"
      }
    },
    {
      "cell_type": "code",
      "source": [
        "class Vehicle:\n",
        "  def start(self):\n",
        "    pass\n",
        "\n",
        "class Car(Vehicle):\n",
        "  def start(self):\n",
        "    print('Car started')\n",
        "\n",
        "class Bicycle(Vehicle):\n",
        "  def start(self):\n",
        "    print('Bicycle started')\n",
        "\n",
        "vehicles = [Car(), Bicycle()]\n",
        "for vehicle in vehicles:\n",
        "    vehicle.start()"
      ],
      "metadata": {
        "colab": {
          "base_uri": "https://localhost:8080/"
        },
        "id": "BpEYwFwOepbg",
        "outputId": "772ede13-9a00-4220-d623-a5dcc66c46d8"
      },
      "execution_count": 2,
      "outputs": [
        {
          "output_type": "stream",
          "name": "stdout",
          "text": [
            "Car started\n",
            "Bicycle started\n"
          ]
        }
      ]
    },
    {
      "cell_type": "markdown",
      "source": [
        "9. Explain the significance of the isinstance() and issubclass() functions in Python polymorphism.\n",
        "\n",
        "Answer:\n",
        "\n",
        "isinstance(): as it is useful to check if the object is an instance of its class or subclass or not. It is useful in polymorphism to ensure that a method is working with the expected type of object.\n",
        "\n",
        "issubclass(): it is useful in checking if a class is a subclass of base class, which is to verify class hierarchies so its used in polymorpshim"
      ],
      "metadata": {
        "id": "cQW1z9VJYF_R"
      }
    },
    {
      "cell_type": "markdown",
      "source": [
        "10. What is the role of the @abstractmethod decorator in achieving polymorphism in Python? Provide an example.\n",
        "\n",
        "Answer: to define a method as an abstract method, @abstract decorator is used. which further requires to be implemented in the child class."
      ],
      "metadata": {
        "id": "hAa_GE3NYF8Y"
      }
    },
    {
      "cell_type": "code",
      "source": [
        "from abc import ABC, abstractmethod\n",
        "\n",
        "class Shape(ABC):\n",
        "    @abstractmethod\n",
        "    def area(self):\n",
        "        pass\n",
        "\n",
        "class Circle(Shape):\n",
        "    def __init__(self, radius):\n",
        "        self.radius = radius\n",
        "\n",
        "    def area(self):\n",
        "        return 3.14 * self.radius ** 2\n",
        "\n",
        "circle = Circle(5)\n",
        "print(circle.area())"
      ],
      "metadata": {
        "colab": {
          "base_uri": "https://localhost:8080/"
        },
        "id": "JXq9k4cAfhZx",
        "outputId": "e769fccd-b29e-480f-90e8-e135b17a17bf"
      },
      "execution_count": 3,
      "outputs": [
        {
          "output_type": "stream",
          "name": "stdout",
          "text": [
            "78.5\n"
          ]
        }
      ]
    },
    {
      "cell_type": "markdown",
      "source": [
        "11. Create a Python class called Shape with a polymorphic method area() that calculates the area of different shapes (e.g., circle, rectangle, triangle)."
      ],
      "metadata": {
        "id": "K_zKXrMAYF5m"
      }
    },
    {
      "cell_type": "code",
      "source": [
        "from abc import ABC, abstractmethod\n",
        "\n",
        "class Shape(ABC):\n",
        "  @abstractmethod\n",
        "  def area(self):\n",
        "    pass\n",
        "\n",
        "class Circle(Shape):\n",
        "  def __init__(self, radius):\n",
        "    self.radius = radius\n",
        "\n",
        "  def area(self):\n",
        "    return 3.14*self.radius**2\n",
        "\n",
        "circle = Circle(5)\n",
        "print(circle.area())"
      ],
      "metadata": {
        "colab": {
          "base_uri": "https://localhost:8080/"
        },
        "id": "uK0LcItogF2v",
        "outputId": "5800ead3-84db-4773-d05a-910b4475c989"
      },
      "execution_count": 6,
      "outputs": [
        {
          "output_type": "stream",
          "name": "stdout",
          "text": [
            "78.5\n"
          ]
        }
      ]
    },
    {
      "cell_type": "markdown",
      "source": [
        "12. Discuss the benefits of polymorphism in terms of code reusability and flexibility in Python programs.\n",
        "\n",
        "Answer:\n",
        "\n",
        "Code resuability: a common method or interface can be defined in a parent class, then it can be inheritedly used or implemented with a different implementation in sub classes.\n",
        "\n",
        "Flexibility: A single method call can behave differently wrt object which enhace flexibility."
      ],
      "metadata": {
        "id": "BrUSvaM8YF2n"
      }
    },
    {
      "cell_type": "markdown",
      "source": [
        "13. Explain the use of the super() function in Python polymorphism. How does it help call methods of parent classes?\n",
        "\n",
        "Answer:\n",
        "\n",
        "for a method if the implementation is defined in parent class which needs to be implemented in different child classes also, super() is used."
      ],
      "metadata": {
        "id": "F_GWyX0vYFzn"
      }
    },
    {
      "cell_type": "markdown",
      "source": [
        "14. Create a Python class hierarchy for a banking system with various account types (e.g., savings, checking, credit card) and demonstrate polymorphism by implementing a common withdraw() method."
      ],
      "metadata": {
        "id": "9SHW9behYFwm"
      }
    },
    {
      "cell_type": "code",
      "source": [
        "from abc import ABC, abstractmethod\n",
        "class Account(ABC):\n",
        "  def __init__(self, balance):\n",
        "    self.__balance = balance\n",
        "\n",
        "  def withdraw(self, amount):\n",
        "    pass\n",
        "\n",
        "class Savings(Account):\n",
        "  def withdraw(self, amount):\n",
        "    if amount <= self._Account__balance:\n",
        "      self._Account__balance -= amount\n",
        "      return f\"Withdrawing {amount} from Savings Account\"\n",
        "\n",
        "class Checking(Account):\n",
        "  def withdraw(self, amount):\n",
        "    if amount <= self._Account__balance:\n",
        "      self._Account__balance -= amount\n",
        "      return f\"Withdrawing {amount} from Checking Account\"\n",
        "\n",
        "class CreditCard(Account):\n",
        "  def __init__(self, balance, credit_limit):\n",
        "    super().__init__(balance)\n",
        "    self.__credit_limit = credit_limit\n",
        "\n",
        "  def withdraw(self, amount):\n",
        "    if amount <= self._Account__balance + self.__credit_limit:\n",
        "      self._Account__balance -= amount\n",
        "      return f\"Withdrawing {amount} from Credit Card\"\n",
        "\n",
        "savings = Savings(1000)\n",
        "checking = Checking(2000)\n",
        "credit_card = CreditCard(3000, 5000)\n",
        "\n",
        "print(savings.withdraw(500))\n",
        "print(checking.withdraw(1000))\n",
        "print(credit_card.withdraw(2000))\n",
        "\n"
      ],
      "metadata": {
        "colab": {
          "base_uri": "https://localhost:8080/"
        },
        "id": "RscsTPrZg392",
        "outputId": "de9b71b9-d1e8-420a-97f4-333f09a259a9"
      },
      "execution_count": 8,
      "outputs": [
        {
          "output_type": "stream",
          "name": "stdout",
          "text": [
            "Withdrawing 500 from Savings Account\n",
            "Withdrawing 1000 from Checking Account\n",
            "Withdrawing 2000 from Credit Card\n"
          ]
        }
      ]
    },
    {
      "cell_type": "markdown",
      "source": [
        "15. Describe the concept of operator overloading in Python and how it relates to polymorphism. Provide examples using operators like + and *.\n",
        "\n",
        "Answer: Operator overloading allows operators to be redefined for different behaviour in user defined classes. It is related to polymorphism as it enables the same operator to work differently depending on the operands."
      ],
      "metadata": {
        "id": "HROl9ph6YFt2"
      }
    },
    {
      "cell_type": "code",
      "source": [
        "class Calc:\n",
        "  def __init__(self, x, y):\n",
        "    self.x = x\n",
        "    self.y = y\n",
        "  def __add__(self, other):\n",
        "    return Calc(self.x + other.x, self.y + other.y)\n",
        "\n",
        "  def __mul__(self, other):\n",
        "    return Calc(self.x * other.x, self.y * other.y)\n",
        "\n",
        "  def __str__(self):\n",
        "    return f\"({self.x}, {self.y})\"\n",
        "\n",
        "cal1 = Calc(3,2)\n",
        "cal2 = Calc(4,4)\n",
        "print(cal1 + cal2)\n",
        "print(cal1 * cal2)\n"
      ],
      "metadata": {
        "colab": {
          "base_uri": "https://localhost:8080/"
        },
        "id": "LaGKIoT4h9gn",
        "outputId": "ff684f60-674c-42d3-c22a-9dbc3244ab8f"
      },
      "execution_count": 17,
      "outputs": [
        {
          "output_type": "stream",
          "name": "stdout",
          "text": [
            "(7, 6)\n",
            "(12, 8)\n"
          ]
        }
      ]
    },
    {
      "cell_type": "markdown",
      "source": [
        "16. What is dynamic polymorphism, and how is it achieved in Python?\n",
        "\n",
        "Answer: Dynamic polymorpshim or run time or method overriding, all are refer to the same thing. It happens at run time thus its dynamic by nature. It is achieved by defineing a method with implementation in parent class which thus gets override in child class wrt its behaviour."
      ],
      "metadata": {
        "id": "7sb1KTyuYFqm"
      }
    },
    {
      "cell_type": "markdown",
      "source": [
        "17. Create a Python class hierarchy for employees in a company (e.g., manager, developer, designer) and implement polymorphism through a common calculate_salary() method."
      ],
      "metadata": {
        "id": "qdjnpcZfYFnm"
      }
    },
    {
      "cell_type": "code",
      "source": [
        "class Employee:\n",
        "  def __init__(self, name, salary):\n",
        "    self.name = name\n",
        "    self.salary = salary\n",
        "\n",
        "  def calculate_salary(self):\n",
        "    pass\n",
        "\n",
        "class Manager(Employee):\n",
        "  def calculate_salary(self):\n",
        "    return self.salary*1.2\n",
        "\n",
        "class Developer(Employee):\n",
        "  def calculate_salary(self):\n",
        "    return self.salary*1.1\n",
        "\n",
        "class Designer(Employee):\n",
        "  def calculate_salary(self):\n",
        "    return self.salary*1.05\n",
        "\n",
        "manager = Manager(\"manager\", 50000)\n",
        "dev = Developer(\"dev\", 50000)\n",
        "designer = Designer(\"designer\", 50000)\n",
        "\n",
        "for emp in [manager, dev, designer]:\n",
        "  print(emp.calculate_salary())"
      ],
      "metadata": {
        "colab": {
          "base_uri": "https://localhost:8080/"
        },
        "id": "6rM9Tyd7j1Kq",
        "outputId": "85ce5ddc-2233-44d4-b263-fe08d486a1f3"
      },
      "execution_count": 19,
      "outputs": [
        {
          "output_type": "stream",
          "name": "stdout",
          "text": [
            "60000.0\n",
            "55000.00000000001\n",
            "52500.0\n"
          ]
        }
      ]
    },
    {
      "cell_type": "markdown",
      "source": [
        "18. Discuss the concept of function pointers and how they can be used to achieve polymorphism in Python.\n",
        "\n",
        "Answer: function pointer refer to the variable that hold ref to functions. Its like a function is working as a delefate thus can be passed as a variable i.e. named as function pointer."
      ],
      "metadata": {
        "id": "oo-IcAM7YFkn"
      }
    },
    {
      "cell_type": "markdown",
      "source": [
        "19. Explain the role of interfaces and abstract classes in polymorphism, drawing comparisons between them.\n",
        "\n",
        "Answer: abstract classes and interface both are used in polymorphism to provide data abstraction i.e. hiding. Abstract class allows user to define abstract method and concrete methods which thus can be inherited in the child class to attain polymorpshim by overriding the method wrt its behavioural implementation. But as it does not provide complete implementation so interface is introduced which does not allow user to implement anything in interface but to define the methods which thus the child class will implement. It provides complete abstraction."
      ],
      "metadata": {
        "id": "rEAmVfJQYFhg"
      }
    },
    {
      "cell_type": "markdown",
      "source": [
        "20. Create a Python class for a zoo simulation, demonstrating polymorphism with different animals."
      ],
      "metadata": {
        "id": "gD34tymDlRqO"
      }
    },
    {
      "cell_type": "code",
      "source": [
        "class Animal:\n",
        "    def speak(self):\n",
        "        pass\n",
        "\n",
        "class Lion(Animal):\n",
        "    def speak(self):\n",
        "        return \"Roar\"\n",
        "\n",
        "class Elephant(Animal):\n",
        "    def speak(self):\n",
        "        return \"Trumpet\"\n",
        "\n",
        "class Monkey(Animal):\n",
        "    def speak(self):\n",
        "        return \"Chatter\"\n",
        "\n",
        "zoo = [Lion(), Elephant(), Monkey()]\n",
        "for animal in zoo:\n",
        "    print(animal.speak())"
      ],
      "metadata": {
        "id": "LJ00mdRQYBON",
        "colab": {
          "base_uri": "https://localhost:8080/"
        },
        "outputId": "14d77729-171d-4144-f1f0-2fc7fa3f9421"
      },
      "execution_count": 20,
      "outputs": [
        {
          "output_type": "stream",
          "name": "stdout",
          "text": [
            "Roar\n",
            "Trumpet\n",
            "Chatter\n"
          ]
        }
      ]
    },
    {
      "cell_type": "markdown",
      "source": [
        "# Abstraction"
      ],
      "metadata": {
        "id": "TU2tNX1Flebg"
      }
    },
    {
      "cell_type": "markdown",
      "source": [
        "1. What is abstraction in Python, and how does it relate to object-oriented programming?\n",
        "\n",
        "Answer: abstraction refers to data hiding, like hiding the implementation details while exposing only necessary features. In OOPS, it allows user to define method in a parent class and provide its implementation in child classes which ensures separation."
      ],
      "metadata": {
        "id": "HpR0KZMLmDeN"
      }
    },
    {
      "cell_type": "markdown",
      "source": [
        "2. Describe the benefits of abstraction in terms of code organization and complexity reduction.\n",
        "\n",
        "Answer:\n",
        "\n",
        "Code organization: As it clearly defines an interface or abstract method in parent class thus its easy to understand and implement the contract in child class by creating separate child classes wrt their implementations for the same interface\n",
        "\n",
        "Complexity reduction: by enhancing the flexibility, code is not coupled tightly which reduce complexity too."
      ],
      "metadata": {
        "id": "ZMC0jnL2mDbO"
      }
    },
    {
      "cell_type": "markdown",
      "source": [
        "3. Create a Python class called Shape with an abstract method calculate_area(). Then, create child classes (e.g., Circle, Rectangle) that implement the calculate_area() method. Provide an example of using these classes."
      ],
      "metadata": {
        "id": "MH4MNjcUmDYW"
      }
    },
    {
      "cell_type": "code",
      "source": [
        "from abc import ABC, abstractmethod\n",
        "\n",
        "class Shape(ABC):\n",
        "  @abstractmethod\n",
        "  def calculate_area(self):\n",
        "    pass\n",
        "\n",
        "class Circle(Shape):\n",
        "  def __init__(self, radius):\n",
        "    self.radius = radius\n",
        "\n",
        "  def calculate_area(self):\n",
        "    return 3.14*self.radius**2\n",
        "\n",
        "class Rectangle(Shape):\n",
        "  def __init__(self, length, width):\n",
        "    self.length = length\n",
        "    self.width = width\n",
        "\n",
        "  def calculate_area(self):\n",
        "    return self.length*self.width"
      ],
      "metadata": {
        "id": "lThp4pWInGgv"
      },
      "execution_count": 21,
      "outputs": []
    },
    {
      "cell_type": "markdown",
      "source": [
        "4. Explain the concept of abstract classes in Python and how they are defined using the abc module. Provide an example.\n",
        "\n",
        "Answer: abstract class act as blueprint for other class using which other class can ptovide the required implementation. abc module is used to provide abstract method and other interface in high level thus can be used to define a class and its method abstract"
      ],
      "metadata": {
        "id": "1KTznYKomDVw"
      }
    },
    {
      "cell_type": "code",
      "source": [
        "from abc import ABC, abstractmethod\n",
        "\n",
        "class AbstractClass(ABC):\n",
        "    @abstractmethod\n",
        "    def do_something(self):\n",
        "        pass\n",
        "\n",
        "class ConcreteClass(AbstractClass):\n",
        "    def do_something(self):\n",
        "        return \"Implementation of abstract method\"\n",
        "\n",
        "obj = ConcreteClass()\n",
        "print(obj.do_something())"
      ],
      "metadata": {
        "colab": {
          "base_uri": "https://localhost:8080/"
        },
        "id": "qgqBmtmXoF6a",
        "outputId": "b1d76ca4-d1e2-4a9f-c75b-32f510f24802"
      },
      "execution_count": 22,
      "outputs": [
        {
          "output_type": "stream",
          "name": "stdout",
          "text": [
            "Implementation of abstract method\n"
          ]
        }
      ]
    },
    {
      "cell_type": "markdown",
      "source": [
        "5. How do abstract classes differ from regular classes in Python? Discuss their use cases\n",
        "\n",
        "Answer:\n",
        "\n",
        "abstract class can not be instantiated whereas the regular class can.\n",
        "\n",
        "It must have one abstract method, regular class does not need or have abstract method\n",
        "\n",
        "Abstract class defines abstract method which defines method only but its implementation is provided in regular class thus abstract class serves as a blueprint for a regular class or a class which is inheriting it."
      ],
      "metadata": {
        "id": "RWuCWSltmDS4"
      }
    },
    {
      "cell_type": "markdown",
      "source": [
        "6. Create a Python class for a bank account and demonstrate abstraction by hiding the account balance and providing methods to deposit and withdraw funds."
      ],
      "metadata": {
        "id": "vvbCp3fOmDP-"
      }
    },
    {
      "cell_type": "code",
      "source": [
        "class BankAccount:\n",
        "    def __init__(self, account_number):\n",
        "        self.__balance = 0\n",
        "        self.account_number = account_number\n",
        "\n",
        "    def deposit(self, amount):\n",
        "        self.__balance += amount\n",
        "        return f\"Deposited {amount}. New balance: {self.__balance}\"\n",
        "\n",
        "    def withdraw(self, amount):\n",
        "        if amount > self.__balance:\n",
        "            return \"Insufficient funds\"\n",
        "        self.__balance -= amount\n",
        "        return f\"Withdrew {amount}. New balance: {self.__balance}\"\n",
        "\n",
        "# Example\n",
        "account = BankAccount(\"12345\")\n",
        "print(account.deposit(100))\n",
        "print(account.withdraw(50))"
      ],
      "metadata": {
        "colab": {
          "base_uri": "https://localhost:8080/"
        },
        "id": "ZyNYC2RPown6",
        "outputId": "0e5bd704-f6b0-49a2-b951-b598b2153914"
      },
      "execution_count": 23,
      "outputs": [
        {
          "output_type": "stream",
          "name": "stdout",
          "text": [
            "Deposited 100. New balance: 100\n",
            "Withdrew 50. New balance: 50\n"
          ]
        }
      ]
    },
    {
      "cell_type": "markdown",
      "source": [
        "7. Discuss the concept of interface classes in Python and their role in achieving abstraction.\n",
        "\n",
        "Answer: interface defines a contract for subclass without providing any functional implemtation thus provides complete data abstraction."
      ],
      "metadata": {
        "id": "7DD-9zgjmDNF"
      }
    },
    {
      "cell_type": "markdown",
      "source": [
        "8. Create a Python class hierarchy for animals and implement abstraction by defining common methods (e.g., eat(), sleep()) in an abstract base class."
      ],
      "metadata": {
        "id": "2vA_JJ6zmDKN"
      }
    },
    {
      "cell_type": "code",
      "source": [
        "from abc import ABC, abstractmethod\n",
        "\n",
        "class Animal(ABC):\n",
        "    @abstractmethod\n",
        "    def eat(self):\n",
        "        pass\n",
        "\n",
        "    @abstractmethod\n",
        "    def sleep(self):\n",
        "        pass\n",
        "\n",
        "class Dog(Animal):\n",
        "    def eat(self):\n",
        "        return \"Dog is eating\"\n",
        "\n",
        "    def sleep(self):\n",
        "        return \"Dog is sleeping\"\n",
        "\n",
        "dog = Dog()\n",
        "print(dog.eat())\n",
        "print(dog.sleep())"
      ],
      "metadata": {
        "colab": {
          "base_uri": "https://localhost:8080/"
        },
        "id": "dnTZq22dpQhz",
        "outputId": "0b21afeb-bd70-43d4-ec2a-ccbfe01c0e36"
      },
      "execution_count": 24,
      "outputs": [
        {
          "output_type": "stream",
          "name": "stdout",
          "text": [
            "Dog is eating\n",
            "Dog is sleeping\n"
          ]
        }
      ]
    },
    {
      "cell_type": "markdown",
      "source": [
        "9. Explain the significance of encapsulation in achieving abstraction. Provide examples.\n",
        "\n",
        "Answer: Encapsulation helps in providing abstraction by restricting the access to the attributes by using getter and setter and also it expose only relevant functionality through public method"
      ],
      "metadata": {
        "id": "xBWSV1hSmDHd"
      }
    },
    {
      "cell_type": "code",
      "source": [
        "class EncapsulatedClass:\n",
        "  def __init__(self):\n",
        "    self.__data = \"encapsulated\"\n",
        "\n",
        "  def get_data(self):\n",
        "    return self.__data\n",
        "\n",
        "obj = EncapsulatedClass()\n",
        "print(obj.get_data())"
      ],
      "metadata": {
        "colab": {
          "base_uri": "https://localhost:8080/"
        },
        "id": "vOzpwBbTprCW",
        "outputId": "be073c1c-1bf2-4e01-bbc8-94c1f7cdff33"
      },
      "execution_count": 25,
      "outputs": [
        {
          "output_type": "stream",
          "name": "stdout",
          "text": [
            "encapsulated\n"
          ]
        }
      ]
    },
    {
      "cell_type": "markdown",
      "source": [
        "10. What is the purpose of abstract methods, and how do they enforce abstraction in Python classes?\n",
        "\n",
        "Answer: Abstract methods define a method signature without implementation. They enforce abstraction by requiring subclasses to provide their own implementation of these methods."
      ],
      "metadata": {
        "id": "tjFlKJEKmDEe"
      }
    },
    {
      "cell_type": "markdown",
      "source": [
        "11. Create a Python class for a vehicle system and demonstrate abstraction by defining common methods (e.g., start(), stop()) in an abstract base class."
      ],
      "metadata": {
        "id": "yVA8aUJhmDB2"
      }
    },
    {
      "cell_type": "code",
      "source": [
        "from abc import ABC, abstractmethod\n",
        "\n",
        "class Vehicle(ABC):\n",
        "    @abstractmethod\n",
        "    def start(self):\n",
        "        pass\n",
        "\n",
        "    @abstractmethod\n",
        "    def stop(self):\n",
        "        pass\n",
        "\n",
        "class Car(Vehicle):\n",
        "    def start(self):\n",
        "        return \"Car starting\"\n",
        "\n",
        "    def stop(self):\n",
        "        return \"Car stopping\"\n",
        "\n",
        "car = Car()\n",
        "print(car.start())\n",
        "print(car.stop())"
      ],
      "metadata": {
        "colab": {
          "base_uri": "https://localhost:8080/"
        },
        "id": "3doZspZmqH-r",
        "outputId": "aca78629-275a-446e-9fad-0255e4efff9a"
      },
      "execution_count": 26,
      "outputs": [
        {
          "output_type": "stream",
          "name": "stdout",
          "text": [
            "Car starting\n",
            "Car stopping\n"
          ]
        }
      ]
    },
    {
      "cell_type": "markdown",
      "source": [
        "12. Describe the use of abstract properties in Python and how they can be employed in abstract classes.\n",
        "\n",
        "Answer: abstract method and property decorator both can be defined in abstract classes to define a method to ensure polymorpshim and data abstraction"
      ],
      "metadata": {
        "id": "1ja7znxDmC-1"
      }
    },
    {
      "cell_type": "markdown",
      "source": [
        "13. Create a Python class hierarchy for employees in a company (e.g., manager, developer, designer) and implement abstraction by defining a common get_salary() method."
      ],
      "metadata": {
        "id": "vYgW_h_cmC7-"
      }
    },
    {
      "cell_type": "code",
      "source": [
        "from abc import ABC, abstractmethod\n",
        "\n",
        "class Employee(ABC):\n",
        "    @abstractmethod\n",
        "    def get_salary(self):\n",
        "        pass\n",
        "\n",
        "class Manager(Employee):\n",
        "    def get_salary(self):\n",
        "        return \"Manager salary: 80,000 per year\"\n",
        "\n",
        "class Developer(Employee):\n",
        "    def get_salary(self):\n",
        "        return \"Developer salary: 70,000 per year\"\n",
        "\n",
        "class Designer(Employee):\n",
        "    def get_salary(self):\n",
        "        return \"Designer salary: 65,000 per year\"\n",
        "\n",
        "employees = [Manager(), Developer(), Designer()]\n",
        "for employee in employees:\n",
        "    print(employee.get_salary())"
      ],
      "metadata": {
        "colab": {
          "base_uri": "https://localhost:8080/"
        },
        "id": "7gdag8Spq1a0",
        "outputId": "6ad1d2c0-38e3-4194-f954-00768ab9ebf8"
      },
      "execution_count": 27,
      "outputs": [
        {
          "output_type": "stream",
          "name": "stdout",
          "text": [
            "Manager salary: 80,000 per year\n",
            "Developer salary: 70,000 per year\n",
            "Designer salary: 65,000 per year\n"
          ]
        }
      ]
    },
    {
      "cell_type": "markdown",
      "source": [
        "14. Discuss the differences between abstract classes and concrete classes in Python, including their instantiation.\n",
        "\n",
        "Answer:\n",
        "\n",
        "Abstract class cant be instantiated, concrete class can be\n",
        "\n",
        "Abstract class serves blue print for derived classes, concrete class provides implementation"
      ],
      "metadata": {
        "id": "yQvhVSZdmC5G"
      }
    },
    {
      "cell_type": "markdown",
      "source": [
        "15. Explain the concept of abstract data types (ADTs) and their role in achieving abstraction in Python.\n",
        "\n",
        "Answer:\n",
        "\n",
        "ADTs defines the data structure by its behaviour not by its implementation. list, stack and queue etc are ADTs, as they provides te operational methods like push pop etc but does not reveal internal functionality which ensures to provide anstraction."
      ],
      "metadata": {
        "id": "xMjXZPN-mC2H"
      }
    },
    {
      "cell_type": "markdown",
      "source": [
        "16. Create a Python class for a computer system, demonstrating abstraction by defining common methods (e.g., power_on(), shutdown()) in an abstract base class."
      ],
      "metadata": {
        "id": "nVO5doH0mCzY"
      }
    },
    {
      "cell_type": "code",
      "source": [
        "from abc import ABC, abstractmethod\n",
        "\n",
        "class ComputerSystem(ABC):\n",
        "  @abstractmethod\n",
        "  def power_run(self):\n",
        "    pass\n",
        "\n",
        "  @abstractmethod\n",
        "  def shutdown(self):\n",
        "    pass\n",
        "\n",
        "class Desktop(ComputerSystem):\n",
        "  def power_run(self):\n",
        "    return \"Desktop is running\"\n",
        "\n",
        "  def shutdown(self):\n",
        "    return \"Desktop is shutting down\"\n",
        "\n",
        "desktop = Desktop()\n",
        "print(desktop.power_run())"
      ],
      "metadata": {
        "colab": {
          "base_uri": "https://localhost:8080/"
        },
        "id": "ur31mW7yruc9",
        "outputId": "90f717da-79f7-4dc6-86c5-9006be03f62c"
      },
      "execution_count": 28,
      "outputs": [
        {
          "output_type": "stream",
          "name": "stdout",
          "text": [
            "Desktop is running\n"
          ]
        }
      ]
    },
    {
      "cell_type": "markdown",
      "source": [
        "17. Discuss the benefits of using abstraction in large-scale software development projects.\n",
        "\n",
        "Answer: It provides Code modularity i.e. break down of large code into smaller modules, which thus improves collaboration and enhance flexibility and scalability. It also encourages security."
      ],
      "metadata": {
        "id": "NiHaG2jXmCwf"
      }
    },
    {
      "cell_type": "markdown",
      "source": [
        "18. Explain how abstraction enhances code reusability and modularity in Python programs.\n",
        "\n",
        "Answer:\n",
        "\n",
        "Code Reusability: it allow user to define a common interface in parent class which further gets implemented in sub classes based on thier funbctionality\n",
        "\n",
        "Modularity: by isolating the functionality into abstract classes and modules, it provides separation thus modularity|"
      ],
      "metadata": {
        "id": "Uxnbz72zmCte"
      }
    },
    {
      "cell_type": "markdown",
      "source": [
        "19. Create a Python class for a library system, implementing abstraction by defining common methods (e.g., add_book(), borrow_book()) in an abstract base class."
      ],
      "metadata": {
        "id": "7x06f8xQmCqg"
      }
    },
    {
      "cell_type": "code",
      "source": [
        "from abc import ABC, abstractmethod\n",
        "\n",
        "class LibrarySystem(ABC):\n",
        "    @abstractmethod\n",
        "    def add_book(self, book):\n",
        "        pass\n",
        "\n",
        "    @abstractmethod\n",
        "    def borrow_book(self, book):\n",
        "        pass\n",
        "\n",
        "class PublicLibrary(LibrarySystem):\n",
        "    def __init__(self):\n",
        "        self.books = []\n",
        "\n",
        "    def add_book(self, book):\n",
        "        self.books.append(book)\n",
        "        return f\"Book '{book}' added to the library.\"\n",
        "\n",
        "    def borrow_book(self, book):\n",
        "        if book in self.books:\n",
        "            self.books.remove(book)\n",
        "            return f\"Book '{book}' borrowed.\"\n",
        "        return f\"Book '{book}' is not available.\"\n",
        "\n",
        "library = PublicLibrary()\n",
        "print(library.add_book(\"1984\"))\n",
        "print(library.borrow_book(\"1984\"))"
      ],
      "metadata": {
        "colab": {
          "base_uri": "https://localhost:8080/"
        },
        "id": "8vPTlhPglX40",
        "outputId": "a8949617-d1d9-466c-8940-28dcad68fc4d"
      },
      "execution_count": 29,
      "outputs": [
        {
          "output_type": "stream",
          "name": "stdout",
          "text": [
            "Book '1984' added to the library.\n",
            "Book '1984' borrowed.\n"
          ]
        }
      ]
    },
    {
      "cell_type": "markdown",
      "source": [
        "20. Describe the concept of method abstraction in Python and how it relates to polymorphism.\n",
        "\n",
        "Answer: method abstraction refers to defining method implementation or functioanlity in abstract terms i.e. without specifying the implementation details.\n",
        "\n",
        "As subclasses provides implementation, leads to polymorphism."
      ],
      "metadata": {
        "id": "J4uaZGWrs5HV"
      }
    },
    {
      "cell_type": "markdown",
      "source": [
        "# Composition"
      ],
      "metadata": {
        "id": "CF8PmjnitUrs"
      }
    },
    {
      "cell_type": "markdown",
      "source": [
        "1. Explain the concept of composition in Python and how it is used to build complex objects from simpler ones.\n",
        "\n",
        "Answer:\n",
        "\n",
        "composition is like composed of or combined with. It is a principle in OOPs which states that one class ontaines objects of other classes to build more complex functionality."
      ],
      "metadata": {
        "id": "Pn_XGbfBtXOK"
      }
    },
    {
      "cell_type": "markdown",
      "source": [
        "2. Describe the difference between composition and inheritance in object-oriented programming.\n",
        "\n",
        "Answer:\n",
        "\n",
        "Composition is has-a relationship, inheritence is-a relationship\n",
        "\n",
        "Composition provides better flexibility as components can be reused, inheritence is tighlty coupled\n",
        "\n",
        "Composition simplifies code modularity, inheritence can lead to complex hierarchies"
      ],
      "metadata": {
        "id": "LoQ_6OlLtXK6"
      }
    },
    {
      "cell_type": "markdown",
      "source": [
        "3. Create a Python class called Author with attributes for name and birthdate. Then, create a Book class that contains an instance of Author as a composition. Provide an example of creating a Book object."
      ],
      "metadata": {
        "id": "VoKcn3NPtXH7"
      }
    },
    {
      "cell_type": "code",
      "source": [
        "class Author:\n",
        "    def __init__(self, name, birthdate):\n",
        "        self.name = name\n",
        "        self.birthdate = birthdate\n",
        "\n",
        "class Book:\n",
        "    def __init__(self, title, author):\n",
        "        self.title = title\n",
        "        self.author = author\n",
        "\n",
        "    def details(self):\n",
        "        return f\"'{self.title}' by {self.author.name} (Born: {self.author.birthdate})\"\n",
        "\n",
        "author = Author(\"George Orwell\", \"1903-06-25\")\n",
        "book = Book(\"1984\", author)\n",
        "print(book.details())"
      ],
      "metadata": {
        "colab": {
          "base_uri": "https://localhost:8080/"
        },
        "id": "QtvvoEbvvOa9",
        "outputId": "ab879818-0de7-4cf7-ed75-0c86072abf63"
      },
      "execution_count": 30,
      "outputs": [
        {
          "output_type": "stream",
          "name": "stdout",
          "text": [
            "'1984' by George Orwell (Born: 1903-06-25)\n"
          ]
        }
      ]
    },
    {
      "cell_type": "markdown",
      "source": [
        "4. Discuss the benefits of using composition over inheritance in Python, especially in terms of code flexibility and reusability.\n",
        "\n",
        "Answer:\n",
        "\n",
        "Code flexibility: as it uses objects as a components which can be replaced or modified independently which provides better code flexibility\n",
        "\n",
        "Resuability: the component can be shared and reused between classes"
      ],
      "metadata": {
        "id": "Ntnsum13tXE6"
      }
    },
    {
      "cell_type": "markdown",
      "source": [
        "5. How can you implement composition in Python classes? Provide examples of using composition to create complex objects.\n",
        "\n",
        "Answer: by including object of one class as an input param based attribute of another class"
      ],
      "metadata": {
        "id": "msgvtTMytXBy"
      }
    },
    {
      "cell_type": "code",
      "source": [
        "class Engine:\n",
        "  def start(self):\n",
        "    print(\"Engine started\")\n",
        "\n",
        "class Car:\n",
        "  def __init__(self, engine):\n",
        "    self.engine = engine\n",
        "\n",
        "  def start(self):\n",
        "    self.engine.start()\n",
        "\n",
        "engine = Engine()\n",
        "car = Car(engine)\n",
        "car.start()"
      ],
      "metadata": {
        "colab": {
          "base_uri": "https://localhost:8080/"
        },
        "id": "g5oa-YQTvysu",
        "outputId": "95269e05-8558-43d7-95c2-6fa4e3687670"
      },
      "execution_count": 31,
      "outputs": [
        {
          "output_type": "stream",
          "name": "stdout",
          "text": [
            "Engine started\n"
          ]
        }
      ]
    },
    {
      "cell_type": "markdown",
      "source": [
        "6. Create a Python class hierarchy for a music player system, using composition to represent playlists and songs."
      ],
      "metadata": {
        "id": "KUp62mCytW-a"
      }
    },
    {
      "cell_type": "code",
      "source": [
        "class Song:\n",
        "    def __init__(self, title, artist):\n",
        "        self.title = title\n",
        "        self.artist = artist\n",
        "\n",
        "class Playlist:\n",
        "    def __init__(self, name):\n",
        "        self.name = name\n",
        "        self.songs = []\n",
        "\n",
        "    def add_song(self, song):\n",
        "        self.songs.append(song)\n",
        "\n",
        "    def list_songs(self):\n",
        "        return [f\"{song.title} by {song.artist}\" for song in self.songs]\n",
        "\n",
        "playlist = Playlist(\"My Favorites\")\n",
        "playlist.add_song(Song(\"Song 1\", \"Artist A\"))\n",
        "playlist.add_song(Song(\"Song 2\", \"Artist B\"))\n",
        "print(playlist.list_songs())"
      ],
      "metadata": {
        "colab": {
          "base_uri": "https://localhost:8080/"
        },
        "id": "7AxC-eoqwERX",
        "outputId": "34edc7a6-18f2-4718-983f-e3bec59c20de"
      },
      "execution_count": 33,
      "outputs": [
        {
          "output_type": "stream",
          "name": "stdout",
          "text": [
            "['Song 1 by Artist A', 'Song 2 by Artist B']\n"
          ]
        }
      ]
    },
    {
      "cell_type": "markdown",
      "source": [
        "7. Explain the concept of \"has-a\" relationships in composition and how it helps design software systems.\n",
        "\n",
        "Answer:\n",
        "\n",
        "has-a relationship states that one object containes another object as a component which enhance modularity thus helps in design software systems"
      ],
      "metadata": {
        "id": "KeK2BxcDtW7a"
      }
    },
    {
      "cell_type": "markdown",
      "source": [
        "8. Create a Python class for a computer system, using composition to represent components like CPU, RAM, and storage devices.\n",
        "\n"
      ],
      "metadata": {
        "id": "ErXQ4Ne-tW4F"
      }
    },
    {
      "cell_type": "code",
      "source": [
        "class CPU:\n",
        "    def __init__(self, brand):\n",
        "        self.brand = brand\n",
        "\n",
        "class RAM:\n",
        "    def __init__(self, capacity):\n",
        "        self.capacity = capacity\n",
        "\n",
        "class StorageDevice:\n",
        "    def __init__(self, type):\n",
        "        self.type = type\n",
        "\n",
        "class ComputerSystem:\n",
        "    def __init__(self, cpu, ram, storage):\n",
        "        self.cpu = cpu\n",
        "        self.ram = ram\n",
        "        self.storage = storage\n",
        "\n",
        "cpu = CPU(\"Intel\")\n",
        "ram = RAM(\"16GB\")\n",
        "storage = StorageDevice(\"HDD\")\n",
        "\n",
        "computer = ComputerSystem(cpu, ram, storage)\n"
      ],
      "metadata": {
        "id": "fW1zSJ3kwjV4"
      },
      "execution_count": 34,
      "outputs": []
    },
    {
      "cell_type": "markdown",
      "source": [
        "9. Describe the concept of \"delegation\" in composition and how it simplifies the design of complex systems.\n",
        "\n",
        "Answer:\n",
        "\n",
        "Delegation means to delegate a task to be performed by some other, similarly in composition, delegation allows one class to depend on another class to perform specific tasks."
      ],
      "metadata": {
        "id": "SFNmeeYstW01"
      }
    },
    {
      "cell_type": "markdown",
      "source": [
        "10. Create a Python class for a car, using composition to represent components like the engine, wheels, and transmission."
      ],
      "metadata": {
        "id": "yrxy5TdztWxt"
      }
    },
    {
      "cell_type": "code",
      "source": [
        "class Engine:\n",
        "    def start(self):\n",
        "        return \"Engine started\"\n",
        "\n",
        "class Wheels:\n",
        "    def roll(self):\n",
        "        return \"Wheels rolling\"\n",
        "\n",
        "class Transmission:\n",
        "    def shift(self):\n",
        "        return \"Transmission shifted\"\n",
        "\n",
        "class Car:\n",
        "    def __init__(self):\n",
        "        self.engine = Engine()\n",
        "        self.wheels = Wheels()\n",
        "        self.transmission = Transmission()\n",
        "\n",
        "    def drive(self):\n",
        "        return f\"{self.engine.start()}, {self.transmission.shift()}, {self.wheels.roll()}\"\n",
        "\n",
        "car = Car()\n",
        "print(car.drive())"
      ],
      "metadata": {
        "colab": {
          "base_uri": "https://localhost:8080/"
        },
        "id": "G__cge_9xRJy",
        "outputId": "a29b30aa-593f-446f-9344-067acdf7c7c3"
      },
      "execution_count": 35,
      "outputs": [
        {
          "output_type": "stream",
          "name": "stdout",
          "text": [
            "Engine started, Transmission shifted, Wheels rolling\n"
          ]
        }
      ]
    },
    {
      "cell_type": "markdown",
      "source": [
        "11. How can you encapsulate and hide the details of composed objects in Python classes to maintain abstraction?\n",
        "\n",
        "Answer: by making the non accessible data private and exposing only required or accessible functionality using public method."
      ],
      "metadata": {
        "id": "zWMIRTBStWus"
      }
    },
    {
      "cell_type": "markdown",
      "source": [
        "12. Create a Python class for a university course, using composition to represent students, instructors, and course materials."
      ],
      "metadata": {
        "id": "p4YqG6ePtWri"
      }
    },
    {
      "cell_type": "code",
      "source": [
        "class Student:\n",
        "  def __init__(self, name):\n",
        "    self.name = name\n",
        "\n",
        "class Instructor:\n",
        "  def __init__(self, name):\n",
        "    self.name = name\n",
        "\n",
        "class CourseMaterial:\n",
        "  def __init__(self, name):\n",
        "    self.name = name\n",
        "\n",
        "class Course:\n",
        "  def __init__(self, name):\n",
        "    self.name = name\n",
        "    self.students = []\n",
        "    self.instructors = []\n",
        "    self.course_materials = []\n",
        "\n",
        "  def add_student(self, student):\n",
        "    self.students.append(student)\n",
        "\n",
        "  def add_instructor(self, instructor):\n",
        "    self.instructors.append(instructor)\n",
        "\n",
        "  def add_material(self, material):\n",
        "    self.course_materials.append(material)\n",
        "\n",
        "course = Course(\"Python Programming\")\n",
        "course.add_student(Student(\"Alice\"))\n",
        "course.add_instructor(Instructor(\"John\"))\n",
        "course.add_material(CourseMaterial(\"Notes\"))\n",
        "course.add_material(CourseMaterial(\"Code\"))"
      ],
      "metadata": {
        "id": "jKYD6jf7xqvX"
      },
      "execution_count": 36,
      "outputs": []
    },
    {
      "cell_type": "markdown",
      "source": [
        "13. Discuss the challenges and drawbacks of composition, such as increased complexity and potential for tight coupling between objects.\n",
        "\n",
        "Answers:\n",
        "\n",
        "Managing composed objects may increase overall complexity as it will increase coupling or dependency or multiple classes with one another\n",
        "\n"
      ],
      "metadata": {
        "id": "W9IPX-0etWoj"
      }
    },
    {
      "cell_type": "markdown",
      "source": [
        "14. Create a Python class hierarchy for a restaurant system, using composition to represent menus, dishes, and ingredients."
      ],
      "metadata": {
        "id": "91FGe6JwtWlj"
      }
    },
    {
      "cell_type": "code",
      "source": [
        "class Ingredient:\n",
        "    def __init__(self, name):\n",
        "        self.name = name\n",
        "\n",
        "class Dish:\n",
        "    def __init__(self, name):\n",
        "        self.name = name\n",
        "        self.ingredients = []\n",
        "\n",
        "    def add_ingredient(self, ingredient):\n",
        "        self.ingredients.append(ingredient)\n",
        "\n",
        "    def details(self):\n",
        "        return f\"{self.name}: \" + \", \".join([i.name for i in self.ingredients])\n",
        "\n",
        "class Menu:\n",
        "    def __init__(self):\n",
        "        self.dishes = []\n",
        "\n",
        "    def add_dish(self, dish):\n",
        "        self.dishes.append(dish)\n",
        "\n",
        "    def show_menu(self):\n",
        "        return [dish.details() for dish in self.dishes]\n",
        "\n",
        "menu = Menu()\n",
        "pasta = Dish(\"Pasta\")\n",
        "pasta.add_ingredient(Ingredient(\"Tomatoes\"))\n",
        "pasta.add_ingredient(Ingredient(\"Cheese\"))\n",
        "menu.add_dish(pasta)\n",
        "print(menu.show_menu())"
      ],
      "metadata": {
        "colab": {
          "base_uri": "https://localhost:8080/"
        },
        "id": "9kS5Tz1VyX9h",
        "outputId": "6b6f0152-b945-4067-bd43-10634ab6f40b"
      },
      "execution_count": 37,
      "outputs": [
        {
          "output_type": "stream",
          "name": "stdout",
          "text": [
            "['Pasta: Tomatoes, Cheese']\n"
          ]
        }
      ]
    },
    {
      "cell_type": "markdown",
      "source": [
        "15. Explain how composition enhances code maintainability and modularity in Python programs.\n",
        "\n",
        "Answer:\n",
        "\n",
        "If classes are following single responsibility principle, changes in one component will not affect others which make easy to update or extend thus increases code maintainability and modularity"
      ],
      "metadata": {
        "id": "K3yhflmUtWir"
      }
    },
    {
      "cell_type": "markdown",
      "source": [
        "16. Create a Python class for a computer game character, using composition to represent attributes like weapons, armor, and inventory.\n"
      ],
      "metadata": {
        "id": "t64lPEZ1tWfq"
      }
    },
    {
      "cell_type": "code",
      "source": [
        "class Weapon:\n",
        "    def __init__(self, name):\n",
        "        self.name = name\n",
        "\n",
        "class Armor:\n",
        "    def __init__(self, name):\n",
        "        self.name = name\n",
        "\n",
        "class Inventory:\n",
        "    def __init__(self):\n",
        "        self.items = []\n",
        "\n",
        "    def add_item(self, item):\n",
        "        self.items.append(item)\n",
        "\n",
        "class Character:\n",
        "    def __init__(self, name):\n",
        "        self.name = name\n",
        "        self.__weapon = None\n",
        "        self.__armor = None\n",
        "        self.inventory = Inventory()\n",
        "\n",
        "    def equip_weapon(self, weapon):\n",
        "        self.__weapon = weapon\n",
        "\n",
        "    def equip_armor(self, armor):\n",
        "        self.__armor = armor\n",
        "\n",
        "    def details(self):\n",
        "        return {\n",
        "            \"Name\": self.name,\n",
        "            \"Weapon\": self.__weapon.name ,\n",
        "            \"Armor\": self.__armor.name ,\n",
        "            \"Inventory\": [item for item in self.inventory.items],\n",
        "        }\n",
        "\n",
        "character = Character(\"Warrior\")\n",
        "character.equip_weapon(Weapon(\"Sword\"))\n",
        "character.equip_armor(Armor(\"Shield\"))\n",
        "character.inventory.add_item(\"Health Potion\")\n",
        "print(character.details())"
      ],
      "metadata": {
        "colab": {
          "base_uri": "https://localhost:8080/"
        },
        "id": "xfQ0SIa3yyoR",
        "outputId": "94050801-a378-4a1d-cd37-5216c2c89aa3"
      },
      "execution_count": 39,
      "outputs": [
        {
          "output_type": "stream",
          "name": "stdout",
          "text": [
            "{'Name': 'Warrior', 'Weapon': 'Sword', 'Armor': 'Shield', 'Inventory': ['Health Potion']}\n"
          ]
        }
      ]
    },
    {
      "cell_type": "markdown",
      "source": [
        "17. Describe the concept of \"aggregation\" in composition and how it differs from simple composition.\n",
        "\n",
        "Answer:\n",
        "\n",
        "Aggregation is a form of composition in which the lifespan of a composed object is not depends on the parent whereas in simple composition the parent owns the composed object."
      ],
      "metadata": {
        "id": "xLmCn0wvtWci"
      }
    },
    {
      "cell_type": "markdown",
      "source": [
        "18. Create a Python class for a house, using composition to represent rooms, furniture, and appliances."
      ],
      "metadata": {
        "id": "U-sFqqhutWZi"
      }
    },
    {
      "cell_type": "code",
      "source": [
        "class Room:\n",
        "    def __init__(self, name):\n",
        "        self.name = name\n",
        "        self.__furniture = []\n",
        "        self.__appliances = []\n",
        "\n",
        "    def add_furniture(self, furniture):\n",
        "        self.__furniture.append(furniture)\n",
        "\n",
        "    def add_appliance(self, appliance):\n",
        "        self.__appliances.append(appliance)\n",
        "\n",
        "class House:\n",
        "  def __init__(self):\n",
        "    self.__rooms = []\n",
        "\n",
        "  def add_room(self, room):\n",
        "    self.__rooms.append(room)\n",
        "\n",
        "\n",
        "house = House()\n",
        "dinning_room = Room(\"Dinning Room\")\n",
        "dinning_room.add_furniture(\"Table\")\n",
        "dinning_room.add_furniture(\"Chair\")\n",
        "dinning_room.add_appliance(\"Microwave\")"
      ],
      "metadata": {
        "id": "_ys82FDDzlmW"
      },
      "execution_count": 40,
      "outputs": []
    },
    {
      "cell_type": "markdown",
      "source": [
        "19. How can you achieve flexibility in composed objects by allowing them to be replaced or modified dynamically at runtime?\n",
        "\n",
        "Answer: using polymorphism i.e. run time, another method is dependency injection allowing components to be replaced dynamically"
      ],
      "metadata": {
        "id": "Hwp84sm4tWWi"
      }
    },
    {
      "cell_type": "markdown",
      "source": [
        "20. Create a Python class for a social media application, using composition to represent users, posts, and comments."
      ],
      "metadata": {
        "id": "rmuWVpqptWTl"
      }
    },
    {
      "cell_type": "code",
      "source": [
        "class User:\n",
        "    def __init__(self, username):\n",
        "        self.username = username\n",
        "\n",
        "class Comment:\n",
        "    def __init__(self, user, content):\n",
        "        self.user = user\n",
        "        self.content = content\n",
        "\n",
        "class Post:\n",
        "    def __init__(self, user, content):\n",
        "        self.user = user\n",
        "        self.content = content\n",
        "        self.comments = []\n",
        "\n",
        "    def add_comment(self, comment):\n",
        "        self.comments.append(comment)\n",
        "\n",
        "class SocialMediaApp:\n",
        "    def __init__(self):\n",
        "        self.posts = []\n",
        "\n",
        "    def add_post(self, post):\n",
        "        self.posts.append(post)\n",
        "\n",
        "    def show_posts(self):\n",
        "        result = []\n",
        "        for post in self.posts:\n",
        "            post_details = {\n",
        "                \"Post\": post.content,\n",
        "                \"By\": post.user.username,\n",
        "                \"Comments\": [(c.user.username, c.content) for c in post.comments],\n",
        "            }\n",
        "            result.append(post_details)\n",
        "        return result\n",
        "\n",
        "user1 = User(\"Karthik\")\n",
        "user2 = User(\"Supra\")\n",
        "\n",
        "post = Post(user1, \"post one\")\n",
        "post.add_comment(Comment(user2, \"comment one\"))\n",
        "\n",
        "app = SocialMediaApp()\n",
        "app.add_post(post)\n",
        "print(app.show_posts())"
      ],
      "metadata": {
        "colab": {
          "base_uri": "https://localhost:8080/"
        },
        "id": "N4Jzm6Y_s2Kh",
        "outputId": "e5c79c2c-4d36-4223-fdfd-f40efcc47828"
      },
      "execution_count": 41,
      "outputs": [
        {
          "output_type": "stream",
          "name": "stdout",
          "text": [
            "[{'Post': 'post one', 'By': 'Karthik', 'Comments': [('Supra', 'comment one')]}]\n"
          ]
        }
      ]
    },
    {
      "cell_type": "code",
      "source": [],
      "metadata": {
        "id": "6lSDm_AN1Nz9"
      },
      "execution_count": null,
      "outputs": []
    }
  ]
}