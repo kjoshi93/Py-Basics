{
 "cells": [
  {
   "cell_type": "markdown",
   "id": "c97d9e72-f398-4c90-b48e-9c27fa41abf6",
   "metadata": {},
   "source": [
    "TOPIC: String Based Assignment Problem"
   ]
  },
  {
   "cell_type": "markdown",
   "id": "43435f51-9a97-49b6-b912-6da8241819b6",
   "metadata": {},
   "source": [
    "1. Write a program to reverse a string."
   ]
  },
  {
   "cell_type": "code",
   "execution_count": 1,
   "id": "7d280675-09e3-4f7e-bbd1-09fc6d1efc70",
   "metadata": {},
   "outputs": [],
   "source": [
    "tempStr = \"something\""
   ]
  },
  {
   "cell_type": "code",
   "execution_count": 2,
   "id": "b0c77a11-0a3f-45b3-978f-a3e1f571c2ff",
   "metadata": {},
   "outputs": [
    {
     "name": "stdout",
     "output_type": "stream",
     "text": [
      "gnihtemos\n"
     ]
    }
   ],
   "source": [
    "revStr = tempStr[::-1]\n",
    "print(revStr)"
   ]
  },
  {
   "cell_type": "markdown",
   "id": "b229859c-90ad-4390-8638-1cc36d13fe1d",
   "metadata": {},
   "source": [
    "2. Check if a string is a palindrome."
   ]
  },
  {
   "cell_type": "code",
   "execution_count": 3,
   "id": "9f6a88e5-2e83-4337-9bb7-841de69e87de",
   "metadata": {},
   "outputs": [],
   "source": [
    "tempStr = \"RaceCar\""
   ]
  },
  {
   "cell_type": "code",
   "execution_count": 4,
   "id": "e1a6ef9c-83e1-4395-b0af-a8f5afc9a2ef",
   "metadata": {},
   "outputs": [],
   "source": [
    "revTempStr = tempStr[::-1]"
   ]
  },
  {
   "cell_type": "code",
   "execution_count": 5,
   "id": "9aee20ef-6a28-42a6-93bd-1fcdfeb37533",
   "metadata": {},
   "outputs": [
    {
     "data": {
      "text/plain": [
       "True"
      ]
     },
     "execution_count": 5,
     "metadata": {},
     "output_type": "execute_result"
    }
   ],
   "source": [
    "isPalindrome = tempStr.lower() == revTempStr.lower()\n",
    "\n",
    "isPalindrome"
   ]
  },
  {
   "cell_type": "markdown",
   "id": "35249de0-5352-4cef-9357-d28aac0ceb9d",
   "metadata": {},
   "source": [
    "3. Convert a string to uppercase."
   ]
  },
  {
   "cell_type": "code",
   "execution_count": 6,
   "id": "a04affcd-08a8-4dd6-8e9a-164b36b55187",
   "metadata": {},
   "outputs": [],
   "source": [
    "tempStr = \"lower cased string\""
   ]
  },
  {
   "cell_type": "code",
   "execution_count": 7,
   "id": "ddfa993e-9aea-4c64-9580-ff892ff224fc",
   "metadata": {},
   "outputs": [
    {
     "data": {
      "text/plain": [
       "'LOWER CASED STRING'"
      ]
     },
     "execution_count": 7,
     "metadata": {},
     "output_type": "execute_result"
    }
   ],
   "source": [
    "upperTempStr = tempStr.upper()\n",
    "\n",
    "upperTempStr"
   ]
  },
  {
   "cell_type": "markdown",
   "id": "ef46e4ec-6da1-41f0-b3d6-f10d4b90d5ec",
   "metadata": {},
   "source": [
    "4. Convert a string to lowercase."
   ]
  },
  {
   "cell_type": "code",
   "execution_count": 8,
   "id": "4dd49701-ea4d-4db5-bc39-db9363fddd93",
   "metadata": {},
   "outputs": [
    {
     "name": "stdout",
     "output_type": "stream",
     "text": [
      "lower cased string\n"
     ]
    }
   ],
   "source": [
    "print(upperTempStr.lower())"
   ]
  },
  {
   "cell_type": "markdown",
   "id": "ee62884f-6a38-49f1-b5a1-41cf77567017",
   "metadata": {},
   "source": [
    "5. Count the number of vowels in a string."
   ]
  },
  {
   "cell_type": "code",
   "execution_count": 9,
   "id": "1f6762b7-c2bf-4ac9-8835-5b2a2b8cde2f",
   "metadata": {},
   "outputs": [],
   "source": [
    "vowels = ('a', 'e', 'i', 'o', 'u')"
   ]
  },
  {
   "cell_type": "code",
   "execution_count": 10,
   "id": "87475124-0fa0-4b95-af0d-3cc52ead661a",
   "metadata": {},
   "outputs": [],
   "source": [
    "tempStr = \"its a string with some vowels and some consonants\""
   ]
  },
  {
   "cell_type": "code",
   "execution_count": 11,
   "id": "807f9d80-173e-4776-a69d-226f402666fe",
   "metadata": {},
   "outputs": [
    {
     "name": "stdout",
     "output_type": "stream",
     "text": [
      "14\n"
     ]
    }
   ],
   "source": [
    "vowelCount = 0\n",
    "\n",
    "for i in vowels:\n",
    "    vowelCount += tempStr.count(i)\n",
    "        \n",
    "print(vowelCount)"
   ]
  },
  {
   "cell_type": "markdown",
   "id": "4b895fec-f093-474e-9814-a99b5dade0a6",
   "metadata": {},
   "source": [
    "6. Count the number of consonants in a string."
   ]
  },
  {
   "cell_type": "code",
   "execution_count": 12,
   "id": "d71468c8-d261-46c3-9202-b6e4861a554b",
   "metadata": {},
   "outputs": [
    {
     "name": "stdout",
     "output_type": "stream",
     "text": [
      "35\n"
     ]
    }
   ],
   "source": [
    "consonantCount = 0\n",
    "\n",
    "for i in tempStr:\n",
    "    if i not in vowels:\n",
    "        consonantCount += 1\n",
    "        \n",
    "print(consonantCount)"
   ]
  },
  {
   "cell_type": "markdown",
   "id": "c4152120-7cc1-4bfe-a190-505d586fcd6d",
   "metadata": {},
   "source": [
    "7. Remove all whitespaces from a string."
   ]
  },
  {
   "cell_type": "code",
   "execution_count": 13,
   "id": "eb86c820-7f72-4f54-ab87-2349da7afc3e",
   "metadata": {},
   "outputs": [
    {
     "data": {
      "text/plain": [
       "'its a string with some vowels and some consonants'"
      ]
     },
     "execution_count": 13,
     "metadata": {},
     "output_type": "execute_result"
    }
   ],
   "source": [
    "tempStr"
   ]
  },
  {
   "cell_type": "code",
   "execution_count": 14,
   "id": "ea52fa68-76b3-49f3-8311-005a71e47d0b",
   "metadata": {},
   "outputs": [
    {
     "data": {
      "text/plain": [
       "'itsastringwithsomevowelsandsomeconsonants'"
      ]
     },
     "execution_count": 14,
     "metadata": {},
     "output_type": "execute_result"
    }
   ],
   "source": [
    "tempStr.replace(' ','')"
   ]
  },
  {
   "cell_type": "markdown",
   "id": "87214064-999c-4367-8cfe-57cc205c88b8",
   "metadata": {},
   "source": [
    "8. Find the length of a string without using the `len()` function."
   ]
  },
  {
   "cell_type": "code",
   "execution_count": 15,
   "id": "82a55100-a47d-4e95-9e0a-9d1b07672b62",
   "metadata": {},
   "outputs": [],
   "source": [
    "tempStr = \"string length\""
   ]
  },
  {
   "cell_type": "code",
   "execution_count": 16,
   "id": "67983bb6-513c-484c-bd88-4ada91157747",
   "metadata": {},
   "outputs": [
    {
     "name": "stdout",
     "output_type": "stream",
     "text": [
      "13\n"
     ]
    }
   ],
   "source": [
    "strLength = 0\n",
    "\n",
    "for ch in tempStr:\n",
    "    strLength += 1\n",
    "    \n",
    "print(strLength)"
   ]
  },
  {
   "cell_type": "markdown",
   "id": "ccb166fb-a1a7-416e-ad40-4c19007841e7",
   "metadata": {},
   "source": [
    "9. Check if a string contains a specific word."
   ]
  },
  {
   "cell_type": "code",
   "execution_count": 17,
   "id": "dd79de74-ba81-4179-8830-9b78d6a7d00c",
   "metadata": {},
   "outputs": [
    {
     "data": {
      "text/plain": [
       "'string length'"
      ]
     },
     "execution_count": 17,
     "metadata": {},
     "output_type": "execute_result"
    }
   ],
   "source": [
    "tempStr"
   ]
  },
  {
   "cell_type": "code",
   "execution_count": 18,
   "id": "bb18ab3b-f990-4645-8e4d-d40cebb127eb",
   "metadata": {},
   "outputs": [],
   "source": [
    "specificWord = 'l'"
   ]
  },
  {
   "cell_type": "code",
   "execution_count": 19,
   "id": "3ded63e2-0abf-4133-8c01-05f2cf1cf5ee",
   "metadata": {},
   "outputs": [
    {
     "name": "stdout",
     "output_type": "stream",
     "text": [
      "True\n"
     ]
    }
   ],
   "source": [
    "contains = tempStr.find(specificWord) != -1\n",
    "print(contains)"
   ]
  },
  {
   "cell_type": "markdown",
   "id": "2db89e92-2cdf-4643-b71d-0db1655dc493",
   "metadata": {},
   "source": [
    "10. Replace a word in a string with another word."
   ]
  },
  {
   "cell_type": "code",
   "execution_count": 23,
   "id": "f3e0b8d3-5019-4a23-b12a-6791b82de4e0",
   "metadata": {},
   "outputs": [
    {
     "data": {
      "text/plain": [
       "'string length'"
      ]
     },
     "execution_count": 23,
     "metadata": {},
     "output_type": "execute_result"
    }
   ],
   "source": [
    "tempStr"
   ]
  },
  {
   "cell_type": "code",
   "execution_count": 26,
   "id": "79db6794-1861-40f1-944b-4fe984398004",
   "metadata": {},
   "outputs": [],
   "source": [
    "replaceTo = \"width\"\n",
    "replaceWith = \"length\""
   ]
  },
  {
   "cell_type": "code",
   "execution_count": 27,
   "id": "6ee8b90b-83fe-4ac3-b4b9-c3278105a10c",
   "metadata": {},
   "outputs": [
    {
     "data": {
      "text/plain": [
       "'string width'"
      ]
     },
     "execution_count": 27,
     "metadata": {},
     "output_type": "execute_result"
    }
   ],
   "source": [
    "tempStr.replace(replaceWith, replaceTo)"
   ]
  },
  {
   "cell_type": "markdown",
   "id": "159b9566-02de-4e1b-a883-4027d1e0d19d",
   "metadata": {},
   "source": [
    "11. Count the occurrences of a word in a string."
   ]
  },
  {
   "cell_type": "code",
   "execution_count": 28,
   "id": "060bbbe9-3cb6-4a2a-91a1-3817df7a943b",
   "metadata": {},
   "outputs": [],
   "source": [
    "tempStr = \"alphamottito\""
   ]
  },
  {
   "cell_type": "code",
   "execution_count": 29,
   "id": "7cb6cb6b-fb9a-4504-bb58-ece370ccf523",
   "metadata": {},
   "outputs": [],
   "source": [
    "word = 't'"
   ]
  },
  {
   "cell_type": "code",
   "execution_count": 30,
   "id": "88a0288b-0f4a-4389-a156-d868e4bd7f47",
   "metadata": {},
   "outputs": [
    {
     "data": {
      "text/plain": [
       "3"
      ]
     },
     "execution_count": 30,
     "metadata": {},
     "output_type": "execute_result"
    }
   ],
   "source": [
    "tempStr.count(word)"
   ]
  },
  {
   "cell_type": "markdown",
   "id": "cdb8d6b4-a5e2-4bff-9383-33516affc8e2",
   "metadata": {},
   "source": [
    "12. Find the first occurrence of a word in a string."
   ]
  },
  {
   "cell_type": "code",
   "execution_count": 31,
   "id": "2d01d3d5-072c-46da-aae2-b135341e997f",
   "metadata": {},
   "outputs": [
    {
     "data": {
      "text/plain": [
       "'alphamottito'"
      ]
     },
     "execution_count": 31,
     "metadata": {},
     "output_type": "execute_result"
    }
   ],
   "source": [
    "tempStr"
   ]
  },
  {
   "cell_type": "code",
   "execution_count": 32,
   "id": "76b72e5c-55db-422a-b3bc-f7267fb31b76",
   "metadata": {},
   "outputs": [
    {
     "data": {
      "text/plain": [
       "'t'"
      ]
     },
     "execution_count": 32,
     "metadata": {},
     "output_type": "execute_result"
    }
   ],
   "source": [
    "word"
   ]
  },
  {
   "cell_type": "code",
   "execution_count": 33,
   "id": "67a0c617-fa4f-42f8-8102-d5c5ba7fad8b",
   "metadata": {},
   "outputs": [
    {
     "name": "stdout",
     "output_type": "stream",
     "text": [
      "7\n"
     ]
    }
   ],
   "source": [
    "contain = tempStr.find(word) != -1\n",
    "\n",
    "if(contain):\n",
    "    print(tempStr.find(word))"
   ]
  },
  {
   "cell_type": "markdown",
   "id": "da9ba2c4-b03b-4931-a83b-44d1e9510387",
   "metadata": {},
   "source": [
    "13. Find the last occurrence of a word in a string."
   ]
  },
  {
   "cell_type": "code",
   "execution_count": 34,
   "id": "67aff6b7-7cdf-46e7-a380-029a45536d26",
   "metadata": {},
   "outputs": [
    {
     "data": {
      "text/plain": [
       "'alphamottito'"
      ]
     },
     "execution_count": 34,
     "metadata": {},
     "output_type": "execute_result"
    }
   ],
   "source": [
    "tempStr"
   ]
  },
  {
   "cell_type": "code",
   "execution_count": 35,
   "id": "c9731218-f41f-4898-8fd4-7b1b5d193353",
   "metadata": {},
   "outputs": [
    {
     "data": {
      "text/plain": [
       "'t'"
      ]
     },
     "execution_count": 35,
     "metadata": {},
     "output_type": "execute_result"
    }
   ],
   "source": [
    "word"
   ]
  },
  {
   "cell_type": "code",
   "execution_count": 36,
   "id": "cfa034a4-35c5-4902-9d81-78beafa91d0d",
   "metadata": {},
   "outputs": [
    {
     "data": {
      "text/plain": [
       "10"
      ]
     },
     "execution_count": 36,
     "metadata": {},
     "output_type": "execute_result"
    }
   ],
   "source": [
    "tempStr.rfind(word)"
   ]
  },
  {
   "cell_type": "markdown",
   "id": "aaa38ae0-67d0-49d8-a96f-833bee63a7b7",
   "metadata": {},
   "source": [
    "14. Split a string into a list of words."
   ]
  },
  {
   "cell_type": "code",
   "execution_count": 37,
   "id": "f6f4a0f1-0fb9-471a-9d77-61d69bd1ef42",
   "metadata": {},
   "outputs": [],
   "source": [
    "tempStr = \"14. Split a string into a list of words.\""
   ]
  },
  {
   "cell_type": "code",
   "execution_count": 38,
   "id": "8f89caee-5367-4066-b643-1cc54fd11dc8",
   "metadata": {},
   "outputs": [
    {
     "name": "stdout",
     "output_type": "stream",
     "text": [
      "['14.', 'Split', 'a', 'string', 'into', 'a', 'list', 'of', 'words.']\n"
     ]
    }
   ],
   "source": [
    "tempList = tempStr.split()\n",
    "\n",
    "print(tempList)"
   ]
  },
  {
   "cell_type": "markdown",
   "id": "43e52936-0881-49e6-a643-e384454f94f4",
   "metadata": {},
   "source": [
    "15. Join a list of words into a string."
   ]
  },
  {
   "cell_type": "code",
   "execution_count": 39,
   "id": "6a96138e-5fc7-4d6e-907f-2f38a48f7e6e",
   "metadata": {},
   "outputs": [
    {
     "data": {
      "text/plain": [
       "['14.', 'Split', 'a', 'string', 'into', 'a', 'list', 'of', 'words.']"
      ]
     },
     "execution_count": 39,
     "metadata": {},
     "output_type": "execute_result"
    }
   ],
   "source": [
    "tempList"
   ]
  },
  {
   "cell_type": "code",
   "execution_count": 40,
   "id": "35cdf154-6988-4877-b8fc-4c1b42bc76d2",
   "metadata": {},
   "outputs": [
    {
     "data": {
      "text/plain": [
       "'14. Split a string into a list of words.'"
      ]
     },
     "execution_count": 40,
     "metadata": {},
     "output_type": "execute_result"
    }
   ],
   "source": [
    "tempStr = ' '.join(tempList)\n",
    "tempStr"
   ]
  },
  {
   "cell_type": "markdown",
   "id": "209ca077-d52b-4d47-a5de-77ab38077a79",
   "metadata": {},
   "source": [
    "16. Convert a string where words are separated by spaces to one where words\n",
    "are separated by underscores."
   ]
  },
  {
   "cell_type": "code",
   "execution_count": 41,
   "id": "668d8cfc-6ec5-468d-837c-b8a4b5d07841",
   "metadata": {},
   "outputs": [
    {
     "data": {
      "text/plain": [
       "'word are separated by space'"
      ]
     },
     "execution_count": 41,
     "metadata": {},
     "output_type": "execute_result"
    }
   ],
   "source": [
    "tempStr1 = \"word are separated by space\"\n",
    "tempStr1"
   ]
  },
  {
   "cell_type": "code",
   "execution_count": 42,
   "id": "ad72a2d3-d023-43c0-841c-478543592a56",
   "metadata": {},
   "outputs": [
    {
     "data": {
      "text/plain": [
       "'word_are_separated_by_space'"
      ]
     },
     "execution_count": 42,
     "metadata": {},
     "output_type": "execute_result"
    }
   ],
   "source": [
    "tempStr1.replace(\" \", \"_\")"
   ]
  },
  {
   "cell_type": "markdown",
   "id": "c64c468d-c70e-42e9-aa58-903eb3d93011",
   "metadata": {},
   "source": [
    "17. Check if a string starts with a specific word or phrase."
   ]
  },
  {
   "cell_type": "code",
   "execution_count": 43,
   "id": "3c5354e8-94d0-4075-94b3-e1bf91914dd2",
   "metadata": {},
   "outputs": [
    {
     "data": {
      "text/plain": [
       "'Check if a string starts with a specific word or phrase.'"
      ]
     },
     "execution_count": 43,
     "metadata": {},
     "output_type": "execute_result"
    }
   ],
   "source": [
    "tempStr = \"Check if a string starts with a specific word or phrase.\"\n",
    "\n",
    "tempStr"
   ]
  },
  {
   "cell_type": "code",
   "execution_count": 44,
   "id": "4532bb61-2985-4a2d-9e10-54de8ea5c2db",
   "metadata": {},
   "outputs": [],
   "source": [
    "startWord = \"Check\""
   ]
  },
  {
   "cell_type": "code",
   "execution_count": 45,
   "id": "205435d3-d994-4417-a930-6587ee74eed0",
   "metadata": {},
   "outputs": [
    {
     "name": "stdout",
     "output_type": "stream",
     "text": [
      "yes\n"
     ]
    }
   ],
   "source": [
    "if(tempStr.startswith(startWord)):\n",
    "    print(\"yes\")\n",
    "else:\n",
    "    print(\"no\")"
   ]
  },
  {
   "cell_type": "markdown",
   "id": "21c89031-2423-488e-87c1-b22c3e2a937d",
   "metadata": {},
   "source": [
    "18. Check if a string ends with a specific word or phrase."
   ]
  },
  {
   "cell_type": "code",
   "execution_count": 46,
   "id": "1bc83f85-0c76-4a9e-8e95-a300a91955c2",
   "metadata": {},
   "outputs": [
    {
     "data": {
      "text/plain": [
       "'Check if a string ends with a specific word or phrase.'"
      ]
     },
     "execution_count": 46,
     "metadata": {},
     "output_type": "execute_result"
    }
   ],
   "source": [
    "tempStr = \"Check if a string ends with a specific word or phrase.\"\n",
    "\n",
    "tempStr"
   ]
  },
  {
   "cell_type": "code",
   "execution_count": 47,
   "id": "e4a902fa-7248-4897-b22e-56aac1de75a3",
   "metadata": {},
   "outputs": [],
   "source": [
    "endWord = 'phrase.'"
   ]
  },
  {
   "cell_type": "code",
   "execution_count": 48,
   "id": "c3c4de09-5861-4a8b-99ad-dbea76cde3fb",
   "metadata": {},
   "outputs": [
    {
     "name": "stdout",
     "output_type": "stream",
     "text": [
      "yes\n"
     ]
    }
   ],
   "source": [
    "if(tempStr.endswith(endWord)):\n",
    "    print(\"yes\")\n",
    "else:\n",
    "    print(\"no\")"
   ]
  },
  {
   "cell_type": "markdown",
   "id": "70157db7-868b-4900-9834-dbd4d0aabab5",
   "metadata": {},
   "source": [
    "19. Convert a string to title case (e.g., \"hello world\" to \"Hello World\")."
   ]
  },
  {
   "cell_type": "code",
   "execution_count": 49,
   "id": "69ca01b8-960d-4e5a-8588-93e22a731750",
   "metadata": {},
   "outputs": [
    {
     "data": {
      "text/plain": [
       "'hello world'"
      ]
     },
     "execution_count": 49,
     "metadata": {},
     "output_type": "execute_result"
    }
   ],
   "source": [
    "tempStr = 'hello world'\n",
    "tempStr"
   ]
  },
  {
   "cell_type": "code",
   "execution_count": 50,
   "id": "b4cb22eb-9a78-4cc0-bcc0-657444b7a280",
   "metadata": {},
   "outputs": [
    {
     "data": {
      "text/plain": [
       "'Hello World'"
      ]
     },
     "execution_count": 50,
     "metadata": {},
     "output_type": "execute_result"
    }
   ],
   "source": [
    "tempStr.title()"
   ]
  },
  {
   "cell_type": "markdown",
   "id": "72f6cbf3-1500-43b0-b531-ff0e40d20013",
   "metadata": {},
   "source": [
    "20. Find the longest word in a string."
   ]
  },
  {
   "cell_type": "code",
   "execution_count": 51,
   "id": "60a48ad6-a78b-4f9c-abf7-aab0b8d719c3",
   "metadata": {},
   "outputs": [
    {
     "data": {
      "text/plain": [
       "'Find the longest word in a string.'"
      ]
     },
     "execution_count": 51,
     "metadata": {},
     "output_type": "execute_result"
    }
   ],
   "source": [
    "tempStr = \"Find the longest word in a string.\"\n",
    "tempStr"
   ]
  },
  {
   "cell_type": "code",
   "execution_count": 53,
   "id": "a14ef677-0f1f-4d6a-adfd-e160c7ecd899",
   "metadata": {},
   "outputs": [
    {
     "data": {
      "text/plain": [
       "['Find', 'the', 'longest', 'word', 'in', 'a', 'string.']"
      ]
     },
     "execution_count": 53,
     "metadata": {},
     "output_type": "execute_result"
    }
   ],
   "source": [
    "words = tempStr.split()\n",
    "\n",
    "words"
   ]
  },
  {
   "cell_type": "code",
   "execution_count": 54,
   "id": "5e9ec693-0053-4602-9497-2c2731c0542e",
   "metadata": {},
   "outputs": [],
   "source": [
    "punctuation = set(\"!'#$%&'()*+,-./:;<=>?@[\\]^_`{|}~\")"
   ]
  },
  {
   "cell_type": "code",
   "execution_count": 55,
   "id": "b79b2438-369f-4b15-9a0e-d9d66f3931d1",
   "metadata": {},
   "outputs": [
    {
     "name": "stdout",
     "output_type": "stream",
     "text": [
      "longest\n"
     ]
    }
   ],
   "source": [
    "longest_word = \"\"\n",
    "max_length = 0\n",
    "\n",
    "for word in words:\n",
    "    cleaned_word = ''.join(char for char in word if char not in punctuation)\n",
    "    word_length = len(cleaned_word)\n",
    "\n",
    "    if word_length > max_length:\n",
    "        longest_word = cleaned_word\n",
    "        max_length = word_length\n",
    "        \n",
    "print(longest_word)"
   ]
  },
  {
   "cell_type": "markdown",
   "id": "23e16de9-e610-49da-abde-355826aa1651",
   "metadata": {},
   "source": [
    "21. Find the shortest word in a string."
   ]
  },
  {
   "cell_type": "code",
   "execution_count": 56,
   "id": "71d716d7-e7a0-40ef-98c3-4e4d47220cb4",
   "metadata": {},
   "outputs": [
    {
     "name": "stdout",
     "output_type": "stream",
     "text": [
      "a\n"
     ]
    }
   ],
   "source": [
    "shortest_word = \"\"\n",
    "min_length = len(words[0])\n",
    "\n",
    "for word in words:\n",
    "    cleaned_word = ''.join(char for char in word if char not in punctuation)\n",
    "    word_length = len(cleaned_word)\n",
    "\n",
    "    if word_length < min_length:\n",
    "        shortest_word = cleaned_word\n",
    "        min_length = word_length\n",
    "        \n",
    "print(shortest_word)"
   ]
  },
  {
   "cell_type": "markdown",
   "id": "b9b17ec9-dfe0-420b-b69b-f02783bfda10",
   "metadata": {},
   "source": [
    "22. Reverse the order of words in a string."
   ]
  },
  {
   "cell_type": "code",
   "execution_count": 57,
   "id": "02b40d4b-e1d2-4b36-a0a0-bae05176840f",
   "metadata": {},
   "outputs": [
    {
     "data": {
      "text/plain": [
       "'Reverse the order of words in a string.'"
      ]
     },
     "execution_count": 57,
     "metadata": {},
     "output_type": "execute_result"
    }
   ],
   "source": [
    "tempStr = 'Reverse the order of words in a string.'\n",
    "\n",
    "tempStr"
   ]
  },
  {
   "cell_type": "code",
   "execution_count": 58,
   "id": "e3f92778-6207-47ec-8ba0-0fe6eb0f2c52",
   "metadata": {},
   "outputs": [
    {
     "data": {
      "text/plain": [
       "'string. a in words of order the Reverse'"
      ]
     },
     "execution_count": 58,
     "metadata": {},
     "output_type": "execute_result"
    }
   ],
   "source": [
    "tempStr = \" \".join(tempStr.split(' ')[::-1])\n",
    "\n",
    "tempStr"
   ]
  },
  {
   "cell_type": "markdown",
   "id": "cb4fc457-2a3f-4f42-82b2-4679c6fba175",
   "metadata": {},
   "source": [
    "23. Check if a string is alphanumeric."
   ]
  },
  {
   "cell_type": "code",
   "execution_count": 59,
   "id": "472a5c7e-d4f9-43cb-89a4-bdff5adef455",
   "metadata": {},
   "outputs": [
    {
     "data": {
      "text/plain": [
       "'alpha1243'"
      ]
     },
     "execution_count": 59,
     "metadata": {},
     "output_type": "execute_result"
    }
   ],
   "source": [
    "tempStr = 'alpha1243'\n",
    "tempStr"
   ]
  },
  {
   "cell_type": "code",
   "execution_count": 60,
   "id": "10c108f8-1ba9-4646-862e-5a0440a63774",
   "metadata": {},
   "outputs": [
    {
     "name": "stdout",
     "output_type": "stream",
     "text": [
      "yes\n"
     ]
    }
   ],
   "source": [
    "if(tempStr.isalnum):\n",
    "    print(\"yes\")\n",
    "else:\n",
    "    print(\"no\")"
   ]
  },
  {
   "cell_type": "markdown",
   "id": "7b17a324-96c8-4f31-ab4e-6e0cfd67e4ab",
   "metadata": {},
   "source": [
    "24. Extract all digits from a string."
   ]
  },
  {
   "cell_type": "code",
   "execution_count": 61,
   "id": "39a1ef77-01c8-466b-ad8b-04b4440acba3",
   "metadata": {},
   "outputs": [
    {
     "data": {
      "text/plain": [
       "'alpha1243'"
      ]
     },
     "execution_count": 61,
     "metadata": {},
     "output_type": "execute_result"
    }
   ],
   "source": [
    "tempStr"
   ]
  },
  {
   "cell_type": "code",
   "execution_count": 62,
   "id": "0e02c4be-144d-4d17-b074-b84419bd435e",
   "metadata": {},
   "outputs": [
    {
     "name": "stdout",
     "output_type": "stream",
     "text": [
      "1243\n"
     ]
    }
   ],
   "source": [
    "tempDigit = \"\"\n",
    "\n",
    "for ch in tempStr:\n",
    "    if(ch.isnumeric()):\n",
    "        tempDigit += ch\n",
    "        \n",
    "print(tempDigit)"
   ]
  },
  {
   "cell_type": "markdown",
   "id": "97dc4693-c7ff-4208-96da-726c97c00242",
   "metadata": {},
   "source": [
    "25. Extract all alphabets from a string."
   ]
  },
  {
   "cell_type": "code",
   "execution_count": 63,
   "id": "a1153198-52b7-4d29-8d46-8f79a2dea413",
   "metadata": {},
   "outputs": [
    {
     "data": {
      "text/plain": [
       "'alpha1243'"
      ]
     },
     "execution_count": 63,
     "metadata": {},
     "output_type": "execute_result"
    }
   ],
   "source": [
    "tempStr"
   ]
  },
  {
   "cell_type": "code",
   "execution_count": 64,
   "id": "fc004480-87c3-42f8-9131-6e1497266c3a",
   "metadata": {},
   "outputs": [
    {
     "name": "stdout",
     "output_type": "stream",
     "text": [
      "alpha\n"
     ]
    }
   ],
   "source": [
    "tempAlpha = \"\"\n",
    "\n",
    "for ch in tempStr:\n",
    "    if(ch.isalpha()):\n",
    "        tempAlpha += ch\n",
    "        \n",
    "print(tempAlpha)"
   ]
  },
  {
   "cell_type": "markdown",
   "id": "6917303b-eda8-4e32-86d7-92ea1ab95dfd",
   "metadata": {},
   "source": [
    "26. Count the number of uppercase letters in a string."
   ]
  },
  {
   "cell_type": "code",
   "execution_count": 65,
   "id": "c3420e3b-5c5f-4b2e-a312-9506ddc483cc",
   "metadata": {},
   "outputs": [
    {
     "data": {
      "text/plain": [
       "'bothUpperAndLowerCasing'"
      ]
     },
     "execution_count": 65,
     "metadata": {},
     "output_type": "execute_result"
    }
   ],
   "source": [
    "tempStr = \"bothUpperAndLowerCasing\"\n",
    "tempStr"
   ]
  },
  {
   "cell_type": "code",
   "execution_count": 66,
   "id": "541b97a6-c432-4969-91cb-7f1784f09587",
   "metadata": {},
   "outputs": [
    {
     "name": "stdout",
     "output_type": "stream",
     "text": [
      "upper letters: UALC\n",
      "length: 4\n"
     ]
    }
   ],
   "source": [
    "tempUpperCasing = \"\"\n",
    "\n",
    "for ch in tempStr:\n",
    "    if(ch.isupper()):\n",
    "        tempUpperCasing += ch\n",
    "        \n",
    "print(\"upper letters: \"+ tempUpperCasing)\n",
    "print(\"length: \" + str(len(tempUpperCasing)))"
   ]
  },
  {
   "cell_type": "markdown",
   "id": "61bf88be-45f5-4f57-a894-e47fbbbc7cf2",
   "metadata": {},
   "source": [
    "27. Count the number of lowercase letters in a string.|"
   ]
  },
  {
   "cell_type": "code",
   "execution_count": 88,
   "id": "9e702ba8-f066-46a7-9a06-dd68dc6e4346",
   "metadata": {},
   "outputs": [
    {
     "data": {
      "text/plain": [
       "'bothUpperAndLowerCasing'"
      ]
     },
     "execution_count": 88,
     "metadata": {},
     "output_type": "execute_result"
    }
   ],
   "source": [
    "tempStr"
   ]
  },
  {
   "cell_type": "code",
   "execution_count": 90,
   "id": "df5de981-fcbe-4edb-b98f-76d013daccbf",
   "metadata": {},
   "outputs": [
    {
     "name": "stdout",
     "output_type": "stream",
     "text": [
      "lower letters: bothpperndowerasing\n",
      "length: 19\n"
     ]
    }
   ],
   "source": [
    "tempLowerCasing = \"\"\n",
    "\n",
    "for ch in tempStr:\n",
    "    if(ch.islower()):\n",
    "        tempLowerCasing += ch\n",
    "        \n",
    "print(\"lower letters: \"+ tempLowerCasing)\n",
    "print(\"length: \" + str(len(tempLowerCasing)))"
   ]
  },
  {
   "cell_type": "markdown",
   "id": "4e77cdc7-6cac-441d-810a-d8de1aa5374c",
   "metadata": {},
   "source": [
    "28. Swap the case of each character in a string."
   ]
  },
  {
   "cell_type": "code",
   "execution_count": 91,
   "id": "e8811345-d121-40e6-a94c-7dc40fb1d230",
   "metadata": {},
   "outputs": [
    {
     "data": {
      "text/plain": [
       "'bothUpperAndLowerCasing'"
      ]
     },
     "execution_count": 91,
     "metadata": {},
     "output_type": "execute_result"
    }
   ],
   "source": [
    "tempStr"
   ]
  },
  {
   "cell_type": "code",
   "execution_count": null,
   "id": "ddd9e1f6-0c29-48c2-bf7f-3ff040049a2f",
   "metadata": {},
   "outputs": [
    {
     "name": "stdout",
     "output_type": "stream",
     "text": [
      "BOTHuPPERaNDlOWERcASING\n"
     ]
    }
   ],
   "source": [
    "swappedString = \"\"\n",
    "\n",
    "for ch in tempStr:\n",
    "    if ch.isupper():\n",
    "        swappedString += ch.lower()\n",
    "    elif ch.islower():\n",
    "        swappedString += ch.upper()\n",
    "    else:\n",
    "        swappedString += ch\n",
    "        \n",
    "print(swappedString)"
   ]
  },
  {
   "cell_type": "markdown",
   "id": "75bec99d-0a5e-4e07-a28c-c098d186b6b6",
   "metadata": {},
   "source": [
    "29. Remove a specific word from a string."
   ]
  },
  {
   "cell_type": "code",
   "execution_count": 100,
   "id": "ab1e0d46-8dac-4510-ae4d-0e5a621812cd",
   "metadata": {},
   "outputs": [
    {
     "data": {
      "text/plain": [
       "'Remove a specific word from a string.'"
      ]
     },
     "execution_count": 100,
     "metadata": {},
     "output_type": "execute_result"
    }
   ],
   "source": [
    "tempStr = \"Remove a specific word from a string.\"\n",
    "tempStr"
   ]
  },
  {
   "cell_type": "code",
   "execution_count": 101,
   "id": "8dac9f4e-e6cf-46fd-9695-fb212272a876",
   "metadata": {},
   "outputs": [
    {
     "data": {
      "text/plain": [
       "'specific'"
      ]
     },
     "execution_count": 101,
     "metadata": {},
     "output_type": "execute_result"
    }
   ],
   "source": [
    "word = \"specific\"\n",
    "word"
   ]
  },
  {
   "cell_type": "code",
   "execution_count": 102,
   "id": "45d77a0d-2fd7-4aa0-a5df-19b07151b920",
   "metadata": {},
   "outputs": [
    {
     "data": {
      "text/plain": [
       "'Remove a  word from a string.'"
      ]
     },
     "execution_count": 102,
     "metadata": {},
     "output_type": "execute_result"
    }
   ],
   "source": [
    "tempStr = tempStr.replace(word, \"\")\n",
    "tempStr"
   ]
  },
  {
   "cell_type": "markdown",
   "id": "6a9dea16-ef19-4c8e-a94d-003a50cc138e",
   "metadata": {},
   "source": [
    "30. Check if a string is a valid email address."
   ]
  },
  {
   "cell_type": "markdown",
   "id": "2dc3fe0a-12fd-4377-a57e-df1f64d0658a",
   "metadata": {},
   "source": [
    "31. Extract the username from an email address string."
   ]
  },
  {
   "cell_type": "code",
   "execution_count": 85,
   "id": "4bd049d5-ac67-4d86-8d28-9d3e9a97744b",
   "metadata": {},
   "outputs": [
    {
     "data": {
      "text/plain": [
       "'intern@pwskills.com'"
      ]
     },
     "execution_count": 85,
     "metadata": {},
     "output_type": "execute_result"
    }
   ],
   "source": [
    "email = \"intern@pwskills.com\"\n",
    "email"
   ]
  },
  {
   "cell_type": "code",
   "execution_count": 86,
   "id": "50e9ebde-79af-4fde-a1c9-f649c3a9ffcc",
   "metadata": {},
   "outputs": [],
   "source": [
    "symbolToSplit = \"@\""
   ]
  },
  {
   "cell_type": "code",
   "execution_count": 87,
   "id": "2df68f3c-63a2-499e-9668-885292903cea",
   "metadata": {},
   "outputs": [
    {
     "data": {
      "text/plain": [
       "['intern', 'pwskills.com']"
      ]
     },
     "execution_count": 87,
     "metadata": {},
     "output_type": "execute_result"
    }
   ],
   "source": [
    "afterSymbol = email.split(symbolToSplit)\n",
    "afterSymbol"
   ]
  },
  {
   "cell_type": "code",
   "execution_count": 88,
   "id": "b518919e-7e6a-4c3a-82ba-cbdc4ec3b63d",
   "metadata": {},
   "outputs": [],
   "source": [
    "username = afterSymbol[0]"
   ]
  },
  {
   "cell_type": "code",
   "execution_count": 89,
   "id": "47a433bd-31df-4340-849b-4d83a5f97184",
   "metadata": {},
   "outputs": [
    {
     "name": "stdout",
     "output_type": "stream",
     "text": [
      "intern\n"
     ]
    }
   ],
   "source": [
    "print(username)"
   ]
  },
  {
   "cell_type": "markdown",
   "id": "b6004177-5f89-49fe-9587-8f6e37322bac",
   "metadata": {},
   "source": [
    "32. Extract the domain name from an email address string."
   ]
  },
  {
   "cell_type": "code",
   "execution_count": 90,
   "id": "0ba5069c-5d4d-437d-b2ee-44da7a0b9738",
   "metadata": {},
   "outputs": [],
   "source": [
    "domainSplitSymbol = \".\""
   ]
  },
  {
   "cell_type": "code",
   "execution_count": 91,
   "id": "944886aa-8c3f-4175-b421-3042abdb589a",
   "metadata": {},
   "outputs": [
    {
     "data": {
      "text/plain": [
       "['pwskills', 'com']"
      ]
     },
     "execution_count": 91,
     "metadata": {},
     "output_type": "execute_result"
    }
   ],
   "source": [
    "afterDomainSymbolSplit = afterSymbol[1].split(domainSplitSymbol)\n",
    "afterDomainSymbolSplit"
   ]
  },
  {
   "cell_type": "code",
   "execution_count": 92,
   "id": "a846ff08-3957-4202-a4cf-576beb1794da",
   "metadata": {},
   "outputs": [
    {
     "name": "stdout",
     "output_type": "stream",
     "text": [
      "pwskills\n"
     ]
    }
   ],
   "source": [
    "domain = afterDomainSymbolSplit[0]\n",
    "\n",
    "print(domain)"
   ]
  },
  {
   "cell_type": "markdown",
   "id": "c8ac8e66-2222-488c-baf4-00cf6805e3e0",
   "metadata": {},
   "source": [
    "33. Replace multiple spaces in a string with a single space."
   ]
  },
  {
   "cell_type": "code",
   "execution_count": 93,
   "id": "2aa32e3a-7963-4966-9fb1-ed6fa30a4a32",
   "metadata": {},
   "outputs": [],
   "source": [
    "stringWithspaces = \"uig iogh   iuygb hgi \""
   ]
  },
  {
   "cell_type": "code",
   "execution_count": 94,
   "id": "ee40769b-9f75-486a-8fdf-b64a7c043a26",
   "metadata": {},
   "outputs": [
    {
     "data": {
      "text/plain": [
       "['uig', 'iogh', 'iuygb', 'hgi']"
      ]
     },
     "execution_count": 94,
     "metadata": {},
     "output_type": "execute_result"
    }
   ],
   "source": [
    "words = stringWithspaces.split()\n",
    "words"
   ]
  },
  {
   "cell_type": "code",
   "execution_count": 95,
   "id": "c723900b-8047-42f5-8822-df55aeea3286",
   "metadata": {},
   "outputs": [
    {
     "data": {
      "text/plain": [
       "'uig iogh iuygb hgi'"
      ]
     },
     "execution_count": 95,
     "metadata": {},
     "output_type": "execute_result"
    }
   ],
   "source": [
    "stringWithspaces = \" \".join(words)\n",
    "stringWithspaces"
   ]
  },
  {
   "cell_type": "markdown",
   "id": "5ef0526b-46b1-4216-8fe6-4eab3a6edf3a",
   "metadata": {},
   "source": [
    "34. Check if a string is a valid URL."
   ]
  },
  {
   "cell_type": "code",
   "execution_count": 96,
   "id": "21e3c2a7-7d7e-4ce8-aacc-49aedaf1b051",
   "metadata": {},
   "outputs": [
    {
     "data": {
      "text/plain": [
       "'https://www.pwskills.com'"
      ]
     },
     "execution_count": 96,
     "metadata": {},
     "output_type": "execute_result"
    }
   ],
   "source": [
    "url = \"https://www.pwskills.com\"\n",
    "url"
   ]
  },
  {
   "cell_type": "code",
   "execution_count": 99,
   "id": "824c334d-927a-4aad-8da4-ca0f67f933c9",
   "metadata": {},
   "outputs": [
    {
     "name": "stdout",
     "output_type": "stream",
     "text": [
      "yes its valid\n"
     ]
    }
   ],
   "source": [
    "if url.startswith('https://') or url.startswith('http://'):\n",
    "    if '.' in url[url.index('/')+1:]:\n",
    "        print(\"yes its valid\")\n",
    "    else:\n",
    "        print(\"no, its invalid\")"
   ]
  },
  {
   "cell_type": "markdown",
   "id": "61c4cd12-08f2-4400-8b3a-89e84e821d3e",
   "metadata": {},
   "source": [
    "35. Extract the protocol (http or https) from a URL string."
   ]
  },
  {
   "cell_type": "code",
   "execution_count": 100,
   "id": "cfa312e2-9e10-4fcc-8bd8-75fd041e9ab4",
   "metadata": {},
   "outputs": [
    {
     "data": {
      "text/plain": [
       "'https://www.pwskills.com'"
      ]
     },
     "execution_count": 100,
     "metadata": {},
     "output_type": "execute_result"
    }
   ],
   "source": [
    "url"
   ]
  },
  {
   "cell_type": "code",
   "execution_count": 101,
   "id": "a7e4dbab-4f48-4d71-96d1-7ba9b399c3a0",
   "metadata": {},
   "outputs": [
    {
     "data": {
      "text/plain": [
       "'https'"
      ]
     },
     "execution_count": 101,
     "metadata": {},
     "output_type": "execute_result"
    }
   ],
   "source": [
    "protocol = url.split(':')[0]\n",
    "protocol"
   ]
  },
  {
   "cell_type": "markdown",
   "id": "c8a59e89-e2b3-44be-896d-603d721bbd21",
   "metadata": {},
   "source": [
    "36. Find the frequency of each character in a string."
   ]
  },
  {
   "cell_type": "code",
   "execution_count": 141,
   "id": "57acff7b-fec6-46f1-961c-9b2088d62682",
   "metadata": {},
   "outputs": [
    {
     "data": {
      "text/plain": [
       "'submariane in the iceland, in the super cold atmoshpere'"
      ]
     },
     "execution_count": 141,
     "metadata": {},
     "output_type": "execute_result"
    }
   ],
   "source": [
    "tempStr = 'submariane in the iceland, in the super cold atmoshpere'\n",
    "tempStr"
   ]
  },
  {
   "cell_type": "code",
   "execution_count": 142,
   "id": "b17f3e4e-4d6b-4a4e-81d7-a0ef93cad994",
   "metadata": {},
   "outputs": [
    {
     "data": {
      "text/plain": [
       "{'s': 3,\n",
       " 'u': 2,\n",
       " 'b': 1,\n",
       " 'm': 2,\n",
       " 'a': 4,\n",
       " 'r': 3,\n",
       " 'i': 4,\n",
       " 'n': 4,\n",
       " 'e': 7,\n",
       " ' ': 8,\n",
       " 't': 3,\n",
       " 'h': 3,\n",
       " 'c': 2,\n",
       " 'l': 2,\n",
       " 'd': 2,\n",
       " ',': 1,\n",
       " 'p': 2,\n",
       " 'o': 2}"
      ]
     },
     "execution_count": 142,
     "metadata": {},
     "output_type": "execute_result"
    }
   ],
   "source": [
    "frequency_dict = {} # creating a dict object, key: character and value: is frequency\n",
    "\n",
    "for ch in tempStr:\n",
    "    if ch in frequency_dict:\n",
    "        frequency_dict[ch] += 1\n",
    "    else:\n",
    "        frequency_dict[ch] = 1\n",
    "        \n",
    "frequency_dict\n"
   ]
  },
  {
   "cell_type": "markdown",
   "id": "a7102cb6-07ab-4a60-aada-317ab1ef8a0e",
   "metadata": {},
   "source": [
    "37. Remove all punctuation from a string."
   ]
  },
  {
   "cell_type": "code",
   "execution_count": 148,
   "id": "7f7093bc-2d03-4ac0-b19e-84c91ee5387a",
   "metadata": {},
   "outputs": [
    {
     "data": {
      "text/plain": [
       "'!\"#$%&\\'()*+,-./:;<=>?@[\\\\]^_`{|}~'"
      ]
     },
     "execution_count": 148,
     "metadata": {},
     "output_type": "execute_result"
    }
   ],
   "source": [
    "# defining a set of punctuation characters\n",
    "punctuation_chars = \"!\\\"#$%&'()*+,-./:;<=>?@[\\\\]^_`{|}~\"\n",
    "punctuation_chars"
   ]
  },
  {
   "cell_type": "code",
   "execution_count": 149,
   "id": "6ebcacf1-aef5-454f-bde5-7adac4c52ddd",
   "metadata": {},
   "outputs": [
    {
     "data": {
      "text/plain": [
       "'submariane in the iceland, in the super cold atmoshpere!'"
      ]
     },
     "execution_count": 149,
     "metadata": {},
     "output_type": "execute_result"
    }
   ],
   "source": [
    "tempStr = 'submariane in the iceland, in the super cold atmoshpere!'\n",
    "tempStr"
   ]
  },
  {
   "cell_type": "code",
   "execution_count": 150,
   "id": "63063ba9-b1ed-4b49-b363-60491a4cef42",
   "metadata": {},
   "outputs": [
    {
     "data": {
      "text/plain": [
       "'submariane in the iceland in the super cold atmoshpere'"
      ]
     },
     "execution_count": 150,
     "metadata": {},
     "output_type": "execute_result"
    }
   ],
   "source": [
    "result_str = \"\"\n",
    "for ch in tempStr:\n",
    "    if ch not in punctuation_chars:\n",
    "        result_str += ch\n",
    "        \n",
    "result_str"
   ]
  },
  {
   "cell_type": "markdown",
   "id": "ac215674-4268-46b4-8bcd-a2d9b6d1b9e9",
   "metadata": {},
   "source": [
    "38. Check if a string contains only digits."
   ]
  },
  {
   "cell_type": "code",
   "execution_count": 151,
   "id": "141a7937-e00c-465d-b78b-0fe31f04b54c",
   "metadata": {},
   "outputs": [
    {
     "data": {
      "text/plain": [
       "'123'"
      ]
     },
     "execution_count": 151,
     "metadata": {},
     "output_type": "execute_result"
    }
   ],
   "source": [
    "stringWithOnlyDigits = \"123\"\n",
    "stringWithOnlyDigits"
   ]
  },
  {
   "cell_type": "code",
   "execution_count": 152,
   "id": "c7ea42cf-e931-4a5e-92c4-66fbaaed5859",
   "metadata": {},
   "outputs": [
    {
     "data": {
      "text/plain": [
       "'124ujhiu3'"
      ]
     },
     "execution_count": 152,
     "metadata": {},
     "output_type": "execute_result"
    }
   ],
   "source": [
    "stringWithDigit = \"124ujhiu3\"\n",
    "stringWithDigit"
   ]
  },
  {
   "cell_type": "code",
   "execution_count": 153,
   "id": "3b5d315c-3512-4d2d-96f8-3c68c843ea78",
   "metadata": {},
   "outputs": [
    {
     "data": {
      "text/plain": [
       "True"
      ]
     },
     "execution_count": 153,
     "metadata": {},
     "output_type": "execute_result"
    }
   ],
   "source": [
    "stringWithOnlyDigits.isdigit()"
   ]
  },
  {
   "cell_type": "code",
   "execution_count": 154,
   "id": "74f1a83f-4220-4c0a-af46-7f93b8538081",
   "metadata": {},
   "outputs": [
    {
     "data": {
      "text/plain": [
       "False"
      ]
     },
     "execution_count": 154,
     "metadata": {},
     "output_type": "execute_result"
    }
   ],
   "source": [
    "stringWithDigit.isdigit()"
   ]
  },
  {
   "cell_type": "markdown",
   "id": "982393cf-18a8-462c-87e0-136616215580",
   "metadata": {},
   "source": [
    "39. Check if a string contains only alphabets."
   ]
  },
  {
   "cell_type": "code",
   "execution_count": 157,
   "id": "1677a8da-bd00-47a8-bf81-eac2232a0769",
   "metadata": {},
   "outputs": [
    {
     "data": {
      "text/plain": [
       "'alphaonly'"
      ]
     },
     "execution_count": 157,
     "metadata": {},
     "output_type": "execute_result"
    }
   ],
   "source": [
    "stringWithAlphaOnly = \"alphaonly\"\n",
    "stringWithAlphaOnly"
   ]
  },
  {
   "cell_type": "code",
   "execution_count": 158,
   "id": "92c7e0c4-7db8-4fbc-8a92-0a5434c90716",
   "metadata": {},
   "outputs": [
    {
     "data": {
      "text/plain": [
       "True"
      ]
     },
     "execution_count": 158,
     "metadata": {},
     "output_type": "execute_result"
    }
   ],
   "source": [
    "stringWithAlphaOnly.isalpha()"
   ]
  },
  {
   "cell_type": "code",
   "execution_count": 159,
   "id": "7722e43a-c242-488d-a5fe-e2e76efe0e88",
   "metadata": {},
   "outputs": [
    {
     "data": {
      "text/plain": [
       "'alpha but not only'"
      ]
     },
     "execution_count": 159,
     "metadata": {},
     "output_type": "execute_result"
    }
   ],
   "source": [
    "stringWithAlpha = \"alpha but not only\"\n",
    "stringWithAlpha"
   ]
  },
  {
   "cell_type": "code",
   "execution_count": 160,
   "id": "9fe2be5d-114d-49ad-9f4c-0886bf5d26b3",
   "metadata": {},
   "outputs": [
    {
     "data": {
      "text/plain": [
       "False"
      ]
     },
     "execution_count": 160,
     "metadata": {},
     "output_type": "execute_result"
    }
   ],
   "source": [
    "stringWithAlpha.isalpha()"
   ]
  },
  {
   "cell_type": "markdown",
   "id": "605267b5-6eac-4c1c-9049-e54ff005fe25",
   "metadata": {},
   "source": [
    "40. Convert a string to a list of characters."
   ]
  },
  {
   "cell_type": "code",
   "execution_count": 161,
   "id": "8073ea72-d1df-493b-8566-9569d971db18",
   "metadata": {},
   "outputs": [
    {
     "data": {
      "text/plain": [
       "'aeiou'"
      ]
     },
     "execution_count": 161,
     "metadata": {},
     "output_type": "execute_result"
    }
   ],
   "source": [
    "stringOfChar = \"aeiou\"\n",
    "stringOfChar"
   ]
  },
  {
   "cell_type": "code",
   "execution_count": 164,
   "id": "cdcf92f0-d31e-480f-97b8-5a12b4815cdd",
   "metadata": {},
   "outputs": [
    {
     "data": {
      "text/plain": [
       "['a', 'e', 'i', 'o', 'u']"
      ]
     },
     "execution_count": 164,
     "metadata": {},
     "output_type": "execute_result"
    }
   ],
   "source": [
    "list(stringOfChar)"
   ]
  },
  {
   "cell_type": "markdown",
   "id": "f2b7e195-a4d4-4fc7-a647-cd8f6e6ad53b",
   "metadata": {},
   "source": [
    "45. Find all unique words in a string."
   ]
  },
  {
   "cell_type": "code",
   "execution_count": 83,
   "id": "58048969-79f1-48ed-8395-5fa525f52e7c",
   "metadata": {},
   "outputs": [
    {
     "data": {
      "text/plain": [
       "'submariane in the iceland, in the super cold atmoshpere'"
      ]
     },
     "execution_count": 83,
     "metadata": {},
     "output_type": "execute_result"
    }
   ],
   "source": [
    "tempStr = 'submariane in the iceland, in the super cold atmoshpere'\n",
    "tempStr"
   ]
  },
  {
   "cell_type": "markdown",
   "id": "35cd61ab-da9e-4767-8471-65d3524754ee",
   "metadata": {},
   "source": [
    "41. Check if two strings are anagrams."
   ]
  },
  {
   "cell_type": "code",
   "execution_count": 170,
   "id": "8c5ba2b3-5161-4ae2-bc4a-0fa65492390a",
   "metadata": {},
   "outputs": [],
   "source": [
    "# An anagram of a string is another string that contains the same characters, only the order of characters can be different"
   ]
  },
  {
   "cell_type": "code",
   "execution_count": 171,
   "id": "ef252e02-d766-439b-8c7b-758bdf00164c",
   "metadata": {},
   "outputs": [
    {
     "data": {
      "text/plain": [
       "'Listen'"
      ]
     },
     "execution_count": 171,
     "metadata": {},
     "output_type": "execute_result"
    }
   ],
   "source": [
    "str1 = 'Listen'\n",
    "str1"
   ]
  },
  {
   "cell_type": "code",
   "execution_count": 172,
   "id": "aae28ecb-74b0-4963-9645-6d8b1b880e7e",
   "metadata": {},
   "outputs": [
    {
     "data": {
      "text/plain": [
       "'silent'"
      ]
     },
     "execution_count": 172,
     "metadata": {},
     "output_type": "execute_result"
    }
   ],
   "source": [
    "str2 = 'silent'\n",
    "str2"
   ]
  },
  {
   "cell_type": "code",
   "execution_count": 173,
   "id": "f7c9e6ac-4cb1-422b-8aef-0beca67f481b",
   "metadata": {},
   "outputs": [
    {
     "data": {
      "text/plain": [
       "True"
      ]
     },
     "execution_count": 173,
     "metadata": {},
     "output_type": "execute_result"
    }
   ],
   "source": [
    "sorted(str1.lower()) == sorted(str2.lower())"
   ]
  },
  {
   "cell_type": "markdown",
   "id": "1d284e56-fa35-4730-b7bd-0ef5d7529d4b",
   "metadata": {},
   "source": [
    "42. Encode a string using a Caesar cipher."
   ]
  },
  {
   "cell_type": "code",
   "execution_count": 174,
   "id": "a62d4ce0-c457-4977-9a81-e8848a622da1",
   "metadata": {},
   "outputs": [],
   "source": [
    "#  each letter of a given text is replaced by a letter with a fixed number of positions down the alphabet"
   ]
  },
  {
   "cell_type": "code",
   "execution_count": 68,
   "id": "05184bed-db37-4a07-82aa-81affe8c0939",
   "metadata": {},
   "outputs": [],
   "source": [
    "numberToShift = 2"
   ]
  },
  {
   "cell_type": "code",
   "execution_count": 69,
   "id": "d917ae97-6704-4b07-a266-e17b51559ce4",
   "metadata": {},
   "outputs": [],
   "source": [
    "tempStr ='submariane in the iceland, in the super cold atmoshpere!'"
   ]
  },
  {
   "cell_type": "code",
   "execution_count": 70,
   "id": "af1ee555-89e8-4c66-b4fa-6aaba380c946",
   "metadata": {},
   "outputs": [
    {
     "name": "stdout",
     "output_type": "stream",
     "text": [
      "uwdoctkcpg kp vjg kegncpf, kp vjg uwrgt eqnf cvoqujrgtg!\n"
     ]
    }
   ],
   "source": [
    "encodedStr = ''\n",
    "\n",
    "for ch in tempStr:\n",
    "    if ch.isalpha():\n",
    "        if ch.isupper():\n",
    "            start = ord('A') # https://www.w3schools.com/python/ref_func_ord.asp, its to get unicode i.e. numeric defined int number of the 'A' character\n",
    "        else:\n",
    "            start = ord('a')\n",
    "            \n",
    "        shiftedCh = chr((ord(ch) - start + numberToShift)%26 + start) \n",
    "        encodedStr += shiftedCh\n",
    "    else:\n",
    "        encodedStr += ch\n",
    "        \n",
    "print(encodedStr)"
   ]
  },
  {
   "cell_type": "markdown",
   "id": "759c5d4d-6227-48f9-b936-40c454e32075",
   "metadata": {},
   "source": [
    "43. Decode a Caesar cipher encoded string."
   ]
  },
  {
   "cell_type": "code",
   "execution_count": 178,
   "id": "a15a4326-92ef-402f-b24c-095862869766",
   "metadata": {},
   "outputs": [
    {
     "name": "stdout",
     "output_type": "stream",
     "text": [
      "submariane in the iceland, in the super cold atmoshpere!\n"
     ]
    }
   ],
   "source": [
    "decodedStr = ''\n",
    "\n",
    "for ch in encodedStr:\n",
    "    if ch.isalpha():\n",
    "        if ch.isupper():\n",
    "            start = ord('A') # https://www.w3schools.com/python/ref_func_ord.asp, its to get unicode i.e. numeric defined int number of the 'A' character\n",
    "        else:\n",
    "            start = ord('a')\n",
    "            \n",
    "        shiftedCh = chr((ord(ch) - start - numberToShift)%26 + start) \n",
    "        decodedStr += shiftedCh\n",
    "    else:\n",
    "        decodedStr += ch\n",
    "        \n",
    "print(decodedStr)"
   ]
  },
  {
   "cell_type": "markdown",
   "id": "fec76720-361e-459b-b6e2-586a2a59ccf3",
   "metadata": {},
   "source": [
    "44. Find the most frequent word in a string."
   ]
  },
  {
   "cell_type": "code",
   "execution_count": 180,
   "id": "6b37a967-ba6a-4270-98b1-24134f6c2efa",
   "metadata": {},
   "outputs": [
    {
     "data": {
      "text/plain": [
       "'submariane in the iceland, in the super cold atmoshpere!'"
      ]
     },
     "execution_count": 180,
     "metadata": {},
     "output_type": "execute_result"
    }
   ],
   "source": [
    "tempStr"
   ]
  },
  {
   "cell_type": "code",
   "execution_count": 185,
   "id": "e1f01287-6165-49d0-9227-177249c377b8",
   "metadata": {},
   "outputs": [
    {
     "data": {
      "text/plain": [
       "{'atmoshpere!', 'cold', 'iceland,', 'in', 'submariane', 'super', 'the'}"
      ]
     },
     "execution_count": 185,
     "metadata": {},
     "output_type": "execute_result"
    }
   ],
   "source": [
    "tempSet = set(tempStr.split())\n",
    "tempSet"
   ]
  },
  {
   "cell_type": "code",
   "execution_count": 186,
   "id": "fb435eb9-7563-443a-93dd-13b18eee8ef0",
   "metadata": {},
   "outputs": [
    {
     "data": {
      "text/plain": [
       "{'in': 2,\n",
       " 'atmoshpere!': 1,\n",
       " 'the': 2,\n",
       " 'super': 1,\n",
       " 'cold': 1,\n",
       " 'submariane': 1,\n",
       " 'iceland,': 1}"
      ]
     },
     "execution_count": 186,
     "metadata": {},
     "output_type": "execute_result"
    }
   ],
   "source": [
    "frequency_dict = {}\n",
    "\n",
    "for ch in tempSet:\n",
    "    if ch in frequency_dict:\n",
    "        pass\n",
    "    else:\n",
    "        frequency_dict[ch] = tempStr.count(ch)\n",
    "        \n",
    "frequency_dict"
   ]
  },
  {
   "cell_type": "code",
   "execution_count": 187,
   "id": "39e91cfd-efe2-4e55-aab6-7db63d265088",
   "metadata": {},
   "outputs": [
    {
     "data": {
      "text/plain": [
       "'in'"
      ]
     },
     "execution_count": 187,
     "metadata": {},
     "output_type": "execute_result"
    }
   ],
   "source": [
    "mostFrequent = max(frequency_dict, key = frequency_dict.get)\n",
    "mostFrequent"
   ]
  },
  {
   "cell_type": "markdown",
   "id": "ef213891-37b7-420a-b2ef-fecb14013486",
   "metadata": {},
   "source": [
    "45. Find all unique words in a string."
   ]
  },
  {
   "cell_type": "code",
   "execution_count": 190,
   "id": "572fb266-1f14-4eb6-b4ac-66c87553e4e7",
   "metadata": {},
   "outputs": [
    {
     "name": "stdout",
     "output_type": "stream",
     "text": [
      "['atmoshpere!', 'super', 'cold', 'submariane', 'iceland,']\n"
     ]
    }
   ],
   "source": [
    "uniqueWordList = []\n",
    "\n",
    "for item in frequency_dict.keys():\n",
    "    if frequency_dict[item] == 1:\n",
    "        uniqueWordList.append(item)\n",
    "        \n",
    "print(uniqueWordList)"
   ]
  },
  {
   "cell_type": "markdown",
   "id": "095349d2-0ff2-4953-bbe3-8fbdf40123d9",
   "metadata": {},
   "source": [
    "46. Count the number of syllables in a string."
   ]
  },
  {
   "cell_type": "code",
   "execution_count": 191,
   "id": "108f7bbf-91e0-4e2b-afb9-63791e5858c6",
   "metadata": {},
   "outputs": [],
   "source": [
    "# a word or part of a word which contains one vowel sound"
   ]
  },
  {
   "cell_type": "code",
   "execution_count": 200,
   "id": "33784051-a745-43e9-85da-ff1749419a22",
   "metadata": {},
   "outputs": [],
   "source": [
    "vowel_combinations = [\"ai\", \"au\", \"ay\", \"ea\", \"ee\", \"ei\", \"ey\", \"ie\", \"oa\", \"oo\", \"ou\", \"oy\", \"ua\", \"ue\", \"ui\", \"uo\"]\n",
    "vowels = \"aeiouAEIOU\""
   ]
  },
  {
   "cell_type": "code",
   "execution_count": 201,
   "id": "5c83a477-ff10-48a0-8f0a-d3f8baa98f26",
   "metadata": {},
   "outputs": [
    {
     "data": {
      "text/plain": [
       "'submariane in the iceland, in the super cold atmoshpere!'"
      ]
     },
     "execution_count": 201,
     "metadata": {},
     "output_type": "execute_result"
    }
   ],
   "source": [
    "tempStr"
   ]
  },
  {
   "cell_type": "code",
   "execution_count": 202,
   "id": "072e4f5b-8c7a-4262-a7e2-7904ba0998cd",
   "metadata": {},
   "outputs": [
    {
     "data": {
      "text/plain": [
       "['submariane',\n",
       " 'in',\n",
       " 'the',\n",
       " 'iceland,',\n",
       " 'in',\n",
       " 'the',\n",
       " 'super',\n",
       " 'cold',\n",
       " 'atmoshpere!']"
      ]
     },
     "execution_count": 202,
     "metadata": {},
     "output_type": "execute_result"
    }
   ],
   "source": [
    "words = tempStr.split()\n",
    "words"
   ]
  },
  {
   "cell_type": "code",
   "execution_count": 203,
   "id": "352b9947-f43c-48a5-bc9a-45a68c311f8d",
   "metadata": {},
   "outputs": [
    {
     "data": {
      "text/plain": [
       "15"
      ]
     },
     "execution_count": 203,
     "metadata": {},
     "output_type": "execute_result"
    }
   ],
   "source": [
    "syllablesCount = 0\n",
    "\n",
    "for i in words:\n",
    "    prevCh = ''\n",
    "    tempcount = 0\n",
    "    for ch in i:\n",
    "        if ch in vowels:\n",
    "            if prevCh not in vowels:\n",
    "                tempcount += 1\n",
    "        elif ch + prevCh in vowel_combinations:\n",
    "            tempcount += 1\n",
    "        prevCh = ch\n",
    "    # count for words ending in \"e\" or \"es\"\n",
    "    if i.endswith(\"e\") and not i.endswith(\"le\") and len(i) > 1:\n",
    "        tempcount -= 1 \n",
    "    syllablesCount += max(tempcount, 1)\n",
    "    \n",
    "syllablesCount"
   ]
  },
  {
   "cell_type": "markdown",
   "id": "7fdf24e1-e43f-4edb-b48f-4208f4474346",
   "metadata": {},
   "source": [
    "47. Check if a string contains any special characters."
   ]
  },
  {
   "cell_type": "code",
   "execution_count": 72,
   "id": "5f8261bd-1fbd-4a19-9530-a507130df82e",
   "metadata": {},
   "outputs": [],
   "source": [
    "special_characters = \"!\\\"#$%&'()*+,-‑.;\""
   ]
  },
  {
   "cell_type": "code",
   "execution_count": 73,
   "id": "27a6158f-5778-4df0-abd9-5a058d58cf4e",
   "metadata": {},
   "outputs": [],
   "source": [
    "tempStr = \"tocheck, characters are special? or not!\""
   ]
  },
  {
   "cell_type": "code",
   "execution_count": 75,
   "id": "101b53b7-9726-4c56-b927-7dc6a69fe745",
   "metadata": {},
   "outputs": [
    {
     "name": "stdout",
     "output_type": "stream",
     "text": [
      "yes the string have special char\n"
     ]
    }
   ],
   "source": [
    "for i in tempStr:\n",
    "    if i in special_characters:\n",
    "        print(\"yes the string have special char\")\n",
    "        break"
   ]
  },
  {
   "cell_type": "markdown",
   "id": "4c909e3b-d9bf-402f-8c36-acf15d1f36f4",
   "metadata": {},
   "source": [
    "48. Remove the nth word from a string."
   ]
  },
  {
   "cell_type": "code",
   "execution_count": 106,
   "id": "a456def7-2fc6-4df8-a0b4-01f17229b43a",
   "metadata": {},
   "outputs": [],
   "source": [
    "tempStr = \"remove the word\""
   ]
  },
  {
   "cell_type": "code",
   "execution_count": null,
   "id": "eef2a7f6-2404-4aad-af7b-1a81d2256509",
   "metadata": {},
   "outputs": [],
   "source": [
    "# type 1: to remove word, not character"
   ]
  },
  {
   "cell_type": "code",
   "execution_count": 104,
   "id": "3b1aec8d-e176-49c1-863e-c4638f47e98e",
   "metadata": {},
   "outputs": [],
   "source": [
    "n = 1"
   ]
  },
  {
   "cell_type": "code",
   "execution_count": 107,
   "id": "d5a2388a-1de7-470b-9706-056933e50261",
   "metadata": {},
   "outputs": [
    {
     "data": {
      "text/plain": [
       "['remove', 'the', 'word']"
      ]
     },
     "execution_count": 107,
     "metadata": {},
     "output_type": "execute_result"
    }
   ],
   "source": [
    "words = tempStr.split()\n",
    "words"
   ]
  },
  {
   "cell_type": "code",
   "execution_count": 110,
   "id": "cbfb35c6-bf36-4ec1-be17-7edfb5ca05a3",
   "metadata": {},
   "outputs": [
    {
     "data": {
      "text/plain": [
       "'remove word'"
      ]
     },
     "execution_count": 110,
     "metadata": {},
     "output_type": "execute_result"
    }
   ],
   "source": [
    "tempStr = \" \".join(words[:n] + words[n+1:])\n",
    "tempStr"
   ]
  },
  {
   "cell_type": "code",
   "execution_count": 111,
   "id": "a00bc5db-b64b-4bca-be0d-21aa47bc0b4c",
   "metadata": {},
   "outputs": [],
   "source": [
    "n = 5"
   ]
  },
  {
   "cell_type": "code",
   "execution_count": 112,
   "id": "6cd7e9dd-d926-46fd-b074-28fbc28307db",
   "metadata": {},
   "outputs": [
    {
     "data": {
      "text/plain": [
       "'remov word'"
      ]
     },
     "execution_count": 112,
     "metadata": {},
     "output_type": "execute_result"
    }
   ],
   "source": [
    "# type 2: to remove character, not word\n",
    "if n < 0 or n > len(tempStr):\n",
    "    print('position is above length bound')\n",
    "else:\n",
    "    newString = tempStr[:n] + tempStr[n+1:]\n",
    "newString"
   ]
  },
  {
   "cell_type": "markdown",
   "id": "400fa30a-631f-49f2-914c-4b61bed77268",
   "metadata": {},
   "source": [
    "49. Insert a word at the nth position in a string."
   ]
  },
  {
   "cell_type": "code",
   "execution_count": 115,
   "id": "017bf823-d7d2-4a1a-8dca-a59be6aa997e",
   "metadata": {},
   "outputs": [],
   "source": [
    "# type 1: word"
   ]
  },
  {
   "cell_type": "code",
   "execution_count": 133,
   "id": "df7295e0-5b64-4b5a-bc23-f617e213f04a",
   "metadata": {},
   "outputs": [
    {
     "data": {
      "text/plain": [
       "'Hello, world!'"
      ]
     },
     "execution_count": 133,
     "metadata": {},
     "output_type": "execute_result"
    }
   ],
   "source": [
    "original_string = \"Hello, world!\"\n",
    "original_string"
   ]
  },
  {
   "cell_type": "code",
   "execution_count": 134,
   "id": "eaa09f77-9a4c-4b0e-a9f3-48886057b6af",
   "metadata": {},
   "outputs": [],
   "source": [
    "word_to_insert = \"beautiful\"\n",
    "\n",
    "pos = 6"
   ]
  },
  {
   "cell_type": "code",
   "execution_count": 135,
   "id": "a7fd9960-3d38-4eb6-ac56-477eb4bc94ae",
   "metadata": {},
   "outputs": [
    {
     "data": {
      "text/plain": [
       "'Hello,beautiful world!'"
      ]
     },
     "execution_count": 135,
     "metadata": {},
     "output_type": "execute_result"
    }
   ],
   "source": [
    "tempStr = original_string[:pos] + word_to_insert + original_string[pos:]\n",
    "\n",
    "tempStr"
   ]
  },
  {
   "cell_type": "code",
   "execution_count": 136,
   "id": "38e465d6-f611-4540-ac2e-f6bb775d39ad",
   "metadata": {},
   "outputs": [],
   "source": [
    "# type 2: character"
   ]
  },
  {
   "cell_type": "code",
   "execution_count": 137,
   "id": "5d2f38c4-ee40-4f4e-9645-73c83a6b8c08",
   "metadata": {},
   "outputs": [
    {
     "data": {
      "text/plain": [
       "'insertion'"
      ]
     },
     "execution_count": 137,
     "metadata": {},
     "output_type": "execute_result"
    }
   ],
   "source": [
    "tempStr = \"insertion\"\n",
    "tempStr"
   ]
  },
  {
   "cell_type": "code",
   "execution_count": 138,
   "id": "840d5b27-26c7-4c6d-ac56-02df9f34361a",
   "metadata": {},
   "outputs": [],
   "source": [
    "ch = 'a'\n",
    "pos = 3"
   ]
  },
  {
   "cell_type": "code",
   "execution_count": 139,
   "id": "21f5ea0d-7dfc-4a2b-9b7d-062c7178787b",
   "metadata": {},
   "outputs": [
    {
     "data": {
      "text/plain": [
       "'insaertion'"
      ]
     },
     "execution_count": 139,
     "metadata": {},
     "output_type": "execute_result"
    }
   ],
   "source": [
    "if len(tempStr) < pos or pos < 0:\n",
    "    print('incorrect position')\n",
    "else:\n",
    "    # Insert the word at the specified position\n",
    "    new_string = tempStr[:pos] + ch + tempStr[pos:] # created newString as the string object is immutable\n",
    "    \n",
    "new_string"
   ]
  },
  {
   "cell_type": "markdown",
   "id": "0ae4848b-6199-4e72-a409-6d1079dcaf91",
   "metadata": {},
   "source": [
    "50. Convert a CSV string to a list of lists."
   ]
  },
  {
   "cell_type": "code",
   "execution_count": 58,
   "id": "e40a0a32-0c61-4753-831a-f8dce42c1df5",
   "metadata": {},
   "outputs": [
    {
     "data": {
      "text/plain": [
       "'Name,Age,Location\\nAlice,25,New York\\nBob,30,Los Angeles\\nCharlie,22,San Francisco\\n'"
      ]
     },
     "execution_count": 58,
     "metadata": {},
     "output_type": "execute_result"
    }
   ],
   "source": [
    "# Sample CSV string\n",
    "csv_data = \"\"\"Name,Age,Location\n",
    "Alice,25,New York\n",
    "Bob,30,Los Angeles\n",
    "Charlie,22,San Francisco\n",
    "\"\"\"\n",
    "\n",
    "csv_data"
   ]
  },
  {
   "cell_type": "code",
   "execution_count": 59,
   "id": "cc3d2e9d-c975-4371-ac1b-e857d3a1edd5",
   "metadata": {},
   "outputs": [
    {
     "name": "stdout",
     "output_type": "stream",
     "text": [
      "[['Name', 'Age', 'Location'], ['Alice', '25', 'New York'], ['Bob', '30', 'Los Angeles'], ['Charlie', '22', 'San Francisco'], ['']]\n"
     ]
    }
   ],
   "source": [
    "# Split the CSV string into lines\n",
    "csv_lines = csv_data.split('\\n')\n",
    "\n",
    "# Initialize a list to store the rows from the CSV\n",
    "csv_list = []\n",
    "\n",
    "# Iterate through the lines and split each line by commas\n",
    "for line in csv_lines:\n",
    "    csv_list.append(line.split(','))\n",
    "\n",
    "print(csv_list)"
   ]
  },
  {
   "cell_type": "markdown",
   "id": "6293b2fb-feb6-43e2-91f2-b98c8429ed12",
   "metadata": {},
   "source": [
    "50.1. Convert a CSV string to a list of lists."
   ]
  },
  {
   "cell_type": "code",
   "execution_count": 60,
   "id": "11a671e4-133f-4d7a-ac32-d04fbac3a36e",
   "metadata": {},
   "outputs": [
    {
     "data": {
      "text/plain": [
       "['Name,Age,Location',\n",
       " 'Alice,25,New York',\n",
       " 'Bob,30,Los Angeles',\n",
       " 'Charlie,22,San Francisco',\n",
       " '']"
      ]
     },
     "execution_count": 60,
     "metadata": {},
     "output_type": "execute_result"
    }
   ],
   "source": [
    "csv_lines"
   ]
  },
  {
   "cell_type": "code",
   "execution_count": null,
   "id": "0a9dd279-db71-455b-a06f-97812a399ea0",
   "metadata": {},
   "outputs": [],
   "source": []
  },
  {
   "cell_type": "code",
   "execution_count": null,
   "id": "23472bda-6b25-42ae-a4a9-c274924f1f9a",
   "metadata": {},
   "outputs": [],
   "source": []
  },
  {
   "cell_type": "markdown",
   "id": "15a82a42-76d3-49e1-8a17-810b8d3d2e07",
   "metadata": {},
   "source": [
    "TOPIC: List Based Practice Problem "
   ]
  },
  {
   "cell_type": "markdown",
   "id": "c52d86f8-0359-4077-aab7-008ddd5940df",
   "metadata": {},
   "source": [
    "1. Create a list with integers from 1 to 10."
   ]
  },
  {
   "cell_type": "code",
   "execution_count": 144,
   "id": "0291abc9-4ab5-42b6-81bf-c93f9fc5f295",
   "metadata": {},
   "outputs": [
    {
     "data": {
      "text/plain": [
       "[1, 2, 3, 4, 5, 6, 7, 8, 9, 10]"
      ]
     },
     "execution_count": 144,
     "metadata": {},
     "output_type": "execute_result"
    }
   ],
   "source": [
    "tempList = [1,2,3,4,5,6,7,8,9,10]\n",
    "tempList"
   ]
  },
  {
   "cell_type": "markdown",
   "id": "57e7c6e0-956c-4836-9fc1-af45bfc19343",
   "metadata": {},
   "source": [
    "2. Find the length of a list without using the `len()` function."
   ]
  },
  {
   "cell_type": "code",
   "execution_count": 145,
   "id": "bb1292a6-3761-4931-9a69-543611b6d41c",
   "metadata": {},
   "outputs": [
    {
     "name": "stdout",
     "output_type": "stream",
     "text": [
      "10\n"
     ]
    }
   ],
   "source": [
    "listLength = 0\n",
    "\n",
    "for ch in tempList:\n",
    "    listLength += 1\n",
    "    \n",
    "print(listLength)"
   ]
  },
  {
   "cell_type": "markdown",
   "id": "d92c4166-0c9a-4f9c-b42b-a3d1d4592920",
   "metadata": {},
   "source": [
    "3. Append an element to the end of a list."
   ]
  },
  {
   "cell_type": "code",
   "execution_count": 8,
   "id": "5b73fb8f-38c1-4b17-b13e-e10567e49c4d",
   "metadata": {},
   "outputs": [],
   "source": [
    "element = 50"
   ]
  },
  {
   "cell_type": "code",
   "execution_count": 9,
   "id": "916ecca8-5ec7-4cf7-945b-8b59a5dd13a7",
   "metadata": {},
   "outputs": [
    {
     "name": "stdout",
     "output_type": "stream",
     "text": [
      "[1, 2, 3, 4, 5, 6, 7, 8, 9, 10, 50]\n"
     ]
    }
   ],
   "source": [
    "tempList.append(element)\n",
    "\n",
    "print(tempList)"
   ]
  },
  {
   "cell_type": "markdown",
   "id": "76acca86-ed14-44a8-9c93-4e3ab18b2617",
   "metadata": {},
   "source": [
    "4. Insert an element at a specific index in a list."
   ]
  },
  {
   "cell_type": "code",
   "execution_count": 10,
   "id": "9f968259-63f5-4437-a86f-0c08f9513b2a",
   "metadata": {},
   "outputs": [],
   "source": [
    "element = 25"
   ]
  },
  {
   "cell_type": "code",
   "execution_count": 11,
   "id": "b1fab49e-3e76-4fcb-8cea-7d66e6c290f1",
   "metadata": {},
   "outputs": [],
   "source": [
    "index = 4"
   ]
  },
  {
   "cell_type": "code",
   "execution_count": 12,
   "id": "81bba4eb-8e67-4136-8120-dd511f08caea",
   "metadata": {},
   "outputs": [],
   "source": [
    "tempList.insert(index, element)"
   ]
  },
  {
   "cell_type": "code",
   "execution_count": 13,
   "id": "046ed898-e3fc-46cf-a10f-f2df2e35a66f",
   "metadata": {},
   "outputs": [
    {
     "data": {
      "text/plain": [
       "[1, 2, 3, 4, 25, 5, 6, 7, 8, 9, 10, 50]"
      ]
     },
     "execution_count": 13,
     "metadata": {},
     "output_type": "execute_result"
    }
   ],
   "source": [
    "tempList"
   ]
  },
  {
   "cell_type": "markdown",
   "id": "4d3d42b9-616a-4141-9297-0fe3d7903946",
   "metadata": {},
   "source": [
    "5. Remove an element from a list by its value."
   ]
  },
  {
   "cell_type": "code",
   "execution_count": 14,
   "id": "94b20107-0577-4d44-a420-7643012ab667",
   "metadata": {},
   "outputs": [],
   "source": [
    "element = 10"
   ]
  },
  {
   "cell_type": "code",
   "execution_count": 15,
   "id": "cc4ead8d-db6f-4b23-986a-f4bc204d999b",
   "metadata": {},
   "outputs": [],
   "source": [
    "tempList.remove(element)"
   ]
  },
  {
   "cell_type": "code",
   "execution_count": 16,
   "id": "a83916a9-4767-4916-b43e-b1d9b4d5348f",
   "metadata": {},
   "outputs": [
    {
     "data": {
      "text/plain": [
       "[1, 2, 3, 4, 25, 5, 6, 7, 8, 9, 50]"
      ]
     },
     "execution_count": 16,
     "metadata": {},
     "output_type": "execute_result"
    }
   ],
   "source": [
    "tempList"
   ]
  },
  {
   "cell_type": "markdown",
   "id": "f7bcae51-1947-4ff0-b010-30b8b0f83c4a",
   "metadata": {},
   "source": [
    "6. Remove an element from a list by its index."
   ]
  },
  {
   "cell_type": "code",
   "execution_count": 17,
   "id": "149d3b8f-6d72-4c8d-932d-2809bdcab293",
   "metadata": {},
   "outputs": [],
   "source": [
    "index = 2"
   ]
  },
  {
   "cell_type": "code",
   "execution_count": 18,
   "id": "fb3e8ca9-1357-44bf-b9ff-c94cce1cc5c3",
   "metadata": {},
   "outputs": [
    {
     "data": {
      "text/plain": [
       "3"
      ]
     },
     "execution_count": 18,
     "metadata": {},
     "output_type": "execute_result"
    }
   ],
   "source": [
    "tempList.pop(index)"
   ]
  },
  {
   "cell_type": "code",
   "execution_count": 19,
   "id": "f3ceffa9-7f5d-4736-8b6d-c6ff64578d89",
   "metadata": {},
   "outputs": [
    {
     "data": {
      "text/plain": [
       "[1, 2, 4, 25, 5, 6, 7, 8, 9, 50]"
      ]
     },
     "execution_count": 19,
     "metadata": {},
     "output_type": "execute_result"
    }
   ],
   "source": [
    "tempList"
   ]
  },
  {
   "cell_type": "markdown",
   "id": "fb439227-5272-4c81-9673-ce3cb744485e",
   "metadata": {},
   "source": [
    "7. Check if an element exists in a list."
   ]
  },
  {
   "cell_type": "code",
   "execution_count": 20,
   "id": "998324dc-70d4-4aa0-a2fa-5f4ee80d6289",
   "metadata": {},
   "outputs": [],
   "source": [
    "element = 5"
   ]
  },
  {
   "cell_type": "code",
   "execution_count": 21,
   "id": "bef3145e-6468-46db-9c15-6ada3ea41de4",
   "metadata": {},
   "outputs": [
    {
     "name": "stdout",
     "output_type": "stream",
     "text": [
      "True\n"
     ]
    }
   ],
   "source": [
    "check = False\n",
    "\n",
    "for ele in tempList: # using loop\n",
    "    if ele == element:\n",
    "        check = True\n",
    "        break\n",
    "        \n",
    "print(check)"
   ]
  },
  {
   "cell_type": "code",
   "execution_count": 22,
   "id": "a570929b-de7f-4d97-bc29-ac1c12f1368c",
   "metadata": {},
   "outputs": [
    {
     "name": "stdout",
     "output_type": "stream",
     "text": [
      "True\n"
     ]
    }
   ],
   "source": [
    "check = element in tempList\n",
    "        \n",
    "print(check)"
   ]
  },
  {
   "cell_type": "markdown",
   "id": "37d2d0e2-fdd1-4b13-9566-17ca28a52e39",
   "metadata": {},
   "source": [
    "8. Find the index of the first occurrence of an element in a list."
   ]
  },
  {
   "cell_type": "code",
   "execution_count": 23,
   "id": "5ea24171-1aaa-4fbd-b009-2c07549c9c82",
   "metadata": {},
   "outputs": [
    {
     "data": {
      "text/plain": [
       "[1, 2, 4, 25, 5, 6, 7, 8, 9, 50]"
      ]
     },
     "execution_count": 23,
     "metadata": {},
     "output_type": "execute_result"
    }
   ],
   "source": [
    "tempList"
   ]
  },
  {
   "cell_type": "code",
   "execution_count": 24,
   "id": "c435725d-51ff-437c-ba24-a711d360c193",
   "metadata": {},
   "outputs": [
    {
     "data": {
      "text/plain": [
       "[1, 2, 4, 25, 5, 6, 7, 8, 9, 50, 4]"
      ]
     },
     "execution_count": 24,
     "metadata": {},
     "output_type": "execute_result"
    }
   ],
   "source": [
    "tempList.append(4)\n",
    "\n",
    "tempList"
   ]
  },
  {
   "cell_type": "code",
   "execution_count": 25,
   "id": "71f3d759-fdc0-4cfa-a89c-d93ba3135794",
   "metadata": {},
   "outputs": [],
   "source": [
    "element = 4"
   ]
  },
  {
   "cell_type": "code",
   "execution_count": 26,
   "id": "5208e69d-c5de-43fe-9cee-7ed5486955c0",
   "metadata": {},
   "outputs": [
    {
     "name": "stdout",
     "output_type": "stream",
     "text": [
      "2\n"
     ]
    }
   ],
   "source": [
    "if element in tempList:\n",
    "    index = tempList.index(element)\n",
    "    print(index)\n",
    "    \n",
    "else:\n",
    "    print(\"element not found\")"
   ]
  },
  {
   "cell_type": "markdown",
   "id": "312747de-9042-463a-b651-68bf142a8d56",
   "metadata": {},
   "source": [
    "9. Count the occurrences of an element in a list."
   ]
  },
  {
   "cell_type": "code",
   "execution_count": 27,
   "id": "81494976-f8d6-4299-a3a2-d00d9bf7cdb8",
   "metadata": {},
   "outputs": [
    {
     "data": {
      "text/plain": [
       "4"
      ]
     },
     "execution_count": 27,
     "metadata": {},
     "output_type": "execute_result"
    }
   ],
   "source": [
    "element"
   ]
  },
  {
   "cell_type": "code",
   "execution_count": 28,
   "id": "3fd77d51-372b-4bde-bd95-f21b890cc937",
   "metadata": {},
   "outputs": [
    {
     "data": {
      "text/plain": [
       "2"
      ]
     },
     "execution_count": 28,
     "metadata": {},
     "output_type": "execute_result"
    }
   ],
   "source": [
    "tempList.count(element)"
   ]
  },
  {
   "cell_type": "markdown",
   "id": "05f63f33-6e06-413d-a6b9-47a928839faf",
   "metadata": {},
   "source": [
    "10. Reverse the order of elements in a list."
   ]
  },
  {
   "cell_type": "code",
   "execution_count": 36,
   "id": "f3fce12b-0903-4985-9a8a-930d7bca76ae",
   "metadata": {},
   "outputs": [
    {
     "data": {
      "text/plain": [
       "[4, 50, 9, 8, 7, 6, 5, 25, 4, 2, 1]"
      ]
     },
     "execution_count": 36,
     "metadata": {},
     "output_type": "execute_result"
    }
   ],
   "source": [
    "revList = tempList[::-1]\n",
    "revList"
   ]
  },
  {
   "cell_type": "markdown",
   "id": "5b2273aa-a820-48e6-9a8d-31423e1fdd3d",
   "metadata": {},
   "source": [
    "11. Sort a list in ascending order."
   ]
  },
  {
   "cell_type": "code",
   "execution_count": 37,
   "id": "8c69d850-1da5-4cf8-ac04-28b95c7e93d8",
   "metadata": {},
   "outputs": [
    {
     "data": {
      "text/plain": [
       "[4, 50, 9, 8, 7, 6, 5, 25, 4, 2, 1]"
      ]
     },
     "execution_count": 37,
     "metadata": {},
     "output_type": "execute_result"
    }
   ],
   "source": [
    "revList"
   ]
  },
  {
   "cell_type": "code",
   "execution_count": 38,
   "id": "a72e6119-6304-4f93-9fc3-2312e94d415c",
   "metadata": {},
   "outputs": [],
   "source": [
    "revList.sort(reverse=False)\n"
   ]
  },
  {
   "cell_type": "code",
   "execution_count": 39,
   "id": "31354cb5-527d-4d7c-9477-907ab222e4db",
   "metadata": {},
   "outputs": [
    {
     "data": {
      "text/plain": [
       "[1, 2, 4, 4, 5, 6, 7, 8, 9, 25, 50]"
      ]
     },
     "execution_count": 39,
     "metadata": {},
     "output_type": "execute_result"
    }
   ],
   "source": [
    "revList"
   ]
  },
  {
   "cell_type": "markdown",
   "id": "2c0fdff5-52e5-4acb-bfc7-90c4584f9d41",
   "metadata": {},
   "source": [
    "12. Sort a list in descending order."
   ]
  },
  {
   "cell_type": "code",
   "execution_count": 40,
   "id": "43bad5dc-6be2-436f-91e4-d296f5223af3",
   "metadata": {},
   "outputs": [
    {
     "data": {
      "text/plain": [
       "[50, 25, 9, 8, 7, 6, 5, 4, 4, 2, 1]"
      ]
     },
     "execution_count": 40,
     "metadata": {},
     "output_type": "execute_result"
    }
   ],
   "source": [
    "revList.sort(reverse= True)\n",
    "\n",
    "revList"
   ]
  },
  {
   "cell_type": "markdown",
   "id": "17f2021a-0136-4f6a-a8bb-25c0860f7863",
   "metadata": {},
   "source": [
    "13. Create a list of even numbers from 1 to 20."
   ]
  },
  {
   "cell_type": "code",
   "execution_count": 41,
   "id": "2191bbdf-726d-4634-80dd-bdb86ed425ca",
   "metadata": {},
   "outputs": [
    {
     "data": {
      "text/plain": [
       "[2, 4, 6, 8, 10, 12, 14, 16, 18, 20]"
      ]
     },
     "execution_count": 41,
     "metadata": {},
     "output_type": "execute_result"
    }
   ],
   "source": [
    "evenList = [x for x in range(1, 21) if x % 2 == 0]\n",
    "\n",
    "evenList"
   ]
  },
  {
   "cell_type": "markdown",
   "id": "2c964228-c528-422e-9400-f4497a28178a",
   "metadata": {},
   "source": [
    "14. Create a list of odd numbers from 1 to 20."
   ]
  },
  {
   "cell_type": "code",
   "execution_count": 42,
   "id": "b8eb0881-890d-467e-9ecb-0e01005a1cad",
   "metadata": {},
   "outputs": [],
   "source": [
    "oddList = [x for x in range(1, 21) if x %2 ==1 ]"
   ]
  },
  {
   "cell_type": "code",
   "execution_count": 43,
   "id": "9848e305-3ef9-4a4c-923a-a35f781f9c9a",
   "metadata": {},
   "outputs": [
    {
     "data": {
      "text/plain": [
       "[1, 3, 5, 7, 9, 11, 13, 15, 17, 19]"
      ]
     },
     "execution_count": 43,
     "metadata": {},
     "output_type": "execute_result"
    }
   ],
   "source": [
    "oddList"
   ]
  },
  {
   "cell_type": "markdown",
   "id": "94bbb679-0bcf-4e01-bbfe-c01247f0d6f8",
   "metadata": {},
   "source": [
    "15. Find the sum of all elements in a list."
   ]
  },
  {
   "cell_type": "code",
   "execution_count": 47,
   "id": "6585999f-3a6b-4643-aa7b-6f7b0ddd6746",
   "metadata": {},
   "outputs": [
    {
     "data": {
      "text/plain": [
       "[1, 2, 4, 25, 5, 6, 7, 8, 9, 50, 4]"
      ]
     },
     "execution_count": 47,
     "metadata": {},
     "output_type": "execute_result"
    }
   ],
   "source": [
    "tempList"
   ]
  },
  {
   "cell_type": "code",
   "execution_count": 48,
   "id": "466f59fb-7bf5-473c-8a03-75768bb6d967",
   "metadata": {},
   "outputs": [
    {
     "data": {
      "text/plain": [
       "121"
      ]
     },
     "execution_count": 48,
     "metadata": {},
     "output_type": "execute_result"
    }
   ],
   "source": [
    "sum(tempList)"
   ]
  },
  {
   "cell_type": "markdown",
   "id": "46252824-d943-43a2-844e-495b834f4be3",
   "metadata": {},
   "source": [
    "16. Find the maximum value in a list."
   ]
  },
  {
   "cell_type": "code",
   "execution_count": null,
   "id": "62635600-beac-4c6e-9046-80711edfce55",
   "metadata": {},
   "outputs": [
    {
     "data": {
      "text/plain": [
       "50"
      ]
     },
     "execution_count": 49,
     "metadata": {},
     "output_type": "execute_result"
    }
   ],
   "source": [
    "max(tempList)"
   ]
  },
  {
   "cell_type": "markdown",
   "id": "1b97d843-3e4e-4d73-88f3-49b68a1ecf48",
   "metadata": {},
   "source": [
    "17. Find the minimum value in a list."
   ]
  },
  {
   "cell_type": "code",
   "execution_count": 50,
   "id": "b506fb01-e1e3-4ef0-aa07-94caf475ea4e",
   "metadata": {},
   "outputs": [
    {
     "data": {
      "text/plain": [
       "1"
      ]
     },
     "execution_count": 50,
     "metadata": {},
     "output_type": "execute_result"
    }
   ],
   "source": [
    "min(tempList)"
   ]
  },
  {
   "cell_type": "markdown",
   "id": "ead924a1-cd2e-49cf-9bdf-e30344875fe1",
   "metadata": {},
   "source": [
    "18. Create a list of squares of numbers from 1 to 10.|"
   ]
  },
  {
   "cell_type": "code",
   "execution_count": 51,
   "id": "1e0b1be6-106f-458e-b17e-1859ba0cfb4f",
   "metadata": {},
   "outputs": [],
   "source": [
    "squaredList = [x**2 for x in range(1,11)]"
   ]
  },
  {
   "cell_type": "code",
   "execution_count": 52,
   "id": "3019f3c2-48e1-4a37-a3f6-2a73be4b159a",
   "metadata": {},
   "outputs": [
    {
     "data": {
      "text/plain": [
       "[1, 4, 9, 16, 25, 36, 49, 64, 81, 100]"
      ]
     },
     "execution_count": 52,
     "metadata": {},
     "output_type": "execute_result"
    }
   ],
   "source": [
    "squaredList"
   ]
  },
  {
   "cell_type": "markdown",
   "id": "1e350eb1-53be-49e5-ab8c-7cbfa8a9299e",
   "metadata": {},
   "source": [
    "19. Create a list of random numbers."
   ]
  },
  {
   "cell_type": "code",
   "execution_count": 60,
   "id": "221c151c-4602-47b3-98b7-70de16cb6cf2",
   "metadata": {},
   "outputs": [],
   "source": [
    "import random # importing random "
   ]
  },
  {
   "cell_type": "code",
   "execution_count": 61,
   "id": "38e2dcfc-5538-4c00-98c4-e6f98f7d0cc7",
   "metadata": {},
   "outputs": [],
   "source": [
    "startNum = 1"
   ]
  },
  {
   "cell_type": "code",
   "execution_count": 62,
   "id": "a3fa6e0d-79d7-43c9-a1d0-9c042c672ca0",
   "metadata": {},
   "outputs": [],
   "source": [
    "endRange = 100"
   ]
  },
  {
   "cell_type": "code",
   "execution_count": 63,
   "id": "9474572b-4fd1-4df9-b106-ec07476551db",
   "metadata": {},
   "outputs": [],
   "source": [
    "listLen = 10"
   ]
  },
  {
   "cell_type": "code",
   "execution_count": 64,
   "id": "5d48fffb-9a3b-49c0-8561-be6bdc8f9c17",
   "metadata": {},
   "outputs": [],
   "source": [
    "random_numbers = [random.randint(startNum, endRange) for _ in range(listLen)]"
   ]
  },
  {
   "cell_type": "code",
   "execution_count": 65,
   "id": "1a2a7988-7fed-41e3-8eaf-c8ca441f3091",
   "metadata": {},
   "outputs": [
    {
     "data": {
      "text/plain": [
       "[38, 54, 13, 65, 5, 14, 98, 45, 32, 19]"
      ]
     },
     "execution_count": 65,
     "metadata": {},
     "output_type": "execute_result"
    }
   ],
   "source": [
    "random_numbers"
   ]
  },
  {
   "cell_type": "markdown",
   "id": "c5578857-6236-436b-9ee8-30d973c32525",
   "metadata": {},
   "source": [
    "20. Remove duplicates from a list."
   ]
  },
  {
   "cell_type": "code",
   "execution_count": 67,
   "id": "7c50e9ac-0175-41b7-982b-929cc0a05517",
   "metadata": {},
   "outputs": [
    {
     "data": {
      "text/plain": [
       "[1, 2, 2, 2, 5, 7]"
      ]
     },
     "execution_count": 67,
     "metadata": {},
     "output_type": "execute_result"
    }
   ],
   "source": [
    "tempList = [1,2,2,2,5,7]\n",
    "\n",
    "tempList"
   ]
  },
  {
   "cell_type": "code",
   "execution_count": 68,
   "id": "bdf19d49-6618-46a3-a20e-91c998e9cbda",
   "metadata": {},
   "outputs": [
    {
     "data": {
      "text/plain": [
       "{1, 2, 5, 7}"
      ]
     },
     "execution_count": 68,
     "metadata": {},
     "output_type": "execute_result"
    }
   ],
   "source": [
    "tempSet = set(tempList)\n",
    "\n",
    "tempSet"
   ]
  },
  {
   "cell_type": "code",
   "execution_count": 69,
   "id": "a3a2b407-6685-4466-b08d-ad2f5d66b04e",
   "metadata": {},
   "outputs": [
    {
     "data": {
      "text/plain": [
       "[1, 2, 5, 7]"
      ]
     },
     "execution_count": 69,
     "metadata": {},
     "output_type": "execute_result"
    }
   ],
   "source": [
    "tempList = list(tempSet)\n",
    "\n",
    "tempList"
   ]
  },
  {
   "cell_type": "markdown",
   "id": "b4683f3f-10a3-430a-9865-fcfdb95184a0",
   "metadata": {},
   "source": [
    "21. Find the common elements between two lists."
   ]
  },
  {
   "cell_type": "code",
   "execution_count": 70,
   "id": "41d461e8-93a6-405e-a3f8-3a2e20c5b826",
   "metadata": {},
   "outputs": [],
   "source": [
    "tempList1 = [1,3,3,5]\n",
    "tempList2 = [2,3,5]"
   ]
  },
  {
   "cell_type": "code",
   "execution_count": 72,
   "id": "15ba3d88-bf8e-472c-95f4-7a2c6f74ae65",
   "metadata": {},
   "outputs": [
    {
     "data": {
      "text/plain": [
       "[3, 5]"
      ]
     },
     "execution_count": 72,
     "metadata": {},
     "output_type": "execute_result"
    }
   ],
   "source": [
    "commonList = [x for x in set(tempList1) if x in tempList2]\n",
    "\n",
    "commonList"
   ]
  },
  {
   "cell_type": "markdown",
   "id": "9ab05e67-0532-4d69-9a90-31878143d51e",
   "metadata": {},
   "source": [
    "22. Find the difference between two lists."
   ]
  },
  {
   "cell_type": "code",
   "execution_count": 79,
   "id": "ae6278b9-6712-41d7-b2d9-5f4f5ea36007",
   "metadata": {},
   "outputs": [],
   "source": [
    "list1 = [1, 2, 3, 4, 5, 5]\n",
    "list2 = [3, 4, 5, 6, 7]"
   ]
  },
  {
   "cell_type": "code",
   "execution_count": 80,
   "id": "9b2ef8eb-7884-4867-81cf-064b3d6665f1",
   "metadata": {},
   "outputs": [],
   "source": [
    "difference = [x for x in list1 if x not in list2]"
   ]
  },
  {
   "cell_type": "code",
   "execution_count": 81,
   "id": "f4c8dd80-39d8-4ec1-b8a7-80b5f6be43bf",
   "metadata": {},
   "outputs": [
    {
     "data": {
      "text/plain": [
       "[1, 2]"
      ]
     },
     "execution_count": 81,
     "metadata": {},
     "output_type": "execute_result"
    }
   ],
   "source": [
    "difference"
   ]
  },
  {
   "cell_type": "markdown",
   "id": "10c76628-8725-4dde-ba7e-4f1a270762f8",
   "metadata": {},
   "source": [
    "23. Merge two lists."
   ]
  },
  {
   "cell_type": "code",
   "execution_count": 82,
   "id": "2be5fbf6-257f-4466-b06a-9e5456506f97",
   "metadata": {},
   "outputs": [],
   "source": [
    "mergedList = list1 + list2"
   ]
  },
  {
   "cell_type": "code",
   "execution_count": 83,
   "id": "561bc4b6-2ee8-40ea-9ca9-935681a8a774",
   "metadata": {},
   "outputs": [
    {
     "data": {
      "text/plain": [
       "[1, 2, 3, 4, 5, 5, 3, 4, 5, 6, 7]"
      ]
     },
     "execution_count": 83,
     "metadata": {},
     "output_type": "execute_result"
    }
   ],
   "source": [
    "mergedList"
   ]
  },
  {
   "cell_type": "markdown",
   "id": "3ef46bd3-4351-451d-b8f2-124084b7e70c",
   "metadata": {},
   "source": [
    "24. Multiply all elements in a list by 2."
   ]
  },
  {
   "cell_type": "code",
   "execution_count": 94,
   "id": "92d8714b-2bc6-4276-9017-5965b09bf023",
   "metadata": {},
   "outputs": [
    {
     "data": {
      "text/plain": [
       "[1, 2, 3, 4, 5, 5]"
      ]
     },
     "execution_count": 94,
     "metadata": {},
     "output_type": "execute_result"
    }
   ],
   "source": [
    "list1"
   ]
  },
  {
   "cell_type": "code",
   "execution_count": 95,
   "id": "eb167f60-daed-4cd9-9a37-5093a6f09a5d",
   "metadata": {},
   "outputs": [],
   "source": [
    "tempList = [x*2 for x in list1]"
   ]
  },
  {
   "cell_type": "code",
   "execution_count": 96,
   "id": "62396f3f-8966-4d0c-aec9-082703e088b5",
   "metadata": {},
   "outputs": [
    {
     "data": {
      "text/plain": [
       "[2, 4, 6, 8, 10, 10]"
      ]
     },
     "execution_count": 96,
     "metadata": {},
     "output_type": "execute_result"
    }
   ],
   "source": [
    "tempList"
   ]
  },
  {
   "cell_type": "markdown",
   "id": "617ab160-c3f7-4f21-a3d2-7c292d0cad12",
   "metadata": {},
   "source": [
    "25. Filter out all even numbers from a list."
   ]
  },
  {
   "cell_type": "code",
   "execution_count": 97,
   "id": "eeabfe8d-47cf-4e37-a498-8aaa3064b92f",
   "metadata": {},
   "outputs": [],
   "source": [
    "filteredList = [x for x in tempList if x%2 != 0]"
   ]
  },
  {
   "cell_type": "code",
   "execution_count": 98,
   "id": "ca409b77-4e00-43bb-a1a0-54ceb733b974",
   "metadata": {},
   "outputs": [
    {
     "data": {
      "text/plain": [
       "[]"
      ]
     },
     "execution_count": 98,
     "metadata": {},
     "output_type": "execute_result"
    }
   ],
   "source": [
    "filteredList"
   ]
  },
  {
   "cell_type": "markdown",
   "id": "46f5ddde-8c3b-494a-9476-e30f2abf0b19",
   "metadata": {},
   "source": [
    "26. Convert a list of strings to a list of integers."
   ]
  },
  {
   "cell_type": "code",
   "execution_count": 99,
   "id": "709ec7e1-9e2d-4c34-89b4-94f13d78baca",
   "metadata": {},
   "outputs": [
    {
     "data": {
      "text/plain": [
       "['1', '2']"
      ]
     },
     "execution_count": 99,
     "metadata": {},
     "output_type": "execute_result"
    }
   ],
   "source": [
    "strList = [\"1\", \"2\"]\n",
    "\n",
    "strList"
   ]
  },
  {
   "cell_type": "code",
   "execution_count": 101,
   "id": "a467c98d-80bb-443e-b36f-5c2001fb6364",
   "metadata": {},
   "outputs": [],
   "source": [
    "tempList = [int(x) for x in strList]"
   ]
  },
  {
   "cell_type": "code",
   "execution_count": 102,
   "id": "2eec1afe-4fe4-4a45-861f-feebdf91d920",
   "metadata": {},
   "outputs": [
    {
     "data": {
      "text/plain": [
       "[1, 2]"
      ]
     },
     "execution_count": 102,
     "metadata": {},
     "output_type": "execute_result"
    }
   ],
   "source": [
    "tempList"
   ]
  },
  {
   "cell_type": "markdown",
   "id": "7bb3ba80-955d-4e45-978a-e394f5608e48",
   "metadata": {},
   "source": [
    "27. Convert a list of integers to a list of strings."
   ]
  },
  {
   "cell_type": "code",
   "execution_count": 103,
   "id": "dce5ee1e-07c9-4a89-bdf0-854b481af5ad",
   "metadata": {},
   "outputs": [
    {
     "data": {
      "text/plain": [
       "[1, 2]"
      ]
     },
     "execution_count": 103,
     "metadata": {},
     "output_type": "execute_result"
    }
   ],
   "source": [
    "tempList"
   ]
  },
  {
   "cell_type": "code",
   "execution_count": 104,
   "id": "d5d22321-043b-4bae-8e67-2af0e293494c",
   "metadata": {},
   "outputs": [],
   "source": [
    "tempList = [str(x) for x in strList]"
   ]
  },
  {
   "cell_type": "code",
   "execution_count": 105,
   "id": "128c52bf-80f7-4350-99da-21a75013671c",
   "metadata": {},
   "outputs": [
    {
     "data": {
      "text/plain": [
       "['1', '2']"
      ]
     },
     "execution_count": 105,
     "metadata": {},
     "output_type": "execute_result"
    }
   ],
   "source": [
    "tempList"
   ]
  },
  {
   "cell_type": "markdown",
   "id": "29546dbf-359f-4e8c-bd62-919044b5bb5b",
   "metadata": {},
   "source": [
    "28. Flatten a nested list."
   ]
  },
  {
   "cell_type": "code",
   "execution_count": 106,
   "id": "3b5972fb-14e3-419e-b084-6ad6742c6014",
   "metadata": {},
   "outputs": [],
   "source": [
    "nested_list = [1, [2, 3], [4, [5, 6]], 7]"
   ]
  },
  {
   "cell_type": "code",
   "execution_count": 107,
   "id": "f064e2d4-a992-4225-bee5-00bb01ffe59b",
   "metadata": {},
   "outputs": [
    {
     "name": "stdout",
     "output_type": "stream",
     "text": [
      "[1, 7, 2, 3, 4, 5, 6]\n"
     ]
    }
   ],
   "source": [
    "flat_list = []\n",
    "\n",
    "# starting variable\n",
    "i = 0\n",
    "while i < len(nested_list):\n",
    "    if type(nested_list[i]) == list:\n",
    "        # If the element is a list, extend the current list with its elements\n",
    "        nested_list.extend(nested_list[i])\n",
    "    else:\n",
    "        # If the element is not a list, add it to the flat list\n",
    "        flat_list.append(nested_list[i])\n",
    "    i += 1\n",
    "\n",
    "print(flat_list)"
   ]
  },
  {
   "cell_type": "markdown",
   "id": "54e0a46d-68b8-45e4-ab29-fb44ceef786d",
   "metadata": {},
   "source": [
    "29. Create a list of the first 10 Fibonacci numbers."
   ]
  },
  {
   "cell_type": "code",
   "execution_count": 108,
   "id": "14345617-a29f-436c-8c91-85ee0a3352d1",
   "metadata": {},
   "outputs": [
    {
     "name": "stdout",
     "output_type": "stream",
     "text": [
      "[0, 1, 1, 2, 3, 5, 8, 13, 21, 34]\n"
     ]
    }
   ],
   "source": [
    "# init the list of first two variables\n",
    "\n",
    "fibList = [0,1]\n",
    "\n",
    "while len(fibList) <10:\n",
    "    nextFib = fibList[-1] + fibList[-2]\n",
    "    fibList.append(nextFib)\n",
    "    \n",
    "print(fibList)"
   ]
  },
  {
   "cell_type": "markdown",
   "id": "1f298d56-4ed9-4ec5-85d2-f72d3f1d6a59",
   "metadata": {},
   "source": [
    "30. Check if a list is sorted."
   ]
  },
  {
   "cell_type": "code",
   "execution_count": 112,
   "id": "83cfd811-6d9c-44c3-8f0d-bd644646602b",
   "metadata": {},
   "outputs": [
    {
     "data": {
      "text/plain": [
       "[0, 1, 1, 2, 3, 5, 8, 13, 21, 34]"
      ]
     },
     "execution_count": 112,
     "metadata": {},
     "output_type": "execute_result"
    }
   ],
   "source": [
    "tempList = fibList\n",
    "\n",
    "tempList"
   ]
  },
  {
   "cell_type": "code",
   "execution_count": 115,
   "id": "29e1b2d0-bd60-4383-a255-70e86bf36295",
   "metadata": {},
   "outputs": [],
   "source": [
    "sortedList = sorted(tempList)"
   ]
  },
  {
   "cell_type": "code",
   "execution_count": 116,
   "id": "28d8183e-f13b-4b92-b20c-9495f6db2eb1",
   "metadata": {},
   "outputs": [
    {
     "data": {
      "text/plain": [
       "[0, 1, 1, 2, 3, 5, 8, 13, 21, 34]"
      ]
     },
     "execution_count": 116,
     "metadata": {},
     "output_type": "execute_result"
    }
   ],
   "source": [
    "sortedList"
   ]
  },
  {
   "cell_type": "code",
   "execution_count": 117,
   "id": "74ae943c-1b9f-40a4-bb95-a15abf7681a2",
   "metadata": {},
   "outputs": [
    {
     "data": {
      "text/plain": [
       "True"
      ]
     },
     "execution_count": 117,
     "metadata": {},
     "output_type": "execute_result"
    }
   ],
   "source": [
    "sortedList == tempList"
   ]
  },
  {
   "cell_type": "markdown",
   "id": "f965e5f5-83bf-4211-8802-f18b9800c7e3",
   "metadata": {},
   "source": [
    "31. Rotate a list to the left by `n` positions."
   ]
  },
  {
   "cell_type": "code",
   "execution_count": 118,
   "id": "6bdccd4d-48c3-41b4-a34b-57cf868179ab",
   "metadata": {},
   "outputs": [
    {
     "data": {
      "text/plain": [
       "[0, 1, 1, 2, 3, 5, 8, 13, 21, 34]"
      ]
     },
     "execution_count": 118,
     "metadata": {},
     "output_type": "execute_result"
    }
   ],
   "source": [
    "tempList"
   ]
  },
  {
   "cell_type": "code",
   "execution_count": 119,
   "id": "e79ffea8-1ad6-48c7-877d-1ecdbb9f52af",
   "metadata": {},
   "outputs": [],
   "source": [
    "nPos = 4"
   ]
  },
  {
   "cell_type": "code",
   "execution_count": 121,
   "id": "9d7477ce-2286-4bdd-938f-7a0b6ca7fe35",
   "metadata": {},
   "outputs": [
    {
     "data": {
      "text/plain": [
       "[3, 5, 8, 13, 21, 34, 0, 1, 1, 2]"
      ]
     },
     "execution_count": 121,
     "metadata": {},
     "output_type": "execute_result"
    }
   ],
   "source": [
    "nPos = nPos % len(tempList) # to make it sure the n should be in range below the lenght of list\n",
    "\n",
    "rotList = tempList[nPos:] + tempList[:nPos]\n",
    "\n",
    "rotList"
   ]
  },
  {
   "cell_type": "markdown",
   "id": "f4675d04-9d4c-451e-94ce-e3ccb540a227",
   "metadata": {},
   "source": [
    "32. Rotate a list to the right by `n` positions."
   ]
  },
  {
   "cell_type": "code",
   "execution_count": 122,
   "id": "2a0295e2-d138-4e90-a73c-10c6505a9ace",
   "metadata": {},
   "outputs": [
    {
     "data": {
      "text/plain": [
       "[0, 1, 1, 2, 3, 5, 8, 13, 21, 34]"
      ]
     },
     "execution_count": 122,
     "metadata": {},
     "output_type": "execute_result"
    }
   ],
   "source": [
    "nPos = nPos % len(tempList) # to make it sure the n should be in range below the lenght of list\n",
    "\n",
    "rotList = tempList[:nPos] + tempList[nPos:]\n",
    "\n",
    "rotList"
   ]
  },
  {
   "cell_type": "markdown",
   "id": "62f2229f-96f0-44bf-a1ab-58d7fd554398",
   "metadata": {},
   "source": [
    "33. Create a list of prime numbers up to 50."
   ]
  },
  {
   "cell_type": "code",
   "execution_count": 125,
   "id": "9468647e-d1f6-461b-a2e5-880a25091595",
   "metadata": {},
   "outputs": [
    {
     "name": "stdout",
     "output_type": "stream",
     "text": [
      "[2, 3, 5, 7, 11, 13, 17, 19, 23, 29, 31, 37, 41, 43, 47]\n"
     ]
    }
   ],
   "source": [
    "prime_numbers = []\n",
    "\n",
    "for num in range(2, 51):\n",
    "    is_prime = True\n",
    "    for divisor in range(2, int(num ** 0.5) + 1):\n",
    "        if num % divisor == 0:\n",
    "            is_prime = False\n",
    "            break\n",
    "    if is_prime:\n",
    "        prime_numbers.append(num)\n",
    "\n",
    "print(prime_numbers)"
   ]
  },
  {
   "cell_type": "markdown",
   "id": "b3fc4588-32d1-4e31-9742-7cb3ee66e2e6",
   "metadata": {},
   "source": [
    "34. Split a list into chunks of size `n`."
   ]
  },
  {
   "cell_type": "code",
   "execution_count": 126,
   "id": "934a378e-efca-441a-9786-99537db2f3be",
   "metadata": {},
   "outputs": [],
   "source": [
    "tempList = prime_numbers"
   ]
  },
  {
   "cell_type": "code",
   "execution_count": 127,
   "id": "eb5eacc0-ffa6-4b00-8e53-535785089eb8",
   "metadata": {},
   "outputs": [],
   "source": [
    "chunk = 5"
   ]
  },
  {
   "cell_type": "code",
   "execution_count": 130,
   "id": "90165fbe-65a0-4a4b-b3db-c626c0c346f5",
   "metadata": {},
   "outputs": [],
   "source": [
    "chunkedList = [tempList[i:i + chunk] for i in range(0, len(tempList), chunk)]"
   ]
  },
  {
   "cell_type": "code",
   "execution_count": 131,
   "id": "66dcf1ff-0a09-474b-8209-2b670c381e6f",
   "metadata": {},
   "outputs": [
    {
     "data": {
      "text/plain": [
       "[[2, 3, 5, 7, 11], [13, 17, 19, 23, 29], [31, 37, 41, 43, 47]]"
      ]
     },
     "execution_count": 131,
     "metadata": {},
     "output_type": "execute_result"
    }
   ],
   "source": [
    "chunkedList"
   ]
  },
  {
   "cell_type": "markdown",
   "id": "d1aae404-5737-4196-82ab-354d53ec4e5d",
   "metadata": {},
   "source": [
    "35. Find the second largest number in a list."
   ]
  },
  {
   "cell_type": "code",
   "execution_count": 132,
   "id": "59e6c4b7-8d5c-4920-8456-74f3daefba9c",
   "metadata": {},
   "outputs": [
    {
     "data": {
      "text/plain": [
       "[2, 3, 5, 7, 11, 13, 17, 19, 23, 29, 31, 37, 41, 43, 47]"
      ]
     },
     "execution_count": 132,
     "metadata": {},
     "output_type": "execute_result"
    }
   ],
   "source": [
    "tempList"
   ]
  },
  {
   "cell_type": "code",
   "execution_count": 133,
   "id": "36648589-454a-4e15-b57e-f20fbfc3752a",
   "metadata": {},
   "outputs": [
    {
     "data": {
      "text/plain": [
       "43"
      ]
     },
     "execution_count": 133,
     "metadata": {},
     "output_type": "execute_result"
    }
   ],
   "source": [
    "sorted(tempList)[-2]"
   ]
  },
  {
   "cell_type": "markdown",
   "id": "2a39f605-c5d8-4843-b08a-75cdd027f3f7",
   "metadata": {},
   "source": [
    "36. Replace every element in a list with its square."
   ]
  },
  {
   "cell_type": "code",
   "execution_count": 134,
   "id": "4375c4ff-0e87-48b1-9884-2a777645b3a3",
   "metadata": {},
   "outputs": [
    {
     "data": {
      "text/plain": [
       "[4, 9, 25, 49, 121, 169, 289, 361, 529, 841, 961, 1369, 1681, 1849, 2209]"
      ]
     },
     "execution_count": 134,
     "metadata": {},
     "output_type": "execute_result"
    }
   ],
   "source": [
    "tempList = [i**2 for i in tempList]\n",
    "\n",
    "tempList"
   ]
  },
  {
   "cell_type": "markdown",
   "id": "957076bc-5920-4527-9cbe-f5ec16ee84b6",
   "metadata": {},
   "source": [
    "37. Convert a list to a dictionary where list elements become keys and their\n",
    "indices become values."
   ]
  },
  {
   "cell_type": "code",
   "execution_count": 137,
   "id": "3195cc1d-2602-48bd-8c24-efec1d9b3bf8",
   "metadata": {},
   "outputs": [
    {
     "name": "stdout",
     "output_type": "stream",
     "text": [
      "{4: 0, 9: 1, 25: 2, 49: 3, 121: 4, 169: 5, 289: 6, 361: 7, 529: 8, 841: 9, 961: 10, 1369: 11, 1681: 12, 1849: 13, 2209: 14}\n"
     ]
    }
   ],
   "source": [
    "tempdict = {}\n",
    "for index, item in enumerate(tempList):\n",
    "    tempdict[item] = index\n",
    "    \n",
    "print(tempdict)"
   ]
  },
  {
   "cell_type": "markdown",
   "id": "5e443b34-10f7-45fc-ab52-74320b5f1627",
   "metadata": {},
   "source": [
    "38. Shuffle the elements of a list randomly."
   ]
  },
  {
   "cell_type": "code",
   "execution_count": 138,
   "id": "6b92022b-cf3f-446f-81dc-3479bb678369",
   "metadata": {},
   "outputs": [],
   "source": [
    "random.shuffle(tempList) # ref. https://www.geeksforgeeks.org/python-ways-to-shuffle-a-list/"
   ]
  },
  {
   "cell_type": "code",
   "execution_count": 140,
   "id": "e668e353-a1ee-4ebe-b57b-5d0aea4ac152",
   "metadata": {},
   "outputs": [
    {
     "data": {
      "text/plain": [
       "[289, 2209, 49, 121, 841, 529, 169, 1681, 1369, 361, 1849, 4, 9, 961, 25]"
      ]
     },
     "execution_count": 140,
     "metadata": {},
     "output_type": "execute_result"
    }
   ],
   "source": [
    "tempList"
   ]
  },
  {
   "cell_type": "markdown",
   "id": "b109419e-c0bf-4a98-9490-47620eb7477f",
   "metadata": {},
   "source": [
    "39. Create a list of the first 10 factorial numbers.|"
   ]
  },
  {
   "cell_type": "code",
   "execution_count": 144,
   "id": "d89b5ff4-b184-49f2-88b3-69592ff0aadd",
   "metadata": {},
   "outputs": [
    {
     "name": "stdout",
     "output_type": "stream",
     "text": [
      "[1, 1, 2, 6, 24, 120, 720, 5040, 40320, 362880, 3628800]\n"
     ]
    }
   ],
   "source": [
    "factorialTemp = []\n",
    "for i in range(0, 11):\n",
    "    mul = 1\n",
    "    for n in range(1, i+1):\n",
    "        mul *= n\n",
    "    factorialTemp.append(mul)\n",
    "    \n",
    "print(factorialTemp)"
   ]
  },
  {
   "cell_type": "markdown",
   "id": "bf637fca-0a45-443e-8775-054cefdc756d",
   "metadata": {},
   "source": [
    "40. Check if two lists have at least one element in common."
   ]
  },
  {
   "cell_type": "code",
   "execution_count": 145,
   "id": "e6e04659-19f5-4200-9532-a09e8b8f7d6d",
   "metadata": {},
   "outputs": [
    {
     "data": {
      "text/plain": [
       "[1, 2, 3, 4, 5, 5]"
      ]
     },
     "execution_count": 145,
     "metadata": {},
     "output_type": "execute_result"
    }
   ],
   "source": [
    "list1"
   ]
  },
  {
   "cell_type": "code",
   "execution_count": 146,
   "id": "3c804083-408f-401f-b9f7-b4ddbd3637a5",
   "metadata": {},
   "outputs": [
    {
     "data": {
      "text/plain": [
       "[3, 4, 5, 6, 7]"
      ]
     },
     "execution_count": 146,
     "metadata": {},
     "output_type": "execute_result"
    }
   ],
   "source": [
    "list2"
   ]
  },
  {
   "cell_type": "code",
   "execution_count": 148,
   "id": "021b160b-24c5-4aa2-b1b4-5272e53d91f4",
   "metadata": {},
   "outputs": [
    {
     "name": "stdout",
     "output_type": "stream",
     "text": [
      "True\n"
     ]
    }
   ],
   "source": [
    "eleCommon = False\n",
    "\n",
    "eleCommon = any(ele in list2 for ele in list1)\n",
    "        \n",
    "print(eleCommon)"
   ]
  },
  {
   "cell_type": "markdown",
   "id": "ff4c6c0b-29ad-4a2b-ac99-d2f2220091c6",
   "metadata": {},
   "source": [
    "41. Remove all elements from a list."
   ]
  },
  {
   "cell_type": "code",
   "execution_count": 149,
   "id": "b4ae03ac-315d-45c4-9927-30fab73474d4",
   "metadata": {},
   "outputs": [
    {
     "data": {
      "text/plain": [
       "[1, 2, 3, 4, 5, 5]"
      ]
     },
     "execution_count": 149,
     "metadata": {},
     "output_type": "execute_result"
    }
   ],
   "source": [
    "list1"
   ]
  },
  {
   "cell_type": "code",
   "execution_count": 150,
   "id": "ce567f13-c685-46ea-82ff-d7bda8c705bd",
   "metadata": {},
   "outputs": [],
   "source": [
    "list1.clear()"
   ]
  },
  {
   "cell_type": "code",
   "execution_count": 151,
   "id": "369a3b0a-fb00-4b9f-bf39-530260fece4b",
   "metadata": {},
   "outputs": [
    {
     "data": {
      "text/plain": [
       "[]"
      ]
     },
     "execution_count": 151,
     "metadata": {},
     "output_type": "execute_result"
    }
   ],
   "source": [
    "list1"
   ]
  },
  {
   "cell_type": "markdown",
   "id": "1345ec25-2234-4422-8d33-2a1ae69be531",
   "metadata": {},
   "source": [
    "42. Replace negative numbers in a list with 0."
   ]
  },
  {
   "cell_type": "code",
   "execution_count": 152,
   "id": "bef39553-16b1-4b11-bacb-845afa5f17dc",
   "metadata": {},
   "outputs": [
    {
     "data": {
      "text/plain": [
       "[0, 20, 4, -32]"
      ]
     },
     "execution_count": 152,
     "metadata": {},
     "output_type": "execute_result"
    }
   ],
   "source": [
    "list1 = [0,20,4,-32]\n",
    "\n",
    "list1"
   ]
  },
  {
   "cell_type": "code",
   "execution_count": 156,
   "id": "9527b055-525a-4b28-8b0e-5bb04d65f896",
   "metadata": {},
   "outputs": [
    {
     "name": "stdout",
     "output_type": "stream",
     "text": [
      "[0, 20, 4, 0]\n"
     ]
    }
   ],
   "source": [
    "for index, item in enumerate(list1):\n",
    "    if item < 0:\n",
    "        list1[index] = 0\n",
    "    \n",
    "print(list1)"
   ]
  },
  {
   "cell_type": "markdown",
   "id": "765086e0-8484-4279-a3f0-1e2573504d52",
   "metadata": {},
   "source": [
    "43. Convert a string into a list of words."
   ]
  },
  {
   "cell_type": "code",
   "execution_count": 157,
   "id": "2db0f7d8-0a7f-4707-9bc8-70ece236de6f",
   "metadata": {},
   "outputs": [
    {
     "data": {
      "text/plain": [
       "'some random string'"
      ]
     },
     "execution_count": 157,
     "metadata": {},
     "output_type": "execute_result"
    }
   ],
   "source": [
    "tempStr = \"some random string\"\n",
    "tempStr"
   ]
  },
  {
   "cell_type": "code",
   "execution_count": 160,
   "id": "2bbe53b9-d0fe-4864-8a97-12404d5b49d6",
   "metadata": {},
   "outputs": [
    {
     "data": {
      "text/plain": [
       "['some', 'random', 'string']"
      ]
     },
     "execution_count": 160,
     "metadata": {},
     "output_type": "execute_result"
    }
   ],
   "source": [
    "tempStr = tempStr.split()\n",
    "\n",
    "tempStr"
   ]
  },
  {
   "cell_type": "markdown",
   "id": "bfefaae0-7e25-4f1c-9203-997a0447c24d",
   "metadata": {},
   "source": [
    "44. Convert a list of words into a string."
   ]
  },
  {
   "cell_type": "code",
   "execution_count": 161,
   "id": "ba492098-9913-47b5-9401-41e994537c0d",
   "metadata": {},
   "outputs": [
    {
     "data": {
      "text/plain": [
       "['some', 'random', 'string']"
      ]
     },
     "execution_count": 161,
     "metadata": {},
     "output_type": "execute_result"
    }
   ],
   "source": [
    "tempStr"
   ]
  },
  {
   "cell_type": "code",
   "execution_count": 162,
   "id": "f722b8d1-c207-4ba9-95fd-0def7f8c805f",
   "metadata": {},
   "outputs": [
    {
     "data": {
      "text/plain": [
       "'some random string'"
      ]
     },
     "execution_count": 162,
     "metadata": {},
     "output_type": "execute_result"
    }
   ],
   "source": [
    "tempStr = \" \".join(tempStr)\n",
    "\n",
    "tempStr"
   ]
  },
  {
   "cell_type": "markdown",
   "id": "25510f2b-f179-4dcb-98a2-efaac394ed29",
   "metadata": {},
   "source": [
    "45. Create a list of the first `n` powers of 2."
   ]
  },
  {
   "cell_type": "code",
   "execution_count": 163,
   "id": "2a39a020-d6cf-485e-936e-7cbd44611325",
   "metadata": {},
   "outputs": [],
   "source": [
    "n = 5"
   ]
  },
  {
   "cell_type": "code",
   "execution_count": 164,
   "id": "3973b302-1052-4161-864c-075545e76e88",
   "metadata": {},
   "outputs": [
    {
     "data": {
      "text/plain": [
       "[1, 4, 9, 16, 25]"
      ]
     },
     "execution_count": 164,
     "metadata": {},
     "output_type": "execute_result"
    }
   ],
   "source": [
    "tempList = [x**2 for x in range(1, n+1)]\n",
    "\n",
    "tempList"
   ]
  },
  {
   "cell_type": "markdown",
   "id": "fffb9982-0dd2-4622-85c5-6138a8319a74",
   "metadata": {},
   "source": [
    "46. Find the longest string in a list of strings."
   ]
  },
  {
   "cell_type": "code",
   "execution_count": 165,
   "id": "5596a8a6-3bce-4e4a-bdd9-a76e83d7284d",
   "metadata": {},
   "outputs": [
    {
     "data": {
      "text/plain": [
       "'some random string'"
      ]
     },
     "execution_count": 165,
     "metadata": {},
     "output_type": "execute_result"
    }
   ],
   "source": [
    "tempStr"
   ]
  },
  {
   "cell_type": "code",
   "execution_count": 166,
   "id": "4e18c749-81ca-413a-8b4b-e04e0c60f0a1",
   "metadata": {},
   "outputs": [
    {
     "data": {
      "text/plain": [
       "['some', 'random', 'string']"
      ]
     },
     "execution_count": 166,
     "metadata": {},
     "output_type": "execute_result"
    }
   ],
   "source": [
    "tempStr = tempStr.split()\n",
    "tempStr"
   ]
  },
  {
   "cell_type": "code",
   "execution_count": 167,
   "id": "c0a2a9ce-fb05-4da0-80e1-ce423dd0be33",
   "metadata": {},
   "outputs": [
    {
     "data": {
      "text/plain": [
       "'random'"
      ]
     },
     "execution_count": 167,
     "metadata": {},
     "output_type": "execute_result"
    }
   ],
   "source": [
    "max(tempStr, key = len)"
   ]
  },
  {
   "cell_type": "markdown",
   "id": "4bfb0c69-1519-4222-bb86-53774a699f2a",
   "metadata": {},
   "source": [
    "47. Find the shortest string in a list of strings."
   ]
  },
  {
   "cell_type": "code",
   "execution_count": 168,
   "id": "6d2eaf3e-72c0-43b1-b284-706d3d317a4b",
   "metadata": {},
   "outputs": [
    {
     "data": {
      "text/plain": [
       "'some'"
      ]
     },
     "execution_count": 168,
     "metadata": {},
     "output_type": "execute_result"
    }
   ],
   "source": [
    "min(tempStr, key = len)"
   ]
  },
  {
   "cell_type": "markdown",
   "id": "a38bc33a-083f-4afc-b2f2-a6009ccddfac",
   "metadata": {},
   "source": [
    "48. Create a list of the first `n` triangular numbers.|\n",
    "\n",
    "The nth triangular number can be calculated as (n * (n + 1)) / 2"
   ]
  },
  {
   "cell_type": "code",
   "execution_count": 169,
   "id": "9275a6fb-4888-4322-bd68-88f829e52b4c",
   "metadata": {},
   "outputs": [
    {
     "name": "stdout",
     "output_type": "stream",
     "text": [
      "[1, 3, 6, 10, 15, 21, 28, 36, 45, 55]\n"
     ]
    }
   ],
   "source": [
    "n = 10  \n",
    "\n",
    "triangular_numbers = [(i * (i + 1)) // 2 for i in range(1, n + 1)]\n",
    "\n",
    "print(triangular_numbers)"
   ]
  },
  {
   "cell_type": "markdown",
   "id": "46f06b81-a9aa-42cf-9331-614d23060185",
   "metadata": {},
   "source": [
    "49. Check if a list contains another list as a subsequence."
   ]
  },
  {
   "cell_type": "code",
   "execution_count": 178,
   "id": "62b7dcb0-b379-4478-9b23-95e0f8b36004",
   "metadata": {},
   "outputs": [],
   "source": [
    "list1 = [1, 2, 3, 4, 5]\n",
    "list2 = [2, 4]"
   ]
  },
  {
   "cell_type": "code",
   "execution_count": 179,
   "id": "a2eefb8e-3030-4abe-bd20-3f6f55b3b875",
   "metadata": {},
   "outputs": [
    {
     "name": "stdout",
     "output_type": "stream",
     "text": [
      "True\n"
     ]
    }
   ],
   "source": [
    "is_subsequence = all(item in list1 for item in list2)\n",
    "\n",
    "print(is_subsequence)"
   ]
  },
  {
   "cell_type": "markdown",
   "id": "b6a978bf-77ee-414f-be53-c5481b54ee16",
   "metadata": {},
   "source": [
    "50. Swap two elements in a list by their indices."
   ]
  },
  {
   "cell_type": "code",
   "execution_count": 170,
   "id": "a513c6a8-5b01-4586-91ff-f1a8566e6f31",
   "metadata": {},
   "outputs": [],
   "source": [
    "ind1 = 4\n",
    "ind2 = 6"
   ]
  },
  {
   "cell_type": "code",
   "execution_count": 172,
   "id": "60ccfb4f-1776-43f9-9375-5faa4a4cab66",
   "metadata": {},
   "outputs": [
    {
     "data": {
      "text/plain": [
       "[1, 2, 3, 4, 5, 6, 7, 8, 9, 10, 11]"
      ]
     },
     "execution_count": 172,
     "metadata": {},
     "output_type": "execute_result"
    }
   ],
   "source": [
    "tempList = list(range(1, 12))\n",
    "tempList"
   ]
  },
  {
   "cell_type": "code",
   "execution_count": 173,
   "id": "bf9d3c11-9664-4b69-bfc1-ec3b69c9b563",
   "metadata": {},
   "outputs": [
    {
     "data": {
      "text/plain": [
       "[1, 2, 3, 4, 7, 6, 5, 8, 9, 10, 11]"
      ]
     },
     "execution_count": 173,
     "metadata": {},
     "output_type": "execute_result"
    }
   ],
   "source": [
    "tempList[ind1], tempList[ind2] = tempList[ind2], tempList[ind1]\n",
    "\n",
    "tempList"
   ]
  },
  {
   "cell_type": "code",
   "execution_count": null,
   "id": "9fbeb058-0a0b-40f1-a4a6-bacdfc0cb060",
   "metadata": {},
   "outputs": [],
   "source": []
  },
  {
   "cell_type": "code",
   "execution_count": null,
   "id": "803e78be-ba54-4e64-836b-a96f1772d920",
   "metadata": {},
   "outputs": [],
   "source": []
  },
  {
   "cell_type": "markdown",
   "id": "b55264fd-a04f-4ef3-97e1-89273882f27d",
   "metadata": {},
   "source": [
    "TOPIC: Tuple Based Practice Problem"
   ]
  },
  {
   "cell_type": "markdown",
   "id": "876c3aac-5f77-4693-82ba-6053e1b70eae",
   "metadata": {},
   "source": [
    "1. Create a tuple with integers from 1 to 5."
   ]
  },
  {
   "cell_type": "code",
   "execution_count": 146,
   "id": "71242e68-aba9-4aa5-8197-94862324011f",
   "metadata": {},
   "outputs": [
    {
     "data": {
      "text/plain": [
       "(1, 2, 3, 4, 5)"
      ]
     },
     "execution_count": 146,
     "metadata": {},
     "output_type": "execute_result"
    }
   ],
   "source": [
    "tempTuple = tuple(range(1,6))\n",
    "\n",
    "tempTuple"
   ]
  },
  {
   "cell_type": "markdown",
   "id": "3d9b27bf-577e-4aa4-a668-3fb8f41b3dd6",
   "metadata": {},
   "source": [
    "2. Access the third element of a tuple."
   ]
  },
  {
   "cell_type": "code",
   "execution_count": 2,
   "id": "48023b85-7b8d-420e-a2f1-e9bfa77e75d4",
   "metadata": {},
   "outputs": [
    {
     "data": {
      "text/plain": [
       "3"
      ]
     },
     "execution_count": 2,
     "metadata": {},
     "output_type": "execute_result"
    }
   ],
   "source": [
    "tempTuple[2]"
   ]
  },
  {
   "cell_type": "markdown",
   "id": "d2bd686a-9fe3-49f9-bcdb-6c7304d4f613",
   "metadata": {},
   "source": [
    "3. Find the length of a tuple without using the `len()` function."
   ]
  },
  {
   "cell_type": "code",
   "execution_count": 147,
   "id": "2664da42-c949-4263-9bad-e0a48d8d9c6d",
   "metadata": {},
   "outputs": [
    {
     "name": "stdout",
     "output_type": "stream",
     "text": [
      "5\n"
     ]
    }
   ],
   "source": [
    "tupleLength = 0\n",
    "\n",
    "for i in tempTuple:\n",
    "    tupleLength+=1\n",
    "print(tupleLength)"
   ]
  },
  {
   "cell_type": "markdown",
   "id": "b6dc6839-2f8c-42b4-9cb6-82e20735c8bd",
   "metadata": {},
   "source": [
    "4. Count the occurrences of an element in a tuple."
   ]
  },
  {
   "cell_type": "code",
   "execution_count": 4,
   "id": "3033f0d4-8136-44fa-84d3-25f0f2b87ee1",
   "metadata": {},
   "outputs": [
    {
     "data": {
      "text/plain": [
       "[1, 2, 2, 3, 4]"
      ]
     },
     "execution_count": 4,
     "metadata": {},
     "output_type": "execute_result"
    }
   ],
   "source": [
    "tempTuple = [1,2,2,3,4]\n",
    "tempTuple"
   ]
  },
  {
   "cell_type": "code",
   "execution_count": 5,
   "id": "43d6e826-d51e-429a-b435-a9bb8b75f3de",
   "metadata": {},
   "outputs": [],
   "source": [
    "element = 2"
   ]
  },
  {
   "cell_type": "code",
   "execution_count": 6,
   "id": "32125310-1da5-4734-b0f1-eeab0eb0a2ed",
   "metadata": {},
   "outputs": [
    {
     "data": {
      "text/plain": [
       "2"
      ]
     },
     "execution_count": 6,
     "metadata": {},
     "output_type": "execute_result"
    }
   ],
   "source": [
    "tempTuple.count(element)"
   ]
  },
  {
   "cell_type": "markdown",
   "id": "7a372493-73c0-460b-8fad-a8334e3179f7",
   "metadata": {},
   "source": [
    "5. Find the index of the first occurrence of an element in a tuple."
   ]
  },
  {
   "cell_type": "code",
   "execution_count": 7,
   "id": "1efbaa6c-c75f-4fa0-a55e-8d5040f37302",
   "metadata": {},
   "outputs": [
    {
     "data": {
      "text/plain": [
       "1"
      ]
     },
     "execution_count": 7,
     "metadata": {},
     "output_type": "execute_result"
    }
   ],
   "source": [
    "tempTuple.index(2)"
   ]
  },
  {
   "cell_type": "markdown",
   "id": "a80cc7dc-10ec-4a3f-b22c-b2ac07cdd2f9",
   "metadata": {},
   "source": [
    "6. Check if an element exists in a tuple."
   ]
  },
  {
   "cell_type": "code",
   "execution_count": 8,
   "id": "47b279b7-fd46-43b9-9a45-c839792c1a72",
   "metadata": {},
   "outputs": [
    {
     "data": {
      "text/plain": [
       "True"
      ]
     },
     "execution_count": 8,
     "metadata": {},
     "output_type": "execute_result"
    }
   ],
   "source": [
    "element in tempTuple"
   ]
  },
  {
   "cell_type": "markdown",
   "id": "2610af2a-69da-490e-8cd0-24e17e0f8ef8",
   "metadata": {},
   "source": [
    "7. Convert a tuple to a list."
   ]
  },
  {
   "cell_type": "code",
   "execution_count": 11,
   "id": "1d534849-27f8-41a7-b7df-ab724670ce00",
   "metadata": {},
   "outputs": [
    {
     "data": {
      "text/plain": [
       "[1, 2, 2, 3, 4]"
      ]
     },
     "execution_count": 11,
     "metadata": {},
     "output_type": "execute_result"
    }
   ],
   "source": [
    "tempTuple = list(tempTuple)\n",
    "tempTuple"
   ]
  },
  {
   "cell_type": "markdown",
   "id": "04666da8-2c37-4855-bb2d-9c4cc357b982",
   "metadata": {},
   "source": [
    "8. Convert a list to a tuple."
   ]
  },
  {
   "cell_type": "code",
   "execution_count": 12,
   "id": "56c8114f-a68f-4478-b926-0f68bffc9fea",
   "metadata": {},
   "outputs": [
    {
     "data": {
      "text/plain": [
       "(1, 2, 2, 3, 4)"
      ]
     },
     "execution_count": 12,
     "metadata": {},
     "output_type": "execute_result"
    }
   ],
   "source": [
    "tempTuple = tuple(tempTuple)\n",
    "\n",
    "tempTuple"
   ]
  },
  {
   "cell_type": "markdown",
   "id": "e3d977f0-5919-415f-8558-3cf6863cac37",
   "metadata": {},
   "source": [
    "9. Unpack the elements of a tuple into variables."
   ]
  },
  {
   "cell_type": "code",
   "execution_count": 13,
   "id": "a13e903d-9a95-4b5b-bc1d-b96f4d34bf10",
   "metadata": {},
   "outputs": [],
   "source": [
    "a, b, c, d, e = tempTuple"
   ]
  },
  {
   "cell_type": "code",
   "execution_count": 14,
   "id": "b9f64195-6d00-4dd8-8ef7-23091a2347a6",
   "metadata": {},
   "outputs": [
    {
     "data": {
      "text/plain": [
       "1"
      ]
     },
     "execution_count": 14,
     "metadata": {},
     "output_type": "execute_result"
    }
   ],
   "source": [
    "a"
   ]
  },
  {
   "cell_type": "code",
   "execution_count": 15,
   "id": "ba226be5-2c71-4745-9836-7bdf56327884",
   "metadata": {},
   "outputs": [
    {
     "data": {
      "text/plain": [
       "2"
      ]
     },
     "execution_count": 15,
     "metadata": {},
     "output_type": "execute_result"
    }
   ],
   "source": [
    "b"
   ]
  },
  {
   "cell_type": "code",
   "execution_count": 16,
   "id": "426ee5e4-3e18-4ff5-b12b-88cc38200c90",
   "metadata": {},
   "outputs": [
    {
     "data": {
      "text/plain": [
       "2"
      ]
     },
     "execution_count": 16,
     "metadata": {},
     "output_type": "execute_result"
    }
   ],
   "source": [
    "c"
   ]
  },
  {
   "cell_type": "code",
   "execution_count": 17,
   "id": "90a06879-3a75-40a1-a90f-395174711f51",
   "metadata": {},
   "outputs": [
    {
     "data": {
      "text/plain": [
       "3"
      ]
     },
     "execution_count": 17,
     "metadata": {},
     "output_type": "execute_result"
    }
   ],
   "source": [
    "d"
   ]
  },
  {
   "cell_type": "code",
   "execution_count": 18,
   "id": "b828c9dc-a746-4288-9933-b66cdd6300d2",
   "metadata": {},
   "outputs": [
    {
     "data": {
      "text/plain": [
       "4"
      ]
     },
     "execution_count": 18,
     "metadata": {},
     "output_type": "execute_result"
    }
   ],
   "source": [
    "e"
   ]
  },
  {
   "cell_type": "markdown",
   "id": "a9b1ff76-19d7-4980-a87b-9526c25b67a3",
   "metadata": {},
   "source": [
    "10. Create a tuple of even numbers from 1 to 10."
   ]
  },
  {
   "cell_type": "code",
   "execution_count": 19,
   "id": "50f572d0-e402-4f26-b3f5-035eec403c13",
   "metadata": {},
   "outputs": [
    {
     "data": {
      "text/plain": [
       "(2, 4, 6, 8, 10)"
      ]
     },
     "execution_count": 19,
     "metadata": {},
     "output_type": "execute_result"
    }
   ],
   "source": [
    "tempTuple = tuple(x for x in range(1, 11) if x%2 == 0)\n",
    "\n",
    "tempTuple"
   ]
  },
  {
   "cell_type": "markdown",
   "id": "458c63d0-3dad-4307-91e1-80b66aad1158",
   "metadata": {},
   "source": [
    "11. Create a tuple of odd numbers from 1 to 10."
   ]
  },
  {
   "cell_type": "code",
   "execution_count": 20,
   "id": "0b6ca7d8-a847-4d71-a4ee-9c40c906575f",
   "metadata": {},
   "outputs": [
    {
     "data": {
      "text/plain": [
       "(1, 3, 5, 7, 9)"
      ]
     },
     "execution_count": 20,
     "metadata": {},
     "output_type": "execute_result"
    }
   ],
   "source": [
    "tempTuple = tuple(x for x in range(1, 11) if x%2 != 0)\n",
    "\n",
    "tempTuple"
   ]
  },
  {
   "cell_type": "markdown",
   "id": "7dc07093-f5e9-4d7b-976c-ecdb528d022c",
   "metadata": {},
   "source": [
    "12. Concatenate two tuples."
   ]
  },
  {
   "cell_type": "code",
   "execution_count": 23,
   "id": "ad070dba-48ed-4feb-b45d-ba74b9445cef",
   "metadata": {},
   "outputs": [
    {
     "data": {
      "text/plain": [
       "(1, 2, 3)"
      ]
     },
     "execution_count": 23,
     "metadata": {},
     "output_type": "execute_result"
    }
   ],
   "source": [
    "tuple1 = (1,2,3)\n",
    "tuple1"
   ]
  },
  {
   "cell_type": "code",
   "execution_count": 24,
   "id": "2eb73338-d589-473a-9afd-e56f1a59f6c2",
   "metadata": {},
   "outputs": [
    {
     "data": {
      "text/plain": [
       "(0, 9, 8)"
      ]
     },
     "execution_count": 24,
     "metadata": {},
     "output_type": "execute_result"
    }
   ],
   "source": [
    "tuple2 = (0,9,8)\n",
    "tuple2"
   ]
  },
  {
   "cell_type": "code",
   "execution_count": 25,
   "id": "2771a5a1-f110-4b09-99a2-ed4c09367b87",
   "metadata": {},
   "outputs": [
    {
     "data": {
      "text/plain": [
       "(1, 2, 3, 0, 9, 8)"
      ]
     },
     "execution_count": 25,
     "metadata": {},
     "output_type": "execute_result"
    }
   ],
   "source": [
    "tuple3 = tuple1 + tuple2\n",
    "\n",
    "tuple3 # concatednated tuple"
   ]
  },
  {
   "cell_type": "markdown",
   "id": "41011200-17ae-4998-80f7-16a37d29c1c4",
   "metadata": {},
   "source": [
    "13. Repeat a tuple three times."
   ]
  },
  {
   "cell_type": "code",
   "execution_count": 26,
   "id": "6b238c0b-dac8-4252-b164-7b5bc1a38338",
   "metadata": {},
   "outputs": [
    {
     "data": {
      "text/plain": [
       "(1, 2, 3)"
      ]
     },
     "execution_count": 26,
     "metadata": {},
     "output_type": "execute_result"
    }
   ],
   "source": [
    "tuple1"
   ]
  },
  {
   "cell_type": "code",
   "execution_count": 27,
   "id": "865be570-fd7c-4d43-ac3f-0f8c30d9a047",
   "metadata": {},
   "outputs": [
    {
     "data": {
      "text/plain": [
       "(1, 2, 3, 1, 2, 3, 1, 2, 3)"
      ]
     },
     "execution_count": 27,
     "metadata": {},
     "output_type": "execute_result"
    }
   ],
   "source": [
    "tuple1 * 3"
   ]
  },
  {
   "cell_type": "markdown",
   "id": "57ea090f-0d4b-4952-a421-cd982feefed7",
   "metadata": {},
   "source": [
    "14. Check if a tuple is empty."
   ]
  },
  {
   "cell_type": "code",
   "execution_count": 28,
   "id": "d0a2ea25-d62e-402d-b5e8-95e63ee6c9c5",
   "metadata": {},
   "outputs": [
    {
     "data": {
      "text/plain": [
       "False"
      ]
     },
     "execution_count": 28,
     "metadata": {},
     "output_type": "execute_result"
    }
   ],
   "source": [
    "len(tempTuple) == 0"
   ]
  },
  {
   "cell_type": "markdown",
   "id": "1dfe0a87-4f8c-4faf-bd00-642110e634b5",
   "metadata": {},
   "source": [
    "15. Create a nested tuple."
   ]
  },
  {
   "cell_type": "code",
   "execution_count": 29,
   "id": "29dd6aca-6f7a-443a-ab9a-348e4421a7dc",
   "metadata": {},
   "outputs": [
    {
     "data": {
      "text/plain": [
       "(1, 2, 3, (4, 5))"
      ]
     },
     "execution_count": 29,
     "metadata": {},
     "output_type": "execute_result"
    }
   ],
   "source": [
    "tempTuple = (1,2,3,(4,5))\n",
    "\n",
    "tempTuple"
   ]
  },
  {
   "cell_type": "markdown",
   "id": "20f2fd58-71cd-491e-bf64-d9f2b07bcc8c",
   "metadata": {},
   "source": [
    "16. Access the first element of a nested tuple."
   ]
  },
  {
   "cell_type": "code",
   "execution_count": 30,
   "id": "53f510da-eda1-4f82-abf3-c79c6571f46e",
   "metadata": {},
   "outputs": [
    {
     "data": {
      "text/plain": [
       "4"
      ]
     },
     "execution_count": 30,
     "metadata": {},
     "output_type": "execute_result"
    }
   ],
   "source": [
    "tempTuple[3][0]"
   ]
  },
  {
   "cell_type": "markdown",
   "id": "73a3729a-f187-40bb-951a-ee0f801316b5",
   "metadata": {},
   "source": [
    "17. Create a tuple with a single element."
   ]
  },
  {
   "cell_type": "code",
   "execution_count": 32,
   "id": "35e9d3e3-1f78-426a-94d8-cf878c8282cb",
   "metadata": {},
   "outputs": [
    {
     "data": {
      "text/plain": [
       "(1,)"
      ]
     },
     "execution_count": 32,
     "metadata": {},
     "output_type": "execute_result"
    }
   ],
   "source": [
    "tempTuple = (1,) # if not adding comma, its treating it as an int only\n",
    "tempTuple"
   ]
  },
  {
   "cell_type": "markdown",
   "id": "f71355af-224d-4f3c-bff8-4f9a9dfc91f1",
   "metadata": {},
   "source": [
    "18. Compare two tuples."
   ]
  },
  {
   "cell_type": "code",
   "execution_count": 33,
   "id": "3388de7b-9b28-41ed-96df-cb7fce592b69",
   "metadata": {},
   "outputs": [
    {
     "data": {
      "text/plain": [
       "(1, 2, 3)"
      ]
     },
     "execution_count": 33,
     "metadata": {},
     "output_type": "execute_result"
    }
   ],
   "source": [
    "tuple1"
   ]
  },
  {
   "cell_type": "code",
   "execution_count": 34,
   "id": "66e415a3-5aed-48ca-b219-5230bb4c7ffb",
   "metadata": {},
   "outputs": [
    {
     "data": {
      "text/plain": [
       "(0, 9, 8)"
      ]
     },
     "execution_count": 34,
     "metadata": {},
     "output_type": "execute_result"
    }
   ],
   "source": [
    "tuple2"
   ]
  },
  {
   "cell_type": "code",
   "execution_count": 35,
   "id": "e9d191ef-9749-44eb-a95c-141bb4b80692",
   "metadata": {},
   "outputs": [
    {
     "data": {
      "text/plain": [
       "False"
      ]
     },
     "execution_count": 35,
     "metadata": {},
     "output_type": "execute_result"
    }
   ],
   "source": [
    "tuple1 == tuple2"
   ]
  },
  {
   "cell_type": "code",
   "execution_count": 36,
   "id": "e0d251ba-04ef-4290-b986-4204f6a83c25",
   "metadata": {},
   "outputs": [],
   "source": [
    "tuple3 = (1,2,3)"
   ]
  },
  {
   "cell_type": "code",
   "execution_count": 37,
   "id": "9710e72d-87b7-4581-a951-38cd2965f5db",
   "metadata": {},
   "outputs": [
    {
     "data": {
      "text/plain": [
       "True"
      ]
     },
     "execution_count": 37,
     "metadata": {},
     "output_type": "execute_result"
    }
   ],
   "source": [
    "tuple1 == tuple3"
   ]
  },
  {
   "cell_type": "code",
   "execution_count": 52,
   "id": "d77e42dd-065c-4640-a1c1-16588253fa65",
   "metadata": {},
   "outputs": [
    {
     "data": {
      "text/plain": [
       "False"
      ]
     },
     "execution_count": 52,
     "metadata": {},
     "output_type": "execute_result"
    }
   ],
   "source": [
    "tuple2 > tuple3"
   ]
  },
  {
   "cell_type": "markdown",
   "id": "f3bae604-ac7c-4763-8772-ce3177ee2d67",
   "metadata": {},
   "source": [
    "19. Delete a tuple."
   ]
  },
  {
   "cell_type": "code",
   "execution_count": 38,
   "id": "74f009ef-1dc9-4782-adf7-8af56586e9c7",
   "metadata": {},
   "outputs": [],
   "source": [
    "del tuple1"
   ]
  },
  {
   "cell_type": "markdown",
   "id": "570dbde2-5f07-4aa8-8541-f8970c89d5f0",
   "metadata": {},
   "source": [
    "20. Slice a tuple."
   ]
  },
  {
   "cell_type": "code",
   "execution_count": 41,
   "id": "3ceb68bf-2bc1-4054-839d-2e101058679e",
   "metadata": {},
   "outputs": [
    {
     "data": {
      "text/plain": [
       "(1, 2, (3, 5))"
      ]
     },
     "execution_count": 41,
     "metadata": {},
     "output_type": "execute_result"
    }
   ],
   "source": [
    "tempTuple = (1,2,(3,5))\n",
    "tempTuple"
   ]
  },
  {
   "cell_type": "code",
   "execution_count": 42,
   "id": "08fdd4df-e6ce-4a22-a2bd-f739f7e8cfd3",
   "metadata": {},
   "outputs": [
    {
     "data": {
      "text/plain": [
       "(1, 2)"
      ]
     },
     "execution_count": 42,
     "metadata": {},
     "output_type": "execute_result"
    }
   ],
   "source": [
    "tempTuple[0:2]"
   ]
  },
  {
   "cell_type": "code",
   "execution_count": 43,
   "id": "4648fb2e-aeed-42c3-9f48-73844ada5dbb",
   "metadata": {},
   "outputs": [
    {
     "data": {
      "text/plain": [
       "((3, 5),)"
      ]
     },
     "execution_count": 43,
     "metadata": {},
     "output_type": "execute_result"
    }
   ],
   "source": [
    "tempTuple[2:]"
   ]
  },
  {
   "cell_type": "markdown",
   "id": "3fb30dc1-bb9e-4f9f-9a46-3faac5644327",
   "metadata": {},
   "source": [
    "21. Find the maximum value in a tuple."
   ]
  },
  {
   "cell_type": "code",
   "execution_count": 45,
   "id": "0e29f6bf-6ca6-4d79-8aad-3c265f86f93a",
   "metadata": {},
   "outputs": [
    {
     "data": {
      "text/plain": [
       "(0, 9, 8)"
      ]
     },
     "execution_count": 45,
     "metadata": {},
     "output_type": "execute_result"
    }
   ],
   "source": [
    "tuple2"
   ]
  },
  {
   "cell_type": "code",
   "execution_count": 46,
   "id": "bff1115a-911e-4ad8-8f0c-9f764f647097",
   "metadata": {},
   "outputs": [
    {
     "data": {
      "text/plain": [
       "9"
      ]
     },
     "execution_count": 46,
     "metadata": {},
     "output_type": "execute_result"
    }
   ],
   "source": [
    "max(tuple2)"
   ]
  },
  {
   "cell_type": "markdown",
   "id": "8ec40658-51ef-42f2-b321-3ca1e46df1a4",
   "metadata": {},
   "source": [
    "22. Find the minimum value in a tuple."
   ]
  },
  {
   "cell_type": "code",
   "execution_count": 47,
   "id": "1fba1f23-bd86-49c6-a2e4-54a936c01622",
   "metadata": {},
   "outputs": [
    {
     "data": {
      "text/plain": [
       "0"
      ]
     },
     "execution_count": 47,
     "metadata": {},
     "output_type": "execute_result"
    }
   ],
   "source": [
    "min(tuple2)"
   ]
  },
  {
   "cell_type": "markdown",
   "id": "b08a1af6-ceb4-4741-be87-c24e1430d984",
   "metadata": {},
   "source": [
    "23. Convert a string to a tuple of characters."
   ]
  },
  {
   "cell_type": "code",
   "execution_count": 48,
   "id": "be3ac930-15f2-4a5d-91e7-d086f6539f4d",
   "metadata": {},
   "outputs": [
    {
     "data": {
      "text/plain": [
       "'some alpha and others are numerics'"
      ]
     },
     "execution_count": 48,
     "metadata": {},
     "output_type": "execute_result"
    }
   ],
   "source": [
    "tempStr = \"some alpha and others are numerics\"\n",
    "tempStr"
   ]
  },
  {
   "cell_type": "code",
   "execution_count": 49,
   "id": "409f1c8f-f8bb-4bf4-932d-c8fcc47a3b75",
   "metadata": {},
   "outputs": [
    {
     "data": {
      "text/plain": [
       "('some', 'alpha', 'and', 'others', 'are', 'numerics')"
      ]
     },
     "execution_count": 49,
     "metadata": {},
     "output_type": "execute_result"
    }
   ],
   "source": [
    "tempList = tempStr.split()\n",
    "tempTuple = tuple(tempList)\n",
    "tempTuple"
   ]
  },
  {
   "cell_type": "markdown",
   "id": "24408cfc-ea8c-4433-997c-648c836d4682",
   "metadata": {},
   "source": [
    "24. Convert a tuple of characters to a string."
   ]
  },
  {
   "cell_type": "code",
   "execution_count": 50,
   "id": "8cf78dee-1ad2-4e34-b590-6f9c30578780",
   "metadata": {},
   "outputs": [
    {
     "data": {
      "text/plain": [
       "'some alpha and others are numerics'"
      ]
     },
     "execution_count": 50,
     "metadata": {},
     "output_type": "execute_result"
    }
   ],
   "source": [
    "\" \".join(tempTuple)"
   ]
  },
  {
   "cell_type": "markdown",
   "id": "1808b937-d952-4138-8143-b7c4665c521f",
   "metadata": {},
   "source": [
    "25. Create a tuple from multiple data types."
   ]
  },
  {
   "cell_type": "code",
   "execution_count": 51,
   "id": "1909386d-05f4-4621-b870-9fad1818ffb4",
   "metadata": {},
   "outputs": [
    {
     "data": {
      "text/plain": [
       "(1, 'a', 1.5)"
      ]
     },
     "execution_count": 51,
     "metadata": {},
     "output_type": "execute_result"
    }
   ],
   "source": [
    "tempTuple = (1, \"a\", 1.5)\n",
    "tempTuple"
   ]
  },
  {
   "cell_type": "markdown",
   "id": "a8969d69-673c-4f3e-b770-a768835e0ad5",
   "metadata": {},
   "source": [
    "26. Check if two tuples are identical."
   ]
  },
  {
   "cell_type": "code",
   "execution_count": 53,
   "id": "b822ac3d-6f93-4ee6-8ea1-3e0e27b3b8e6",
   "metadata": {},
   "outputs": [
    {
     "data": {
      "text/plain": [
       "(1, 2)"
      ]
     },
     "execution_count": 53,
     "metadata": {},
     "output_type": "execute_result"
    }
   ],
   "source": [
    "tuple1 = (1,2)\n",
    "tuple1"
   ]
  },
  {
   "cell_type": "code",
   "execution_count": 54,
   "id": "87b3eaaa-c12c-4166-92fd-391b3c847d61",
   "metadata": {},
   "outputs": [
    {
     "data": {
      "text/plain": [
       "(1, 2)"
      ]
     },
     "execution_count": 54,
     "metadata": {},
     "output_type": "execute_result"
    }
   ],
   "source": [
    "tuple2 = (1,2)\n",
    "tuple2"
   ]
  },
  {
   "cell_type": "code",
   "execution_count": 55,
   "id": "939e0585-bdbf-45e4-87a5-658c69560be7",
   "metadata": {},
   "outputs": [
    {
     "data": {
      "text/plain": [
       "True"
      ]
     },
     "execution_count": 55,
     "metadata": {},
     "output_type": "execute_result"
    }
   ],
   "source": [
    "tuple1 == tuple2"
   ]
  },
  {
   "cell_type": "markdown",
   "id": "b6c182f9-ce31-44f1-87ec-e7179a3aeb9b",
   "metadata": {},
   "source": [
    "27. Sort the elements of a tuple."
   ]
  },
  {
   "cell_type": "code",
   "execution_count": 56,
   "id": "fe02554e-5529-4b63-87b0-f9b3fb83f179",
   "metadata": {},
   "outputs": [
    {
     "data": {
      "text/plain": [
       "(9, 8, 7, 6, 5, 4)"
      ]
     },
     "execution_count": 56,
     "metadata": {},
     "output_type": "execute_result"
    }
   ],
   "source": [
    "tempTuple = (9,8,7,6,5,4)\n",
    "tempTuple"
   ]
  },
  {
   "cell_type": "code",
   "execution_count": 57,
   "id": "e837a2fd-5c36-4a40-b41c-0d853943f52d",
   "metadata": {},
   "outputs": [
    {
     "data": {
      "text/plain": [
       "[4, 5, 6, 7, 8, 9]"
      ]
     },
     "execution_count": 57,
     "metadata": {},
     "output_type": "execute_result"
    }
   ],
   "source": [
    "sorted(tempTuple)"
   ]
  },
  {
   "cell_type": "markdown",
   "id": "4807f638-2e70-474f-90ed-7a6c2a418e4e",
   "metadata": {},
   "source": [
    "28. Convert a tuple of integers to a tuple of strings."
   ]
  },
  {
   "cell_type": "code",
   "execution_count": 58,
   "id": "6917876c-36ec-4813-b181-344be457689a",
   "metadata": {},
   "outputs": [
    {
     "data": {
      "text/plain": [
       "(9, 8, 7, 6, 5, 4)"
      ]
     },
     "execution_count": 58,
     "metadata": {},
     "output_type": "execute_result"
    }
   ],
   "source": [
    "tempTuple"
   ]
  },
  {
   "cell_type": "code",
   "execution_count": 59,
   "id": "b4a889e3-2b35-4e5b-98b8-98c1debd8e1d",
   "metadata": {},
   "outputs": [],
   "source": [
    "tempTuple = tuple(str(i) for i in tempTuple)"
   ]
  },
  {
   "cell_type": "code",
   "execution_count": 60,
   "id": "7d9822dc-9c42-444a-a4a4-1b64207bcf60",
   "metadata": {},
   "outputs": [
    {
     "data": {
      "text/plain": [
       "('9', '8', '7', '6', '5', '4')"
      ]
     },
     "execution_count": 60,
     "metadata": {},
     "output_type": "execute_result"
    }
   ],
   "source": [
    "tempTuple"
   ]
  },
  {
   "cell_type": "markdown",
   "id": "dd76e572-04b7-4267-b8bd-8877d2ee766c",
   "metadata": {},
   "source": [
    "29. Convert a tuple of strings to a tuple of integers."
   ]
  },
  {
   "cell_type": "code",
   "execution_count": 61,
   "id": "3f58e88d-aa37-46e1-a0be-7a4ff0d41ade",
   "metadata": {},
   "outputs": [],
   "source": [
    "tempTuple = tuple(int(i) for i in tempTuple)"
   ]
  },
  {
   "cell_type": "code",
   "execution_count": 62,
   "id": "f60cc515-541f-4c5c-8c94-f1eca626ed14",
   "metadata": {},
   "outputs": [
    {
     "data": {
      "text/plain": [
       "(9, 8, 7, 6, 5, 4)"
      ]
     },
     "execution_count": 62,
     "metadata": {},
     "output_type": "execute_result"
    }
   ],
   "source": [
    "tempTuple"
   ]
  },
  {
   "cell_type": "markdown",
   "id": "ce41a129-5ef2-443d-ae39-cf94d47fda6a",
   "metadata": {},
   "source": [
    "30. Merge two tuples."
   ]
  },
  {
   "cell_type": "code",
   "execution_count": 63,
   "id": "0a335086-d31a-47a1-8df2-884bff9c7e44",
   "metadata": {},
   "outputs": [
    {
     "data": {
      "text/plain": [
       "(1, 2, 1, 2)"
      ]
     },
     "execution_count": 63,
     "metadata": {},
     "output_type": "execute_result"
    }
   ],
   "source": [
    "tuple1 + tuple2"
   ]
  },
  {
   "cell_type": "markdown",
   "id": "10eb6fc3-74e8-4cca-88d7-5056c3ab7462",
   "metadata": {},
   "source": [
    "31. Flatten a nested tuple."
   ]
  },
  {
   "cell_type": "code",
   "execution_count": 65,
   "id": "8a2bb43e-b06f-4856-97d2-ad00d3a9d70e",
   "metadata": {},
   "outputs": [
    {
     "data": {
      "text/plain": [
       "(1, 2, (3, 4))"
      ]
     },
     "execution_count": 65,
     "metadata": {},
     "output_type": "execute_result"
    }
   ],
   "source": [
    "tempTuple = (1,2,(3,4))\n",
    "tempTuple"
   ]
  },
  {
   "cell_type": "code",
   "execution_count": 66,
   "id": "61e24470-0ee5-4c73-aa55-8bf6c9a2d7f2",
   "metadata": {},
   "outputs": [
    {
     "data": {
      "text/plain": [
       "(1, 2, 3, 4)"
      ]
     },
     "execution_count": 66,
     "metadata": {},
     "output_type": "execute_result"
    }
   ],
   "source": [
    "tempList = []\n",
    "for i in tempTuple:\n",
    "    if type(i) == tuple:\n",
    "        tempList.extend(i)\n",
    "    else:\n",
    "        tempList.append(i)\n",
    "        \n",
    "tempTuple = tuple(tempList)\n",
    "tempTuple"
   ]
  },
  {
   "cell_type": "markdown",
   "id": "7c499002-9aae-49f3-b272-d9efbc24b385",
   "metadata": {},
   "source": [
    "32. Create a tuple of the first 5 prime numbers."
   ]
  },
  {
   "cell_type": "code",
   "execution_count": 69,
   "id": "ec6185ed-add1-4853-a041-ae20fc799ea3",
   "metadata": {},
   "outputs": [
    {
     "data": {
      "text/plain": [
       "(2, 3, 5, 7, 11)"
      ]
     },
     "execution_count": 69,
     "metadata": {},
     "output_type": "execute_result"
    }
   ],
   "source": [
    "prime_numbers = [2]\n",
    "num = 3\n",
    "\n",
    "while len(prime_numbers) < 5:\n",
    "    is_prime = True\n",
    "    for divisor in range(3, int(num ** 0.5) + 1, 2):\n",
    "        if num % divisor == 0:\n",
    "            is_prime = False\n",
    "            break\n",
    "    if is_prime:\n",
    "        prime_numbers.append(num)\n",
    "    num += 2  \n",
    "\n",
    "tuple(prime_numbers)"
   ]
  },
  {
   "cell_type": "markdown",
   "id": "4c2501cc-d758-4aa7-aa7a-d252dba0c30a",
   "metadata": {},
   "source": [
    "33. Check if a tuple is a palindrome."
   ]
  },
  {
   "cell_type": "code",
   "execution_count": 70,
   "id": "3ae648f4-68c8-4dd6-95de-636124999fab",
   "metadata": {},
   "outputs": [
    {
     "data": {
      "text/plain": [
       "'racecar'"
      ]
     },
     "execution_count": 70,
     "metadata": {},
     "output_type": "execute_result"
    }
   ],
   "source": [
    "tempTuple = \"racecar\"\n",
    "tempTuple"
   ]
  },
  {
   "cell_type": "code",
   "execution_count": 71,
   "id": "41bcb120-775b-4b9c-876f-10cb2fa1d4a2",
   "metadata": {},
   "outputs": [
    {
     "data": {
      "text/plain": [
       "True"
      ]
     },
     "execution_count": 71,
     "metadata": {},
     "output_type": "execute_result"
    }
   ],
   "source": [
    "tempTuple == tempTuple[::-1]"
   ]
  },
  {
   "cell_type": "markdown",
   "id": "73195471-2cee-4e3e-b224-28a68ff53f48",
   "metadata": {},
   "source": [
    "34. Create a tuple of squares of numbers from 1 to 5."
   ]
  },
  {
   "cell_type": "code",
   "execution_count": 72,
   "id": "23b11c7d-e9fe-4800-ae23-6508a925da71",
   "metadata": {},
   "outputs": [
    {
     "data": {
      "text/plain": [
       "(1, 4, 9, 16, 25)"
      ]
     },
     "execution_count": 72,
     "metadata": {},
     "output_type": "execute_result"
    }
   ],
   "source": [
    "tempTuple = tuple(i**2 for i in range(1,6))\n",
    "tempTuple"
   ]
  },
  {
   "cell_type": "markdown",
   "id": "f4c3cf77-b45c-4a54-a2b5-baabc3310551",
   "metadata": {},
   "source": [
    "35. Filter out all even numbers from a tuple."
   ]
  },
  {
   "cell_type": "code",
   "execution_count": 73,
   "id": "8d671d9c-100a-495e-8413-81b98c8ca070",
   "metadata": {},
   "outputs": [
    {
     "data": {
      "text/plain": [
       "(1, 9, 25)"
      ]
     },
     "execution_count": 73,
     "metadata": {},
     "output_type": "execute_result"
    }
   ],
   "source": [
    "tempTuple = tuple(i for i in tempTuple if i%2 !=0)\n",
    "tempTuple"
   ]
  },
  {
   "cell_type": "markdown",
   "id": "52cb0c67-208b-4366-af7c-00217464b0a0",
   "metadata": {},
   "source": [
    "36. Multiply all elements in a tuple by 2."
   ]
  },
  {
   "cell_type": "code",
   "execution_count": 74,
   "id": "9ba122fb-4483-49d2-9335-3c85025575c1",
   "metadata": {},
   "outputs": [
    {
     "data": {
      "text/plain": [
       "(1, 2)"
      ]
     },
     "execution_count": 74,
     "metadata": {},
     "output_type": "execute_result"
    }
   ],
   "source": [
    "tuple1"
   ]
  },
  {
   "cell_type": "code",
   "execution_count": 76,
   "id": "83e3ee23-9287-4ca7-9a5b-7c47dace5da1",
   "metadata": {},
   "outputs": [
    {
     "data": {
      "text/plain": [
       "(2, 4)"
      ]
     },
     "execution_count": 76,
     "metadata": {},
     "output_type": "execute_result"
    }
   ],
   "source": [
    "tuple1 = tuple(i*2 for i in tuple1)\n",
    "tuple1"
   ]
  },
  {
   "cell_type": "markdown",
   "id": "781db0b2-abbe-40af-9965-4cefca3e2ec3",
   "metadata": {},
   "source": [
    "37. Create a tuple of random numbers."
   ]
  },
  {
   "cell_type": "code",
   "execution_count": 77,
   "id": "532e80b3-77f7-48e9-929e-eaf7a58e15bf",
   "metadata": {},
   "outputs": [],
   "source": [
    "import random"
   ]
  },
  {
   "cell_type": "code",
   "execution_count": 86,
   "id": "74765387-f1c2-41d8-ba20-6cd47ff81bad",
   "metadata": {},
   "outputs": [
    {
     "data": {
      "text/plain": [
       "(162, 621, 710, 327, 460, 440, 613, 482, 178, 104)"
      ]
     },
     "execution_count": 86,
     "metadata": {},
     "output_type": "execute_result"
    }
   ],
   "source": [
    "tempTuple = tuple(random.randint(1, 1000) for i in range(10))\n",
    "tempTuple"
   ]
  },
  {
   "cell_type": "markdown",
   "id": "2ec3d3c8-6046-4c60-bfef-1436fcf8cb78",
   "metadata": {},
   "source": [
    "38. Check if a tuple is sorted."
   ]
  },
  {
   "cell_type": "code",
   "execution_count": 87,
   "id": "439bf084-47f3-4bce-9c70-3761c6dd5129",
   "metadata": {},
   "outputs": [
    {
     "data": {
      "text/plain": [
       "(162, 621, 710, 327, 460, 440, 613, 482, 178, 104)"
      ]
     },
     "execution_count": 87,
     "metadata": {},
     "output_type": "execute_result"
    }
   ],
   "source": [
    "tempTuple"
   ]
  },
  {
   "cell_type": "code",
   "execution_count": 91,
   "id": "c26eefd5-499d-48a8-9602-0c3e517cdca4",
   "metadata": {},
   "outputs": [
    {
     "name": "stdout",
     "output_type": "stream",
     "text": [
      "not sorted\n"
     ]
    }
   ],
   "source": [
    "if tuple(sorted(tempTuple)) == tempTuple:\n",
    "    print('ascending sorted')\n",
    "elif tuple(sorted(tempTuple, reverse=True)) == tempTuple:\n",
    "    print('descending sorted')\n",
    "else:\n",
    "    print('not sorted')"
   ]
  },
  {
   "cell_type": "markdown",
   "id": "510f9c30-0cdd-4661-a044-61a3fdcb0f4a",
   "metadata": {},
   "source": [
    "39. Rotate a tuple to the left by `n` positions."
   ]
  },
  {
   "cell_type": "code",
   "execution_count": 94,
   "id": "ba1f139d-c575-4ad0-a491-6478ba4664ee",
   "metadata": {},
   "outputs": [
    {
     "data": {
      "text/plain": [
       "(162, 621, 710, 327, 460, 440, 613, 482, 178, 104)"
      ]
     },
     "execution_count": 94,
     "metadata": {},
     "output_type": "execute_result"
    }
   ],
   "source": [
    "tempTuple"
   ]
  },
  {
   "cell_type": "code",
   "execution_count": 95,
   "id": "bd86c82b-7f1f-4899-9e8a-e1e78d8b9917",
   "metadata": {},
   "outputs": [],
   "source": [
    "nPos = 4"
   ]
  },
  {
   "cell_type": "code",
   "execution_count": 96,
   "id": "831c8db1-001e-43ca-88f3-e86f4e6cc43a",
   "metadata": {},
   "outputs": [
    {
     "data": {
      "text/plain": [
       "(460, 440, 613, 482, 178, 104, 162, 621, 710, 327)"
      ]
     },
     "execution_count": 96,
     "metadata": {},
     "output_type": "execute_result"
    }
   ],
   "source": [
    "nPos = nPos % len(tempTuple) # to make it sure the n should be in range below the lenght of list\n",
    "\n",
    "rotList = tempTuple[nPos:] + tempTuple[:nPos]\n",
    "\n",
    "tuple(rotList)"
   ]
  },
  {
   "cell_type": "markdown",
   "id": "e61f1647-9a19-4ff8-b915-2ebdd6c1fdd2",
   "metadata": {},
   "source": [
    "40. Rotate a tuple to the right by `n` positions."
   ]
  },
  {
   "cell_type": "code",
   "execution_count": 97,
   "id": "8b9d8b29-7342-4c89-be95-748186d21a05",
   "metadata": {},
   "outputs": [
    {
     "data": {
      "text/plain": [
       "(162, 621, 710, 327, 460, 440, 613, 482, 178, 104)"
      ]
     },
     "execution_count": 97,
     "metadata": {},
     "output_type": "execute_result"
    }
   ],
   "source": [
    "nPos = nPos % len(tempTuple) # to make it sure the n should be in range below the lenght of list\n",
    "\n",
    "rotList = tempTuple[:nPos] + tempTuple[nPos:]\n",
    "\n",
    "tuple(rotList)"
   ]
  },
  {
   "cell_type": "markdown",
   "id": "52f81e19-dd48-4984-a39f-aa35a8ea9a6e",
   "metadata": {},
   "source": [
    "41. Create a tuple of the first 5 Fibonacci numbers."
   ]
  },
  {
   "cell_type": "code",
   "execution_count": 98,
   "id": "508ca78d-8bf9-4d17-9a59-228d0c73b3c1",
   "metadata": {},
   "outputs": [
    {
     "data": {
      "text/plain": [
       "(0, 1, 1, 2, 3)"
      ]
     },
     "execution_count": 98,
     "metadata": {},
     "output_type": "execute_result"
    }
   ],
   "source": [
    "fibList = [0,1]\n",
    "\n",
    "while len(fibList) <5:\n",
    "    nextFib = fibList[-1] + fibList[-2]\n",
    "    fibList.append(nextFib)\n",
    "    \n",
    "tuple(fibList)"
   ]
  },
  {
   "cell_type": "markdown",
   "id": "c563ee78-e044-4d1e-a3ad-4cc716b231b0",
   "metadata": {},
   "source": [
    "42. Create a tuple from user input."
   ]
  },
  {
   "cell_type": "code",
   "execution_count": 116,
   "id": "c5e98a15-ca45-4535-98dc-a5ce634598e5",
   "metadata": {},
   "outputs": [
    {
     "name": "stdin",
     "output_type": "stream",
     "text": [
      "enter the value to create customTuple: 1\n"
     ]
    },
    {
     "data": {
      "text/plain": [
       "('1',)"
      ]
     },
     "execution_count": 116,
     "metadata": {},
     "output_type": "execute_result"
    }
   ],
   "source": [
    "tempTuple = tuple(input(\"enter the value to create customTuple:\"))\n",
    "\n",
    "tempTuple"
   ]
  },
  {
   "cell_type": "markdown",
   "id": "23d18f56-5b33-4878-9c07-475c0fdc01b0",
   "metadata": {},
   "source": [
    "43. Swap two elements in a tuple."
   ]
  },
  {
   "cell_type": "code",
   "execution_count": 101,
   "id": "662e40be-891e-42d8-9510-9725d799ff7c",
   "metadata": {},
   "outputs": [
    {
     "data": {
      "text/plain": [
       "('pi', 'qi')"
      ]
     },
     "execution_count": 101,
     "metadata": {},
     "output_type": "execute_result"
    }
   ],
   "source": [
    "tempTuple = ('pi', 'qi')\n",
    "tempTuple"
   ]
  },
  {
   "cell_type": "code",
   "execution_count": 103,
   "id": "b8c17e4d-aa30-46dd-b403-489494296639",
   "metadata": {},
   "outputs": [],
   "source": [
    "swapWithIndex = 1\n",
    "swapToIndex = 0"
   ]
  },
  {
   "cell_type": "code",
   "execution_count": 104,
   "id": "4238a030-5c71-420d-81a1-4d9e83f5bed3",
   "metadata": {},
   "outputs": [
    {
     "data": {
      "text/plain": [
       "('qi', 'pi')"
      ]
     },
     "execution_count": 104,
     "metadata": {},
     "output_type": "execute_result"
    }
   ],
   "source": [
    "tempList = list(tempTuple)\n",
    "# converted to list as tuple are immutable\n",
    "\n",
    "tempList[swapToIndex], tempList[swapWithIndex] = tempList[swapWithIndex], tempList[swapToIndex]\n",
    "tempTuple = tuple(tempList)\n",
    "tempTuple"
   ]
  },
  {
   "cell_type": "markdown",
   "id": "f25b41a2-7155-49d2-836f-e15e074e134a",
   "metadata": {},
   "source": [
    "44. Reverse the elements of a tuple."
   ]
  },
  {
   "cell_type": "code",
   "execution_count": 105,
   "id": "56b742df-0a66-46c5-8ec1-b5b771aba998",
   "metadata": {},
   "outputs": [
    {
     "data": {
      "text/plain": [
       "['qi', 'pi']"
      ]
     },
     "execution_count": 105,
     "metadata": {},
     "output_type": "execute_result"
    }
   ],
   "source": [
    "tempList"
   ]
  },
  {
   "cell_type": "code",
   "execution_count": 106,
   "id": "b31785d3-9503-428c-bab3-20f0e0af73f9",
   "metadata": {},
   "outputs": [
    {
     "data": {
      "text/plain": [
       "['pi', 'qi']"
      ]
     },
     "execution_count": 106,
     "metadata": {},
     "output_type": "execute_result"
    }
   ],
   "source": [
    "revtempList = tempList[::-1]\n",
    "revtempList"
   ]
  },
  {
   "cell_type": "markdown",
   "id": "5716f854-f997-4f99-86ed-472ffb9d07cf",
   "metadata": {},
   "source": [
    "45. Create a tuple of the first `n` powers of 2."
   ]
  },
  {
   "cell_type": "code",
   "execution_count": 107,
   "id": "19779874-c71f-4f92-9dd9-de9929922d3e",
   "metadata": {},
   "outputs": [],
   "source": [
    "n = 5"
   ]
  },
  {
   "cell_type": "code",
   "execution_count": 111,
   "id": "0319345f-076f-4b09-ad2d-3502facd92e7",
   "metadata": {},
   "outputs": [
    {
     "data": {
      "text/plain": [
       "(0, 1, 4, 9, 16)"
      ]
     },
     "execution_count": 111,
     "metadata": {},
     "output_type": "execute_result"
    }
   ],
   "source": [
    "tempTuple = tuple(i**2 for i in range(n)) # if starting index is default 0\n",
    "tempTuple"
   ]
  },
  {
   "cell_type": "code",
   "execution_count": 112,
   "id": "48a5d6ef-02de-42f0-8bbb-1cea94a57e7a",
   "metadata": {},
   "outputs": [
    {
     "data": {
      "text/plain": [
       "(1, 4, 9, 16, 25)"
      ]
     },
     "execution_count": 112,
     "metadata": {},
     "output_type": "execute_result"
    }
   ],
   "source": [
    "tempTuple = tuple(i**2 for i in range(1, n+1))\n",
    "tempTuple"
   ]
  },
  {
   "cell_type": "markdown",
   "id": "e02f5481-70b6-43b5-a105-20e365206176",
   "metadata": {},
   "source": [
    "47. Find the shortest string in a tuple of strings."
   ]
  },
  {
   "cell_type": "code",
   "execution_count": 113,
   "id": "fa0d0a6a-e4e3-4077-906f-29bb5a0b48fa",
   "metadata": {},
   "outputs": [
    {
     "data": {
      "text/plain": [
       "'Find the shortest string in a tuple of strings.'"
      ]
     },
     "execution_count": 113,
     "metadata": {},
     "output_type": "execute_result"
    }
   ],
   "source": [
    "tempStr = 'Find the shortest string in a tuple of strings.'\n",
    "tempStr"
   ]
  },
  {
   "cell_type": "code",
   "execution_count": 118,
   "id": "b087affb-2102-496e-9294-87c8eb33471a",
   "metadata": {},
   "outputs": [
    {
     "data": {
      "text/plain": [
       "('Find', 'the', 'shortest', 'string', 'in', 'a', 'tuple', 'of', 'strings.')"
      ]
     },
     "execution_count": 118,
     "metadata": {},
     "output_type": "execute_result"
    }
   ],
   "source": [
    "tempTuple = tuple(tempStr.split())\n",
    "tempTuple"
   ]
  },
  {
   "cell_type": "code",
   "execution_count": 119,
   "id": "5be0c6c2-13da-42d0-8c37-143849008e53",
   "metadata": {},
   "outputs": [
    {
     "data": {
      "text/plain": [
       "'a'"
      ]
     },
     "execution_count": 119,
     "metadata": {},
     "output_type": "execute_result"
    }
   ],
   "source": [
    "min(tempTuple, key = len)"
   ]
  },
  {
   "cell_type": "markdown",
   "id": "67af3da8-5c81-407d-ba0e-51850b923c57",
   "metadata": {},
   "source": [
    "48. Create a tuple of the first `n` triangular numbers."
   ]
  },
  {
   "cell_type": "code",
   "execution_count": 120,
   "id": "42d96162-a74b-443a-9ea9-8cbc9c7f773f",
   "metadata": {},
   "outputs": [],
   "source": [
    "# n(n+1)/2 "
   ]
  },
  {
   "cell_type": "code",
   "execution_count": 121,
   "id": "a4d5793b-fe18-450f-b6fc-14ddbf94c986",
   "metadata": {},
   "outputs": [
    {
     "data": {
      "text/plain": [
       "(1, 3, 6, 10, 15)"
      ]
     },
     "execution_count": 121,
     "metadata": {},
     "output_type": "execute_result"
    }
   ],
   "source": [
    "tempTuple = tuple((i * (i + 1)) // 2 for i in range(1, n + 1))\n",
    "tempTuple"
   ]
  },
  {
   "cell_type": "markdown",
   "id": "403236ed-bd38-4928-a218-a5fe7946b201",
   "metadata": {},
   "source": [
    "49. Check if a tuple contains another tuple as a subsequence."
   ]
  },
  {
   "cell_type": "code",
   "execution_count": 122,
   "id": "6895d8da-4dc9-4138-b006-001bb8781a44",
   "metadata": {},
   "outputs": [
    {
     "data": {
      "text/plain": [
       "(1, 2, 4, 6, 8)"
      ]
     },
     "execution_count": 122,
     "metadata": {},
     "output_type": "execute_result"
    }
   ],
   "source": [
    "tuple1 = (1,2,4,6,8)\n",
    "tuple1"
   ]
  },
  {
   "cell_type": "code",
   "execution_count": 125,
   "id": "a377f4cf-3ab1-42ea-a285-01b34333f711",
   "metadata": {},
   "outputs": [
    {
     "data": {
      "text/plain": [
       "(4, 6)"
      ]
     },
     "execution_count": 125,
     "metadata": {},
     "output_type": "execute_result"
    }
   ],
   "source": [
    "tuple2 = (4,6)\n",
    "tuple2"
   ]
  },
  {
   "cell_type": "code",
   "execution_count": 128,
   "id": "63b1fb2d-dcc9-47e0-9ce8-40f7bdd8c5b0",
   "metadata": {},
   "outputs": [
    {
     "data": {
      "text/plain": [
       "True"
      ]
     },
     "execution_count": 128,
     "metadata": {},
     "output_type": "execute_result"
    }
   ],
   "source": [
    "res = all(ele in tuple1 for ele in tuple2) # ref. https://www.geeksforgeeks.org/python-check-if-one-tuple-is-subset-of-other/\n",
    "res"
   ]
  },
  {
   "cell_type": "markdown",
   "id": "0e130ea3-69e9-4514-b51c-2124029454f3",
   "metadata": {},
   "source": [
    "50. Create a tuple of alternating 1s and 0s of length `n`."
   ]
  },
  {
   "cell_type": "code",
   "execution_count": 129,
   "id": "96cea384-8def-4849-a40a-433cdaceed91",
   "metadata": {},
   "outputs": [],
   "source": [
    "n = 10"
   ]
  },
  {
   "cell_type": "code",
   "execution_count": 137,
   "id": "aab329ff-048c-48cb-962c-cba9b438a46a",
   "metadata": {},
   "outputs": [
    {
     "data": {
      "text/plain": [
       "(0, 1, 0, 1, 1, 1, 1, 1, 0, 1)"
      ]
     },
     "execution_count": 137,
     "metadata": {},
     "output_type": "execute_result"
    }
   ],
   "source": [
    "tempTuple = tuple(random.randrange(0,2) for i in range(10))\n",
    "tempTuple"
   ]
  },
  {
   "cell_type": "markdown",
   "id": "78188433-c8f4-4c08-b157-b1e23b781544",
   "metadata": {},
   "source": [
    "TOPIC: Set Based Practice Problem "
   ]
  },
  {
   "cell_type": "markdown",
   "id": "99f42f01-9045-4a0e-b3af-fd75728d9b08",
   "metadata": {},
   "source": [
    "1. Create a set with integers from 1 to 5."
   ]
  },
  {
   "cell_type": "code",
   "execution_count": 138,
   "id": "c681e12a-8d1b-4b73-8e64-d6b91f00e8fe",
   "metadata": {},
   "outputs": [
    {
     "data": {
      "text/plain": [
       "{1, 2, 3, 4, 5}"
      ]
     },
     "execution_count": 138,
     "metadata": {},
     "output_type": "execute_result"
    }
   ],
   "source": [
    "tempSet = {i for i in range(1, 6)}\n",
    "tempSet"
   ]
  },
  {
   "cell_type": "markdown",
   "id": "fa740247-9073-4b2c-8f86-4cabf351202f",
   "metadata": {},
   "source": [
    "2. Add an element to a set."
   ]
  },
  {
   "cell_type": "code",
   "execution_count": 139,
   "id": "1aa2ca55-27e0-4639-9e16-6729d1bb1118",
   "metadata": {},
   "outputs": [
    {
     "data": {
      "text/plain": [
       "{1, 2, 3, 4, 5, 99}"
      ]
     },
     "execution_count": 139,
     "metadata": {},
     "output_type": "execute_result"
    }
   ],
   "source": [
    "tempSet.add(99)\n",
    "tempSet"
   ]
  },
  {
   "cell_type": "markdown",
   "id": "5f175441-47d8-4f98-a593-8eea3b7901fd",
   "metadata": {},
   "source": [
    "3. Remove an element from a set."
   ]
  },
  {
   "cell_type": "code",
   "execution_count": 140,
   "id": "043ded74-7e20-4689-b77f-aa61dd3e3487",
   "metadata": {},
   "outputs": [],
   "source": [
    "elementToRemove = 5"
   ]
  },
  {
   "cell_type": "code",
   "execution_count": 141,
   "id": "18ecc912-9b10-425f-9803-cb9f12b617ef",
   "metadata": {},
   "outputs": [
    {
     "data": {
      "text/plain": [
       "{1, 2, 3, 4, 99}"
      ]
     },
     "execution_count": 141,
     "metadata": {},
     "output_type": "execute_result"
    }
   ],
   "source": [
    "tempSet.discard(elementToRemove)\n",
    "tempSet"
   ]
  },
  {
   "cell_type": "markdown",
   "id": "05f9c725-0018-449b-9267-4eb837f8a5d3",
   "metadata": {},
   "source": [
    "4. Check if an element exists in a set."
   ]
  },
  {
   "cell_type": "code",
   "execution_count": 142,
   "id": "f2e744bf-30d6-451d-add1-6333204b5dac",
   "metadata": {},
   "outputs": [],
   "source": [
    "element = 99"
   ]
  },
  {
   "cell_type": "code",
   "execution_count": 143,
   "id": "f886eea6-89be-4b8b-a2f3-cb8fee63331e",
   "metadata": {},
   "outputs": [
    {
     "data": {
      "text/plain": [
       "True"
      ]
     },
     "execution_count": 143,
     "metadata": {},
     "output_type": "execute_result"
    }
   ],
   "source": [
    "element in tempSet"
   ]
  },
  {
   "cell_type": "markdown",
   "id": "9bd4e32d-d4f4-4a07-a3e5-cb4deb642fe0",
   "metadata": {},
   "source": [
    "5. Find the length of a set without using the `len()` function."
   ]
  },
  {
   "cell_type": "code",
   "execution_count": 148,
   "id": "7db96f5b-44d7-4efe-bedd-78f4a63fa0aa",
   "metadata": {},
   "outputs": [
    {
     "name": "stdout",
     "output_type": "stream",
     "text": [
      "5\n"
     ]
    }
   ],
   "source": [
    "setLength = 0\n",
    "\n",
    "for i in tempSet:\n",
    "    setLength +=1\n",
    "print(setLength)"
   ]
  },
  {
   "cell_type": "markdown",
   "id": "07bdcddf-3fff-47b8-8cd0-92e194934117",
   "metadata": {},
   "source": [
    "6. Clear all elements from a set."
   ]
  },
  {
   "cell_type": "code",
   "execution_count": 149,
   "id": "2535e238-3bef-4e87-91f3-e60216fbed8f",
   "metadata": {},
   "outputs": [
    {
     "data": {
      "text/plain": [
       "set()"
      ]
     },
     "execution_count": 149,
     "metadata": {},
     "output_type": "execute_result"
    }
   ],
   "source": [
    "tempSet.clear()\n",
    "tempSet"
   ]
  },
  {
   "cell_type": "markdown",
   "id": "42473fd8-23bf-44c2-b8fa-a6f76f7ffc65",
   "metadata": {},
   "source": [
    "7. Create a set of even numbers from 1 to 10."
   ]
  },
  {
   "cell_type": "code",
   "execution_count": 150,
   "id": "ca2da4ed-9063-44a1-ba93-1f4978f8c3ea",
   "metadata": {},
   "outputs": [
    {
     "data": {
      "text/plain": [
       "{2, 4, 6, 8, 10}"
      ]
     },
     "execution_count": 150,
     "metadata": {},
     "output_type": "execute_result"
    }
   ],
   "source": [
    "tempSet = set(i for i in range(1, 11) if i%2==0)\n",
    "tempSet"
   ]
  },
  {
   "cell_type": "markdown",
   "id": "70876e8f-d993-4dce-8ec4-4bdca0c27a06",
   "metadata": {},
   "source": [
    "8. Create a set of odd numbers from 1 to 10."
   ]
  },
  {
   "cell_type": "code",
   "execution_count": 151,
   "id": "0a6c5f03-434e-4aa8-a1cf-4215066e288d",
   "metadata": {},
   "outputs": [
    {
     "data": {
      "text/plain": [
       "{1, 3, 5, 7, 9}"
      ]
     },
     "execution_count": 151,
     "metadata": {},
     "output_type": "execute_result"
    }
   ],
   "source": [
    "tempSet = set(i for i in range(1, 11) if i%2!=0)\n",
    "tempSet"
   ]
  },
  {
   "cell_type": "markdown",
   "id": "9c7d45af-ab6f-487c-b4de-2444d2cada1e",
   "metadata": {},
   "source": [
    "9. Find the union of two sets."
   ]
  },
  {
   "cell_type": "code",
   "execution_count": 152,
   "id": "683bbb38-3546-4ad2-ad4f-0e355d8a3392",
   "metadata": {},
   "outputs": [
    {
     "data": {
      "text/plain": [
       "{1, 3, 5, 7, 9}"
      ]
     },
     "execution_count": 152,
     "metadata": {},
     "output_type": "execute_result"
    }
   ],
   "source": [
    "tempSet1 = tempSet\n",
    "tempSet1"
   ]
  },
  {
   "cell_type": "code",
   "execution_count": 155,
   "id": "828ac51d-aa65-429f-b7c1-eeb1d3fc7211",
   "metadata": {},
   "outputs": [
    {
     "data": {
      "text/plain": [
       "{9, 12, 13}"
      ]
     },
     "execution_count": 155,
     "metadata": {},
     "output_type": "execute_result"
    }
   ],
   "source": [
    "tempSet2 = {13,12,9}\n",
    "tempSet2"
   ]
  },
  {
   "cell_type": "code",
   "execution_count": 156,
   "id": "03c1a405-154d-4fed-a13d-2a2e9e9c7194",
   "metadata": {},
   "outputs": [
    {
     "data": {
      "text/plain": [
       "{1, 3, 5, 7, 9, 12, 13}"
      ]
     },
     "execution_count": 156,
     "metadata": {},
     "output_type": "execute_result"
    }
   ],
   "source": [
    "tempSet1.union(tempSet2)"
   ]
  },
  {
   "cell_type": "markdown",
   "id": "5f2b85c1-b64c-4ab7-bfb7-dd1590b59faa",
   "metadata": {},
   "source": [
    "10. Find the intersection of two sets."
   ]
  },
  {
   "cell_type": "code",
   "execution_count": 157,
   "id": "6df38cc1-f003-4cc2-bc95-858791790886",
   "metadata": {},
   "outputs": [
    {
     "data": {
      "text/plain": [
       "{1, 3, 5, 7, 9}"
      ]
     },
     "execution_count": 157,
     "metadata": {},
     "output_type": "execute_result"
    }
   ],
   "source": [
    "tempSet1"
   ]
  },
  {
   "cell_type": "code",
   "execution_count": 158,
   "id": "3644f545-e8fb-4899-ba42-bbdedbf586ac",
   "metadata": {},
   "outputs": [
    {
     "data": {
      "text/plain": [
       "{9, 12, 13}"
      ]
     },
     "execution_count": 158,
     "metadata": {},
     "output_type": "execute_result"
    }
   ],
   "source": [
    "tempSet2"
   ]
  },
  {
   "cell_type": "code",
   "execution_count": 159,
   "id": "6d5a4e87-67e8-413b-ac0d-69cce4c66dd4",
   "metadata": {},
   "outputs": [
    {
     "data": {
      "text/plain": [
       "{9}"
      ]
     },
     "execution_count": 159,
     "metadata": {},
     "output_type": "execute_result"
    }
   ],
   "source": [
    "tempSet1.intersection(tempSet2)"
   ]
  },
  {
   "cell_type": "markdown",
   "id": "749a3ad4-20b5-451d-a4ba-8986750bbb38",
   "metadata": {},
   "source": [
    "11. Find the difference between two sets."
   ]
  },
  {
   "cell_type": "code",
   "execution_count": 160,
   "id": "8e4b7a3b-942b-4c16-adbb-5a71139236ba",
   "metadata": {},
   "outputs": [
    {
     "data": {
      "text/plain": [
       "{1, 3, 5, 7}"
      ]
     },
     "execution_count": 160,
     "metadata": {},
     "output_type": "execute_result"
    }
   ],
   "source": [
    "tempSet1.difference(tempSet2)"
   ]
  },
  {
   "cell_type": "markdown",
   "id": "636a66e1-4a3d-42f9-bd18-f9d9341c83ef",
   "metadata": {},
   "source": [
    "12. Check if a set is a subset of another set."
   ]
  },
  {
   "cell_type": "code",
   "execution_count": 161,
   "id": "f0ab61c8-78db-480f-a766-5d743bcc5656",
   "metadata": {},
   "outputs": [
    {
     "data": {
      "text/plain": [
       "{1, 3, 5, 7, 9}"
      ]
     },
     "execution_count": 161,
     "metadata": {},
     "output_type": "execute_result"
    }
   ],
   "source": [
    "tempSet1"
   ]
  },
  {
   "cell_type": "code",
   "execution_count": 162,
   "id": "2d20db4a-2bcd-44be-804b-c62608b6bef5",
   "metadata": {},
   "outputs": [],
   "source": [
    "tempSet2 = {3,5}"
   ]
  },
  {
   "cell_type": "code",
   "execution_count": 165,
   "id": "66fff605-0184-4296-ad10-dd1b66eb92ad",
   "metadata": {},
   "outputs": [
    {
     "name": "stdout",
     "output_type": "stream",
     "text": [
      "True\n"
     ]
    }
   ],
   "source": [
    "lenSet1 = len(tempSet1)\n",
    "lenSet2 = len(tempSet2)\n",
    "\n",
    "if(lenSet1> lenSet2):\n",
    "    print(tempSet2.issubset(tempSet1))\n",
    "elif(lenSet1< lenSet2):\n",
    "    print(tempSet1.issubset(tempSet2))\n",
    "else:\n",
    "    print('sub set elements are different')"
   ]
  },
  {
   "cell_type": "markdown",
   "id": "4bf59034-0b97-43ae-a059-103feaca3a6f",
   "metadata": {},
   "source": [
    "13. Check if a set is a superset of another set."
   ]
  },
  {
   "cell_type": "code",
   "execution_count": 168,
   "id": "846744fa-8149-4ef6-8131-9e20d770e235",
   "metadata": {},
   "outputs": [
    {
     "name": "stdout",
     "output_type": "stream",
     "text": [
      "tempSet1 is superset True\n"
     ]
    }
   ],
   "source": [
    "lenSet1 = len(tempSet1)\n",
    "lenSet2 = len(tempSet2)\n",
    "\n",
    "if(lenSet1< lenSet2):\n",
    "    print(\"tempSet2 is superset\", tempSet2.issuperset(tempSet1))\n",
    "elif(lenSet1> lenSet2):\n",
    "    print(\"tempSet1 is superset\", tempSet1.issuperset(tempSet2))\n",
    "else:\n",
    "    print('sub set elements are different')"
   ]
  },
  {
   "cell_type": "markdown",
   "id": "b9c4c27f-260a-4f3f-84eb-b29332ab8234",
   "metadata": {},
   "source": [
    "14. Create a set from a list."
   ]
  },
  {
   "cell_type": "code",
   "execution_count": 169,
   "id": "412f1aa8-8898-4010-8d08-2a9472b0d6ed",
   "metadata": {},
   "outputs": [
    {
     "data": {
      "text/plain": [
       "[1, 2, 5, 6, 5, 6, 6, 6]"
      ]
     },
     "execution_count": 169,
     "metadata": {},
     "output_type": "execute_result"
    }
   ],
   "source": [
    "tempList = [1,2,5,6,5,6,6,6]\n",
    "tempList"
   ]
  },
  {
   "cell_type": "code",
   "execution_count": 189,
   "id": "5ce9ce6b-2c3c-4a51-8d10-24f512b37580",
   "metadata": {},
   "outputs": [
    {
     "data": {
      "text/plain": [
       "{1, 2, 5, 6}"
      ]
     },
     "execution_count": 189,
     "metadata": {},
     "output_type": "execute_result"
    }
   ],
   "source": [
    "tempSet = set(tempList)\n",
    "tempSet"
   ]
  },
  {
   "cell_type": "markdown",
   "id": "b20caaf9-8942-4efe-9e20-a6395f7c2b46",
   "metadata": {},
   "source": [
    "15. Convert a set to a list."
   ]
  },
  {
   "cell_type": "code",
   "execution_count": 190,
   "id": "e7aeb356-8a69-4e3b-877c-cc62cdcc7608",
   "metadata": {},
   "outputs": [
    {
     "data": {
      "text/plain": [
       "[1, 2, 5, 6]"
      ]
     },
     "execution_count": 190,
     "metadata": {},
     "output_type": "execute_result"
    }
   ],
   "source": [
    "tempList = list(tempSet)\n",
    "tempList"
   ]
  },
  {
   "cell_type": "markdown",
   "id": "8cad8448-3c9b-4043-b60a-aadffee70c06",
   "metadata": {},
   "source": [
    "16. Remove a random element from a set."
   ]
  },
  {
   "cell_type": "code",
   "execution_count": 194,
   "id": "541e864a-7108-4c49-9dc4-99d8dc6bbff5",
   "metadata": {},
   "outputs": [
    {
     "name": "stderr",
     "output_type": "stream",
     "text": [
      "/tmp/ipykernel_86/3259700448.py:1: DeprecationWarning: Sampling from a set deprecated\n",
      "since Python 3.9 and will be removed in a subsequent version.\n",
      "  tempEle = random.sample(tempSet, 1)\n"
     ]
    },
    {
     "data": {
      "text/plain": [
       "[6]"
      ]
     },
     "execution_count": 194,
     "metadata": {},
     "output_type": "execute_result"
    }
   ],
   "source": [
    "tempEle = random.sample(tempSet, 1)\n",
    "tempEle"
   ]
  },
  {
   "cell_type": "code",
   "execution_count": 195,
   "id": "cc0f06d2-6e90-4b2a-8541-cedd1b3cb1f5",
   "metadata": {},
   "outputs": [
    {
     "data": {
      "text/plain": [
       "{1, 2, 5}"
      ]
     },
     "execution_count": 195,
     "metadata": {},
     "output_type": "execute_result"
    }
   ],
   "source": [
    "tempSet.discard(tempEle[0])\n",
    "\n",
    "tempSet"
   ]
  },
  {
   "cell_type": "markdown",
   "id": "b3c5cf5d-d64e-4dbf-8513-d54e7f702749",
   "metadata": {},
   "source": [
    "17. Pop an element from a set."
   ]
  },
  {
   "cell_type": "code",
   "execution_count": 196,
   "id": "b9793def-c254-408a-8394-bef52dcb9e84",
   "metadata": {},
   "outputs": [
    {
     "data": {
      "text/plain": [
       "1"
      ]
     },
     "execution_count": 196,
     "metadata": {},
     "output_type": "execute_result"
    }
   ],
   "source": [
    "tempSet.pop()"
   ]
  },
  {
   "cell_type": "markdown",
   "id": "fa4154a1-4760-4efc-aa70-4704b3c3a5bb",
   "metadata": {},
   "source": [
    "18. Check if two sets have no elements in common."
   ]
  },
  {
   "cell_type": "code",
   "execution_count": 197,
   "id": "2c3c54a3-6db1-4fb8-987b-aa8a380927b7",
   "metadata": {},
   "outputs": [],
   "source": [
    "tempSet1 = {1,2,4}\n",
    "tempSet2 = {5,7}"
   ]
  },
  {
   "cell_type": "code",
   "execution_count": 198,
   "id": "91d5b49e-48ec-4bc7-b8fa-9ae1979e0379",
   "metadata": {},
   "outputs": [
    {
     "data": {
      "text/plain": [
       "True"
      ]
     },
     "execution_count": 198,
     "metadata": {},
     "output_type": "execute_result"
    }
   ],
   "source": [
    "len(tempSet1.intersection(tempSet2)) == 0"
   ]
  },
  {
   "cell_type": "markdown",
   "id": "1c5d9573-eadc-4985-8ac9-f2ef7770242b",
   "metadata": {},
   "source": [
    "19. Find the symmetric difference between two sets."
   ]
  },
  {
   "cell_type": "code",
   "execution_count": 199,
   "id": "40d2db95-b936-41e9-97a0-cc27df6c4c99",
   "metadata": {},
   "outputs": [
    {
     "data": {
      "text/plain": [
       "{1, 2, 4}"
      ]
     },
     "execution_count": 199,
     "metadata": {},
     "output_type": "execute_result"
    }
   ],
   "source": [
    "tempSet1"
   ]
  },
  {
   "cell_type": "code",
   "execution_count": 200,
   "id": "57495bf9-09a7-4fd4-917e-776d2afd74db",
   "metadata": {},
   "outputs": [
    {
     "data": {
      "text/plain": [
       "{2, 99}"
      ]
     },
     "execution_count": 200,
     "metadata": {},
     "output_type": "execute_result"
    }
   ],
   "source": [
    "tempSet2 = {2,99}\n",
    "tempSet2"
   ]
  },
  {
   "cell_type": "code",
   "execution_count": 201,
   "id": "3c56223c-f486-45b3-a81b-4c79382c7ea9",
   "metadata": {},
   "outputs": [
    {
     "data": {
      "text/plain": [
       "{1, 4, 99}"
      ]
     },
     "execution_count": 201,
     "metadata": {},
     "output_type": "execute_result"
    }
   ],
   "source": [
    "tempSet1.symmetric_difference(tempSet2)"
   ]
  },
  {
   "cell_type": "markdown",
   "id": "488ea773-2da4-4d9c-8b17-26642fa2cfb1",
   "metadata": {},
   "source": [
    "20. Update a set with elements from another set."
   ]
  },
  {
   "cell_type": "code",
   "execution_count": 202,
   "id": "725ce10b-6892-446c-bcdd-e640ffff3878",
   "metadata": {},
   "outputs": [
    {
     "data": {
      "text/plain": [
       "{1, 2, 4}"
      ]
     },
     "execution_count": 202,
     "metadata": {},
     "output_type": "execute_result"
    }
   ],
   "source": [
    "tempSet1"
   ]
  },
  {
   "cell_type": "code",
   "execution_count": 203,
   "id": "b0f82f3a-21b1-4087-9156-ca4bee48793e",
   "metadata": {},
   "outputs": [
    {
     "data": {
      "text/plain": [
       "{2, 99}"
      ]
     },
     "execution_count": 203,
     "metadata": {},
     "output_type": "execute_result"
    }
   ],
   "source": [
    "tempSet2"
   ]
  },
  {
   "cell_type": "code",
   "execution_count": 204,
   "id": "9a0772a2-85ff-4f88-9c23-315fb199458b",
   "metadata": {},
   "outputs": [],
   "source": [
    "tempSet1.update(tempSet2)"
   ]
  },
  {
   "cell_type": "code",
   "execution_count": 205,
   "id": "f53fb347-a755-4ae3-8e4f-c2219750c358",
   "metadata": {},
   "outputs": [
    {
     "data": {
      "text/plain": [
       "{1, 2, 4, 99}"
      ]
     },
     "execution_count": 205,
     "metadata": {},
     "output_type": "execute_result"
    }
   ],
   "source": [
    "tempSet1"
   ]
  },
  {
   "cell_type": "markdown",
   "id": "5f38866f-2455-4e40-8132-697a6de61f5a",
   "metadata": {},
   "source": [
    "21. Create a set of the first 5 prime numbers."
   ]
  },
  {
   "cell_type": "code",
   "execution_count": 206,
   "id": "f39d6967-ccc4-4111-be9a-b8521c454a95",
   "metadata": {},
   "outputs": [
    {
     "data": {
      "text/plain": [
       "{2, 3, 5, 7, 11}"
      ]
     },
     "execution_count": 206,
     "metadata": {},
     "output_type": "execute_result"
    }
   ],
   "source": [
    "prime_numbers = {2}\n",
    "num = 3\n",
    "\n",
    "while len(prime_numbers) < 5:\n",
    "    is_prime = True\n",
    "    for divisor in range(3, int(num ** 0.5) + 1, 2):\n",
    "        if num % divisor == 0:\n",
    "            is_prime = False\n",
    "            break\n",
    "    if is_prime:\n",
    "        prime_numbers.add(num)\n",
    "    num += 2  \n",
    "\n",
    "prime_numbers"
   ]
  },
  {
   "cell_type": "markdown",
   "id": "4d834e3a-522f-45ed-a246-91b1d313d59d",
   "metadata": {},
   "source": [
    "22. Check if two sets are identical."
   ]
  },
  {
   "cell_type": "code",
   "execution_count": 207,
   "id": "bc194caa-5347-4b72-9c7e-ac1dbbea7033",
   "metadata": {},
   "outputs": [
    {
     "data": {
      "text/plain": [
       "{1, 2, 4, 99}"
      ]
     },
     "execution_count": 207,
     "metadata": {},
     "output_type": "execute_result"
    }
   ],
   "source": [
    "tempSet1"
   ]
  },
  {
   "cell_type": "code",
   "execution_count": 208,
   "id": "5a282be6-bd91-4144-adca-6e89744380ce",
   "metadata": {},
   "outputs": [
    {
     "data": {
      "text/plain": [
       "{2, 99}"
      ]
     },
     "execution_count": 208,
     "metadata": {},
     "output_type": "execute_result"
    }
   ],
   "source": [
    "tempSet2"
   ]
  },
  {
   "cell_type": "code",
   "execution_count": 209,
   "id": "d4015155-0280-40e6-a2e0-adfeac576e39",
   "metadata": {},
   "outputs": [
    {
     "data": {
      "text/plain": [
       "False"
      ]
     },
     "execution_count": 209,
     "metadata": {},
     "output_type": "execute_result"
    }
   ],
   "source": [
    "tempSet1 == tempSet2"
   ]
  },
  {
   "cell_type": "code",
   "execution_count": 210,
   "id": "36777fa6-3d96-49af-ada9-140c28069a09",
   "metadata": {},
   "outputs": [],
   "source": [
    "tempSet3 = {99,2}"
   ]
  },
  {
   "cell_type": "code",
   "execution_count": 211,
   "id": "557bfa35-e434-4f19-9499-7e3b9999d4d1",
   "metadata": {},
   "outputs": [
    {
     "data": {
      "text/plain": [
       "True"
      ]
     },
     "execution_count": 211,
     "metadata": {},
     "output_type": "execute_result"
    }
   ],
   "source": [
    "tempSet2 == tempSet3"
   ]
  },
  {
   "cell_type": "markdown",
   "id": "f6d05bfe-8ac1-41ee-be42-bad0f5edd081",
   "metadata": {},
   "source": [
    "23. Create a frozen set."
   ]
  },
  {
   "cell_type": "code",
   "execution_count": 214,
   "id": "1487a778-92fe-4cc2-8ff3-24f6db4efd0f",
   "metadata": {},
   "outputs": [
    {
     "data": {
      "text/plain": [
       "frozenset({1, 2, 4, 99})"
      ]
     },
     "execution_count": 214,
     "metadata": {},
     "output_type": "execute_result"
    }
   ],
   "source": [
    "frozenset(tempSet1)"
   ]
  },
  {
   "cell_type": "markdown",
   "id": "40993eb6-ca8a-4dfe-97b2-483f00dfc701",
   "metadata": {},
   "source": [
    "24. Check if a set is disjoint with another set.|"
   ]
  },
  {
   "cell_type": "code",
   "execution_count": 215,
   "id": "9f4826de-45ed-470d-8193-55f3050a3d0f",
   "metadata": {},
   "outputs": [
    {
     "data": {
      "text/plain": [
       "{1, 2, 4, 99}"
      ]
     },
     "execution_count": 215,
     "metadata": {},
     "output_type": "execute_result"
    }
   ],
   "source": [
    "tempSet1"
   ]
  },
  {
   "cell_type": "code",
   "execution_count": 216,
   "id": "854bf715-9d5e-454b-befd-4981fb35bd74",
   "metadata": {},
   "outputs": [
    {
     "data": {
      "text/plain": [
       "{2, 99}"
      ]
     },
     "execution_count": 216,
     "metadata": {},
     "output_type": "execute_result"
    }
   ],
   "source": [
    "tempSet2"
   ]
  },
  {
   "cell_type": "code",
   "execution_count": 217,
   "id": "861d458a-322c-480a-9fa6-27a933e5c819",
   "metadata": {},
   "outputs": [
    {
     "data": {
      "text/plain": [
       "False"
      ]
     },
     "execution_count": 217,
     "metadata": {},
     "output_type": "execute_result"
    }
   ],
   "source": [
    "tempSet1.isdisjoint(tempSet2)"
   ]
  },
  {
   "cell_type": "code",
   "execution_count": 218,
   "id": "a223102c-b751-4597-bf15-7cac5be4a30a",
   "metadata": {},
   "outputs": [
    {
     "data": {
      "text/plain": [
       "False"
      ]
     },
     "execution_count": 218,
     "metadata": {},
     "output_type": "execute_result"
    }
   ],
   "source": [
    "tempSet2.isdisjoint(tempSet1)"
   ]
  },
  {
   "cell_type": "markdown",
   "id": "60cb7774-5517-41be-81de-3d1e5ed0b2d8",
   "metadata": {},
   "source": [
    "25. Create a set of squares of numbers from 1 to 5."
   ]
  },
  {
   "cell_type": "code",
   "execution_count": 219,
   "id": "0d683e65-6c03-4f84-ae7a-bcf412f0f7a4",
   "metadata": {},
   "outputs": [
    {
     "data": {
      "text/plain": [
       "{1, 4, 9, 16, 25}"
      ]
     },
     "execution_count": 219,
     "metadata": {},
     "output_type": "execute_result"
    }
   ],
   "source": [
    "tempSet = set(i**2 for i in range(1, 6))\n",
    "\n",
    "tempSet"
   ]
  },
  {
   "cell_type": "markdown",
   "id": "29214792-8092-41c5-80af-6460f1f6ee7c",
   "metadata": {},
   "source": [
    "26. Filter out all even numbers from a set."
   ]
  },
  {
   "cell_type": "code",
   "execution_count": 222,
   "id": "a5714354-07d3-4046-90d3-62e7cf5fcbd7",
   "metadata": {},
   "outputs": [
    {
     "data": {
      "text/plain": [
       "{1, 9, 25}"
      ]
     },
     "execution_count": 222,
     "metadata": {},
     "output_type": "execute_result"
    }
   ],
   "source": [
    "evenSet = set()\n",
    "for i in tempSet:\n",
    "    if i % 2 == 0:\n",
    "        evenSet.add(i)\n",
    "        \n",
    "tempSet = tempSet.difference(evenSet)\n",
    "tempSet"
   ]
  },
  {
   "cell_type": "markdown",
   "id": "3475afda-b09f-4575-8f90-7fd499b59611",
   "metadata": {},
   "source": [
    "27. Multiply all elements in a set by 2."
   ]
  },
  {
   "cell_type": "code",
   "execution_count": 223,
   "id": "120acd48-f259-4e75-948d-2e717dacfc39",
   "metadata": {},
   "outputs": [
    {
     "data": {
      "text/plain": [
       "{1, 9, 25}"
      ]
     },
     "execution_count": 223,
     "metadata": {},
     "output_type": "execute_result"
    }
   ],
   "source": [
    "tempSet"
   ]
  },
  {
   "cell_type": "code",
   "execution_count": 224,
   "id": "d38824b2-40af-49b2-af29-6c015f2e4145",
   "metadata": {},
   "outputs": [
    {
     "data": {
      "text/plain": [
       "{2, 18, 50}"
      ]
     },
     "execution_count": 224,
     "metadata": {},
     "output_type": "execute_result"
    }
   ],
   "source": [
    "tempSet = set(i*2 for i in tempSet)\n",
    "tempSet"
   ]
  },
  {
   "cell_type": "markdown",
   "id": "61e1dfb7-43d0-4348-ae90-ba820683d949",
   "metadata": {},
   "source": [
    "28. Create a set of random numbers."
   ]
  },
  {
   "cell_type": "code",
   "execution_count": 226,
   "id": "e81358b1-a123-45d3-b507-7f950930f9f0",
   "metadata": {},
   "outputs": [
    {
     "data": {
      "text/plain": [
       "{0.039805681505490687,\n",
       " 0.5278180023747086,\n",
       " 0.643630308728019,\n",
       " 0.6589606998203524,\n",
       " 0.8366502159237}"
      ]
     },
     "execution_count": 226,
     "metadata": {},
     "output_type": "execute_result"
    }
   ],
   "source": [
    "tempSet = set(random.random() for i in range(5))\n",
    "tempSet"
   ]
  },
  {
   "cell_type": "markdown",
   "id": "46438f81-393b-47de-bc9e-bd4aa944b81f",
   "metadata": {},
   "source": [
    "29. Check if a set is empty."
   ]
  },
  {
   "cell_type": "code",
   "execution_count": 227,
   "id": "e8c70404-8d4b-4ef1-b127-84812dfaf533",
   "metadata": {},
   "outputs": [
    {
     "data": {
      "text/plain": [
       "False"
      ]
     },
     "execution_count": 227,
     "metadata": {},
     "output_type": "execute_result"
    }
   ],
   "source": [
    "len(tempSet) == 0"
   ]
  },
  {
   "cell_type": "markdown",
   "id": "8161d790-e556-46c4-9f8c-c6a1010e3294",
   "metadata": {},
   "source": [
    "30. Create a nested set (hint: use frozenset)."
   ]
  },
  {
   "cell_type": "code",
   "execution_count": 228,
   "id": "57c1b063-4651-4b10-9496-5855baa65934",
   "metadata": {},
   "outputs": [
    {
     "data": {
      "text/plain": [
       "frozenset({0.039805681505490687,\n",
       "           0.5278180023747086,\n",
       "           0.643630308728019,\n",
       "           0.6589606998203524,\n",
       "           0.8366502159237})"
      ]
     },
     "execution_count": 228,
     "metadata": {},
     "output_type": "execute_result"
    }
   ],
   "source": [
    "nestedSet = frozenset(tempSet)\n",
    "nestedSet"
   ]
  },
  {
   "cell_type": "markdown",
   "id": "fca979f3-e856-48d5-91c7-cffa29a4e9d5",
   "metadata": {},
   "source": [
    "31. Remove an element from a set using the discard method."
   ]
  },
  {
   "cell_type": "code",
   "execution_count": 231,
   "id": "ce13e609-8e4c-437e-9bf3-7dd6ac313b6a",
   "metadata": {},
   "outputs": [],
   "source": [
    "elementToDiscard = 0.5278180023747086"
   ]
  },
  {
   "cell_type": "code",
   "execution_count": 232,
   "id": "fd095015-0c24-4c0e-93c3-55796fd29e15",
   "metadata": {},
   "outputs": [],
   "source": [
    "tempSet.discard(elementToDiscard)"
   ]
  },
  {
   "cell_type": "code",
   "execution_count": 233,
   "id": "5bd7c919-ec3d-4b6c-ac46-4d2aacd894bf",
   "metadata": {},
   "outputs": [
    {
     "data": {
      "text/plain": [
       "{0.039805681505490687, 0.643630308728019, 0.6589606998203524, 0.8366502159237}"
      ]
     },
     "execution_count": 233,
     "metadata": {},
     "output_type": "execute_result"
    }
   ],
   "source": [
    "tempSet"
   ]
  },
  {
   "cell_type": "markdown",
   "id": "24708387-75eb-406e-a223-74eed0fe1504",
   "metadata": {},
   "source": [
    "32. Compare two sets."
   ]
  },
  {
   "cell_type": "code",
   "execution_count": 1,
   "id": "c78202de-2604-422d-a8f1-dd297e586028",
   "metadata": {},
   "outputs": [
    {
     "data": {
      "text/plain": [
       "{1, 2, 3}"
      ]
     },
     "execution_count": 1,
     "metadata": {},
     "output_type": "execute_result"
    }
   ],
   "source": [
    "tempSet1 = {1,2,3}\n",
    "tempSet1"
   ]
  },
  {
   "cell_type": "code",
   "execution_count": 2,
   "id": "68e84c56-ad42-4d1a-a8cf-a70f2edce9e5",
   "metadata": {},
   "outputs": [
    {
     "data": {
      "text/plain": [
       "{1, 2, 3}"
      ]
     },
     "execution_count": 2,
     "metadata": {},
     "output_type": "execute_result"
    }
   ],
   "source": [
    "tempSet2 = {1,2,3}\n",
    "tempSet2"
   ]
  },
  {
   "cell_type": "code",
   "execution_count": 3,
   "id": "cbd7cde2-a3de-49fa-ab53-7f4c363d7a61",
   "metadata": {},
   "outputs": [
    {
     "data": {
      "text/plain": [
       "True"
      ]
     },
     "execution_count": 3,
     "metadata": {},
     "output_type": "execute_result"
    }
   ],
   "source": [
    "tempSet1 == tempSet2"
   ]
  },
  {
   "cell_type": "markdown",
   "id": "7f9dd1b3-f8d7-4e1d-a88d-6520dd31e2f5",
   "metadata": {},
   "source": [
    "33. Create a set from a string."
   ]
  },
  {
   "cell_type": "code",
   "execution_count": 4,
   "id": "722384fe-cb1b-40b4-a84a-199040804a6f",
   "metadata": {},
   "outputs": [
    {
     "data": {
      "text/plain": [
       "'33. Create a set from a string.'"
      ]
     },
     "execution_count": 4,
     "metadata": {},
     "output_type": "execute_result"
    }
   ],
   "source": [
    "tempStr = \"33. Create a set from a string.\"\n",
    "tempStr"
   ]
  },
  {
   "cell_type": "code",
   "execution_count": 5,
   "id": "079ddf08-3464-4082-b81b-b670f40c7bf6",
   "metadata": {},
   "outputs": [
    {
     "data": {
      "text/plain": [
       "{'33.', 'Create', 'a', 'from', 'set', 'string.'}"
      ]
     },
     "execution_count": 5,
     "metadata": {},
     "output_type": "execute_result"
    }
   ],
   "source": [
    "tempSet = set(tempStr.split())\n",
    "tempSet"
   ]
  },
  {
   "cell_type": "markdown",
   "id": "8efefcde-e714-40c4-9645-f99cff5efcd9",
   "metadata": {},
   "source": [
    "34. Convert a set of strings to a set of integers."
   ]
  },
  {
   "cell_type": "code",
   "execution_count": 6,
   "id": "5ec1b164-83d5-4ebf-9c8b-15f7eefe0774",
   "metadata": {},
   "outputs": [
    {
     "data": {
      "text/plain": [
       "{'1', '2'}"
      ]
     },
     "execution_count": 6,
     "metadata": {},
     "output_type": "execute_result"
    }
   ],
   "source": [
    "tempStrSet = {'1','2'}\n",
    "tempStrSet"
   ]
  },
  {
   "cell_type": "code",
   "execution_count": 7,
   "id": "4e6f5c23-7f87-45e7-af5f-e6be541786f3",
   "metadata": {},
   "outputs": [
    {
     "data": {
      "text/plain": [
       "{1, 2}"
      ]
     },
     "execution_count": 7,
     "metadata": {},
     "output_type": "execute_result"
    }
   ],
   "source": [
    "tempIntSet = set(int(i) for i in tempStrSet)\n",
    "\n",
    "tempIntSet"
   ]
  },
  {
   "cell_type": "markdown",
   "id": "815ca9a1-d413-40c4-92c0-a0582c263ce4",
   "metadata": {},
   "source": [
    "35. Convert a set of integers to a set of strings."
   ]
  },
  {
   "cell_type": "code",
   "execution_count": 8,
   "id": "a2020a7e-fdb3-4785-87dc-dbcf0987052a",
   "metadata": {},
   "outputs": [
    {
     "data": {
      "text/plain": [
       "{'1', '2'}"
      ]
     },
     "execution_count": 8,
     "metadata": {},
     "output_type": "execute_result"
    }
   ],
   "source": [
    "tempStrSet = set(str(i) for i in tempIntSet)\n",
    "\n",
    "tempStrSet"
   ]
  },
  {
   "cell_type": "markdown",
   "id": "607a2807-3ce1-4e3a-8a8d-8fd2adef6a82",
   "metadata": {},
   "source": [
    "36. Create a set from a tuple."
   ]
  },
  {
   "cell_type": "code",
   "execution_count": 9,
   "id": "3eadd903-cc8e-4fd2-bded-9ee3bf10a3f5",
   "metadata": {},
   "outputs": [
    {
     "data": {
      "text/plain": [
       "(1, 2, 3, 3, 3, 4, 5)"
      ]
     },
     "execution_count": 9,
     "metadata": {},
     "output_type": "execute_result"
    }
   ],
   "source": [
    "tempTuple = (1,2,3,3,3,4,5)\n",
    "tempTuple"
   ]
  },
  {
   "cell_type": "code",
   "execution_count": 10,
   "id": "73f3c33f-eb9d-4d8f-9316-7ff303aee33c",
   "metadata": {},
   "outputs": [
    {
     "data": {
      "text/plain": [
       "{1, 2, 3, 4, 5}"
      ]
     },
     "execution_count": 10,
     "metadata": {},
     "output_type": "execute_result"
    }
   ],
   "source": [
    "tempSet = set(tempTuple)\n",
    "tempSet"
   ]
  },
  {
   "cell_type": "markdown",
   "id": "d523ac5b-857f-4087-bf34-656f184ec777",
   "metadata": {},
   "source": [
    "37. Convert a set to a tuple."
   ]
  },
  {
   "cell_type": "code",
   "execution_count": 11,
   "id": "f97651b2-90b9-4e6d-95a0-0974f2d133c8",
   "metadata": {},
   "outputs": [
    {
     "data": {
      "text/plain": [
       "(1, 2, 3, 4, 5)"
      ]
     },
     "execution_count": 11,
     "metadata": {},
     "output_type": "execute_result"
    }
   ],
   "source": [
    "tempTuple = tuple(tempSet)\n",
    "\n",
    "tempTuple"
   ]
  },
  {
   "cell_type": "markdown",
   "id": "e2501681-099e-4784-b635-9976d8c6b5be",
   "metadata": {},
   "source": [
    "38. Find the maximum value in a set."
   ]
  },
  {
   "cell_type": "code",
   "execution_count": 12,
   "id": "0f49e04c-248e-4c26-9ca6-546c8ab3e0b4",
   "metadata": {},
   "outputs": [
    {
     "data": {
      "text/plain": [
       "5"
      ]
     },
     "execution_count": 12,
     "metadata": {},
     "output_type": "execute_result"
    }
   ],
   "source": [
    "max(tempSet)"
   ]
  },
  {
   "cell_type": "markdown",
   "id": "d23cd055-111d-47d9-810f-48864d94c197",
   "metadata": {},
   "source": [
    "39. Find the minimum value in a set."
   ]
  },
  {
   "cell_type": "code",
   "execution_count": 13,
   "id": "ab677f17-23ea-4bbd-92b2-d56989cfc7fb",
   "metadata": {},
   "outputs": [
    {
     "data": {
      "text/plain": [
       "1"
      ]
     },
     "execution_count": 13,
     "metadata": {},
     "output_type": "execute_result"
    }
   ],
   "source": [
    "min(tempSet)"
   ]
  },
  {
   "cell_type": "markdown",
   "id": "683845c6-7b93-492b-87a3-ef61b12ea4b7",
   "metadata": {},
   "source": [
    "40. Create a set from user input."
   ]
  },
  {
   "cell_type": "code",
   "execution_count": 14,
   "id": "14cfe3e6-70da-4fcd-9517-2782c3fb018f",
   "metadata": {},
   "outputs": [
    {
     "name": "stdin",
     "output_type": "stream",
     "text": [
      "enter the input: 123444\n"
     ]
    },
    {
     "data": {
      "text/plain": [
       "{'1', '2', '3', '4'}"
      ]
     },
     "execution_count": 14,
     "metadata": {},
     "output_type": "execute_result"
    }
   ],
   "source": [
    "tempSet = set(input(\"enter the input:\"))\n",
    "tempSet"
   ]
  },
  {
   "cell_type": "markdown",
   "id": "eac67212-2ea6-4e07-ba79-44490787e6e6",
   "metadata": {},
   "source": [
    "41. Check if the intersection of two sets is empty."
   ]
  },
  {
   "cell_type": "code",
   "execution_count": 15,
   "id": "0f8f2f58-ce2a-4c94-bc3b-214324c200e7",
   "metadata": {},
   "outputs": [
    {
     "data": {
      "text/plain": [
       "{1, 2, 3, 4, 5}"
      ]
     },
     "execution_count": 15,
     "metadata": {},
     "output_type": "execute_result"
    }
   ],
   "source": [
    "tempSet1 = {1,2,3,4,5}\n",
    "tempSet1"
   ]
  },
  {
   "cell_type": "code",
   "execution_count": 16,
   "id": "2a5ec092-a781-4f65-b9d0-6cff69b27a1e",
   "metadata": {},
   "outputs": [
    {
     "data": {
      "text/plain": [
       "{3, 4, 5, 6, 7}"
      ]
     },
     "execution_count": 16,
     "metadata": {},
     "output_type": "execute_result"
    }
   ],
   "source": [
    "tempSet2 = {3,4,5,6,7}\n",
    "tempSet2"
   ]
  },
  {
   "cell_type": "code",
   "execution_count": 17,
   "id": "2a5312cd-35b1-4367-b01c-f1d980b3a9c6",
   "metadata": {},
   "outputs": [
    {
     "data": {
      "text/plain": [
       "{3, 4, 5}"
      ]
     },
     "execution_count": 17,
     "metadata": {},
     "output_type": "execute_result"
    }
   ],
   "source": [
    "tempSet1.intersection(tempSet2)"
   ]
  },
  {
   "cell_type": "markdown",
   "id": "0376eac9-2c20-45b9-adbb-0ef14850af02",
   "metadata": {},
   "source": [
    "42. Create a set of the first 5 Fibonacci numbers."
   ]
  },
  {
   "cell_type": "code",
   "execution_count": 18,
   "id": "d67d00b0-1588-4526-849c-39c5a654b39b",
   "metadata": {},
   "outputs": [],
   "source": [
    "n = 5"
   ]
  },
  {
   "cell_type": "code",
   "execution_count": 27,
   "id": "b79bd716-21ce-4c31-b668-6ddf468393f6",
   "metadata": {},
   "outputs": [
    {
     "data": {
      "text/plain": [
       "{0, 1, 2, 3, 5}"
      ]
     },
     "execution_count": 27,
     "metadata": {},
     "output_type": "execute_result"
    }
   ],
   "source": [
    "# init first two no.\n",
    "fibList = [0,1] # used list for indexing as set objects are not subscribtable\n",
    "\n",
    "while len(fibList) <= n:\n",
    "    nextFib = fibList[-1] + fibList[-2]\n",
    "    fibList.append(nextFib)\n",
    "    \n",
    "set(fibList)"
   ]
  },
  {
   "cell_type": "markdown",
   "id": "52538d1d-ec6a-408c-9ac8-2ce76a43f413",
   "metadata": {},
   "source": [
    "43. Remove duplicates from a list using sets."
   ]
  },
  {
   "cell_type": "code",
   "execution_count": 28,
   "id": "08e57fcc-5951-4994-8c32-f43f1a44586b",
   "metadata": {},
   "outputs": [
    {
     "data": {
      "text/plain": [
       "[1, 2, 2, 2, 2, 2, 3, 5]"
      ]
     },
     "execution_count": 28,
     "metadata": {},
     "output_type": "execute_result"
    }
   ],
   "source": [
    "tempList = [1,2,2,2,2,2,3,5]\n",
    "tempList"
   ]
  },
  {
   "cell_type": "code",
   "execution_count": 30,
   "id": "f5096a68-190b-49d0-b0fc-baacbc65cbfa",
   "metadata": {},
   "outputs": [
    {
     "data": {
      "text/plain": [
       "[1, 2, 3, 5]"
      ]
     },
     "execution_count": 30,
     "metadata": {},
     "output_type": "execute_result"
    }
   ],
   "source": [
    "list(set(tempList))"
   ]
  },
  {
   "cell_type": "markdown",
   "id": "ef155447-f2a1-468d-aa45-6a6c4696afbc",
   "metadata": {},
   "source": [
    "44. Check if two sets have the same elements, regardless of their count."
   ]
  },
  {
   "cell_type": "code",
   "execution_count": 31,
   "id": "84030818-fb64-4500-85d5-e35a53263edd",
   "metadata": {},
   "outputs": [
    {
     "data": {
      "text/plain": [
       "{1, 2, 3, 4, 5}"
      ]
     },
     "execution_count": 31,
     "metadata": {},
     "output_type": "execute_result"
    }
   ],
   "source": [
    "tempSet1"
   ]
  },
  {
   "cell_type": "code",
   "execution_count": 32,
   "id": "ce950ec9-829e-44dd-9c7b-f5e1dc5c0bf3",
   "metadata": {},
   "outputs": [],
   "source": [
    "tempSet2 = {1,2,3,4,5}"
   ]
  },
  {
   "cell_type": "code",
   "execution_count": 36,
   "id": "bffd188f-3902-4064-9f6f-e3a2c2d52c18",
   "metadata": {},
   "outputs": [
    {
     "data": {
      "text/plain": [
       "True"
      ]
     },
     "execution_count": 36,
     "metadata": {},
     "output_type": "execute_result"
    }
   ],
   "source": [
    "tempSet1 == tempSet2"
   ]
  },
  {
   "cell_type": "markdown",
   "id": "8c4bcc3c-672f-4e99-b064-3dd72ad0c01f",
   "metadata": {},
   "source": [
    "45. Create a set of the first `n` powers of 2."
   ]
  },
  {
   "cell_type": "code",
   "execution_count": 38,
   "id": "da4fda9f-6f81-45b3-b9e5-f5bc616d9e61",
   "metadata": {},
   "outputs": [
    {
     "data": {
      "text/plain": [
       "{1, 4, 9, 16, 25, 36, 49, 64, 81, 100}"
      ]
     },
     "execution_count": 38,
     "metadata": {},
     "output_type": "execute_result"
    }
   ],
   "source": [
    "n = 10\n",
    "tempSet = set(i**2 for i in range(1,n+1))\n",
    "tempSet"
   ]
  },
  {
   "cell_type": "markdown",
   "id": "1324b507-ccbd-46aa-babc-a32217793eab",
   "metadata": {},
   "source": [
    "46. Find the common elements between a set and a list."
   ]
  },
  {
   "cell_type": "code",
   "execution_count": 39,
   "id": "0705c920-9a26-4960-977d-c2f17354ce2c",
   "metadata": {},
   "outputs": [
    {
     "data": {
      "text/plain": [
       "{1, 2, 3, 4, 5}"
      ]
     },
     "execution_count": 39,
     "metadata": {},
     "output_type": "execute_result"
    }
   ],
   "source": [
    "tempSet1"
   ]
  },
  {
   "cell_type": "code",
   "execution_count": 40,
   "id": "67040fd7-565f-40bd-beff-253d8b21588c",
   "metadata": {},
   "outputs": [],
   "source": [
    "tempList = [2,3,6,7,7]"
   ]
  },
  {
   "cell_type": "code",
   "execution_count": 41,
   "id": "61637290-a84d-4636-b3ac-0020d280b79e",
   "metadata": {},
   "outputs": [
    {
     "data": {
      "text/plain": [
       "{2, 3}"
      ]
     },
     "execution_count": 41,
     "metadata": {},
     "output_type": "execute_result"
    }
   ],
   "source": [
    "tempSet1.intersection(tempList)"
   ]
  },
  {
   "cell_type": "markdown",
   "id": "d392c649-2085-41d2-95ca-e2131e7ba0a6",
   "metadata": {},
   "source": [
    "47. Create a set of the first `n` triangular numbers."
   ]
  },
  {
   "cell_type": "code",
   "execution_count": 47,
   "id": "36dbb52e-cd3a-4a65-b3bb-c17102688518",
   "metadata": {},
   "outputs": [
    {
     "name": "stdout",
     "output_type": "stream",
     "text": [
      "{1, 3, 36, 6, 10, 45, 15, 21, 55, 28}\n"
     ]
    }
   ],
   "source": [
    "n = 10  \n",
    "\n",
    "triangular_numbers = set()\n",
    "for i in range(1, n+1):\n",
    "    triangular_numbers.add((i * (i + 1)) // 2)\n",
    "print(triangular_numbers)"
   ]
  },
  {
   "cell_type": "markdown",
   "id": "c885e3bc-3c8b-4f68-9920-ab98c824f33b",
   "metadata": {},
   "source": [
    "48. Check if a set contains another set as a subset."
   ]
  },
  {
   "cell_type": "code",
   "execution_count": 43,
   "id": "9b6ead01-db4e-4a77-a043-704c9c17c699",
   "metadata": {},
   "outputs": [
    {
     "data": {
      "text/plain": [
       "{1, 2, 3, 4, 5}"
      ]
     },
     "execution_count": 43,
     "metadata": {},
     "output_type": "execute_result"
    }
   ],
   "source": [
    "tempSet1"
   ]
  },
  {
   "cell_type": "code",
   "execution_count": 44,
   "id": "427f63bf-f18a-4d8d-9c7d-1e828b106eb4",
   "metadata": {},
   "outputs": [
    {
     "data": {
      "text/plain": [
       "{2, 3}"
      ]
     },
     "execution_count": 44,
     "metadata": {},
     "output_type": "execute_result"
    }
   ],
   "source": [
    "tempSet2 ={2,3}\n",
    "tempSet2"
   ]
  },
  {
   "cell_type": "code",
   "execution_count": 45,
   "id": "0ac3af7f-cfca-4342-93e0-c17a7d848063",
   "metadata": {},
   "outputs": [
    {
     "data": {
      "text/plain": [
       "True"
      ]
     },
     "execution_count": 45,
     "metadata": {},
     "output_type": "execute_result"
    }
   ],
   "source": [
    "tempSet2.issubset(tempSet1)"
   ]
  },
  {
   "cell_type": "code",
   "execution_count": 46,
   "id": "1b4ec329-c9d6-4f78-b5fc-2f2426271fb7",
   "metadata": {},
   "outputs": [
    {
     "data": {
      "text/plain": [
       "False"
      ]
     },
     "execution_count": 46,
     "metadata": {},
     "output_type": "execute_result"
    }
   ],
   "source": [
    "tempSet1.issubset(tempSet2)"
   ]
  },
  {
   "cell_type": "markdown",
   "id": "7362b955-6793-43ca-8e09-d3dd05540752",
   "metadata": {},
   "source": [
    "49. Create a set of alternating 1s and 0s of length `n`."
   ]
  },
  {
   "cell_type": "code",
   "execution_count": 49,
   "id": "354f265e-2ee5-4fb2-b71a-797bcf7c6cc2",
   "metadata": {},
   "outputs": [],
   "source": [
    "import random"
   ]
  },
  {
   "cell_type": "code",
   "execution_count": 48,
   "id": "2b8d3154-eaf4-4a0e-ab1c-bf7020283f40",
   "metadata": {},
   "outputs": [],
   "source": [
    "n = 10"
   ]
  },
  {
   "cell_type": "code",
   "execution_count": 50,
   "id": "3783dc61-c5a2-42a2-965b-5cfa1f55dc47",
   "metadata": {},
   "outputs": [
    {
     "name": "stdout",
     "output_type": "stream",
     "text": [
      "{0, 1}\n"
     ]
    }
   ],
   "source": [
    "tempSet = set()\n",
    "\n",
    "for i in range(n):\n",
    "    tempSet.add(random.randrange(0,2))\n",
    "    \n",
    "print(tempSet)"
   ]
  },
  {
   "cell_type": "code",
   "execution_count": 51,
   "id": "d436859d-67b5-4a98-942e-0ec2e9d5aac3",
   "metadata": {},
   "outputs": [],
   "source": [
    "# explanation: as its a set, if the element are same it will consider it only one time so for alternative one and zero, it will store only a one and a zero"
   ]
  },
  {
   "cell_type": "markdown",
   "id": "5829ec35-62b6-447f-adbd-6fd68ada8169",
   "metadata": {},
   "source": [
    "50. Merge multiple sets into one."
   ]
  },
  {
   "cell_type": "code",
   "execution_count": 52,
   "id": "37841584-3c58-4757-badf-e4479b39bea2",
   "metadata": {},
   "outputs": [
    {
     "data": {
      "text/plain": [
       "{1, 2, 3, 4, 5}"
      ]
     },
     "execution_count": 52,
     "metadata": {},
     "output_type": "execute_result"
    }
   ],
   "source": [
    "tempSet1"
   ]
  },
  {
   "cell_type": "code",
   "execution_count": 55,
   "id": "102929a0-01c0-4d1a-a7a2-899f90c506e7",
   "metadata": {},
   "outputs": [
    {
     "data": {
      "text/plain": [
       "{5, 6, 7, 8}"
      ]
     },
     "execution_count": 55,
     "metadata": {},
     "output_type": "execute_result"
    }
   ],
   "source": [
    "tempSet2 = {5,6,7,8}\n",
    "tempSet2"
   ]
  },
  {
   "cell_type": "code",
   "execution_count": 57,
   "id": "91488809-2776-4e26-8fe1-316bdc5eda35",
   "metadata": {},
   "outputs": [
    {
     "data": {
      "text/plain": [
       "{1, 2, 3, 4, 5, 6, 7, 8}"
      ]
     },
     "execution_count": 57,
     "metadata": {},
     "output_type": "execute_result"
    }
   ],
   "source": [
    "tempSet1.union(tempSet2)"
   ]
  },
  {
   "cell_type": "code",
   "execution_count": null,
   "id": "3aa0ea6a-77e9-48dc-ae0d-45b94df5dd40",
   "metadata": {},
   "outputs": [],
   "source": []
  }
 ],
 "metadata": {
  "kernelspec": {
   "display_name": "Python 3 (ipykernel)",
   "language": "python",
   "name": "python3"
  },
  "language_info": {
   "codemirror_mode": {
    "name": "ipython",
    "version": 3
   },
   "file_extension": ".py",
   "mimetype": "text/x-python",
   "name": "python",
   "nbconvert_exporter": "python",
   "pygments_lexer": "ipython3",
   "version": "3.10.8"
  }
 },
 "nbformat": 4,
 "nbformat_minor": 5
}
